{
 "cells": [
  {
   "cell_type": "markdown",
   "metadata": {},
   "source": [
    "# Camera Calibration"
   ]
  },
  {
   "cell_type": "code",
   "execution_count": 363,
   "metadata": {},
   "outputs": [],
   "source": [
    "import numpy as np\n",
    "import cv2\n",
    "import glob\n",
    "\n",
    "# termination criteria\n",
    "criteria = (cv2.TERM_CRITERIA_EPS + cv2.TERM_CRITERIA_MAX_ITER, 30, 0.001)\n",
    "\n",
    "# prepare object points, like (0,0,0), (1,0,0), (2,0,0) ....,(6,5,0)\n",
    "objp = np.zeros((6*7,3), np.float32)\n",
    "objp[:,:2] = np.mgrid[0:7,0:6].T.reshape(-1,2)\n",
    "\n",
    "# Arrays to store object points and image points from all the images.\n",
    "objpoints = [] # 3d point in real world space\n",
    "imgpoints = [] # 2d points in image plane.\n",
    "\n",
    "images = glob.glob('*.jpg')\n",
    "\n",
    "for fname in images:\n",
    "    img = cv2.imread(fname)\n",
    "    gray = cv2.cvtColor(img,cv2.COLOR_BGR2GRAY)\n",
    "\n",
    "    # Find the chess board corners\n",
    "    ret, corners = cv2.findChessboardCorners(gray, (7,6),None)\n",
    "\n",
    "    # If found, add object points, image points (after refining them)\n",
    "    if ret == True:\n",
    "        objpoints.append(objp)\n",
    "\n",
    "        corners2 = cv2.cornerSubPix(gray,corners,(11,11),(-1,-1),criteria)\n",
    "        imgpoints.append(corners2)\n",
    "\n",
    "        # Draw and display the corners\n",
    "        #img = cv2.drawChessboardCorners(img, (7,6), corners2,ret)\n",
    "        #cv2.imshow('img',img)\n",
    "        #cv2.waitKey(500)"
   ]
  },
  {
   "cell_type": "code",
   "execution_count": 364,
   "metadata": {},
   "outputs": [],
   "source": [
    "#cv2.destroyAllWindows()"
   ]
  },
  {
   "cell_type": "code",
   "execution_count": 366,
   "metadata": {},
   "outputs": [],
   "source": [
    "ret, mtx, dist, rvecs, tvecs = cv2.calibrateCamera(objpoints, imgpoints, gray.shape[::-1],None,None)"
   ]
  },
  {
   "cell_type": "code",
   "execution_count": 38,
   "metadata": {},
   "outputs": [
    {
     "name": "stdout",
     "output_type": "stream",
     "text": [
      "0.15536906910078757\n",
      "[[534.07088364   0.         341.53407554]\n",
      " [  0.         534.11914595 232.94565259]\n",
      " [  0.           0.           1.        ]]\n",
      "[[-2.92971637e-01  1.07706962e-01  1.31038376e-03 -3.11018780e-05\n",
      "   4.34798110e-02]]\n",
      "[array([[-0.45883216],\n",
      "       [-0.08848877],\n",
      "       [-1.33510786]]), array([[-0.17288944],\n",
      "       [-0.46764681],\n",
      "       [ 1.34745198]]), array([[-0.43239599],\n",
      "       [ 0.25603401],\n",
      "       [-3.08832021]]), array([[-0.2645143 ],\n",
      "       [-0.39360849],\n",
      "       [-2.74787379]]), array([[ 0.41531697],\n",
      "       [ 0.65664497],\n",
      "       [-1.3373494 ]]), array([[-0.35367631],\n",
      "       [-0.24363035],\n",
      "       [-1.56874295]]), array([[-0.29979221],\n",
      "       [ 0.39216377],\n",
      "       [-1.4348239 ]]), array([[-0.32034625],\n",
      "       [ 0.1597993 ],\n",
      "       [-1.24149595]]), array([[ 0.30697385],\n",
      "       [ 0.5038552 ],\n",
      "       [-1.82824733]]), array([[-0.45993978],\n",
      "       [-0.3142018 ],\n",
      "       [-1.76122223]]), array([[-0.37843358],\n",
      "       [-0.18064237],\n",
      "       [-3.11615996]])]\n",
      "[array([[-3.27916485],\n",
      "       [ 2.15811689],\n",
      "       [11.72833343]]), array([[ 1.81888151],\n",
      "       [-4.2642919 ],\n",
      "       [12.45728517]]), array([[ 3.79739146],\n",
      "       [ 0.89895018],\n",
      "       [14.8593055 ]]), array([[3.03685642],\n",
      "       [2.74656588],\n",
      "       [9.90005138]]), array([[-2.12419184],\n",
      "       [ 1.84550818],\n",
      "       [12.81229187]]), array([[-2.89985494],\n",
      "       [ 2.62066993],\n",
      "       [10.57699258]]), array([[ 1.60364763],\n",
      "       [ 3.81296375],\n",
      "       [16.12054474]]), array([[-5.94286695],\n",
      "       [ 2.39629427],\n",
      "       [16.77859026]]), array([[-1.22339632],\n",
      "       [ 3.52139948],\n",
      "       [15.67311789]]), array([[-1.13991523],\n",
      "       [ 2.67424464],\n",
      "       [ 9.56289277]]), array([[ 2.82321756],\n",
      "       [ 2.22374307],\n",
      "       [10.95762951]])]\n"
     ]
    }
   ],
   "source": [
    "print (ret)\n",
    "print (mtx)\n",
    "print (dist)\n",
    "print (rvecs)\n",
    "print (tvecs)"
   ]
  },
  {
   "cell_type": "code",
   "execution_count": 365,
   "metadata": {},
   "outputs": [],
   "source": [
    "img = cv2.imread('left12.jpg')\n",
    "h,  w = img.shape[:2]\n",
    "newcameramtx, roi=cv2.getOptimalNewCameraMatrix(mtx,dist,(w,h),1,(w,h))"
   ]
  },
  {
   "cell_type": "code",
   "execution_count": 367,
   "metadata": {},
   "outputs": [
    {
     "data": {
      "text/plain": [
       "True"
      ]
     },
     "execution_count": 367,
     "metadata": {},
     "output_type": "execute_result"
    }
   ],
   "source": [
    "# undistort (first method)\n",
    "dst = cv2.undistort(img, mtx, dist, None, newcameramtx)\n",
    "\n",
    "# crop the image\n",
    "x,y,w,h = roi\n",
    "dst = dst[y:y+h, x:x+w]\n",
    "cv2.imwrite('calibresult.png',dst)"
   ]
  },
  {
   "cell_type": "code",
   "execution_count": 6,
   "metadata": {},
   "outputs": [
    {
     "data": {
      "text/plain": [
       "True"
      ]
     },
     "execution_count": 6,
     "metadata": {},
     "output_type": "execute_result"
    }
   ],
   "source": [
    "# undistort (second method)\n",
    "mapx,mapy = cv2.initUndistortRectifyMap(mtx,dist,None,newcameramtx,(w,h),5)\n",
    "dst = cv2.remap(img,mapx,mapy,cv2.INTER_LINEAR)\n",
    "\n",
    "# crop the image\n",
    "x,y,w,h = roi\n",
    "dst = dst[y:y+h, x:x+w]\n",
    "cv2.imwrite('calibresult.png',dst)"
   ]
  },
  {
   "cell_type": "code",
   "execution_count": 368,
   "metadata": {},
   "outputs": [
    {
     "name": "stdout",
     "output_type": "stream",
     "text": [
      "total error:  0.023686000375385673\n"
     ]
    }
   ],
   "source": [
    "mean_error = 0\n",
    "for i in range(len(objpoints)):\n",
    "    imgpoints2, _ = cv2.projectPoints(objpoints[i], rvecs[i], tvecs[i], mtx, dist)\n",
    "    error = cv2.norm(imgpoints[i],imgpoints2, cv2.NORM_L2)/len(imgpoints2)\n",
    "    mean_error += error\n",
    "\n",
    "print (\"total error: \", mean_error/len(objpoints))"
   ]
  },
  {
   "cell_type": "markdown",
   "metadata": {},
   "source": [
    "# Stamp Perspective Wraping"
   ]
  },
  {
   "cell_type": "code",
   "execution_count": 212,
   "metadata": {},
   "outputs": [],
   "source": [
    "import glob\n",
    "from skimage import exposure\n",
    "import matplotlib.pyplot as plt\n",
    "import numpy as np\n",
    "import argparse\n",
    "import imutils\n",
    "import cv2\n",
    "from scipy.spatial import distance\n",
    "%matplotlib inline"
   ]
  },
  {
   "cell_type": "code",
   "execution_count": 369,
   "metadata": {},
   "outputs": [],
   "source": [
    "images = glob.glob('images/*.jpeg')"
   ]
  },
  {
   "cell_type": "code",
   "execution_count": 371,
   "metadata": {},
   "outputs": [
    {
     "data": {
      "text/plain": [
       "27"
      ]
     },
     "execution_count": 371,
     "metadata": {},
     "output_type": "execute_result"
    }
   ],
   "source": [
    "# load the query image, compute the ratio of the old height to the new height (will be used in latter plots), \n",
    "# clone it, and resize it\n",
    "image = cv2.imread(images[1])\n",
    "ratio = image.shape[0] / 300.0\n",
    "orig = image.copy()\n",
    "image = imutils.resize(image, height = 300)\n",
    " \n",
    "# convert the image to grayscale, blur it, and find edges\n",
    "gray = cv2.cvtColor(image, cv2.COLOR_BGR2GRAY)\n",
    "gray = cv2.bilateralFilter(gray, 11, 17, 17)\n",
    "edged = cv2.Canny(gray, 30, 200)\n",
    "cv2.imshow(\"Stamp\", edged)\n",
    "cv2.waitKey(0)"
   ]
  },
  {
   "cell_type": "code",
   "execution_count": 372,
   "metadata": {},
   "outputs": [
    {
     "data": {
      "text/plain": [
       "<function destroyWindow>"
      ]
     },
     "execution_count": 372,
     "metadata": {},
     "output_type": "execute_result"
    }
   ],
   "source": [
    "cv2.destroyWindow"
   ]
  },
  {
   "cell_type": "code",
   "execution_count": 373,
   "metadata": {},
   "outputs": [],
   "source": [
    "# find contours in the edged image, keep only the largest ones, and initialize stamp contour\n",
    "cnts = cv2.findContours(edged.copy(), cv2.RETR_TREE, cv2.CHAIN_APPROX_SIMPLE)\n",
    "cnts = imutils.grab_contours(cnts)\n",
    "cnts = sorted(cnts, key = cv2.contourArea, reverse = True)[:10]\n",
    "stampCnt = None\n",
    "\n",
    "# loop over contours\n",
    "for c in cnts:\n",
    "\t# approximate the contour\n",
    "\tperi = cv2.arcLength(c, True)\n",
    "\tapprox = cv2.approxPolyDP(c, 0.015 * peri, True)\n",
    " \n",
    "\t# if our approximated contour has six points, then\n",
    "\t# we can assume that we have found the stamp\n",
    "\tif len(approx) == 6:\n",
    "\t\tstampCnt = approx\n",
    "\t\tbreak"
   ]
  },
  {
   "cell_type": "code",
   "execution_count": 374,
   "metadata": {
    "scrolled": true
   },
   "outputs": [
    {
     "data": {
      "text/plain": [
       "27"
      ]
     },
     "execution_count": 374,
     "metadata": {},
     "output_type": "execute_result"
    }
   ],
   "source": [
    "cv2.drawContours(image, [stampCnt], -1, (0, 255, 0), 3)\n",
    "cv2.imshow(\"Stamp\", image)\n",
    "cv2.waitKey(0)"
   ]
  },
  {
   "cell_type": "code",
   "execution_count": 375,
   "metadata": {},
   "outputs": [
    {
     "data": {
      "text/plain": [
       "<function destroyWindow>"
      ]
     },
     "execution_count": 375,
     "metadata": {},
     "output_type": "execute_result"
    }
   ],
   "source": [
    "cv2.destroyWindow"
   ]
  },
  {
   "cell_type": "code",
   "execution_count": 377,
   "metadata": {},
   "outputs": [],
   "source": [
    "# now that we have our stamp contour, we need to determine\n",
    "# the top-left, top-right, bottom-right, and bottom-left\n",
    "# points so that we can later warp the image -- we'll start\n",
    "# by reshaping our contour to be our finals and initializing\n",
    "# our output rectangle in top-left, top-right, bottom-right,\n",
    "# and bottom-left order\n",
    "pts = stampCnt.reshape(6, 2)\n",
    "rect = np.zeros((4, 2), dtype = \"float32\")\n",
    "origrect = np.zeros((4, 2), dtype = \"float32\")\n",
    "# the top-left point has the smallest sum whereas the\n",
    "# bottom-right has the largest sum\n",
    "s = pts.sum(axis = 1)\n",
    "rect[0] = pts[np.argmin(s)]\n",
    "rect[2] = pts[np.argmax(s)]\n",
    "origrect[0] = rect[0]\n",
    "origrect[2] = rect[2]\n",
    "\n",
    "# compute the difference between the points -- the top-right\n",
    "# will have the minumum difference and the bottom-left will\n",
    "# have the maximum difference\n",
    "diff = np.diff(pts, axis = 1)\n",
    "rect[1] = pts[np.argmin(diff)]\n",
    "rect[3] = pts[np.argmax(diff)]\n",
    "origrect[1] = rect[1]\n",
    "origrect[3] = rect[3]\n",
    "\n",
    "# multiply the rectangle by the original ratio\n",
    "rect *= ratio"
   ]
  },
  {
   "cell_type": "code",
   "execution_count": 326,
   "metadata": {},
   "outputs": [],
   "source": [
    "def closest_node(node, nodes):\n",
    "    closest_index = distance.cdist([node], nodes).argmin()\n",
    "    return nodes[closest_index]"
   ]
  },
  {
   "cell_type": "code",
   "execution_count": 340,
   "metadata": {},
   "outputs": [],
   "source": [
    "nodeslist = []\n",
    "for n in pts:\n",
    "    if n[0] != origrect[0][0] and n[1] != origrect[0][1]:\n",
    "        nodeslist.append(n)\n",
    "\n",
    "p1 = closest_node(origrect[0], nodeslist)\n",
    "\n",
    "nodeslist = []\n",
    "for n in pts:\n",
    "    if n[0] != origrect[1][0] and n[1] != origrect[1][1]:\n",
    "        nodeslist.append(n)\n",
    "p2 = closest_node(origrect[1], nodeslist)\n",
    "\n",
    "nodeslist = []\n",
    "for n in pts:\n",
    "    if n[0] != origrect[2][0] and n[1] != origrect[2][1]:\n",
    "        nodeslist.append(n)\n",
    "p3 = closest_node(origrect[2], nodeslist)\n",
    "\n",
    "nodeslist = []\n",
    "for n in pts:\n",
    "    if n[0] != origrect[3][0] and n[1] != origrect[3][1]:\n",
    "        nodeslist.append(n)\n",
    "p4 = closest_node(origrect[3], nodeslist)"
   ]
  },
  {
   "cell_type": "code",
   "execution_count": 354,
   "metadata": {},
   "outputs": [],
   "source": [
    "if p1 not in origrect and p4 not in origrect:\n",
    "    rotation = 0\n",
    "\n",
    "elif p2 not in origrect and p1 not in origrect:\n",
    "    rotation = 90\n",
    "\n",
    "elif p3 not in origrect and p2 not in origrect:\n",
    "    rotation = 180\n",
    "\n",
    "elif p4 not in origrect and p3 not in origrect:\n",
    "    rotation = -90"
   ]
  },
  {
   "cell_type": "code",
   "execution_count": 358,
   "metadata": {},
   "outputs": [],
   "source": [
    "# now that we have our rectangle of points, let's compute\n",
    "# the width of our new image\n",
    "(tl, tr, br, bl) = rect\n",
    "widthA = np.sqrt(((br[0] - bl[0]) ** 2) + ((br[1] - bl[1]) ** 2))\n",
    "widthB = np.sqrt(((tr[0] - tl[0]) ** 2) + ((tr[1] - tl[1]) ** 2))\n",
    " \n",
    "# and now for the height of our new image\n",
    "heightA = np.sqrt(((tr[0] - br[0]) ** 2) + ((tr[1] - br[1]) ** 2))\n",
    "heightB = np.sqrt(((tl[0] - bl[0]) ** 2) + ((tl[1] - bl[1]) ** 2))\n",
    " \n",
    "# take the maximum of the width and height values to reach\n",
    "# our final dimensions\n",
    "maxWidth = max(int(widthA), int(widthB))\n",
    "maxHeight = max(int(heightA), int(heightB))\n",
    " \n",
    "# construct our destination points which will be used to\n",
    "# map the stamp to a top-down, \"birds eye\" view\n",
    "dst = np.array([\n",
    "    [0, 0],\n",
    "    [maxWidth - 1, 0],\n",
    "    [maxWidth - 1, maxHeight - 1],\n",
    "    [0, maxHeight - 1]], dtype = \"float32\")\n",
    " \n",
    "# calculate the perspective transform matrix and warp\n",
    "# the perspective to grab the stamp\n",
    "M = cv2.getPerspectiveTransform(rect, dst)\n",
    "warp = cv2.warpPerspective(orig, M, (maxWidth, maxHeight))"
   ]
  },
  {
   "cell_type": "code",
   "execution_count": 360,
   "metadata": {},
   "outputs": [],
   "source": [
    "def rotate(image, angle, center=None, scale=1.0):\n",
    "\n",
    "    (h, w) = image.shape[:2]\n",
    "\n",
    "    if center is None:\n",
    "        center = (w / 2, h / 2)\n",
    "\n",
    "    M = cv2.getRotationMatrix2D(center, angle, scale)\n",
    "    rotated = cv2.warpAffine(image, M, (w, h))\n",
    "\n",
    "    return rotated"
   ]
  },
  {
   "cell_type": "code",
   "execution_count": 380,
   "metadata": {},
   "outputs": [
    {
     "data": {
      "text/plain": [
       "27"
      ]
     },
     "execution_count": 380,
     "metadata": {},
     "output_type": "execute_result"
    }
   ],
   "source": [
    "rotated = rotate(warp, rotation)\n",
    "cv2.imshow(\"stamp\", rotated)\n",
    "cv2.waitKey(0)"
   ]
  },
  {
   "cell_type": "code",
   "execution_count": 381,
   "metadata": {},
   "outputs": [
    {
     "data": {
      "text/plain": [
       "<function destroyWindow>"
      ]
     },
     "execution_count": 381,
     "metadata": {},
     "output_type": "execute_result"
    }
   ],
   "source": [
    "cv2.destroyWindow"
   ]
  },
  {
   "cell_type": "code",
   "execution_count": 378,
   "metadata": {},
   "outputs": [
    {
     "data": {
      "text/plain": [
       "27"
      ]
     },
     "execution_count": 378,
     "metadata": {},
     "output_type": "execute_result"
    }
   ],
   "source": [
    "cv2.imshow(\"stamp\", warp)\n",
    "cv2.waitKey(0)"
   ]
  }
 ],
 "metadata": {
  "kernelspec": {
   "display_name": "cv",
   "language": "python",
   "name": "cv"
  },
  "language_info": {
   "codemirror_mode": {
    "name": "ipython",
    "version": 3
   },
   "file_extension": ".py",
   "mimetype": "text/x-python",
   "name": "python",
   "nbconvert_exporter": "python",
   "pygments_lexer": "ipython3",
   "version": "3.7.0"
  }
 },
 "nbformat": 4,
 "nbformat_minor": 2
}
