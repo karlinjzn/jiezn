{
 "cells": [
  {
   "cell_type": "code",
   "execution_count": 1,
   "metadata": {
    "collapsed": false,
    "scrolled": true
   },
   "outputs": [],
   "source": [
    "import re\n",
    "import nltk\n",
    "from collections import Counter\n",
    "from nltk.corpus import stopwords\n",
    "from nltk.tokenize import wordpunct_tokenize\n",
    "from __future__ import division\n",
    "from nltk.corpus import inaugural\n",
    "import numpy as np\n",
    "#import pandas as pd\n",
    "import operator\n",
    "from sklearn.preprocessing import normalize\n",
    "import plotly\n",
    "plotly.tools.set_credentials_file(username='karlinjzn', api_key='KaiNcWK0oQ994SUKEiSo')\n",
    "\n",
    "import plotly.plotly as py\n",
    "import plotly.graph_objs as go\n",
    "#from readability_score.calculators.fleschkincaid import *\n",
    "#from readability_score.calculators.dalechall import *\n",
    "\n",
    "#from __future__ import print_function\n",
    "\n",
    "%matplotlib inline"
   ]
  },
  {
   "cell_type": "code",
   "execution_count": 2,
   "metadata": {
    "collapsed": false
   },
   "outputs": [],
   "source": [
    "import os  \n",
    "from nltk.parse import stanford  \n",
    "  \n",
    "#添加stanford环境变量,此处需要手动修改，jar包地址为绝对地址。  \n",
    "os.environ['STANFORD_PARSER'] = '/Users/zhuonijie/Desktop/stanford-parser-full-2018-02-27/stanford-parser.jar'  \n",
    "os.environ['STANFORD_MODELS'] = '/Users/zhuonijie/Desktop/stanford-parser-full-2018-02-27/stanford-parser-3.9.1-models.jar'  \n",
    "  \n",
    "  \n",
    "#为JAVAHOME添加环境变量  \n",
    "java_path = \"/Library/Java/JavaVirtualMachines/jdk1.8.0_112.jdk/Contents/Home/bin/java.exe\"  \n",
    "os.environ['JAVAHOME'] = java_path  "
   ]
  },
  {
   "cell_type": "code",
   "execution_count": 6,
   "metadata": {
    "collapsed": false,
    "scrolled": true
   },
   "outputs": [
    {
     "name": "stdout",
     "output_type": "stream",
     "text": [
      "((u'fox', u'NN'), u'det', (u'the', u'DT'))\n",
      "((u'fox', u'NN'), u'amod', (u'quick', u'JJ'))\n",
      "((u'fox', u'NN'), u'amod', (u'brown', u'JJ'))\n",
      "((u'fox', u'NN'), u'dep', (u'jumps', u'NNS'))\n",
      "((u'jumps', u'NNS'), u'nmod', (u'dog', u'NN'))\n",
      "((u'dog', u'NN'), u'case', (u'over', u'IN'))\n",
      "((u'dog', u'NN'), u'det', (u'the', u'DT'))\n",
      "((u'dog', u'NN'), u'amod', (u'lazy', u'JJ'))\n"
     ]
    }
   ],
   "source": [
    "from nltk.parse.stanford import StanfordDependencyParser\n",
    "\n",
    "eng_parser = StanfordDependencyParser(model_path=u'edu/stanford/nlp/models/lexparser/englishPCFG.ser.gz')\n",
    "res = list(eng_parser.parse(\"the quick brown fox jumps over the lazy dog\".split()))\n",
    "for row in res[0].triples():\n",
    "    print row"
   ]
  },
  {
   "cell_type": "markdown",
   "metadata": {},
   "source": [
    "# Function word frequency"
   ]
  },
  {
   "cell_type": "code",
   "execution_count": 2,
   "metadata": {
    "collapsed": false
   },
   "outputs": [],
   "source": [
    "with open(\"fwlist.txt\",'rU') as f:\n",
    "    content = f.readlines()\n",
    "\n",
    "fwlist = [x.strip() for x in content] "
   ]
  },
  {
   "cell_type": "code",
   "execution_count": 3,
   "metadata": {
    "collapsed": false
   },
   "outputs": [
    {
     "data": {
      "text/plain": [
       "['a',\n",
       " 'about',\n",
       " 'above',\n",
       " 'across',\n",
       " 'after',\n",
       " 'afterwards',\n",
       " 'again',\n",
       " 'against',\n",
       " 'all',\n",
       " 'almost',\n",
       " 'alone',\n",
       " 'along',\n",
       " 'already',\n",
       " 'also',\n",
       " 'although',\n",
       " 'always',\n",
       " 'am',\n",
       " 'among',\n",
       " 'amongst',\n",
       " 'amoungst',\n",
       " 'an',\n",
       " 'and',\n",
       " 'another',\n",
       " 'any',\n",
       " 'anyhow',\n",
       " 'anyone',\n",
       " 'anything',\n",
       " 'anyway',\n",
       " 'anywhere',\n",
       " 'are',\n",
       " 'around',\n",
       " 'as',\n",
       " 'at',\n",
       " 'be',\n",
       " 'became',\n",
       " 'because',\n",
       " 'been',\n",
       " 'before',\n",
       " 'beforehand',\n",
       " 'behind',\n",
       " 'being',\n",
       " 'below',\n",
       " 'beside',\n",
       " 'besides',\n",
       " 'between',\n",
       " 'beyond',\n",
       " 'both',\n",
       " 'but',\n",
       " 'by',\n",
       " 'can',\n",
       " 'cannot',\n",
       " 'could',\n",
       " 'dare',\n",
       " 'despite',\n",
       " 'did',\n",
       " 'do',\n",
       " 'does',\n",
       " 'done',\n",
       " 'down',\n",
       " 'during',\n",
       " 'each',\n",
       " 'eg',\n",
       " 'either',\n",
       " 'else',\n",
       " 'elsewhere',\n",
       " 'enough',\n",
       " 'etc',\n",
       " 'even',\n",
       " 'ever',\n",
       " 'every',\n",
       " 'everyone',\n",
       " 'everything',\n",
       " 'everywhere',\n",
       " 'except',\n",
       " 'few',\n",
       " 'first',\n",
       " 'for',\n",
       " 'former',\n",
       " 'formerly',\n",
       " 'from',\n",
       " 'further',\n",
       " 'furthermore',\n",
       " 'had',\n",
       " 'has',\n",
       " 'have',\n",
       " 'he',\n",
       " 'hence',\n",
       " 'her',\n",
       " 'here',\n",
       " 'hereabouts',\n",
       " 'hereafter',\n",
       " 'hereby',\n",
       " 'herein',\n",
       " 'hereinafter',\n",
       " 'heretofore',\n",
       " 'hereunder',\n",
       " 'hereupon',\n",
       " 'herewith',\n",
       " 'hers',\n",
       " 'herself',\n",
       " 'him',\n",
       " 'himself',\n",
       " 'his',\n",
       " 'how',\n",
       " 'however',\n",
       " 'i',\n",
       " 'ie',\n",
       " 'if',\n",
       " 'in',\n",
       " 'indeed',\n",
       " 'inside',\n",
       " 'instead',\n",
       " 'into',\n",
       " 'is',\n",
       " 'it',\n",
       " 'its',\n",
       " 'itself',\n",
       " 'last',\n",
       " 'latter',\n",
       " 'latterly',\n",
       " 'least',\n",
       " 'less',\n",
       " 'lot',\n",
       " 'lots',\n",
       " 'many',\n",
       " 'may',\n",
       " 'me',\n",
       " 'meanwhile',\n",
       " 'might',\n",
       " 'mine',\n",
       " 'more',\n",
       " 'moreover',\n",
       " 'most',\n",
       " 'mostly',\n",
       " 'much',\n",
       " 'must',\n",
       " 'my',\n",
       " 'myself',\n",
       " 'namely',\n",
       " 'near',\n",
       " 'need',\n",
       " 'neither',\n",
       " 'never',\n",
       " 'nevertheless',\n",
       " 'next',\n",
       " 'no',\n",
       " 'nobody',\n",
       " 'none',\n",
       " 'noone',\n",
       " 'nor',\n",
       " 'not',\n",
       " 'nothing',\n",
       " 'now',\n",
       " 'nowhere',\n",
       " 'of',\n",
       " 'off',\n",
       " 'often',\n",
       " 'oftentimes',\n",
       " 'on',\n",
       " 'once',\n",
       " 'one',\n",
       " 'only',\n",
       " 'onto',\n",
       " 'or',\n",
       " 'other',\n",
       " 'others',\n",
       " 'otherwise',\n",
       " 'ought',\n",
       " 'our',\n",
       " 'ours',\n",
       " 'ourselves',\n",
       " 'out',\n",
       " 'outside',\n",
       " 'over',\n",
       " 'per',\n",
       " 'perhaps',\n",
       " 'rather',\n",
       " 're',\n",
       " 'same',\n",
       " 'second',\n",
       " 'several',\n",
       " 'shall',\n",
       " 'she',\n",
       " 'should',\n",
       " 'since',\n",
       " 'so',\n",
       " 'some',\n",
       " 'somehow',\n",
       " 'someone',\n",
       " 'something',\n",
       " 'sometime',\n",
       " 'sometimes',\n",
       " 'somewhat',\n",
       " 'somewhere',\n",
       " 'still',\n",
       " 'such',\n",
       " 'than',\n",
       " 'that',\n",
       " 'the',\n",
       " 'their',\n",
       " 'theirs',\n",
       " 'them',\n",
       " 'themselves',\n",
       " 'then',\n",
       " 'thence',\n",
       " 'there',\n",
       " 'thereabouts',\n",
       " 'thereafter',\n",
       " 'thereby',\n",
       " 'therefore',\n",
       " 'therein',\n",
       " 'thereof',\n",
       " 'thereon',\n",
       " 'thereupon',\n",
       " 'these',\n",
       " 'they',\n",
       " 'third',\n",
       " 'this',\n",
       " 'those',\n",
       " 'though',\n",
       " 'through',\n",
       " 'throughout',\n",
       " 'thru',\n",
       " 'thus',\n",
       " 'to',\n",
       " 'together',\n",
       " 'too',\n",
       " 'top',\n",
       " 'toward',\n",
       " 'towards',\n",
       " 'under',\n",
       " 'until',\n",
       " 'up',\n",
       " 'upon',\n",
       " 'us',\n",
       " 'used',\n",
       " 'very',\n",
       " 'via',\n",
       " 'was',\n",
       " 'we',\n",
       " 'well',\n",
       " 'were',\n",
       " 'what',\n",
       " 'whatever',\n",
       " 'when',\n",
       " 'whence',\n",
       " 'whenever',\n",
       " 'where',\n",
       " 'whereafter',\n",
       " 'whereas',\n",
       " 'whereby',\n",
       " 'wherein',\n",
       " 'whereupon',\n",
       " 'wherever',\n",
       " 'whether',\n",
       " 'which',\n",
       " 'while',\n",
       " 'whither',\n",
       " 'who',\n",
       " 'whoever',\n",
       " 'whole',\n",
       " 'whom',\n",
       " 'whose',\n",
       " 'why',\n",
       " 'whyever',\n",
       " 'will',\n",
       " 'with',\n",
       " 'within',\n",
       " 'without',\n",
       " 'would',\n",
       " 'yes',\n",
       " 'yet',\n",
       " 'you',\n",
       " 'your',\n",
       " 'yours',\n",
       " 'yourself',\n",
       " 'yourselves']"
      ]
     },
     "execution_count": 3,
     "metadata": {},
     "output_type": "execute_result"
    }
   ],
   "source": [
    "fwlist"
   ]
  },
  {
   "cell_type": "markdown",
   "metadata": {},
   "source": [
    "most common words with/without stopwords"
   ]
  },
  {
   "cell_type": "code",
   "execution_count": 4,
   "metadata": {
    "collapsed": false
   },
   "outputs": [
    {
     "data": {
      "text/plain": [
       "[('the', 531),\n",
       " ('of', 240),\n",
       " ('to', 233),\n",
       " ('is', 183),\n",
       " ('and', 161),\n",
       " ('a', 149),\n",
       " ('that', 148),\n",
       " ('in', 145),\n",
       " ('strategy', 123),\n",
       " ('we', 116)]"
      ]
     },
     "execution_count": 4,
     "metadata": {},
     "output_type": "execute_result"
    }
   ],
   "source": [
    "words = re.findall(r'\\w+', open(\"conf_mobicom_LorchS96.txt\",'rU').read().lower())\n",
    "Counter(words).most_common(10)"
   ]
  },
  {
   "cell_type": "code",
   "execution_count": 5,
   "metadata": {
    "collapsed": true
   },
   "outputs": [],
   "source": [
    "filtered_words = [word for word in words if word not in stopwords.words('english')]"
   ]
  },
  {
   "cell_type": "code",
   "execution_count": 6,
   "metadata": {
    "collapsed": false
   },
   "outputs": [
    {
     "data": {
      "text/plain": [
       "[('strategy', 123),\n",
       " ('time', 87),\n",
       " ('process', 83),\n",
       " ('processor', 76),\n",
       " ('energy', 64),\n",
       " ('technique', 61),\n",
       " ('sleep', 58),\n",
       " ('power', 55),\n",
       " ('performance', 54),\n",
       " ('savings', 48)]"
      ]
     },
     "execution_count": 6,
     "metadata": {},
     "output_type": "execute_result"
    }
   ],
   "source": [
    "Counter(filtered_words).most_common(10)"
   ]
  },
  {
   "cell_type": "code",
   "execution_count": 7,
   "metadata": {
    "collapsed": false
   },
   "outputs": [
    {
     "name": "stdout",
     "output_type": "stream",
     "text": [
      "[(488, 'the'), (240, 'of'), (224, 'to'), (182, 'is'), (158, 'and'), (143, 'a'), (140, 'that'), (118, 'in'), (89, 'it'), (83, 'for'), (80, 'we'), (69, 'by'), (67, 'be'), (54, 'when'), (54, 'this'), (47, 'are'), (46, 'not'), (43, 'or'), (39, 'with'), (39, 'as'), (36, 'on'), (33, 'have'), (32, 'from'), (27, 'will'), (25, 'an'), (24, 'would'), (24, 'which'), (24, 'than'), (24, 'our'), (24, 'has'), (22, 'these'), (22, 'only'), (20, 'since'), (20, 'no'), (19, 'off'), (19, 'even'), (19, 'can'), (19, 'at'), (18, 'more'), (17, 'some'), (17, 'any'), (16, 'other'), (15, 'used'), (15, 'if'), (14, 'so'), (14, 'less'), (14, 'does'), (14, 'all'), (13, 'they'), (12, 'was'), (12, 'each'), (12, 'between'), (12, 'about'), (11, 'such'), (11, 'one'), (11, 'much'), (11, 'its'), (10, 'there'), (10, 'do'), (10, 'but'), (10, 'also'), (9, 'thus'), (9, 'their'), (9, 'often'), (9, 'may'), (9, 'during'), (8, 'while'), (8, 'what'), (8, 'were'), (8, 'still'), (8, 'should'), (8, 'same'), (8, 'never'), (8, 'instead'), (8, 'been'), (7, 'without'), (7, 'whenever'), (7, 'most'), (7, 'last'), (7, 'how'), (7, 'always'), (6, 'over'), (5, 'yet'), (5, 'very'), (5, 'us'), (5, 'under'), (5, 'though'), (5, 'second'), (5, 'next'), (5, 'into'), (5, 'first'), (4, 'then'), (4, 'them'), (4, 'several'), (4, 'did'), (4, 'could'), (4, 'before'), (4, 'another'), (4, 'after'), (3, 'whether'), (3, 'up'), (3, 'those'), (3, 'rather'), (3, 'out'), (3, 'otherwise'), (3, 'must'), (3, 'might'), (3, 'latter'), (3, 'here'), (3, 'had'), (3, 'further'), (3, 'both'), (3, 'because'), (3, 'across'), (3, 'above'), (2, 'within'), (2, 'why'), (2, 'whose'), (2, 'upon'), (2, 'until'), (2, 'sometimes'), (2, 'something'), (2, 'once'), (2, 'nothing'), (2, 'namely'), (2, 'least'), (2, 'itself'), (2, 'i'), (2, 'every'), (2, 'enough'), (2, 'either'), (2, 'down'), (2, 'done'), (2, 'around'), (2, 'although'), (2, 'along'), (2, 'again'), (1, 'whole'), (1, 'whereas'), (1, 'where'), (1, 'well'), (1, 'too'), (1, 'through'), (1, 'third'), (1, 'thereby'), (1, 'somewhat'), (1, 'shall'), (1, 'perhaps'), (1, 'others'), (1, 'need'), (1, 'many'), (1, 'inside'), (1, 'except'), (1, 'cannot'), (1, 'besides'), (1, 'being'), (1, 'anything'), (1, 'already'), (0, 'yourselves'), (0, 'yourself'), (0, 'yours'), (0, 'your'), (0, 'you'), (0, 'yes'), (0, 'whyever'), (0, 'whom'), (0, 'whoever'), (0, 'who'), (0, 'whither'), (0, 'wherever'), (0, 'whereupon'), (0, 'wherein'), (0, 'whereby'), (0, 'whereafter'), (0, 'whence'), (0, 'whatever'), (0, 'via'), (0, 'towards'), (0, 'toward'), (0, 'top'), (0, 'together'), (0, 'thru'), (0, 'throughout'), (0, 'thereupon'), (0, 'thereon'), (0, 'thereof'), (0, 'therein'), (0, 'therefore'), (0, 'thereafter'), (0, 'thereabouts'), (0, 'thence'), (0, 'themselves'), (0, 'theirs'), (0, 'somewhere'), (0, 'sometime'), (0, 'someone'), (0, 'somehow'), (0, 'she'), (0, 're'), (0, 'per'), (0, 'outside'), (0, 'ourselves'), (0, 'ours'), (0, 'ought'), (0, 'onto'), (0, 'oftentimes'), (0, 'nowhere'), (0, 'now'), (0, 'nor'), (0, 'noone'), (0, 'none'), (0, 'nobody'), (0, 'nevertheless'), (0, 'neither'), (0, 'near'), (0, 'myself'), (0, 'my'), (0, 'mostly'), (0, 'moreover'), (0, 'mine'), (0, 'meanwhile'), (0, 'me'), (0, 'lots'), (0, 'lot'), (0, 'latterly'), (0, 'indeed'), (0, 'ie'), (0, 'however'), (0, 'his'), (0, 'himself'), (0, 'him'), (0, 'herself'), (0, 'hers'), (0, 'herewith'), (0, 'hereupon'), (0, 'hereunder'), (0, 'heretofore'), (0, 'hereinafter'), (0, 'herein'), (0, 'hereby'), (0, 'hereafter'), (0, 'hereabouts'), (0, 'her'), (0, 'hence'), (0, 'he'), (0, 'furthermore'), (0, 'formerly'), (0, 'former'), (0, 'few'), (0, 'everywhere'), (0, 'everything'), (0, 'everyone'), (0, 'ever'), (0, 'etc'), (0, 'elsewhere'), (0, 'else'), (0, 'eg'), (0, 'despite'), (0, 'dare'), (0, 'beyond'), (0, 'beside'), (0, 'below'), (0, 'behind'), (0, 'beforehand'), (0, 'became'), (0, 'anywhere'), (0, 'anyway'), (0, 'anyone'), (0, 'anyhow'), (0, 'amoungst'), (0, 'amongst'), (0, 'among'), (0, 'am'), (0, 'alone'), (0, 'almost'), (0, 'against'), (0, 'afterwards')]\n"
     ]
    }
   ],
   "source": [
    "with open(\"conf_mobicom_LorchS96.txt\",'rU') as f:\n",
    "    paper = f.read()\n",
    "\n",
    "words = paper.split()\n",
    "fw = fwlist\n",
    "wordfreq = {}\n",
    "for w in fw:\n",
    "    wordfreq[w]=words.count(w)\n",
    "        \n",
    "\n",
    "lst = [(wordfreq[w],w) for w in wordfreq]\n",
    "lst.sort()\n",
    "lst.reverse()\n",
    "\n",
    "stop_words = set(stopwords.words('english')) # creating a set makes the searching faster\n",
    "\n",
    "print ([word for word in lst if word not in stop_words])"
   ]
  },
  {
   "cell_type": "code",
   "execution_count": 11,
   "metadata": {
    "collapsed": false,
    "scrolled": false
   },
   "outputs": [],
   "source": [
    "with open(\"/Users/zhuonijie/Desktop/nlp project/conf_hotos_AbadiBMWX13.txt\",'rU') as f:\n",
    "    paper2 = f.read()"
   ]
  },
  {
   "cell_type": "markdown",
   "metadata": {},
   "source": [
    "# Sentences, characters, words"
   ]
  },
  {
   "cell_type": "code",
   "execution_count": 9,
   "metadata": {
    "collapsed": false
   },
   "outputs": [
    {
     "name": "stdout",
     "output_type": "stream",
     "text": [
      "Your input file has characters: 47487\n",
      "Your input file has sentences: 372\n",
      "Your paper has tokenized sentences: 300\n",
      "Your paper has tokenized words: 7840\n",
      "Your paper has average words per sentence: 26.1333333333\n"
     ]
    }
   ],
   "source": [
    "# Program will count the characters in text file\n",
    "tokenized_paper = nltk.sent_tokenize(paper)\n",
    "\n",
    "num_chars = len(paper)\n",
    "\n",
    "tnum_sentences = len(tokenized_paper)\n",
    "word_tok = nltk.word_tokenize(paper)\n",
    "NoWord = [',','(',')',':',';','.','%','\\x96','{','}','[',']','!','?',\"''\",\"``\"]\n",
    "word_tok2 = [i for i in word_tok if i not in NoWord]\n",
    "nw = len(word_tok2)\n",
    "\n",
    "# Program will count the lines in the text file\n",
    "num_sentences = paper.count('.')\n",
    "\n",
    "print('Your input file has characters: '+str(num_chars))\n",
    "print('Your input file has sentences: '+str(num_sentences))\n",
    "print \"Your paper has tokenized sentences: \"+str(tnum_sentences)\n",
    "print \"Your paper has tokenized words: \"+str(nw)\n",
    "print \"Your paper has average words per sentence: \"+str(nw/tnum_sentences)"
   ]
  },
  {
   "cell_type": "code",
   "execution_count": 10,
   "metadata": {
    "collapsed": false
   },
   "outputs": [
    {
     "data": {
      "text/plain": [
       "4.943112244897959"
      ]
     },
     "execution_count": 10,
     "metadata": {},
     "output_type": "execute_result"
    }
   ],
   "source": [
    "# the average word length\n",
    "np.mean([len(char) for char in word_tok2])"
   ]
  },
  {
   "cell_type": "code",
   "execution_count": 11,
   "metadata": {
    "collapsed": false
   },
   "outputs": [
    {
     "data": {
      "image/png": "[encoded data removed]",
      "text/plain": [
       "<matplotlib.figure.Figure at 0x1186fdf90>"
      ]
     },
     "metadata": {},
     "output_type": "display_data"
    }
   ],
   "source": [
    "dfh = pd.DataFrame([len(char) for char in word_tok2])\n",
    "dfh.hist(bins = 20);"
   ]
  },
  {
   "cell_type": "code",
   "execution_count": 12,
   "metadata": {
    "collapsed": false
   },
   "outputs": [
    {
     "name": "stdout",
     "output_type": "stream",
     "text": [
      "The number of sentences = 300\n",
      "The number of words = 8916\n",
      "The number of characters = 39629\n",
      "The average word lengths = 4.44470614625\n"
     ]
    }
   ],
   "source": [
    "dirpath = '/Users/zhuonijie/Desktop/nlp project'\n",
    "folder = nltk.data.find(dirpath)\n",
    "#corpusReader = nltk.corpus.PlaintextCorpusReader(folder, '.*\\.txt')\n",
    "corpusReader = nltk.corpus.PlaintextCorpusReader(folder, 'conf_mobicom_LorchS96.txt')\n",
    "\n",
    "print \"The number of sentences =\", len(corpusReader.sents())\n",
    "#print \"The number of paragraphs =\", len(corpusReader.paras())\n",
    "print \"The number of words =\", len([word for sentence in corpusReader.sents() for word in sentence])\n",
    "print \"The number of characters =\", len([char for sentence in corpusReader.sents() for word in sentence for char in word])\n",
    "print \"The average word lengths =\", len([char for sentence in corpusReader.sents() for word in sentence for char in word])/len([word for sentence in corpusReader.sents() for word in sentence])"
   ]
  },
  {
   "cell_type": "code",
   "execution_count": 13,
   "metadata": {
    "collapsed": false
   },
   "outputs": [
    {
     "data": {
      "text/plain": [
       "29.819397993311036"
      ]
     },
     "execution_count": 13,
     "metadata": {},
     "output_type": "execute_result"
    }
   ],
   "source": [
    "total_lens = 0\n",
    "for i, sent in enumerate(corpusReader.sents()):\n",
    "     total_lens += len(sent)\n",
    "\n",
    "avg_sent_len = total_lens / i\n",
    "avg_sent_len"
   ]
  },
  {
   "cell_type": "code",
   "execution_count": 14,
   "metadata": {
    "collapsed": false
   },
   "outputs": [
    {
     "data": {
      "text/plain": [
       "29.72"
      ]
     },
     "execution_count": 14,
     "metadata": {},
     "output_type": "execute_result"
    }
   ],
   "source": [
    "sum(len(sent) for sent in corpusReader.sents()) / len(corpusReader.sents())"
   ]
  },
  {
   "cell_type": "code",
   "execution_count": 15,
   "metadata": {
    "collapsed": false,
    "scrolled": true
   },
   "outputs": [
    {
     "data": {
      "text/plain": [
       "[(129, 1),\n",
       " (6, 1),\n",
       " (7, 3),\n",
       " (8, 4),\n",
       " (9, 1),\n",
       " (10, 6),\n",
       " (11, 2),\n",
       " (12, 7),\n",
       " (13, 4),\n",
       " (14, 5),\n",
       " (15, 9),\n",
       " (16, 8),\n",
       " (17, 7),\n",
       " (18, 3),\n",
       " (19, 14),\n",
       " (20, 6),\n",
       " (21, 4),\n",
       " (22, 15),\n",
       " (23, 12),\n",
       " (24, 9),\n",
       " (25, 13),\n",
       " (26, 9),\n",
       " (27, 7),\n",
       " (28, 8),\n",
       " (29, 9),\n",
       " (30, 11),\n",
       " (31, 13),\n",
       " (32, 5),\n",
       " (33, 12),\n",
       " (34, 7),\n",
       " (35, 8),\n",
       " (36, 5),\n",
       " (37, 2),\n",
       " (38, 6),\n",
       " (39, 5),\n",
       " (40, 3),\n",
       " (41, 3),\n",
       " (42, 7),\n",
       " (43, 6),\n",
       " (44, 4),\n",
       " (45, 3),\n",
       " (46, 2),\n",
       " (49, 4),\n",
       " (50, 6),\n",
       " (51, 3),\n",
       " (52, 3),\n",
       " (53, 2),\n",
       " (54, 1),\n",
       " (57, 3),\n",
       " (58, 1),\n",
       " (59, 1),\n",
       " (61, 1),\n",
       " (64, 1),\n",
       " (71, 2),\n",
       " (86, 1),\n",
       " (87, 1),\n",
       " (95, 1)]"
      ]
     },
     "execution_count": 15,
     "metadata": {},
     "output_type": "execute_result"
    }
   ],
   "source": [
    "fdist = nltk.FreqDist([len(s) for s in corpusReader.sents()])\n",
    "fdist.items()"
   ]
  },
  {
   "cell_type": "code",
   "execution_count": 16,
   "metadata": {
    "collapsed": false
   },
   "outputs": [
    {
     "data": {
      "text/plain": [
       "22"
      ]
     },
     "execution_count": 16,
     "metadata": {},
     "output_type": "execute_result"
    }
   ],
   "source": [
    "fdist.max()"
   ]
  },
  {
   "cell_type": "code",
   "execution_count": 17,
   "metadata": {
    "collapsed": false
   },
   "outputs": [
    {
     "data": {
      "image/png": "[encoded data removed]",
      "text/plain": [
       "<matplotlib.figure.Figure at 0x1186fdc10>"
      ]
     },
     "metadata": {},
     "output_type": "display_data"
    }
   ],
   "source": [
    "fdist.plot(50, cumulative=False)"
   ]
  },
  {
   "cell_type": "markdown",
   "metadata": {},
   "source": [
    "# Part of Speech"
   ]
  },
  {
   "cell_type": "code",
   "execution_count": 18,
   "metadata": {
    "collapsed": false
   },
   "outputs": [],
   "source": [
    "text = nltk.word_tokenize(paper)\n",
    "text_tagged = nltk.pos_tag(text)"
   ]
  },
  {
   "cell_type": "code",
   "execution_count": 19,
   "metadata": {
    "collapsed": true
   },
   "outputs": [],
   "source": [
    "text2 = nltk.word_tokenize(paper2)\n",
    "text2_tagged = nltk.pos_tag(text2)"
   ]
  },
  {
   "cell_type": "code",
   "execution_count": 20,
   "metadata": {
    "collapsed": false
   },
   "outputs": [],
   "source": [
    "n = 2 # n-gram\n",
    "taglist = []\n",
    "output = {}\n",
    "for item in text_tagged: \n",
    "    taglist.append(item[1])\n",
    "for i in xrange(len(taglist)-n+1):\n",
    "    g = ' '.join(taglist[i:i+n])\n",
    "    output.setdefault(g,0)\n",
    "    output[g] += 1"
   ]
  },
  {
   "cell_type": "code",
   "execution_count": 21,
   "metadata": {
    "collapsed": true
   },
   "outputs": [],
   "source": [
    "n = 2 # n-gram\n",
    "taglist2 = []\n",
    "output2 = {}\n",
    "for item in text2_tagged: \n",
    "    taglist2.append(item[1])\n",
    "for i in xrange(len(taglist2)-n+1):\n",
    "    g = ' '.join(taglist2[i:i+n])\n",
    "    output2.setdefault(g,0)\n",
    "    output2[g] += 1"
   ]
  },
  {
   "cell_type": "code",
   "execution_count": 22,
   "metadata": {
    "collapsed": false
   },
   "outputs": [
    {
     "data": {
      "text/plain": [
       "{'# CD': 1,\n",
       " \"'' CC\": 1,\n",
       " \"'' DT\": 1,\n",
       " \"'' IN\": 1,\n",
       " \"'' NN\": 2,\n",
       " \"'' NNP\": 1,\n",
       " \", ''\": 2,\n",
       " ', CC': 62,\n",
       " ', CD': 9,\n",
       " ', DT': 66,\n",
       " ', EX': 3,\n",
       " ', IN': 78,\n",
       " ', JJ': 15,\n",
       " ', JJS': 1,\n",
       " ', MD': 4,\n",
       " ', NN': 20,\n",
       " ', NNP': 31,\n",
       " ', NNS': 4,\n",
       " ', PRP': 51,\n",
       " ', PRP$': 2,\n",
       " ', RB': 32,\n",
       " ', TO': 5,\n",
       " ', VB': 4,\n",
       " ', VBD': 1,\n",
       " ', VBG': 26,\n",
       " ', VBN': 11,\n",
       " ', VBP': 2,\n",
       " ', VBZ': 16,\n",
       " ', WDT': 5,\n",
       " ', WRB': 3,\n",
       " ', ``': 1,\n",
       " \". ''\": 2,\n",
       " '. CC': 3,\n",
       " '. CD': 3,\n",
       " '. DT': 78,\n",
       " '. EX': 2,\n",
       " '. IN': 43,\n",
       " '. JJ': 14,\n",
       " '. JJS': 1,\n",
       " '. NN': 21,\n",
       " '. NNP': 26,\n",
       " '. NNS': 6,\n",
       " '. PDT': 1,\n",
       " '. PRP': 40,\n",
       " '. PRP$': 2,\n",
       " '. RB': 33,\n",
       " '. TO': 7,\n",
       " '. VB': 2,\n",
       " '. VBG': 11,\n",
       " '. VBN': 1,\n",
       " '. WRB': 3,\n",
       " ': :': 3,\n",
       " ': CC': 1,\n",
       " ': DT': 7,\n",
       " ': IN': 5,\n",
       " ': JJ': 3,\n",
       " ': NN': 6,\n",
       " ': PRP': 4,\n",
       " ': PRP$': 3,\n",
       " ': RB': 3,\n",
       " ': VB': 1,\n",
       " ': VBZ': 1,\n",
       " ': WP': 1,\n",
       " ': WRB': 1,\n",
       " 'CC ,': 3,\n",
       " 'CC :': 1,\n",
       " 'CC CD': 5,\n",
       " 'CC DT': 30,\n",
       " 'CC IN': 22,\n",
       " 'CC JJ': 14,\n",
       " 'CC JJR': 2,\n",
       " 'CC MD': 3,\n",
       " 'CC NN': 27,\n",
       " 'CC NNP': 23,\n",
       " 'CC NNS': 7,\n",
       " 'CC PRP': 2,\n",
       " 'CC PRP$': 2,\n",
       " 'CC RB': 24,\n",
       " 'CC RBR': 1,\n",
       " 'CC TO': 4,\n",
       " 'CC VB': 13,\n",
       " 'CC VBD': 4,\n",
       " 'CC VBG': 12,\n",
       " 'CC VBN': 4,\n",
       " 'CC VBP': 2,\n",
       " 'CC VBZ': 12,\n",
       " 'CC WP': 1,\n",
       " 'CC WRB': 3,\n",
       " 'CD ,': 20,\n",
       " 'CD .': 9,\n",
       " 'CD :': 5,\n",
       " 'CD CC': 6,\n",
       " 'CD IN': 8,\n",
       " 'CD JJ': 6,\n",
       " 'CD MD': 2,\n",
       " 'CD NN': 76,\n",
       " 'CD NNP': 3,\n",
       " 'CD NNS': 29,\n",
       " 'CD RB': 2,\n",
       " 'CD TO': 2,\n",
       " 'CD VBG': 3,\n",
       " 'CD VBN': 1,\n",
       " 'CD VBP': 1,\n",
       " 'CD VBZ': 7,\n",
       " 'DT ,': 2,\n",
       " 'DT .': 1,\n",
       " 'DT CC': 1,\n",
       " 'DT CD': 10,\n",
       " 'DT DT': 4,\n",
       " 'DT IN': 18,\n",
       " 'DT JJ': 234,\n",
       " 'DT JJR': 5,\n",
       " 'DT JJS': 6,\n",
       " 'DT MD': 2,\n",
       " 'DT NN': 483,\n",
       " 'DT NNP': 49,\n",
       " 'DT NNS': 80,\n",
       " 'DT PRP': 1,\n",
       " 'DT RB': 8,\n",
       " 'DT RBS': 3,\n",
       " 'DT TO': 1,\n",
       " 'DT VBD': 1,\n",
       " 'DT VBG': 1,\n",
       " 'DT VBN': 3,\n",
       " 'DT VBP': 1,\n",
       " 'DT VBZ': 17,\n",
       " 'DT ``': 2,\n",
       " 'EX VBD': 1,\n",
       " 'EX VBP': 3,\n",
       " 'EX VBZ': 8,\n",
       " 'IN ,': 17,\n",
       " 'IN .': 6,\n",
       " 'IN CC': 12,\n",
       " 'IN CD': 69,\n",
       " 'IN DT': 384,\n",
       " 'IN EX': 1,\n",
       " 'IN IN': 27,\n",
       " 'IN JJ': 65,\n",
       " 'IN JJR': 5,\n",
       " 'IN JJS': 6,\n",
       " 'IN MD': 1,\n",
       " 'IN NN': 142,\n",
       " 'IN NNP': 41,\n",
       " 'IN NNS': 35,\n",
       " 'IN PDT': 3,\n",
       " 'IN PRP': 53,\n",
       " 'IN PRP$': 26,\n",
       " 'IN RB': 24,\n",
       " 'IN TO': 2,\n",
       " 'IN VB': 1,\n",
       " 'IN VBG': 53,\n",
       " 'IN VBN': 4,\n",
       " 'IN VBP': 1,\n",
       " 'IN VBZ': 4,\n",
       " 'IN WDT': 17,\n",
       " 'IN WP': 2,\n",
       " 'IN WRB': 6,\n",
       " 'IN ``': 2,\n",
       " \"JJ ''\": 2,\n",
       " 'JJ ,': 12,\n",
       " 'JJ .': 14,\n",
       " 'JJ :': 2,\n",
       " 'JJ CC': 10,\n",
       " 'JJ CD': 13,\n",
       " 'JJ DT': 6,\n",
       " 'JJ IN': 26,\n",
       " 'JJ JJ': 33,\n",
       " 'JJ NN': 331,\n",
       " 'JJ NNP': 19,\n",
       " 'JJ NNS': 74,\n",
       " 'JJ PRP': 2,\n",
       " 'JJ RB': 3,\n",
       " 'JJ TO': 33,\n",
       " 'JJ VBD': 6,\n",
       " 'JJ VBG': 9,\n",
       " 'JJ VBN': 1,\n",
       " 'JJ WRB': 3,\n",
       " 'JJR IN': 6,\n",
       " 'JJR JJ': 5,\n",
       " 'JJR NN': 16,\n",
       " 'JJR NNP': 1,\n",
       " 'JJR NNS': 3,\n",
       " 'JJR RB': 1,\n",
       " 'JJR TO': 2,\n",
       " 'JJS ,': 1,\n",
       " 'JJS DT': 1,\n",
       " 'JJS IN': 3,\n",
       " 'JJS JJ': 1,\n",
       " 'JJS NN': 5,\n",
       " 'JJS NNP': 1,\n",
       " 'JJS NNS': 1,\n",
       " 'JJS PRP': 1,\n",
       " 'MD ,': 1,\n",
       " 'MD IN': 4,\n",
       " 'MD NN': 2,\n",
       " 'MD RB': 17,\n",
       " 'MD VB': 76,\n",
       " 'NN ,': 178,\n",
       " 'NN .': 151,\n",
       " 'NN :': 14,\n",
       " 'NN CC': 54,\n",
       " 'NN CD': 14,\n",
       " 'NN DT': 16,\n",
       " 'NN EX': 1,\n",
       " 'NN IN': 345,\n",
       " 'NN JJ': 13,\n",
       " 'NN JJR': 6,\n",
       " 'NN MD': 34,\n",
       " 'NN NN': 312,\n",
       " 'NN NNP': 49,\n",
       " 'NN NNS': 90,\n",
       " 'NN POS': 1,\n",
       " 'NN PRP': 15,\n",
       " 'NN RB': 23,\n",
       " 'NN RBR': 5,\n",
       " 'NN TO': 51,\n",
       " 'NN VB': 2,\n",
       " 'NN VBD': 20,\n",
       " 'NN VBG': 12,\n",
       " 'NN VBN': 32,\n",
       " 'NN VBP': 11,\n",
       " 'NN VBZ': 142,\n",
       " 'NN WDT': 14,\n",
       " 'NN WP$': 1,\n",
       " 'NN WRB': 19,\n",
       " 'NNP #': 1,\n",
       " 'NNP ,': 66,\n",
       " 'NNP .': 13,\n",
       " 'NNP :': 1,\n",
       " 'NNP CC': 22,\n",
       " 'NNP CD': 13,\n",
       " 'NNP DT': 1,\n",
       " 'NNP IN': 23,\n",
       " 'NNP JJ': 3,\n",
       " 'NNP MD': 5,\n",
       " 'NNP NN': 43,\n",
       " 'NNP NNP': 56,\n",
       " 'NNP NNPS': 2,\n",
       " 'NNP NNS': 6,\n",
       " 'NNP POS': 4,\n",
       " 'NNP PRP': 3,\n",
       " 'NNP PRP$': 1,\n",
       " 'NNP RB': 8,\n",
       " 'NNP TO': 3,\n",
       " 'NNP VBD': 9,\n",
       " 'NNP VBP': 5,\n",
       " 'NNP VBZ': 32,\n",
       " 'NNP WRB': 2,\n",
       " 'NNPS ,': 1,\n",
       " 'NNPS .': 1,\n",
       " 'NNS ,': 55,\n",
       " 'NNS .': 39,\n",
       " 'NNS :': 6,\n",
       " 'NNS CC': 14,\n",
       " 'NNS CD': 1,\n",
       " 'NNS DT': 4,\n",
       " 'NNS IN': 114,\n",
       " 'NNS JJ': 5,\n",
       " 'NNS JJR': 1,\n",
       " 'NNS MD': 11,\n",
       " 'NNS NN': 13,\n",
       " 'NNS NNP': 11,\n",
       " 'NNS NNS': 2,\n",
       " 'NNS PRP': 11,\n",
       " 'NNS RB': 9,\n",
       " 'NNS RP': 1,\n",
       " 'NNS TO': 20,\n",
       " 'NNS VB': 2,\n",
       " 'NNS VBD': 11,\n",
       " 'NNS VBG': 9,\n",
       " 'NNS VBN': 5,\n",
       " 'NNS VBP': 36,\n",
       " 'NNS VBZ': 14,\n",
       " 'NNS WDT': 5,\n",
       " 'NNS WP$': 1,\n",
       " 'PDT DT': 4,\n",
       " 'POS JJ': 1,\n",
       " 'POS NN': 2,\n",
       " 'POS NNP': 2,\n",
       " 'PRP ,': 1,\n",
       " 'PRP .': 4,\n",
       " 'PRP IN': 1,\n",
       " 'PRP JJ': 2,\n",
       " 'PRP JJR': 1,\n",
       " 'PRP MD': 29,\n",
       " 'PRP NNP': 1,\n",
       " 'PRP RB': 12,\n",
       " 'PRP TO': 9,\n",
       " 'PRP VB': 2,\n",
       " 'PRP VBD': 29,\n",
       " 'PRP VBP': 81,\n",
       " 'PRP VBZ': 69,\n",
       " 'PRP$ CD': 1,\n",
       " 'PRP$ JJ': 7,\n",
       " 'PRP$ NN': 24,\n",
       " 'PRP$ NNS': 14,\n",
       " 'PRP$ VBN': 1,\n",
       " 'RB ,': 51,\n",
       " 'RB .': 11,\n",
       " 'RB :': 3,\n",
       " 'RB CC': 2,\n",
       " 'RB CD': 12,\n",
       " 'RB DT': 17,\n",
       " 'RB IN': 46,\n",
       " 'RB JJ': 28,\n",
       " 'RB JJR': 5,\n",
       " 'RB MD': 1,\n",
       " 'RB NN': 3,\n",
       " 'RB NNS': 1,\n",
       " 'RB PRP': 2,\n",
       " 'RB RB': 15,\n",
       " 'RB RBR': 8,\n",
       " 'RB TO': 8,\n",
       " 'RB VB': 40,\n",
       " 'RB VBD': 7,\n",
       " 'RB VBG': 31,\n",
       " 'RB VBN': 30,\n",
       " 'RB VBP': 10,\n",
       " 'RB VBZ': 22,\n",
       " 'RB WP': 1,\n",
       " 'RB WRB': 13,\n",
       " 'RBR .': 1,\n",
       " 'RBR CC': 1,\n",
       " 'RBR IN': 2,\n",
       " 'RBR JJ': 5,\n",
       " 'RBR NN': 5,\n",
       " 'RBR RB': 4,\n",
       " 'RBR VBG': 1,\n",
       " 'RBR VBP': 1,\n",
       " 'RBS JJ': 3,\n",
       " 'RBS NNS': 1,\n",
       " 'RP ,': 3,\n",
       " 'RP .': 2,\n",
       " 'RP :': 1,\n",
       " 'RP CC': 2,\n",
       " 'RP DT': 10,\n",
       " 'RP IN': 2,\n",
       " 'RP NN': 1,\n",
       " 'RP RB': 1,\n",
       " 'RP VBG': 1,\n",
       " 'RP VBZ': 1,\n",
       " 'RP WRB': 2,\n",
       " 'TO ,': 1,\n",
       " 'TO CC': 1,\n",
       " 'TO CD': 7,\n",
       " 'TO DT': 32,\n",
       " 'TO IN': 1,\n",
       " 'TO JJ': 6,\n",
       " 'TO NN': 13,\n",
       " 'TO NNP': 3,\n",
       " 'TO NNS': 4,\n",
       " 'TO PRP': 1,\n",
       " 'TO RB': 8,\n",
       " 'TO VB': 148,\n",
       " 'TO VBG': 4,\n",
       " 'TO WDT': 3,\n",
       " 'VB ,': 9,\n",
       " 'VB .': 10,\n",
       " 'VB CC': 4,\n",
       " 'VB CD': 6,\n",
       " 'VB DT': 74,\n",
       " 'VB IN': 31,\n",
       " 'VB JJ': 27,\n",
       " 'VB JJR': 2,\n",
       " 'VB NN': 19,\n",
       " 'VB NNS': 9,\n",
       " 'VB PRP': 3,\n",
       " 'VB PRP$': 8,\n",
       " 'VB RB': 18,\n",
       " 'VB RBR': 1,\n",
       " 'VB RP': 8,\n",
       " 'VB TO': 12,\n",
       " 'VB VBG': 6,\n",
       " 'VB VBN': 36,\n",
       " 'VB VBP': 1,\n",
       " 'VB VBZ': 3,\n",
       " 'VB WP': 2,\n",
       " 'VB WRB': 10,\n",
       " 'VBD ,': 3,\n",
       " 'VBD .': 5,\n",
       " 'VBD CC': 4,\n",
       " 'VBD CD': 1,\n",
       " 'VBD DT': 13,\n",
       " 'VBD IN': 12,\n",
       " 'VBD JJ': 6,\n",
       " 'VBD NN': 6,\n",
       " 'VBD NNS': 4,\n",
       " 'VBD PRP': 1,\n",
       " 'VBD RB': 6,\n",
       " 'VBD RBR': 3,\n",
       " 'VBD RP': 1,\n",
       " 'VBD TO': 5,\n",
       " 'VBD VBG': 3,\n",
       " 'VBD VBN': 15,\n",
       " 'VBD VBZ': 1,\n",
       " 'VBD WRB': 1,\n",
       " 'VBG ,': 5,\n",
       " 'VBG .': 5,\n",
       " 'VBG CC': 5,\n",
       " 'VBG CD': 1,\n",
       " 'VBG DT': 62,\n",
       " 'VBG IN': 22,\n",
       " 'VBG JJ': 29,\n",
       " 'VBG MD': 1,\n",
       " 'VBG NN': 18,\n",
       " 'VBG NNP': 2,\n",
       " 'VBG NNS': 20,\n",
       " 'VBG PRP': 6,\n",
       " 'VBG RB': 14,\n",
       " 'VBG RP': 7,\n",
       " 'VBG TO': 12,\n",
       " 'VBG VBN': 3,\n",
       " 'VBG VBP': 1,\n",
       " 'VBG VBZ': 3,\n",
       " 'VBG WP': 1,\n",
       " 'VBG WRB': 3,\n",
       " 'VBG ``': 1,\n",
       " 'VBN ,': 13,\n",
       " 'VBN .': 18,\n",
       " 'VBN :': 3,\n",
       " 'VBN CC': 6,\n",
       " 'VBN CD': 1,\n",
       " 'VBN DT': 8,\n",
       " 'VBN IN': 103,\n",
       " 'VBN JJ': 8,\n",
       " 'VBN MD': 1,\n",
       " 'VBN NN': 9,\n",
       " 'VBN NNS': 5,\n",
       " 'VBN PRP': 2,\n",
       " 'VBN RB': 9,\n",
       " 'VBN RP': 5,\n",
       " 'VBN TO': 29,\n",
       " 'VBN VBG': 10,\n",
       " 'VBN VBN': 6,\n",
       " 'VBN VBZ': 1,\n",
       " 'VBN WRB': 3,\n",
       " 'VBP ,': 2,\n",
       " 'VBP .': 3,\n",
       " 'VBP CC': 1,\n",
       " 'VBP CD': 3,\n",
       " 'VBP DT': 28,\n",
       " 'VBP IN': 30,\n",
       " 'VBP JJ': 16,\n",
       " 'VBP JJR': 3,\n",
       " 'VBP MD': 1,\n",
       " 'VBP NN': 4,\n",
       " 'VBP PRP': 2,\n",
       " 'VBP PRP$': 1,\n",
       " 'VBP RB': 26,\n",
       " 'VBP TO': 6,\n",
       " 'VBP VB': 1,\n",
       " 'VBP VBG': 4,\n",
       " 'VBP VBN': 33,\n",
       " 'VBP VBP': 1,\n",
       " 'VBP VBZ': 2,\n",
       " 'VBZ ,': 8,\n",
       " 'VBZ .': 7,\n",
       " 'VBZ CC': 6,\n",
       " 'VBZ CD': 10,\n",
       " 'VBZ DT': 52,\n",
       " 'VBZ IN': 36,\n",
       " 'VBZ JJ': 41,\n",
       " 'VBZ JJR': 4,\n",
       " 'VBZ MD': 1,\n",
       " 'VBZ NN': 14,\n",
       " 'VBZ NNS': 4,\n",
       " 'VBZ PRP': 4,\n",
       " 'VBZ PRP$': 1,\n",
       " 'VBZ RB': 62,\n",
       " 'VBZ RBR': 2,\n",
       " 'VBZ RBS': 1,\n",
       " 'VBZ RP': 4,\n",
       " 'VBZ TO': 21,\n",
       " 'VBZ VB': 7,\n",
       " 'VBZ VBG': 23,\n",
       " 'VBZ VBN': 54,\n",
       " 'VBZ VBP': 2,\n",
       " 'VBZ VBZ': 1,\n",
       " 'VBZ WP': 1,\n",
       " 'VBZ WRB': 1,\n",
       " 'WDT ,': 1,\n",
       " 'WDT DT': 9,\n",
       " 'WDT JJ': 1,\n",
       " 'WDT MD': 3,\n",
       " 'WDT NN': 2,\n",
       " 'WDT NNP': 2,\n",
       " 'WDT PRP': 10,\n",
       " 'WDT RB': 1,\n",
       " 'WDT VBD': 1,\n",
       " 'WDT VBP': 8,\n",
       " 'WDT VBZ': 6,\n",
       " 'WP MD': 1,\n",
       " 'WP NN': 1,\n",
       " 'WP PRP': 3,\n",
       " 'WP VBZ': 4,\n",
       " 'WP$ NN': 2,\n",
       " 'WRB ,': 1,\n",
       " 'WRB CC': 3,\n",
       " 'WRB DT': 24,\n",
       " 'WRB EX': 5,\n",
       " 'WRB JJ': 5,\n",
       " 'WRB NN': 2,\n",
       " 'WRB NNP': 1,\n",
       " 'WRB NNS': 1,\n",
       " 'WRB PRP': 24,\n",
       " 'WRB PRP$': 1,\n",
       " 'WRB RB': 3,\n",
       " 'WRB VBG': 2,\n",
       " 'WRB VBZ': 1,\n",
       " '`` DT': 1,\n",
       " '`` JJ': 3,\n",
       " '`` NN': 1,\n",
       " '`` RB': 1}"
      ]
     },
     "execution_count": 22,
     "metadata": {},
     "output_type": "execute_result"
    }
   ],
   "source": [
    "output"
   ]
  },
  {
   "cell_type": "code",
   "execution_count": 23,
   "metadata": {
    "collapsed": false
   },
   "outputs": [
    {
     "name": "stdout",
     "output_type": "stream",
     "text": [
      "513\n",
      "437\n"
     ]
    }
   ],
   "source": [
    "print len(output)\n",
    "print len(output2)"
   ]
  },
  {
   "cell_type": "code",
   "execution_count": 24,
   "metadata": {
    "collapsed": true
   },
   "outputs": [],
   "source": [
    "common_output = {key:output[key] for key in output if key in output2}\n",
    "common_output2 = {key:output2[key] for key in output2 if key in common_output}"
   ]
  },
  {
   "cell_type": "code",
   "execution_count": 25,
   "metadata": {
    "collapsed": false
   },
   "outputs": [
    {
     "name": "stdout",
     "output_type": "stream",
     "text": [
      "356\n",
      "356\n"
     ]
    }
   ],
   "source": [
    "print len(common_output)\n",
    "print len(common_output2)"
   ]
  },
  {
   "cell_type": "code",
   "execution_count": 55,
   "metadata": {
    "collapsed": false
   },
   "outputs": [
    {
     "name": "stdout",
     "output_type": "stream",
     "text": [
      "104\n",
      "47\n",
      "45\n",
      "45\n"
     ]
    }
   ],
   "source": [
    "filtered_output = {i:output[i] for i in output if output[i] >= 20}\n",
    "filtered_output2 = {i:output2[i] for i in output2 if output2[i] >= 20}\n",
    "\n",
    "print len(filtered_output)\n",
    "print len(filtered_output2)\n",
    "\n",
    "f_common_output = {key:filtered_output[key] for key in filtered_output if key in filtered_output2}\n",
    "f_common_output2 = {key:filtered_output2[key] for key in filtered_output2 if key in filtered_common_output}\n",
    "\n",
    "print len(f_common_output)\n",
    "print len(f_common_output2)"
   ]
  },
  {
   "cell_type": "code",
   "execution_count": 28,
   "metadata": {
    "collapsed": false
   },
   "outputs": [],
   "source": [
    "sorted_output = sorted(output.items(), key=lambda x: x[1], reverse=True)"
   ]
  },
  {
   "cell_type": "code",
   "execution_count": 29,
   "metadata": {
    "collapsed": false
   },
   "outputs": [
    {
     "data": {
      "text/plain": [
       "[('DT NN', 483),\n",
       " ('IN DT', 384),\n",
       " ('NN IN', 345),\n",
       " ('JJ NN', 331),\n",
       " ('NN NN', 312),\n",
       " ('DT JJ', 234),\n",
       " ('NN ,', 178),\n",
       " ('NN .', 151),\n",
       " ('TO VB', 148),\n",
       " ('NN VBZ', 142),\n",
       " ('IN NN', 142),\n",
       " ('NNS IN', 114),\n",
       " ('VBN IN', 103),\n",
       " ('NN NNS', 90),\n",
       " ('PRP VBP', 81),\n",
       " ('DT NNS', 80),\n",
       " (', IN', 78),\n",
       " ('. DT', 78),\n",
       " ('CD NN', 76),\n",
       " ('MD VB', 76),\n",
       " ('JJ NNS', 74),\n",
       " ('VB DT', 74),\n",
       " ('IN CD', 69),\n",
       " ('PRP VBZ', 69),\n",
       " ('NNP ,', 66),\n",
       " (', DT', 66),\n",
       " ('IN JJ', 65),\n",
       " ('VBZ RB', 62),\n",
       " ('VBG DT', 62),\n",
       " (', CC', 62),\n",
       " ('NNP NNP', 56),\n",
       " ('NNS ,', 55),\n",
       " ('NN CC', 54),\n",
       " ('VBZ VBN', 54),\n",
       " ('IN PRP', 53),\n",
       " ('IN VBG', 53),\n",
       " ('VBZ DT', 52),\n",
       " ('RB ,', 51),\n",
       " ('NN TO', 51),\n",
       " (', PRP', 51),\n",
       " ('NN NNP', 49),\n",
       " ('DT NNP', 49),\n",
       " ('RB IN', 46),\n",
       " ('NNP NN', 43),\n",
       " ('. IN', 43),\n",
       " ('VBZ JJ', 41),\n",
       " ('IN NNP', 41),\n",
       " ('RB VB', 40),\n",
       " ('. PRP', 40),\n",
       " ('NNS .', 39),\n",
       " ('VBZ IN', 36),\n",
       " ('NNS VBP', 36),\n",
       " ('VB VBN', 36),\n",
       " ('IN NNS', 35),\n",
       " ('NN MD', 34),\n",
       " ('JJ JJ', 33),\n",
       " ('. RB', 33),\n",
       " ('JJ TO', 33),\n",
       " ('VBP VBN', 33),\n",
       " ('NN VBN', 32),\n",
       " ('NNP VBZ', 32),\n",
       " (', RB', 32),\n",
       " ('TO DT', 32),\n",
       " (', NNP', 31),\n",
       " ('VB IN', 31),\n",
       " ('RB VBG', 31),\n",
       " ('VBP IN', 30),\n",
       " ('RB VBN', 30),\n",
       " ('CC DT', 30),\n",
       " ('CD NNS', 29),\n",
       " ('VBG JJ', 29),\n",
       " ('VBN TO', 29),\n",
       " ('PRP VBD', 29),\n",
       " ('PRP MD', 29),\n",
       " ('VBP DT', 28),\n",
       " ('RB JJ', 28),\n",
       " ('CC NN', 27),\n",
       " ('VB JJ', 27),\n",
       " ('IN IN', 27),\n",
       " ('VBP RB', 26),\n",
       " ('. NNP', 26),\n",
       " ('IN PRP$', 26),\n",
       " (', VBG', 26),\n",
       " ('JJ IN', 26),\n",
       " ('WRB DT', 24),\n",
       " ('IN RB', 24),\n",
       " ('WRB PRP', 24),\n",
       " ('PRP$ NN', 24),\n",
       " ('CC RB', 24),\n",
       " ('NN RB', 23),\n",
       " ('CC NNP', 23),\n",
       " ('NNP IN', 23),\n",
       " ('VBZ VBG', 23),\n",
       " ('VBG IN', 22),\n",
       " ('NNP CC', 22),\n",
       " ('RB VBZ', 22),\n",
       " ('CC IN', 22),\n",
       " ('VBZ TO', 21),\n",
       " ('. NN', 21),\n",
       " ('NN VBD', 20),\n",
       " ('NNS TO', 20),\n",
       " (', NN', 20),\n",
       " ('CD ,', 20),\n",
       " ('VBG NNS', 20),\n",
       " ('JJ NNP', 19),\n",
       " ('NN WRB', 19),\n",
       " ('VB NN', 19),\n",
       " ('DT IN', 18),\n",
       " ('VB RB', 18),\n",
       " ('VBN .', 18),\n",
       " ('VBG NN', 18),\n",
       " ('RB DT', 17),\n",
       " ('IN WDT', 17),\n",
       " ('DT VBZ', 17),\n",
       " ('MD RB', 17),\n",
       " ('IN ,', 17),\n",
       " ('NN DT', 16),\n",
       " ('JJR NN', 16),\n",
       " (', VBZ', 16),\n",
       " ('VBP JJ', 16),\n",
       " ('VBD VBN', 15),\n",
       " ('NN PRP', 15),\n",
       " ('RB RB', 15),\n",
       " (', JJ', 15),\n",
       " ('. JJ', 14),\n",
       " ('CC JJ', 14),\n",
       " ('PRP$ NNS', 14),\n",
       " ('NN CD', 14),\n",
       " ('VBZ NN', 14),\n",
       " ('NNS VBZ', 14),\n",
       " ('NNS CC', 14),\n",
       " ('NN WDT', 14),\n",
       " ('NN :', 14),\n",
       " ('VBG RB', 14),\n",
       " ('JJ .', 14),\n",
       " ('NN JJ', 13),\n",
       " ('NNP .', 13),\n",
       " ('JJ CD', 13),\n",
       " ('NNP CD', 13),\n",
       " ('RB WRB', 13),\n",
       " ('TO NN', 13),\n",
       " ('VBN ,', 13),\n",
       " ('NNS NN', 13),\n",
       " ('VBD DT', 13),\n",
       " ('CC VB', 13),\n",
       " ('VBG TO', 12),\n",
       " ('VB TO', 12),\n",
       " ('NN VBG', 12),\n",
       " ('CC VBZ', 12),\n",
       " ('CC VBG', 12),\n",
       " ('PRP RB', 12),\n",
       " ('IN CC', 12),\n",
       " ('RB CD', 12),\n",
       " ('VBD IN', 12),\n",
       " ('JJ ,', 12),\n",
       " ('NNS PRP', 11),\n",
       " ('NNS MD', 11),\n",
       " ('. VBG', 11),\n",
       " ('NNS VBD', 11),\n",
       " ('NN VBP', 11),\n",
       " ('RB .', 11),\n",
       " (', VBN', 11),\n",
       " ('NNS NNP', 11),\n",
       " ('VBN VBG', 10),\n",
       " ('VB WRB', 10),\n",
       " ('WDT PRP', 10),\n",
       " ('JJ CC', 10),\n",
       " ('RP DT', 10),\n",
       " ('DT CD', 10),\n",
       " ('VB .', 10),\n",
       " ('RB VBP', 10),\n",
       " ('VBZ CD', 10),\n",
       " ('NNS RB', 9),\n",
       " ('JJ VBG', 9),\n",
       " ('NNS VBG', 9),\n",
       " (', CD', 9),\n",
       " ('WDT DT', 9),\n",
       " ('VB ,', 9),\n",
       " ('NNP VBD', 9),\n",
       " ('VBN RB', 9),\n",
       " ('VBN NN', 9),\n",
       " ('PRP TO', 9),\n",
       " ('VB NNS', 9),\n",
       " ('CD .', 9),\n",
       " ('DT RB', 8),\n",
       " ('VB PRP$', 8),\n",
       " ('VBZ ,', 8),\n",
       " ('RB RBR', 8),\n",
       " ('CD IN', 8),\n",
       " ('WDT VBP', 8),\n",
       " ('TO RB', 8),\n",
       " ('NNP RB', 8),\n",
       " ('VB RP', 8),\n",
       " ('VBN DT', 8),\n",
       " ('EX VBZ', 8),\n",
       " ('RB TO', 8),\n",
       " ('VBN JJ', 8),\n",
       " ('. TO', 7),\n",
       " ('VBZ .', 7),\n",
       " ('VBZ VB', 7),\n",
       " ('CC NNS', 7),\n",
       " ('PRP$ JJ', 7),\n",
       " ('RB VBD', 7),\n",
       " ('TO CD', 7),\n",
       " ('VBG RP', 7),\n",
       " ('CD VBZ', 7),\n",
       " (': DT', 7),\n",
       " ('VBN VBN', 6),\n",
       " ('NNP NNS', 6),\n",
       " (': NN', 6),\n",
       " ('VBD RB', 6),\n",
       " ('. NNS', 6),\n",
       " ('CD JJ', 6),\n",
       " ('JJ DT', 6),\n",
       " ('NNS :', 6),\n",
       " ('IN JJS', 6),\n",
       " ('WDT VBZ', 6),\n",
       " ('JJR IN', 6),\n",
       " ('VB VBG', 6),\n",
       " ('IN WRB', 6),\n",
       " ('DT JJS', 6),\n",
       " ('VBN CC', 6),\n",
       " ('NN JJR', 6),\n",
       " ('CD CC', 6),\n",
       " ('VBP TO', 6),\n",
       " ('VBD NN', 6),\n",
       " ('VB CD', 6),\n",
       " ('JJ VBD', 6),\n",
       " ('VBD JJ', 6),\n",
       " ('VBG PRP', 6),\n",
       " ('TO JJ', 6),\n",
       " ('VBZ CC', 6),\n",
       " ('IN .', 6),\n",
       " ('VBG .', 5),\n",
       " ('VBG ,', 5),\n",
       " ('VBG CC', 5),\n",
       " (', WDT', 5),\n",
       " ('NNP VBP', 5),\n",
       " ('RBR JJ', 5),\n",
       " ('RB JJR', 5),\n",
       " ('NNS VBN', 5),\n",
       " ('WRB JJ', 5),\n",
       " ('JJS NN', 5),\n",
       " ('IN JJR', 5),\n",
       " ('VBD TO', 5),\n",
       " ('NNS WDT', 5),\n",
       " ('DT JJR', 5),\n",
       " ('JJR JJ', 5),\n",
       " ('CC CD', 5),\n",
       " ('NNP MD', 5),\n",
       " (', TO', 5),\n",
       " ('VBN NNS', 5),\n",
       " (': IN', 5),\n",
       " ('WRB EX', 5),\n",
       " ('VBN RP', 5),\n",
       " ('NN RBR', 5),\n",
       " ('CD :', 5),\n",
       " ('VBD .', 5),\n",
       " ('NNS JJ', 5),\n",
       " ('RBR NN', 5),\n",
       " ('VBZ JJR', 4),\n",
       " ('PDT DT', 4),\n",
       " ('VBZ NNS', 4),\n",
       " ('NNS DT', 4),\n",
       " ('VBZ RP', 4),\n",
       " (', NNS', 4),\n",
       " ('MD IN', 4),\n",
       " ('VBP VBG', 4),\n",
       " ('NNP POS', 4),\n",
       " ('CC VBD', 4),\n",
       " ('CC VBN', 4),\n",
       " (', MD', 4),\n",
       " ('VB CC', 4),\n",
       " ('CC TO', 4),\n",
       " ('WP VBZ', 4),\n",
       " ('PRP .', 4),\n",
       " ('TO NNS', 4),\n",
       " ('VBD NNS', 4),\n",
       " ('DT DT', 4),\n",
       " (': PRP', 4),\n",
       " ('IN VBZ', 4),\n",
       " ('TO VBG', 4),\n",
       " ('RBR RB', 4),\n",
       " ('VBD CC', 4),\n",
       " (', VB', 4),\n",
       " ('VBZ PRP', 4),\n",
       " ('IN VBN', 4),\n",
       " ('VBP NN', 4),\n",
       " ('VBG VBN', 3),\n",
       " ('VBG VBZ', 3),\n",
       " ('WRB RB', 3),\n",
       " ('VBP .', 3),\n",
       " ('. CD', 3),\n",
       " ('RBS JJ', 3),\n",
       " ('RB NN', 3),\n",
       " ('WP PRP', 3),\n",
       " ('WRB CC', 3),\n",
       " ('CC WRB', 3),\n",
       " ('. WRB', 3),\n",
       " ('VBN WRB', 3),\n",
       " ('`` JJ', 3),\n",
       " ('TO WDT', 3),\n",
       " ('JJ WRB', 3),\n",
       " ('NNP PRP', 3),\n",
       " ('JJR NNS', 3),\n",
       " ('VBD RBR', 3),\n",
       " ('VB VBZ', 3),\n",
       " ('JJ RB', 3),\n",
       " ('RP ,', 3),\n",
       " ('. CC', 3),\n",
       " ('RB :', 3),\n",
       " ('DT VBN', 3),\n",
       " ('VBD VBG', 3),\n",
       " ('VBP JJR', 3),\n",
       " ('TO NNP', 3),\n",
       " ('IN PDT', 3),\n",
       " (', EX', 3),\n",
       " ('CD NNP', 3),\n",
       " (', WRB', 3),\n",
       " (': RB', 3),\n",
       " ('VBD ,', 3),\n",
       " ('VBN :', 3),\n",
       " ('VBG WRB', 3),\n",
       " ('JJS IN', 3),\n",
       " ('WDT MD', 3),\n",
       " ('EX VBP', 3),\n",
       " ('CD VBG', 3),\n",
       " (': PRP$', 3),\n",
       " ('CC ,', 3),\n",
       " ('VB PRP', 3),\n",
       " ('DT RBS', 3),\n",
       " ('NNP JJ', 3),\n",
       " ('VBP CD', 3),\n",
       " (': :', 3),\n",
       " ('CC MD', 3),\n",
       " (': JJ', 3),\n",
       " ('NNP TO', 3),\n",
       " ('WDT NNP', 2),\n",
       " ('NNS VB', 2),\n",
       " ('POS NNP', 2),\n",
       " ('MD NN', 2),\n",
       " ('VB JJR', 2),\n",
       " ('RP IN', 2),\n",
       " ('VBP ,', 2),\n",
       " ('PRP JJ', 2),\n",
       " ('WRB NN', 2),\n",
       " ('RB CC', 2),\n",
       " ('IN ``', 2),\n",
       " ('VB WP', 2),\n",
       " ('CD MD', 2),\n",
       " ('VBP VBZ', 2),\n",
       " ('VBZ RBR', 2),\n",
       " ('NN VB', 2),\n",
       " (\", ''\", 2),\n",
       " ('RP CC', 2),\n",
       " ('CC PRP$', 2),\n",
       " ('JJ :', 2),\n",
       " ('. PRP$', 2),\n",
       " ('JJ PRP', 2),\n",
       " ('CC PRP', 2),\n",
       " ('CC VBP', 2),\n",
       " ('CD RB', 2),\n",
       " ('WP$ NN', 2),\n",
       " ('CC JJR', 2),\n",
       " ('RP .', 2),\n",
       " (\". ''\", 2),\n",
       " ('WDT NN', 2),\n",
       " ('DT ,', 2),\n",
       " ('RB PRP', 2),\n",
       " ('. VB', 2),\n",
       " ('VBN PRP', 2),\n",
       " ('PRP VB', 2),\n",
       " ('DT MD', 2),\n",
       " (\"JJ ''\", 2),\n",
       " ('VBP PRP', 2),\n",
       " ('CD TO', 2),\n",
       " ('IN WP', 2),\n",
       " ('DT ``', 2),\n",
       " ('WRB VBG', 2),\n",
       " ('JJR TO', 2),\n",
       " ('NNP NNPS', 2),\n",
       " (', PRP$', 2),\n",
       " (', VBP', 2),\n",
       " ('RP WRB', 2),\n",
       " ('POS NN', 2),\n",
       " (\"'' NN\", 2),\n",
       " ('NNS NNS', 2),\n",
       " ('NNP WRB', 2),\n",
       " ('VBZ VBP', 2),\n",
       " ('IN TO', 2),\n",
       " ('. EX', 2),\n",
       " ('RBR IN', 2),\n",
       " ('VBG NNP', 2),\n",
       " ('VBN VBZ', 1),\n",
       " ('MD ,', 1),\n",
       " ('VBD WRB', 1),\n",
       " ('RP NN', 1),\n",
       " ('PRP IN', 1),\n",
       " ('IN VB', 1),\n",
       " ('WRB PRP$', 1),\n",
       " ('JJS PRP', 1),\n",
       " ('NNS JJR', 1),\n",
       " ('VBG VBP', 1),\n",
       " ('VBG ``', 1),\n",
       " ('. VBN', 1),\n",
       " (\"'' IN\", 1),\n",
       " (', JJS', 1),\n",
       " ('JJ VBN', 1),\n",
       " ('CC WP', 1),\n",
       " ('JJS ,', 1),\n",
       " ('WP NN', 1),\n",
       " ('VBG MD', 1),\n",
       " (\"'' DT\", 1),\n",
       " ('VBD RP', 1),\n",
       " ('DT PRP', 1),\n",
       " ('WRB ,', 1),\n",
       " ('NNP :', 1),\n",
       " ('VBP VBP', 1),\n",
       " ('DT TO', 1),\n",
       " ('NNP PRP$', 1),\n",
       " ('NNP #', 1),\n",
       " ('RBR .', 1),\n",
       " ('VBZ WRB', 1),\n",
       " ('VBP VB', 1),\n",
       " ('VBG CD', 1),\n",
       " ('RBR VBP', 1),\n",
       " ('RBS NNS', 1),\n",
       " ('PRP NNP', 1),\n",
       " ('VBG WP', 1),\n",
       " ('JJR RB', 1),\n",
       " ('VBZ RBS', 1),\n",
       " ('. JJS', 1),\n",
       " ('WP MD', 1),\n",
       " ('`` NN', 1),\n",
       " ('IN MD', 1),\n",
       " ('WDT VBD', 1),\n",
       " ('PRP JJR', 1),\n",
       " (\"'' NNP\", 1),\n",
       " ('RBR VBG', 1),\n",
       " ('NN EX', 1),\n",
       " (': WP', 1),\n",
       " ('JJS JJ', 1),\n",
       " ('VB VBP', 1),\n",
       " ('NNP DT', 1),\n",
       " ('RP :', 1),\n",
       " ('VBZ MD', 1),\n",
       " ('WRB NNS', 1),\n",
       " ('DT CC', 1),\n",
       " ('CC RBR', 1),\n",
       " ('`` RB', 1),\n",
       " ('TO ,', 1),\n",
       " ('VBN CD', 1),\n",
       " ('RP VBG', 1),\n",
       " ('RP VBZ', 1),\n",
       " ('RB NNS', 1),\n",
       " ('VBD VBZ', 1),\n",
       " ('DT VBP', 1),\n",
       " ('DT VBG', 1),\n",
       " ('DT VBD', 1),\n",
       " ('VBD PRP', 1),\n",
       " ('JJR NNP', 1),\n",
       " ('DT .', 1),\n",
       " ('WRB NNP', 1),\n",
       " ('WDT JJ', 1),\n",
       " ('PRP ,', 1),\n",
       " ('WDT RB', 1),\n",
       " ('VBZ WP', 1),\n",
       " ('`` DT', 1),\n",
       " ('JJS DT', 1),\n",
       " ('RBR CC', 1),\n",
       " ('PRP$ VBN', 1),\n",
       " ('TO CC', 1),\n",
       " (\"'' CC\", 1),\n",
       " ('WDT ,', 1),\n",
       " ('RB WP', 1),\n",
       " ('IN EX', 1),\n",
       " ('WRB VBZ', 1),\n",
       " ('VB RBR', 1),\n",
       " ('PRP$ CD', 1),\n",
       " ('NN POS', 1),\n",
       " ('VBP MD', 1),\n",
       " ('VBN MD', 1),\n",
       " (': VBZ', 1),\n",
       " ('RP RB', 1),\n",
       " ('NNS CD', 1),\n",
       " ('VBP PRP$', 1),\n",
       " (': CC', 1),\n",
       " ('EX VBD', 1),\n",
       " ('TO PRP', 1),\n",
       " (', ``', 1),\n",
       " (', VBD', 1),\n",
       " ('NNS RP', 1),\n",
       " ('JJS NNP', 1),\n",
       " ('CD VBN', 1),\n",
       " ('JJS NNS', 1),\n",
       " (': VB', 1),\n",
       " ('CD VBP', 1),\n",
       " ('CC :', 1),\n",
       " ('NNS WP$', 1),\n",
       " ('NN WP$', 1),\n",
       " ('NNPS ,', 1),\n",
       " ('NNPS .', 1),\n",
       " (': WRB', 1),\n",
       " ('# CD', 1),\n",
       " ('VBD CD', 1),\n",
       " ('VBP CC', 1),\n",
       " ('VBZ VBZ', 1),\n",
       " ('VBZ PRP$', 1),\n",
       " ('. PDT', 1),\n",
       " ('IN VBP', 1),\n",
       " ('POS JJ', 1),\n",
       " ('RB MD', 1),\n",
       " ('TO IN', 1)]"
      ]
     },
     "execution_count": 29,
     "metadata": {},
     "output_type": "execute_result"
    }
   ],
   "source": [
    "sorted_output"
   ]
  },
  {
   "cell_type": "code",
   "execution_count": 30,
   "metadata": {
    "collapsed": true
   },
   "outputs": [],
   "source": [
    "sorted_output2 = sorted(output2.items(), key=lambda x: x[1], reverse=True)"
   ]
  },
  {
   "cell_type": "code",
   "execution_count": 31,
   "metadata": {
    "collapsed": false
   },
   "outputs": [],
   "source": [
    "y = []\n",
    "for f in range(20):\n",
    "    y.append(sorted_output[f][1])"
   ]
  },
  {
   "cell_type": "code",
   "execution_count": 32,
   "metadata": {
    "collapsed": true
   },
   "outputs": [],
   "source": [
    "y2 = []\n",
    "for f in range(20):\n",
    "    y2.append(sorted_output2[f][1])"
   ]
  },
  {
   "cell_type": "code",
   "execution_count": 33,
   "metadata": {
    "collapsed": false,
    "scrolled": true
   },
   "outputs": [
    {
     "data": {
      "text/plain": [
       "[('NN', 1625),\n",
       " ('IN', 1009),\n",
       " ('DT', 933),\n",
       " ('JJ', 599),\n",
       " (',', 454),\n",
       " ('NNS', 400),\n",
       " ('VBZ', 367),\n",
       " ('RB', 367),\n",
       " ('NNP', 322),\n",
       " ('.', 300),\n",
       " ('VB', 299),\n",
       " ('PRP', 241),\n",
       " ('VBN', 240),\n",
       " ('TO', 232),\n",
       " ('VBG', 221),\n",
       " ('CC', 221),\n",
       " ('CD', 180),\n",
       " ('VBP', 167),\n",
       " ('MD', 100),\n",
       " ('VBD', 90),\n",
       " ('WRB', 73),\n",
       " ('PRP$', 47),\n",
       " ('WDT', 44),\n",
       " (':', 39),\n",
       " ('JJR', 34),\n",
       " ('RP', 26),\n",
       " ('RBR', 20),\n",
       " ('JJS', 14),\n",
       " ('EX', 12),\n",
       " ('WP', 9),\n",
       " ('``', 6),\n",
       " (\"''\", 6),\n",
       " ('POS', 5),\n",
       " ('PDT', 4),\n",
       " ('RBS', 4),\n",
       " ('WP$', 2),\n",
       " ('NNPS', 2),\n",
       " ('#', 1)]"
      ]
     },
     "execution_count": 33,
     "metadata": {},
     "output_type": "execute_result"
    }
   ],
   "source": [
    "tag_fd = nltk.FreqDist(tag for (word, tag) in text_tagged)\n",
    "tag_fd.most_common()"
   ]
  },
  {
   "cell_type": "code",
   "execution_count": 34,
   "metadata": {
    "collapsed": false
   },
   "outputs": [
    {
     "data": {
      "image/png": "[encoded data removed]",
      "text/plain": [
       "<matplotlib.figure.Figure at 0x1039c9fd0>"
      ]
     },
     "metadata": {},
     "output_type": "display_data"
    }
   ],
   "source": [
    "tag_fd.plot(cumulative=False)"
   ]
  },
  {
   "cell_type": "code",
   "execution_count": 43,
   "metadata": {
    "collapsed": false
   },
   "outputs": [],
   "source": [
    "y1 = [float(i)/sum(common_output.values()) for i in common_output.values()]\n",
    "y2 = [float(i)/sum(common_output2.values()) for i in common_output2.values()]"
   ]
  },
  {
   "cell_type": "code",
   "execution_count": 44,
   "metadata": {
    "collapsed": false
   },
   "outputs": [
    {
     "data": {
      "text/html": [
       "<iframe id=\"igraph\" scrolling=\"no\" style=\"border:none;\" seamless=\"seamless\" src=\"https://plot.ly/~karlinjzn/6.embed\" height=\"525px\" width=\"100%\"></iframe>"
      ],
      "text/plain": [
       "<plotly.tools.PlotlyDisplay object>"
      ]
     },
     "execution_count": 44,
     "metadata": {},
     "output_type": "execute_result"
    }
   ],
   "source": [
    "trace0 = go.Scatter(\n",
    "    x = range(len(common_output.values())),\n",
    "    y = y1,\n",
    "    name='paper 1',\n",
    "    mode='markers',\n",
    "    marker=dict(\n",
    "        size=y1,\n",
    "        sizemode='area',\n",
    "        sizeref=2.*max(y1)/(40.**2),\n",
    "        sizemin=4,\n",
    "    )\n",
    ")\n",
    "\n",
    "trace1 = go.Scatter(\n",
    "    x = range(len(common_output2.values())),\n",
    "    y = y2,\n",
    "    name='paper 2',\n",
    "    mode='markers',\n",
    "    marker=dict(\n",
    "        size=y2,\n",
    "        sizemode='area',\n",
    "        sizeref=2.*max(y2)/(40.**2),\n",
    "        sizemin=4,\n",
    "    )\n",
    ")\n",
    "\n",
    "data = [trace0,trace1]\n",
    "py.iplot(data, filename='PoS comparison')"
   ]
  },
  {
   "cell_type": "code",
   "execution_count": 56,
   "metadata": {
    "collapsed": true
   },
   "outputs": [],
   "source": [
    "y1 = [float(i)/sum(f_common_output.values()) for i in f_common_output.values()]\n",
    "y2 = [float(i)/sum(f_common_output2.values()) for i in f_common_output2.values()]"
   ]
  },
  {
   "cell_type": "code",
   "execution_count": 57,
   "metadata": {
    "collapsed": false
   },
   "outputs": [
    {
     "data": {
      "text/html": [
       "<iframe id=\"igraph\" scrolling=\"no\" style=\"border:none;\" seamless=\"seamless\" src=\"https://plot.ly/~karlinjzn/6.embed\" height=\"525px\" width=\"100%\"></iframe>"
      ],
      "text/plain": [
       "<plotly.tools.PlotlyDisplay object>"
      ]
     },
     "execution_count": 57,
     "metadata": {},
     "output_type": "execute_result"
    }
   ],
   "source": [
    "trace0 = go.Scatter(\n",
    "    x = range(len(f_common_output.values())),\n",
    "    y = y1,\n",
    "    name='paper 1',\n",
    "    mode='markers',\n",
    "    marker=dict(\n",
    "        size=y1,\n",
    "        sizemode='area',\n",
    "        sizeref=2.*max(y1)/(40.**2),\n",
    "        sizemin=4,\n",
    "    )\n",
    ")\n",
    "\n",
    "trace1 = go.Scatter(\n",
    "    x = range(len(f_common_output2.values())),\n",
    "    y = y2,\n",
    "    name='paper 2',\n",
    "    mode='markers',\n",
    "    marker=dict(\n",
    "        size=y2,\n",
    "        sizemode='area',\n",
    "        sizeref=2.*max(y2)/(40.**2),\n",
    "        sizemin=4,\n",
    "    )\n",
    ")\n",
    "\n",
    "data = [trace0,trace1]\n",
    "py.iplot(data, filename='PoS comparison')"
   ]
  },
  {
   "cell_type": "markdown",
   "metadata": {
    "collapsed": true
   },
   "source": [
    "# Readability Calculation"
   ]
  },
  {
   "cell_type": "code",
   "execution_count": 4,
   "metadata": {
    "collapsed": false
   },
   "outputs": [
    {
     "name": "stdout",
     "output_type": "stream",
     "text": [
      "18\n",
      "31\n"
     ]
    }
   ],
   "source": [
    "fk = FleschKincaid(open('/Users/zhuonijie/Desktop/nlp project/conf_hotos_AbadiBMWX13.txt').read(), locale='nl_NL')\n",
    "dc = DaleChall(open( '/Users/zhuonijie/Desktop/nlp project/conf_hotos_AbadiBMWX13.txt' ).read(), locale='de_DE')\n",
    "\n",
    "print(fk.min_age)\n",
    "print(dc.min_age)"
   ]
  },
  {
   "cell_type": "code",
   "execution_count": 5,
   "metadata": {
    "collapsed": false
   },
   "outputs": [
    {
     "name": "stdout",
     "output_type": "stream",
     "text": [
      "20\n",
      "32\n"
     ]
    }
   ],
   "source": [
    "fk = FleschKincaid(open('/Users/zhuonijie/Desktop/nlp project/conf_mobicom_LorchS96.txt').read(), locale='nl_NL')\n",
    "dc = DaleChall(open( '/Users/zhuonijie/Desktop/nlp project/conf_mobicom_LorchS96.txt' ).read(), locale='de_DE')\n",
    "\n",
    "print(fk.min_age)\n",
    "print(dc.min_age)"
   ]
  },
  {
   "cell_type": "markdown",
   "metadata": {
    "collapsed": true
   },
   "source": [
    "# Passive Voice Detector"
   ]
  },
  {
   "cell_type": "code",
   "execution_count": 17,
   "metadata": {
    "collapsed": false
   },
   "outputs": [
    {
     "name": "stdout",
     "output_type": "stream",
     "text": [
      "((u'fox', u'NN'), u'det', (u'the', u'DT'))\n",
      "((u'fox', u'NN'), u'amod', (u'quick', u'JJ'))\n",
      "((u'fox', u'NN'), u'amod', (u'brown', u'JJ'))\n",
      "((u'fox', u'NN'), u'dep', (u'jumps', u'NNS'))\n",
      "((u'jumps', u'NNS'), u'nmod', (u'dog', u'NN'))\n",
      "((u'dog', u'NN'), u'case', (u'over', u'IN'))\n",
      "((u'dog', u'NN'), u'det', (u'the', u'DT'))\n",
      "((u'dog', u'NN'), u'amod', (u'lazy', u'JJ'))\n"
     ]
    }
   ],
   "source": [
    "res = list(eng_parser.parse(\"the quick brown fox jumps over the lazy dog\".split()))\n",
    "for row in res[0].triples():\n",
    "    print row"
   ]
  },
  {
   "cell_type": "code",
   "execution_count": 19,
   "metadata": {
    "collapsed": false
   },
   "outputs": [
    {
     "name": "stdout",
     "output_type": "stream",
     "text": [
      "['My name is Tom.', 'I am a boy.', 'I like soccer!']\n"
     ]
    }
   ],
   "source": [
    "import nltk  \n",
    "import nltk.data  \n",
    "  \n",
    "def splitSentence(paragraph):  \n",
    "    tokenizer = nltk.data.load('tokenizers/punkt/english.pickle')  \n",
    "    sentences = tokenizer.tokenize(paragraph)  \n",
    "    return sentences  \n",
    "  \n",
    "if __name__ == '__main__':  \n",
    "    print splitSentence(\"My name is Tom. I am a boy. I like soccer!\")  "
   ]
  },
  {
   "cell_type": "code",
   "execution_count": 21,
   "metadata": {
    "collapsed": false
   },
   "outputs": [],
   "source": [
    "sentences = splitSentence(paper2)"
   ]
  },
  {
   "cell_type": "code",
   "execution_count": 22,
   "metadata": {
    "collapsed": false
   },
   "outputs": [
    {
     "data": {
      "text/plain": [
       "'Unfortunately several incidents in the last few years have proved that this trust is misplaced .'"
      ]
     },
     "execution_count": 22,
     "metadata": {},
     "output_type": "execute_result"
    }
   ],
   "source": [
    "sentences[3]"
   ]
  },
  {
   "cell_type": "code",
   "execution_count": 23,
   "metadata": {
    "collapsed": false
   },
   "outputs": [
    {
     "name": "stdout",
     "output_type": "stream",
     "text": [
      "((u'proved', u'VBN'), u'advmod', (u'Unfortunately', u'RB'))\n",
      "((u'proved', u'VBN'), u'nsubj', (u'incidents', u'NNS'))\n",
      "((u'incidents', u'NNS'), u'amod', (u'several', u'JJ'))\n",
      "((u'incidents', u'NNS'), u'nmod', (u'years', u'NNS'))\n",
      "((u'years', u'NNS'), u'case', (u'in', u'IN'))\n",
      "((u'years', u'NNS'), u'det', (u'the', u'DT'))\n",
      "((u'years', u'NNS'), u'amod', (u'last', u'JJ'))\n",
      "((u'years', u'NNS'), u'amod', (u'few', u'JJ'))\n",
      "((u'proved', u'VBN'), u'aux', (u'have', u'VBP'))\n",
      "((u'proved', u'VBN'), u'ccomp', (u'misplaced', u'VBN'))\n",
      "((u'misplaced', u'VBN'), u'mark', (u'that', u'IN'))\n",
      "((u'misplaced', u'VBN'), u'nsubjpass', (u'trust', u'NN'))\n",
      "((u'trust', u'NN'), u'det', (u'this', u'DT'))\n",
      "((u'misplaced', u'VBN'), u'auxpass', (u'is', u'VBZ'))\n"
     ]
    }
   ],
   "source": [
    "res = list(eng_parser.parse(sentences[3].split()))\n",
    "for row in res[0].triples():\n",
    "    print row"
   ]
  },
  {
   "cell_type": "markdown",
   "metadata": {},
   "source": [
    "# Diversity"
   ]
  },
  {
   "cell_type": "code",
   "execution_count": 2,
   "metadata": {
    "collapsed": false
   },
   "outputs": [],
   "source": [
    "import nltk #自然语言处理\n",
    "import re #正则\n",
    "from colorama import Fore,Back,Style #改变终端输出字体和颜色"
   ]
  },
  {
   "cell_type": "code",
   "execution_count": 3,
   "metadata": {
    "collapsed": false
   },
   "outputs": [
    {
     "name": "stdout",
     "output_type": "stream",
     "text": [
      "pen\n",
      "I have a \u001b[31mpen\u001b[0m\n",
      " and a pencil. But I don't want the \u001b[31mpen\u001b[0m\n",
      ", I just want a pencil.\n"
     ]
    }
   ],
   "source": [
    "ex_sent = \"I have a pen and a pencil. But I don't want the pen, I just want a pencil.\"\n",
    "sp_sent = nltk.word_tokenize(ex_sent) #分词\n",
    "\n",
    "wo = 'pen'\n",
    "\n",
    "if wo in sp_sent: #判断单词是否在句子中\n",
    "    print(wo)\n",
    "    n =sp_sent.count(wo) #计算单词出现频率\n",
    "    nn = 0\n",
    "\n",
    "    while(nn<n): #按词频拆分句子\n",
    "\n",
    "        print re.split(r'\\b%s\\b'%wo,ex_sent)[nn] + Fore.RED + wo + Style.RESET_ALL#,end = '' #正则拆分句子，单词用Fore.RED + 单词 +Style.RESET_ALL在终端中标出\n",
    "\n",
    "        nn =nn+1\n",
    "\n",
    "        if(nn== n): #输出最后一次拆分结果的后半部分\n",
    "\n",
    "            print re.split(r'\\b%s\\b'%wo,ex_sent)[nn]#,end = '')"
   ]
  },
  {
   "cell_type": "code",
   "execution_count": 4,
   "metadata": {
    "collapsed": false
   },
   "outputs": [
    {
     "name": "stdout",
     "output_type": "stream",
     "text": [
      "\u001b[31msome red text\n",
      "\u001b[0m\n",
      "\u001b[43mand with a yellow background\n",
      "\u001b[0m\n",
      "\u001b[30mand with no background\n"
     ]
    }
   ],
   "source": [
    "print (Fore.RED + \"some red text\")\n",
    "print Style.RESET_ALL\n",
    "print (Back.YELLOW + \"and with a yellow background\")\n",
    "print Style.RESET_ALL\n",
    "print (Fore.BLACK + \"and with no background\")"
   ]
  },
  {
   "cell_type": "code",
   "execution_count": 6,
   "metadata": {
    "collapsed": true
   },
   "outputs": [],
   "source": [
    "with open(\"conf_mobicom_LorchS96.txt\",'rU') as f:\n",
    "    paper = f.read()\n",
    "\n",
    "words = nltk.word_tokenize(paper)"
   ]
  },
  {
   "cell_type": "code",
   "execution_count": 7,
   "metadata": {
    "collapsed": true
   },
   "outputs": [],
   "source": [
    "tags = set(['VB', 'VBD', 'VBG', 'VBN', 'VBP', 'VBZ'])  \n",
    "pos_tags = nltk.pos_tag(words)"
   ]
  },
  {
   "cell_type": "code",
   "execution_count": 8,
   "metadata": {
    "collapsed": false
   },
   "outputs": [
    {
     "name": "stdout",
     "output_type": "stream",
     "text": [
      "The CPU \u001b[43mis \u001b[0m one of the major power consumers in a portable computer , and considerable power can \u001b[43mbe \u001b[0m \u001b[43msaved \u001b[0m by \u001b[43mturning \u001b[0m off the CPU when it \u001b[43mis \u001b[0m not \u001b[43mdoing \u001b[0m useful work . In Apple 's MacOS , however , idle time \u001b[43mis \u001b[0m often \u001b[43mconverted \u001b[0m to busy \u001b[43mwaiting \u001b[0m , and generally it \u001b[43mis \u001b[0m very hard to \u001b[43mtell \u001b[0m when no useful computation \u001b[43mis \u001b[0m \u001b[43moccurring \u001b[0m . In this paper , we \u001b[43msuggest \u001b[0m several heuristic techniques for \u001b[43midentifying \u001b[0m this condition , and for temporarily \u001b[43mputting \u001b[0m the CPU in a low-power state . These techniques \u001b[43minclude \u001b[0m \u001b[43mturning \u001b[0m off the processor when all processes \u001b[43mare \u001b[0m \u001b[43mblocked \u001b[0m , \u001b[43mturning \u001b[0m off the processor when \u001b[43mprocesses \u001b[0m \u001b[43mappear \u001b[0m to \u001b[43mbe \u001b[0m busy \u001b[43mwaiting \u001b[0m , and \u001b[43mextending \u001b[0m real time process sleep periods . We \u001b[43muse \u001b[0m trace-driven simulation , \u001b[43musing \u001b[0m processor \u001b[43mrun \u001b[0m interval traces , to \u001b[43mevaluate \u001b[0m the potential energy savings and performance impact . We \u001b[43mfind \u001b[0m that these techniques \u001b[43msave \u001b[0m considerable amounts of processor energy , while \u001b[43mhaving \u001b[0m very little performance impact . \u001b[43mImplementing \u001b[0m the \u001b[43mproposed \u001b[0m strategies should \u001b[43mincrease \u001b[0m battery lifetime by approximately 20 % relative to Apple 's current CPU power management strategy , since the CPU and \u001b[43massociated \u001b[0m logic \u001b[43mare \u001b[0m responsible for about 32 % of power use ; similar techniques should \u001b[43mbe \u001b[0m applicable to \u001b[43moperating \u001b[0m systems with similar behavior . For these reasons , much work \u001b[43mhas \u001b[0m \u001b[43mbeen \u001b[0m \u001b[43mdone \u001b[0m in \u001b[43mreducing \u001b[0m the power consumption of computers . In and , we \u001b[43manalyzed \u001b[0m the power consumption of various Macintosh PowerBook computers , in typical use by a number of engineering users . We \u001b[43mfound \u001b[0m that , \u001b[43mdepending \u001b[0m on the machine and user , up to 18-34 % of total power \u001b[43mwas \u001b[0m attributable to components whose power consumption could \u001b[43mbe \u001b[0m \u001b[43mreduced \u001b[0m by power management of the processor , i.e . This high percentage , \u001b[43mcombined \u001b[0m with our intuition that software power management could \u001b[43mbe \u001b[0m significantly \u001b[43mimproved \u001b[0m for the processor , \u001b[43mled \u001b[0m us to \u001b[43mconclude \u001b[0m that the most important target for further research in software power management \u001b[43mwas \u001b[0m the processor . Many modern microprocessors \u001b[43mhave \u001b[0m low-power states , in which they \u001b[43mconsume \u001b[0m little or no power . To \u001b[43mtake \u001b[0m advantage of such low-power states , the operating system \u001b[43mneeds \u001b[0m to \u001b[43mdirect \u001b[0m the processor to \u001b[43mturn \u001b[0m off when it \u001b[43mis \u001b[0m \u001b[43mpredicted \u001b[0m that the consequent savings in power will \u001b[43mbe \u001b[0m worth the time and energy overhead of \u001b[43mturning \u001b[0m off and \u001b[43mrestarting \u001b[0m . In this way , the goal of processor power management strategies \u001b[43mis \u001b[0m similar to that of hard disks . Some strategies for \u001b[43mmaking \u001b[0m these predictions \u001b[43mare \u001b[0m \u001b[43mdescribed \u001b[0m by Srivastava et al . For instance , the AT & T Hobbit and certain versions of the MC68030 and MC68040 \u001b[43muse \u001b[0m static logic so that most of their state can \u001b[43mbe \u001b[0m \u001b[43mretained \u001b[0m when the clock \u001b[43mis \u001b[0m \u001b[43mshut \u001b[0m down . Also , the PowerPC 603 can \u001b[43mexit \u001b[0m the low-power Doze mode in about ten system clocks . Because of the short delay and low energy cost for \u001b[43mentering \u001b[0m and \u001b[43mleaving \u001b[0m a low-power state , the optimal CPU power management strategy \u001b[43mis \u001b[0m trivial : \u001b[43mturn \u001b[0m off the CPU whenever there \u001b[43mis \u001b[0m no useful work to \u001b[43mdo \u001b[0m . An opportunityfor such a strategy \u001b[43mis \u001b[0m \u001b[43mdescribed \u001b[0m by Srivastava et al . This material \u001b[43mis \u001b[0m \u001b[43mbased \u001b[0m upon work \u001b[43msupported \u001b[0m by a National Science Foundation Graduate Research Fellowship , by Apple Computer , and also in part by the National Science Foundation under grants MIP-9116578 and CCR-9117028 , by the State of California under the MICRO program , and by Intel Corporation and Sun Microsystems . Although the work \u001b[43mpresented \u001b[0m here \u001b[43mhas \u001b[0m \u001b[43mbenefited \u001b[0m from support from and cooperation by Apple , the relationship between this work and Apple 's product development plans \u001b[43mhas \u001b[0m yet to \u001b[43mbe \u001b[0m \u001b[43mdetermined \u001b[0m . To \u001b[43mappear \u001b[0m in the Second ACM International Conference on Mobile Computing and Networking , November 1996 , Rye , New York . Copyright c 1996 by the Association for \u001b[43mComputing \u001b[0m Machinery , Inc . Copyrights for components of this work \u001b[43mowned \u001b[0m by others than ACM must \u001b[43mbe \u001b[0m \u001b[43mhonored \u001b[0m . \u001b[43mAbstracting \u001b[0m with credit \u001b[43mis \u001b[0m \u001b[43mpermitted \u001b[0m . To \u001b[43mcopy \u001b[0m otherwise , to \u001b[43mrepublish \u001b[0m , to \u001b[43mpost \u001b[0m on servers , or to \u001b[43mredistribute \u001b[0m to lists , \u001b[43mrequires \u001b[0m prior specific permission and/or a fee . An essentially equivalent version of this strategy , namely to \u001b[43mestablish \u001b[0m a virtual lowest-priority process whose job \u001b[43mis \u001b[0m to \u001b[43mturn \u001b[0m off the processor when it \u001b[43mruns \u001b[0m , \u001b[43mis \u001b[0m \u001b[43mrecommended \u001b[0m by Suessmith and Paap for the PowerPC 603 , and by Suzuki and Uno in a 1993 patent . Such a virtual lowest-priority process \u001b[43mhas \u001b[0m in the past \u001b[43mbeen \u001b[0m \u001b[43mcalled \u001b[0m the `` idle loop , '' and in mainframes typically \u001b[43mlighted \u001b[0m a bulb on the console . We \u001b[43mrefer \u001b[0m to the strategy of \u001b[43mturning \u001b[0m off the processor when no process \u001b[43mis \u001b[0m available to \u001b[43mrun \u001b[0m the basic strategy . Unfortunately , in Apple 's MacOS , \u001b[43mprocesses \u001b[0m can \u001b[43mrun \u001b[0m or \u001b[43mbe \u001b[0m \u001b[43mscheduled \u001b[0m to \u001b[43mrun \u001b[0m even when they \u001b[43mhave \u001b[0m no useful work to \u001b[43mdo \u001b[0m . This feature \u001b[43mis \u001b[0m partially by design , since in a single-user system there \u001b[43mis \u001b[0m less need for the operating system to \u001b[43mact \u001b[0m as an arbiter of resource use . Partially , it \u001b[43mis \u001b[0m because the OS \u001b[43mwas \u001b[0m not \u001b[43mwritten \u001b[0m with power management in mind . There \u001b[43mare \u001b[0m two main problems with the current management of processor time , one \u001b[43mhaving \u001b[0m to \u001b[43mdo \u001b[0m with the system and one \u001b[43mhaving \u001b[0m to \u001b[43mdo \u001b[0m with applications . The first problem \u001b[43mis \u001b[0m that the operating system will sometimes \u001b[43mschedule \u001b[0m a process even though it \u001b[43mhas \u001b[0m no work to \u001b[43mdo \u001b[0m . We \u001b[43mwere \u001b[0m first \u001b[43mmade \u001b[0m aware of this phenomenon when we \u001b[43mstudied \u001b[0m traces of MacOS process \u001b[43mscheduling \u001b[0m calls , and \u001b[43mfound \u001b[0m that often a process would \u001b[43mbe \u001b[0m \u001b[43mscheduled \u001b[0m to \u001b[43mrun \u001b[0m before the conditions the process \u001b[43mhad \u001b[0m \u001b[43mestablished \u001b[0m as necessary for it to \u001b[43mbe \u001b[0m ready \u001b[43mwere \u001b[0m \u001b[43mfulfilled \u001b[0m . It \u001b[43mseems \u001b[0m that often , when there \u001b[43mare \u001b[0m no ready processes , the OS \u001b[43mpicks \u001b[0m one to \u001b[43mrun \u001b[0m anyway , usually the process \u001b[43massociated \u001b[0m with the active window . The second problem \u001b[43mis \u001b[0m that programmers \u001b[43mwriting \u001b[0m applications generally \u001b[43massume \u001b[0m that when their application \u001b[43mis \u001b[0m \u001b[43mrunning \u001b[0m in the foreground , it \u001b[43mis \u001b[0m \u001b[43mjustified \u001b[0m in \u001b[43mtaking \u001b[0m as much processing time as it \u001b[43mwants \u001b[0m . First , a process will often \u001b[43mrequest \u001b[0m processor time even when it \u001b[43mhas \u001b[0m nothing to \u001b[43mdo \u001b[0m . We \u001b[43mdiscovered \u001b[0m this problem in MacOS when we \u001b[43mdiscovered \u001b[0m periods of as long as ten minutes during which a process never \u001b[43mdid \u001b[0m anything , yet never \u001b[43mblocked \u001b[0m ; we \u001b[43mdescribe \u001b[0m later what we \u001b[43mmean \u001b[0m by `` never \u001b[43mdid \u001b[0m anything . '' Second , when a process \u001b[43mdecides \u001b[0m to \u001b[43mblock \u001b[0m , it often \u001b[43mrequests \u001b[0m a shorter sleep period than necessary . Solutions to both these problems \u001b[43mseem \u001b[0m to \u001b[43mbe \u001b[0m necessary to \u001b[43mobtain \u001b[0m the most savings from the basic strategy . For this reason , we \u001b[43mhave \u001b[0m \u001b[43mdeveloped \u001b[0m additional techniques for process management . Our technique for \u001b[43mdealing \u001b[0m with the first problem \u001b[43mis \u001b[0m to simply \u001b[43mmake \u001b[0m the operating system never \u001b[43mschedule \u001b[0m a process when it \u001b[43mhas \u001b[0m \u001b[43mrequested \u001b[0m to \u001b[43mbe \u001b[0m \u001b[43mblocked \u001b[0m ; we \u001b[43mcall \u001b[0m this the simple scheduling technique . One technique we \u001b[43msuggest \u001b[0m \u001b[43mis \u001b[0m to \u001b[43muse \u001b[0m a heuristic to \u001b[43mdecide \u001b[0m when a process \u001b[43mis \u001b[0m \u001b[43mmaking \u001b[0m unnecessary requests for processor time and to forcibly \u001b[43mblock \u001b[0m any such process . Another technique we \u001b[43msuggest \u001b[0m \u001b[43mis \u001b[0m that all sleep times \u001b[43mrequested \u001b[0m by processes \u001b[43mbe \u001b[0m \u001b[43mmultiplied \u001b[0m by a constant factor , \u001b[43mchosen \u001b[0m by the user or operating system , to \u001b[43mensure \u001b[0m that a reasonable trade-off between energy savings and performance \u001b[43mis \u001b[0m \u001b[43mobtained \u001b[0m . We \u001b[43mcall \u001b[0m these latter two techniques the greediness technique and sleep extension technique , respectively . We will \u001b[43mshow \u001b[0m how \u001b[43musing \u001b[0m these techniques can \u001b[43mimprove \u001b[0m the effectiveness of the basic strategy , \u001b[43mallowing \u001b[0m it to far \u001b[43msurpass \u001b[0m the effectiveness of the current MacOS inactivity-timer \u001b[43mbased \u001b[0m strategy . Each of these \u001b[43mis \u001b[0m \u001b[43mdescribed \u001b[0m in more detail below . In this paper , we \u001b[43mevaluate \u001b[0m these different strategies , over a variety of parameter values , \u001b[43musing \u001b[0m trace-driven simulation . These simulations \u001b[43menable \u001b[0m us to \u001b[43mcompare \u001b[0m these algorithms to the current MacOS strategy , and to \u001b[43moptimize \u001b[0m their parameters . A comparison between two strategies \u001b[43mis \u001b[0m \u001b[43mbased \u001b[0m on two consequences of each strategy : how much processor power it \u001b[43msaves \u001b[0m and how much it \u001b[43mdecreases \u001b[0m observed performance . The paper \u001b[43mis \u001b[0m \u001b[43mstructured \u001b[0m as \u001b[43mfollows \u001b[0m . In Section 2 , we \u001b[43mdescribe \u001b[0m in detail the strategies we will \u001b[43mbe \u001b[0m \u001b[43mcomparing \u001b[0m , \u001b[43mincluding \u001b[0m the current strategy \u001b[43mused \u001b[0m by MacOS , the basic strategy , and our suggested process management techniques for \u001b[43mimproving \u001b[0m the basic strategy . In Section 3 , we \u001b[43mdescribe \u001b[0m the methodology we \u001b[43mused \u001b[0m to \u001b[43mevaluate \u001b[0m these strategies : the evaluation criteria , the tools we \u001b[43mused \u001b[0m for the trace-driven simulation , and the nature of the traces we \u001b[43mcollected \u001b[0m . In Section 4 , we \u001b[43mpresent \u001b[0m the results of our simulations . In Section 5 , we \u001b[43mdiscuss \u001b[0m the meaning and consequences of these results , and \u001b[43mpoint \u001b[0m the way to future work . The currently \u001b[43mused \u001b[0m processor power management strategy in MacOS \u001b[43mis \u001b[0m \u001b[43mbased \u001b[0m on an inactivity timer . The operating system will \u001b[43minitiate \u001b[0m processor power reduction whenever no activity \u001b[43mhas \u001b[0m \u001b[43moccurred \u001b[0m in the last two seconds and no I/O activity \u001b[43mhas \u001b[0m \u001b[43moccurred \u001b[0m in the last 15 seconds . Power reduction \u001b[43mis \u001b[0m \u001b[43mhalted \u001b[0m whenever activity \u001b[43mis \u001b[0m once again detected . Activity \u001b[43mis \u001b[0m \u001b[43mdefined \u001b[0m here and in later contexts as any user input , any I/O device \u001b[43mread \u001b[0m or \u001b[43mwrite \u001b[0m , any change in the appearance of the cursor , or any time \u001b[43mspent \u001b[0m with the cursor as a watch . The reason for the classification of these latter two as activity \u001b[43mis \u001b[0m that MacOS human interface guidelines \u001b[43mspecify \u001b[0m that a process that \u001b[43mis \u001b[0m actively \u001b[43mcomputing \u001b[0m must \u001b[43mindicate \u001b[0m this to the user by \u001b[43mhaving \u001b[0m the cursor \u001b[43mappear \u001b[0m as a watch or by frequently \u001b[43mchanging \u001b[0m the appearance of the cursor , e.g . The basic strategy \u001b[43mis \u001b[0m to \u001b[43mturn \u001b[0m off the processor whenever all processes \u001b[43mare \u001b[0m \u001b[43mblocked \u001b[0m . Unfortunately , under MacOS , this \u001b[43mis \u001b[0m not often the case , since MacOS frequently \u001b[43mschedules \u001b[0m some process whether or not the event for which the process \u001b[43mwas \u001b[0m \u001b[43mwaiting \u001b[0m \u001b[43mhas \u001b[0m actually \u001b[43moccurred \u001b[0m . One might \u001b[43mwonder \u001b[0m why MacOS \u001b[43muses \u001b[0m this inactivity timer \u001b[43mbased \u001b[0m strategy instead of the basic strategy . One reason \u001b[43mis \u001b[0m that all but the most recent Macintosh computers \u001b[43mhave \u001b[0m high overhead \u001b[43massociated \u001b[0m with \u001b[43mturning \u001b[0m off and on the processor , \u001b[43mmaking \u001b[0m the basic strategy less applicable . In older processors , for example , the contents of on-chip caches \u001b[43mwere \u001b[0m \u001b[43mlost \u001b[0m when the processor \u001b[43mwas \u001b[0m \u001b[43mpowered \u001b[0m down . Another reason \u001b[43mis \u001b[0m that , as we \u001b[43mhave \u001b[0m \u001b[43mdescribed \u001b[0m before and will \u001b[43msee \u001b[0m later , the effectiveness of the basic strategy \u001b[43mis \u001b[0m not very different from that of the inactivity timer \u001b[43mbased \u001b[0m strategy , \u001b[43mgiven \u001b[0m the current MacOS method of process time management . The greediness technique \u001b[43mis \u001b[0m , in overview , to \u001b[43midentify \u001b[0m and \u001b[43mblock \u001b[0m processes that \u001b[43mare \u001b[0m not \u001b[43mdoing \u001b[0m useful work . First , we will \u001b[43mdescribe \u001b[0m the technique in general terms , and then we will \u001b[43mindicate \u001b[0m the details of its implementation for the MacOS . The technique \u001b[43mis \u001b[0m \u001b[43mbased \u001b[0m on the following model of the appropriate way a process should \u001b[43moperate \u001b[0m in an event-driven environment . A process , upon \u001b[43mreceiving \u001b[0m an event , should \u001b[43mprocess \u001b[0m that event , \u001b[43mblocking \u001b[0m when and only when it \u001b[43mhas \u001b[0m \u001b[43mfinished \u001b[0m that \u001b[43mprocessing \u001b[0m . Once \u001b[43mblocked \u001b[0m , it should \u001b[43mbe \u001b[0m \u001b[43mscheduled \u001b[0m again when and only when another event \u001b[43mis \u001b[0m ready to \u001b[43mbe \u001b[0m \u001b[43mprocessed \u001b[0m ; an exception \u001b[43mis \u001b[0m that the process may \u001b[43mwant \u001b[0m to \u001b[43mbe \u001b[0m \u001b[43mscheduled \u001b[0m periodically to \u001b[43mperform \u001b[0m periodic tasks , such as \u001b[43mblinking \u001b[0m the cursor or \u001b[43mchecking \u001b[0m whether it \u001b[43mis \u001b[0m time to \u001b[43mdo \u001b[0m backups . We \u001b[43msay \u001b[0m that a process \u001b[43mis \u001b[0m \u001b[43macting \u001b[0m greedily when it \u001b[43mfails \u001b[0m to \u001b[43mblock \u001b[0m even after it \u001b[43mhas \u001b[0m \u001b[43mfinished \u001b[0m \u001b[43mprocessing \u001b[0m an event . This can \u001b[43moccur \u001b[0m when a process busy waits in some manner , e.g . When we \u001b[43mdetermine \u001b[0m a process \u001b[43mis \u001b[0m \u001b[43macting \u001b[0m greedily , we will forcibly \u001b[43mblock \u001b[0m that process for a set period of time . MacOS \u001b[43muses \u001b[0m cooperative multitasking , \u001b[43mmeaning \u001b[0m that once a process \u001b[43mgets \u001b[0m control of the processor , it \u001b[43mretains \u001b[0m that control until it \u001b[43mchooses \u001b[0m to \u001b[43myield \u001b[0m control . For this reason , application writers \u001b[43mare \u001b[0m strongly \u001b[43mencouraged \u001b[0m to \u001b[43mhave \u001b[0m their processes \u001b[43myield \u001b[0m control periodically , even when they still \u001b[43mhave \u001b[0m work to \u001b[43mdo \u001b[0m . \u001b[43mProcesses \u001b[0m \u001b[43mindicate \u001b[0m that they still \u001b[43mhave \u001b[0m work to \u001b[43mdo \u001b[0m by \u001b[43mspecifying \u001b[0m a sleep period of zero , thereby \u001b[43mfailing \u001b[0m to \u001b[43mblock \u001b[0m . We \u001b[43mcall \u001b[0m the period of time between when a process gains control of the processor and when it \u001b[43myields \u001b[0m \u001b[43mcontrol \u001b[0m a quantum . Part of our technique \u001b[43mis \u001b[0m a heuristic to \u001b[43mdetermine \u001b[0m when a process \u001b[43mis \u001b[0m \u001b[43macting \u001b[0m greedily . We \u001b[43msay \u001b[0m that a process \u001b[43mis \u001b[0m \u001b[43macting \u001b[0m greedily when it \u001b[43mspecifies \u001b[0m a sleep period of zero even though it \u001b[43mseems \u001b[0m not to \u001b[43mbe \u001b[0m actively \u001b[43mcomputing \u001b[0m . We \u001b[43mconsider \u001b[0m a process to \u001b[43mstart \u001b[0m actively \u001b[43mcomputing \u001b[0m when it \u001b[43mreceives \u001b[0m an event or \u001b[43mshows \u001b[0m some signs of `` activity , '' as \u001b[43mdefined \u001b[0m below . We \u001b[43mestimate \u001b[0m that a process \u001b[43mis \u001b[0m no longer actively \u001b[43mcomputing \u001b[0m if it explicitly \u001b[43mblocks \u001b[0m , or if it \u001b[43myields \u001b[0m \u001b[43mcontrol \u001b[0m several times in a row without \u001b[43mreceiving \u001b[0m an event or \u001b[43mshowing \u001b[0m signs of activity . The exact number of control-yieldtimes , which we \u001b[43mcall \u001b[0m the greediness threshold , \u001b[43mis \u001b[0m a parameter of the technique ; we \u001b[43mexpect \u001b[0m it to \u001b[43mbe \u001b[0m \u001b[43mset \u001b[0m so as to \u001b[43mmaximize \u001b[0m energy savings , \u001b[43mgiven \u001b[0m a desired level of performance . We \u001b[43msay \u001b[0m that a process \u001b[43mshows \u001b[0m no sign of activity if it \u001b[43mperforms \u001b[0m no I/O device \u001b[43mread \u001b[0m or write , \u001b[43mdoes \u001b[0m not \u001b[43mhave \u001b[0m the sound chip on , \u001b[43mdoes \u001b[0m not \u001b[43mchange \u001b[0m the appearance of the cursor , and \u001b[43mdoes \u001b[0m not \u001b[43mhave \u001b[0m the cursor \u001b[43mappear \u001b[0m as a watch . The absence of activity as we \u001b[43mhave \u001b[0m so \u001b[43mdefined \u001b[0m it \u001b[43mimplies \u001b[0m that either the CPU \u001b[43mis \u001b[0m idle , the process \u001b[43mrunning \u001b[0m \u001b[43mis \u001b[0m busy \u001b[43mwaiting \u001b[0m in some manner , or the process running \u001b[43mis \u001b[0m \u001b[43mviolating \u001b[0m the MacOS human interface guidelines that we \u001b[43mmentioned \u001b[0m earlier . The greediness technique \u001b[43mworks \u001b[0m as \u001b[43mfollows \u001b[0m . When the OS \u001b[43mdetermines \u001b[0m that a process \u001b[43mis \u001b[0m \u001b[43macting \u001b[0m greedily as \u001b[43mdefined \u001b[0m above , The simple scheduling technique \u001b[43mis \u001b[0m to not \u001b[43mschedule \u001b[0m a process until the condition under which it \u001b[43mhas \u001b[0m \u001b[43mindicated \u001b[0m it will \u001b[43mbe \u001b[0m ready to \u001b[43mrun \u001b[0m \u001b[43mhas \u001b[0m \u001b[43mbeen \u001b[0m \u001b[43mmet \u001b[0m . In MacOS , this condition \u001b[43mis \u001b[0m always explicitly \u001b[43mindicated \u001b[0m by the process , and \u001b[43mis \u001b[0m always of the form , `` any of the event \u001b[43mtypes \u001b[0m e1 ; e2 ; : : : \u001b[43mhas \u001b[0m \u001b[43moccurred \u001b[0m , or a period of time t \u001b[43mhas \u001b[0m \u001b[43mpassed \u001b[0m since the process last \u001b[43myielded \u001b[0m control of the processor . '' The period of time for which the process \u001b[43mis \u001b[0m willing to \u001b[43mwait \u001b[0m in the absence of events before \u001b[43mbeing \u001b[0m \u001b[43mscheduled \u001b[0m \u001b[43mis \u001b[0m \u001b[43mreferred \u001b[0m to as the sleep period . Note that , in some other \u001b[43moperating \u001b[0m systems , such as UNIX or Microsoft Windows , the simple scheduling technique \u001b[43mis \u001b[0m not \u001b[43mneeded \u001b[0m , since it \u001b[43mis \u001b[0m the default behavior of the operating system . \u001b[43mUsing \u001b[0m only the simple scheduling technique \u001b[43mdescribed \u001b[0m above means that a process \u001b[43mis \u001b[0m \u001b[43mgiven \u001b[0m control of the processor whenever it \u001b[43mwants \u001b[0m it . For example , if it \u001b[43masks \u001b[0m to \u001b[43mbe \u001b[0m unblocked every 1 second , it \u001b[43mis \u001b[0m unblocked every 1 second , even if all it \u001b[43mwants \u001b[0m to \u001b[43mdo \u001b[0m \u001b[43mis \u001b[0m \u001b[43mblink \u001b[0m the cursor , a common occurrence . Since MacOS \u001b[43mis \u001b[0m not a real time system , a real time sleep period \u001b[43mdoes \u001b[0m not actually \u001b[43mhave \u001b[0m to \u001b[43mbe \u001b[0m \u001b[43mhonored \u001b[0m . In fact , in the current MacOS power management strategy , with power management \u001b[43menabled \u001b[0m , the cursor may \u001b[43mblink \u001b[0m much more slowly than it would without power management . If this kind of behavior \u001b[43mis \u001b[0m acceptable , it \u001b[43mis \u001b[0m possible to \u001b[43mincrease \u001b[0m the effectiveness of the simple scheduling technique by \u001b[43musing \u001b[0m what we \u001b[43mcall \u001b[0m the sleep extension technique . This technique \u001b[43mspecifies \u001b[0m a sleep multiplier , a number greater than one by which all sleep periods \u001b[43mare \u001b[0m \u001b[43mmultiplied \u001b[0m , thus \u001b[43meliminating \u001b[0m some fraction of the process run intervals . We \u001b[43menvision \u001b[0m that the sleep multiplier can \u001b[43mbe \u001b[0m \u001b[43mset \u001b[0m , either by the user or by the operating system , so as to \u001b[43mmaximize \u001b[0m energy savings , \u001b[43mgiven \u001b[0m a certain level of performance \u001b[43mdesired \u001b[0m . The forced sleep period \u001b[43mis \u001b[0m a parameter to \u001b[43mbe \u001b[0m \u001b[43moptimized \u001b[0m , with the \u001b[43mfollowing \u001b[0m tradeoff : a short sleep period \u001b[43msaves \u001b[0m insufficient power , while a long sleep period may , in the case that our heuristic fails , \u001b[43mblock \u001b[0m a process that \u001b[43mis \u001b[0m actually \u001b[43mdoing \u001b[0m something useful . Evaluation of a strategy \u001b[43mrequires \u001b[0m \u001b[43mmeasuring \u001b[0m two consequences of that strategy : processor energy savings and performance impact . Processor energy savings \u001b[43mis \u001b[0m easy to \u001b[43mdeduce \u001b[0m from a simulation , since it \u001b[43mis \u001b[0m essentially the percent decrease in the time the processor \u001b[43mspends \u001b[0m in the high-power state . In contrast , performance impact , by which we \u001b[43mmean \u001b[0m the percent increase in workload runtime as a result of \u001b[43musing \u001b[0m a power-saving strategy , \u001b[43mis \u001b[0m difficult to \u001b[43mmeasure \u001b[0m . This performance penalty \u001b[43mstems \u001b[0m from the fact that a power \u001b[43msaving \u001b[0m strategy will sometimes \u001b[43mcause \u001b[0m the processor not to \u001b[43mrun \u001b[0m when it would otherwise \u001b[43mbe \u001b[0m \u001b[43mperforming \u001b[0m useful work . Such work will \u001b[43mwind \u001b[0m up \u001b[43mhaving \u001b[0m to \u001b[43mbe \u001b[0m \u001b[43mscheduled \u001b[0m later , \u001b[43mmaking \u001b[0m the workload take longer to \u001b[43mcomplete \u001b[0m . Without detailed knowledge of the purpose of instruction sequences , it \u001b[43mis \u001b[0m difficult for a tracer to accurately \u001b[43mdetermine \u001b[0m what work \u001b[43mis \u001b[0m useful and what \u001b[43mis \u001b[0m not , so our measure will necessarily \u001b[43mbe \u001b[0m inexact . We \u001b[43mhave \u001b[0m \u001b[43mdecided \u001b[0m to \u001b[43muse \u001b[0m the same heuristic \u001b[43mused \u001b[0m in the greediness technique to \u001b[43mdetermine \u001b[0m when the processor \u001b[43mis \u001b[0m \u001b[43mdoing \u001b[0m useful work . In other words , we will \u001b[43mcall \u001b[0m a quantum useful if , during that quantum , there \u001b[43mis \u001b[0m any I/O device \u001b[43mread \u001b[0m or \u001b[43mwrite \u001b[0m , the sound chip \u001b[43mis \u001b[0m on , there \u001b[43mis \u001b[0m any change to the cursor , or the cursor \u001b[43mappears \u001b[0m as a watch . It might \u001b[43mbe \u001b[0m \u001b[43mobjected \u001b[0m that \u001b[43musing \u001b[0m the same heuristic in the evaluation of a strategy as \u001b[43mis \u001b[0m \u001b[43mused \u001b[0m by that strategy \u001b[43mis \u001b[0m invalid . However , \u001b[43mremember \u001b[0m that a strategy \u001b[43mdoes \u001b[0m not \u001b[43mhave \u001b[0m prior knowledge of when a quantum will \u001b[43mbe \u001b[0m useful , whereas the evaluation system \u001b[43mdoes \u001b[0m . \u001b[43mThus \u001b[0m , we \u001b[43mare \u001b[0m \u001b[43mevaluating \u001b[0m the accuracy of our guess that a quantum will \u001b[43mbe \u001b[0m useful or useless . We must also \u001b[43maccount \u001b[0m for the time not spent inside application code in the original trace . We \u001b[43mdivide \u001b[0m this time into time \u001b[43mspent \u001b[0m \u001b[43mswitching \u001b[0m processes in and out , time \u001b[43mspent \u001b[0m context switching , time the OS \u001b[43mspent \u001b[0m \u001b[43mdoing \u001b[0m useful work , and OS idle time . The OS \u001b[43mis \u001b[0m \u001b[43mconsidered \u001b[0m to \u001b[43mbe \u001b[0m \u001b[43mdoing \u001b[0m useful work whenever it \u001b[43mshows \u001b[0m signs of activity that would \u001b[43mcause \u001b[0m a process quantum to \u001b[43mbe \u001b[0m \u001b[43mlabeled \u001b[0m useful . Such useful work \u001b[43mis \u001b[0m \u001b[43mscheduled \u001b[0m in the simulations immediately after the quantum that it originally \u001b[43mfollowed \u001b[0m \u001b[43mis \u001b[0m \u001b[43mscheduled \u001b[0m , on the assumption that most significant OS work \u001b[43mis \u001b[0m \u001b[43mnecessitated \u001b[0m by the actions of the process that just \u001b[43mran \u001b[0m . Idle time \u001b[43mis \u001b[0m \u001b[43midentified \u001b[0m whenever no process \u001b[43mis \u001b[0m \u001b[43mrunning \u001b[0m and the operating system \u001b[43mis \u001b[0m not \u001b[43mdoing \u001b[0m useful work for a continuous period over 16 ms. We \u001b[43mchose \u001b[0m this threshold for two reasons . First , it \u001b[43mis \u001b[0m the smallest time unit \u001b[43mused \u001b[0m for process scheduling by MacOS , so we \u001b[43mexpect \u001b[0m any decision to \u001b[43midle \u001b[0m to \u001b[43mresult \u001b[0m in at least this much idleness . Finally , context switch time \u001b[43mis \u001b[0m \u001b[43massumed \u001b[0m to \u001b[43moccur \u001b[0m any time a process switches in that \u001b[43mis \u001b[0m different from the one that last \u001b[43mswitched \u001b[0m out ; context switches \u001b[43mare \u001b[0m \u001b[43mconsidered \u001b[0m to \u001b[43mtake \u001b[0m 0.681 ms , the observed difference between the average interprocess time when no context switch \u001b[43moccurs \u001b[0m and the average interprocess time when a context switch \u001b[43moccurs \u001b[0m . There \u001b[43mare \u001b[0m three main tools we \u001b[43mused \u001b[0m to \u001b[43mperform \u001b[0m our simulations . The first tool , IdleTracer , \u001b[43mcollects \u001b[0m traces of events \u001b[43mneeded \u001b[0m to \u001b[43msimulate \u001b[0m the different strategies , and \u001b[43mis \u001b[0m \u001b[43mdiscussed \u001b[0m in more detail in . Specifically , it \u001b[43mrecords \u001b[0m the time of occurrence and other details about the following events : tracing \u001b[43mbegins \u001b[0m or \u001b[43mends \u001b[0m , the machine \u001b[43mgoes \u001b[0m to or wakes from sleep , a process \u001b[43mbegins \u001b[0m or \u001b[43mends \u001b[0m , the sound chip \u001b[43mis \u001b[0m \u001b[43mturned \u001b[0m on or off , the cursor changes , the mouse \u001b[43mstarts \u001b[0m or \u001b[43mstops \u001b[0m \u001b[43mmoving \u001b[0m , an I/O device \u001b[43mis \u001b[0m read or \u001b[43mwritten \u001b[0m , a process \u001b[43mobtains \u001b[0m or yields control of the processor , or an event \u001b[43mis \u001b[0m \u001b[43mplaced \u001b[0m on the event queue . IdleTracer only \u001b[43mcollects \u001b[0m data while the machine it \u001b[43mis \u001b[0m \u001b[43mtracing \u001b[0m \u001b[43mis \u001b[0m \u001b[43mrunning \u001b[0m on battery power , since that \u001b[43mis \u001b[0m when processor energy savings \u001b[43mis \u001b[0m most important , and we \u001b[43mwant \u001b[0m our analysis to \u001b[43mreflect \u001b[0m the appropriate workload . Also , IdleTracer \u001b[43mshuts \u001b[0m off processor power management while it \u001b[43mis \u001b[0m \u001b[43mtracing \u001b[0m , so that the traces it \u001b[43muses \u001b[0m \u001b[43mare \u001b[0m not \u001b[43mconfounded \u001b[0m by the current strategy and thus can \u001b[43mbe \u001b[0m \u001b[43mused \u001b[0m to \u001b[43msimulate \u001b[0m any strategy . IdleTracer \u001b[43mmakes \u001b[0m use of the SETC module , a set of routines for \u001b[43mtracing \u001b[0m and \u001b[43mcounting \u001b[0m system events . The second tool , ItmSim , \u001b[43msimulates \u001b[0m power management methods \u001b[43musing \u001b[0m the current MacOS inactivity-threshold strategy , and \u001b[43mprovides \u001b[0m a basis for comparison . In other words , it \u001b[43msimulates \u001b[0m the strategy that \u001b[43mturns \u001b[0m off the processor when there \u001b[43mhas \u001b[0m \u001b[43mbeen \u001b[0m no activity in the last two seconds and no I/O activity in the last fifteen seconds . In actuality , during periods that the processor \u001b[43mis \u001b[0m \u001b[43msupposed \u001b[0m to \u001b[43mbe \u001b[0m off , MacOS will occasionally \u001b[43mturn \u001b[0m the processor on for long enough to \u001b[43mschedule \u001b[0m a process quantum . This \u001b[43mis \u001b[0m \u001b[43mdone \u001b[0m to \u001b[43mgive \u001b[0m processes a chance to \u001b[43mdemonstrate \u001b[0m some activity and \u001b[43mput \u001b[0m an end to \u001b[43mprocessor \u001b[0m power management , in case the processor \u001b[43mwas \u001b[0m \u001b[43mshut \u001b[0m off too soon . The details of how process quanta \u001b[43mare \u001b[0m \u001b[43mscheduled \u001b[0m while the processor \u001b[43mis \u001b[0m \u001b[43msupposed \u001b[0m to \u001b[43mbe \u001b[0m off \u001b[43mis \u001b[0m proprietary and thus \u001b[43mis \u001b[0m not \u001b[43mdescribed \u001b[0m here ; however , ItmSim \u001b[43mdoes \u001b[0m \u001b[43mattempt \u001b[0m to \u001b[43msimulate \u001b[0m this aspect of the strategy . To \u001b[43mgive \u001b[0m an idea of the consequences of this proprietary modification , our simulations \u001b[43mshowed \u001b[0m that for the aggregate workload we \u001b[43mstudied \u001b[0m , it \u001b[43mdecreased \u001b[0m the performance impact measure from 1.93 % to 1.84 % , at the expense of \u001b[43mdecreasing \u001b[0m processor off time from 29.77 % to 28.79 % . This particular proprietary modification , therefore , \u001b[43mhas \u001b[0m only a trivial effect on the power savings . Table 1 : Information about the six users \u001b[43mtraced \u001b[0m . Useful quanta \u001b[43mare \u001b[0m immediately \u001b[43mscheduled \u001b[0m , \u001b[43mdelaying \u001b[0m the rest of the trace execution and thus \u001b[43mcontributing \u001b[0m to the performance impact measure . Non-useful quanta \u001b[43mare \u001b[0m \u001b[43mdiscarded \u001b[0m and never \u001b[43mscheduled \u001b[0m . Any useful OS time \u001b[43massociated \u001b[0m with these quanta \u001b[43mis \u001b[0m also immediately \u001b[43mscheduled \u001b[0m , \u001b[43mcontributing \u001b[0m to the performance impact measure . The third tool , AsmSim , \u001b[43msimulates \u001b[0m the basic strategy with the simple scheduling technique , along with zero or more of our two other \u001b[43msuggested \u001b[0m techniques : sleep extension and greediness . The parameters for these techniques may \u001b[43mbe \u001b[0m \u001b[43mvaried \u001b[0m at will in the simulations . When , in the simulation , an event \u001b[43mbecomes \u001b[0m ready for a process , all quanta of that process \u001b[43mpreceding \u001b[0m the receipt of the ready event that \u001b[43mhave \u001b[0m not yet \u001b[43mbeen \u001b[0m \u001b[43mscheduled \u001b[0m will \u001b[43mbe \u001b[0m \u001b[43mtreated \u001b[0m as \u001b[43mdescribed \u001b[0m above , i.e . Even for periodic processes , we \u001b[43mschedule \u001b[0m quanta in the order in which they \u001b[43moccurred \u001b[0m . For example , if after its quantum i a process originally \u001b[43mslept \u001b[0m for 1 second but \u001b[43mis \u001b[0m actually \u001b[43mawoken \u001b[0m after 4 seconds , then at that point we \u001b[43mschedule \u001b[0m quantum i \u001b[43m+ \u001b[0m 1 , not some later quantum . Note that this approach may \u001b[43mcause \u001b[0m inaccuracies in the simulation , since the process might in reality \u001b[43mcheck \u001b[0m how long it \u001b[43mhas \u001b[0m \u001b[43mbeen \u001b[0m since it last \u001b[43mwent \u001b[0m to \u001b[43msleep \u001b[0m , and act differently \u001b[43mseeing \u001b[0m that 4 seconds \u001b[43mhave \u001b[0m \u001b[43mpassed \u001b[0m than it \u001b[43mdid \u001b[0m when only 1 second \u001b[43mhad \u001b[0m \u001b[43mpassed \u001b[0m . We \u001b[43mexpect \u001b[0m and \u001b[43mhope \u001b[0m that such dependence of process action on time \u001b[43mis \u001b[0m rare enough that this \u001b[43mdoes \u001b[0m not \u001b[43mintroduce \u001b[0m significant errors into the results of our simulations . In this section , we \u001b[43mrefer \u001b[0m to the Current MacOS strategy as strategy C and the Basic strategy as strategy B . We \u001b[43mappend \u001b[0m the letter I to \u001b[43mindicate \u001b[0m use of the sImple schedule technique , \u001b[43mappend \u001b[0m the letter G to \u001b[43mindicate \u001b[0m use of the Greediness technique , and \u001b[43mappend \u001b[0m the letter S for the Sleep extension technique . Note that we never \u001b[43msimulate \u001b[0m the greediness technique or sleep extension technique without the simple scheduling technique , since they \u001b[43mare \u001b[0m \u001b[43mdesigned \u001b[0m as supplements to the simple scheduling technique . The first thing we shall \u001b[43mdo \u001b[0m \u001b[43mis \u001b[0m \u001b[43mdetermine \u001b[0m the optimal energy savings attainable . An optimum strategy would \u001b[43mschedule \u001b[0m only time that \u001b[43mwas \u001b[0m \u001b[43mspent \u001b[0m \u001b[43mdoing \u001b[0m useful work , and would entirely \u001b[43momit \u001b[0m non-useful time ; its performance impact would \u001b[43mbe \u001b[0m zero , since it would \u001b[43mhave \u001b[0m foreknowledge of when useful work would \u001b[43moccur \u001b[0m and \u001b[43marrange \u001b[0m to \u001b[43mhave \u001b[0m the processor on when it \u001b[43mhappens \u001b[0m . Simulation \u001b[43mindicates \u001b[0m that such a strategy would \u001b[43myield \u001b[0m an energy savings of 82.33 % ; thus , this \u001b[43mis \u001b[0m an absolute ceiling on what can \u001b[43mbe \u001b[0m \u001b[43mobtained \u001b[0m by any realizable strategy . This \u001b[43mis \u001b[0m a remarkably high figure -- what it \u001b[43msays \u001b[0m \u001b[43mis \u001b[0m that the processor \u001b[43mis \u001b[0m \u001b[43mdoing \u001b[0m useful computation during only 17.67 % of the 29.56 hours of the trace ; the rest of the time \u001b[43mis \u001b[0m busy \u001b[43mwaiting \u001b[0m by a user process or idling . The second simulation results concern strategy C. We \u001b[43mfind \u001b[0m from simulation that strategy C \u001b[43myields \u001b[0m an energy savings of 28.79 % along with a performance impact measure of 1.84 % . In other words , it \u001b[43mcauses \u001b[0m the processor to \u001b[43mconsume \u001b[0m only 71.21 % of the energy it would without a power-saving strategy , but \u001b[43mincreases \u001b[0m overall workload completion time by 1.84 % . The strategy \u001b[43mincreases \u001b[0m processor energy consumption by 303 % \u001b[43mcompared \u001b[0m with the optimal strategy , since it only \u001b[43mrecovers \u001b[0m 35 % of the real idle time . Note also that since only 17.67 % of the CPU time \u001b[43mis \u001b[0m actually useful , the performance impact of 1.84 % \u001b[43mmeans \u001b[0m that we \u001b[43mhave \u001b[0m \u001b[43mmisclassified \u001b[0m 10 % of the useful CPU time , and \u001b[43mhave \u001b[0m \u001b[43mhad \u001b[0m to \u001b[43mrun \u001b[0m that work in a delayed manner . Thus , the actual real time delay \u001b[43mperceived \u001b[0m by the user may not \u001b[43mbe \u001b[0m 1.84 % , but may \u001b[43mbe \u001b[0m closer to 10 % , since the user \u001b[43mwaits \u001b[0m for a reply only during periods of real , useful , work . The next simulation results concern strategy B , which \u001b[43mturns \u001b[0m off the process when and only when there \u001b[43mwas \u001b[0m \u001b[43midling \u001b[0m in the original trace . The traces \u001b[43mwere \u001b[0m \u001b[43mcollected \u001b[0m from six users , each an engineer at Apple Computer , Inc. Table 1 \u001b[43mindicates \u001b[0m data about the traces \u001b[43mobtained \u001b[0m from each user and the machines on which those traces \u001b[43mwere \u001b[0m \u001b[43mcollected \u001b[0m . Much more detailed discussion of the traces and their collection \u001b[43mappears \u001b[0m in . Most results we \u001b[43mpresent \u001b[0m will concern the aggregate workload , i.e . Figure 1 : Performance impact measure versus processor energy savings for strategy BIS with various sleep multipliers . Certain points \u001b[43mare \u001b[0m \u001b[43mlabeled \u001b[0m with the sleep multipliers to which they \u001b[43mcorrespond \u001b[0m . Thus , we \u001b[43msee \u001b[0m that the basic strategy without any new process management techniques \u001b[43msaves \u001b[0m slightly more energy than the current technique , and \u001b[43mhas \u001b[0m no impact on performance . However , it \u001b[43mcauses \u001b[0m the processor to \u001b[43mconsume \u001b[0m 285 % more energy than under the optimal strategy , since it only \u001b[43mrecovers \u001b[0m 39 % of real idle time . The next simulation results concern strategy BI . Strategy BI \u001b[43mhas \u001b[0m an energy savings of 47.10 % and a performance impact of 1.08 % . Thus , we \u001b[43msee \u001b[0m that strategy BI \u001b[43mdecreases \u001b[0m processor energy consumption by 26 % and \u001b[43mdecreases \u001b[0m workload completion time by 0.7 % \u001b[43mcompared \u001b[0m to strategy C. Compared to the optimal strategy , it \u001b[43mcauses \u001b[0m the processor to \u001b[43mconsume \u001b[0m 199 % more energy , since it only \u001b[43mrecovers \u001b[0m 57 % of real idle time . The next simulation results concern strategy BIS . Figure 1 \u001b[43mshows \u001b[0m the performance versus energy savings graph for variations of this strategy \u001b[43musing \u001b[0m sleep multipliers between 1 and 10 . We \u001b[43msee \u001b[0m that the point at which this strategy \u001b[43mhas \u001b[0m performance impact of 1.84 % , equal to that of strategy C , \u001b[43mcorresponds \u001b[0m to a sleep multiplier of 2.25 and a processor energy savings of 51.72 % . Thus , we \u001b[43msee \u001b[0m that , \u001b[43mcomparing \u001b[0m strategies BIS and C on equal performance grounds , strategy BIS \u001b[43mdecreases \u001b[0m processor energy consumption by 32 % . \u001b[43mIncreasing \u001b[0m the sleep multiplier to 10 saves 55.93 % of the CPU energy , with a performance impact of 2.84 % . Note , however , that the performance impact measure \u001b[43mdoes \u001b[0m not \u001b[43mtell \u001b[0m the whole story in this case . Generally , a real time delay \u001b[43mis \u001b[0m \u001b[43mused \u001b[0m by some process that \u001b[43mwakes \u001b[0m up , checks something , and if certain conditions \u001b[43mare \u001b[0m \u001b[43mmet \u001b[0m , \u001b[43mdoes \u001b[0m something . A very large real time delay in the wakeup period may \u001b[43mmean \u001b[0m that certain checks \u001b[43mare \u001b[0m not \u001b[43mmade \u001b[0m in a timely manner ; we \u001b[43mhave \u001b[0m \u001b[43mignored \u001b[0m that issue here . In practice , sleep extension factors over some level , perhaps 3 to 5 , may not \u001b[43mbe \u001b[0m desirable . The next simulation results concern strategy BIG . Figure 2 \u001b[43mshows \u001b[0m the performance versus energy savings graph for variations of this strategy \u001b[43musing \u001b[0m greediness thresholds between 20 and 80 and \u001b[43mforced \u001b[0m sleep periods between 0.025 seconds and 10 seconds . We \u001b[43mfind \u001b[0m , through extensive exploration of the parameter space , that the parameter settings \u001b[43mgiving \u001b[0m the best energy savings at the 1.84 % performance impact level \u001b[43mare \u001b[0m a greediness threshold of 61 and a forced sleep period of 0.52 seconds . These parameters \u001b[43myield \u001b[0m an energy savings of 66.18 % . Thus , we \u001b[43msee \u001b[0m that , \u001b[43mcomparing \u001b[0m strategies BIG and C on equal performance grounds , strategy BIG \u001b[43mreduces \u001b[0m processor energy consumption by 53 % . \u001b[43mCompared \u001b[0m to the optimal strategy , it \u001b[43mincreases \u001b[0m processor energy consumption by 91 % , since it only \u001b[43msaves \u001b[0m 80 % of real idle time . The next results we present concern strategy BIGS . Figure 3 shows that , in the realm we \u001b[43mare \u001b[0m interested in , a performance impact of 1.84 % , \u001b[43mincreasing \u001b[0m the sleep multiplier always \u001b[43mproduces \u001b[0m worse results than \u001b[43mchanging \u001b[0m the greediness threshold and forced sleep period . The energy savings attainable by \u001b[43mincreasing \u001b[0m the sleep multiplier can \u001b[43mbe \u001b[0m \u001b[43mattained \u001b[0m at a lower performance cost by instead \u001b[43mdecreasing \u001b[0m the greediness threshold or by \u001b[43mincreasing \u001b[0m the forced sleep period . Thus , the best BIGS strategy \u001b[43mis \u001b[0m the BIG strategy , which \u001b[43mdoes \u001b[0m not \u001b[43mmake \u001b[0m any use of the sleep extension technique . The figure \u001b[43msuggests \u001b[0m that if we could \u001b[43mtolerate \u001b[0m a greater performance impact , such as 2.7 % , this would no longer \u001b[43mbe \u001b[0m the case , and the best energy savings for BIGS would \u001b[43mbe \u001b[0m \u001b[43mattained \u001b[0m at a sleep multiplier above one . We \u001b[43mconclude \u001b[0m that for some values of performance impact , it \u001b[43mis \u001b[0m useful to \u001b[43mcombine \u001b[0m the greediness technique and sleep extension technique , but for a performance impact of 1.84 % it \u001b[43mis \u001b[0m useless to \u001b[43muse \u001b[0m the sleep extension technique if the greediness technique \u001b[43mis \u001b[0m in use . A summary of all the findings about the above strategies can \u001b[43mbe \u001b[0m \u001b[43mseen \u001b[0m in Table 2 , as well as the columns of Figure 5 \u001b[43mcorresponding \u001b[0m to users 1-6 . Figure 2 : Performance impact measure versus processor energy savings for strategy BIG with various greediness thresholds and \u001b[43mforced \u001b[0m sleep periods . Points on the greediness \u001b[43mthreshold \u001b[0m 60 curve \u001b[43mare \u001b[0m \u001b[43mlabeled \u001b[0m with the forced sleep periods to which they \u001b[43mcorrespond \u001b[0m . The reader \u001b[43mis \u001b[0m \u001b[43mcautioned \u001b[0m that nonzero origins \u001b[43mare \u001b[0m \u001b[43mused \u001b[0m in this figure to \u001b[43msave \u001b[0m space and yet \u001b[43mhave \u001b[0m sufficient resolution to \u001b[43menable \u001b[0m its key features to \u001b[43mbe \u001b[0m \u001b[43mdiscerned \u001b[0m . Figure 3 : Performance impact measure versus processor energy savings for strategy BIGS with various sleep multipliers , various greediness thresholds , and a forced sleep period of 0.52 sec . The reader \u001b[43mis \u001b[0m \u001b[43mcautioned \u001b[0m that nonzero origins \u001b[43mare \u001b[0m \u001b[43mused \u001b[0m in this figure to \u001b[43msave \u001b[0m space and yet \u001b[43mhave \u001b[0m sufficient resolution to \u001b[43menable \u001b[0m its key features to \u001b[43mbe \u001b[0m \u001b[43mdiscerned \u001b[0m . An important issue \u001b[43mis \u001b[0m the extent to which the parameters we \u001b[43mchose \u001b[0m \u001b[43mare \u001b[0m specific to the workload \u001b[43mstudied \u001b[0m , and whether they would \u001b[43mbe \u001b[0m optimal or equally effective for some other workload . Furthermore , it \u001b[43mis \u001b[0m unclear how effective the user or operating system could \u001b[43mbe \u001b[0m at dynamically \u001b[43mtuning \u001b[0m these parameters in the best way to \u001b[43machieve \u001b[0m optimal energy savings at a \u001b[43mgiven \u001b[0m level of performance . Thus , it \u001b[43mis \u001b[0m important to \u001b[43mobserve \u001b[0m the sensitivity of the results we \u001b[43mobtained \u001b[0m to the particular values of the parameters we \u001b[43mchose \u001b[0m . The graphs we \u001b[43mshowed \u001b[0m that \u001b[43mdemonstrate \u001b[0m the relationship between performance , energy savings , and parameter values also \u001b[43mdemonstrate \u001b[0m the reasonably low sensitivity of the results to the parameter values . For instance , \u001b[43mvarying \u001b[0m the forced sleep period threshold in Figure 2 across a wide range of values only \u001b[43mcauses \u001b[0m the consequent energy savings to \u001b[43mvary \u001b[0m between 59-67 % . \u001b[43mVarying \u001b[0m the greediness threshold in Figure 4 across another wide range of values only \u001b[43mcauses \u001b[0m the consequent energy savings to \u001b[43mvary \u001b[0m in the range 63-71 % . Finally , \u001b[43mvarying \u001b[0m the sleep multiplier across a wide range , as in Figure 1 , only \u001b[43mcauses \u001b[0m the consequent energy savings to \u001b[43mvary \u001b[0m in the range 47-56 % . Another way to \u001b[43mgauge \u001b[0m the sensitivity of the results to the parameters \u001b[43mis \u001b[0m to \u001b[43mevaluate \u001b[0m the effectiveness of the techniques on each of the six workloads \u001b[43mcorresponding \u001b[0m to the users \u001b[43mstudied \u001b[0m . To \u001b[43mshow \u001b[0m the effect of \u001b[43musing \u001b[0m parameters \u001b[43mtuned \u001b[0m to an aggregate workload on individual users , Figure 5 \u001b[43mshows \u001b[0m the processor energy savings that would \u001b[43mhave \u001b[0m \u001b[43mbeen \u001b[0m \u001b[43mattained \u001b[0m by each of the users \u001b[43mgiven \u001b[0m the strategies we \u001b[43mhave \u001b[0m \u001b[43mdiscussed \u001b[0m . We \u001b[43msee \u001b[0m from this figure that strategy BIG \u001b[43mis \u001b[0m always superior to strategy C , and that strategy BIS \u001b[43mis \u001b[0m superior to strategy C for all users except user 2 . And , even in this case , the fault \u001b[43mseems \u001b[0m to \u001b[43mlie \u001b[0m with the basic strategy and simple scheduling technique rather than the sleep multiplier parameter , since user 2 \u001b[43mis \u001b[0m also the only user for which the savings from C \u001b[43mare \u001b[0m much greater than those from strategies B and BI . These figures \u001b[43msuggest \u001b[0m that even parameters not \u001b[43mtuned \u001b[0m for a specific workload still \u001b[43myield \u001b[0m strategies that in general save more processor energy than the current strategy . It \u001b[43mis \u001b[0m also \u001b[43minteresting \u001b[0m to \u001b[43mnote \u001b[0m that there \u001b[43mis \u001b[0m a clear ordering between strategies BI , BIS , and BIG : for each user , strategy BIG \u001b[43msaved \u001b[0m more energy than strategy BIS , which \u001b[43msaved \u001b[0m more energy than strategy BI . We \u001b[43mwere \u001b[0m curious why strategy C \u001b[43mis \u001b[0m so much superior to strategy B for user 2 , so we \u001b[43minspected \u001b[0m the simulation results for that user carefully . We \u001b[43mfound \u001b[0m that the reason strategy C \u001b[43mdoes \u001b[0m so much better than strategy B \u001b[43mis \u001b[0m that in that trace , the application Finder frequently \u001b[43myields \u001b[0m control \u001b[43mrequesting \u001b[0m a sleep time of zero but then \u001b[43mperforms \u001b[0m no activity when it \u001b[43mgets \u001b[0m \u001b[43mcontrol \u001b[0m again ; indeed , there \u001b[43mis \u001b[0m a contiguous section of the trace lasting over an hour during which Finder \u001b[43mhas \u001b[0m this behavior . The sleep extension technique \u001b[43mdoes \u001b[0m not \u001b[43malleviate \u001b[0m this problem , since \u001b[43mmultiplying \u001b[0m the sleep request of zero by any factor still \u001b[43mmakes \u001b[0m it zero . However , the greediness technique \u001b[43mis \u001b[0m able to \u001b[43movercome \u001b[0m this problem , since this \u001b[43mis \u001b[0m exactly the problem for which it \u001b[43mwas \u001b[0m \u001b[43mdesigned \u001b[0m . Consequently , strategy BIG beats strategy C for user 2 , even though strategies B , BI , and BIS \u001b[43mdo \u001b[0m not . Yet another way to \u001b[43msee \u001b[0m that the basic strategy with the new techniques \u001b[43mis \u001b[0m effective even without \u001b[43mtuning \u001b[0m the parameters \u001b[43mis \u001b[0m to \u001b[43mpick \u001b[0m somewhat arbitrary parameters and note that the energy savings \u001b[43mare \u001b[0m still superior to that of strategy C. For example , the parameter \u001b[43msettings \u001b[0m we \u001b[43menvisioned \u001b[0m before \u001b[43mrunning \u001b[0m any of these simulations , a greediness threshold of 5 , a forced sleep period of 0.25 seconds , and a sleep multiplier of 1.5 , would \u001b[43myield \u001b[0m a respectable energy savings of 71.70 % and a performance impact of 2.61 % , which , \u001b[43mcompared \u001b[0m to MacOS , \u001b[43mtrades \u001b[0m off a 60 % decrease in processor energy consumption for a 0.8 % increase in workload completion time . Even a conservative set of parameters , namely a greediness threshold of 100 , a forced sleep period of 0.10 seconds , and a sleep multiplier of 1 , yields a processor energy savings of 62.87 % with a performance impact of only 1.48 % , \u001b[43mdecreasing \u001b[0m processor energy consumption by 48 % and \u001b[43mreducing \u001b[0m workload completion time by 0.4 % \u001b[43mcompared \u001b[0m to strategy C. We \u001b[43mhave \u001b[0m \u001b[43mseen \u001b[0m that the greediness technique by itself can \u001b[43mbe \u001b[0m quite effective even within a broad range of parameter values . This \u001b[43msuggests \u001b[0m that processes often \u001b[43mact \u001b[0m greedily . In fact , \u001b[43musing \u001b[0m the ideal parameters of strategy BIG , 49 of 63 applications \u001b[43mwere \u001b[0m \u001b[43mfound \u001b[0m to \u001b[43mact \u001b[0m greedily at some point . The percent of an application 's quanta during which it \u001b[43mwas \u001b[0m \u001b[43mdetermined \u001b[0m to \u001b[43mbe \u001b[0m \u001b[43macting \u001b[0m greedily \u001b[43mvaried \u001b[0m widely from one application to another , from 0.0009 % for Express Modem to 93.7 % for eWorld . It \u001b[43mis \u001b[0m especially \u001b[43mamusing \u001b[0m that Finder , the user desktop interface application \u001b[43mwritten \u001b[0m at Apple itself , \u001b[43mseems \u001b[0m to \u001b[43mlie \u001b[0m routinely about its processing time \u001b[43mneeds \u001b[0m , \u001b[43mhaving \u001b[0m \u001b[43mbeen \u001b[0m \u001b[43mdetermined \u001b[0m to \u001b[43mbe \u001b[0m \u001b[43macting \u001b[0m greedily for 64.7 % of its quanta . This \u001b[43msupports \u001b[0m our suggestion that designers of \u001b[43moperating \u001b[0m systems and applications for single-user systems \u001b[43mare \u001b[0m not generally \u001b[43mconcerned \u001b[0m with rigorous management of processor time . To \u001b[43mexamine \u001b[0m where the savings and performance impact of a strategy \u001b[43mare \u001b[0m \u001b[43mcoming \u001b[0m from , it \u001b[43mis \u001b[0m useful to \u001b[43mobserve \u001b[0m what \u001b[43mhappens \u001b[0m to different classes of time in the original trace when that strategy \u001b[43mis \u001b[0m \u001b[43mused \u001b[0m . Some time in the original trace \u001b[43mis \u001b[0m \u001b[43mspent \u001b[0m \u001b[43mrunning \u001b[0m processes , some \u001b[43mis \u001b[0m \u001b[43mspent \u001b[0m \u001b[43mrunning \u001b[0m the scheduler , and the rest \u001b[43mis \u001b[0m \u001b[43mspent \u001b[0m \u001b[43mrunning \u001b[0m other OS code . Each of these classes of time can \u001b[43mbe \u001b[0m \u001b[43mbroken \u001b[0m down into useful and nonuseful time . Useful time will always \u001b[43mbe \u001b[0m \u001b[43mscheduled \u001b[0m in the simulation , but some of it will \u001b[43mbe \u001b[0m \u001b[43mdelayed \u001b[0m if the technique \u001b[43msimulated \u001b[0m decides to cycle instead of \u001b[43mrunning \u001b[0m it . This delayed time \u001b[43mis \u001b[0m what \u001b[43mcontributes \u001b[0m to performance impact . Some nonuseful time will \u001b[43mbe \u001b[0m \u001b[43mscheduled \u001b[0m by the technique , while the rest \u001b[43mgets \u001b[0m \u001b[43mskipped \u001b[0m over and contributes to \u001b[43mcycling \u001b[0m time . Table 3 : A breakdown , for each strategy , of what \u001b[43mhappens \u001b[0m to the time and \u001b[43mquanta \u001b[0m originally \u001b[43mspent \u001b[0m \u001b[43mrunning \u001b[0m processes , the scheduler , and the operating system . Time and \u001b[43mquanta \u001b[0m that \u001b[43mare \u001b[0m \u001b[43mdelayed \u001b[0m and thus \u001b[43mcontribute \u001b[0m to performance impact \u001b[43mare \u001b[0m \u001b[43mshown \u001b[0m in bold , time and quanta that \u001b[43mare \u001b[0m \u001b[43mrun \u001b[0m on time \u001b[43mare \u001b[0m \u001b[43mshown \u001b[0m in the standard font , and time and quanta that \u001b[43mare \u001b[0m never \u001b[43mrun \u001b[0m and thus \u001b[43mare \u001b[0m \u001b[43msubsumed \u001b[0m by \u001b[43mcycling \u001b[0m \u001b[43mare \u001b[0m \u001b[43mshown \u001b[0m in italics . Table 3 \u001b[43mshows \u001b[0m this breakdown in time and number of quanta for each strategy . First , \u001b[43mlet \u001b[0m us \u001b[43mcompare \u001b[0m the sources of the energy savings for each strategy ; this \u001b[43minvolves \u001b[0m \u001b[43mlooking \u001b[0m at the italic figures in Table 3 . Strategy C \u001b[43mspends \u001b[0m 4.31 hours \u001b[43mcycling \u001b[0m instead of \u001b[43midling \u001b[0m in the OS , 1.95 hours \u001b[43mcycling \u001b[0m instead of \u001b[43mperforming \u001b[0m nonuseful process quanta , and 2.61 hours \u001b[43mcycling \u001b[0m instead of \u001b[43mswitching \u001b[0m nonuseful process quanta in and out . It \u001b[43mis \u001b[0m \u001b[43minteresting \u001b[0m to \u001b[43mnote \u001b[0m that more time \u001b[43mis \u001b[0m \u001b[43msaved \u001b[0m from not \u001b[43mhaving \u001b[0m to \u001b[43mswitch \u001b[0m processes in and out than from actually not \u001b[43mrunning \u001b[0m them . This \u001b[43mis \u001b[0m probably because the technique attempts to cycle the processor when processes \u001b[43mare \u001b[0m not \u001b[43mdoing \u001b[0m anything , and when a process \u001b[43mis \u001b[0m not \u001b[43mdoing \u001b[0m anything it should \u001b[43mbe \u001b[0m \u001b[43mdoing \u001b[0m little besides \u001b[43mgetting \u001b[0m \u001b[43mswitched \u001b[0m in and out . Strategy B never \u001b[43mcycles \u001b[0m instead of \u001b[43mrunning \u001b[0m or \u001b[43mscheduling \u001b[0m process quanta , but it \u001b[43mmakes \u001b[0m up for this by always \u001b[43mcycling \u001b[0m when the OS would otherwise \u001b[43mbe \u001b[0m idle , 9.45 hours . Strategies BI and BIS cycle even more because they can cycle instead of \u001b[43mrunning \u001b[0m or \u001b[43mscheduling \u001b[0m process quanta . Indeed , even if we \u001b[43mdid \u001b[0m not \u001b[43mconsider \u001b[0m idle time \u001b[43mspent \u001b[0m cycling , strategies BI and BIS still \u001b[43msave \u001b[0m more nonuseful process and scheduler time than strategy C. Interestingly , the \u001b[43mincreased \u001b[0m savings stem from \u001b[43mreducing \u001b[0m the amount of time \u001b[43mspent \u001b[0m \u001b[43mscheduling \u001b[0m nonuseful process quanta , not from \u001b[43mreducing \u001b[0m the time \u001b[43mspent \u001b[0m \u001b[43mrunning \u001b[0m nonuseful process quanta . In fact , each of strategies BI and BIS \u001b[43mspends \u001b[0m longer \u001b[43mrunning \u001b[0m nonuseful process quanta than strategy C. The reason these strategies \u001b[43mspend \u001b[0m less time \u001b[43mscheduling \u001b[0m nonuseful process quanta \u001b[43mis \u001b[0m that , as \u001b[43mshown \u001b[0m in the table , the strategies \u001b[43mschedule \u001b[0m fewer nonuseful process quanta , and fewer quanta to \u001b[43mschedule \u001b[0m means less time \u001b[43mspent \u001b[0m \u001b[43mscheduling \u001b[0m quanta . So we \u001b[43msee \u001b[0m that the savings from strategies BI and BIS \u001b[43mstem \u001b[0m not from \u001b[43mgiving \u001b[0m processes less time when they \u001b[43mare \u001b[0m not \u001b[43mdoing \u001b[0m useful work , but from \u001b[43mswitching \u001b[0m them in and out less often when they \u001b[43mare \u001b[0m not \u001b[43mdoing \u001b[0m useful work , thus \u001b[43msaving \u001b[0m time \u001b[43massociated \u001b[0m with process \u001b[43mswitching \u001b[0m . On the other hand , strategy BIG \u001b[43mis \u001b[0m superior to strategy C in its conversion of all types of nonuseful time . So , the savings from strategy BIG \u001b[43mstems \u001b[0m both from \u001b[43mgiving \u001b[0m processes control less often when they \u001b[43mare \u001b[0m not busy and from \u001b[43mgiving \u001b[0m them less time to \u001b[43mrun \u001b[0m useless tasks . Table 3 also \u001b[43mallows \u001b[0m us to \u001b[43mcompare \u001b[0m the sources of the performance impact in each strategy ; this \u001b[43minvolves \u001b[0m \u001b[43mlooking \u001b[0m at the bold numbers . We \u001b[43msee \u001b[0m that for strategy C , about half of the performance impact \u001b[43mis \u001b[0m due to \u001b[43mdelaying \u001b[0m the running of useful process quanta and half \u001b[43mis \u001b[0m due to \u001b[43mdelaying \u001b[0m the switching of those quanta . On the other hand , strategy BI \u001b[43mdelays \u001b[0m about the same amount of useful process run time , but far less time spent \u001b[43mswitching \u001b[0m process quanta . This \u001b[43mis \u001b[0m \u001b[43mexplained \u001b[0m by the fact that it \u001b[43mdelays \u001b[0m a much lower absolute number of useful process quanta . The low amount of delayed scheduler time in strategy BI \u001b[43mextends \u001b[0m to BIG and BIS , \u001b[43mallowing \u001b[0m them to \u001b[43mhave \u001b[0m a greater amount of delayed process quantum and OS time while still \u001b[43mmaintaining \u001b[0m the same performance impact as strategy C. Our main observation , then , \u001b[43mis \u001b[0m that strategies BI , BIG , and BIS \u001b[43mdelay \u001b[0m far fewer useful quanta than strategy C even though by design the latter two \u001b[43mdelay \u001b[0m the same amount of to- In our simulations , we \u001b[43mfound \u001b[0m the following . The basic strategy by itself \u001b[43msaves \u001b[0m barely more energy than the current MacOS strategy , although it \u001b[43mdoes \u001b[0m \u001b[43mhave \u001b[0m less performance impact . \u001b[43mAdding \u001b[0m the simple scheduling technique \u001b[43mallows \u001b[0m the basic strategy to \u001b[43mreduce \u001b[0m energy consumption by 26 % and to \u001b[43mreduce \u001b[0m workload completion time by 0.7 % \u001b[43mcompared \u001b[0m to the current MacOS strategy . \u001b[43mAdding \u001b[0m further techniques for \u001b[43mmanaging \u001b[0m processor time \u001b[43mallows \u001b[0m the basic strategy to even further \u001b[43msurpass \u001b[0m the current MacOS strategy in energy savings for the same level of performance impact . \u001b[43mUsing \u001b[0m the sleep extension technique \u001b[43mallows \u001b[0m 32 % less processor energy consumption , and \u001b[43musing \u001b[0m the greediness technique \u001b[43mallows \u001b[0m 53 % less processor energy consumption . In all cases , the absolute level of performance impact \u001b[43mis \u001b[0m very low . Note , however , that at best we \u001b[43mget \u001b[0m about 66 % absolute energy savings , \u001b[43mcompared \u001b[0m to the approximately 82 % that would \u001b[43mbe \u001b[0m available with optimal power reduction . Our simulations \u001b[43msuggest \u001b[0m that although both the greediness technique and the sleep extension technique \u001b[43mare \u001b[0m helpful in \u001b[43mincreasing \u001b[0m the savings attainable from the basic strategy with the simple scheduling technique , the greediness technique \u001b[43mdoes \u001b[0m this job better than the simple scheduling technique . Furthermore , when \u001b[43mattempting \u001b[0m to \u001b[43machieve \u001b[0m the same performance impact the current MacOS \u001b[43mprovides \u001b[0m , it \u001b[43mis \u001b[0m not worthwhile to \u001b[43muse \u001b[0m the sleep extension technique if one \u001b[43mis \u001b[0m already \u001b[43musing \u001b[0m the greediness technique . The reason for this \u001b[43mis \u001b[0m that the cost in performance impact of an increase in energy savings \u001b[43mis \u001b[0m greater for the sleep extension technique than for the greediness technique . In other words , \u001b[43madjusting \u001b[0m the parameters of any technique to \u001b[43mimprove \u001b[0m its energy savings will necessarily \u001b[43mcause \u001b[0m it to cycle more often when the processor \u001b[43mis \u001b[0m \u001b[43mdoing \u001b[0m useful work and thus \u001b[43mincrease \u001b[0m performance impact . It \u001b[43mhappens \u001b[0m that this effect \u001b[43mis \u001b[0m more pronounced for the sleep extension technique than for the greediness technique , at least for the low performance impact regime in which we \u001b[43mare \u001b[0m interested . Besides this difference between the two techniques , another reason to not \u001b[43muse \u001b[0m the sleep extension technique \u001b[43mis \u001b[0m that it \u001b[43mis \u001b[0m quite possible that \u001b[43mextending \u001b[0m real-time sleep times will \u001b[43mproduce \u001b[0m undesirable effects in terms of system performance or functionality . Analysis of the sensitivity of the techniques to changes in parameter settings and workloads \u001b[43msuggests \u001b[0m that ideal parameter setting \u001b[43mis \u001b[0m not necessary to the consistent functioning of the techniques . Thus , we \u001b[43mexpect \u001b[0m the techniques to \u001b[43mbe \u001b[0m successful with even naive parameter-setting by the operating system or user . However , one anomalous case , user 2 , points out the vulnerability of the basic strategy to poor application behavior , \u001b[43msuggesting \u001b[0m that the greediness technique or something like it should always \u001b[43maccompany \u001b[0m the basic strategy . In this example , \u001b[43mbased \u001b[0m on the Duo 280c , \u001b[43mturning \u001b[0m off the processor \u001b[43msaves \u001b[0m 3.74 W , while the components that \u001b[43mremain \u001b[0m on consume , on average , 5.65 W , \u001b[43mgiven \u001b[0m current power management techniques . Note that we \u001b[43mare \u001b[0m \u001b[43massuming \u001b[0m that during extra time \u001b[43mspent \u001b[0m with the processor on , other components \u001b[43mare \u001b[0m , on average , at their average power levels \u001b[43mgiven \u001b[0m current power management techniques . The BIS strategy , with its processor energy savings of 51.72 % and same performance impact , would \u001b[43mmake \u001b[0m average total power consumption 7.42 W , \u001b[43myielding \u001b[0m a power savings of 10.3 % and battery lifetime increase of 11.5 % \u001b[43mcompared \u001b[0m to strategy C. Note that all these figures \u001b[43mare \u001b[0m only applicable to the workload \u001b[43mstudied \u001b[0m here , i.e . It \u001b[43mis \u001b[0m unclear how much more or less effective these methods would \u001b[43mbe \u001b[0m for some other workload ; for instance , a previous study with a different workload \u001b[43mfound \u001b[0m that 48.1 % of processor power \u001b[43mwas \u001b[0m \u001b[43msaved \u001b[0m by the current MacOS strategy . Even within the workload \u001b[43mstudied \u001b[0m here , we \u001b[43mhave \u001b[0m \u001b[43mseen \u001b[0m that the savings from each strategy \u001b[43mvaries \u001b[0m greatly from one user to another . We \u001b[43mbelieve \u001b[0m that even though our simulations \u001b[43mwere \u001b[0m \u001b[43mperformed \u001b[0m on MacOS traces , our techniques \u001b[43mare \u001b[0m generally applicable to other single-user \u001b[43moperating \u001b[0m systems . For example , Microsoft Windows essentially \u001b[43muses \u001b[0m the basic strategy with the simple scheduling technique . However , it \u001b[43mmakes \u001b[0m no attempt to \u001b[43mpolice \u001b[0m processes that \u001b[43mmake \u001b[0m unfair processor time requests ; in fact , one \u001b[43mrecognized \u001b[0m problem with its power management \u001b[43mis \u001b[0m that if a single process requests events \u001b[43musing \u001b[0m PeekMessage rather than \u001b[43mGetMessage \u001b[0m or \u001b[43mWaitMessage \u001b[0m , then \u001b[43mprocessor \u001b[0m power management can not \u001b[43mtake \u001b[0m place . This problem \u001b[43mis \u001b[0m exactly the sort that the greediness technique \u001b[43mwas \u001b[0m \u001b[43mdesigned \u001b[0m to \u001b[43malleviate \u001b[0m , so we may \u001b[43mfind \u001b[0m that , as we \u001b[43mdemonstrated \u001b[0m for the MacOS , the effectiveness of the basic strategy \u001b[43mis \u001b[0m greatly \u001b[43mimproved \u001b[0m by the use of such a technique . We would \u001b[43mlike \u001b[0m to \u001b[43msee \u001b[0m the work \u001b[43mdescribed \u001b[0m here \u001b[43mcontinued \u001b[0m in several ways . First , we would \u001b[43mlike \u001b[0m to actually \u001b[43mimplement \u001b[0m our \u001b[43mproposed \u001b[0m strategies . Second , we would \u001b[43mlike \u001b[0m to \u001b[43mcollect \u001b[0m additional traces , so that the effectiveness of our techniques over a larger variety of users and workloads can \u001b[43mbe \u001b[0m \u001b[43mestablished \u001b[0m , so that we can \u001b[43mbetter \u001b[0m select parameter values , and so that we can \u001b[43mdetermine \u001b[0m if dynamic variation of parameter values \u001b[43mis \u001b[0m useful . In particular , we \u001b[43mwant \u001b[0m to \u001b[43mobtain \u001b[0m traces from different types of user environments ; our current set of traces \u001b[43mis \u001b[0m rather \u001b[43mlimited \u001b[0m in this respect . Third , we would \u001b[43mlike \u001b[0m to \u001b[43msee \u001b[0m if our power-saving techniques \u001b[43mare \u001b[0m applicable in practice to other single-user \u001b[43moperating \u001b[0m systems . Finally , we \u001b[43mdo \u001b[0m not \u001b[43mbelieve \u001b[0m that we \u001b[43mhave \u001b[0m \u001b[43mexhausted \u001b[0m the possibilities for software strategies to \u001b[43mput \u001b[0m the CPU into power \u001b[43msaving \u001b[0m modes ; our work to date \u001b[43mhas \u001b[0m not , for example , \u001b[43mconsidered \u001b[0m systems in which the clock rate and voltage can \u001b[43mbe \u001b[0m \u001b[43mvaried \u001b[0m simultaneously and dynamically . We also \u001b[43mdo \u001b[0m not \u001b[43mbelieve \u001b[0m that we \u001b[43mhave \u001b[0m \u001b[43mfound \u001b[0m or \u001b[43mused \u001b[0m all of the information useful in \u001b[43mpredicting \u001b[0m `` useless '' quanta . At best , we \u001b[43msave \u001b[0m around 66 % of the CPU energy , \u001b[43mcompared \u001b[0m to a theoretical optimum of 82 % . \u001b[43mReducing \u001b[0m the power consumption of computer systems \u001b[43mis \u001b[0m \u001b[43mbecoming \u001b[0m an important factor in their design , especially in the case of portable computers . An important component for power management \u001b[43mis \u001b[0m the processor , as it \u001b[43maccounts \u001b[0m for a large percentage of total power . Obviously , the CPU can \u001b[43mbe \u001b[0m \u001b[43mturned \u001b[0m off when it \u001b[43mis \u001b[0m inactive ; in some operating systems , however , such as MacOS , the CPU \u001b[43mis \u001b[0m frequently \u001b[43mrunning \u001b[0m even when there \u001b[43mis \u001b[0m n't any `` useful '' work to \u001b[43mdo \u001b[0m . We \u001b[43mhave \u001b[0m \u001b[43mfound \u001b[0m several heuristic techniques to \u001b[43mdecrease \u001b[0m power use , such as never \u001b[43mrunning \u001b[0m a process that \u001b[43mis \u001b[0m still \u001b[43mblocked \u001b[0m and \u001b[43mwaiting \u001b[0m on an event , \u001b[43mdelaying \u001b[0m processes that \u001b[43mexecute \u001b[0m without \u001b[43mproducing \u001b[0m output or otherwise signaling useful activity , and \u001b[43mdelaying \u001b[0m the frequency of periodic processes , most of which \u001b[43mseem \u001b[0m to \u001b[43mwake \u001b[0m up , \u001b[43mlook \u001b[0m around , \u001b[43mfind \u001b[0m nothing interesting to \u001b[43mdo \u001b[0m , and \u001b[43mgo \u001b[0m back to \u001b[43msleep \u001b[0m . To the extent that similar phenomena \u001b[43moccur \u001b[0m in other \u001b[43moperating \u001b[0m systems , these techniques should \u001b[43mapply \u001b[0m to them also . We \u001b[43mhave \u001b[0m \u001b[43mused \u001b[0m trace-driven simulation to \u001b[43mevaluate \u001b[0m these techniques on the basis of processor energy \u001b[43msaved \u001b[0m and \u001b[43mincrease \u001b[0m in processing time . We \u001b[43mfound \u001b[0m that our techniques \u001b[43msave \u001b[0m 47-66 % of processor energy , thus \u001b[43mdecreasing \u001b[0m processor energy consumption by 26-53 % \u001b[43mcompared \u001b[0m to the simple strategy currently \u001b[43memployed \u001b[0m by MacOS . \u001b[43mTaking \u001b[0m into consideration the fraction of system power \u001b[43mused \u001b[0m by the CPU , we \u001b[43mestimate \u001b[0m that \u001b[43mimplementing \u001b[0m the best subset of our techniques will \u001b[43mincrease \u001b[0m battery lifetime for Macintosh portables by around 20 % . These savings \u001b[43mdo \u001b[0m \u001b[43mimply \u001b[0m a small loss in effective system performance ; in all cases , this loss \u001b[43mis \u001b[0m less than 2 % . Work \u001b[43mis \u001b[0m \u001b[43mcontinuing \u001b[0m on this topic . Many people \u001b[43maided \u001b[0m in the preparation of this work and \u001b[43mdeserve \u001b[0m our gratitude here . Marianne Hsiung \u001b[43mprovided \u001b[0m support , on behalf of Apple Computer , Inc. , for this research . Phil Sohn \u001b[43mwrote \u001b[0m the SETC module that IdleTracer \u001b[43muses \u001b[0m , and also \u001b[43mprovided \u001b[0m general guidance during the project . Steve Sfarzo \u001b[43marranged \u001b[0m the distribution of the tracer to , and the collection of data files from , many PowerBook users \u001b[43mworking \u001b[0m with him . Helder Ramalho \u001b[43mprovided \u001b[0m invaluable information about the way the current processor cycling technique \u001b[43mworks \u001b[0m . Dave Falkenburg and Jim Goche \u001b[43mprovided \u001b[0m information about trap handler \u001b[43mprogramming \u001b[0m critical to the writing of IdleTracer . Larry Heil \u001b[43mcoordinated \u001b[0m cooperation with the Apple Portables group . Several users \u001b[43mran \u001b[0m the tracer on their machines to \u001b[43mhelp \u001b[0m us \u001b[43mcollect \u001b[0m the data . And , finally , we \u001b[43mthank \u001b[0m the reviewers of the original version of this paper for their helpful and insightful comments . Inside Macintosh , Volume VI , Addison Wesley Publishing Company , Reading , MA , 1991 . Windows API Bible , Waite Group Press , Corte Madera , CA , 1992 . Proceedings of the IEEE International Computer Society Conference , San Francisco , CA , 307-315 , February 1994 . \u001b[43mModeling \u001b[0m the effect of different processor \u001b[43mcycling \u001b[0m techniques on power consumption . Performance Evaluation Group Technical Note # 179 , ATG Integrated Systems , November 1995 . A complete picture of the energy consumption of a portable computer . Masters Thesis , Computer Science , University of California at Berkeley , December 1995 . How energy \u001b[43mis \u001b[0m \u001b[43mconsumed \u001b[0m and \u001b[43msaved \u001b[0m in portable computers .\n"
     ]
    }
   ],
   "source": [
    "ret = []  \n",
    "for word,pos in pos_tags:\n",
    "    if (pos in tags):  \n",
    "        ret.append(word)\n",
    "        print (Back.YELLOW + word),\n",
    "        print (Style.RESET_ALL),\n",
    "    if (pos not in tags):  \n",
    "        print (word),"
   ]
  },
  {
   "cell_type": "code",
   "execution_count": 30,
   "metadata": {
    "collapsed": false
   },
   "outputs": [
    {
     "data": {
      "text/plain": [
       "0.05071715433161216"
      ]
     },
     "execution_count": 30,
     "metadata": {},
     "output_type": "execute_result"
    }
   ],
   "source": [
    "len(set(ret))/len(words)"
   ]
  },
  {
   "cell_type": "code",
   "execution_count": 29,
   "metadata": {
    "collapsed": false
   },
   "outputs": [
    {
     "name": "stdout",
     "output_type": "stream",
     "text": [
      "\u001b[1;40;43m需要变颜色的字符串\u001b[0m\n"
     ]
    }
   ],
   "source": [
    "print(\"\\033[1;40;43m需要变颜色的字符串\\033[0m\")"
   ]
  },
  {
   "cell_type": "markdown",
   "metadata": {},
   "source": [
    "Color changing (D3js?), paragraph level?"
   ]
  },
  {
   "cell_type": "code",
   "execution_count": 34,
   "metadata": {
    "collapsed": false
   },
   "outputs": [
    {
     "name": "stdout",
     "output_type": "stream",
     "text": [
      "['saves', 'saved', 'causes', 'waiting', 'operating', 'studied', 'use', 'call', 'scheduling', 'blocked', 'found', 'doing', 'acting', 'shows', 'turning', 'given', 'were', 'have', 'based', 'do', 'yield', 'see', 'are', 'described', 'been', 'save', 'is', 'used', 'running', 'spent', 'has', 'scheduled', 'using', 'does', 'be', 'run', 'schedule', 'cycling', 'block', 'determine', 'was', 'compared', 'having']\n"
     ]
    }
   ],
   "source": [
    "import collections\n",
    "print [item for item, count in collections.Counter(ret).items() if count > 5]"
   ]
  },
  {
   "cell_type": "markdown",
   "metadata": {},
   "source": [
    "Word stemming & nearest 3 sentences?"
   ]
  },
  {
   "cell_type": "code",
   "execution_count": 37,
   "metadata": {
    "collapsed": false
   },
   "outputs": [],
   "source": [
    "def duplicates(lst, item):\n",
    "    return [i for i, x in enumerate(lst) if x == item]"
   ]
  },
  {
   "cell_type": "code",
   "execution_count": 38,
   "metadata": {
    "collapsed": true
   },
   "outputs": [],
   "source": [
    "index = duplicates(words, \"saves\")"
   ]
  },
  {
   "cell_type": "code",
   "execution_count": 41,
   "metadata": {
    "collapsed": false
   },
   "outputs": [
    {
     "name": "stdout",
     "output_type": "stream",
     "text": [
      "(1346, 'saves')\n",
      "(4532, 'saves')\n",
      "(4757, 'saves')\n",
      "(7136, 'saves')\n"
     ]
    }
   ],
   "source": [
    "# Should consider sentences?\n",
    "for i in range(len(index)-1):\n",
    "    if index[i+1]-index[i] <= 1500:\n",
    "        print (index[i],words[index[i]])"
   ]
  },
  {
   "cell_type": "markdown",
   "metadata": {
    "collapsed": true
   },
   "source": [
    "# Keyword Extraction"
   ]
  },
  {
   "cell_type": "code",
   "execution_count": 8,
   "metadata": {
    "collapsed": true
   },
   "outputs": [],
   "source": [
    "with open(\"conf_mobicom_LorchS96.txt\",'rU') as f:\n",
    "    paper = f.read()"
   ]
  },
  {
   "cell_type": "code",
   "execution_count": 11,
   "metadata": {
    "collapsed": true
   },
   "outputs": [],
   "source": [
    "import nltk\n",
    "from nltk import word_tokenize\n",
    "import string\n",
    "\n",
    "#nltk.download('punkt')\n",
    "\n",
    "def clean(text):\n",
    "    text = text.lower()\n",
    "    printable = set(string.printable)\n",
    "    text = filter(lambda x: x in printable, text) #filter funny characters, if any.\n",
    "    return text"
   ]
  },
  {
   "cell_type": "code",
   "execution_count": 12,
   "metadata": {
    "collapsed": true
   },
   "outputs": [
    {
     "name": "stdout",
     "output_type": "stream",
     "text": [
      "Tokenized Text: \n",
      "\n",
      "['the', 'cpu', 'is', 'one', 'of', 'the', 'major', 'power', 'consumers', 'in', 'a', 'portable', 'computer', ',', 'and', 'considerable', 'power', 'can', 'be', 'saved', 'by', 'turning', 'off', 'the', 'cpu', 'when', 'it', 'is', 'not', 'doing', 'useful', 'work', '.', 'in', 'apple', \"'s\", 'macos', ',', 'however', ',', 'idle', 'time', 'is', 'often', 'converted', 'to', 'busy', 'waiting', ',', 'and', 'generally', 'it', 'is', 'very', 'hard', 'to', 'tell', 'when', 'no', 'useful', 'computation', 'is', 'occurring', '.', 'in', 'this', 'paper', ',', 'we', 'suggest', 'several', 'heuristic', 'techniques', 'for', 'identifying', 'this', 'condition', ',', 'and', 'for', 'temporarily', 'putting', 'the', 'cpu', 'in', 'a', 'low-power', 'state', '.', 'these', 'techniques', 'include', 'turning', 'off', 'the', 'processor', 'when', 'all', 'processes', 'are', 'blocked', ',', 'turning', 'off', 'the', 'processor', 'when', 'processes', 'appear', 'to', 'be', 'busy', 'waiting', ',', 'and', 'extending', 'real', 'time', 'process', 'sleep', 'periods', '.', 'we', 'use', 'trace-driven', 'simulation', ',', 'using', 'processor', 'run', 'interval', 'traces', ',', 'to', 'evaluate', 'the', 'potential', 'energy', 'savings', 'and', 'performance', 'impact', '.', 'we', 'find', 'that', 'these', 'techniques', 'save', 'considerable', 'amounts', 'of', 'processor', 'energy', ',', 'while', 'having', 'very', 'little', 'performance', 'impact', '.', 'implementing', 'the', 'proposed', 'strategies', 'should', 'increase', 'battery', 'lifetime', 'by', 'approximately', '20', '%', 'relative', 'to', 'apple', \"'s\", 'current', 'cpu', 'power', 'management', 'strategy', ',', 'since', 'the', 'cpu', 'and', 'associated', 'logic', 'are', 'responsible', 'for', 'about', '32', '%', 'of', 'power', 'use', ';', 'similar', 'techniques', 'should', 'be', 'applicable', 'to', 'operating', 'systems', 'with', 'similar', 'behavior', '.', 'for', 'these', 'reasons', ',', 'much', 'work', 'has', 'been', 'done', 'in', 'reducing', 'the', 'power', 'consumption', 'of', 'computers', '.', 'in', 'and', ',', 'we', 'analyzed', 'the', 'power', 'consumption', 'of', 'various', 'macintosh', 'powerbook', 'computers', ',', 'in', 'typical', 'use', 'by', 'a', 'number', 'of', 'engineering', 'users', '.', 'we', 'found', 'that', ',', 'depending', 'on', 'the', 'machine', 'and', 'user', ',', 'up', 'to', '18-34', '%', 'of', 'total', 'power', 'was', 'attributable', 'to', 'components', 'whose', 'power', 'consumption', 'could', 'be', 'reduced', 'by', 'power', 'management', 'of', 'the', 'processor', ',', 'i.e', '.', 'this', 'high', 'percentage', ',', 'combined', 'with', 'our', 'intuition', 'that', 'software', 'power', 'management', 'could', 'be', 'significantly', 'improved', 'for', 'the', 'processor', ',', 'led', 'us', 'to', 'conclude', 'that', 'the', 'most', 'important', 'target', 'for', 'further', 'research', 'in', 'software', 'power', 'management', 'was', 'the', 'processor', '.', 'many', 'modern', 'microprocessors', 'have', 'low-power', 'states', ',', 'in', 'which', 'they', 'consume', 'little', 'or', 'no', 'power', '.', 'to', 'take', 'advantage', 'of', 'such', 'low-power', 'states', ',', 'the', 'operating', 'system', 'needs', 'to', 'direct', 'the', 'processor', 'to', 'turn', 'off', 'when', 'it', 'is', 'predicted', 'that', 'the', 'consequent', 'savings', 'in', 'power', 'will', 'be', 'worth', 'the', 'time', 'and', 'energy', 'overhead', 'of', 'turning', 'off', 'and', 'restarting', '.', 'in', 'this', 'way', ',', 'the', 'goal', 'of', 'processor', 'power', 'management', 'strategies', 'is', 'similar', 'to', 'that', 'of', 'hard', 'disks', '.', 'some', 'strategies', 'for', 'making', 'these', 'predictions', 'are', 'described', 'by', 'srivastava', 'et', 'al', '.', 'for', 'instance', ',', 'the', 'at', '&', 't', 'hobbit', 'and', 'certain', 'versions', 'of', 'the', 'mc68030', 'and', 'mc68040', 'use', 'static', 'logic', 'so', 'that', 'most', 'of', 'their', 'state', 'can', 'be', 'retained', 'when', 'the', 'clock', 'is', 'shut', 'down', '.', 'also', ',', 'the', 'powerpc', '603', 'can', 'exit', 'the', 'low-power', 'doze', 'mode', 'in', 'about', 'ten', 'system', 'clocks', '.', 'because', 'of', 'the', 'short', 'delay', 'and', 'low', 'energy', 'cost', 'for', 'entering', 'and', 'leaving', 'a', 'low-power', 'state', ',', 'the', 'optimal', 'cpu', 'power', 'management', 'strategy', 'is', 'trivial', ':', 'turn', 'off', 'the', 'cpu', 'whenever', 'there', 'is', 'no', 'useful', 'work', 'to', 'do', '.', 'an', 'opportunityfor', 'such', 'a', 'strategy', 'is', 'described', 'by', 'srivastava', 'et', 'al', '.', 'this', 'material', 'is', 'based', 'upon', 'work', 'supported', 'by', 'a', 'national', 'science', 'foundation', 'graduate', 'research', 'fellowship', ',', 'by', 'apple', 'computer', ',', 'and', 'also', 'in', 'part', 'by', 'the', 'national', 'science', 'foundation', 'under', 'grants', 'mip-9116578', 'and', 'ccr-9117028', ',', 'by', 'the', 'state', 'of', 'california', 'under', 'the', 'micro', 'program', ',', 'and', 'by', 'intel', 'corporation', 'and', 'sun', 'microsystems', '.', 'although', 'the', 'work', 'presented', 'here', 'has', 'benefited', 'from', 'support', 'from', 'and', 'cooperation', 'by', 'apple', ',', 'the', 'relationship', 'between', 'this', 'work', 'and', 'apple', \"'s\", 'product', 'development', 'plans', 'has', 'yet', 'to', 'be', 'determined', '.', 'to', 'appear', 'in', 'the', 'second', 'acm', 'international', 'conference', 'on', 'mobile', 'computing', 'and', 'networking', ',', 'november', '1996', ',', 'rye', ',', 'new', 'york', '.', 'copyright', 'c', '1996', 'by', 'the', 'association', 'for', 'computing', 'machinery', ',', 'inc.', 'copyrights', 'for', 'components', 'of', 'this', 'work', 'owned', 'by', 'others', 'than', 'acm', 'must', 'be', 'honored', '.', 'abstracting', 'with', 'credit', 'is', 'permitted', '.', 'to', 'copy', 'otherwise', ',', 'to', 'republish', ',', 'to', 'post', 'on', 'servers', ',', 'or', 'to', 'redistribute', 'to', 'lists', ',', 'requires', 'prior', 'specific', 'permission', 'and/or', 'a', 'fee', '.', 'an', 'essentially', 'equivalent', 'version', 'of', 'this', 'strategy', ',', 'namely', 'to', 'establish', 'a', 'virtual', 'lowest-priority', 'process', 'whose', 'job', 'is', 'to', 'turn', 'off', 'the', 'processor', 'when', 'it', 'runs', ',', 'is', 'recommended', 'by', 'suessmith', 'and', 'paap', 'for', 'the', 'powerpc', '603', ',', 'and', 'by', 'suzuki', 'and', 'uno', 'in', 'a', '1993', 'patent', '.', 'such', 'a', 'virtual', 'lowest-priority', 'process', 'has', 'in', 'the', 'past', 'been', 'called', 'the', '``', 'idle', 'loop', ',', \"''\", 'and', 'in', 'mainframes', 'typically', 'lighted', 'a', 'bulb', 'on', 'the', 'console', '.', 'we', 'refer', 'to', 'the', 'strategy', 'of', 'turning', 'off', 'the', 'processor', 'when', 'no', 'process', 'is', 'available', 'to', 'run', 'the', 'basic', 'strategy', '.', 'unfortunately', ',', 'in', 'apple', \"'s\", 'macos', ',', 'processes', 'can', 'run', 'or', 'be', 'scheduled', 'to', 'run', 'even', 'when', 'they', 'have', 'no', 'useful', 'work', 'to', 'do', '.', 'this', 'feature', 'is', 'partially', 'by', 'design', ',', 'since', 'in', 'a', 'single-user', 'system', 'there', 'is', 'less', 'need', 'for', 'the', 'operating', 'system', 'to', 'act', 'as', 'an', 'arbiter', 'of', 'resource', 'use', '.', 'partially', ',', 'it', 'is', 'because', 'the', 'os', 'was', 'not', 'written', 'with', 'power', 'management', 'in', 'mind', '.', 'there', 'are', 'two', 'main', 'problems', 'with', 'the', 'current', 'management', 'of', 'processor', 'time', ',', 'one', 'having', 'to', 'do', 'with', 'the', 'system', 'and', 'one', 'having', 'to', 'do', 'with', 'applications', '.', 'the', 'first', 'problem', 'is', 'that', 'the', 'operating', 'system', 'will', 'sometimes', 'schedule', 'a', 'process', 'even', 'though', 'it', 'has', 'no', 'work', 'to', 'do', '.', 'we', 'were', 'first', 'made', 'aware', 'of', 'this', 'phenomenon', 'when', 'we', 'studied', 'traces', 'of', 'macos', 'process', 'scheduling', 'calls', ',', 'and', 'found', 'that', 'often', 'a', 'process', 'would', 'be', 'scheduled', 'to', 'run', 'before', 'the', 'conditions', 'the', 'process', 'had', 'established', 'as', 'necessary', 'for', 'it', 'to', 'be', 'ready', 'were', 'fulfilled', '.', 'it', 'seems', 'that', 'often', ',', 'when', 'there', 'are', 'no', 'ready', 'processes', ',', 'the', 'os', 'picks', 'one', 'to', 'run', 'anyway', ',', 'usually', 'the', 'process', 'associated', 'with', 'the', 'active', 'window', '.', 'the', 'second', 'problem', 'is', 'that', 'programmers', 'writing', 'applications', 'generally', 'assume', 'that', 'when', 'their', 'application', 'is', 'running', 'in', 'the', 'foreground', ',', 'it', 'is', 'justified', 'in', 'taking', 'as', 'much', 'processing', 'time', 'as', 'it', 'wants', '.', 'first', ',', 'a', 'process', 'will', 'often', 'request', 'processor', 'time', 'even', 'when', 'it', 'has', 'nothing', 'to', 'do', '.', 'we', 'discovered', 'this', 'problem', 'in', 'macos', 'when', 'we', 'discovered', 'periods', 'of', 'as', 'long', 'as', 'ten', 'minutes', 'during', 'which', 'a', 'process', 'never', 'did', 'anything', ',', 'yet', 'never', 'blocked', ';', 'we', 'describe', 'later', 'what', 'we', 'mean', 'by', '``', 'never', 'did', 'anything', '.', \"''\", 'second', ',', 'when', 'a', 'process', 'decides', 'to', 'block', ',', 'it', 'often', 'requests', 'a', 'shorter', 'sleep', 'period', 'than', 'necessary', '.', 'solutions', 'to', 'both', 'these', 'problems', 'seem', 'to', 'be', 'necessary', 'to', 'obtain', 'the', 'most', 'savings', 'from', 'the', 'basic', 'strategy', '.', 'for', 'this', 'reason', ',', 'we', 'have', 'developed', 'additional', 'techniques', 'for', 'process', 'management', '.', 'our', 'technique', 'for', 'dealing', 'with', 'the', 'first', 'problem', 'is', 'to', 'simply', 'make', 'the', 'operating', 'system', 'never', 'schedule', 'a', 'process', 'when', 'it', 'has', 'requested', 'to', 'be', 'blocked', ';', 'we', 'call', 'this', 'the', 'simple', 'scheduling', 'technique', '.', 'one', 'technique', 'we', 'suggest', 'is', 'to', 'use', 'a', 'heuristic', 'to', 'decide', 'when', 'a', 'process', 'is', 'making', 'unnecessary', 'requests', 'for', 'processor', 'time', 'and', 'to', 'forcibly', 'block', 'any', 'such', 'process', '.', 'another', 'technique', 'we', 'suggest', 'is', 'that', 'all', 'sleep', 'times', 'requested', 'by', 'processes', 'be', 'multiplied', 'by', 'a', 'constant', 'factor', ',', 'chosen', 'by', 'the', 'user', 'or', 'operating', 'system', ',', 'to', 'ensure', 'that', 'a', 'reasonable', 'trade-off', 'between', 'energy', 'savings', 'and', 'performance', 'is', 'obtained', '.', 'we', 'call', 'these', 'latter', 'two', 'techniques', 'the', 'greediness', 'technique', 'and', 'sleep', 'extension', 'technique', ',', 'respectively', '.', 'we', 'will', 'show', 'how', 'using', 'these', 'techniques', 'can', 'improve', 'the', 'effectiveness', 'of', 'the', 'basic', 'strategy', ',', 'allowing', 'it', 'to', 'far', 'surpass', 'the', 'effectiveness', 'of', 'the', 'current', 'macos', 'inactivity-timer', 'based', 'strategy', '.', 'each', 'of', 'these', 'is', 'described', 'in', 'more', 'detail', 'below', '.', 'in', 'this', 'paper', ',', 'we', 'evaluate', 'these', 'different', 'strategies', ',', 'over', 'a', 'variety', 'of', 'parameter', 'values', ',', 'using', 'trace-driven', 'simulation', '.', 'these', 'simulations', 'enable', 'us', 'to', 'compare', 'these', 'algorithms', 'to', 'the', 'current', 'macos', 'strategy', ',', 'and', 'to', 'optimize', 'their', 'parameters', '.', 'a', 'comparison', 'between', 'two', 'strategies', 'is', 'based', 'on', 'two', 'consequences', 'of', 'each', 'strategy', ':', 'how', 'much', 'processor', 'power', 'it', 'saves', 'and', 'how', 'much', 'it', 'decreases', 'observed', 'performance', '.', 'the', 'paper', 'is', 'structured', 'as', 'follows', '.', 'in', 'section', '2', ',', 'we', 'describe', 'in', 'detail', 'the', 'strategies', 'we', 'will', 'be', 'comparing', ',', 'including', 'the', 'current', 'strategy', 'used', 'by', 'macos', ',', 'the', 'basic', 'strategy', ',', 'and', 'our', 'suggested', 'process', 'management', 'techniques', 'for', 'improving', 'the', 'basic', 'strategy', '.', 'in', 'section', '3', ',', 'we', 'describe', 'the', 'methodology', 'we', 'used', 'to', 'evaluate', 'these', 'strategies', ':', 'the', 'evaluation', 'criteria', ',', 'the', 'tools', 'we', 'used', 'for', 'the', 'trace-driven', 'simulation', ',', 'and', 'the', 'nature', 'of', 'the', 'traces', 'we', 'collected', '.', 'in', 'section', '4', ',', 'we', 'present', 'the', 'results', 'of', 'our', 'simulations', '.', 'in', 'section', '5', ',', 'we', 'discuss', 'the', 'meaning', 'and', 'consequences', 'of', 'these', 'results', ',', 'and', 'point', 'the', 'way', 'to', 'future', 'work', '.', 'the', 'currently', 'used', 'processor', 'power', 'management', 'strategy', 'in', 'macos', 'is', 'based', 'on', 'an', 'inactivity', 'timer', '.', 'the', 'operating', 'system', 'will', 'initiate', 'processor', 'power', 'reduction', 'whenever', 'no', 'activity', 'has', 'occurred', 'in', 'the', 'last', 'two', 'seconds', 'and', 'no', 'i/o', 'activity', 'has', 'occurred', 'in', 'the', 'last', '15', 'seconds', '.', 'power', 'reduction', 'is', 'halted', 'whenever', 'activity', 'is', 'once', 'again', 'detected', '.', 'activity', 'is', 'defined', 'here', 'and', 'in', 'later', 'contexts', 'as', 'any', 'user', 'input', ',', 'any', 'i/o', 'device', 'read', 'or', 'write', ',', 'any', 'change', 'in', 'the', 'appearance', 'of', 'the', 'cursor', ',', 'or', 'any', 'time', 'spent', 'with', 'the', 'cursor', 'as', 'a', 'watch', '.', 'the', 'reason', 'for', 'the', 'classification', 'of', 'these', 'latter', 'two', 'as', 'activity', 'is', 'that', 'macos', 'human', 'interface', 'guidelines', 'specify', 'that', 'a', 'process', 'that', 'is', 'actively', 'computing', 'must', 'indicate', 'this', 'to', 'the', 'user', 'by', 'having', 'the', 'cursor', 'appear', 'as', 'a', 'watch', 'or', 'by', 'frequently', 'changing', 'the', 'appearance', 'of', 'the', 'cursor', ',', 'e.g', '.', 'the', 'basic', 'strategy', 'is', 'to', 'turn', 'off', 'the', 'processor', 'whenever', 'all', 'processes', 'are', 'blocked', '.', 'unfortunately', ',', 'under', 'macos', ',', 'this', 'is', 'not', 'often', 'the', 'case', ',', 'since', 'macos', 'frequently', 'schedules', 'some', 'process', 'whether', 'or', 'not', 'the', 'event', 'for', 'which', 'the', 'process', 'was', 'waiting', 'has', 'actually', 'occurred', '.', 'one', 'might', 'wonder', 'why', 'macos', 'uses', 'this', 'inactivity', 'timer', 'based', 'strategy', 'instead', 'of', 'the', 'basic', 'strategy', '.', 'one', 'reason', 'is', 'that', 'all', 'but', 'the', 'most', 'recent', 'macintosh', 'computers', 'have', 'high', 'overhead', 'associated', 'with', 'turning', 'off', 'and', 'on', 'the', 'processor', ',', 'making', 'the', 'basic', 'strategy', 'less', 'applicable', '.', 'in', 'older', 'processors', ',', 'for', 'example', ',', 'the', 'contents', 'of', 'on-chip', 'caches', 'were', 'lost', 'when', 'the', 'processor', 'was', 'powered', 'down', '.', 'another', 'reason', 'is', 'that', ',', 'as', 'we', 'have', 'described', 'before', 'and', 'will', 'see', 'later', ',', 'the', 'effectiveness', 'of', 'the', 'basic', 'strategy', 'is', 'not', 'very', 'different', 'from', 'that', 'of', 'the', 'inactivity', 'timer', 'based', 'strategy', ',', 'given', 'the', 'current', 'macos', 'method', 'of', 'process', 'time', 'management', '.', 'the', 'greediness', 'technique', 'is', ',', 'in', 'overview', ',', 'to', 'identify', 'and', 'block', 'processes', 'that', 'are', 'not', 'doing', 'useful', 'work', '.', 'first', ',', 'we', 'will', 'describe', 'the', 'technique', 'in', 'general', 'terms', ',', 'and', 'then', 'we', 'will', 'indicate', 'the', 'details', 'of', 'its', 'implementation', 'for', 'the', 'macos', '.', 'the', 'technique', 'is', 'based', 'on', 'the', 'following', 'model', 'of', 'the', 'appropriate', 'way', 'a', 'process', 'should', 'operate', 'in', 'an', 'event-driven', 'environment', '.', 'a', 'process', ',', 'upon', 'receiving', 'an', 'event', ',', 'should', 'process', 'that', 'event', ',', 'blocking', 'when', 'and', 'only', 'when', 'it', 'has', 'finished', 'that', 'processing', '.', 'once', 'blocked', ',', 'it', 'should', 'be', 'scheduled', 'again', 'when', 'and', 'only', 'when', 'another', 'event', 'is', 'ready', 'to', 'be', 'processed', ';', 'an', 'exception', 'is', 'that', 'the', 'process', 'may', 'want', 'to', 'be', 'scheduled', 'periodically', 'to', 'perform', 'periodic', 'tasks', ',', 'such', 'as', 'blinking', 'the', 'cursor', 'or', 'checking', 'whether', 'it', 'is', 'time', 'to', 'do', 'backups', '.', 'we', 'say', 'that', 'a', 'process', 'is', 'acting', 'greedily', 'when', 'it', 'fails', 'to', 'block', 'even', 'after', 'it', 'has', 'finished', 'processing', 'an', 'event', '.', 'this', 'can', 'occur', 'when', 'a', 'process', 'busy', 'waits', 'in', 'some', 'manner', ',', 'e.g', '.', 'when', 'we', 'determine', 'a', 'process', 'is', 'acting', 'greedily', ',', 'we', 'will', 'forcibly', 'block', 'that', 'process', 'for', 'a', 'set', 'period', 'of', 'time', '.', 'macos', 'uses', 'cooperative', 'multitasking', ',', 'meaning', 'that', 'once', 'a', 'process', 'gets', 'control', 'of', 'the', 'processor', ',', 'it', 'retains', 'that', 'control', 'until', 'it', 'chooses', 'to', 'yield', 'control', '.', 'for', 'this', 'reason', ',', 'application', 'writers', 'are', 'strongly', 'encouraged', 'to', 'have', 'their', 'processes', 'yield', 'control', 'periodically', ',', 'even', 'when', 'they', 'still', 'have', 'work', 'to', 'do', '.', 'processes', 'indicate', 'that', 'they', 'still', 'have', 'work', 'to', 'do', 'by', 'specifying', 'a', 'sleep', 'period', 'of', 'zero', ',', 'thereby', 'failing', 'to', 'block', '.', 'we', 'call', 'the', 'period', 'of', 'time', 'between', 'when', 'a', 'process', 'gains', 'control', 'of', 'the', 'processor', 'and', 'when', 'it', 'yields', 'control', 'a', 'quantum', '.', 'part', 'of', 'our', 'technique', 'is', 'a', 'heuristic', 'to', 'determine', 'when', 'a', 'process', 'is', 'acting', 'greedily', '.', 'we', 'say', 'that', 'a', 'process', 'is', 'acting', 'greedily', 'when', 'it', 'specifies', 'a', 'sleep', 'period', 'of', 'zero', 'even', 'though', 'it', 'seems', 'not', 'to', 'be', 'actively', 'computing', '.', 'we', 'consider', 'a', 'process', 'to', 'start', 'actively', 'computing', 'when', 'it', 'receives', 'an', 'event', 'or', 'shows', 'some', 'signs', 'of', '``', 'activity', ',', \"''\", 'as', 'defined', 'below', '.', 'we', 'estimate', 'that', 'a', 'process', 'is', 'no', 'longer', 'actively', 'computing', 'if', 'it', 'explicitly', 'blocks', ',', 'or', 'if', 'it', 'yields', 'control', 'several', 'times', 'in', 'a', 'row', 'without', 'receiving', 'an', 'event', 'or', 'showing', 'signs', 'of', 'activity', '.', 'the', 'exact', 'number', 'of', 'control-yieldtimes', ',', 'which', 'we', 'call', 'the', 'greediness', 'threshold', ',', 'is', 'a', 'parameter', 'of', 'the', 'technique', ';', 'we', 'expect', 'it', 'to', 'be', 'set', 'so', 'as', 'to', 'maximize', 'energy', 'savings', ',', 'given', 'a', 'desired', 'level', 'of', 'performance', '.', 'we', 'say', 'that', 'a', 'process', 'shows', 'no', 'sign', 'of', 'activity', 'if', 'it', 'performs', 'no', 'i/o', 'device', 'read', 'or', 'write', ',', 'does', 'not', 'have', 'the', 'sound', 'chip', 'on', ',', 'does', 'not', 'change', 'the', 'appearance', 'of', 'the', 'cursor', ',', 'and', 'does', 'not', 'have', 'the', 'cursor', 'appear', 'as', 'a', 'watch', '.', 'the', 'absence', 'of', 'activity', 'as', 'we', 'have', 'so', 'defined', 'it', 'implies', 'that', 'either', 'the', 'cpu', 'is', 'idle', ',', 'the', 'process', 'running', 'is', 'busy', 'waiting', 'in', 'some', 'manner', ',', 'or', 'the', 'process', 'running', 'is', 'violating', 'the', 'macos', 'human', 'interface', 'guidelines', 'that', 'we', 'mentioned', 'earlier', '.', 'the', 'greediness', 'technique', 'works', 'as', 'follows', '.', 'when', 'the', 'os', 'determines', 'that', 'a', 'process', 'is', 'acting', 'greedily', 'as', 'defined', 'above', ',', 'the', 'simple', 'scheduling', 'technique', 'is', 'to', 'not', 'schedule', 'a', 'process', 'until', 'the', 'condition', 'under', 'which', 'it', 'has', 'indicated', 'it', 'will', 'be', 'ready', 'to', 'run', 'has', 'been', 'met', '.', 'in', 'macos', ',', 'this', 'condition', 'is', 'always', 'explicitly', 'indicated', 'by', 'the', 'process', ',', 'and', 'is', 'always', 'of', 'the', 'form', ',', '``', 'any', 'of', 'the', 'event', 'types', 'e1', ';', 'e2', ';', ':', ':', ':', 'has', 'occurred', ',', 'or', 'a', 'period', 'of', 'time', 't', 'has', 'passed', 'since', 'the', 'process', 'last', 'yielded', 'control', 'of', 'the', 'processor', '.', \"''\", 'the', 'period', 'of', 'time', 'for', 'which', 'the', 'process', 'is', 'willing', 'to', 'wait', 'in', 'the', 'absence', 'of', 'events', 'before', 'being', 'scheduled', 'is', 'referred', 'to', 'as', 'the', 'sleep', 'period', '.', 'note', 'that', ',', 'in', 'some', 'other', 'operating', 'systems', ',', 'such', 'as', 'unix', 'or', 'microsoft', 'windows', ',', 'the', 'simple', 'scheduling', 'technique', 'is', 'not', 'needed', ',', 'since', 'it', 'is', 'the', 'default', 'behavior', 'of', 'the', 'operating', 'system', '.', 'using', 'only', 'the', 'simple', 'scheduling', 'technique', 'described', 'above', 'means', 'that', 'a', 'process', 'is', 'given', 'control', 'of', 'the', 'processor', 'whenever', 'it', 'wants', 'it', '.', 'for', 'example', ',', 'if', 'it', 'asks', 'to', 'be', 'unblocked', 'every', '1', 'second', ',', 'it', 'is', 'unblocked', 'every', '1', 'second', ',', 'even', 'if', 'all', 'it', 'wants', 'to', 'do', 'is', 'blink', 'the', 'cursor', ',', 'a', 'common', 'occurrence', '.', 'since', 'macos', 'is', 'not', 'a', 'real', 'time', 'system', ',', 'a', 'real', 'time', 'sleep', 'period', 'does', 'not', 'actually', 'have', 'to', 'be', 'honored', '.', 'in', 'fact', ',', 'in', 'the', 'current', 'macos', 'power', 'management', 'strategy', ',', 'with', 'power', 'management', 'enabled', ',', 'the', 'cursor', 'may', 'blink', 'much', 'more', 'slowly', 'than', 'it', 'would', 'without', 'power', 'management', '.', 'if', 'this', 'kind', 'of', 'behavior', 'is', 'acceptable', ',', 'it', 'is', 'possible', 'to', 'increase', 'the', 'effectiveness', 'of', 'the', 'simple', 'scheduling', 'technique', 'by', 'using', 'what', 'we', 'call', 'the', 'sleep', 'extension', 'technique', '.', 'this', 'technique', 'specifies', 'a', 'sleep', 'multiplier', ',', 'a', 'number', 'greater', 'than', 'one', 'by', 'which', 'all', 'sleep', 'periods', 'are', 'multiplied', ',', 'thus', 'eliminating', 'some', 'fraction', 'of', 'the', 'process', 'run', 'intervals', '.', 'we', 'envision', 'that', 'the', 'sleep', 'multiplier', 'can', 'be', 'set', ',', 'either', 'by', 'the', 'user', 'or', 'by', 'the', 'operating', 'system', ',', 'so', 'as', 'to', 'maximize', 'energy', 'savings', ',', 'given', 'a', 'certain', 'level', 'of', 'performance', 'desired', '.', 'the', 'forced', 'sleep', 'period', 'is', 'a', 'parameter', 'to', 'be', 'optimized', ',', 'with', 'the', 'following', 'tradeoff', ':', 'a', 'short', 'sleep', 'period', 'saves', 'insufficient', 'power', ',', 'while', 'a', 'long', 'sleep', 'period', 'may', ',', 'in', 'the', 'case', 'that', 'our', 'heuristic', 'fails', ',', 'block', 'a', 'process', 'that', 'is', 'actually', 'doing', 'something', 'useful', '.', 'evaluation', 'of', 'a', 'strategy', 'requires', 'measuring', 'two', 'consequences', 'of', 'that', 'strategy', ':', 'processor', 'energy', 'savings', 'and', 'performance', 'impact', '.', 'processor', 'energy', 'savings', 'is', 'easy', 'to', 'deduce', 'from', 'a', 'simulation', ',', 'since', 'it', 'is', 'essentially', 'the', 'percent', 'decrease', 'in', 'the', 'time', 'the', 'processor', 'spends', 'in', 'the', 'high-power', 'state', '.', 'in', 'contrast', ',', 'performance', 'impact', ',', 'by', 'which', 'we', 'mean', 'the', 'percent', 'increase', 'in', 'workload', 'runtime', 'as', 'a', 'result', 'of', 'using', 'a', 'power-saving', 'strategy', ',', 'is', 'difficult', 'to', 'measure', '.', 'this', 'performance', 'penalty', 'stems', 'from', 'the', 'fact', 'that', 'a', 'power', 'saving', 'strategy', 'will', 'sometimes', 'cause', 'the', 'processor', 'not', 'to', 'run', 'when', 'it', 'would', 'otherwise', 'be', 'performing', 'useful', 'work', '.', 'such', 'work', 'will', 'wind', 'up', 'having', 'to', 'be', 'scheduled', 'later', ',', 'making', 'the', 'workload', 'take', 'longer', 'to', 'complete', '.', 'without', 'detailed', 'knowledge', 'of', 'the', 'purpose', 'of', 'instruction', 'sequences', ',', 'it', 'is', 'difficult', 'for', 'a', 'tracer', 'to', 'accurately', 'determine', 'what', 'work', 'is', 'useful', 'and', 'what', 'is', 'not', ',', 'so', 'our', 'measure', 'will', 'necessarily', 'be', 'inexact', '.', 'we', 'have', 'decided', 'to', 'use', 'the', 'same', 'heuristic', 'used', 'in', 'the', 'greediness', 'technique', 'to', 'determine', 'when', 'the', 'processor', 'is', 'doing', 'useful', 'work', '.', 'in', 'other', 'words', ',', 'we', 'will', 'call', 'a', 'quantum', 'useful', 'if', ',', 'during', 'that', 'quantum', ',', 'there', 'is', 'any', 'i/o', 'device', 'read', 'or', 'write', ',', 'the', 'sound', 'chip', 'is', 'on', ',', 'there', 'is', 'any', 'change', 'to', 'the', 'cursor', ',', 'or', 'the', 'cursor', 'appears', 'as', 'a', 'watch', '.', 'it', 'might', 'be', 'objected', 'that', 'using', 'the', 'same', 'heuristic', 'in', 'the', 'evaluation', 'of', 'a', 'strategy', 'as', 'is', 'used', 'by', 'that', 'strategy', 'is', 'invalid', '.', 'however', ',', 'remember', 'that', 'a', 'strategy', 'does', 'not', 'have', 'prior', 'knowledge', 'of', 'when', 'a', 'quantum', 'will', 'be', 'useful', ',', 'whereas', 'the', 'evaluation', 'system', 'does', '.', 'thus', ',', 'we', 'are', 'evaluating', 'the', 'accuracy', 'of', 'our', 'guess', 'that', 'a', 'quantum', 'will', 'be', 'useful', 'or', 'useless', '.', 'we', 'must', 'also', 'account', 'for', 'the', 'time', 'not', 'spent', 'inside', 'application', 'code', 'in', 'the', 'original', 'trace', '.', 'we', 'divide', 'this', 'time', 'into', 'time', 'spent', 'switching', 'processes', 'in', 'and', 'out', ',', 'time', 'spent', 'context', 'switching', ',', 'time', 'the', 'os', 'spent', 'doing', 'useful', 'work', ',', 'and', 'os', 'idle', 'time', '.', 'the', 'os', 'is', 'considered', 'to', 'be', 'doing', 'useful', 'work', 'whenever', 'it', 'shows', 'signs', 'of', 'activity', 'that', 'would', 'cause', 'a', 'process', 'quantum', 'to', 'be', 'labeled', 'useful', '.', 'such', 'useful', 'work', 'is', 'scheduled', 'in', 'the', 'simulations', 'immediately', 'after', 'the', 'quantum', 'that', 'it', 'originally', 'followed', 'is', 'scheduled', ',', 'on', 'the', 'assumption', 'that', 'most', 'significant', 'os', 'work', 'is', 'necessitated', 'by', 'the', 'actions', 'of', 'the', 'process', 'that', 'just', 'ran', '.', 'idle', 'time', 'is', 'identified', 'whenever', 'no', 'process', 'is', 'running', 'and', 'the', 'operating', 'system', 'is', 'not', 'doing', 'useful', 'work', 'for', 'a', 'continuous', 'period', 'over', '16', 'ms.', 'we', 'chose', 'this', 'threshold', 'for', 'two', 'reasons', '.', 'first', ',', 'it', 'is', 'the', 'smallest', 'time', 'unit', 'used', 'for', 'process', 'scheduling', 'by', 'macos', ',', 'so', 'we', 'expect', 'any', 'decision', 'to', 'idle', 'to', 'result', 'in', 'at', 'least', 'this', 'much', 'idleness', '.', 'finally', ',', 'context', 'switch', 'time', 'is', 'assumed', 'to', 'occur', 'any', 'time', 'a', 'process', 'switches', 'in', 'that', 'is', 'different', 'from', 'the', 'one', 'that', 'last', 'switched', 'out', ';', 'context', 'switches', 'are', 'considered', 'to', 'take', '0.681', 'ms', ',', 'the', 'observed', 'difference', 'between', 'the', 'average', 'interprocess', 'time', 'when', 'no', 'context', 'switch', 'occurs', 'and', 'the', 'average', 'interprocess', 'time', 'when', 'a', 'context', 'switch', 'occurs', '.', 'there', 'are', 'three', 'main', 'tools', 'we', 'used', 'to', 'perform', 'our', 'simulations', '.', 'the', 'first', 'tool', ',', 'idletracer', ',', 'collects', 'traces', 'of', 'events', 'needed', 'to', 'simulate', 'the', 'different', 'strategies', ',', 'and', 'is', 'discussed', 'in', 'more', 'detail', 'in', '.', 'specifically', ',', 'it', 'records', 'the', 'time', 'of', 'occurrence', 'and', 'other', 'details', 'about', 'the', 'following', 'events', ':', 'tracing', 'begins', 'or', 'ends', ',', 'the', 'machine', 'goes', 'to', 'or', 'wakes', 'from', 'sleep', ',', 'a', 'process', 'begins', 'or', 'ends', ',', 'the', 'sound', 'chip', 'is', 'turned', 'on', 'or', 'off', ',', 'the', 'cursor', 'changes', ',', 'the', 'mouse', 'starts', 'or', 'stops', 'moving', ',', 'an', 'i/o', 'device', 'is', 'read', 'or', 'written', ',', 'a', 'process', 'obtains', 'or', 'yields', 'control', 'of', 'the', 'processor', ',', 'or', 'an', 'event', 'is', 'placed', 'on', 'the', 'event', 'queue', '.', 'idletracer', 'only', 'collects', 'data', 'while', 'the', 'machine', 'it', 'is', 'tracing', 'is', 'running', 'on', 'battery', 'power', ',', 'since', 'that', 'is', 'when', 'processor', 'energy', 'savings', 'is', 'most', 'important', ',', 'and', 'we', 'want', 'our', 'analysis', 'to', 'reflect', 'the', 'appropriate', 'workload', '.', 'also', ',', 'idletracer', 'shuts', 'off', 'processor', 'power', 'management', 'while', 'it', 'is', 'tracing', ',', 'so', 'that', 'the', 'traces', 'it', 'uses', 'are', 'not', 'confounded', 'by', 'the', 'current', 'strategy', 'and', 'thus', 'can', 'be', 'used', 'to', 'simulate', 'any', 'strategy', '.', 'idletracer', 'makes', 'use', 'of', 'the', 'setc', 'module', ',', 'a', 'set', 'of', 'routines', 'for', 'tracing', 'and', 'counting', 'system', 'events', '.', 'the', 'second', 'tool', ',', 'itmsim', ',', 'simulates', 'power', 'management', 'methods', 'using', 'the', 'current', 'macos', 'inactivity-threshold', 'strategy', ',', 'and', 'provides', 'a', 'basis', 'for', 'comparison', '.', 'in', 'other', 'words', ',', 'it', 'simulates', 'the', 'strategy', 'that', 'turns', 'off', 'the', 'processor', 'when', 'there', 'has', 'been', 'no', 'activity', 'in', 'the', 'last', 'two', 'seconds', 'and', 'no', 'i/o', 'activity', 'in', 'the', 'last', 'fifteen', 'seconds', '.', 'in', 'actuality', ',', 'during', 'periods', 'that', 'the', 'processor', 'is', 'supposed', 'to', 'be', 'off', ',', 'macos', 'will', 'occasionally', 'turn', 'the', 'processor', 'on', 'for', 'long', 'enough', 'to', 'schedule', 'a', 'process', 'quantum', '.', 'this', 'is', 'done', 'to', 'give', 'processes', 'a', 'chance', 'to', 'demonstrate', 'some', 'activity', 'and', 'put', 'an', 'end', 'to', 'processor', 'power', 'management', ',', 'in', 'case', 'the', 'processor', 'was', 'shut', 'off', 'too', 'soon', '.', 'the', 'details', 'of', 'how', 'process', 'quanta', 'are', 'scheduled', 'while', 'the', 'processor', 'is', 'supposed', 'to', 'be', 'off', 'is', 'proprietary', 'and', 'thus', 'is', 'not', 'described', 'here', ';', 'however', ',', 'itmsim', 'does', 'attempt', 'to', 'simulate', 'this', 'aspect', 'of', 'the', 'strategy', '.', 'to', 'give', 'an', 'idea', 'of', 'the', 'consequences', 'of', 'this', 'proprietary', 'modification', ',', 'our', 'simulations', 'showed', 'that', 'for', 'the', 'aggregate', 'workload', 'we', 'studied', ',', 'it', 'decreased', 'the', 'performance', 'impact', 'measure', 'from', '1.93', '%', 'to', '1.84', '%', ',', 'at', 'the', 'expense', 'of', 'decreasing', 'processor', 'off', 'time', 'from', '29.77', '%', 'to', '28.79', '%', '.', 'this', 'particular', 'proprietary', 'modification', ',', 'therefore', ',', 'has', 'only', 'a', 'trivial', 'effect', 'on', 'the', 'power', 'savings', '.', 'table', '1', ':', 'information', 'about', 'the', 'six', 'users', 'traced', '.', 'useful', 'quanta', 'are', 'immediately', 'scheduled', ',', 'delaying', 'the', 'rest', 'of', 'the', 'trace', 'execution', 'and', 'thus', 'contributing', 'to', 'the', 'performance', 'impact', 'measure', '.', 'non-useful', 'quanta', 'are', 'discarded', 'and', 'never', 'scheduled', '.', 'any', 'useful', 'os', 'time', 'associated', 'with', 'these', 'quanta', 'is', 'also', 'immediately', 'scheduled', ',', 'contributing', 'to', 'the', 'performance', 'impact', 'measure', '.', 'the', 'third', 'tool', ',', 'asmsim', ',', 'simulates', 'the', 'basic', 'strategy', 'with', 'the', 'simple', 'scheduling', 'technique', ',', 'along', 'with', 'zero', 'or', 'more', 'of', 'our', 'two', 'other', 'suggested', 'techniques', ':', 'sleep', 'extension', 'and', 'greediness', '.', 'the', 'parameters', 'for', 'these', 'techniques', 'may', 'be', 'varied', 'at', 'will', 'in', 'the', 'simulations', '.', 'when', ',', 'in', 'the', 'simulation', ',', 'an', 'event', 'becomes', 'ready', 'for', 'a', 'process', ',', 'all', 'quanta', 'of', 'that', 'process', 'preceding', 'the', 'receipt', 'of', 'the', 'ready', 'event', 'that', 'have', 'not', 'yet', 'been', 'scheduled', 'will', 'be', 'treated', 'as', 'described', 'above', ',', 'i.e', '.', 'even', 'for', 'periodic', 'processes', ',', 'we', 'schedule', 'quanta', 'in', 'the', 'order', 'in', 'which', 'they', 'occurred', '.', 'for', 'example', ',', 'if', 'after', 'its', 'quantum', 'i', 'a', 'process', 'originally', 'slept', 'for', '1', 'second', 'but', 'is', 'actually', 'awoken', 'after', '4', 'seconds', ',', 'then', 'at', 'that', 'point', 'we', 'schedule', 'quantum', 'i', '+', '1', ',', 'not', 'some', 'later', 'quantum', '.', 'note', 'that', 'this', 'approach', 'may', 'cause', 'inaccuracies', 'in', 'the', 'simulation', ',', 'since', 'the', 'process', 'might', 'in', 'reality', 'check', 'how', 'long', 'it', 'has', 'been', 'since', 'it', 'last', 'went', 'to', 'sleep', ',', 'and', 'act', 'differently', 'seeing', 'that', '4', 'seconds', 'have', 'passed', 'than', 'it', 'did', 'when', 'only', '1', 'second', 'had', 'passed', '.', 'we', 'expect', 'and', 'hope', 'that', 'such', 'dependence', 'of', 'process', 'action', 'on', 'time', 'is', 'rare', 'enough', 'that', 'this', 'does', 'not', 'introduce', 'significant', 'errors', 'into', 'the', 'results', 'of', 'our', 'simulations', '.', 'in', 'this', 'section', ',', 'we', 'refer', 'to', 'the', 'current', 'macos', 'strategy', 'as', 'strategy', 'c', 'and', 'the', 'basic', 'strategy', 'as', 'strategy', 'b.', 'we', 'append', 'the', 'letter', 'i', 'to', 'indicate', 'use', 'of', 'the', 'simple', 'schedule', 'technique', ',', 'append', 'the', 'letter', 'g', 'to', 'indicate', 'use', 'of', 'the', 'greediness', 'technique', ',', 'and', 'append', 'the', 'letter', 's', 'for', 'the', 'sleep', 'extension', 'technique', '.', 'note', 'that', 'we', 'never', 'simulate', 'the', 'greediness', 'technique', 'or', 'sleep', 'extension', 'technique', 'without', 'the', 'simple', 'scheduling', 'technique', ',', 'since', 'they', 'are', 'designed', 'as', 'supplements', 'to', 'the', 'simple', 'scheduling', 'technique', '.', 'the', 'first', 'thing', 'we', 'shall', 'do', 'is', 'determine', 'the', 'optimal', 'energy', 'savings', 'attainable', '.', 'an', 'optimum', 'strategy', 'would', 'schedule', 'only', 'time', 'that', 'was', 'spent', 'doing', 'useful', 'work', ',', 'and', 'would', 'entirely', 'omit', 'non-useful', 'time', ';', 'its', 'performance', 'impact', 'would', 'be', 'zero', ',', 'since', 'it', 'would', 'have', 'foreknowledge', 'of', 'when', 'useful', 'work', 'would', 'occur', 'and', 'arrange', 'to', 'have', 'the', 'processor', 'on', 'when', 'it', 'happens', '.', 'simulation', 'indicates', 'that', 'such', 'a', 'strategy', 'would', 'yield', 'an', 'energy', 'savings', 'of', '82.33', '%', ';', 'thus', ',', 'this', 'is', 'an', 'absolute', 'ceiling', 'on', 'what', 'can', 'be', 'obtained', 'by', 'any', 'realizable', 'strategy', '.', 'this', 'is', 'a', 'remarkably', 'high', 'figure', '--', 'what', 'it', 'says', 'is', 'that', 'the', 'processor', 'is', 'doing', 'useful', 'computation', 'during', 'only', '17.67', '%', 'of', 'the', '29.56', 'hours', 'of', 'the', 'trace', ';', 'the', 'rest', 'of', 'the', 'time', 'is', 'busy', 'waiting', 'by', 'a', 'user', 'process', 'or', 'idling', '.', 'the', 'second', 'simulation', 'results', 'concern', 'strategy', 'c.', 'we', 'find', 'from', 'simulation', 'that', 'strategy', 'c', 'yields', 'an', 'energy', 'savings', 'of', '28.79', '%', 'along', 'with', 'a', 'performance', 'impact', 'measure', 'of', '1.84', '%', '.', 'in', 'other', 'words', ',', 'it', 'causes', 'the', 'processor', 'to', 'consume', 'only', '71.21', '%', 'of', 'the', 'energy', 'it', 'would', 'without', 'a', 'power-saving', 'strategy', ',', 'but', 'increases', 'overall', 'workload', 'completion', 'time', 'by', '1.84', '%', '.', 'the', 'strategy', 'increases', 'processor', 'energy', 'consumption', 'by', '303', '%', 'compared', 'with', 'the', 'optimal', 'strategy', ',', 'since', 'it', 'only', 'recovers', '35', '%', 'of', 'the', 'real', 'idle', 'time', '.', 'note', 'also', 'that', 'since', 'only', '17.67', '%', 'of', 'the', 'cpu', 'time', 'is', 'actually', 'useful', ',', 'the', 'performance', 'impact', 'of', '1.84', '%', 'means', 'that', 'we', 'have', 'misclassified', '10', '%', 'of', 'the', 'useful', 'cpu', 'time', ',', 'and', 'have', 'had', 'to', 'run', 'that', 'work', 'in', 'a', 'delayed', 'manner', '.', 'thus', ',', 'the', 'actual', 'real', 'time', 'delay', 'perceived', 'by', 'the', 'user', 'may', 'not', 'be', '1.84', '%', ',', 'but', 'may', 'be', 'closer', 'to', '10', '%', ',', 'since', 'the', 'user', 'waits', 'for', 'a', 'reply', 'only', 'during', 'periods', 'of', 'real', ',', 'useful', ',', 'work', '.', 'the', 'next', 'simulation', 'results', 'concern', 'strategy', 'b', ',', 'which', 'turns', 'off', 'the', 'process', 'when', 'and', 'only', 'when', 'there', 'was', 'idling', 'in', 'the', 'original', 'trace', '.', 'the', 'traces', 'were', 'collected', 'from', 'six', 'users', ',', 'each', 'an', 'engineer', 'at', 'apple', 'computer', ',', 'inc.', 'table', '1', 'indicates', 'data', 'about', 'the', 'traces', 'obtained', 'from', 'each', 'user', 'and', 'the', 'machines', 'on', 'which', 'those', 'traces', 'were', 'collected', '.', 'much', 'more', 'detailed', 'discussion', 'of', 'the', 'traces', 'and', 'their', 'collection', 'appears', 'in', '.', 'most', 'results', 'we', 'present', 'will', 'concern', 'the', 'aggregate', 'workload', ',', 'i.e', '.', 'figure', '1', ':', 'performance', 'impact', 'measure', 'versus', 'processor', 'energy', 'savings', 'for', 'strategy', 'bis', 'with', 'various', 'sleep', 'multipliers', '.', 'certain', 'points', 'are', 'labeled', 'with', 'the', 'sleep', 'multipliers', 'to', 'which', 'they', 'correspond', '.', 'thus', ',', 'we', 'see', 'that', 'the', 'basic', 'strategy', 'without', 'any', 'new', 'process', 'management', 'techniques', 'saves', 'slightly', 'more', 'energy', 'than', 'the', 'current', 'technique', ',', 'and', 'has', 'no', 'impact', 'on', 'performance', '.', 'however', ',', 'it', 'causes', 'the', 'processor', 'to', 'consume', '285', '%', 'more', 'energy', 'than', 'under', 'the', 'optimal', 'strategy', ',', 'since', 'it', 'only', 'recovers', '39', '%', 'of', 'real', 'idle', 'time', '.', 'the', 'next', 'simulation', 'results', 'concern', 'strategy', 'bi', '.', 'strategy', 'bi', 'has', 'an', 'energy', 'savings', 'of', '47.10', '%', 'and', 'a', 'performance', 'impact', 'of', '1.08', '%', '.', 'thus', ',', 'we', 'see', 'that', 'strategy', 'bi', 'decreases', 'processor', 'energy', 'consumption', 'by', '26', '%', 'and', 'decreases', 'workload', 'completion', 'time', 'by', '0.7', '%', 'compared', 'to', 'strategy', 'c.', 'compared', 'to', 'the', 'optimal', 'strategy', ',', 'it', 'causes', 'the', 'processor', 'to', 'consume', '199', '%', 'more', 'energy', ',', 'since', 'it', 'only', 'recovers', '57', '%', 'of', 'real', 'idle', 'time', '.', 'the', 'next', 'simulation', 'results', 'concern', 'strategy', 'bis', '.', 'figure', '1', 'shows', 'the', 'performance', 'versus', 'energy', 'savings', 'graph', 'for', 'variations', 'of', 'this', 'strategy', 'using', 'sleep', 'multipliers', 'between', '1', 'and', '10.', 'we', 'see', 'that', 'the', 'point', 'at', 'which', 'this', 'strategy', 'has', 'performance', 'impact', 'of', '1.84', '%', ',', 'equal', 'to', 'that', 'of', 'strategy', 'c', ',', 'corresponds', 'to', 'a', 'sleep', 'multiplier', 'of', '2.25', 'and', 'a', 'processor', 'energy', 'savings', 'of', '51.72', '%', '.', 'thus', ',', 'we', 'see', 'that', ',', 'comparing', 'strategies', 'bis', 'and', 'c', 'on', 'equal', 'performance', 'grounds', ',', 'strategy', 'bis', 'decreases', 'processor', 'energy', 'consumption', 'by', '32', '%', '.', 'increasing', 'the', 'sleep', 'multiplier', 'to', '10', 'saves', '55.93', '%', 'of', 'the', 'cpu', 'energy', ',', 'with', 'a', 'performance', 'impact', 'of', '2.84', '%', '.', 'note', ',', 'however', ',', 'that', 'the', 'performance', 'impact', 'measure', 'does', 'not', 'tell', 'the', 'whole', 'story', 'in', 'this', 'case', '.', 'generally', ',', 'a', 'real', 'time', 'delay', 'is', 'used', 'by', 'some', 'process', 'that', 'wakes', 'up', ',', 'checks', 'something', ',', 'and', 'if', 'certain', 'conditions', 'are', 'met', ',', 'does', 'something', '.', 'a', 'very', 'large', 'real', 'time', 'delay', 'in', 'the', 'wakeup', 'period', 'may', 'mean', 'that', 'certain', 'checks', 'are', 'not', 'made', 'in', 'a', 'timely', 'manner', ';', 'we', 'have', 'ignored', 'that', 'issue', 'here', '.', 'in', 'practice', ',', 'sleep', 'extension', 'factors', 'over', 'some', 'level', ',', 'perhaps', '3', 'to', '5', ',', 'may', 'not', 'be', 'desirable', '.', 'the', 'next', 'simulation', 'results', 'concern', 'strategy', 'big', '.', 'figure', '2', 'shows', 'the', 'performance', 'versus', 'energy', 'savings', 'graph', 'for', 'variations', 'of', 'this', 'strategy', 'using', 'greediness', 'thresholds', 'between', '20', 'and', '80', 'and', 'forced', 'sleep', 'periods', 'between', '0.025', 'seconds', 'and', '10', 'seconds', '.', 'we', 'find', ',', 'through', 'extensive', 'exploration', 'of', 'the', 'parameter', 'space', ',', 'that', 'the', 'parameter', 'settings', 'giving', 'the', 'best', 'energy', 'savings', 'at', 'the', '1.84', '%', 'performance', 'impact', 'level', 'are', 'a', 'greediness', 'threshold', 'of', '61', 'and', 'a', 'forced', 'sleep', 'period', 'of', '0.52', 'seconds', '.', 'these', 'parameters', 'yield', 'an', 'energy', 'savings', 'of', '66.18', '%', '.', 'thus', ',', 'we', 'see', 'that', ',', 'comparing', 'strategies', 'big', 'and', 'c', 'on', 'equal', 'performance', 'grounds', ',', 'strategy', 'big', 'reduces', 'processor', 'energy', 'consumption', 'by', '53', '%', '.', 'compared', 'to', 'the', 'optimal', 'strategy', ',', 'it', 'increases', 'processor', 'energy', 'consumption', 'by', '91', '%', ',', 'since', 'it', 'only', 'saves', '80', '%', 'of', 'real', 'idle', 'time', '.', 'the', 'next', 'results', 'we', 'present', 'concern', 'strategy', 'bigs', '.', 'figure', '3', 'shows', 'that', ',', 'in', 'the', 'realm', 'we', 'are', 'interested', 'in', ',', 'a', 'performance', 'impact', 'of', '1.84', '%', ',', 'increasing', 'the', 'sleep', 'multiplier', 'always', 'produces', 'worse', 'results', 'than', 'changing', 'the', 'greediness', 'threshold', 'and', 'forced', 'sleep', 'period', '.', 'the', 'energy', 'savings', 'attainable', 'by', 'increasing', 'the', 'sleep', 'multiplier', 'can', 'be', 'attained', 'at', 'a', 'lower', 'performance', 'cost', 'by', 'instead', 'decreasing', 'the', 'greediness', 'threshold', 'or', 'by', 'increasing', 'the', 'forced', 'sleep', 'period', '.', 'thus', ',', 'the', 'best', 'bigs', 'strategy', 'is', 'the', 'big', 'strategy', ',', 'which', 'does', 'not', 'make', 'any', 'use', 'of', 'the', 'sleep', 'extension', 'technique', '.', 'the', 'figure', 'suggests', 'that', 'if', 'we', 'could', 'tolerate', 'a', 'greater', 'performance', 'impact', ',', 'such', 'as', '2.7', '%', ',', 'this', 'would', 'no', 'longer', 'be', 'the', 'case', ',', 'and', 'the', 'best', 'energy', 'savings', 'for', 'bigs', 'would', 'be', 'attained', 'at', 'a', 'sleep', 'multiplier', 'above', 'one', '.', 'we', 'conclude', 'that', 'for', 'some', 'values', 'of', 'performance', 'impact', ',', 'it', 'is', 'useful', 'to', 'combine', 'the', 'greediness', 'technique', 'and', 'sleep', 'extension', 'technique', ',', 'but', 'for', 'a', 'performance', 'impact', 'of', '1.84', '%', 'it', 'is', 'useless', 'to', 'use', 'the', 'sleep', 'extension', 'technique', 'if', 'the', 'greediness', 'technique', 'is', 'in', 'use', '.', 'a', 'summary', 'of', 'all', 'the', 'findings', 'about', 'the', 'above', 'strategies', 'can', 'be', 'seen', 'in', 'table', '2', ',', 'as', 'well', 'as', 'the', 'columns', 'of', 'figure', '5', 'corresponding', 'to', 'users', '1-6.', 'figure', '2', ':', 'performance', 'impact', 'measure', 'versus', 'processor', 'energy', 'savings', 'for', 'strategy', 'big', 'with', 'various', 'greediness', 'thresholds', 'and', 'forced', 'sleep', 'periods', '.', 'points', 'on', 'the', 'greediness', 'threshold', '60', 'curve', 'are', 'labeled', 'with', 'the', 'forced', 'sleep', 'periods', 'to', 'which', 'they', 'correspond', '.', 'the', 'reader', 'is', 'cautioned', 'that', 'nonzero', 'origins', 'are', 'used', 'in', 'this', 'figure', 'to', 'save', 'space', 'and', 'yet', 'have', 'sufficient', 'resolution', 'to', 'enable', 'its', 'key', 'features', 'to', 'be', 'discerned', '.', 'figure', '3', ':', 'performance', 'impact', 'measure', 'versus', 'processor', 'energy', 'savings', 'for', 'strategy', 'bigs', 'with', 'various', 'sleep', 'multipliers', ',', 'various', 'greediness', 'thresholds', ',', 'and', 'a', 'forced', 'sleep', 'period', 'of', '0.52', 'sec', '.', 'the', 'reader', 'is', 'cautioned', 'that', 'nonzero', 'origins', 'are', 'used', 'in', 'this', 'figure', 'to', 'save', 'space', 'and', 'yet', 'have', 'sufficient', 'resolution', 'to', 'enable', 'its', 'key', 'features', 'to', 'be', 'discerned', '.', 'an', 'important', 'issue', 'is', 'the', 'extent', 'to', 'which', 'the', 'parameters', 'we', 'chose', 'are', 'specific', 'to', 'the', 'workload', 'studied', ',', 'and', 'whether', 'they', 'would', 'be', 'optimal', 'or', 'equally', 'effective', 'for', 'some', 'other', 'workload', '.', 'furthermore', ',', 'it', 'is', 'unclear', 'how', 'effective', 'the', 'user', 'or', 'operating', 'system', 'could', 'be', 'at', 'dynamically', 'tuning', 'these', 'parameters', 'in', 'the', 'best', 'way', 'to', 'achieve', 'optimal', 'energy', 'savings', 'at', 'a', 'given', 'level', 'of', 'performance', '.', 'thus', ',', 'it', 'is', 'important', 'to', 'observe', 'the', 'sensitivity', 'of', 'the', 'results', 'we', 'obtained', 'to', 'the', 'particular', 'values', 'of', 'the', 'parameters', 'we', 'chose', '.', 'the', 'graphs', 'we', 'showed', 'that', 'demonstrate', 'the', 'relationship', 'between', 'performance', ',', 'energy', 'savings', ',', 'and', 'parameter', 'values', 'also', 'demonstrate', 'the', 'reasonably', 'low', 'sensitivity', 'of', 'the', 'results', 'to', 'the', 'parameter', 'values', '.', 'for', 'instance', ',', 'varying', 'the', 'forced', 'sleep', 'period', 'threshold', 'in', 'figure', '2', 'across', 'a', 'wide', 'range', 'of', 'values', 'only', 'causes', 'the', 'consequent', 'energy', 'savings', 'to', 'vary', 'between', '59-67', '%', '.', 'varying', 'the', 'greediness', 'threshold', 'in', 'figure', '4', 'across', 'another', 'wide', 'range', 'of', 'values', 'only', 'causes', 'the', 'consequent', 'energy', 'savings', 'to', 'vary', 'in', 'the', 'range', '63-71', '%', '.', 'finally', ',', 'varying', 'the', 'sleep', 'multiplier', 'across', 'a', 'wide', 'range', ',', 'as', 'in', 'figure', '1', ',', 'only', 'causes', 'the', 'consequent', 'energy', 'savings', 'to', 'vary', 'in', 'the', 'range', '47-56', '%', '.', 'another', 'way', 'to', 'gauge', 'the', 'sensitivity', 'of', 'the', 'results', 'to', 'the', 'parameters', 'is', 'to', 'evaluate', 'the', 'effectiveness', 'of', 'the', 'techniques', 'on', 'each', 'of', 'the', 'six', 'workloads', 'corresponding', 'to', 'the', 'users', 'studied', '.', 'to', 'show', 'the', 'effect', 'of', 'using', 'parameters', 'tuned', 'to', 'an', 'aggregate', 'workload', 'on', 'individual', 'users', ',', 'figure', '5', 'shows', 'the', 'processor', 'energy', 'savings', 'that', 'would', 'have', 'been', 'attained', 'by', 'each', 'of', 'the', 'users', 'given', 'the', 'strategies', 'we', 'have', 'discussed', '.', 'we', 'see', 'from', 'this', 'figure', 'that', 'strategy', 'big', 'is', 'always', 'superior', 'to', 'strategy', 'c', ',', 'and', 'that', 'strategy', 'bis', 'is', 'superior', 'to', 'strategy', 'c', 'for', 'all', 'users', 'except', 'user', '2.', 'and', ',', 'even', 'in', 'this', 'case', ',', 'the', 'fault', 'seems', 'to', 'lie', 'with', 'the', 'basic', 'strategy', 'and', 'simple', 'scheduling', 'technique', 'rather', 'than', 'the', 'sleep', 'multiplier', 'parameter', ',', 'since', 'user', '2', 'is', 'also', 'the', 'only', 'user', 'for', 'which', 'the', 'savings', 'from', 'c', 'are', 'much', 'greater', 'than', 'those', 'from', 'strategies', 'b', 'and', 'bi', '.', 'these', 'figures', 'suggest', 'that', 'even', 'parameters', 'not', 'tuned', 'for', 'a', 'specific', 'workload', 'still', 'yield', 'strategies', 'that', 'in', 'general', 'save', 'more', 'processor', 'energy', 'than', 'the', 'current', 'strategy', '.', 'it', 'is', 'also', 'interesting', 'to', 'note', 'that', 'there', 'is', 'a', 'clear', 'ordering', 'between', 'strategies', 'bi', ',', 'bis', ',', 'and', 'big', ':', 'for', 'each', 'user', ',', 'strategy', 'big', 'saved', 'more', 'energy', 'than', 'strategy', 'bis', ',', 'which', 'saved', 'more', 'energy', 'than', 'strategy', 'bi', '.', 'we', 'were', 'curious', 'why', 'strategy', 'c', 'is', 'so', 'much', 'superior', 'to', 'strategy', 'b', 'for', 'user', '2', ',', 'so', 'we', 'inspected', 'the', 'simulation', 'results', 'for', 'that', 'user', 'carefully', '.', 'we', 'found', 'that', 'the', 'reason', 'strategy', 'c', 'does', 'so', 'much', 'better', 'than', 'strategy', 'b', 'is', 'that', 'in', 'that', 'trace', ',', 'the', 'application', 'finder', 'frequently', 'yields', 'control', 'requesting', 'a', 'sleep', 'time', 'of', 'zero', 'but', 'then', 'performs', 'no', 'activity', 'when', 'it', 'gets', 'control', 'again', ';', 'indeed', ',', 'there', 'is', 'a', 'contiguous', 'section', 'of', 'the', 'trace', 'lasting', 'over', 'an', 'hour', 'during', 'which', 'finder', 'has', 'this', 'behavior', '.', 'the', 'sleep', 'extension', 'technique', 'does', 'not', 'alleviate', 'this', 'problem', ',', 'since', 'multiplying', 'the', 'sleep', 'request', 'of', 'zero', 'by', 'any', 'factor', 'still', 'makes', 'it', 'zero', '.', 'however', ',', 'the', 'greediness', 'technique', 'is', 'able', 'to', 'overcome', 'this', 'problem', ',', 'since', 'this', 'is', 'exactly', 'the', 'problem', 'for', 'which', 'it', 'was', 'designed', '.', 'consequently', ',', 'strategy', 'big', 'beats', 'strategy', 'c', 'for', 'user', '2', ',', 'even', 'though', 'strategies', 'b', ',', 'bi', ',', 'and', 'bis', 'do', 'not', '.', 'yet', 'another', 'way', 'to', 'see', 'that', 'the', 'basic', 'strategy', 'with', 'the', 'new', 'techniques', 'is', 'effective', 'even', 'without', 'tuning', 'the', 'parameters', 'is', 'to', 'pick', 'somewhat', 'arbitrary', 'parameters', 'and', 'note', 'that', 'the', 'energy', 'savings', 'are', 'still', 'superior', 'to', 'that', 'of', 'strategy', 'c.', 'for', 'example', ',', 'the', 'parameter', 'settings', 'we', 'envisioned', 'before', 'running', 'any', 'of', 'these', 'simulations', ',', 'a', 'greediness', 'threshold', 'of', '5', ',', 'a', 'forced', 'sleep', 'period', 'of', '0.25', 'seconds', ',', 'and', 'a', 'sleep', 'multiplier', 'of', '1.5', ',', 'would', 'yield', 'a', 'respectable', 'energy', 'savings', 'of', '71.70', '%', 'and', 'a', 'performance', 'impact', 'of', '2.61', '%', ',', 'which', ',', 'compared', 'to', 'macos', ',', 'trades', 'off', 'a', '60', '%', 'decrease', 'in', 'processor', 'energy', 'consumption', 'for', 'a', '0.8', '%', 'increase', 'in', 'workload', 'completion', 'time', '.', 'even', 'a', 'conservative', 'set', 'of', 'parameters', ',', 'namely', 'a', 'greediness', 'threshold', 'of', '100', ',', 'a', 'forced', 'sleep', 'period', 'of', '0.10', 'seconds', ',', 'and', 'a', 'sleep', 'multiplier', 'of', '1', ',', 'yields', 'a', 'processor', 'energy', 'savings', 'of', '62.87', '%', 'with', 'a', 'performance', 'impact', 'of', 'only', '1.48', '%', ',', 'decreasing', 'processor', 'energy', 'consumption', 'by', '48', '%', 'and', 'reducing', 'workload', 'completion', 'time', 'by', '0.4', '%', 'compared', 'to', 'strategy', 'c.', 'we', 'have', 'seen', 'that', 'the', 'greediness', 'technique', 'by', 'itself', 'can', 'be', 'quite', 'effective', 'even', 'within', 'a', 'broad', 'range', 'of', 'parameter', 'values', '.', 'this', 'suggests', 'that', 'processes', 'often', 'act', 'greedily', '.', 'in', 'fact', ',', 'using', 'the', 'ideal', 'parameters', 'of', 'strategy', 'big', ',', '49', 'of', '63', 'applications', 'were', 'found', 'to', 'act', 'greedily', 'at', 'some', 'point', '.', 'the', 'percent', 'of', 'an', 'application', \"'s\", 'quanta', 'during', 'which', 'it', 'was', 'determined', 'to', 'be', 'acting', 'greedily', 'varied', 'widely', 'from', 'one', 'application', 'to', 'another', ',', 'from', '0.0009', '%', 'for', 'express', 'modem', 'to', '93.7', '%', 'for', 'eworld', '.', 'it', 'is', 'especially', 'amusing', 'that', 'finder', ',', 'the', 'user', 'desktop', 'interface', 'application', 'written', 'at', 'apple', 'itself', ',', 'seems', 'to', 'lie', 'routinely', 'about', 'its', 'processing', 'time', 'needs', ',', 'having', 'been', 'determined', 'to', 'be', 'acting', 'greedily', 'for', '64.7', '%', 'of', 'its', 'quanta', '.', 'this', 'supports', 'our', 'suggestion', 'that', 'designers', 'of', 'operating', 'systems', 'and', 'applications', 'for', 'single-user', 'systems', 'are', 'not', 'generally', 'concerned', 'with', 'rigorous', 'management', 'of', 'processor', 'time', '.', 'to', 'examine', 'where', 'the', 'savings', 'and', 'performance', 'impact', 'of', 'a', 'strategy', 'are', 'coming', 'from', ',', 'it', 'is', 'useful', 'to', 'observe', 'what', 'happens', 'to', 'different', 'classes', 'of', 'time', 'in', 'the', 'original', 'trace', 'when', 'that', 'strategy', 'is', 'used', '.', 'some', 'time', 'in', 'the', 'original', 'trace', 'is', 'spent', 'running', 'processes', ',', 'some', 'is', 'spent', 'running', 'the', 'scheduler', ',', 'and', 'the', 'rest', 'is', 'spent', 'running', 'other', 'os', 'code', '.', 'each', 'of', 'these', 'classes', 'of', 'time', 'can', 'be', 'broken', 'down', 'into', 'useful', 'and', 'nonuseful', 'time', '.', 'useful', 'time', 'will', 'always', 'be', 'scheduled', 'in', 'the', 'simulation', ',', 'but', 'some', 'of', 'it', 'will', 'be', 'delayed', 'if', 'the', 'technique', 'simulated', 'decides', 'to', 'cycle', 'instead', 'of', 'running', 'it', '.', 'this', 'delayed', 'time', 'is', 'what', 'contributes', 'to', 'performance', 'impact', '.', 'some', 'nonuseful', 'time', 'will', 'be', 'scheduled', 'by', 'the', 'technique', ',', 'while', 'the', 'rest', 'gets', 'skipped', 'over', 'and', 'contributes', 'to', 'cycling', 'time', '.', 'table', '3', ':', 'a', 'breakdown', ',', 'for', 'each', 'strategy', ',', 'of', 'what', 'happens', 'to', 'the', 'time', 'and', 'quanta', 'originally', 'spent', 'running', 'processes', ',', 'the', 'scheduler', ',', 'and', 'the', 'operating', 'system', '.', 'time', 'and', 'quanta', 'that', 'are', 'delayed', 'and', 'thus', 'contribute', 'to', 'performance', 'impact', 'are', 'shown', 'in', 'bold', ',', 'time', 'and', 'quanta', 'that', 'are', 'run', 'on', 'time', 'are', 'shown', 'in', 'the', 'standard', 'font', ',', 'and', 'time', 'and', 'quanta', 'that', 'are', 'never', 'run', 'and', 'thus', 'are', 'subsumed', 'by', 'cycling', 'are', 'shown', 'in', 'italics', '.', 'table', '3', 'shows', 'this', 'breakdown', 'in', 'time', 'and', 'number', 'of', 'quanta', 'for', 'each', 'strategy', '.', 'first', ',', 'let', 'us', 'compare', 'the', 'sources', 'of', 'the', 'energy', 'savings', 'for', 'each', 'strategy', ';', 'this', 'involves', 'looking', 'at', 'the', 'italic', 'figures', 'in', 'table', '3.', 'strategy', 'c', 'spends', '4.31', 'hours', 'cycling', 'instead', 'of', 'idling', 'in', 'the', 'os', ',', '1.95', 'hours', 'cycling', 'instead', 'of', 'performing', 'nonuseful', 'process', 'quanta', ',', 'and', '2.61', 'hours', 'cycling', 'instead', 'of', 'switching', 'nonuseful', 'process', 'quanta', 'in', 'and', 'out', '.', 'it', 'is', 'interesting', 'to', 'note', 'that', 'more', 'time', 'is', 'saved', 'from', 'not', 'having', 'to', 'switch', 'processes', 'in', 'and', 'out', 'than', 'from', 'actually', 'not', 'running', 'them', '.', 'this', 'is', 'probably', 'because', 'the', 'technique', 'attempts', 'to', 'cycle', 'the', 'processor', 'when', 'processes', 'are', 'not', 'doing', 'anything', ',', 'and', 'when', 'a', 'process', 'is', 'not', 'doing', 'anything', 'it', 'should', 'be', 'doing', 'little', 'besides', 'getting', 'switched', 'in', 'and', 'out', '.', 'strategy', 'b', 'never', 'cycles', 'instead', 'of', 'running', 'or', 'scheduling', 'process', 'quanta', ',', 'but', 'it', 'makes', 'up', 'for', 'this', 'by', 'always', 'cycling', 'when', 'the', 'os', 'would', 'otherwise', 'be', 'idle', ',', '9.45', 'hours', '.', 'strategies', 'bi', 'and', 'bis', 'cycle', 'even', 'more', 'because', 'they', 'can', 'cycle', 'instead', 'of', 'running', 'or', 'scheduling', 'process', 'quanta', '.', 'indeed', ',', 'even', 'if', 'we', 'did', 'not', 'consider', 'idle', 'time', 'spent', 'cycling', ',', 'strategies', 'bi', 'and', 'bis', 'still', 'save', 'more', 'nonuseful', 'process', 'and', 'scheduler', 'time', 'than', 'strategy', 'c.', 'interestingly', ',', 'the', 'increased', 'savings', 'stem', 'from', 'reducing', 'the', 'amount', 'of', 'time', 'spent', 'scheduling', 'nonuseful', 'process', 'quanta', ',', 'not', 'from', 'reducing', 'the', 'time', 'spent', 'running', 'nonuseful', 'process', 'quanta', '.', 'in', 'fact', ',', 'each', 'of', 'strategies', 'bi', 'and', 'bis', 'spends', 'longer', 'running', 'nonuseful', 'process', 'quanta', 'than', 'strategy', 'c.', 'the', 'reason', 'these', 'strategies', 'spend', 'less', 'time', 'scheduling', 'nonuseful', 'process', 'quanta', 'is', 'that', ',', 'as', 'shown', 'in', 'the', 'table', ',', 'the', 'strategies', 'schedule', 'fewer', 'nonuseful', 'process', 'quanta', ',', 'and', 'fewer', 'quanta', 'to', 'schedule', 'means', 'less', 'time', 'spent', 'scheduling', 'quanta', '.', 'so', 'we', 'see', 'that', 'the', 'savings', 'from', 'strategies', 'bi', 'and', 'bis', 'stem', 'not', 'from', 'giving', 'processes', 'less', 'time', 'when', 'they', 'are', 'not', 'doing', 'useful', 'work', ',', 'but', 'from', 'switching', 'them', 'in', 'and', 'out', 'less', 'often', 'when', 'they', 'are', 'not', 'doing', 'useful', 'work', ',', 'thus', 'saving', 'time', 'associated', 'with', 'process', 'switching', '.', 'on', 'the', 'other', 'hand', ',', 'strategy', 'big', 'is', 'superior', 'to', 'strategy', 'c', 'in', 'its', 'conversion', 'of', 'all', 'types', 'of', 'nonuseful', 'time', '.', 'so', ',', 'the', 'savings', 'from', 'strategy', 'big', 'stems', 'both', 'from', 'giving', 'processes', 'control', 'less', 'often', 'when', 'they', 'are', 'not', 'busy', 'and', 'from', 'giving', 'them', 'less', 'time', 'to', 'run', 'useless', 'tasks', '.', 'table', '3', 'also', 'allows', 'us', 'to', 'compare', 'the', 'sources', 'of', 'the', 'performance', 'impact', 'in', 'each', 'strategy', ';', 'this', 'involves', 'looking', 'at', 'the', 'bold', 'numbers', '.', 'we', 'see', 'that', 'for', 'strategy', 'c', ',', 'about', 'half', 'of', 'the', 'performance', 'impact', 'is', 'due', 'to', 'delaying', 'the', 'running', 'of', 'useful', 'process', 'quanta', 'and', 'half', 'is', 'due', 'to', 'delaying', 'the', 'switching', 'of', 'those', 'quanta', '.', 'on', 'the', 'other', 'hand', ',', 'strategy', 'bi', 'delays', 'about', 'the', 'same', 'amount', 'of', 'useful', 'process', 'run', 'time', ',', 'but', 'far', 'less', 'time', 'spent', 'switching', 'process', 'quanta', '.', 'this', 'is', 'explained', 'by', 'the', 'fact', 'that', 'it', 'delays', 'a', 'much', 'lower', 'absolute', 'number', 'of', 'useful', 'process', 'quanta', '.', 'the', 'low', 'amount', 'of', 'delayed', 'scheduler', 'time', 'in', 'strategy', 'bi', 'extends', 'to', 'big', 'and', 'bis', ',', 'allowing', 'them', 'to', 'have', 'a', 'greater', 'amount', 'of', 'delayed', 'process', 'quantum', 'and', 'os', 'time', 'while', 'still', 'maintaining', 'the', 'same', 'performance', 'impact', 'as', 'strategy', 'c.', 'our', 'main', 'observation', ',', 'then', ',', 'is', 'that', 'strategies', 'bi', ',', 'big', ',', 'and', 'bis', 'delay', 'far', 'fewer', 'useful', 'quanta', 'than', 'strategy', 'c', 'even', 'though', 'by', 'design', 'the', 'latter', 'two', 'delay', 'the', 'same', 'amount', 'of', 'to-', 'in', 'our', 'simulations', ',', 'we', 'found', 'the', 'following', '.', 'the', 'basic', 'strategy', 'by', 'itself', 'saves', 'barely', 'more', 'energy', 'than', 'the', 'current', 'macos', 'strategy', ',', 'although', 'it', 'does', 'have', 'less', 'performance', 'impact', '.', 'adding', 'the', 'simple', 'scheduling', 'technique', 'allows', 'the', 'basic', 'strategy', 'to', 'reduce', 'energy', 'consumption', 'by', '26', '%', 'and', 'to', 'reduce', 'workload', 'completion', 'time', 'by', '0.7', '%', 'compared', 'to', 'the', 'current', 'macos', 'strategy', '.', 'adding', 'further', 'techniques', 'for', 'managing', 'processor', 'time', 'allows', 'the', 'basic', 'strategy', 'to', 'even', 'further', 'surpass', 'the', 'current', 'macos', 'strategy', 'in', 'energy', 'savings', 'for', 'the', 'same', 'level', 'of', 'performance', 'impact', '.', 'using', 'the', 'sleep', 'extension', 'technique', 'allows', '32', '%', 'less', 'processor', 'energy', 'consumption', ',', 'and', 'using', 'the', 'greediness', 'technique', 'allows', '53', '%', 'less', 'processor', 'energy', 'consumption', '.', 'in', 'all', 'cases', ',', 'the', 'absolute', 'level', 'of', 'performance', 'impact', 'is', 'very', 'low', '.', 'note', ',', 'however', ',', 'that', 'at', 'best', 'we', 'get', 'about', '66', '%', 'absolute', 'energy', 'savings', ',', 'compared', 'to', 'the', 'approximately', '82', '%', 'that', 'would', 'be', 'available', 'with', 'optimal', 'power', 'reduction', '.', 'our', 'simulations', 'suggest', 'that', 'although', 'both', 'the', 'greediness', 'technique', 'and', 'the', 'sleep', 'extension', 'technique', 'are', 'helpful', 'in', 'increasing', 'the', 'savings', 'attainable', 'from', 'the', 'basic', 'strategy', 'with', 'the', 'simple', 'scheduling', 'technique', ',', 'the', 'greediness', 'technique', 'does', 'this', 'job', 'better', 'than', 'the', 'simple', 'scheduling', 'technique', '.', 'furthermore', ',', 'when', 'attempting', 'to', 'achieve', 'the', 'same', 'performance', 'impact', 'the', 'current', 'macos', 'provides', ',', 'it', 'is', 'not', 'worthwhile', 'to', 'use', 'the', 'sleep', 'extension', 'technique', 'if', 'one', 'is', 'already', 'using', 'the', 'greediness', 'technique', '.', 'the', 'reason', 'for', 'this', 'is', 'that', 'the', 'cost', 'in', 'performance', 'impact', 'of', 'an', 'increase', 'in', 'energy', 'savings', 'is', 'greater', 'for', 'the', 'sleep', 'extension', 'technique', 'than', 'for', 'the', 'greediness', 'technique', '.', 'in', 'other', 'words', ',', 'adjusting', 'the', 'parameters', 'of', 'any', 'technique', 'to', 'improve', 'its', 'energy', 'savings', 'will', 'necessarily', 'cause', 'it', 'to', 'cycle', 'more', 'often', 'when', 'the', 'processor', 'is', 'doing', 'useful', 'work', 'and', 'thus', 'increase', 'performance', 'impact', '.', 'it', 'happens', 'that', 'this', 'effect', 'is', 'more', 'pronounced', 'for', 'the', 'sleep', 'extension', 'technique', 'than', 'for', 'the', 'greediness', 'technique', ',', 'at', 'least', 'for', 'the', 'low', 'performance', 'impact', 'regime', 'in', 'which', 'we', 'are', 'interested', '.', 'besides', 'this', 'difference', 'between', 'the', 'two', 'techniques', ',', 'another', 'reason', 'to', 'not', 'use', 'the', 'sleep', 'extension', 'technique', 'is', 'that', 'it', 'is', 'quite', 'possible', 'that', 'extending', 'real-time', 'sleep', 'times', 'will', 'produce', 'undesirable', 'effects', 'in', 'terms', 'of', 'system', 'performance', 'or', 'functionality', '.', 'analysis', 'of', 'the', 'sensitivity', 'of', 'the', 'techniques', 'to', 'changes', 'in', 'parameter', 'settings', 'and', 'workloads', 'suggests', 'that', 'ideal', 'parameter', 'setting', 'is', 'not', 'necessary', 'to', 'the', 'consistent', 'functioning', 'of', 'the', 'techniques', '.', 'thus', ',', 'we', 'expect', 'the', 'techniques', 'to', 'be', 'successful', 'with', 'even', 'naive', 'parameter-setting', 'by', 'the', 'operating', 'system', 'or', 'user', '.', 'however', ',', 'one', 'anomalous', 'case', ',', 'user', '2', ',', 'points', 'out', 'the', 'vulnerability', 'of', 'the', 'basic', 'strategy', 'to', 'poor', 'application', 'behavior', ',', 'suggesting', 'that', 'the', 'greediness', 'technique', 'or', 'something', 'like', 'it', 'should', 'always', 'accompany', 'the', 'basic', 'strategy', '.', 'in', 'this', 'example', ',', 'based', 'on', 'the', 'duo', '280c', ',', 'turning', 'off', 'the', 'processor', 'saves', '3.74', 'w', ',', 'while', 'the', 'components', 'that', 'remain', 'on', 'consume', ',', 'on', 'average', ',', '5.65', 'w', ',', 'given', 'current', 'power', 'management', 'techniques', '.', 'note', 'that', 'we', 'are', 'assuming', 'that', 'during', 'extra', 'time', 'spent', 'with', 'the', 'processor', 'on', ',', 'other', 'components', 'are', ',', 'on', 'average', ',', 'at', 'their', 'average', 'power', 'levels', 'given', 'current', 'power', 'management', 'techniques', '.', 'the', 'bis', 'strategy', ',', 'with', 'its', 'processor', 'energy', 'savings', 'of', '51.72', '%', 'and', 'same', 'performance', 'impact', ',', 'would', 'make', 'average', 'total', 'power', 'consumption', '7.42', 'w', ',', 'yielding', 'a', 'power', 'savings', 'of', '10.3', '%', 'and', 'battery', 'lifetime', 'increase', 'of', '11.5', '%', 'compared', 'to', 'strategy', 'c.', 'note', 'that', 'all', 'these', 'figures', 'are', 'only', 'applicable', 'to', 'the', 'workload', 'studied', 'here', ',', 'i.e', '.', 'it', 'is', 'unclear', 'how', 'much', 'more', 'or', 'less', 'effective', 'these', 'methods', 'would', 'be', 'for', 'some', 'other', 'workload', ';', 'for', 'instance', ',', 'a', 'previous', 'study', 'with', 'a', 'different', 'workload', 'found', 'that', '48.1', '%', 'of', 'processor', 'power', 'was', 'saved', 'by', 'the', 'current', 'macos', 'strategy', '.', 'even', 'within', 'the', 'workload', 'studied', 'here', ',', 'we', 'have', 'seen', 'that', 'the', 'savings', 'from', 'each', 'strategy', 'varies', 'greatly', 'from', 'one', 'user', 'to', 'another', '.', 'we', 'believe', 'that', 'even', 'though', 'our', 'simulations', 'were', 'performed', 'on', 'macos', 'traces', ',', 'our', 'techniques', 'are', 'generally', 'applicable', 'to', 'other', 'single-user', 'operating', 'systems', '.', 'for', 'example', ',', 'microsoft', 'windows', 'essentially', 'uses', 'the', 'basic', 'strategy', 'with', 'the', 'simple', 'scheduling', 'technique', '.', 'however', ',', 'it', 'makes', 'no', 'attempt', 'to', 'police', 'processes', 'that', 'make', 'unfair', 'processor', 'time', 'requests', ';', 'in', 'fact', ',', 'one', 'recognized', 'problem', 'with', 'its', 'power', 'management', 'is', 'that', 'if', 'a', 'single', 'process', 'requests', 'events', 'using', 'peekmessage', 'rather', 'than', 'getmessage', 'or', 'waitmessage', ',', 'then', 'processor', 'power', 'management', 'can', 'not', 'take', 'place', '.', 'this', 'problem', 'is', 'exactly', 'the', 'sort', 'that', 'the', 'greediness', 'technique', 'was', 'designed', 'to', 'alleviate', ',', 'so', 'we', 'may', 'find', 'that', ',', 'as', 'we', 'demonstrated', 'for', 'the', 'macos', ',', 'the', 'effectiveness', 'of', 'the', 'basic', 'strategy', 'is', 'greatly', 'improved', 'by', 'the', 'use', 'of', 'such', 'a', 'technique', '.', 'we', 'would', 'like', 'to', 'see', 'the', 'work', 'described', 'here', 'continued', 'in', 'several', 'ways', '.', 'first', ',', 'we', 'would', 'like', 'to', 'actually', 'implement', 'our', 'proposed', 'strategies', '.', 'second', ',', 'we', 'would', 'like', 'to', 'collect', 'additional', 'traces', ',', 'so', 'that', 'the', 'effectiveness', 'of', 'our', 'techniques', 'over', 'a', 'larger', 'variety', 'of', 'users', 'and', 'workloads', 'can', 'be', 'established', ',', 'so', 'that', 'we', 'can', 'better', 'select', 'parameter', 'values', ',', 'and', 'so', 'that', 'we', 'can', 'determine', 'if', 'dynamic', 'variation', 'of', 'parameter', 'values', 'is', 'useful', '.', 'in', 'particular', ',', 'we', 'want', 'to', 'obtain', 'traces', 'from', 'different', 'types', 'of', 'user', 'environments', ';', 'our', 'current', 'set', 'of', 'traces', 'is', 'rather', 'limited', 'in', 'this', 'respect', '.', 'third', ',', 'we', 'would', 'like', 'to', 'see', 'if', 'our', 'power-saving', 'techniques', 'are', 'applicable', 'in', 'practice', 'to', 'other', 'single-user', 'operating', 'systems', '.', 'finally', ',', 'we', 'do', 'not', 'believe', 'that', 'we', 'have', 'exhausted', 'the', 'possibilities', 'for', 'software', 'strategies', 'to', 'put', 'the', 'cpu', 'into', 'power', 'saving', 'modes', ';', 'our', 'work', 'to', 'date', 'has', 'not', ',', 'for', 'example', ',', 'considered', 'systems', 'in', 'which', 'the', 'clock', 'rate', 'and', 'voltage', 'can', 'be', 'varied', 'simultaneously', 'and', 'dynamically', '.', 'we', 'also', 'do', 'not', 'believe', 'that', 'we', 'have', 'found', 'or', 'used', 'all', 'of', 'the', 'information', 'useful', 'in', 'predicting', '``', 'useless', \"''\", 'quanta', '.', 'at', 'best', ',', 'we', 'save', 'around', '66', '%', 'of', 'the', 'cpu', 'energy', ',', 'compared', 'to', 'a', 'theoretical', 'optimum', 'of', '82', '%', '.', 'reducing', 'the', 'power', 'consumption', 'of', 'computer', 'systems', 'is', 'becoming', 'an', 'important', 'factor', 'in', 'their', 'design', ',', 'especially', 'in', 'the', 'case', 'of', 'portable', 'computers', '.', 'an', 'important', 'component', 'for', 'power', 'management', 'is', 'the', 'processor', ',', 'as', 'it', 'accounts', 'for', 'a', 'large', 'percentage', 'of', 'total', 'power', '.', 'obviously', ',', 'the', 'cpu', 'can', 'be', 'turned', 'off', 'when', 'it', 'is', 'inactive', ';', 'in', 'some', 'operating', 'systems', ',', 'however', ',', 'such', 'as', 'macos', ',', 'the', 'cpu', 'is', 'frequently', 'running', 'even', 'when', 'there', 'is', \"n't\", 'any', '``', 'useful', \"''\", 'work', 'to', 'do', '.', 'we', 'have', 'found', 'several', 'heuristic', 'techniques', 'to', 'decrease', 'power', 'use', ',', 'such', 'as', 'never', 'running', 'a', 'process', 'that', 'is', 'still', 'blocked', 'and', 'waiting', 'on', 'an', 'event', ',', 'delaying', 'processes', 'that', 'execute', 'without', 'producing', 'output', 'or', 'otherwise', 'signaling', 'useful', 'activity', ',', 'and', 'delaying', 'the', 'frequency', 'of', 'periodic', 'processes', ',', 'most', 'of', 'which', 'seem', 'to', 'wake', 'up', ',', 'look', 'around', ',', 'find', 'nothing', 'interesting', 'to', 'do', ',', 'and', 'go', 'back', 'to', 'sleep', '.', 'to', 'the', 'extent', 'that', 'similar', 'phenomena', 'occur', 'in', 'other', 'operating', 'systems', ',', 'these', 'techniques', 'should', 'apply', 'to', 'them', 'also', '.', 'we', 'have', 'used', 'trace-driven', 'simulation', 'to', 'evaluate', 'these', 'techniques', 'on', 'the', 'basis', 'of', 'processor', 'energy', 'saved', 'and', 'increase', 'in', 'processing', 'time', '.', 'we', 'found', 'that', 'our', 'techniques', 'save', '47-66', '%', 'of', 'processor', 'energy', ',', 'thus', 'decreasing', 'processor', 'energy', 'consumption', 'by', '26-53', '%', 'compared', 'to', 'the', 'simple', 'strategy', 'currently', 'employed', 'by', 'macos', '.', 'taking', 'into', 'consideration', 'the', 'fraction', 'of', 'system', 'power', 'used', 'by', 'the', 'cpu', ',', 'we', 'estimate', 'that', 'implementing', 'the', 'best', 'subset', 'of', 'our', 'techniques', 'will', 'increase', 'battery', 'lifetime', 'for', 'macintosh', 'portables', 'by', 'around', '20', '%', '.', 'these', 'savings', 'do', 'imply', 'a', 'small', 'loss', 'in', 'effective', 'system', 'performance', ';', 'in', 'all', 'cases', ',', 'this', 'loss', 'is', 'less', 'than', '2', '%', '.', 'work', 'is', 'continuing', 'on', 'this', 'topic', '.', 'many', 'people', 'aided', 'in', 'the', 'preparation', 'of', 'this', 'work', 'and', 'deserve', 'our', 'gratitude', 'here', '.', 'marianne', 'hsiung', 'provided', 'support', ',', 'on', 'behalf', 'of', 'apple', 'computer', ',', 'inc.', ',', 'for', 'this', 'research', '.', 'phil', 'sohn', 'wrote', 'the', 'setc', 'module', 'that', 'idletracer', 'uses', ',', 'and', 'also', 'provided', 'general', 'guidance', 'during', 'the', 'project', '.', 'steve', 'sfarzo', 'arranged', 'the', 'distribution', 'of', 'the', 'tracer', 'to', ',', 'and', 'the', 'collection', 'of', 'data', 'files', 'from', ',', 'many', 'powerbook', 'users', 'working', 'with', 'him', '.', 'helder', 'ramalho', 'provided', 'invaluable', 'information', 'about', 'the', 'way', 'the', 'current', 'processor', 'cycling', 'technique', 'works', '.', 'dave', 'falkenburg', 'and', 'jim', 'goche', 'provided', 'information', 'about', 'trap', 'handler', 'programming', 'critical', 'to', 'the', 'writing', 'of', 'idletracer', '.', 'larry', 'heil', 'coordinated', 'cooperation', 'with', 'the', 'apple', 'portables', 'group', '.', 'several', 'users', 'ran', 'the', 'tracer', 'on', 'their', 'machines', 'to', 'help', 'us', 'collect', 'the', 'data', '.', 'and', ',', 'finally', ',', 'we', 'thank', 'the', 'reviewers', 'of', 'the', 'original', 'version', 'of', 'this', 'paper', 'for', 'their', 'helpful', 'and', 'insightful', 'comments', '.', 'inside', 'macintosh', ',', 'volume', 'vi', ',', 'addison', 'wesley', 'publishing', 'company', ',', 'reading', ',', 'ma', ',', '1991.', 'windows', 'api', 'bible', ',', 'waite', 'group', 'press', ',', 'corte', 'madera', ',', 'ca', ',', '1992.', 'proceedings', 'of', 'the', 'ieee', 'international', 'computer', 'society', 'conference', ',', 'san', 'francisco', ',', 'ca', ',', '307-315', ',', 'february', '1994.', 'modeling', 'the', 'effect', 'of', 'different', 'processor', 'cycling', 'techniques', 'on', 'power', 'consumption', '.', 'performance', 'evaluation', 'group', 'technical', 'note', '#', '179', ',', 'atg', 'integrated', 'systems', ',', 'november', '1995.', 'a', 'complete', 'picture', 'of', 'the', 'energy', 'consumption', 'of', 'a', 'portable', 'computer', '.', 'masters', 'thesis', ',', 'computer', 'science', ',', 'university', 'of', 'california', 'at', 'berkeley', ',', 'december', '1995.', 'how', 'energy', 'is', 'consumed', 'and', 'saved', 'in', 'portable', 'computers', '.']\n"
     ]
    }
   ],
   "source": [
    "Cleaned_text = clean(paper)\n",
    "\n",
    "text = word_tokenize(Cleaned_text)\n",
    "\n",
    "print \"Tokenized Text: \\n\"\n",
    "print text"
   ]
  },
  {
   "cell_type": "code",
   "execution_count": 13,
   "metadata": {
    "collapsed": true
   },
   "outputs": [
    {
     "name": "stdout",
     "output_type": "stream",
     "text": [
      "Tokenized Text with POS tags: \n",
      "\n",
      "[('the', 'DT'), ('cpu', 'NN'), ('is', 'VBZ'), ('one', 'CD'), ('of', 'IN'), ('the', 'DT'), ('major', 'JJ'), ('power', 'NN'), ('consumers', 'NNS'), ('in', 'IN'), ('a', 'DT'), ('portable', 'JJ'), ('computer', 'NN'), (',', ','), ('and', 'CC'), ('considerable', 'JJ'), ('power', 'NN'), ('can', 'MD'), ('be', 'VB'), ('saved', 'VBN'), ('by', 'IN'), ('turning', 'VBG'), ('off', 'RP'), ('the', 'DT'), ('cpu', 'NN'), ('when', 'WRB'), ('it', 'PRP'), ('is', 'VBZ'), ('not', 'RB'), ('doing', 'VBG'), ('useful', 'JJ'), ('work', 'NN'), ('.', '.'), ('in', 'IN'), ('apple', 'NN'), (\"'s\", 'POS'), ('macos', 'NN'), (',', ','), ('however', 'RB'), (',', ','), ('idle', 'JJ'), ('time', 'NN'), ('is', 'VBZ'), ('often', 'RB'), ('converted', 'VBN'), ('to', 'TO'), ('busy', 'JJ'), ('waiting', 'VBG'), (',', ','), ('and', 'CC'), ('generally', 'RB'), ('it', 'PRP'), ('is', 'VBZ'), ('very', 'RB'), ('hard', 'JJ'), ('to', 'TO'), ('tell', 'VB'), ('when', 'WRB'), ('no', 'DT'), ('useful', 'JJ'), ('computation', 'NN'), ('is', 'VBZ'), ('occurring', 'VBG'), ('.', '.'), ('in', 'IN'), ('this', 'DT'), ('paper', 'NN'), (',', ','), ('we', 'PRP'), ('suggest', 'VBP'), ('several', 'JJ'), ('heuristic', 'JJ'), ('techniques', 'NNS'), ('for', 'IN'), ('identifying', 'VBG'), ('this', 'DT'), ('condition', 'NN'), (',', ','), ('and', 'CC'), ('for', 'IN'), ('temporarily', 'RB'), ('putting', 'VBG'), ('the', 'DT'), ('cpu', 'NN'), ('in', 'IN'), ('a', 'DT'), ('low-power', 'JJ'), ('state', 'NN'), ('.', '.'), ('these', 'DT'), ('techniques', 'NNS'), ('include', 'VBP'), ('turning', 'VBG'), ('off', 'RP'), ('the', 'DT'), ('processor', 'NN'), ('when', 'WRB'), ('all', 'DT'), ('processes', 'NNS'), ('are', 'VBP'), ('blocked', 'VBN'), (',', ','), ('turning', 'VBG'), ('off', 'RP'), ('the', 'DT'), ('processor', 'NN'), ('when', 'WRB'), ('processes', 'VBZ'), ('appear', 'VBP'), ('to', 'TO'), ('be', 'VB'), ('busy', 'JJ'), ('waiting', 'VBG'), (',', ','), ('and', 'CC'), ('extending', 'VBG'), ('real', 'JJ'), ('time', 'NN'), ('process', 'NN'), ('sleep', 'JJ'), ('periods', 'NNS'), ('.', '.'), ('we', 'PRP'), ('use', 'VBP'), ('trace-driven', 'JJ'), ('simulation', 'NN'), (',', ','), ('using', 'VBG'), ('processor', 'NN'), ('run', 'VB'), ('interval', 'JJ'), ('traces', 'NNS'), (',', ','), ('to', 'TO'), ('evaluate', 'VB'), ('the', 'DT'), ('potential', 'JJ'), ('energy', 'NN'), ('savings', 'NNS'), ('and', 'CC'), ('performance', 'NN'), ('impact', 'NN'), ('.', '.'), ('we', 'PRP'), ('find', 'VBP'), ('that', 'IN'), ('these', 'DT'), ('techniques', 'NNS'), ('save', 'VBP'), ('considerable', 'JJ'), ('amounts', 'NNS'), ('of', 'IN'), ('processor', 'NN'), ('energy', 'NN'), (',', ','), ('while', 'IN'), ('having', 'VBG'), ('very', 'RB'), ('little', 'JJ'), ('performance', 'NN'), ('impact', 'NN'), ('.', '.'), ('implementing', 'VBG'), ('the', 'DT'), ('proposed', 'VBN'), ('strategies', 'NNS'), ('should', 'MD'), ('increase', 'VB'), ('battery', 'NN'), ('lifetime', 'NN'), ('by', 'IN'), ('approximately', 'RB'), ('20', 'CD'), ('%', 'NN'), ('relative', 'JJ'), ('to', 'TO'), ('apple', 'NN'), (\"'s\", 'POS'), ('current', 'JJ'), ('cpu', 'NN'), ('power', 'NN'), ('management', 'NN'), ('strategy', 'NN'), (',', ','), ('since', 'IN'), ('the', 'DT'), ('cpu', 'NN'), ('and', 'CC'), ('associated', 'VBN'), ('logic', 'NNS'), ('are', 'VBP'), ('responsible', 'JJ'), ('for', 'IN'), ('about', 'RB'), ('32', 'CD'), ('%', 'NN'), ('of', 'IN'), ('power', 'NN'), ('use', 'NN'), (';', ':'), ('similar', 'JJ'), ('techniques', 'NNS'), ('should', 'MD'), ('be', 'VB'), ('applicable', 'JJ'), ('to', 'TO'), ('operating', 'VBG'), ('systems', 'NNS'), ('with', 'IN'), ('similar', 'JJ'), ('behavior', 'NN'), ('.', '.'), ('for', 'IN'), ('these', 'DT'), ('reasons', 'NNS'), (',', ','), ('much', 'JJ'), ('work', 'NN'), ('has', 'VBZ'), ('been', 'VBN'), ('done', 'VBN'), ('in', 'IN'), ('reducing', 'VBG'), ('the', 'DT'), ('power', 'NN'), ('consumption', 'NN'), ('of', 'IN'), ('computers', 'NNS'), ('.', '.'), ('in', 'IN'), ('and', 'CC'), (',', ','), ('we', 'PRP'), ('analyzed', 'VBD'), ('the', 'DT'), ('power', 'NN'), ('consumption', 'NN'), ('of', 'IN'), ('various', 'JJ'), ('macintosh', 'NNS'), ('powerbook', 'VBP'), ('computers', 'NNS'), (',', ','), ('in', 'IN'), ('typical', 'JJ'), ('use', 'NN'), ('by', 'IN'), ('a', 'DT'), ('number', 'NN'), ('of', 'IN'), ('engineering', 'NN'), ('users', 'NNS'), ('.', '.'), ('we', 'PRP'), ('found', 'VBD'), ('that', 'IN'), (',', ','), ('depending', 'VBG'), ('on', 'IN'), ('the', 'DT'), ('machine', 'NN'), ('and', 'CC'), ('user', 'NN'), (',', ','), ('up', 'RB'), ('to', 'TO'), ('18-34', 'CD'), ('%', 'NN'), ('of', 'IN'), ('total', 'JJ'), ('power', 'NN'), ('was', 'VBD'), ('attributable', 'JJ'), ('to', 'TO'), ('components', 'NNS'), ('whose', 'WP$'), ('power', 'NN'), ('consumption', 'NN'), ('could', 'MD'), ('be', 'VB'), ('reduced', 'VBN'), ('by', 'IN'), ('power', 'NN'), ('management', 'NN'), ('of', 'IN'), ('the', 'DT'), ('processor', 'NN'), (',', ','), ('i.e', 'NN'), ('.', '.'), ('this', 'DT'), ('high', 'JJ'), ('percentage', 'NN'), (',', ','), ('combined', 'VBN'), ('with', 'IN'), ('our', 'PRP$'), ('intuition', 'NN'), ('that', 'DT'), ('software', 'NN'), ('power', 'NN'), ('management', 'NN'), ('could', 'MD'), ('be', 'VB'), ('significantly', 'RB'), ('improved', 'VBN'), ('for', 'IN'), ('the', 'DT'), ('processor', 'NN'), (',', ','), ('led', 'VBD'), ('us', 'PRP'), ('to', 'TO'), ('conclude', 'VB'), ('that', 'IN'), ('the', 'DT'), ('most', 'RBS'), ('important', 'JJ'), ('target', 'NN'), ('for', 'IN'), ('further', 'JJ'), ('research', 'NN'), ('in', 'IN'), ('software', 'NN'), ('power', 'NN'), ('management', 'NN'), ('was', 'VBD'), ('the', 'DT'), ('processor', 'NN'), ('.', '.'), ('many', 'JJ'), ('modern', 'JJ'), ('microprocessors', 'NNS'), ('have', 'VBP'), ('low-power', 'JJR'), ('states', 'NNS'), (',', ','), ('in', 'IN'), ('which', 'WDT'), ('they', 'PRP'), ('consume', 'VBP'), ('little', 'JJ'), ('or', 'CC'), ('no', 'DT'), ('power', 'NN'), ('.', '.'), ('to', 'TO'), ('take', 'VB'), ('advantage', 'NN'), ('of', 'IN'), ('such', 'JJ'), ('low-power', 'JJ'), ('states', 'NNS'), (',', ','), ('the', 'DT'), ('operating', 'NN'), ('system', 'NN'), ('needs', 'VBZ'), ('to', 'TO'), ('direct', 'VB'), ('the', 'DT'), ('processor', 'NN'), ('to', 'TO'), ('turn', 'VB'), ('off', 'RP'), ('when', 'WRB'), ('it', 'PRP'), ('is', 'VBZ'), ('predicted', 'VBN'), ('that', 'IN'), ('the', 'DT'), ('consequent', 'JJ'), ('savings', 'NNS'), ('in', 'IN'), ('power', 'NN'), ('will', 'MD'), ('be', 'VB'), ('worth', 'IN'), ('the', 'DT'), ('time', 'NN'), ('and', 'CC'), ('energy', 'NN'), ('overhead', 'NN'), ('of', 'IN'), ('turning', 'VBG'), ('off', 'RP'), ('and', 'CC'), ('restarting', 'VBG'), ('.', '.'), ('in', 'IN'), ('this', 'DT'), ('way', 'NN'), (',', ','), ('the', 'DT'), ('goal', 'NN'), ('of', 'IN'), ('processor', 'NN'), ('power', 'NN'), ('management', 'NN'), ('strategies', 'NNS'), ('is', 'VBZ'), ('similar', 'JJ'), ('to', 'TO'), ('that', 'DT'), ('of', 'IN'), ('hard', 'JJ'), ('disks', 'NNS'), ('.', '.'), ('some', 'DT'), ('strategies', 'NNS'), ('for', 'IN'), ('making', 'VBG'), ('these', 'DT'), ('predictions', 'NNS'), ('are', 'VBP'), ('described', 'VBN'), ('by', 'IN'), ('srivastava', 'JJ'), ('et', 'NN'), ('al', 'NN'), ('.', '.'), ('for', 'IN'), ('instance', 'NN'), (',', ','), ('the', 'DT'), ('at', 'IN'), ('&', 'CC'), ('t', 'JJ'), ('hobbit', 'NN'), ('and', 'CC'), ('certain', 'JJ'), ('versions', 'NNS'), ('of', 'IN'), ('the', 'DT'), ('mc68030', 'NN'), ('and', 'CC'), ('mc68040', 'NN'), ('use', 'NN'), ('static', 'JJ'), ('logic', 'NN'), ('so', 'RB'), ('that', 'IN'), ('most', 'JJS'), ('of', 'IN'), ('their', 'PRP$'), ('state', 'NN'), ('can', 'MD'), ('be', 'VB'), ('retained', 'VBN'), ('when', 'WRB'), ('the', 'DT'), ('clock', 'NN'), ('is', 'VBZ'), ('shut', 'VBN'), ('down', 'RP'), ('.', '.'), ('also', 'RB'), (',', ','), ('the', 'DT'), ('powerpc', 'NN'), ('603', 'CD'), ('can', 'MD'), ('exit', 'VB'), ('the', 'DT'), ('low-power', 'JJR'), ('doze', 'JJ'), ('mode', 'NN'), ('in', 'IN'), ('about', 'RB'), ('ten', 'JJ'), ('system', 'NN'), ('clocks', 'NNS'), ('.', '.'), ('because', 'IN'), ('of', 'IN'), ('the', 'DT'), ('short', 'JJ'), ('delay', 'NN'), ('and', 'CC'), ('low', 'JJ'), ('energy', 'NN'), ('cost', 'NN'), ('for', 'IN'), ('entering', 'VBG'), ('and', 'CC'), ('leaving', 'VBG'), ('a', 'DT'), ('low-power', 'JJ'), ('state', 'NN'), (',', ','), ('the', 'DT'), ('optimal', 'JJ'), ('cpu', 'NN'), ('power', 'NN'), ('management', 'NN'), ('strategy', 'NN'), ('is', 'VBZ'), ('trivial', 'JJ'), (':', ':'), ('turn', 'VB'), ('off', 'RP'), ('the', 'DT'), ('cpu', 'NN'), ('whenever', 'WRB'), ('there', 'EX'), ('is', 'VBZ'), ('no', 'DT'), ('useful', 'JJ'), ('work', 'NN'), ('to', 'TO'), ('do', 'VB'), ('.', '.'), ('an', 'DT'), ('opportunityfor', 'JJ'), ('such', 'JJ'), ('a', 'DT'), ('strategy', 'NN'), ('is', 'VBZ'), ('described', 'VBN'), ('by', 'IN'), ('srivastava', 'JJ'), ('et', 'NN'), ('al', 'NN'), ('.', '.'), ('this', 'DT'), ('material', 'NN'), ('is', 'VBZ'), ('based', 'VBN'), ('upon', 'IN'), ('work', 'NN'), ('supported', 'VBN'), ('by', 'IN'), ('a', 'DT'), ('national', 'JJ'), ('science', 'NN'), ('foundation', 'NN'), ('graduate', 'NN'), ('research', 'NN'), ('fellowship', 'NN'), (',', ','), ('by', 'IN'), ('apple', 'NN'), ('computer', 'NN'), (',', ','), ('and', 'CC'), ('also', 'RB'), ('in', 'IN'), ('part', 'NN'), ('by', 'IN'), ('the', 'DT'), ('national', 'JJ'), ('science', 'NN'), ('foundation', 'NN'), ('under', 'IN'), ('grants', 'NNS'), ('mip-9116578', 'JJ'), ('and', 'CC'), ('ccr-9117028', 'JJ'), (',', ','), ('by', 'IN'), ('the', 'DT'), ('state', 'NN'), ('of', 'IN'), ('california', 'NN'), ('under', 'IN'), ('the', 'DT'), ('micro', 'NN'), ('program', 'NN'), (',', ','), ('and', 'CC'), ('by', 'IN'), ('intel', 'JJ'), ('corporation', 'NN'), ('and', 'CC'), ('sun', 'NN'), ('microsystems', 'NNS'), ('.', '.'), ('although', 'IN'), ('the', 'DT'), ('work', 'NN'), ('presented', 'VBN'), ('here', 'RB'), ('has', 'VBZ'), ('benefited', 'VBN'), ('from', 'IN'), ('support', 'NN'), ('from', 'IN'), ('and', 'CC'), ('cooperation', 'NN'), ('by', 'IN'), ('apple', 'NN'), (',', ','), ('the', 'DT'), ('relationship', 'NN'), ('between', 'IN'), ('this', 'DT'), ('work', 'NN'), ('and', 'CC'), ('apple', 'NN'), (\"'s\", 'POS'), ('product', 'NN'), ('development', 'NN'), ('plans', 'NNS'), ('has', 'VBZ'), ('yet', 'RB'), ('to', 'TO'), ('be', 'VB'), ('determined', 'VBN'), ('.', '.'), ('to', 'TO'), ('appear', 'VB'), ('in', 'IN'), ('the', 'DT'), ('second', 'JJ'), ('acm', 'JJ'), ('international', 'JJ'), ('conference', 'NN'), ('on', 'IN'), ('mobile', 'JJ'), ('computing', 'NN'), ('and', 'CC'), ('networking', 'NN'), (',', ','), ('november', 'JJ'), ('1996', 'CD'), (',', ','), ('rye', 'NN'), (',', ','), ('new', 'JJ'), ('york', 'NN'), ('.', '.'), ('copyright', 'NN'), ('c', 'NN'), ('1996', 'CD'), ('by', 'IN'), ('the', 'DT'), ('association', 'NN'), ('for', 'IN'), ('computing', 'VBG'), ('machinery', 'NN'), (',', ','), ('inc.', 'JJ'), ('copyrights', 'NNS'), ('for', 'IN'), ('components', 'NNS'), ('of', 'IN'), ('this', 'DT'), ('work', 'NN'), ('owned', 'VBN'), ('by', 'IN'), ('others', 'NNS'), ('than', 'IN'), ('acm', 'VB'), ('must', 'MD'), ('be', 'VB'), ('honored', 'VBN'), ('.', '.'), ('abstracting', 'VBG'), ('with', 'IN'), ('credit', 'NN'), ('is', 'VBZ'), ('permitted', 'VBN'), ('.', '.'), ('to', 'TO'), ('copy', 'VB'), ('otherwise', 'RB'), (',', ','), ('to', 'TO'), ('republish', 'VB'), (',', ','), ('to', 'TO'), ('post', 'VB'), ('on', 'IN'), ('servers', 'NNS'), (',', ','), ('or', 'CC'), ('to', 'TO'), ('redistribute', 'VB'), ('to', 'TO'), ('lists', 'NNS'), (',', ','), ('requires', 'VBZ'), ('prior', 'JJ'), ('specific', 'JJ'), ('permission', 'NN'), ('and/or', 'IN'), ('a', 'DT'), ('fee', 'NN'), ('.', '.'), ('an', 'DT'), ('essentially', 'RB'), ('equivalent', 'JJ'), ('version', 'NN'), ('of', 'IN'), ('this', 'DT'), ('strategy', 'NN'), (',', ','), ('namely', 'RB'), ('to', 'TO'), ('establish', 'VB'), ('a', 'DT'), ('virtual', 'JJ'), ('lowest-priority', 'NN'), ('process', 'NN'), ('whose', 'WP$'), ('job', 'NN'), ('is', 'VBZ'), ('to', 'TO'), ('turn', 'VB'), ('off', 'RP'), ('the', 'DT'), ('processor', 'NN'), ('when', 'WRB'), ('it', 'PRP'), ('runs', 'VBZ'), (',', ','), ('is', 'VBZ'), ('recommended', 'VBN'), ('by', 'IN'), ('suessmith', 'NN'), ('and', 'CC'), ('paap', 'NN'), ('for', 'IN'), ('the', 'DT'), ('powerpc', 'NN'), ('603', 'CD'), (',', ','), ('and', 'CC'), ('by', 'IN'), ('suzuki', 'NN'), ('and', 'CC'), ('uno', 'NN'), ('in', 'IN'), ('a', 'DT'), ('1993', 'CD'), ('patent', 'NN'), ('.', '.'), ('such', 'PDT'), ('a', 'DT'), ('virtual', 'JJ'), ('lowest-priority', 'NN'), ('process', 'NN'), ('has', 'VBZ'), ('in', 'IN'), ('the', 'DT'), ('past', 'JJ'), ('been', 'VBN'), ('called', 'VBN'), ('the', 'DT'), ('``', '``'), ('idle', 'JJ'), ('loop', 'NN'), (',', ','), (\"''\", \"''\"), ('and', 'CC'), ('in', 'IN'), ('mainframes', 'NNS'), ('typically', 'RB'), ('lighted', 'VBD'), ('a', 'DT'), ('bulb', 'NN'), ('on', 'IN'), ('the', 'DT'), ('console', 'NN'), ('.', '.'), ('we', 'PRP'), ('refer', 'VBP'), ('to', 'TO'), ('the', 'DT'), ('strategy', 'NN'), ('of', 'IN'), ('turning', 'VBG'), ('off', 'RP'), ('the', 'DT'), ('processor', 'NN'), ('when', 'WRB'), ('no', 'DT'), ('process', 'NN'), ('is', 'VBZ'), ('available', 'JJ'), ('to', 'TO'), ('run', 'VB'), ('the', 'DT'), ('basic', 'JJ'), ('strategy', 'NN'), ('.', '.'), ('unfortunately', 'RB'), (',', ','), ('in', 'IN'), ('apple', 'NN'), (\"'s\", 'POS'), ('macos', 'NN'), (',', ','), ('processes', 'VBZ'), ('can', 'MD'), ('run', 'VB'), ('or', 'CC'), ('be', 'VB'), ('scheduled', 'VBN'), ('to', 'TO'), ('run', 'VB'), ('even', 'RB'), ('when', 'WRB'), ('they', 'PRP'), ('have', 'VBP'), ('no', 'DT'), ('useful', 'JJ'), ('work', 'NN'), ('to', 'TO'), ('do', 'VB'), ('.', '.'), ('this', 'DT'), ('feature', 'NN'), ('is', 'VBZ'), ('partially', 'RB'), ('by', 'IN'), ('design', 'NN'), (',', ','), ('since', 'IN'), ('in', 'IN'), ('a', 'DT'), ('single-user', 'JJ'), ('system', 'NN'), ('there', 'EX'), ('is', 'VBZ'), ('less', 'JJR'), ('need', 'NN'), ('for', 'IN'), ('the', 'DT'), ('operating', 'NN'), ('system', 'NN'), ('to', 'TO'), ('act', 'VB'), ('as', 'IN'), ('an', 'DT'), ('arbiter', 'NN'), ('of', 'IN'), ('resource', 'NN'), ('use', 'NN'), ('.', '.'), ('partially', 'RB'), (',', ','), ('it', 'PRP'), ('is', 'VBZ'), ('because', 'IN'), ('the', 'DT'), ('os', 'NN'), ('was', 'VBD'), ('not', 'RB'), ('written', 'VBN'), ('with', 'IN'), ('power', 'NN'), ('management', 'NN'), ('in', 'IN'), ('mind', 'NN'), ('.', '.'), ('there', 'EX'), ('are', 'VBP'), ('two', 'CD'), ('main', 'JJ'), ('problems', 'NNS'), ('with', 'IN'), ('the', 'DT'), ('current', 'JJ'), ('management', 'NN'), ('of', 'IN'), ('processor', 'NN'), ('time', 'NN'), (',', ','), ('one', 'CD'), ('having', 'VBG'), ('to', 'TO'), ('do', 'VB'), ('with', 'IN'), ('the', 'DT'), ('system', 'NN'), ('and', 'CC'), ('one', 'CD'), ('having', 'VBG'), ('to', 'TO'), ('do', 'VB'), ('with', 'IN'), ('applications', 'NNS'), ('.', '.'), ('the', 'DT'), ('first', 'JJ'), ('problem', 'NN'), ('is', 'VBZ'), ('that', 'IN'), ('the', 'DT'), ('operating', 'NN'), ('system', 'NN'), ('will', 'MD'), ('sometimes', 'RB'), ('schedule', 'VB'), ('a', 'DT'), ('process', 'NN'), ('even', 'RB'), ('though', 'IN'), ('it', 'PRP'), ('has', 'VBZ'), ('no', 'DT'), ('work', 'NN'), ('to', 'TO'), ('do', 'VB'), ('.', '.'), ('we', 'PRP'), ('were', 'VBD'), ('first', 'RB'), ('made', 'VBN'), ('aware', 'NN'), ('of', 'IN'), ('this', 'DT'), ('phenomenon', 'NN'), ('when', 'WRB'), ('we', 'PRP'), ('studied', 'VBD'), ('traces', 'NNS'), ('of', 'IN'), ('macos', 'JJ'), ('process', 'NN'), ('scheduling', 'VBG'), ('calls', 'NNS'), (',', ','), ('and', 'CC'), ('found', 'VBD'), ('that', 'IN'), ('often', 'RB'), ('a', 'DT'), ('process', 'NN'), ('would', 'MD'), ('be', 'VB'), ('scheduled', 'VBN'), ('to', 'TO'), ('run', 'VB'), ('before', 'IN'), ('the', 'DT'), ('conditions', 'NNS'), ('the', 'DT'), ('process', 'NN'), ('had', 'VBD'), ('established', 'VBN'), ('as', 'IN'), ('necessary', 'JJ'), ('for', 'IN'), ('it', 'PRP'), ('to', 'TO'), ('be', 'VB'), ('ready', 'JJ'), ('were', 'VBD'), ('fulfilled', 'VBN'), ('.', '.'), ('it', 'PRP'), ('seems', 'VBZ'), ('that', 'IN'), ('often', 'RB'), (',', ','), ('when', 'WRB'), ('there', 'EX'), ('are', 'VBP'), ('no', 'DT'), ('ready', 'JJ'), ('processes', 'NNS'), (',', ','), ('the', 'DT'), ('os', 'NN'), ('picks', 'VBZ'), ('one', 'CD'), ('to', 'TO'), ('run', 'VB'), ('anyway', 'RB'), (',', ','), ('usually', 'RB'), ('the', 'DT'), ('process', 'NN'), ('associated', 'VBN'), ('with', 'IN'), ('the', 'DT'), ('active', 'JJ'), ('window', 'NN'), ('.', '.'), ('the', 'DT'), ('second', 'JJ'), ('problem', 'NN'), ('is', 'VBZ'), ('that', 'IN'), ('programmers', 'NNS'), ('writing', 'VBG'), ('applications', 'NNS'), ('generally', 'RB'), ('assume', 'VBP'), ('that', 'IN'), ('when', 'WRB'), ('their', 'PRP$'), ('application', 'NN'), ('is', 'VBZ'), ('running', 'VBG'), ('in', 'IN'), ('the', 'DT'), ('foreground', 'NN'), (',', ','), ('it', 'PRP'), ('is', 'VBZ'), ('justified', 'VBN'), ('in', 'IN'), ('taking', 'VBG'), ('as', 'RB'), ('much', 'JJ'), ('processing', 'NN'), ('time', 'NN'), ('as', 'IN'), ('it', 'PRP'), ('wants', 'VBZ'), ('.', '.'), ('first', 'RB'), (',', ','), ('a', 'DT'), ('process', 'NN'), ('will', 'MD'), ('often', 'RB'), ('request', 'VB'), ('processor', 'NN'), ('time', 'NN'), ('even', 'RB'), ('when', 'WRB'), ('it', 'PRP'), ('has', 'VBZ'), ('nothing', 'NN'), ('to', 'TO'), ('do', 'VB'), ('.', '.'), ('we', 'PRP'), ('discovered', 'VBD'), ('this', 'DT'), ('problem', 'NN'), ('in', 'IN'), ('macos', 'NN'), ('when', 'WRB'), ('we', 'PRP'), ('discovered', 'VBD'), ('periods', 'NNS'), ('of', 'IN'), ('as', 'RB'), ('long', 'JJ'), ('as', 'IN'), ('ten', 'JJ'), ('minutes', 'NNS'), ('during', 'IN'), ('which', 'WDT'), ('a', 'DT'), ('process', 'NN'), ('never', 'RB'), ('did', 'VBD'), ('anything', 'NN'), (',', ','), ('yet', 'RB'), ('never', 'RB'), ('blocked', 'VBN'), (';', ':'), ('we', 'PRP'), ('describe', 'VBP'), ('later', 'RB'), ('what', 'WP'), ('we', 'PRP'), ('mean', 'VBP'), ('by', 'IN'), ('``', '``'), ('never', 'RB'), ('did', 'VBD'), ('anything', 'NN'), ('.', '.'), (\"''\", \"''\"), ('second', 'JJ'), (',', ','), ('when', 'WRB'), ('a', 'DT'), ('process', 'NN'), ('decides', 'VBZ'), ('to', 'TO'), ('block', 'VB'), (',', ','), ('it', 'PRP'), ('often', 'RB'), ('requests', 'VBZ'), ('a', 'DT'), ('shorter', 'JJ'), ('sleep', 'NN'), ('period', 'NN'), ('than', 'IN'), ('necessary', 'JJ'), ('.', '.'), ('solutions', 'NNS'), ('to', 'TO'), ('both', 'DT'), ('these', 'DT'), ('problems', 'NNS'), ('seem', 'VBP'), ('to', 'TO'), ('be', 'VB'), ('necessary', 'JJ'), ('to', 'TO'), ('obtain', 'VB'), ('the', 'DT'), ('most', 'RBS'), ('savings', 'NNS'), ('from', 'IN'), ('the', 'DT'), ('basic', 'JJ'), ('strategy', 'NN'), ('.', '.'), ('for', 'IN'), ('this', 'DT'), ('reason', 'NN'), (',', ','), ('we', 'PRP'), ('have', 'VBP'), ('developed', 'VBN'), ('additional', 'JJ'), ('techniques', 'NNS'), ('for', 'IN'), ('process', 'NN'), ('management', 'NN'), ('.', '.'), ('our', 'PRP$'), ('technique', 'NN'), ('for', 'IN'), ('dealing', 'VBG'), ('with', 'IN'), ('the', 'DT'), ('first', 'JJ'), ('problem', 'NN'), ('is', 'VBZ'), ('to', 'TO'), ('simply', 'RB'), ('make', 'VB'), ('the', 'DT'), ('operating', 'NN'), ('system', 'NN'), ('never', 'RB'), ('schedule', 'VBZ'), ('a', 'DT'), ('process', 'NN'), ('when', 'WRB'), ('it', 'PRP'), ('has', 'VBZ'), ('requested', 'VBN'), ('to', 'TO'), ('be', 'VB'), ('blocked', 'VBN'), (';', ':'), ('we', 'PRP'), ('call', 'VBP'), ('this', 'DT'), ('the', 'DT'), ('simple', 'JJ'), ('scheduling', 'NN'), ('technique', 'NN'), ('.', '.'), ('one', 'CD'), ('technique', 'NN'), ('we', 'PRP'), ('suggest', 'VBP'), ('is', 'VBZ'), ('to', 'TO'), ('use', 'VB'), ('a', 'DT'), ('heuristic', 'JJ'), ('to', 'TO'), ('decide', 'VB'), ('when', 'WRB'), ('a', 'DT'), ('process', 'NN'), ('is', 'VBZ'), ('making', 'VBG'), ('unnecessary', 'JJ'), ('requests', 'NNS'), ('for', 'IN'), ('processor', 'NN'), ('time', 'NN'), ('and', 'CC'), ('to', 'TO'), ('forcibly', 'RB'), ('block', 'VB'), ('any', 'DT'), ('such', 'JJ'), ('process', 'NN'), ('.', '.'), ('another', 'DT'), ('technique', 'NN'), ('we', 'PRP'), ('suggest', 'VBP'), ('is', 'VBZ'), ('that', 'IN'), ('all', 'DT'), ('sleep', 'JJ'), ('times', 'NNS'), ('requested', 'VBN'), ('by', 'IN'), ('processes', 'NNS'), ('be', 'VB'), ('multiplied', 'VBN'), ('by', 'IN'), ('a', 'DT'), ('constant', 'JJ'), ('factor', 'NN'), (',', ','), ('chosen', 'VBN'), ('by', 'IN'), ('the', 'DT'), ('user', 'NN'), ('or', 'CC'), ('operating', 'NN'), ('system', 'NN'), (',', ','), ('to', 'TO'), ('ensure', 'VB'), ('that', 'IN'), ('a', 'DT'), ('reasonable', 'JJ'), ('trade-off', 'NN'), ('between', 'IN'), ('energy', 'NN'), ('savings', 'NNS'), ('and', 'CC'), ('performance', 'NN'), ('is', 'VBZ'), ('obtained', 'VBN'), ('.', '.'), ('we', 'PRP'), ('call', 'VBP'), ('these', 'DT'), ('latter', 'JJ'), ('two', 'CD'), ('techniques', 'NNS'), ('the', 'DT'), ('greediness', 'NN'), ('technique', 'NN'), ('and', 'CC'), ('sleep', 'JJ'), ('extension', 'NN'), ('technique', 'NN'), (',', ','), ('respectively', 'RB'), ('.', '.'), ('we', 'PRP'), ('will', 'MD'), ('show', 'VB'), ('how', 'WRB'), ('using', 'VBG'), ('these', 'DT'), ('techniques', 'NNS'), ('can', 'MD'), ('improve', 'VB'), ('the', 'DT'), ('effectiveness', 'NN'), ('of', 'IN'), ('the', 'DT'), ('basic', 'JJ'), ('strategy', 'NN'), (',', ','), ('allowing', 'VBG'), ('it', 'PRP'), ('to', 'TO'), ('far', 'RB'), ('surpass', 'VB'), ('the', 'DT'), ('effectiveness', 'NN'), ('of', 'IN'), ('the', 'DT'), ('current', 'JJ'), ('macos', 'NN'), ('inactivity-timer', 'NN'), ('based', 'VBN'), ('strategy', 'NN'), ('.', '.'), ('each', 'DT'), ('of', 'IN'), ('these', 'DT'), ('is', 'VBZ'), ('described', 'VBN'), ('in', 'IN'), ('more', 'JJR'), ('detail', 'NN'), ('below', 'IN'), ('.', '.'), ('in', 'IN'), ('this', 'DT'), ('paper', 'NN'), (',', ','), ('we', 'PRP'), ('evaluate', 'VBP'), ('these', 'DT'), ('different', 'JJ'), ('strategies', 'NNS'), (',', ','), ('over', 'IN'), ('a', 'DT'), ('variety', 'NN'), ('of', 'IN'), ('parameter', 'NN'), ('values', 'NNS'), (',', ','), ('using', 'VBG'), ('trace-driven', 'JJ'), ('simulation', 'NN'), ('.', '.'), ('these', 'DT'), ('simulations', 'NNS'), ('enable', 'VBP'), ('us', 'PRP'), ('to', 'TO'), ('compare', 'VB'), ('these', 'DT'), ('algorithms', 'NNS'), ('to', 'TO'), ('the', 'DT'), ('current', 'JJ'), ('macos', 'NN'), ('strategy', 'NN'), (',', ','), ('and', 'CC'), ('to', 'TO'), ('optimize', 'VB'), ('their', 'PRP$'), ('parameters', 'NNS'), ('.', '.'), ('a', 'DT'), ('comparison', 'NN'), ('between', 'IN'), ('two', 'CD'), ('strategies', 'NNS'), ('is', 'VBZ'), ('based', 'VBN'), ('on', 'IN'), ('two', 'CD'), ('consequences', 'NNS'), ('of', 'IN'), ('each', 'DT'), ('strategy', 'NN'), (':', ':'), ('how', 'WRB'), ('much', 'RB'), ('processor', 'NN'), ('power', 'NN'), ('it', 'PRP'), ('saves', 'VBZ'), ('and', 'CC'), ('how', 'WRB'), ('much', 'JJ'), ('it', 'PRP'), ('decreases', 'VBZ'), ('observed', 'JJ'), ('performance', 'NN'), ('.', '.'), ('the', 'DT'), ('paper', 'NN'), ('is', 'VBZ'), ('structured', 'VBN'), ('as', 'IN'), ('follows', 'VBZ'), ('.', '.'), ('in', 'IN'), ('section', 'NN'), ('2', 'CD'), (',', ','), ('we', 'PRP'), ('describe', 'VBP'), ('in', 'IN'), ('detail', 'NN'), ('the', 'DT'), ('strategies', 'NNS'), ('we', 'PRP'), ('will', 'MD'), ('be', 'VB'), ('comparing', 'VBG'), (',', ','), ('including', 'VBG'), ('the', 'DT'), ('current', 'JJ'), ('strategy', 'NN'), ('used', 'VBN'), ('by', 'IN'), ('macos', 'NN'), (',', ','), ('the', 'DT'), ('basic', 'JJ'), ('strategy', 'NN'), (',', ','), ('and', 'CC'), ('our', 'PRP$'), ('suggested', 'JJ'), ('process', 'NN'), ('management', 'NN'), ('techniques', 'NNS'), ('for', 'IN'), ('improving', 'VBG'), ('the', 'DT'), ('basic', 'JJ'), ('strategy', 'NN'), ('.', '.'), ('in', 'IN'), ('section', 'NN'), ('3', 'CD'), (',', ','), ('we', 'PRP'), ('describe', 'VBP'), ('the', 'DT'), ('methodology', 'NN'), ('we', 'PRP'), ('used', 'VBD'), ('to', 'TO'), ('evaluate', 'VB'), ('these', 'DT'), ('strategies', 'NNS'), (':', ':'), ('the', 'DT'), ('evaluation', 'NN'), ('criteria', 'NNS'), (',', ','), ('the', 'DT'), ('tools', 'NNS'), ('we', 'PRP'), ('used', 'VBD'), ('for', 'IN'), ('the', 'DT'), ('trace-driven', 'JJ'), ('simulation', 'NN'), (',', ','), ('and', 'CC'), ('the', 'DT'), ('nature', 'NN'), ('of', 'IN'), ('the', 'DT'), ('traces', 'NNS'), ('we', 'PRP'), ('collected', 'VBD'), ('.', '.'), ('in', 'IN'), ('section', 'NN'), ('4', 'CD'), (',', ','), ('we', 'PRP'), ('present', 'VBP'), ('the', 'DT'), ('results', 'NNS'), ('of', 'IN'), ('our', 'PRP$'), ('simulations', 'NNS'), ('.', '.'), ('in', 'IN'), ('section', 'NN'), ('5', 'CD'), (',', ','), ('we', 'PRP'), ('discuss', 'VBP'), ('the', 'DT'), ('meaning', 'NN'), ('and', 'CC'), ('consequences', 'NNS'), ('of', 'IN'), ('these', 'DT'), ('results', 'NNS'), (',', ','), ('and', 'CC'), ('point', 'VB'), ('the', 'DT'), ('way', 'NN'), ('to', 'TO'), ('future', 'JJ'), ('work', 'NN'), ('.', '.'), ('the', 'DT'), ('currently', 'RB'), ('used', 'VBN'), ('processor', 'NN'), ('power', 'NN'), ('management', 'NN'), ('strategy', 'NN'), ('in', 'IN'), ('macos', 'NN'), ('is', 'VBZ'), ('based', 'VBN'), ('on', 'IN'), ('an', 'DT'), ('inactivity', 'NN'), ('timer', 'NN'), ('.', '.'), ('the', 'DT'), ('operating', 'NN'), ('system', 'NN'), ('will', 'MD'), ('initiate', 'VB'), ('processor', 'NN'), ('power', 'NN'), ('reduction', 'NN'), ('whenever', 'WRB'), ('no', 'DT'), ('activity', 'NN'), ('has', 'VBZ'), ('occurred', 'VBN'), ('in', 'IN'), ('the', 'DT'), ('last', 'JJ'), ('two', 'CD'), ('seconds', 'NNS'), ('and', 'CC'), ('no', 'DT'), ('i/o', 'NN'), ('activity', 'NN'), ('has', 'VBZ'), ('occurred', 'VBN'), ('in', 'IN'), ('the', 'DT'), ('last', 'JJ'), ('15', 'CD'), ('seconds', 'NNS'), ('.', '.'), ('power', 'NN'), ('reduction', 'NN'), ('is', 'VBZ'), ('halted', 'VBN'), ('whenever', 'JJ'), ('activity', 'NN'), ('is', 'VBZ'), ('once', 'RB'), ('again', 'RB'), ('detected', 'JJ'), ('.', '.'), ('activity', 'NN'), ('is', 'VBZ'), ('defined', 'VBN'), ('here', 'RB'), ('and', 'CC'), ('in', 'IN'), ('later', 'RB'), ('contexts', 'NN'), ('as', 'IN'), ('any', 'DT'), ('user', 'NN'), ('input', 'NN'), (',', ','), ('any', 'DT'), ('i/o', 'JJ'), ('device', 'NN'), ('read', 'VBD'), ('or', 'CC'), ('write', 'VB'), (',', ','), ('any', 'DT'), ('change', 'NN'), ('in', 'IN'), ('the', 'DT'), ('appearance', 'NN'), ('of', 'IN'), ('the', 'DT'), ('cursor', 'NN'), (',', ','), ('or', 'CC'), ('any', 'DT'), ('time', 'NN'), ('spent', 'VBN'), ('with', 'IN'), ('the', 'DT'), ('cursor', 'NN'), ('as', 'IN'), ('a', 'DT'), ('watch', 'NN'), ('.', '.'), ('the', 'DT'), ('reason', 'NN'), ('for', 'IN'), ('the', 'DT'), ('classification', 'NN'), ('of', 'IN'), ('these', 'DT'), ('latter', 'JJ'), ('two', 'CD'), ('as', 'IN'), ('activity', 'NN'), ('is', 'VBZ'), ('that', 'IN'), ('macos', 'JJ'), ('human', 'JJ'), ('interface', 'NN'), ('guidelines', 'NNS'), ('specify', 'VBP'), ('that', 'IN'), ('a', 'DT'), ('process', 'NN'), ('that', 'WDT'), ('is', 'VBZ'), ('actively', 'RB'), ('computing', 'VBG'), ('must', 'MD'), ('indicate', 'VB'), ('this', 'DT'), ('to', 'TO'), ('the', 'DT'), ('user', 'NN'), ('by', 'IN'), ('having', 'VBG'), ('the', 'DT'), ('cursor', 'NN'), ('appear', 'VBP'), ('as', 'IN'), ('a', 'DT'), ('watch', 'NN'), ('or', 'CC'), ('by', 'IN'), ('frequently', 'RB'), ('changing', 'VBG'), ('the', 'DT'), ('appearance', 'NN'), ('of', 'IN'), ('the', 'DT'), ('cursor', 'NN'), (',', ','), ('e.g', 'NN'), ('.', '.'), ('the', 'DT'), ('basic', 'JJ'), ('strategy', 'NN'), ('is', 'VBZ'), ('to', 'TO'), ('turn', 'VB'), ('off', 'RP'), ('the', 'DT'), ('processor', 'NN'), ('whenever', 'WRB'), ('all', 'DT'), ('processes', 'NNS'), ('are', 'VBP'), ('blocked', 'VBN'), ('.', '.'), ('unfortunately', 'RB'), (',', ','), ('under', 'IN'), ('macos', 'NN'), (',', ','), ('this', 'DT'), ('is', 'VBZ'), ('not', 'RB'), ('often', 'RB'), ('the', 'DT'), ('case', 'NN'), (',', ','), ('since', 'IN'), ('macos', 'NN'), ('frequently', 'RB'), ('schedules', 'VBZ'), ('some', 'DT'), ('process', 'NN'), ('whether', 'IN'), ('or', 'CC'), ('not', 'RB'), ('the', 'DT'), ('event', 'NN'), ('for', 'IN'), ('which', 'WDT'), ('the', 'DT'), ('process', 'NN'), ('was', 'VBD'), ('waiting', 'VBG'), ('has', 'VBZ'), ('actually', 'RB'), ('occurred', 'VBN'), ('.', '.'), ('one', 'CD'), ('might', 'MD'), ('wonder', 'VB'), ('why', 'WRB'), ('macos', 'JJ'), ('uses', 'VBZ'), ('this', 'DT'), ('inactivity', 'NN'), ('timer', 'NN'), ('based', 'VBN'), ('strategy', 'NN'), ('instead', 'RB'), ('of', 'IN'), ('the', 'DT'), ('basic', 'JJ'), ('strategy', 'NN'), ('.', '.'), ('one', 'CD'), ('reason', 'NN'), ('is', 'VBZ'), ('that', 'IN'), ('all', 'DT'), ('but', 'CC'), ('the', 'DT'), ('most', 'RBS'), ('recent', 'JJ'), ('macintosh', 'NN'), ('computers', 'NNS'), ('have', 'VBP'), ('high', 'JJ'), ('overhead', 'NN'), ('associated', 'VBN'), ('with', 'IN'), ('turning', 'VBG'), ('off', 'RP'), ('and', 'CC'), ('on', 'IN'), ('the', 'DT'), ('processor', 'NN'), (',', ','), ('making', 'VBG'), ('the', 'DT'), ('basic', 'JJ'), ('strategy', 'NN'), ('less', 'RBR'), ('applicable', 'JJ'), ('.', '.'), ('in', 'IN'), ('older', 'JJR'), ('processors', 'NNS'), (',', ','), ('for', 'IN'), ('example', 'NN'), (',', ','), ('the', 'DT'), ('contents', 'NNS'), ('of', 'IN'), ('on-chip', 'JJ'), ('caches', 'NNS'), ('were', 'VBD'), ('lost', 'VBN'), ('when', 'WRB'), ('the', 'DT'), ('processor', 'NN'), ('was', 'VBD'), ('powered', 'VBN'), ('down', 'RP'), ('.', '.'), ('another', 'DT'), ('reason', 'NN'), ('is', 'VBZ'), ('that', 'RB'), (',', ','), ('as', 'IN'), ('we', 'PRP'), ('have', 'VBP'), ('described', 'VBN'), ('before', 'IN'), ('and', 'CC'), ('will', 'MD'), ('see', 'VB'), ('later', 'RB'), (',', ','), ('the', 'DT'), ('effectiveness', 'NN'), ('of', 'IN'), ('the', 'DT'), ('basic', 'JJ'), ('strategy', 'NN'), ('is', 'VBZ'), ('not', 'RB'), ('very', 'RB'), ('different', 'JJ'), ('from', 'IN'), ('that', 'DT'), ('of', 'IN'), ('the', 'DT'), ('inactivity', 'NN'), ('timer', 'NN'), ('based', 'VBN'), ('strategy', 'NN'), (',', ','), ('given', 'VBN'), ('the', 'DT'), ('current', 'JJ'), ('macos', 'NN'), ('method', 'NN'), ('of', 'IN'), ('process', 'NN'), ('time', 'NN'), ('management', 'NN'), ('.', '.'), ('the', 'DT'), ('greediness', 'NN'), ('technique', 'NN'), ('is', 'VBZ'), (',', ','), ('in', 'IN'), ('overview', 'NN'), (',', ','), ('to', 'TO'), ('identify', 'VB'), ('and', 'CC'), ('block', 'VB'), ('processes', 'NNS'), ('that', 'WDT'), ('are', 'VBP'), ('not', 'RB'), ('doing', 'VBG'), ('useful', 'JJ'), ('work', 'NN'), ('.', '.'), ('first', 'RB'), (',', ','), ('we', 'PRP'), ('will', 'MD'), ('describe', 'VB'), ('the', 'DT'), ('technique', 'NN'), ('in', 'IN'), ('general', 'JJ'), ('terms', 'NNS'), (',', ','), ('and', 'CC'), ('then', 'RB'), ('we', 'PRP'), ('will', 'MD'), ('indicate', 'VB'), ('the', 'DT'), ('details', 'NNS'), ('of', 'IN'), ('its', 'PRP$'), ('implementation', 'NN'), ('for', 'IN'), ('the', 'DT'), ('macos', 'NN'), ('.', '.'), ('the', 'DT'), ('technique', 'NN'), ('is', 'VBZ'), ('based', 'VBN'), ('on', 'IN'), ('the', 'DT'), ('following', 'JJ'), ('model', 'NN'), ('of', 'IN'), ('the', 'DT'), ('appropriate', 'JJ'), ('way', 'NN'), ('a', 'DT'), ('process', 'NN'), ('should', 'MD'), ('operate', 'VB'), ('in', 'IN'), ('an', 'DT'), ('event-driven', 'JJ'), ('environment', 'NN'), ('.', '.'), ('a', 'DT'), ('process', 'NN'), (',', ','), ('upon', 'IN'), ('receiving', 'VBG'), ('an', 'DT'), ('event', 'NN'), (',', ','), ('should', 'MD'), ('process', 'VB'), ('that', 'DT'), ('event', 'NN'), (',', ','), ('blocking', 'VBG'), ('when', 'WRB'), ('and', 'CC'), ('only', 'RB'), ('when', 'WRB'), ('it', 'PRP'), ('has', 'VBZ'), ('finished', 'VBN'), ('that', 'IN'), ('processing', 'VBG'), ('.', '.'), ('once', 'RB'), ('blocked', 'VBN'), (',', ','), ('it', 'PRP'), ('should', 'MD'), ('be', 'VB'), ('scheduled', 'VBN'), ('again', 'RB'), ('when', 'WRB'), ('and', 'CC'), ('only', 'RB'), ('when', 'WRB'), ('another', 'DT'), ('event', 'NN'), ('is', 'VBZ'), ('ready', 'JJ'), ('to', 'TO'), ('be', 'VB'), ('processed', 'VBN'), (';', ':'), ('an', 'DT'), ('exception', 'NN'), ('is', 'VBZ'), ('that', 'IN'), ('the', 'DT'), ('process', 'NN'), ('may', 'MD'), ('want', 'VB'), ('to', 'TO'), ('be', 'VB'), ('scheduled', 'VBN'), ('periodically', 'RB'), ('to', 'TO'), ('perform', 'VB'), ('periodic', 'JJ'), ('tasks', 'NNS'), (',', ','), ('such', 'JJ'), ('as', 'IN'), ('blinking', 'VBG'), ('the', 'DT'), ('cursor', 'NN'), ('or', 'CC'), ('checking', 'VBG'), ('whether', 'IN'), ('it', 'PRP'), ('is', 'VBZ'), ('time', 'NN'), ('to', 'TO'), ('do', 'VB'), ('backups', 'NNS'), ('.', '.'), ('we', 'PRP'), ('say', 'VBP'), ('that', 'IN'), ('a', 'DT'), ('process', 'NN'), ('is', 'VBZ'), ('acting', 'VBG'), ('greedily', 'RB'), ('when', 'WRB'), ('it', 'PRP'), ('fails', 'VBZ'), ('to', 'TO'), ('block', 'VB'), ('even', 'RB'), ('after', 'IN'), ('it', 'PRP'), ('has', 'VBZ'), ('finished', 'VBN'), ('processing', 'VBG'), ('an', 'DT'), ('event', 'NN'), ('.', '.'), ('this', 'DT'), ('can', 'MD'), ('occur', 'VB'), ('when', 'WRB'), ('a', 'DT'), ('process', 'NN'), ('busy', 'JJ'), ('waits', 'NNS'), ('in', 'IN'), ('some', 'DT'), ('manner', 'NN'), (',', ','), ('e.g', 'NN'), ('.', '.'), ('when', 'WRB'), ('we', 'PRP'), ('determine', 'VBP'), ('a', 'DT'), ('process', 'NN'), ('is', 'VBZ'), ('acting', 'VBG'), ('greedily', 'RB'), (',', ','), ('we', 'PRP'), ('will', 'MD'), ('forcibly', 'RB'), ('block', 'VB'), ('that', 'DT'), ('process', 'NN'), ('for', 'IN'), ('a', 'DT'), ('set', 'JJ'), ('period', 'NN'), ('of', 'IN'), ('time', 'NN'), ('.', '.'), ('macos', 'JJ'), ('uses', 'NNS'), ('cooperative', 'JJ'), ('multitasking', 'NN'), (',', ','), ('meaning', 'VBG'), ('that', 'DT'), ('once', 'RB'), ('a', 'DT'), ('process', 'NN'), ('gets', 'VBZ'), ('control', 'NN'), ('of', 'IN'), ('the', 'DT'), ('processor', 'NN'), (',', ','), ('it', 'PRP'), ('retains', 'VBZ'), ('that', 'IN'), ('control', 'NN'), ('until', 'IN'), ('it', 'PRP'), ('chooses', 'VBZ'), ('to', 'TO'), ('yield', 'VB'), ('control', 'NN'), ('.', '.'), ('for', 'IN'), ('this', 'DT'), ('reason', 'NN'), (',', ','), ('application', 'NN'), ('writers', 'NNS'), ('are', 'VBP'), ('strongly', 'RB'), ('encouraged', 'VBN'), ('to', 'TO'), ('have', 'VB'), ('their', 'PRP$'), ('processes', 'NNS'), ('yield', 'VBP'), ('control', 'NN'), ('periodically', 'RB'), (',', ','), ('even', 'RB'), ('when', 'WRB'), ('they', 'PRP'), ('still', 'RB'), ('have', 'VBP'), ('work', 'NN'), ('to', 'TO'), ('do', 'VB'), ('.', '.'), ('processes', 'VB'), ('indicate', 'VBP'), ('that', 'IN'), ('they', 'PRP'), ('still', 'RB'), ('have', 'VBP'), ('work', 'NN'), ('to', 'TO'), ('do', 'VB'), ('by', 'IN'), ('specifying', 'VBG'), ('a', 'DT'), ('sleep', 'JJ'), ('period', 'NN'), ('of', 'IN'), ('zero', 'NN'), (',', ','), ('thereby', 'RB'), ('failing', 'VBG'), ('to', 'TO'), ('block', 'VB'), ('.', '.'), ('we', 'PRP'), ('call', 'VBP'), ('the', 'DT'), ('period', 'NN'), ('of', 'IN'), ('time', 'NN'), ('between', 'IN'), ('when', 'WRB'), ('a', 'DT'), ('process', 'NN'), ('gains', 'NNS'), ('control', 'NN'), ('of', 'IN'), ('the', 'DT'), ('processor', 'NN'), ('and', 'CC'), ('when', 'WRB'), ('it', 'PRP'), ('yields', 'VBZ'), ('control', 'VB'), ('a', 'DT'), ('quantum', 'NN'), ('.', '.'), ('part', 'NN'), ('of', 'IN'), ('our', 'PRP$'), ('technique', 'NN'), ('is', 'VBZ'), ('a', 'DT'), ('heuristic', 'JJ'), ('to', 'TO'), ('determine', 'VB'), ('when', 'WRB'), ('a', 'DT'), ('process', 'NN'), ('is', 'VBZ'), ('acting', 'VBG'), ('greedily', 'RB'), ('.', '.'), ('we', 'PRP'), ('say', 'VBP'), ('that', 'IN'), ('a', 'DT'), ('process', 'NN'), ('is', 'VBZ'), ('acting', 'VBG'), ('greedily', 'RB'), ('when', 'WRB'), ('it', 'PRP'), ('specifies', 'VBZ'), ('a', 'DT'), ('sleep', 'JJ'), ('period', 'NN'), ('of', 'IN'), ('zero', 'CD'), ('even', 'RB'), ('though', 'IN'), ('it', 'PRP'), ('seems', 'VBZ'), ('not', 'RB'), ('to', 'TO'), ('be', 'VB'), ('actively', 'RB'), ('computing', 'VBG'), ('.', '.'), ('we', 'PRP'), ('consider', 'VBP'), ('a', 'DT'), ('process', 'NN'), ('to', 'TO'), ('start', 'VB'), ('actively', 'RB'), ('computing', 'VBG'), ('when', 'WRB'), ('it', 'PRP'), ('receives', 'VBZ'), ('an', 'DT'), ('event', 'NN'), ('or', 'CC'), ('shows', 'VBZ'), ('some', 'DT'), ('signs', 'NNS'), ('of', 'IN'), ('``', '``'), ('activity', 'NN'), (',', ','), (\"''\", \"''\"), ('as', 'IN'), ('defined', 'VBN'), ('below', 'IN'), ('.', '.'), ('we', 'PRP'), ('estimate', 'VBP'), ('that', 'IN'), ('a', 'DT'), ('process', 'NN'), ('is', 'VBZ'), ('no', 'RB'), ('longer', 'RBR'), ('actively', 'RB'), ('computing', 'VBG'), ('if', 'IN'), ('it', 'PRP'), ('explicitly', 'RB'), ('blocks', 'VBZ'), (',', ','), ('or', 'CC'), ('if', 'IN'), ('it', 'PRP'), ('yields', 'VBZ'), ('control', 'VB'), ('several', 'JJ'), ('times', 'NNS'), ('in', 'IN'), ('a', 'DT'), ('row', 'NN'), ('without', 'IN'), ('receiving', 'VBG'), ('an', 'DT'), ('event', 'NN'), ('or', 'CC'), ('showing', 'VBG'), ('signs', 'NNS'), ('of', 'IN'), ('activity', 'NN'), ('.', '.'), ('the', 'DT'), ('exact', 'JJ'), ('number', 'NN'), ('of', 'IN'), ('control-yieldtimes', 'NNS'), (',', ','), ('which', 'WDT'), ('we', 'PRP'), ('call', 'VBP'), ('the', 'DT'), ('greediness', 'NN'), ('threshold', 'NN'), (',', ','), ('is', 'VBZ'), ('a', 'DT'), ('parameter', 'NN'), ('of', 'IN'), ('the', 'DT'), ('technique', 'NN'), (';', ':'), ('we', 'PRP'), ('expect', 'VBP'), ('it', 'PRP'), ('to', 'TO'), ('be', 'VB'), ('set', 'VBN'), ('so', 'RB'), ('as', 'IN'), ('to', 'TO'), ('maximize', 'VB'), ('energy', 'NN'), ('savings', 'NNS'), (',', ','), ('given', 'VBN'), ('a', 'DT'), ('desired', 'JJ'), ('level', 'NN'), ('of', 'IN'), ('performance', 'NN'), ('.', '.'), ('we', 'PRP'), ('say', 'VBP'), ('that', 'IN'), ('a', 'DT'), ('process', 'NN'), ('shows', 'VBZ'), ('no', 'DT'), ('sign', 'NN'), ('of', 'IN'), ('activity', 'NN'), ('if', 'IN'), ('it', 'PRP'), ('performs', 'VBZ'), ('no', 'DT'), ('i/o', 'JJ'), ('device', 'NN'), ('read', 'VBD'), ('or', 'CC'), ('write', 'JJ'), (',', ','), ('does', 'VBZ'), ('not', 'RB'), ('have', 'VB'), ('the', 'DT'), ('sound', 'NN'), ('chip', 'NN'), ('on', 'IN'), (',', ','), ('does', 'VBZ'), ('not', 'RB'), ('change', 'VB'), ('the', 'DT'), ('appearance', 'NN'), ('of', 'IN'), ('the', 'DT'), ('cursor', 'NN'), (',', ','), ('and', 'CC'), ('does', 'VBZ'), ('not', 'RB'), ('have', 'VB'), ('the', 'DT'), ('cursor', 'NN'), ('appear', 'VBP'), ('as', 'IN'), ('a', 'DT'), ('watch', 'NN'), ('.', '.'), ('the', 'DT'), ('absence', 'NN'), ('of', 'IN'), ('activity', 'NN'), ('as', 'IN'), ('we', 'PRP'), ('have', 'VBP'), ('so', 'RB'), ('defined', 'VBN'), ('it', 'PRP'), ('implies', 'VBZ'), ('that', 'IN'), ('either', 'CC'), ('the', 'DT'), ('cpu', 'NN'), ('is', 'VBZ'), ('idle', 'JJ'), (',', ','), ('the', 'DT'), ('process', 'NN'), ('running', 'VBG'), ('is', 'VBZ'), ('busy', 'JJ'), ('waiting', 'VBG'), ('in', 'IN'), ('some', 'DT'), ('manner', 'NN'), (',', ','), ('or', 'CC'), ('the', 'DT'), ('process', 'NN'), ('running', 'NN'), ('is', 'VBZ'), ('violating', 'VBG'), ('the', 'DT'), ('macos', 'NN'), ('human', 'JJ'), ('interface', 'NN'), ('guidelines', 'NNS'), ('that', 'IN'), ('we', 'PRP'), ('mentioned', 'VBD'), ('earlier', 'RBR'), ('.', '.'), ('the', 'DT'), ('greediness', 'NN'), ('technique', 'NN'), ('works', 'VBZ'), ('as', 'IN'), ('follows', 'VBZ'), ('.', '.'), ('when', 'WRB'), ('the', 'DT'), ('os', 'NN'), ('determines', 'VBZ'), ('that', 'IN'), ('a', 'DT'), ('process', 'NN'), ('is', 'VBZ'), ('acting', 'VBG'), ('greedily', 'RB'), ('as', 'IN'), ('defined', 'VBN'), ('above', 'IN'), (',', ','), ('the', 'DT'), ('simple', 'JJ'), ('scheduling', 'NN'), ('technique', 'NN'), ('is', 'VBZ'), ('to', 'TO'), ('not', 'RB'), ('schedule', 'VB'), ('a', 'DT'), ('process', 'NN'), ('until', 'IN'), ('the', 'DT'), ('condition', 'NN'), ('under', 'IN'), ('which', 'WDT'), ('it', 'PRP'), ('has', 'VBZ'), ('indicated', 'VBN'), ('it', 'PRP'), ('will', 'MD'), ('be', 'VB'), ('ready', 'JJ'), ('to', 'TO'), ('run', 'VB'), ('has', 'VBZ'), ('been', 'VBN'), ('met', 'VBN'), ('.', '.'), ('in', 'IN'), ('macos', 'NN'), (',', ','), ('this', 'DT'), ('condition', 'NN'), ('is', 'VBZ'), ('always', 'RB'), ('explicitly', 'RB'), ('indicated', 'VBN'), ('by', 'IN'), ('the', 'DT'), ('process', 'NN'), (',', ','), ('and', 'CC'), ('is', 'VBZ'), ('always', 'RB'), ('of', 'IN'), ('the', 'DT'), ('form', 'NN'), (',', ','), ('``', '``'), ('any', 'DT'), ('of', 'IN'), ('the', 'DT'), ('event', 'NN'), ('types', 'VBZ'), ('e1', 'RB'), (';', ':'), ('e2', 'CC'), (';', ':'), (':', ':'), (':', ':'), (':', ':'), ('has', 'VBZ'), ('occurred', 'VBN'), (',', ','), ('or', 'CC'), ('a', 'DT'), ('period', 'NN'), ('of', 'IN'), ('time', 'NN'), ('t', 'NN'), ('has', 'VBZ'), ('passed', 'VBN'), ('since', 'IN'), ('the', 'DT'), ('process', 'NN'), ('last', 'JJ'), ('yielded', 'VBD'), ('control', 'NN'), ('of', 'IN'), ('the', 'DT'), ('processor', 'NN'), ('.', '.'), (\"''\", \"''\"), ('the', 'DT'), ('period', 'NN'), ('of', 'IN'), ('time', 'NN'), ('for', 'IN'), ('which', 'WDT'), ('the', 'DT'), ('process', 'NN'), ('is', 'VBZ'), ('willing', 'JJ'), ('to', 'TO'), ('wait', 'VB'), ('in', 'IN'), ('the', 'DT'), ('absence', 'NN'), ('of', 'IN'), ('events', 'NNS'), ('before', 'IN'), ('being', 'VBG'), ('scheduled', 'VBN'), ('is', 'VBZ'), ('referred', 'VBN'), ('to', 'TO'), ('as', 'IN'), ('the', 'DT'), ('sleep', 'JJ'), ('period', 'NN'), ('.', '.'), ('note', 'NN'), ('that', 'IN'), (',', ','), ('in', 'IN'), ('some', 'DT'), ('other', 'JJ'), ('operating', 'VBG'), ('systems', 'NNS'), (',', ','), ('such', 'JJ'), ('as', 'IN'), ('unix', 'JJ'), ('or', 'CC'), ('microsoft', 'JJ'), ('windows', 'NNS'), (',', ','), ('the', 'DT'), ('simple', 'JJ'), ('scheduling', 'NN'), ('technique', 'NN'), ('is', 'VBZ'), ('not', 'RB'), ('needed', 'VBN'), (',', ','), ('since', 'IN'), ('it', 'PRP'), ('is', 'VBZ'), ('the', 'DT'), ('default', 'NN'), ('behavior', 'NN'), ('of', 'IN'), ('the', 'DT'), ('operating', 'NN'), ('system', 'NN'), ('.', '.'), ('using', 'VBG'), ('only', 'RB'), ('the', 'DT'), ('simple', 'JJ'), ('scheduling', 'NN'), ('technique', 'NN'), ('described', 'VBN'), ('above', 'IN'), ('means', 'NNS'), ('that', 'IN'), ('a', 'DT'), ('process', 'NN'), ('is', 'VBZ'), ('given', 'VBN'), ('control', 'NN'), ('of', 'IN'), ('the', 'DT'), ('processor', 'NN'), ('whenever', 'WRB'), ('it', 'PRP'), ('wants', 'VBZ'), ('it', 'PRP'), ('.', '.'), ('for', 'IN'), ('example', 'NN'), (',', ','), ('if', 'IN'), ('it', 'PRP'), ('asks', 'VBZ'), ('to', 'TO'), ('be', 'VB'), ('unblocked', 'JJ'), ('every', 'DT'), ('1', 'CD'), ('second', 'NN'), (',', ','), ('it', 'PRP'), ('is', 'VBZ'), ('unblocked', 'JJ'), ('every', 'DT'), ('1', 'CD'), ('second', 'NN'), (',', ','), ('even', 'RB'), ('if', 'IN'), ('all', 'DT'), ('it', 'PRP'), ('wants', 'VBZ'), ('to', 'TO'), ('do', 'VB'), ('is', 'VBZ'), ('blink', 'VB'), ('the', 'DT'), ('cursor', 'NN'), (',', ','), ('a', 'DT'), ('common', 'JJ'), ('occurrence', 'NN'), ('.', '.'), ('since', 'IN'), ('macos', 'NN'), ('is', 'VBZ'), ('not', 'RB'), ('a', 'DT'), ('real', 'JJ'), ('time', 'NN'), ('system', 'NN'), (',', ','), ('a', 'DT'), ('real', 'JJ'), ('time', 'NN'), ('sleep', 'JJ'), ('period', 'NN'), ('does', 'VBZ'), ('not', 'RB'), ('actually', 'RB'), ('have', 'VB'), ('to', 'TO'), ('be', 'VB'), ('honored', 'VBN'), ('.', '.'), ('in', 'IN'), ('fact', 'NN'), (',', ','), ('in', 'IN'), ('the', 'DT'), ('current', 'JJ'), ('macos', 'NN'), ('power', 'NN'), ('management', 'NN'), ('strategy', 'NN'), (',', ','), ('with', 'IN'), ('power', 'NN'), ('management', 'NN'), ('enabled', 'VBD'), (',', ','), ('the', 'DT'), ('cursor', 'NN'), ('may', 'MD'), ('blink', 'VB'), ('much', 'RB'), ('more', 'RBR'), ('slowly', 'RB'), ('than', 'IN'), ('it', 'PRP'), ('would', 'MD'), ('without', 'IN'), ('power', 'NN'), ('management', 'NN'), ('.', '.'), ('if', 'IN'), ('this', 'DT'), ('kind', 'NN'), ('of', 'IN'), ('behavior', 'NN'), ('is', 'VBZ'), ('acceptable', 'JJ'), (',', ','), ('it', 'PRP'), ('is', 'VBZ'), ('possible', 'JJ'), ('to', 'TO'), ('increase', 'VB'), ('the', 'DT'), ('effectiveness', 'NN'), ('of', 'IN'), ('the', 'DT'), ('simple', 'JJ'), ('scheduling', 'NN'), ('technique', 'NN'), ('by', 'IN'), ('using', 'VBG'), ('what', 'WP'), ('we', 'PRP'), ('call', 'VBP'), ('the', 'DT'), ('sleep', 'JJ'), ('extension', 'NN'), ('technique', 'NN'), ('.', '.'), ('this', 'DT'), ('technique', 'NN'), ('specifies', 'VBZ'), ('a', 'DT'), ('sleep', 'JJ'), ('multiplier', 'NN'), (',', ','), ('a', 'DT'), ('number', 'NN'), ('greater', 'JJR'), ('than', 'IN'), ('one', 'CD'), ('by', 'IN'), ('which', 'WDT'), ('all', 'DT'), ('sleep', 'NN'), ('periods', 'NNS'), ('are', 'VBP'), ('multiplied', 'VBN'), (',', ','), ('thus', 'RB'), ('eliminating', 'VBG'), ('some', 'DT'), ('fraction', 'NN'), ('of', 'IN'), ('the', 'DT'), ('process', 'NN'), ('run', 'NN'), ('intervals', 'NNS'), ('.', '.'), ('we', 'PRP'), ('envision', 'VBP'), ('that', 'IN'), ('the', 'DT'), ('sleep', 'JJ'), ('multiplier', 'NN'), ('can', 'MD'), ('be', 'VB'), ('set', 'VBN'), (',', ','), ('either', 'CC'), ('by', 'IN'), ('the', 'DT'), ('user', 'NN'), ('or', 'CC'), ('by', 'IN'), ('the', 'DT'), ('operating', 'NN'), ('system', 'NN'), (',', ','), ('so', 'RB'), ('as', 'IN'), ('to', 'TO'), ('maximize', 'VB'), ('energy', 'NN'), ('savings', 'NNS'), (',', ','), ('given', 'VBN'), ('a', 'DT'), ('certain', 'JJ'), ('level', 'NN'), ('of', 'IN'), ('performance', 'NN'), ('desired', 'VBN'), ('.', '.'), ('the', 'DT'), ('forced', 'JJ'), ('sleep', 'JJ'), ('period', 'NN'), ('is', 'VBZ'), ('a', 'DT'), ('parameter', 'NN'), ('to', 'TO'), ('be', 'VB'), ('optimized', 'VBN'), (',', ','), ('with', 'IN'), ('the', 'DT'), ('following', 'VBG'), ('tradeoff', 'NN'), (':', ':'), ('a', 'DT'), ('short', 'JJ'), ('sleep', 'NN'), ('period', 'NN'), ('saves', 'VBZ'), ('insufficient', 'JJ'), ('power', 'NN'), (',', ','), ('while', 'IN'), ('a', 'DT'), ('long', 'JJ'), ('sleep', 'JJ'), ('period', 'NN'), ('may', 'MD'), (',', ','), ('in', 'IN'), ('the', 'DT'), ('case', 'NN'), ('that', 'IN'), ('our', 'PRP$'), ('heuristic', 'JJ'), ('fails', 'NNS'), (',', ','), ('block', 'VB'), ('a', 'DT'), ('process', 'NN'), ('that', 'WDT'), ('is', 'VBZ'), ('actually', 'RB'), ('doing', 'VBG'), ('something', 'NN'), ('useful', 'JJ'), ('.', '.'), ('evaluation', 'NN'), ('of', 'IN'), ('a', 'DT'), ('strategy', 'NN'), ('requires', 'VBZ'), ('measuring', 'VBG'), ('two', 'CD'), ('consequences', 'NNS'), ('of', 'IN'), ('that', 'DT'), ('strategy', 'NN'), (':', ':'), ('processor', 'NN'), ('energy', 'NN'), ('savings', 'NNS'), ('and', 'CC'), ('performance', 'NN'), ('impact', 'NN'), ('.', '.'), ('processor', 'NN'), ('energy', 'NN'), ('savings', 'NNS'), ('is', 'VBZ'), ('easy', 'JJ'), ('to', 'TO'), ('deduce', 'VB'), ('from', 'IN'), ('a', 'DT'), ('simulation', 'NN'), (',', ','), ('since', 'IN'), ('it', 'PRP'), ('is', 'VBZ'), ('essentially', 'RB'), ('the', 'DT'), ('percent', 'NN'), ('decrease', 'NN'), ('in', 'IN'), ('the', 'DT'), ('time', 'NN'), ('the', 'DT'), ('processor', 'NN'), ('spends', 'VBZ'), ('in', 'IN'), ('the', 'DT'), ('high-power', 'NN'), ('state', 'NN'), ('.', '.'), ('in', 'IN'), ('contrast', 'NN'), (',', ','), ('performance', 'NN'), ('impact', 'NN'), (',', ','), ('by', 'IN'), ('which', 'WDT'), ('we', 'PRP'), ('mean', 'VBP'), ('the', 'DT'), ('percent', 'NN'), ('increase', 'NN'), ('in', 'IN'), ('workload', 'JJ'), ('runtime', 'NN'), ('as', 'IN'), ('a', 'DT'), ('result', 'NN'), ('of', 'IN'), ('using', 'VBG'), ('a', 'DT'), ('power-saving', 'JJ'), ('strategy', 'NN'), (',', ','), ('is', 'VBZ'), ('difficult', 'JJ'), ('to', 'TO'), ('measure', 'VB'), ('.', '.'), ('this', 'DT'), ('performance', 'NN'), ('penalty', 'NN'), ('stems', 'VBZ'), ('from', 'IN'), ('the', 'DT'), ('fact', 'NN'), ('that', 'IN'), ('a', 'DT'), ('power', 'NN'), ('saving', 'VBG'), ('strategy', 'NN'), ('will', 'MD'), ('sometimes', 'RB'), ('cause', 'VB'), ('the', 'DT'), ('processor', 'NN'), ('not', 'RB'), ('to', 'TO'), ('run', 'VB'), ('when', 'WRB'), ('it', 'PRP'), ('would', 'MD'), ('otherwise', 'RB'), ('be', 'VB'), ('performing', 'VBG'), ('useful', 'JJ'), ('work', 'NN'), ('.', '.'), ('such', 'JJ'), ('work', 'NN'), ('will', 'MD'), ('wind', 'VB'), ('up', 'RP'), ('having', 'VBG'), ('to', 'TO'), ('be', 'VB'), ('scheduled', 'VBN'), ('later', 'RB'), (',', ','), ('making', 'VBG'), ('the', 'DT'), ('workload', 'NN'), ('take', 'NN'), ('longer', 'JJR'), ('to', 'TO'), ('complete', 'VB'), ('.', '.'), ('without', 'IN'), ('detailed', 'JJ'), ('knowledge', 'NN'), ('of', 'IN'), ('the', 'DT'), ('purpose', 'NN'), ('of', 'IN'), ('instruction', 'NN'), ('sequences', 'NNS'), (',', ','), ('it', 'PRP'), ('is', 'VBZ'), ('difficult', 'JJ'), ('for', 'IN'), ('a', 'DT'), ('tracer', 'NN'), ('to', 'TO'), ('accurately', 'RB'), ('determine', 'VB'), ('what', 'WP'), ('work', 'NN'), ('is', 'VBZ'), ('useful', 'JJ'), ('and', 'CC'), ('what', 'WP'), ('is', 'VBZ'), ('not', 'RB'), (',', ','), ('so', 'IN'), ('our', 'PRP$'), ('measure', 'NN'), ('will', 'MD'), ('necessarily', 'RB'), ('be', 'VB'), ('inexact', 'JJ'), ('.', '.'), ('we', 'PRP'), ('have', 'VBP'), ('decided', 'VBN'), ('to', 'TO'), ('use', 'VB'), ('the', 'DT'), ('same', 'JJ'), ('heuristic', 'NN'), ('used', 'VBN'), ('in', 'IN'), ('the', 'DT'), ('greediness', 'NN'), ('technique', 'NN'), ('to', 'TO'), ('determine', 'VB'), ('when', 'WRB'), ('the', 'DT'), ('processor', 'NN'), ('is', 'VBZ'), ('doing', 'VBG'), ('useful', 'JJ'), ('work', 'NN'), ('.', '.'), ('in', 'IN'), ('other', 'JJ'), ('words', 'NNS'), (',', ','), ('we', 'PRP'), ('will', 'MD'), ('call', 'VB'), ('a', 'DT'), ('quantum', 'NN'), ('useful', 'JJ'), ('if', 'IN'), (',', ','), ('during', 'IN'), ('that', 'DT'), ('quantum', 'NN'), (',', ','), ('there', 'EX'), ('is', 'VBZ'), ('any', 'DT'), ('i/o', 'JJ'), ('device', 'NN'), ('read', 'VBD'), ('or', 'CC'), ('write', 'VB'), (',', ','), ('the', 'DT'), ('sound', 'NN'), ('chip', 'NN'), ('is', 'VBZ'), ('on', 'IN'), (',', ','), ('there', 'EX'), ('is', 'VBZ'), ('any', 'DT'), ('change', 'NN'), ('to', 'TO'), ('the', 'DT'), ('cursor', 'NN'), (',', ','), ('or', 'CC'), ('the', 'DT'), ('cursor', 'NN'), ('appears', 'VBZ'), ('as', 'IN'), ('a', 'DT'), ('watch', 'NN'), ('.', '.'), ('it', 'PRP'), ('might', 'MD'), ('be', 'VB'), ('objected', 'VBN'), ('that', 'IN'), ('using', 'VBG'), ('the', 'DT'), ('same', 'JJ'), ('heuristic', 'NN'), ('in', 'IN'), ('the', 'DT'), ('evaluation', 'NN'), ('of', 'IN'), ('a', 'DT'), ('strategy', 'NN'), ('as', 'IN'), ('is', 'VBZ'), ('used', 'VBN'), ('by', 'IN'), ('that', 'DT'), ('strategy', 'NN'), ('is', 'VBZ'), ('invalid', 'JJ'), ('.', '.'), ('however', 'RB'), (',', ','), ('remember', 'VB'), ('that', 'IN'), ('a', 'DT'), ('strategy', 'NN'), ('does', 'VBZ'), ('not', 'RB'), ('have', 'VB'), ('prior', 'JJ'), ('knowledge', 'NN'), ('of', 'IN'), ('when', 'WRB'), ('a', 'DT'), ('quantum', 'NN'), ('will', 'MD'), ('be', 'VB'), ('useful', 'JJ'), (',', ','), ('whereas', 'IN'), ('the', 'DT'), ('evaluation', 'NN'), ('system', 'NN'), ('does', 'VBZ'), ('.', '.'), ('thus', 'RB'), (',', ','), ('we', 'PRP'), ('are', 'VBP'), ('evaluating', 'VBG'), ('the', 'DT'), ('accuracy', 'NN'), ('of', 'IN'), ('our', 'PRP$'), ('guess', 'NN'), ('that', 'IN'), ('a', 'DT'), ('quantum', 'NN'), ('will', 'MD'), ('be', 'VB'), ('useful', 'JJ'), ('or', 'CC'), ('useless', 'JJ'), ('.', '.'), ('we', 'PRP'), ('must', 'MD'), ('also', 'RB'), ('account', 'VB'), ('for', 'IN'), ('the', 'DT'), ('time', 'NN'), ('not', 'RB'), ('spent', 'JJ'), ('inside', 'IN'), ('application', 'NN'), ('code', 'NN'), ('in', 'IN'), ('the', 'DT'), ('original', 'JJ'), ('trace', 'NN'), ('.', '.'), ('we', 'PRP'), ('divide', 'VBP'), ('this', 'DT'), ('time', 'NN'), ('into', 'IN'), ('time', 'NN'), ('spent', 'VBN'), ('switching', 'VBG'), ('processes', 'NNS'), ('in', 'IN'), ('and', 'CC'), ('out', 'IN'), (',', ','), ('time', 'NN'), ('spent', 'VBN'), ('context', 'JJ'), ('switching', 'NN'), (',', ','), ('time', 'NN'), ('the', 'DT'), ('os', 'JJ'), ('spent', 'NN'), ('doing', 'VBG'), ('useful', 'JJ'), ('work', 'NN'), (',', ','), ('and', 'CC'), ('os', 'VB'), ('idle', 'JJ'), ('time', 'NN'), ('.', '.'), ('the', 'DT'), ('os', 'NN'), ('is', 'VBZ'), ('considered', 'VBN'), ('to', 'TO'), ('be', 'VB'), ('doing', 'VBG'), ('useful', 'JJ'), ('work', 'NN'), ('whenever', 'WRB'), ('it', 'PRP'), ('shows', 'VBZ'), ('signs', 'NNS'), ('of', 'IN'), ('activity', 'NN'), ('that', 'WDT'), ('would', 'MD'), ('cause', 'VB'), ('a', 'DT'), ('process', 'NN'), ('quantum', 'NN'), ('to', 'TO'), ('be', 'VB'), ('labeled', 'VBN'), ('useful', 'JJ'), ('.', '.'), ('such', 'JJ'), ('useful', 'JJ'), ('work', 'NN'), ('is', 'VBZ'), ('scheduled', 'VBN'), ('in', 'IN'), ('the', 'DT'), ('simulations', 'NNS'), ('immediately', 'RB'), ('after', 'IN'), ('the', 'DT'), ('quantum', 'NN'), ('that', 'IN'), ('it', 'PRP'), ('originally', 'RB'), ('followed', 'VBD'), ('is', 'VBZ'), ('scheduled', 'VBN'), (',', ','), ('on', 'IN'), ('the', 'DT'), ('assumption', 'NN'), ('that', 'IN'), ('most', 'JJS'), ('significant', 'JJ'), ('os', 'JJ'), ('work', 'NN'), ('is', 'VBZ'), ('necessitated', 'VBN'), ('by', 'IN'), ('the', 'DT'), ('actions', 'NNS'), ('of', 'IN'), ('the', 'DT'), ('process', 'NN'), ('that', 'WDT'), ('just', 'RB'), ('ran', 'VBD'), ('.', '.'), ('idle', 'JJ'), ('time', 'NN'), ('is', 'VBZ'), ('identified', 'VBN'), ('whenever', 'WRB'), ('no', 'DT'), ('process', 'NN'), ('is', 'VBZ'), ('running', 'VBG'), ('and', 'CC'), ('the', 'DT'), ('operating', 'NN'), ('system', 'NN'), ('is', 'VBZ'), ('not', 'RB'), ('doing', 'VBG'), ('useful', 'JJ'), ('work', 'NN'), ('for', 'IN'), ('a', 'DT'), ('continuous', 'JJ'), ('period', 'NN'), ('over', 'IN'), ('16', 'CD'), ('ms.', 'NN'), ('we', 'PRP'), ('chose', 'VBD'), ('this', 'DT'), ('threshold', 'NN'), ('for', 'IN'), ('two', 'CD'), ('reasons', 'NNS'), ('.', '.'), ('first', 'RB'), (',', ','), ('it', 'PRP'), ('is', 'VBZ'), ('the', 'DT'), ('smallest', 'JJS'), ('time', 'NN'), ('unit', 'NN'), ('used', 'VBN'), ('for', 'IN'), ('process', 'NN'), ('scheduling', 'NN'), ('by', 'IN'), ('macos', 'NN'), (',', ','), ('so', 'IN'), ('we', 'PRP'), ('expect', 'VBP'), ('any', 'DT'), ('decision', 'NN'), ('to', 'TO'), ('idle', 'VB'), ('to', 'TO'), ('result', 'VB'), ('in', 'IN'), ('at', 'IN'), ('least', 'JJS'), ('this', 'DT'), ('much', 'JJ'), ('idleness', 'NN'), ('.', '.'), ('finally', 'RB'), (',', ','), ('context', 'JJ'), ('switch', 'NN'), ('time', 'NN'), ('is', 'VBZ'), ('assumed', 'VBN'), ('to', 'TO'), ('occur', 'VB'), ('any', 'DT'), ('time', 'NN'), ('a', 'DT'), ('process', 'NN'), ('switches', 'NNS'), ('in', 'IN'), ('that', 'DT'), ('is', 'VBZ'), ('different', 'JJ'), ('from', 'IN'), ('the', 'DT'), ('one', 'NN'), ('that', 'WDT'), ('last', 'JJ'), ('switched', 'VBD'), ('out', 'RP'), (';', ':'), ('context', 'JJ'), ('switches', 'NNS'), ('are', 'VBP'), ('considered', 'VBN'), ('to', 'TO'), ('take', 'VB'), ('0.681', 'CD'), ('ms', 'NNS'), (',', ','), ('the', 'DT'), ('observed', 'JJ'), ('difference', 'NN'), ('between', 'IN'), ('the', 'DT'), ('average', 'JJ'), ('interprocess', 'JJ'), ('time', 'NN'), ('when', 'WRB'), ('no', 'DT'), ('context', 'NN'), ('switch', 'NN'), ('occurs', 'VBZ'), ('and', 'CC'), ('the', 'DT'), ('average', 'JJ'), ('interprocess', 'JJ'), ('time', 'NN'), ('when', 'WRB'), ('a', 'DT'), ('context', 'NN'), ('switch', 'NN'), ('occurs', 'VBZ'), ('.', '.'), ('there', 'EX'), ('are', 'VBP'), ('three', 'CD'), ('main', 'JJ'), ('tools', 'NNS'), ('we', 'PRP'), ('used', 'VBD'), ('to', 'TO'), ('perform', 'VB'), ('our', 'PRP$'), ('simulations', 'NNS'), ('.', '.'), ('the', 'DT'), ('first', 'JJ'), ('tool', 'NN'), (',', ','), ('idletracer', 'NN'), (',', ','), ('collects', 'VBZ'), ('traces', 'NNS'), ('of', 'IN'), ('events', 'NNS'), ('needed', 'VBN'), ('to', 'TO'), ('simulate', 'VB'), ('the', 'DT'), ('different', 'JJ'), ('strategies', 'NNS'), (',', ','), ('and', 'CC'), ('is', 'VBZ'), ('discussed', 'VBN'), ('in', 'IN'), ('more', 'JJR'), ('detail', 'NN'), ('in', 'IN'), ('.', '.'), ('specifically', 'RB'), (',', ','), ('it', 'PRP'), ('records', 'VBZ'), ('the', 'DT'), ('time', 'NN'), ('of', 'IN'), ('occurrence', 'NN'), ('and', 'CC'), ('other', 'JJ'), ('details', 'NNS'), ('about', 'IN'), ('the', 'DT'), ('following', 'JJ'), ('events', 'NNS'), (':', ':'), ('tracing', 'NN'), ('begins', 'VBZ'), ('or', 'CC'), ('ends', 'VBZ'), (',', ','), ('the', 'DT'), ('machine', 'NN'), ('goes', 'VBZ'), ('to', 'TO'), ('or', 'CC'), ('wakes', 'NNS'), ('from', 'IN'), ('sleep', 'NN'), (',', ','), ('a', 'DT'), ('process', 'NN'), ('begins', 'VBZ'), ('or', 'CC'), ('ends', 'VBZ'), (',', ','), ('the', 'DT'), ('sound', 'NN'), ('chip', 'NN'), ('is', 'VBZ'), ('turned', 'VBN'), ('on', 'IN'), ('or', 'CC'), ('off', 'IN'), (',', ','), ('the', 'DT'), ('cursor', 'NN'), ('changes', 'NNS'), (',', ','), ('the', 'DT'), ('mouse', 'NN'), ('starts', 'VBZ'), ('or', 'CC'), ('stops', 'VBZ'), ('moving', 'VBG'), (',', ','), ('an', 'DT'), ('i/o', 'JJ'), ('device', 'NN'), ('is', 'VBZ'), ('read', 'JJ'), ('or', 'CC'), ('written', 'VBN'), (',', ','), ('a', 'DT'), ('process', 'NN'), ('obtains', 'VBZ'), ('or', 'CC'), ('yields', 'NNS'), ('control', 'NN'), ('of', 'IN'), ('the', 'DT'), ('processor', 'NN'), (',', ','), ('or', 'CC'), ('an', 'DT'), ('event', 'NN'), ('is', 'VBZ'), ('placed', 'VBN'), ('on', 'IN'), ('the', 'DT'), ('event', 'NN'), ('queue', 'NN'), ('.', '.'), ('idletracer', 'NN'), ('only', 'RB'), ('collects', 'VBZ'), ('data', 'NNS'), ('while', 'IN'), ('the', 'DT'), ('machine', 'NN'), ('it', 'PRP'), ('is', 'VBZ'), ('tracing', 'VBG'), ('is', 'VBZ'), ('running', 'VBG'), ('on', 'IN'), ('battery', 'NN'), ('power', 'NN'), (',', ','), ('since', 'IN'), ('that', 'DT'), ('is', 'VBZ'), ('when', 'WRB'), ('processor', 'NN'), ('energy', 'NN'), ('savings', 'NNS'), ('is', 'VBZ'), ('most', 'RBS'), ('important', 'JJ'), (',', ','), ('and', 'CC'), ('we', 'PRP'), ('want', 'VBP'), ('our', 'PRP$'), ('analysis', 'NN'), ('to', 'TO'), ('reflect', 'VB'), ('the', 'DT'), ('appropriate', 'JJ'), ('workload', 'NN'), ('.', '.'), ('also', 'RB'), (',', ','), ('idletracer', 'NN'), ('shuts', 'NNS'), ('off', 'RP'), ('processor', 'NN'), ('power', 'NN'), ('management', 'NN'), ('while', 'IN'), ('it', 'PRP'), ('is', 'VBZ'), ('tracing', 'VBG'), (',', ','), ('so', 'IN'), ('that', 'IN'), ('the', 'DT'), ('traces', 'NNS'), ('it', 'PRP'), ('uses', 'VBZ'), ('are', 'VBP'), ('not', 'RB'), ('confounded', 'VBN'), ('by', 'IN'), ('the', 'DT'), ('current', 'JJ'), ('strategy', 'NN'), ('and', 'CC'), ('thus', 'RB'), ('can', 'MD'), ('be', 'VB'), ('used', 'VBN'), ('to', 'TO'), ('simulate', 'VB'), ('any', 'DT'), ('strategy', 'NN'), ('.', '.'), ('idletracer', 'NN'), ('makes', 'VBZ'), ('use', 'NN'), ('of', 'IN'), ('the', 'DT'), ('setc', 'NN'), ('module', 'NN'), (',', ','), ('a', 'DT'), ('set', 'NN'), ('of', 'IN'), ('routines', 'NNS'), ('for', 'IN'), ('tracing', 'VBG'), ('and', 'CC'), ('counting', 'VBG'), ('system', 'NN'), ('events', 'NNS'), ('.', '.'), ('the', 'DT'), ('second', 'JJ'), ('tool', 'NN'), (',', ','), ('itmsim', 'NN'), (',', ','), ('simulates', 'VBZ'), ('power', 'NN'), ('management', 'NN'), ('methods', 'NNS'), ('using', 'VBG'), ('the', 'DT'), ('current', 'JJ'), ('macos', 'NN'), ('inactivity-threshold', 'JJ'), ('strategy', 'NN'), (',', ','), ('and', 'CC'), ('provides', 'VBZ'), ('a', 'DT'), ('basis', 'NN'), ('for', 'IN'), ('comparison', 'NN'), ('.', '.'), ('in', 'IN'), ('other', 'JJ'), ('words', 'NNS'), (',', ','), ('it', 'PRP'), ('simulates', 'VBZ'), ('the', 'DT'), ('strategy', 'NN'), ('that', 'IN'), ('turns', 'VBZ'), ('off', 'IN'), ('the', 'DT'), ('processor', 'NN'), ('when', 'WRB'), ('there', 'EX'), ('has', 'VBZ'), ('been', 'VBN'), ('no', 'DT'), ('activity', 'NN'), ('in', 'IN'), ('the', 'DT'), ('last', 'JJ'), ('two', 'CD'), ('seconds', 'NNS'), ('and', 'CC'), ('no', 'DT'), ('i/o', 'NN'), ('activity', 'NN'), ('in', 'IN'), ('the', 'DT'), ('last', 'JJ'), ('fifteen', 'JJ'), ('seconds', 'NNS'), ('.', '.'), ('in', 'IN'), ('actuality', 'NN'), (',', ','), ('during', 'IN'), ('periods', 'NNS'), ('that', 'IN'), ('the', 'DT'), ('processor', 'NN'), ('is', 'VBZ'), ('supposed', 'VBN'), ('to', 'TO'), ('be', 'VB'), ('off', 'RP'), (',', ','), ('macos', 'NNS'), ('will', 'MD'), ('occasionally', 'RB'), ('turn', 'VB'), ('the', 'DT'), ('processor', 'NN'), ('on', 'IN'), ('for', 'IN'), ('long', 'RB'), ('enough', 'RB'), ('to', 'TO'), ('schedule', 'VB'), ('a', 'DT'), ('process', 'NN'), ('quantum', 'NN'), ('.', '.'), ('this', 'DT'), ('is', 'VBZ'), ('done', 'VBN'), ('to', 'TO'), ('give', 'VB'), ('processes', 'NNS'), ('a', 'DT'), ('chance', 'NN'), ('to', 'TO'), ('demonstrate', 'VB'), ('some', 'DT'), ('activity', 'NN'), ('and', 'CC'), ('put', 'VBD'), ('an', 'DT'), ('end', 'NN'), ('to', 'TO'), ('processor', 'VB'), ('power', 'NN'), ('management', 'NN'), (',', ','), ('in', 'IN'), ('case', 'NN'), ('the', 'DT'), ('processor', 'NN'), ('was', 'VBD'), ('shut', 'VBN'), ('off', 'RP'), ('too', 'RB'), ('soon', 'RB'), ('.', '.'), ('the', 'DT'), ('details', 'NNS'), ('of', 'IN'), ('how', 'WRB'), ('process', 'JJ'), ('quanta', 'NN'), ('are', 'VBP'), ('scheduled', 'VBN'), ('while', 'IN'), ('the', 'DT'), ('processor', 'NN'), ('is', 'VBZ'), ('supposed', 'VBN'), ('to', 'TO'), ('be', 'VB'), ('off', 'RP'), ('is', 'VBZ'), ('proprietary', 'JJ'), ('and', 'CC'), ('thus', 'RB'), ('is', 'VBZ'), ('not', 'RB'), ('described', 'VBN'), ('here', 'RB'), (';', ':'), ('however', 'RB'), (',', ','), ('itmsim', 'NN'), ('does', 'VBZ'), ('attempt', 'VB'), ('to', 'TO'), ('simulate', 'VB'), ('this', 'DT'), ('aspect', 'NN'), ('of', 'IN'), ('the', 'DT'), ('strategy', 'NN'), ('.', '.'), ('to', 'TO'), ('give', 'VB'), ('an', 'DT'), ('idea', 'NN'), ('of', 'IN'), ('the', 'DT'), ('consequences', 'NNS'), ('of', 'IN'), ('this', 'DT'), ('proprietary', 'JJ'), ('modification', 'NN'), (',', ','), ('our', 'PRP$'), ('simulations', 'NNS'), ('showed', 'VBD'), ('that', 'IN'), ('for', 'IN'), ('the', 'DT'), ('aggregate', 'JJ'), ('workload', 'NN'), ('we', 'PRP'), ('studied', 'VBD'), (',', ','), ('it', 'PRP'), ('decreased', 'VBD'), ('the', 'DT'), ('performance', 'NN'), ('impact', 'NN'), ('measure', 'NN'), ('from', 'IN'), ('1.93', 'CD'), ('%', 'NN'), ('to', 'TO'), ('1.84', 'CD'), ('%', 'NN'), (',', ','), ('at', 'IN'), ('the', 'DT'), ('expense', 'NN'), ('of', 'IN'), ('decreasing', 'VBG'), ('processor', 'NN'), ('off', 'IN'), ('time', 'NN'), ('from', 'IN'), ('29.77', 'CD'), ('%', 'NN'), ('to', 'TO'), ('28.79', 'CD'), ('%', 'NN'), ('.', '.'), ('this', 'DT'), ('particular', 'JJ'), ('proprietary', 'JJ'), ('modification', 'NN'), (',', ','), ('therefore', 'RB'), (',', ','), ('has', 'VBZ'), ('only', 'RB'), ('a', 'DT'), ('trivial', 'JJ'), ('effect', 'NN'), ('on', 'IN'), ('the', 'DT'), ('power', 'NN'), ('savings', 'NNS'), ('.', '.'), ('table', 'JJ'), ('1', 'CD'), (':', ':'), ('information', 'NN'), ('about', 'IN'), ('the', 'DT'), ('six', 'CD'), ('users', 'NNS'), ('traced', 'VBD'), ('.', '.'), ('useful', 'JJ'), ('quanta', 'NN'), ('are', 'VBP'), ('immediately', 'RB'), ('scheduled', 'VBN'), (',', ','), ('delaying', 'VBG'), ('the', 'DT'), ('rest', 'NN'), ('of', 'IN'), ('the', 'DT'), ('trace', 'NN'), ('execution', 'NN'), ('and', 'CC'), ('thus', 'RB'), ('contributing', 'VBG'), ('to', 'TO'), ('the', 'DT'), ('performance', 'NN'), ('impact', 'NN'), ('measure', 'NN'), ('.', '.'), ('non-useful', 'JJ'), ('quanta', 'NN'), ('are', 'VBP'), ('discarded', 'VBN'), ('and', 'CC'), ('never', 'RB'), ('scheduled', 'VBN'), ('.', '.'), ('any', 'DT'), ('useful', 'JJ'), ('os', 'JJ'), ('time', 'NN'), ('associated', 'VBN'), ('with', 'IN'), ('these', 'DT'), ('quanta', 'NN'), ('is', 'VBZ'), ('also', 'RB'), ('immediately', 'RB'), ('scheduled', 'VBN'), (',', ','), ('contributing', 'VBG'), ('to', 'TO'), ('the', 'DT'), ('performance', 'NN'), ('impact', 'NN'), ('measure', 'NN'), ('.', '.'), ('the', 'DT'), ('third', 'JJ'), ('tool', 'NN'), (',', ','), ('asmsim', 'NN'), (',', ','), ('simulates', 'VBZ'), ('the', 'DT'), ('basic', 'JJ'), ('strategy', 'NN'), ('with', 'IN'), ('the', 'DT'), ('simple', 'JJ'), ('scheduling', 'NN'), ('technique', 'NN'), (',', ','), ('along', 'IN'), ('with', 'IN'), ('zero', 'CD'), ('or', 'CC'), ('more', 'JJR'), ('of', 'IN'), ('our', 'PRP$'), ('two', 'CD'), ('other', 'JJ'), ('suggested', 'VBD'), ('techniques', 'NNS'), (':', ':'), ('sleep', 'JJ'), ('extension', 'NN'), ('and', 'CC'), ('greediness', 'NN'), ('.', '.'), ('the', 'DT'), ('parameters', 'NNS'), ('for', 'IN'), ('these', 'DT'), ('techniques', 'NNS'), ('may', 'MD'), ('be', 'VB'), ('varied', 'VBN'), ('at', 'IN'), ('will', 'MD'), ('in', 'IN'), ('the', 'DT'), ('simulations', 'NNS'), ('.', '.'), ('when', 'WRB'), (',', ','), ('in', 'IN'), ('the', 'DT'), ('simulation', 'NN'), (',', ','), ('an', 'DT'), ('event', 'NN'), ('becomes', 'VBZ'), ('ready', 'JJ'), ('for', 'IN'), ('a', 'DT'), ('process', 'NN'), (',', ','), ('all', 'DT'), ('quanta', 'NN'), ('of', 'IN'), ('that', 'DT'), ('process', 'NN'), ('preceding', 'VBG'), ('the', 'DT'), ('receipt', 'NN'), ('of', 'IN'), ('the', 'DT'), ('ready', 'JJ'), ('event', 'NN'), ('that', 'WDT'), ('have', 'VBP'), ('not', 'RB'), ('yet', 'RB'), ('been', 'VBN'), ('scheduled', 'VBN'), ('will', 'MD'), ('be', 'VB'), ('treated', 'VBN'), ('as', 'IN'), ('described', 'VBN'), ('above', 'IN'), (',', ','), ('i.e', 'NN'), ('.', '.'), ('even', 'RB'), ('for', 'IN'), ('periodic', 'JJ'), ('processes', 'NNS'), (',', ','), ('we', 'PRP'), ('schedule', 'VBP'), ('quanta', 'RB'), ('in', 'IN'), ('the', 'DT'), ('order', 'NN'), ('in', 'IN'), ('which', 'WDT'), ('they', 'PRP'), ('occurred', 'VBD'), ('.', '.'), ('for', 'IN'), ('example', 'NN'), (',', ','), ('if', 'IN'), ('after', 'IN'), ('its', 'PRP$'), ('quantum', 'NN'), ('i', 'NN'), ('a', 'DT'), ('process', 'NN'), ('originally', 'RB'), ('slept', 'VBD'), ('for', 'IN'), ('1', 'CD'), ('second', 'JJ'), ('but', 'CC'), ('is', 'VBZ'), ('actually', 'RB'), ('awoken', 'VBN'), ('after', 'IN'), ('4', 'CD'), ('seconds', 'NNS'), (',', ','), ('then', 'RB'), ('at', 'IN'), ('that', 'DT'), ('point', 'NN'), ('we', 'PRP'), ('schedule', 'VBP'), ('quantum', 'JJ'), ('i', 'NN'), ('+', 'VBP'), ('1', 'CD'), (',', ','), ('not', 'RB'), ('some', 'DT'), ('later', 'JJ'), ('quantum', 'NN'), ('.', '.'), ('note', 'NN'), ('that', 'IN'), ('this', 'DT'), ('approach', 'NN'), ('may', 'MD'), ('cause', 'VB'), ('inaccuracies', 'NNS'), ('in', 'IN'), ('the', 'DT'), ('simulation', 'NN'), (',', ','), ('since', 'IN'), ('the', 'DT'), ('process', 'NN'), ('might', 'MD'), ('in', 'IN'), ('reality', 'NN'), ('check', 'VB'), ('how', 'WRB'), ('long', 'JJ'), ('it', 'PRP'), ('has', 'VBZ'), ('been', 'VBN'), ('since', 'IN'), ('it', 'PRP'), ('last', 'JJ'), ('went', 'VBD'), ('to', 'TO'), ('sleep', 'VB'), (',', ','), ('and', 'CC'), ('act', 'NN'), ('differently', 'RB'), ('seeing', 'VBG'), ('that', 'IN'), ('4', 'CD'), ('seconds', 'NNS'), ('have', 'VBP'), ('passed', 'VBN'), ('than', 'IN'), ('it', 'PRP'), ('did', 'VBD'), ('when', 'WRB'), ('only', 'RB'), ('1', 'CD'), ('second', 'JJ'), ('had', 'VBD'), ('passed', 'VBN'), ('.', '.'), ('we', 'PRP'), ('expect', 'VBP'), ('and', 'CC'), ('hope', 'VBP'), ('that', 'IN'), ('such', 'JJ'), ('dependence', 'NN'), ('of', 'IN'), ('process', 'NN'), ('action', 'NN'), ('on', 'IN'), ('time', 'NN'), ('is', 'VBZ'), ('rare', 'JJ'), ('enough', 'RB'), ('that', 'IN'), ('this', 'DT'), ('does', 'VBZ'), ('not', 'RB'), ('introduce', 'VB'), ('significant', 'JJ'), ('errors', 'NNS'), ('into', 'IN'), ('the', 'DT'), ('results', 'NNS'), ('of', 'IN'), ('our', 'PRP$'), ('simulations', 'NNS'), ('.', '.'), ('in', 'IN'), ('this', 'DT'), ('section', 'NN'), (',', ','), ('we', 'PRP'), ('refer', 'VBP'), ('to', 'TO'), ('the', 'DT'), ('current', 'JJ'), ('macos', 'NN'), ('strategy', 'NN'), ('as', 'IN'), ('strategy', 'NN'), ('c', 'NN'), ('and', 'CC'), ('the', 'DT'), ('basic', 'JJ'), ('strategy', 'NN'), ('as', 'IN'), ('strategy', 'NN'), ('b.', 'IN'), ('we', 'PRP'), ('append', 'VBP'), ('the', 'DT'), ('letter', 'NN'), ('i', 'NN'), ('to', 'TO'), ('indicate', 'VB'), ('use', 'NN'), ('of', 'IN'), ('the', 'DT'), ('simple', 'JJ'), ('schedule', 'NN'), ('technique', 'NN'), (',', ','), ('append', 'VBP'), ('the', 'DT'), ('letter', 'NN'), ('g', 'NN'), ('to', 'TO'), ('indicate', 'VB'), ('use', 'NN'), ('of', 'IN'), ('the', 'DT'), ('greediness', 'NN'), ('technique', 'NN'), (',', ','), ('and', 'CC'), ('append', 'VB'), ('the', 'DT'), ('letter', 'NN'), ('s', 'NN'), ('for', 'IN'), ('the', 'DT'), ('sleep', 'JJ'), ('extension', 'NN'), ('technique', 'NN'), ('.', '.'), ('note', 'NN'), ('that', 'IN'), ('we', 'PRP'), ('never', 'RB'), ('simulate', 'VBP'), ('the', 'DT'), ('greediness', 'NN'), ('technique', 'NN'), ('or', 'CC'), ('sleep', 'JJ'), ('extension', 'NN'), ('technique', 'NN'), ('without', 'IN'), ('the', 'DT'), ('simple', 'JJ'), ('scheduling', 'NN'), ('technique', 'NN'), (',', ','), ('since', 'IN'), ('they', 'PRP'), ('are', 'VBP'), ('designed', 'VBN'), ('as', 'IN'), ('supplements', 'NNS'), ('to', 'TO'), ('the', 'DT'), ('simple', 'JJ'), ('scheduling', 'NN'), ('technique', 'NN'), ('.', '.'), ('the', 'DT'), ('first', 'JJ'), ('thing', 'NN'), ('we', 'PRP'), ('shall', 'MD'), ('do', 'VB'), ('is', 'VBZ'), ('determine', 'VB'), ('the', 'DT'), ('optimal', 'JJ'), ('energy', 'NN'), ('savings', 'NNS'), ('attainable', 'JJ'), ('.', '.'), ('an', 'DT'), ('optimum', 'JJ'), ('strategy', 'NN'), ('would', 'MD'), ('schedule', 'VB'), ('only', 'RB'), ('time', 'NN'), ('that', 'DT'), ('was', 'VBD'), ('spent', 'VBN'), ('doing', 'VBG'), ('useful', 'JJ'), ('work', 'NN'), (',', ','), ('and', 'CC'), ('would', 'MD'), ('entirely', 'RB'), ('omit', 'VB'), ('non-useful', 'JJ'), ('time', 'NN'), (';', ':'), ('its', 'PRP$'), ('performance', 'NN'), ('impact', 'NN'), ('would', 'MD'), ('be', 'VB'), ('zero', 'CD'), (',', ','), ('since', 'IN'), ('it', 'PRP'), ('would', 'MD'), ('have', 'VB'), ('foreknowledge', 'NN'), ('of', 'IN'), ('when', 'WRB'), ('useful', 'JJ'), ('work', 'NN'), ('would', 'MD'), ('occur', 'VB'), ('and', 'CC'), ('arrange', 'VB'), ('to', 'TO'), ('have', 'VB'), ('the', 'DT'), ('processor', 'NN'), ('on', 'IN'), ('when', 'WRB'), ('it', 'PRP'), ('happens', 'VBZ'), ('.', '.'), ('simulation', 'NN'), ('indicates', 'VBZ'), ('that', 'IN'), ('such', 'PDT'), ('a', 'DT'), ('strategy', 'NN'), ('would', 'MD'), ('yield', 'VB'), ('an', 'DT'), ('energy', 'NN'), ('savings', 'NNS'), ('of', 'IN'), ('82.33', 'CD'), ('%', 'NN'), (';', ':'), ('thus', 'RB'), (',', ','), ('this', 'DT'), ('is', 'VBZ'), ('an', 'DT'), ('absolute', 'JJ'), ('ceiling', 'NN'), ('on', 'IN'), ('what', 'WP'), ('can', 'MD'), ('be', 'VB'), ('obtained', 'VBN'), ('by', 'IN'), ('any', 'DT'), ('realizable', 'JJ'), ('strategy', 'NN'), ('.', '.'), ('this', 'DT'), ('is', 'VBZ'), ('a', 'DT'), ('remarkably', 'RB'), ('high', 'JJ'), ('figure', 'NN'), ('--', ':'), ('what', 'WP'), ('it', 'PRP'), ('says', 'VBZ'), ('is', 'VBZ'), ('that', 'IN'), ('the', 'DT'), ('processor', 'NN'), ('is', 'VBZ'), ('doing', 'VBG'), ('useful', 'JJ'), ('computation', 'NN'), ('during', 'IN'), ('only', 'RB'), ('17.67', 'CD'), ('%', 'NN'), ('of', 'IN'), ('the', 'DT'), ('29.56', 'CD'), ('hours', 'NNS'), ('of', 'IN'), ('the', 'DT'), ('trace', 'NN'), (';', ':'), ('the', 'DT'), ('rest', 'NN'), ('of', 'IN'), ('the', 'DT'), ('time', 'NN'), ('is', 'VBZ'), ('busy', 'JJ'), ('waiting', 'VBG'), ('by', 'IN'), ('a', 'DT'), ('user', 'JJ'), ('process', 'NN'), ('or', 'CC'), ('idling', 'NN'), ('.', '.'), ('the', 'DT'), ('second', 'JJ'), ('simulation', 'NN'), ('results', 'NNS'), ('concern', 'NN'), ('strategy', 'NN'), ('c.', 'NN'), ('we', 'PRP'), ('find', 'VBP'), ('from', 'IN'), ('simulation', 'NN'), ('that', 'WDT'), ('strategy', 'NN'), ('c', 'VBZ'), ('yields', 'NNS'), ('an', 'DT'), ('energy', 'NN'), ('savings', 'NNS'), ('of', 'IN'), ('28.79', 'CD'), ('%', 'NN'), ('along', 'IN'), ('with', 'IN'), ('a', 'DT'), ('performance', 'NN'), ('impact', 'NN'), ('measure', 'NN'), ('of', 'IN'), ('1.84', 'CD'), ('%', 'NN'), ('.', '.'), ('in', 'IN'), ('other', 'JJ'), ('words', 'NNS'), (',', ','), ('it', 'PRP'), ('causes', 'VBZ'), ('the', 'DT'), ('processor', 'NN'), ('to', 'TO'), ('consume', 'VB'), ('only', 'RB'), ('71.21', 'CD'), ('%', 'NN'), ('of', 'IN'), ('the', 'DT'), ('energy', 'NN'), ('it', 'PRP'), ('would', 'MD'), ('without', 'IN'), ('a', 'DT'), ('power-saving', 'JJ'), ('strategy', 'NN'), (',', ','), ('but', 'CC'), ('increases', 'VBZ'), ('overall', 'JJ'), ('workload', 'NN'), ('completion', 'NN'), ('time', 'NN'), ('by', 'IN'), ('1.84', 'CD'), ('%', 'NN'), ('.', '.'), ('the', 'DT'), ('strategy', 'NN'), ('increases', 'VBZ'), ('processor', 'NN'), ('energy', 'NN'), ('consumption', 'NN'), ('by', 'IN'), ('303', 'CD'), ('%', 'NN'), ('compared', 'VBN'), ('with', 'IN'), ('the', 'DT'), ('optimal', 'JJ'), ('strategy', 'NN'), (',', ','), ('since', 'IN'), ('it', 'PRP'), ('only', 'RB'), ('recovers', 'VBZ'), ('35', 'CD'), ('%', 'NN'), ('of', 'IN'), ('the', 'DT'), ('real', 'JJ'), ('idle', 'JJ'), ('time', 'NN'), ('.', '.'), ('note', 'NN'), ('also', 'RB'), ('that', 'DT'), ('since', 'IN'), ('only', 'RB'), ('17.67', 'CD'), ('%', 'NN'), ('of', 'IN'), ('the', 'DT'), ('cpu', 'NN'), ('time', 'NN'), ('is', 'VBZ'), ('actually', 'RB'), ('useful', 'JJ'), (',', ','), ('the', 'DT'), ('performance', 'NN'), ('impact', 'NN'), ('of', 'IN'), ('1.84', 'CD'), ('%', 'NN'), ('means', 'VBZ'), ('that', 'IN'), ('we', 'PRP'), ('have', 'VBP'), ('misclassified', 'VBN'), ('10', 'CD'), ('%', 'NN'), ('of', 'IN'), ('the', 'DT'), ('useful', 'JJ'), ('cpu', 'NN'), ('time', 'NN'), (',', ','), ('and', 'CC'), ('have', 'VBP'), ('had', 'VBN'), ('to', 'TO'), ('run', 'VB'), ('that', 'DT'), ('work', 'NN'), ('in', 'IN'), ('a', 'DT'), ('delayed', 'JJ'), ('manner', 'NN'), ('.', '.'), ('thus', 'RB'), (',', ','), ('the', 'DT'), ('actual', 'JJ'), ('real', 'JJ'), ('time', 'NN'), ('delay', 'NN'), ('perceived', 'VBN'), ('by', 'IN'), ('the', 'DT'), ('user', 'NN'), ('may', 'MD'), ('not', 'RB'), ('be', 'VB'), ('1.84', 'CD'), ('%', 'NN'), (',', ','), ('but', 'CC'), ('may', 'MD'), ('be', 'VB'), ('closer', 'JJR'), ('to', 'TO'), ('10', 'CD'), ('%', 'NN'), (',', ','), ('since', 'IN'), ('the', 'DT'), ('user', 'NN'), ('waits', 'VBZ'), ('for', 'IN'), ('a', 'DT'), ('reply', 'NN'), ('only', 'RB'), ('during', 'IN'), ('periods', 'NNS'), ('of', 'IN'), ('real', 'JJ'), (',', ','), ('useful', 'JJ'), (',', ','), ('work', 'NN'), ('.', '.'), ('the', 'DT'), ('next', 'JJ'), ('simulation', 'NN'), ('results', 'NNS'), ('concern', 'NN'), ('strategy', 'NN'), ('b', 'NN'), (',', ','), ('which', 'WDT'), ('turns', 'VBZ'), ('off', 'RP'), ('the', 'DT'), ('process', 'NN'), ('when', 'WRB'), ('and', 'CC'), ('only', 'RB'), ('when', 'WRB'), ('there', 'EX'), ('was', 'VBD'), ('idling', 'VBG'), ('in', 'IN'), ('the', 'DT'), ('original', 'JJ'), ('trace', 'NN'), ('.', '.'), ('the', 'DT'), ('traces', 'NNS'), ('were', 'VBD'), ('collected', 'VBN'), ('from', 'IN'), ('six', 'CD'), ('users', 'NNS'), (',', ','), ('each', 'DT'), ('an', 'DT'), ('engineer', 'NN'), ('at', 'IN'), ('apple', 'NN'), ('computer', 'NN'), (',', ','), ('inc.', 'VBP'), ('table', 'JJ'), ('1', 'CD'), ('indicates', 'VBZ'), ('data', 'NNS'), ('about', 'IN'), ('the', 'DT'), ('traces', 'NNS'), ('obtained', 'VBN'), ('from', 'IN'), ('each', 'DT'), ('user', 'NN'), ('and', 'CC'), ('the', 'DT'), ('machines', 'NNS'), ('on', 'IN'), ('which', 'WDT'), ('those', 'DT'), ('traces', 'NNS'), ('were', 'VBD'), ('collected', 'VBN'), ('.', '.'), ('much', 'RB'), ('more', 'RBR'), ('detailed', 'JJ'), ('discussion', 'NN'), ('of', 'IN'), ('the', 'DT'), ('traces', 'NNS'), ('and', 'CC'), ('their', 'PRP$'), ('collection', 'NN'), ('appears', 'VBZ'), ('in', 'IN'), ('.', '.'), ('most', 'JJS'), ('results', 'NNS'), ('we', 'PRP'), ('present', 'VBP'), ('will', 'MD'), ('concern', 'NN'), ('the', 'DT'), ('aggregate', 'NN'), ('workload', 'NN'), (',', ','), ('i.e', 'NN'), ('.', '.'), ('figure', 'NN'), ('1', 'CD'), (':', ':'), ('performance', 'NN'), ('impact', 'NN'), ('measure', 'NN'), ('versus', 'NN'), ('processor', 'NN'), ('energy', 'NN'), ('savings', 'NNS'), ('for', 'IN'), ('strategy', 'NN'), ('bis', 'NN'), ('with', 'IN'), ('various', 'JJ'), ('sleep', 'JJ'), ('multipliers', 'NNS'), ('.', '.'), ('certain', 'JJ'), ('points', 'NNS'), ('are', 'VBP'), ('labeled', 'VBN'), ('with', 'IN'), ('the', 'DT'), ('sleep', 'JJ'), ('multipliers', 'NNS'), ('to', 'TO'), ('which', 'WDT'), ('they', 'PRP'), ('correspond', 'VBP'), ('.', '.'), ('thus', 'RB'), (',', ','), ('we', 'PRP'), ('see', 'VBP'), ('that', 'IN'), ('the', 'DT'), ('basic', 'JJ'), ('strategy', 'NN'), ('without', 'IN'), ('any', 'DT'), ('new', 'JJ'), ('process', 'NN'), ('management', 'NN'), ('techniques', 'NNS'), ('saves', 'VBZ'), ('slightly', 'RB'), ('more', 'RBR'), ('energy', 'NN'), ('than', 'IN'), ('the', 'DT'), ('current', 'JJ'), ('technique', 'NN'), (',', ','), ('and', 'CC'), ('has', 'VBZ'), ('no', 'DT'), ('impact', 'NN'), ('on', 'IN'), ('performance', 'NN'), ('.', '.'), ('however', 'RB'), (',', ','), ('it', 'PRP'), ('causes', 'VBZ'), ('the', 'DT'), ('processor', 'NN'), ('to', 'TO'), ('consume', 'VB'), ('285', 'CD'), ('%', 'NN'), ('more', 'JJR'), ('energy', 'NN'), ('than', 'IN'), ('under', 'IN'), ('the', 'DT'), ('optimal', 'JJ'), ('strategy', 'NN'), (',', ','), ('since', 'IN'), ('it', 'PRP'), ('only', 'RB'), ('recovers', 'VBZ'), ('39', 'CD'), ('%', 'NN'), ('of', 'IN'), ('real', 'JJ'), ('idle', 'JJ'), ('time', 'NN'), ('.', '.'), ('the', 'DT'), ('next', 'JJ'), ('simulation', 'NN'), ('results', 'NNS'), ('concern', 'NN'), ('strategy', 'NN'), ('bi', 'NN'), ('.', '.'), ('strategy', 'NN'), ('bi', 'NN'), ('has', 'VBZ'), ('an', 'DT'), ('energy', 'NN'), ('savings', 'NNS'), ('of', 'IN'), ('47.10', 'CD'), ('%', 'NN'), ('and', 'CC'), ('a', 'DT'), ('performance', 'NN'), ('impact', 'NN'), ('of', 'IN'), ('1.08', 'CD'), ('%', 'NN'), ('.', '.'), ('thus', 'RB'), (',', ','), ('we', 'PRP'), ('see', 'VBP'), ('that', 'DT'), ('strategy', 'NN'), ('bi', 'NN'), ('decreases', 'VBZ'), ('processor', 'NN'), ('energy', 'NN'), ('consumption', 'NN'), ('by', 'IN'), ('26', 'CD'), ('%', 'NN'), ('and', 'CC'), ('decreases', 'VBZ'), ('workload', 'JJ'), ('completion', 'NN'), ('time', 'NN'), ('by', 'IN'), ('0.7', 'CD'), ('%', 'NN'), ('compared', 'VBN'), ('to', 'TO'), ('strategy', 'NN'), ('c.', 'NNS'), ('compared', 'VBN'), ('to', 'TO'), ('the', 'DT'), ('optimal', 'JJ'), ('strategy', 'NN'), (',', ','), ('it', 'PRP'), ('causes', 'VBZ'), ('the', 'DT'), ('processor', 'NN'), ('to', 'TO'), ('consume', 'VB'), ('199', 'CD'), ('%', 'NN'), ('more', 'JJR'), ('energy', 'NN'), (',', ','), ('since', 'IN'), ('it', 'PRP'), ('only', 'RB'), ('recovers', 'VBZ'), ('57', 'CD'), ('%', 'NN'), ('of', 'IN'), ('real', 'JJ'), ('idle', 'JJ'), ('time', 'NN'), ('.', '.'), ('the', 'DT'), ('next', 'JJ'), ('simulation', 'NN'), ('results', 'NNS'), ('concern', 'NN'), ('strategy', 'NN'), ('bis', 'NN'), ('.', '.'), ('figure', 'NN'), ('1', 'CD'), ('shows', 'VBZ'), ('the', 'DT'), ('performance', 'NN'), ('versus', 'NN'), ('energy', 'NN'), ('savings', 'NNS'), ('graph', 'NN'), ('for', 'IN'), ('variations', 'NNS'), ('of', 'IN'), ('this', 'DT'), ('strategy', 'NN'), ('using', 'VBG'), ('sleep', 'JJ'), ('multipliers', 'NNS'), ('between', 'IN'), ('1', 'CD'), ('and', 'CC'), ('10.', 'CD'), ('we', 'PRP'), ('see', 'VBP'), ('that', 'IN'), ('the', 'DT'), ('point', 'NN'), ('at', 'IN'), ('which', 'WDT'), ('this', 'DT'), ('strategy', 'NN'), ('has', 'VBZ'), ('performance', 'NN'), ('impact', 'NN'), ('of', 'IN'), ('1.84', 'CD'), ('%', 'NN'), (',', ','), ('equal', 'JJ'), ('to', 'TO'), ('that', 'DT'), ('of', 'IN'), ('strategy', 'NN'), ('c', 'NNS'), (',', ','), ('corresponds', 'NNS'), ('to', 'TO'), ('a', 'DT'), ('sleep', 'JJ'), ('multiplier', 'NN'), ('of', 'IN'), ('2.25', 'CD'), ('and', 'CC'), ('a', 'DT'), ('processor', 'NN'), ('energy', 'NN'), ('savings', 'NNS'), ('of', 'IN'), ('51.72', 'CD'), ('%', 'NN'), ('.', '.'), ('thus', 'RB'), (',', ','), ('we', 'PRP'), ('see', 'VBP'), ('that', 'IN'), (',', ','), ('comparing', 'VBG'), ('strategies', 'NNS'), ('bis', 'NN'), ('and', 'CC'), ('c', 'VB'), ('on', 'IN'), ('equal', 'JJ'), ('performance', 'NN'), ('grounds', 'NNS'), (',', ','), ('strategy', 'NN'), ('bis', 'NN'), ('decreases', 'VBZ'), ('processor', 'NN'), ('energy', 'NN'), ('consumption', 'NN'), ('by', 'IN'), ('32', 'CD'), ('%', 'NN'), ('.', '.'), ('increasing', 'VBG'), ('the', 'DT'), ('sleep', 'NN'), ('multiplier', 'NN'), ('to', 'TO'), ('10', 'CD'), ('saves', 'NNS'), ('55.93', 'CD'), ('%', 'NN'), ('of', 'IN'), ('the', 'DT'), ('cpu', 'NN'), ('energy', 'NN'), (',', ','), ('with', 'IN'), ('a', 'DT'), ('performance', 'NN'), ('impact', 'NN'), ('of', 'IN'), ('2.84', 'CD'), ('%', 'NN'), ('.', '.'), ('note', 'NN'), (',', ','), ('however', 'RB'), (',', ','), ('that', 'IN'), ('the', 'DT'), ('performance', 'NN'), ('impact', 'NN'), ('measure', 'NN'), ('does', 'VBZ'), ('not', 'RB'), ('tell', 'VB'), ('the', 'DT'), ('whole', 'JJ'), ('story', 'NN'), ('in', 'IN'), ('this', 'DT'), ('case', 'NN'), ('.', '.'), ('generally', 'RB'), (',', ','), ('a', 'DT'), ('real', 'JJ'), ('time', 'NN'), ('delay', 'NN'), ('is', 'VBZ'), ('used', 'VBN'), ('by', 'IN'), ('some', 'DT'), ('process', 'NN'), ('that', 'WDT'), ('wakes', 'VBZ'), ('up', 'RP'), (',', ','), ('checks', 'NNS'), ('something', 'NN'), (',', ','), ('and', 'CC'), ('if', 'IN'), ('certain', 'JJ'), ('conditions', 'NNS'), ('are', 'VBP'), ('met', 'VBN'), (',', ','), ('does', 'VBZ'), ('something', 'NN'), ('.', '.'), ('a', 'DT'), ('very', 'RB'), ('large', 'JJ'), ('real', 'JJ'), ('time', 'NN'), ('delay', 'NN'), ('in', 'IN'), ('the', 'DT'), ('wakeup', 'JJ'), ('period', 'NN'), ('may', 'MD'), ('mean', 'VB'), ('that', 'DT'), ('certain', 'JJ'), ('checks', 'NNS'), ('are', 'VBP'), ('not', 'RB'), ('made', 'VBN'), ('in', 'IN'), ('a', 'DT'), ('timely', 'JJ'), ('manner', 'NN'), (';', ':'), ('we', 'PRP'), ('have', 'VBP'), ('ignored', 'VBN'), ('that', 'IN'), ('issue', 'NN'), ('here', 'RB'), ('.', '.'), ('in', 'IN'), ('practice', 'NN'), (',', ','), ('sleep', 'JJ'), ('extension', 'NN'), ('factors', 'NNS'), ('over', 'IN'), ('some', 'DT'), ('level', 'NN'), (',', ','), ('perhaps', 'RB'), ('3', 'CD'), ('to', 'TO'), ('5', 'CD'), (',', ','), ('may', 'MD'), ('not', 'RB'), ('be', 'VB'), ('desirable', 'JJ'), ('.', '.'), ('the', 'DT'), ('next', 'JJ'), ('simulation', 'NN'), ('results', 'NNS'), ('concern', 'NN'), ('strategy', 'NN'), ('big', 'JJ'), ('.', '.'), ('figure', 'NN'), ('2', 'CD'), ('shows', 'VBZ'), ('the', 'DT'), ('performance', 'NN'), ('versus', 'NN'), ('energy', 'NN'), ('savings', 'NNS'), ('graph', 'NN'), ('for', 'IN'), ('variations', 'NNS'), ('of', 'IN'), ('this', 'DT'), ('strategy', 'NN'), ('using', 'VBG'), ('greediness', 'JJ'), ('thresholds', 'NNS'), ('between', 'IN'), ('20', 'CD'), ('and', 'CC'), ('80', 'CD'), ('and', 'CC'), ('forced', 'VBD'), ('sleep', 'JJ'), ('periods', 'NNS'), ('between', 'IN'), ('0.025', 'CD'), ('seconds', 'NNS'), ('and', 'CC'), ('10', 'CD'), ('seconds', 'NNS'), ('.', '.'), ('we', 'PRP'), ('find', 'VBP'), (',', ','), ('through', 'IN'), ('extensive', 'JJ'), ('exploration', 'NN'), ('of', 'IN'), ('the', 'DT'), ('parameter', 'NN'), ('space', 'NN'), (',', ','), ('that', 'IN'), ('the', 'DT'), ('parameter', 'NN'), ('settings', 'NNS'), ('giving', 'VBG'), ('the', 'DT'), ('best', 'JJS'), ('energy', 'NN'), ('savings', 'NNS'), ('at', 'IN'), ('the', 'DT'), ('1.84', 'CD'), ('%', 'NN'), ('performance', 'NN'), ('impact', 'NN'), ('level', 'NN'), ('are', 'VBP'), ('a', 'DT'), ('greediness', 'JJ'), ('threshold', 'NN'), ('of', 'IN'), ('61', 'CD'), ('and', 'CC'), ('a', 'DT'), ('forced', 'JJ'), ('sleep', 'JJ'), ('period', 'NN'), ('of', 'IN'), ('0.52', 'CD'), ('seconds', 'NNS'), ('.', '.'), ('these', 'DT'), ('parameters', 'NNS'), ('yield', 'VBP'), ('an', 'DT'), ('energy', 'NN'), ('savings', 'NNS'), ('of', 'IN'), ('66.18', 'CD'), ('%', 'NN'), ('.', '.'), ('thus', 'RB'), (',', ','), ('we', 'PRP'), ('see', 'VBP'), ('that', 'IN'), (',', ','), ('comparing', 'VBG'), ('strategies', 'NNS'), ('big', 'JJ'), ('and', 'CC'), ('c', 'NN'), ('on', 'IN'), ('equal', 'JJ'), ('performance', 'NN'), ('grounds', 'NNS'), (',', ','), ('strategy', 'NN'), ('big', 'JJ'), ('reduces', 'NNS'), ('processor', 'VBP'), ('energy', 'NN'), ('consumption', 'NN'), ('by', 'IN'), ('53', 'CD'), ('%', 'NN'), ('.', '.'), ('compared', 'VBN'), ('to', 'TO'), ('the', 'DT'), ('optimal', 'JJ'), ('strategy', 'NN'), (',', ','), ('it', 'PRP'), ('increases', 'VBZ'), ('processor', 'NN'), ('energy', 'NN'), ('consumption', 'NN'), ('by', 'IN'), ('91', 'CD'), ('%', 'NN'), (',', ','), ('since', 'IN'), ('it', 'PRP'), ('only', 'RB'), ('saves', 'VBZ'), ('80', 'CD'), ('%', 'NN'), ('of', 'IN'), ('real', 'JJ'), ('idle', 'JJ'), ('time', 'NN'), ('.', '.'), ('the', 'DT'), ('next', 'JJ'), ('results', 'NNS'), ('we', 'PRP'), ('present', 'JJ'), ('concern', 'NN'), ('strategy', 'NN'), ('bigs', 'NNS'), ('.', '.'), ('figure', 'NN'), ('3', 'CD'), ('shows', 'NNS'), ('that', 'IN'), (',', ','), ('in', 'IN'), ('the', 'DT'), ('realm', 'NN'), ('we', 'PRP'), ('are', 'VBP'), ('interested', 'JJ'), ('in', 'IN'), (',', ','), ('a', 'DT'), ('performance', 'NN'), ('impact', 'NN'), ('of', 'IN'), ('1.84', 'CD'), ('%', 'NN'), (',', ','), ('increasing', 'VBG'), ('the', 'DT'), ('sleep', 'NN'), ('multiplier', 'NN'), ('always', 'RB'), ('produces', 'VBZ'), ('worse', 'JJR'), ('results', 'NNS'), ('than', 'IN'), ('changing', 'VBG'), ('the', 'DT'), ('greediness', 'NN'), ('threshold', 'NN'), ('and', 'CC'), ('forced', 'JJ'), ('sleep', 'JJ'), ('period', 'NN'), ('.', '.'), ('the', 'DT'), ('energy', 'NN'), ('savings', 'NNS'), ('attainable', 'JJ'), ('by', 'IN'), ('increasing', 'VBG'), ('the', 'DT'), ('sleep', 'NN'), ('multiplier', 'NN'), ('can', 'MD'), ('be', 'VB'), ('attained', 'VBN'), ('at', 'IN'), ('a', 'DT'), ('lower', 'JJR'), ('performance', 'NN'), ('cost', 'NN'), ('by', 'IN'), ('instead', 'RB'), ('decreasing', 'VBG'), ('the', 'DT'), ('greediness', 'NN'), ('threshold', 'NN'), ('or', 'CC'), ('by', 'IN'), ('increasing', 'VBG'), ('the', 'DT'), ('forced', 'JJ'), ('sleep', 'JJ'), ('period', 'NN'), ('.', '.'), ('thus', 'RB'), (',', ','), ('the', 'DT'), ('best', 'JJS'), ('bigs', 'NN'), ('strategy', 'NN'), ('is', 'VBZ'), ('the', 'DT'), ('big', 'JJ'), ('strategy', 'NN'), (',', ','), ('which', 'WDT'), ('does', 'VBZ'), ('not', 'RB'), ('make', 'VB'), ('any', 'DT'), ('use', 'NN'), ('of', 'IN'), ('the', 'DT'), ('sleep', 'JJ'), ('extension', 'NN'), ('technique', 'NN'), ('.', '.'), ('the', 'DT'), ('figure', 'NN'), ('suggests', 'VBZ'), ('that', 'IN'), ('if', 'IN'), ('we', 'PRP'), ('could', 'MD'), ('tolerate', 'VB'), ('a', 'DT'), ('greater', 'JJR'), ('performance', 'NN'), ('impact', 'NN'), (',', ','), ('such', 'JJ'), ('as', 'IN'), ('2.7', 'CD'), ('%', 'NN'), (',', ','), ('this', 'DT'), ('would', 'MD'), ('no', 'RB'), ('longer', 'RB'), ('be', 'VB'), ('the', 'DT'), ('case', 'NN'), (',', ','), ('and', 'CC'), ('the', 'DT'), ('best', 'JJS'), ('energy', 'NN'), ('savings', 'NNS'), ('for', 'IN'), ('bigs', 'NNS'), ('would', 'MD'), ('be', 'VB'), ('attained', 'VBN'), ('at', 'IN'), ('a', 'DT'), ('sleep', 'JJ'), ('multiplier', 'NN'), ('above', 'IN'), ('one', 'CD'), ('.', '.'), ('we', 'PRP'), ('conclude', 'VBP'), ('that', 'DT'), ('for', 'IN'), ('some', 'DT'), ('values', 'NNS'), ('of', 'IN'), ('performance', 'NN'), ('impact', 'NN'), (',', ','), ('it', 'PRP'), ('is', 'VBZ'), ('useful', 'JJ'), ('to', 'TO'), ('combine', 'VB'), ('the', 'DT'), ('greediness', 'NN'), ('technique', 'NN'), ('and', 'CC'), ('sleep', 'JJ'), ('extension', 'NN'), ('technique', 'NN'), (',', ','), ('but', 'CC'), ('for', 'IN'), ('a', 'DT'), ('performance', 'NN'), ('impact', 'NN'), ('of', 'IN'), ('1.84', 'CD'), ('%', 'NN'), ('it', 'PRP'), ('is', 'VBZ'), ('useless', 'JJ'), ('to', 'TO'), ('use', 'VB'), ('the', 'DT'), ('sleep', 'JJ'), ('extension', 'NN'), ('technique', 'NN'), ('if', 'IN'), ('the', 'DT'), ('greediness', 'NN'), ('technique', 'NN'), ('is', 'VBZ'), ('in', 'IN'), ('use', 'NN'), ('.', '.'), ('a', 'DT'), ('summary', 'NN'), ('of', 'IN'), ('all', 'PDT'), ('the', 'DT'), ('findings', 'NNS'), ('about', 'IN'), ('the', 'DT'), ('above', 'JJ'), ('strategies', 'NNS'), ('can', 'MD'), ('be', 'VB'), ('seen', 'VBN'), ('in', 'IN'), ('table', 'JJ'), ('2', 'CD'), (',', ','), ('as', 'RB'), ('well', 'RB'), ('as', 'IN'), ('the', 'DT'), ('columns', 'NN'), ('of', 'IN'), ('figure', 'NN'), ('5', 'CD'), ('corresponding', 'NN'), ('to', 'TO'), ('users', 'NNS'), ('1-6.', 'JJ'), ('figure', 'NN'), ('2', 'CD'), (':', ':'), ('performance', 'NN'), ('impact', 'NN'), ('measure', 'NN'), ('versus', 'NN'), ('processor', 'NN'), ('energy', 'NN'), ('savings', 'NNS'), ('for', 'IN'), ('strategy', 'NN'), ('big', 'JJ'), ('with', 'IN'), ('various', 'JJ'), ('greediness', 'NN'), ('thresholds', 'NNS'), ('and', 'CC'), ('forced', 'VBD'), ('sleep', 'JJ'), ('periods', 'NNS'), ('.', '.'), ('points', 'NNS'), ('on', 'IN'), ('the', 'DT'), ('greediness', 'NN'), ('threshold', 'VBD'), ('60', 'CD'), ('curve', 'NNS'), ('are', 'VBP'), ('labeled', 'VBN'), ('with', 'IN'), ('the', 'DT'), ('forced', 'JJ'), ('sleep', 'NN'), ('periods', 'NNS'), ('to', 'TO'), ('which', 'WDT'), ('they', 'PRP'), ('correspond', 'VBP'), ('.', '.'), ('the', 'DT'), ('reader', 'NN'), ('is', 'VBZ'), ('cautioned', 'VBN'), ('that', 'IN'), ('nonzero', 'NN'), ('origins', 'NNS'), ('are', 'VBP'), ('used', 'VBN'), ('in', 'IN'), ('this', 'DT'), ('figure', 'NN'), ('to', 'TO'), ('save', 'VB'), ('space', 'NN'), ('and', 'CC'), ('yet', 'RB'), ('have', 'VBP'), ('sufficient', 'JJ'), ('resolution', 'NN'), ('to', 'TO'), ('enable', 'VB'), ('its', 'PRP$'), ('key', 'JJ'), ('features', 'NNS'), ('to', 'TO'), ('be', 'VB'), ('discerned', 'VBN'), ('.', '.'), ('figure', 'NN'), ('3', 'CD'), (':', ':'), ('performance', 'NN'), ('impact', 'NN'), ('measure', 'NN'), ('versus', 'NN'), ('processor', 'NN'), ('energy', 'NN'), ('savings', 'NNS'), ('for', 'IN'), ('strategy', 'NN'), ('bigs', 'NNS'), ('with', 'IN'), ('various', 'JJ'), ('sleep', 'JJ'), ('multipliers', 'NNS'), (',', ','), ('various', 'JJ'), ('greediness', 'NN'), ('thresholds', 'NNS'), (',', ','), ('and', 'CC'), ('a', 'DT'), ('forced', 'JJ'), ('sleep', 'JJ'), ('period', 'NN'), ('of', 'IN'), ('0.52', 'CD'), ('sec', 'NN'), ('.', '.'), ('the', 'DT'), ('reader', 'NN'), ('is', 'VBZ'), ('cautioned', 'VBN'), ('that', 'IN'), ('nonzero', 'NN'), ('origins', 'NNS'), ('are', 'VBP'), ('used', 'VBN'), ('in', 'IN'), ('this', 'DT'), ('figure', 'NN'), ('to', 'TO'), ('save', 'VB'), ('space', 'NN'), ('and', 'CC'), ('yet', 'RB'), ('have', 'VBP'), ('sufficient', 'JJ'), ('resolution', 'NN'), ('to', 'TO'), ('enable', 'VB'), ('its', 'PRP$'), ('key', 'JJ'), ('features', 'NNS'), ('to', 'TO'), ('be', 'VB'), ('discerned', 'VBN'), ('.', '.'), ('an', 'DT'), ('important', 'JJ'), ('issue', 'NN'), ('is', 'VBZ'), ('the', 'DT'), ('extent', 'NN'), ('to', 'TO'), ('which', 'WDT'), ('the', 'DT'), ('parameters', 'NNS'), ('we', 'PRP'), ('chose', 'VBP'), ('are', 'VBP'), ('specific', 'JJ'), ('to', 'TO'), ('the', 'DT'), ('workload', 'NN'), ('studied', 'VBD'), (',', ','), ('and', 'CC'), ('whether', 'IN'), ('they', 'PRP'), ('would', 'MD'), ('be', 'VB'), ('optimal', 'JJ'), ('or', 'CC'), ('equally', 'RB'), ('effective', 'JJ'), ('for', 'IN'), ('some', 'DT'), ('other', 'JJ'), ('workload', 'NN'), ('.', '.'), ('furthermore', 'RB'), (',', ','), ('it', 'PRP'), ('is', 'VBZ'), ('unclear', 'JJ'), ('how', 'WRB'), ('effective', 'JJ'), ('the', 'DT'), ('user', 'NN'), ('or', 'CC'), ('operating', 'NN'), ('system', 'NN'), ('could', 'MD'), ('be', 'VB'), ('at', 'IN'), ('dynamically', 'RB'), ('tuning', 'VBG'), ('these', 'DT'), ('parameters', 'NNS'), ('in', 'IN'), ('the', 'DT'), ('best', 'JJS'), ('way', 'NN'), ('to', 'TO'), ('achieve', 'VB'), ('optimal', 'JJ'), ('energy', 'NN'), ('savings', 'NNS'), ('at', 'IN'), ('a', 'DT'), ('given', 'VBN'), ('level', 'NN'), ('of', 'IN'), ('performance', 'NN'), ('.', '.'), ('thus', 'RB'), (',', ','), ('it', 'PRP'), ('is', 'VBZ'), ('important', 'JJ'), ('to', 'TO'), ('observe', 'VB'), ('the', 'DT'), ('sensitivity', 'NN'), ('of', 'IN'), ('the', 'DT'), ('results', 'NNS'), ('we', 'PRP'), ('obtained', 'VBD'), ('to', 'TO'), ('the', 'DT'), ('particular', 'JJ'), ('values', 'NNS'), ('of', 'IN'), ('the', 'DT'), ('parameters', 'NNS'), ('we', 'PRP'), ('chose', 'VBP'), ('.', '.'), ('the', 'DT'), ('graphs', 'NN'), ('we', 'PRP'), ('showed', 'VBD'), ('that', 'IN'), ('demonstrate', 'VBP'), ('the', 'DT'), ('relationship', 'NN'), ('between', 'IN'), ('performance', 'NN'), (',', ','), ('energy', 'NN'), ('savings', 'NNS'), (',', ','), ('and', 'CC'), ('parameter', 'NN'), ('values', 'NNS'), ('also', 'RB'), ('demonstrate', 'VBP'), ('the', 'DT'), ('reasonably', 'RB'), ('low', 'JJ'), ('sensitivity', 'NN'), ('of', 'IN'), ('the', 'DT'), ('results', 'NNS'), ('to', 'TO'), ('the', 'DT'), ('parameter', 'NN'), ('values', 'NNS'), ('.', '.'), ('for', 'IN'), ('instance', 'NN'), (',', ','), ('varying', 'VBG'), ('the', 'DT'), ('forced', 'JJ'), ('sleep', 'JJ'), ('period', 'NN'), ('threshold', 'NN'), ('in', 'IN'), ('figure', 'NN'), ('2', 'CD'), ('across', 'IN'), ('a', 'DT'), ('wide', 'JJ'), ('range', 'NN'), ('of', 'IN'), ('values', 'NNS'), ('only', 'RB'), ('causes', 'VBZ'), ('the', 'DT'), ('consequent', 'JJ'), ('energy', 'NN'), ('savings', 'NNS'), ('to', 'TO'), ('vary', 'VB'), ('between', 'IN'), ('59-67', 'JJ'), ('%', 'NN'), ('.', '.'), ('varying', 'VBG'), ('the', 'DT'), ('greediness', 'NN'), ('threshold', 'NN'), ('in', 'IN'), ('figure', 'NN'), ('4', 'CD'), ('across', 'IN'), ('another', 'DT'), ('wide', 'JJ'), ('range', 'NN'), ('of', 'IN'), ('values', 'NNS'), ('only', 'RB'), ('causes', 'VBZ'), ('the', 'DT'), ('consequent', 'JJ'), ('energy', 'NN'), ('savings', 'NNS'), ('to', 'TO'), ('vary', 'VB'), ('in', 'IN'), ('the', 'DT'), ('range', 'NN'), ('63-71', 'JJ'), ('%', 'NN'), ('.', '.'), ('finally', 'RB'), (',', ','), ('varying', 'VBG'), ('the', 'DT'), ('sleep', 'NN'), ('multiplier', 'NN'), ('across', 'IN'), ('a', 'DT'), ('wide', 'JJ'), ('range', 'NN'), (',', ','), ('as', 'IN'), ('in', 'IN'), ('figure', 'NN'), ('1', 'CD'), (',', ','), ('only', 'RB'), ('causes', 'VBZ'), ('the', 'DT'), ('consequent', 'JJ'), ('energy', 'NN'), ('savings', 'NNS'), ('to', 'TO'), ('vary', 'VB'), ('in', 'IN'), ('the', 'DT'), ('range', 'NN'), ('47-56', 'JJ'), ('%', 'NN'), ('.', '.'), ('another', 'DT'), ('way', 'NN'), ('to', 'TO'), ('gauge', 'VB'), ('the', 'DT'), ('sensitivity', 'NN'), ('of', 'IN'), ('the', 'DT'), ('results', 'NNS'), ('to', 'TO'), ('the', 'DT'), ('parameters', 'NNS'), ('is', 'VBZ'), ('to', 'TO'), ('evaluate', 'VB'), ('the', 'DT'), ('effectiveness', 'NN'), ('of', 'IN'), ('the', 'DT'), ('techniques', 'NNS'), ('on', 'IN'), ('each', 'DT'), ('of', 'IN'), ('the', 'DT'), ('six', 'CD'), ('workloads', 'NNS'), ('corresponding', 'VBG'), ('to', 'TO'), ('the', 'DT'), ('users', 'NNS'), ('studied', 'VBD'), ('.', '.'), ('to', 'TO'), ('show', 'VB'), ('the', 'DT'), ('effect', 'NN'), ('of', 'IN'), ('using', 'VBG'), ('parameters', 'NNS'), ('tuned', 'VBD'), ('to', 'TO'), ('an', 'DT'), ('aggregate', 'JJ'), ('workload', 'NN'), ('on', 'IN'), ('individual', 'JJ'), ('users', 'NNS'), (',', ','), ('figure', 'NN'), ('5', 'CD'), ('shows', 'VBZ'), ('the', 'DT'), ('processor', 'NN'), ('energy', 'NN'), ('savings', 'NNS'), ('that', 'WDT'), ('would', 'MD'), ('have', 'VB'), ('been', 'VBN'), ('attained', 'VBN'), ('by', 'IN'), ('each', 'DT'), ('of', 'IN'), ('the', 'DT'), ('users', 'NNS'), ('given', 'VBN'), ('the', 'DT'), ('strategies', 'NNS'), ('we', 'PRP'), ('have', 'VBP'), ('discussed', 'VBN'), ('.', '.'), ('we', 'PRP'), ('see', 'VBP'), ('from', 'IN'), ('this', 'DT'), ('figure', 'NN'), ('that', 'WDT'), ('strategy', 'NN'), ('big', 'JJ'), ('is', 'VBZ'), ('always', 'RB'), ('superior', 'JJ'), ('to', 'TO'), ('strategy', 'NN'), ('c', 'NNS'), (',', ','), ('and', 'CC'), ('that', 'DT'), ('strategy', 'NN'), ('bis', 'NN'), ('is', 'VBZ'), ('superior', 'JJ'), ('to', 'TO'), ('strategy', 'NN'), ('c', 'NNS'), ('for', 'IN'), ('all', 'DT'), ('users', 'NNS'), ('except', 'IN'), ('user', 'JJ'), ('2.', 'CD'), ('and', 'CC'), (',', ','), ('even', 'RB'), ('in', 'IN'), ('this', 'DT'), ('case', 'NN'), (',', ','), ('the', 'DT'), ('fault', 'NN'), ('seems', 'VBZ'), ('to', 'TO'), ('lie', 'VB'), ('with', 'IN'), ('the', 'DT'), ('basic', 'JJ'), ('strategy', 'NN'), ('and', 'CC'), ('simple', 'JJ'), ('scheduling', 'NN'), ('technique', 'NN'), ('rather', 'RB'), ('than', 'IN'), ('the', 'DT'), ('sleep', 'JJ'), ('multiplier', 'NN'), ('parameter', 'NN'), (',', ','), ('since', 'IN'), ('user', 'NN'), ('2', 'CD'), ('is', 'VBZ'), ('also', 'RB'), ('the', 'DT'), ('only', 'JJ'), ('user', 'NN'), ('for', 'IN'), ('which', 'WDT'), ('the', 'DT'), ('savings', 'NNS'), ('from', 'IN'), ('c', 'NNS'), ('are', 'VBP'), ('much', 'RB'), ('greater', 'JJR'), ('than', 'IN'), ('those', 'DT'), ('from', 'IN'), ('strategies', 'NNS'), ('b', 'NNS'), ('and', 'CC'), ('bi', 'NN'), ('.', '.'), ('these', 'DT'), ('figures', 'NNS'), ('suggest', 'VBP'), ('that', 'IN'), ('even', 'RB'), ('parameters', 'NNS'), ('not', 'RB'), ('tuned', 'VBN'), ('for', 'IN'), ('a', 'DT'), ('specific', 'JJ'), ('workload', 'NN'), ('still', 'RB'), ('yield', 'VB'), ('strategies', 'NNS'), ('that', 'IN'), ('in', 'IN'), ('general', 'JJ'), ('save', 'NN'), ('more', 'RBR'), ('processor', 'NN'), ('energy', 'NN'), ('than', 'IN'), ('the', 'DT'), ('current', 'JJ'), ('strategy', 'NN'), ('.', '.'), ('it', 'PRP'), ('is', 'VBZ'), ('also', 'RB'), ('interesting', 'VBG'), ('to', 'TO'), ('note', 'VB'), ('that', 'IN'), ('there', 'EX'), ('is', 'VBZ'), ('a', 'DT'), ('clear', 'JJ'), ('ordering', 'NN'), ('between', 'IN'), ('strategies', 'NNS'), ('bi', 'VBP'), (',', ','), ('bis', 'NN'), (',', ','), ('and', 'CC'), ('big', 'JJ'), (':', ':'), ('for', 'IN'), ('each', 'DT'), ('user', 'NN'), (',', ','), ('strategy', 'NN'), ('big', 'JJ'), ('saved', 'VBD'), ('more', 'RBR'), ('energy', 'NN'), ('than', 'IN'), ('strategy', 'NN'), ('bis', 'NN'), (',', ','), ('which', 'WDT'), ('saved', 'VBD'), ('more', 'RBR'), ('energy', 'NN'), ('than', 'IN'), ('strategy', 'NN'), ('bi', 'NN'), ('.', '.'), ('we', 'PRP'), ('were', 'VBD'), ('curious', 'JJ'), ('why', 'WRB'), ('strategy', 'NN'), ('c', 'NN'), ('is', 'VBZ'), ('so', 'RB'), ('much', 'JJ'), ('superior', 'NN'), ('to', 'TO'), ('strategy', 'NN'), ('b', 'NN'), ('for', 'IN'), ('user', 'NN'), ('2', 'CD'), (',', ','), ('so', 'IN'), ('we', 'PRP'), ('inspected', 'VBD'), ('the', 'DT'), ('simulation', 'NN'), ('results', 'NNS'), ('for', 'IN'), ('that', 'DT'), ('user', 'NN'), ('carefully', 'RB'), ('.', '.'), ('we', 'PRP'), ('found', 'VBD'), ('that', 'IN'), ('the', 'DT'), ('reason', 'NN'), ('strategy', 'NN'), ('c', 'NN'), ('does', 'VBZ'), ('so', 'RB'), ('much', 'RB'), ('better', 'JJR'), ('than', 'IN'), ('strategy', 'NN'), ('b', 'NN'), ('is', 'VBZ'), ('that', 'IN'), ('in', 'IN'), ('that', 'DT'), ('trace', 'NN'), (',', ','), ('the', 'DT'), ('application', 'NN'), ('finder', 'NN'), ('frequently', 'RB'), ('yields', 'NNS'), ('control', 'NN'), ('requesting', 'VBG'), ('a', 'DT'), ('sleep', 'JJ'), ('time', 'NN'), ('of', 'IN'), ('zero', 'NN'), ('but', 'CC'), ('then', 'RB'), ('performs', 'VBZ'), ('no', 'DT'), ('activity', 'NN'), ('when', 'WRB'), ('it', 'PRP'), ('gets', 'VBZ'), ('control', 'VB'), ('again', 'RB'), (';', ':'), ('indeed', 'RB'), (',', ','), ('there', 'EX'), ('is', 'VBZ'), ('a', 'DT'), ('contiguous', 'JJ'), ('section', 'NN'), ('of', 'IN'), ('the', 'DT'), ('trace', 'NN'), ('lasting', 'NN'), ('over', 'IN'), ('an', 'DT'), ('hour', 'NN'), ('during', 'IN'), ('which', 'WDT'), ('finder', 'NN'), ('has', 'VBZ'), ('this', 'DT'), ('behavior', 'NN'), ('.', '.'), ('the', 'DT'), ('sleep', 'JJ'), ('extension', 'NN'), ('technique', 'NN'), ('does', 'VBZ'), ('not', 'RB'), ('alleviate', 'VB'), ('this', 'DT'), ('problem', 'NN'), (',', ','), ('since', 'IN'), ('multiplying', 'VBG'), ('the', 'DT'), ('sleep', 'JJ'), ('request', 'NN'), ('of', 'IN'), ('zero', 'CD'), ('by', 'IN'), ('any', 'DT'), ('factor', 'NN'), ('still', 'RB'), ('makes', 'VBZ'), ('it', 'PRP'), ('zero', 'NNP'), ('.', '.'), ('however', 'RB'), (',', ','), ('the', 'DT'), ('greediness', 'NN'), ('technique', 'NN'), ('is', 'VBZ'), ('able', 'JJ'), ('to', 'TO'), ('overcome', 'VB'), ('this', 'DT'), ('problem', 'NN'), (',', ','), ('since', 'IN'), ('this', 'DT'), ('is', 'VBZ'), ('exactly', 'RB'), ('the', 'DT'), ('problem', 'NN'), ('for', 'IN'), ('which', 'WDT'), ('it', 'PRP'), ('was', 'VBD'), ('designed', 'VBN'), ('.', '.'), ('consequently', 'RB'), (',', ','), ('strategy', 'NN'), ('big', 'JJ'), ('beats', 'NNS'), ('strategy', 'NN'), ('c', 'NN'), ('for', 'IN'), ('user', 'JJ'), ('2', 'CD'), (',', ','), ('even', 'RB'), ('though', 'IN'), ('strategies', 'NNS'), ('b', 'VBP'), (',', ','), ('bi', 'NN'), (',', ','), ('and', 'CC'), ('bis', 'NNS'), ('do', 'VBP'), ('not', 'RB'), ('.', '.'), ('yet', 'RB'), ('another', 'DT'), ('way', 'NN'), ('to', 'TO'), ('see', 'VB'), ('that', 'IN'), ('the', 'DT'), ('basic', 'JJ'), ('strategy', 'NN'), ('with', 'IN'), ('the', 'DT'), ('new', 'JJ'), ('techniques', 'NNS'), ('is', 'VBZ'), ('effective', 'JJ'), ('even', 'RB'), ('without', 'IN'), ('tuning', 'VBG'), ('the', 'DT'), ('parameters', 'NNS'), ('is', 'VBZ'), ('to', 'TO'), ('pick', 'VB'), ('somewhat', 'RB'), ('arbitrary', 'JJ'), ('parameters', 'NNS'), ('and', 'CC'), ('note', 'NN'), ('that', 'IN'), ('the', 'DT'), ('energy', 'NN'), ('savings', 'NNS'), ('are', 'VBP'), ('still', 'RB'), ('superior', 'JJ'), ('to', 'TO'), ('that', 'DT'), ('of', 'IN'), ('strategy', 'NN'), ('c.', 'NN'), ('for', 'IN'), ('example', 'NN'), (',', ','), ('the', 'DT'), ('parameter', 'NN'), ('settings', 'VBZ'), ('we', 'PRP'), ('envisioned', 'VBD'), ('before', 'IN'), ('running', 'VBG'), ('any', 'DT'), ('of', 'IN'), ('these', 'DT'), ('simulations', 'NNS'), (',', ','), ('a', 'DT'), ('greediness', 'NN'), ('threshold', 'NN'), ('of', 'IN'), ('5', 'CD'), (',', ','), ('a', 'DT'), ('forced', 'JJ'), ('sleep', 'JJ'), ('period', 'NN'), ('of', 'IN'), ('0.25', 'CD'), ('seconds', 'NNS'), (',', ','), ('and', 'CC'), ('a', 'DT'), ('sleep', 'JJ'), ('multiplier', 'NN'), ('of', 'IN'), ('1.5', 'CD'), (',', ','), ('would', 'MD'), ('yield', 'VB'), ('a', 'DT'), ('respectable', 'JJ'), ('energy', 'NN'), ('savings', 'NNS'), ('of', 'IN'), ('71.70', 'CD'), ('%', 'NN'), ('and', 'CC'), ('a', 'DT'), ('performance', 'NN'), ('impact', 'NN'), ('of', 'IN'), ('2.61', 'CD'), ('%', 'NN'), (',', ','), ('which', 'WDT'), (',', ','), ('compared', 'VBN'), ('to', 'TO'), ('macos', 'VB'), (',', ','), ('trades', 'NNS'), ('off', 'IN'), ('a', 'DT'), ('60', 'CD'), ('%', 'NN'), ('decrease', 'NN'), ('in', 'IN'), ('processor', 'NN'), ('energy', 'NN'), ('consumption', 'NN'), ('for', 'IN'), ('a', 'DT'), ('0.8', 'CD'), ('%', 'NN'), ('increase', 'NN'), ('in', 'IN'), ('workload', 'JJ'), ('completion', 'NN'), ('time', 'NN'), ('.', '.'), ('even', 'RB'), ('a', 'DT'), ('conservative', 'JJ'), ('set', 'NN'), ('of', 'IN'), ('parameters', 'NNS'), (',', ','), ('namely', 'RB'), ('a', 'DT'), ('greediness', 'NN'), ('threshold', 'NN'), ('of', 'IN'), ('100', 'CD'), (',', ','), ('a', 'DT'), ('forced', 'JJ'), ('sleep', 'JJ'), ('period', 'NN'), ('of', 'IN'), ('0.10', 'CD'), ('seconds', 'NNS'), (',', ','), ('and', 'CC'), ('a', 'DT'), ('sleep', 'JJ'), ('multiplier', 'NN'), ('of', 'IN'), ('1', 'CD'), (',', ','), ('yields', 'NNS'), ('a', 'DT'), ('processor', 'NN'), ('energy', 'NN'), ('savings', 'NNS'), ('of', 'IN'), ('62.87', 'CD'), ('%', 'NN'), ('with', 'IN'), ('a', 'DT'), ('performance', 'NN'), ('impact', 'NN'), ('of', 'IN'), ('only', 'RB'), ('1.48', 'CD'), ('%', 'NN'), (',', ','), ('decreasing', 'VBG'), ('processor', 'NN'), ('energy', 'NN'), ('consumption', 'NN'), ('by', 'IN'), ('48', 'CD'), ('%', 'NN'), ('and', 'CC'), ('reducing', 'VBG'), ('workload', 'JJ'), ('completion', 'NN'), ('time', 'NN'), ('by', 'IN'), ('0.4', 'CD'), ('%', 'NN'), ('compared', 'VBN'), ('to', 'TO'), ('strategy', 'NN'), ('c.', 'NN'), ('we', 'PRP'), ('have', 'VBP'), ('seen', 'VBN'), ('that', 'IN'), ('the', 'DT'), ('greediness', 'NN'), ('technique', 'NN'), ('by', 'IN'), ('itself', 'PRP'), ('can', 'MD'), ('be', 'VB'), ('quite', 'RB'), ('effective', 'JJ'), ('even', 'RB'), ('within', 'IN'), ('a', 'DT'), ('broad', 'JJ'), ('range', 'NN'), ('of', 'IN'), ('parameter', 'NN'), ('values', 'NNS'), ('.', '.'), ('this', 'DT'), ('suggests', 'VBZ'), ('that', 'IN'), ('processes', 'NNS'), ('often', 'RB'), ('act', 'VBP'), ('greedily', 'RB'), ('.', '.'), ('in', 'IN'), ('fact', 'NN'), (',', ','), ('using', 'VBG'), ('the', 'DT'), ('ideal', 'JJ'), ('parameters', 'NNS'), ('of', 'IN'), ('strategy', 'NN'), ('big', 'JJ'), (',', ','), ('49', 'CD'), ('of', 'IN'), ('63', 'CD'), ('applications', 'NNS'), ('were', 'VBD'), ('found', 'VBN'), ('to', 'TO'), ('act', 'VB'), ('greedily', 'RB'), ('at', 'IN'), ('some', 'DT'), ('point', 'NN'), ('.', '.'), ('the', 'DT'), ('percent', 'NN'), ('of', 'IN'), ('an', 'DT'), ('application', 'NN'), (\"'s\", 'POS'), ('quanta', 'NN'), ('during', 'IN'), ('which', 'WDT'), ('it', 'PRP'), ('was', 'VBD'), ('determined', 'VBN'), ('to', 'TO'), ('be', 'VB'), ('acting', 'VBG'), ('greedily', 'RB'), ('varied', 'VBN'), ('widely', 'RB'), ('from', 'IN'), ('one', 'CD'), ('application', 'NN'), ('to', 'TO'), ('another', 'DT'), (',', ','), ('from', 'IN'), ('0.0009', 'CD'), ('%', 'NN'), ('for', 'IN'), ('express', 'NN'), ('modem', 'NN'), ('to', 'TO'), ('93.7', 'CD'), ('%', 'NN'), ('for', 'IN'), ('eworld', 'NN'), ('.', '.'), ('it', 'PRP'), ('is', 'VBZ'), ('especially', 'RB'), ('amusing', 'VBG'), ('that', 'IN'), ('finder', 'NN'), (',', ','), ('the', 'DT'), ('user', 'NN'), ('desktop', 'NN'), ('interface', 'NN'), ('application', 'NN'), ('written', 'VBN'), ('at', 'IN'), ('apple', 'NN'), ('itself', 'PRP'), (',', ','), ('seems', 'VBZ'), ('to', 'TO'), ('lie', 'VB'), ('routinely', 'RB'), ('about', 'IN'), ('its', 'PRP$'), ('processing', 'NN'), ('time', 'NN'), ('needs', 'VBZ'), (',', ','), ('having', 'VBG'), ('been', 'VBN'), ('determined', 'VBN'), ('to', 'TO'), ('be', 'VB'), ('acting', 'VBG'), ('greedily', 'RB'), ('for', 'IN'), ('64.7', 'CD'), ('%', 'NN'), ('of', 'IN'), ('its', 'PRP$'), ('quanta', 'NN'), ('.', '.'), ('this', 'DT'), ('supports', 'VBZ'), ('our', 'PRP$'), ('suggestion', 'NN'), ('that', 'IN'), ('designers', 'NNS'), ('of', 'IN'), ('operating', 'VBG'), ('systems', 'NNS'), ('and', 'CC'), ('applications', 'NNS'), ('for', 'IN'), ('single-user', 'JJ'), ('systems', 'NNS'), ('are', 'VBP'), ('not', 'RB'), ('generally', 'RB'), ('concerned', 'VBN'), ('with', 'IN'), ('rigorous', 'JJ'), ('management', 'NN'), ('of', 'IN'), ('processor', 'NN'), ('time', 'NN'), ('.', '.'), ('to', 'TO'), ('examine', 'VB'), ('where', 'WRB'), ('the', 'DT'), ('savings', 'NNS'), ('and', 'CC'), ('performance', 'NN'), ('impact', 'NN'), ('of', 'IN'), ('a', 'DT'), ('strategy', 'NN'), ('are', 'VBP'), ('coming', 'VBG'), ('from', 'IN'), (',', ','), ('it', 'PRP'), ('is', 'VBZ'), ('useful', 'JJ'), ('to', 'TO'), ('observe', 'VB'), ('what', 'WP'), ('happens', 'VBZ'), ('to', 'TO'), ('different', 'JJ'), ('classes', 'NNS'), ('of', 'IN'), ('time', 'NN'), ('in', 'IN'), ('the', 'DT'), ('original', 'JJ'), ('trace', 'NN'), ('when', 'WRB'), ('that', 'DT'), ('strategy', 'NN'), ('is', 'VBZ'), ('used', 'VBN'), ('.', '.'), ('some', 'DT'), ('time', 'NN'), ('in', 'IN'), ('the', 'DT'), ('original', 'JJ'), ('trace', 'NN'), ('is', 'VBZ'), ('spent', 'VBN'), ('running', 'VBG'), ('processes', 'NNS'), (',', ','), ('some', 'DT'), ('is', 'VBZ'), ('spent', 'VBN'), ('running', 'VBG'), ('the', 'DT'), ('scheduler', 'NN'), (',', ','), ('and', 'CC'), ('the', 'DT'), ('rest', 'NN'), ('is', 'VBZ'), ('spent', 'VBN'), ('running', 'VBG'), ('other', 'JJ'), ('os', 'JJ'), ('code', 'NN'), ('.', '.'), ('each', 'DT'), ('of', 'IN'), ('these', 'DT'), ('classes', 'NNS'), ('of', 'IN'), ('time', 'NN'), ('can', 'MD'), ('be', 'VB'), ('broken', 'VBN'), ('down', 'RP'), ('into', 'IN'), ('useful', 'JJ'), ('and', 'CC'), ('nonuseful', 'JJ'), ('time', 'NN'), ('.', '.'), ('useful', 'JJ'), ('time', 'NN'), ('will', 'MD'), ('always', 'RB'), ('be', 'VB'), ('scheduled', 'VBN'), ('in', 'IN'), ('the', 'DT'), ('simulation', 'NN'), (',', ','), ('but', 'CC'), ('some', 'DT'), ('of', 'IN'), ('it', 'PRP'), ('will', 'MD'), ('be', 'VB'), ('delayed', 'VBN'), ('if', 'IN'), ('the', 'DT'), ('technique', 'NN'), ('simulated', 'VBD'), ('decides', 'NNS'), ('to', 'TO'), ('cycle', 'NN'), ('instead', 'RB'), ('of', 'IN'), ('running', 'VBG'), ('it', 'PRP'), ('.', '.'), ('this', 'DT'), ('delayed', 'JJ'), ('time', 'NN'), ('is', 'VBZ'), ('what', 'WP'), ('contributes', 'VBZ'), ('to', 'TO'), ('performance', 'NN'), ('impact', 'NN'), ('.', '.'), ('some', 'DT'), ('nonuseful', 'JJ'), ('time', 'NN'), ('will', 'MD'), ('be', 'VB'), ('scheduled', 'VBN'), ('by', 'IN'), ('the', 'DT'), ('technique', 'NN'), (',', ','), ('while', 'IN'), ('the', 'DT'), ('rest', 'NN'), ('gets', 'VBZ'), ('skipped', 'VBN'), ('over', 'IN'), ('and', 'CC'), ('contributes', 'NNS'), ('to', 'TO'), ('cycling', 'VBG'), ('time', 'NN'), ('.', '.'), ('table', 'JJ'), ('3', 'CD'), (':', ':'), ('a', 'DT'), ('breakdown', 'NN'), (',', ','), ('for', 'IN'), ('each', 'DT'), ('strategy', 'NN'), (',', ','), ('of', 'IN'), ('what', 'WP'), ('happens', 'VBZ'), ('to', 'TO'), ('the', 'DT'), ('time', 'NN'), ('and', 'CC'), ('quanta', 'VB'), ('originally', 'RB'), ('spent', 'VBN'), ('running', 'VBG'), ('processes', 'NNS'), (',', ','), ('the', 'DT'), ('scheduler', 'NN'), (',', ','), ('and', 'CC'), ('the', 'DT'), ('operating', 'NN'), ('system', 'NN'), ('.', '.'), ('time', 'NN'), ('and', 'CC'), ('quanta', 'NN'), ('that', 'WDT'), ('are', 'VBP'), ('delayed', 'VBN'), ('and', 'CC'), ('thus', 'RB'), ('contribute', 'VB'), ('to', 'TO'), ('performance', 'NN'), ('impact', 'NN'), ('are', 'VBP'), ('shown', 'VBN'), ('in', 'IN'), ('bold', 'NN'), (',', ','), ('time', 'NN'), ('and', 'CC'), ('quanta', 'NN'), ('that', 'WDT'), ('are', 'VBP'), ('run', 'VBN'), ('on', 'IN'), ('time', 'NN'), ('are', 'VBP'), ('shown', 'VBN'), ('in', 'IN'), ('the', 'DT'), ('standard', 'JJ'), ('font', 'NN'), (',', ','), ('and', 'CC'), ('time', 'NN'), ('and', 'CC'), ('quanta', 'NN'), ('that', 'WDT'), ('are', 'VBP'), ('never', 'RB'), ('run', 'VBN'), ('and', 'CC'), ('thus', 'RB'), ('are', 'VBP'), ('subsumed', 'VBN'), ('by', 'IN'), ('cycling', 'VBG'), ('are', 'VBP'), ('shown', 'VBN'), ('in', 'IN'), ('italics', 'NNS'), ('.', '.'), ('table', 'JJ'), ('3', 'CD'), ('shows', 'VBZ'), ('this', 'DT'), ('breakdown', 'NN'), ('in', 'IN'), ('time', 'NN'), ('and', 'CC'), ('number', 'NN'), ('of', 'IN'), ('quanta', 'NN'), ('for', 'IN'), ('each', 'DT'), ('strategy', 'NN'), ('.', '.'), ('first', 'RB'), (',', ','), ('let', 'VB'), ('us', 'PRP'), ('compare', 'VB'), ('the', 'DT'), ('sources', 'NNS'), ('of', 'IN'), ('the', 'DT'), ('energy', 'NN'), ('savings', 'NNS'), ('for', 'IN'), ('each', 'DT'), ('strategy', 'NN'), (';', ':'), ('this', 'DT'), ('involves', 'VBZ'), ('looking', 'VBG'), ('at', 'IN'), ('the', 'DT'), ('italic', 'JJ'), ('figures', 'NNS'), ('in', 'IN'), ('table', 'JJ'), ('3.', 'CD'), ('strategy', 'NN'), ('c', 'VB'), ('spends', 'VBZ'), ('4.31', 'CD'), ('hours', 'NNS'), ('cycling', 'VBG'), ('instead', 'RB'), ('of', 'IN'), ('idling', 'VBG'), ('in', 'IN'), ('the', 'DT'), ('os', 'NN'), (',', ','), ('1.95', 'CD'), ('hours', 'NNS'), ('cycling', 'VBG'), ('instead', 'RB'), ('of', 'IN'), ('performing', 'VBG'), ('nonuseful', 'JJ'), ('process', 'NN'), ('quanta', 'NN'), (',', ','), ('and', 'CC'), ('2.61', 'CD'), ('hours', 'NNS'), ('cycling', 'VBG'), ('instead', 'RB'), ('of', 'IN'), ('switching', 'VBG'), ('nonuseful', 'JJ'), ('process', 'NN'), ('quanta', 'NN'), ('in', 'IN'), ('and', 'CC'), ('out', 'IN'), ('.', '.'), ('it', 'PRP'), ('is', 'VBZ'), ('interesting', 'VBG'), ('to', 'TO'), ('note', 'VB'), ('that', 'IN'), ('more', 'JJR'), ('time', 'NN'), ('is', 'VBZ'), ('saved', 'VBN'), ('from', 'IN'), ('not', 'RB'), ('having', 'VBG'), ('to', 'TO'), ('switch', 'VB'), ('processes', 'NNS'), ('in', 'IN'), ('and', 'CC'), ('out', 'IN'), ('than', 'IN'), ('from', 'IN'), ('actually', 'RB'), ('not', 'RB'), ('running', 'VBG'), ('them', 'PRP'), ('.', '.'), ('this', 'DT'), ('is', 'VBZ'), ('probably', 'RB'), ('because', 'IN'), ('the', 'DT'), ('technique', 'NN'), ('attempts', 'NNS'), ('to', 'TO'), ('cycle', 'NN'), ('the', 'DT'), ('processor', 'NN'), ('when', 'WRB'), ('processes', 'NNS'), ('are', 'VBP'), ('not', 'RB'), ('doing', 'VBG'), ('anything', 'NN'), (',', ','), ('and', 'CC'), ('when', 'WRB'), ('a', 'DT'), ('process', 'NN'), ('is', 'VBZ'), ('not', 'RB'), ('doing', 'VBG'), ('anything', 'NN'), ('it', 'PRP'), ('should', 'MD'), ('be', 'VB'), ('doing', 'VBG'), ('little', 'JJ'), ('besides', 'IN'), ('getting', 'VBG'), ('switched', 'VBN'), ('in', 'IN'), ('and', 'CC'), ('out', 'IN'), ('.', '.'), ('strategy', 'NN'), ('b', 'NN'), ('never', 'RB'), ('cycles', 'VBZ'), ('instead', 'RB'), ('of', 'IN'), ('running', 'VBG'), ('or', 'CC'), ('scheduling', 'VBG'), ('process', 'NN'), ('quanta', 'NN'), (',', ','), ('but', 'CC'), ('it', 'PRP'), ('makes', 'VBZ'), ('up', 'RP'), ('for', 'IN'), ('this', 'DT'), ('by', 'IN'), ('always', 'RB'), ('cycling', 'VBG'), ('when', 'WRB'), ('the', 'DT'), ('os', 'NN'), ('would', 'MD'), ('otherwise', 'RB'), ('be', 'VB'), ('idle', 'JJ'), (',', ','), ('9.45', 'CD'), ('hours', 'NNS'), ('.', '.'), ('strategies', 'NNS'), ('bi', 'NN'), ('and', 'CC'), ('bis', 'NN'), ('cycle', 'NN'), ('even', 'RB'), ('more', 'RBR'), ('because', 'IN'), ('they', 'PRP'), ('can', 'MD'), ('cycle', 'NN'), ('instead', 'RB'), ('of', 'IN'), ('running', 'VBG'), ('or', 'CC'), ('scheduling', 'VBG'), ('process', 'NN'), ('quanta', 'NN'), ('.', '.'), ('indeed', 'RB'), (',', ','), ('even', 'RB'), ('if', 'IN'), ('we', 'PRP'), ('did', 'VBD'), ('not', 'RB'), ('consider', 'VB'), ('idle', 'JJ'), ('time', 'NN'), ('spent', 'VBN'), ('cycling', 'NN'), (',', ','), ('strategies', 'NNS'), ('bi', 'VBP'), ('and', 'CC'), ('bis', 'VBP'), ('still', 'RB'), ('save', 'VB'), ('more', 'RBR'), ('nonuseful', 'JJ'), ('process', 'NN'), ('and', 'CC'), ('scheduler', 'NN'), ('time', 'NN'), ('than', 'IN'), ('strategy', 'NN'), ('c.', 'NN'), ('interestingly', 'RB'), (',', ','), ('the', 'DT'), ('increased', 'VBN'), ('savings', 'NNS'), ('stem', 'NN'), ('from', 'IN'), ('reducing', 'VBG'), ('the', 'DT'), ('amount', 'NN'), ('of', 'IN'), ('time', 'NN'), ('spent', 'VBN'), ('scheduling', 'VBG'), ('nonuseful', 'JJ'), ('process', 'NN'), ('quanta', 'NN'), (',', ','), ('not', 'RB'), ('from', 'IN'), ('reducing', 'VBG'), ('the', 'DT'), ('time', 'NN'), ('spent', 'VBN'), ('running', 'VBG'), ('nonuseful', 'JJ'), ('process', 'NN'), ('quanta', 'NN'), ('.', '.'), ('in', 'IN'), ('fact', 'NN'), (',', ','), ('each', 'DT'), ('of', 'IN'), ('strategies', 'NNS'), ('bi', 'NNS'), ('and', 'CC'), ('bis', 'VB'), ('spends', 'NNS'), ('longer', 'RBR'), ('running', 'VBG'), ('nonuseful', 'JJ'), ('process', 'NN'), ('quanta', 'NN'), ('than', 'IN'), ('strategy', 'NN'), ('c.', 'VBP'), ('the', 'DT'), ('reason', 'NN'), ('these', 'DT'), ('strategies', 'NNS'), ('spend', 'VBP'), ('less', 'JJR'), ('time', 'NN'), ('scheduling', 'VBG'), ('nonuseful', 'JJ'), ('process', 'NN'), ('quanta', 'NN'), ('is', 'VBZ'), ('that', 'RB'), (',', ','), ('as', 'IN'), ('shown', 'VBN'), ('in', 'IN'), ('the', 'DT'), ('table', 'NN'), (',', ','), ('the', 'DT'), ('strategies', 'NNS'), ('schedule', 'VBP'), ('fewer', 'JJR'), ('nonuseful', 'JJ'), ('process', 'NN'), ('quanta', 'NN'), (',', ','), ('and', 'CC'), ('fewer', 'JJR'), ('quanta', 'NN'), ('to', 'TO'), ('schedule', 'VB'), ('means', 'NNS'), ('less', 'JJR'), ('time', 'NN'), ('spent', 'VBN'), ('scheduling', 'VBG'), ('quanta', 'NN'), ('.', '.'), ('so', 'IN'), ('we', 'PRP'), ('see', 'VBP'), ('that', 'IN'), ('the', 'DT'), ('savings', 'NNS'), ('from', 'IN'), ('strategies', 'NNS'), ('bi', 'NNS'), ('and', 'CC'), ('bis', 'VB'), ('stem', 'NN'), ('not', 'RB'), ('from', 'IN'), ('giving', 'VBG'), ('processes', 'NNS'), ('less', 'CC'), ('time', 'NN'), ('when', 'WRB'), ('they', 'PRP'), ('are', 'VBP'), ('not', 'RB'), ('doing', 'VBG'), ('useful', 'JJ'), ('work', 'NN'), (',', ','), ('but', 'CC'), ('from', 'IN'), ('switching', 'VBG'), ('them', 'PRP'), ('in', 'IN'), ('and', 'CC'), ('out', 'IN'), ('less', 'JJR'), ('often', 'RB'), ('when', 'WRB'), ('they', 'PRP'), ('are', 'VBP'), ('not', 'RB'), ('doing', 'VBG'), ('useful', 'JJ'), ('work', 'NN'), (',', ','), ('thus', 'RB'), ('saving', 'VBG'), ('time', 'NN'), ('associated', 'VBN'), ('with', 'IN'), ('process', 'NN'), ('switching', 'VBG'), ('.', '.'), ('on', 'IN'), ('the', 'DT'), ('other', 'JJ'), ('hand', 'NN'), (',', ','), ('strategy', 'NN'), ('big', 'JJ'), ('is', 'VBZ'), ('superior', 'JJ'), ('to', 'TO'), ('strategy', 'NN'), ('c', 'NNS'), ('in', 'IN'), ('its', 'PRP$'), ('conversion', 'NN'), ('of', 'IN'), ('all', 'DT'), ('types', 'NNS'), ('of', 'IN'), ('nonuseful', 'JJ'), ('time', 'NN'), ('.', '.'), ('so', 'RB'), (',', ','), ('the', 'DT'), ('savings', 'NNS'), ('from', 'IN'), ('strategy', 'NN'), ('big', 'JJ'), ('stems', 'VBZ'), ('both', 'DT'), ('from', 'IN'), ('giving', 'VBG'), ('processes', 'NNS'), ('control', 'NN'), ('less', 'RBR'), ('often', 'RB'), ('when', 'WRB'), ('they', 'PRP'), ('are', 'VBP'), ('not', 'RB'), ('busy', 'JJ'), ('and', 'CC'), ('from', 'IN'), ('giving', 'VBG'), ('them', 'PRP'), ('less', 'JJR'), ('time', 'NN'), ('to', 'TO'), ('run', 'VB'), ('useless', 'JJ'), ('tasks', 'NNS'), ('.', '.'), ('table', 'JJ'), ('3', 'CD'), ('also', 'RB'), ('allows', 'VBZ'), ('us', 'PRP'), ('to', 'TO'), ('compare', 'VB'), ('the', 'DT'), ('sources', 'NNS'), ('of', 'IN'), ('the', 'DT'), ('performance', 'NN'), ('impact', 'NN'), ('in', 'IN'), ('each', 'DT'), ('strategy', 'NN'), (';', ':'), ('this', 'DT'), ('involves', 'VBZ'), ('looking', 'VBG'), ('at', 'IN'), ('the', 'DT'), ('bold', 'JJ'), ('numbers', 'NNS'), ('.', '.'), ('we', 'PRP'), ('see', 'VBP'), ('that', 'IN'), ('for', 'IN'), ('strategy', 'NN'), ('c', 'NN'), (',', ','), ('about', 'IN'), ('half', 'NN'), ('of', 'IN'), ('the', 'DT'), ('performance', 'NN'), ('impact', 'NN'), ('is', 'VBZ'), ('due', 'JJ'), ('to', 'TO'), ('delaying', 'VBG'), ('the', 'DT'), ('running', 'NN'), ('of', 'IN'), ('useful', 'JJ'), ('process', 'NN'), ('quanta', 'NN'), ('and', 'CC'), ('half', 'NN'), ('is', 'VBZ'), ('due', 'JJ'), ('to', 'TO'), ('delaying', 'VBG'), ('the', 'DT'), ('switching', 'NN'), ('of', 'IN'), ('those', 'DT'), ('quanta', 'NNS'), ('.', '.'), ('on', 'IN'), ('the', 'DT'), ('other', 'JJ'), ('hand', 'NN'), (',', ','), ('strategy', 'NN'), ('bi', 'NN'), ('delays', 'VBZ'), ('about', 'IN'), ('the', 'DT'), ('same', 'JJ'), ('amount', 'NN'), ('of', 'IN'), ('useful', 'JJ'), ('process', 'NN'), ('run', 'NN'), ('time', 'NN'), (',', ','), ('but', 'CC'), ('far', 'RB'), ('less', 'JJR'), ('time', 'NN'), ('spent', 'JJ'), ('switching', 'VBG'), ('process', 'NN'), ('quanta', 'NN'), ('.', '.'), ('this', 'DT'), ('is', 'VBZ'), ('explained', 'VBN'), ('by', 'IN'), ('the', 'DT'), ('fact', 'NN'), ('that', 'IN'), ('it', 'PRP'), ('delays', 'VBZ'), ('a', 'DT'), ('much', 'RB'), ('lower', 'JJR'), ('absolute', 'JJ'), ('number', 'NN'), ('of', 'IN'), ('useful', 'JJ'), ('process', 'NN'), ('quanta', 'NN'), ('.', '.'), ('the', 'DT'), ('low', 'JJ'), ('amount', 'NN'), ('of', 'IN'), ('delayed', 'JJ'), ('scheduler', 'NN'), ('time', 'NN'), ('in', 'IN'), ('strategy', 'NN'), ('bi', 'NN'), ('extends', 'VBZ'), ('to', 'TO'), ('big', 'JJ'), ('and', 'CC'), ('bis', 'NN'), (',', ','), ('allowing', 'VBG'), ('them', 'PRP'), ('to', 'TO'), ('have', 'VB'), ('a', 'DT'), ('greater', 'JJR'), ('amount', 'NN'), ('of', 'IN'), ('delayed', 'JJ'), ('process', 'NN'), ('quantum', 'NN'), ('and', 'CC'), ('os', 'JJ'), ('time', 'NN'), ('while', 'IN'), ('still', 'RB'), ('maintaining', 'VBG'), ('the', 'DT'), ('same', 'JJ'), ('performance', 'NN'), ('impact', 'NN'), ('as', 'IN'), ('strategy', 'NN'), ('c.', 'VBZ'), ('our', 'PRP$'), ('main', 'JJ'), ('observation', 'NN'), (',', ','), ('then', 'RB'), (',', ','), ('is', 'VBZ'), ('that', 'IN'), ('strategies', 'NNS'), ('bi', 'VBP'), (',', ','), ('big', 'JJ'), (',', ','), ('and', 'CC'), ('bis', 'VB'), ('delay', 'NN'), ('far', 'RB'), ('fewer', 'JJR'), ('useful', 'JJ'), ('quanta', 'NN'), ('than', 'IN'), ('strategy', 'NN'), ('c', 'VB'), ('even', 'RB'), ('though', 'IN'), ('by', 'IN'), ('design', 'NN'), ('the', 'DT'), ('latter', 'JJ'), ('two', 'CD'), ('delay', 'VBP'), ('the', 'DT'), ('same', 'JJ'), ('amount', 'NN'), ('of', 'IN'), ('to-', 'NN'), ('in', 'IN'), ('our', 'PRP$'), ('simulations', 'NNS'), (',', ','), ('we', 'PRP'), ('found', 'VBD'), ('the', 'DT'), ('following', 'NN'), ('.', '.'), ('the', 'DT'), ('basic', 'JJ'), ('strategy', 'NN'), ('by', 'IN'), ('itself', 'PRP'), ('saves', 'VBZ'), ('barely', 'RB'), ('more', 'RBR'), ('energy', 'NN'), ('than', 'IN'), ('the', 'DT'), ('current', 'JJ'), ('macos', 'NN'), ('strategy', 'NN'), (',', ','), ('although', 'IN'), ('it', 'PRP'), ('does', 'VBZ'), ('have', 'VB'), ('less', 'JJR'), ('performance', 'NN'), ('impact', 'NN'), ('.', '.'), ('adding', 'VBG'), ('the', 'DT'), ('simple', 'JJ'), ('scheduling', 'NN'), ('technique', 'NN'), ('allows', 'VBZ'), ('the', 'DT'), ('basic', 'JJ'), ('strategy', 'NN'), ('to', 'TO'), ('reduce', 'VB'), ('energy', 'NN'), ('consumption', 'NN'), ('by', 'IN'), ('26', 'CD'), ('%', 'NN'), ('and', 'CC'), ('to', 'TO'), ('reduce', 'VB'), ('workload', 'NN'), ('completion', 'NN'), ('time', 'NN'), ('by', 'IN'), ('0.7', 'CD'), ('%', 'NN'), ('compared', 'VBN'), ('to', 'TO'), ('the', 'DT'), ('current', 'JJ'), ('macos', 'NN'), ('strategy', 'NN'), ('.', '.'), ('adding', 'VBG'), ('further', 'JJ'), ('techniques', 'NNS'), ('for', 'IN'), ('managing', 'VBG'), ('processor', 'NN'), ('time', 'NN'), ('allows', 'VBZ'), ('the', 'DT'), ('basic', 'JJ'), ('strategy', 'NN'), ('to', 'TO'), ('even', 'RB'), ('further', 'RBR'), ('surpass', 'VBP'), ('the', 'DT'), ('current', 'JJ'), ('macos', 'NN'), ('strategy', 'NN'), ('in', 'IN'), ('energy', 'NN'), ('savings', 'NNS'), ('for', 'IN'), ('the', 'DT'), ('same', 'JJ'), ('level', 'NN'), ('of', 'IN'), ('performance', 'NN'), ('impact', 'NN'), ('.', '.'), ('using', 'VBG'), ('the', 'DT'), ('sleep', 'JJ'), ('extension', 'NN'), ('technique', 'NN'), ('allows', 'VBZ'), ('32', 'CD'), ('%', 'NN'), ('less', 'JJR'), ('processor', 'JJ'), ('energy', 'NN'), ('consumption', 'NN'), (',', ','), ('and', 'CC'), ('using', 'VBG'), ('the', 'DT'), ('greediness', 'NN'), ('technique', 'NN'), ('allows', 'VBZ'), ('53', 'CD'), ('%', 'NN'), ('less', 'JJR'), ('processor', 'JJ'), ('energy', 'NN'), ('consumption', 'NN'), ('.', '.'), ('in', 'IN'), ('all', 'DT'), ('cases', 'NNS'), (',', ','), ('the', 'DT'), ('absolute', 'JJ'), ('level', 'NN'), ('of', 'IN'), ('performance', 'NN'), ('impact', 'NN'), ('is', 'VBZ'), ('very', 'RB'), ('low', 'JJ'), ('.', '.'), ('note', 'NN'), (',', ','), ('however', 'RB'), (',', ','), ('that', 'IN'), ('at', 'IN'), ('best', 'JJS'), ('we', 'PRP'), ('get', 'VBP'), ('about', 'IN'), ('66', 'CD'), ('%', 'NN'), ('absolute', 'JJ'), ('energy', 'NN'), ('savings', 'NNS'), (',', ','), ('compared', 'VBN'), ('to', 'TO'), ('the', 'DT'), ('approximately', 'RB'), ('82', 'CD'), ('%', 'NN'), ('that', 'WDT'), ('would', 'MD'), ('be', 'VB'), ('available', 'JJ'), ('with', 'IN'), ('optimal', 'JJ'), ('power', 'NN'), ('reduction', 'NN'), ('.', '.'), ('our', 'PRP$'), ('simulations', 'NNS'), ('suggest', 'VBP'), ('that', 'IN'), ('although', 'IN'), ('both', 'DT'), ('the', 'DT'), ('greediness', 'NN'), ('technique', 'NN'), ('and', 'CC'), ('the', 'DT'), ('sleep', 'JJ'), ('extension', 'NN'), ('technique', 'NN'), ('are', 'VBP'), ('helpful', 'JJ'), ('in', 'IN'), ('increasing', 'VBG'), ('the', 'DT'), ('savings', 'NNS'), ('attainable', 'JJ'), ('from', 'IN'), ('the', 'DT'), ('basic', 'JJ'), ('strategy', 'NN'), ('with', 'IN'), ('the', 'DT'), ('simple', 'JJ'), ('scheduling', 'NN'), ('technique', 'NN'), (',', ','), ('the', 'DT'), ('greediness', 'NN'), ('technique', 'NN'), ('does', 'VBZ'), ('this', 'DT'), ('job', 'NN'), ('better', 'RBR'), ('than', 'IN'), ('the', 'DT'), ('simple', 'JJ'), ('scheduling', 'NN'), ('technique', 'NN'), ('.', '.'), ('furthermore', 'RB'), (',', ','), ('when', 'WRB'), ('attempting', 'VBG'), ('to', 'TO'), ('achieve', 'VB'), ('the', 'DT'), ('same', 'JJ'), ('performance', 'NN'), ('impact', 'NN'), ('the', 'DT'), ('current', 'JJ'), ('macos', 'NN'), ('provides', 'VBZ'), (',', ','), ('it', 'PRP'), ('is', 'VBZ'), ('not', 'RB'), ('worthwhile', 'JJ'), ('to', 'TO'), ('use', 'VB'), ('the', 'DT'), ('sleep', 'JJ'), ('extension', 'NN'), ('technique', 'NN'), ('if', 'IN'), ('one', 'CD'), ('is', 'VBZ'), ('already', 'RB'), ('using', 'VBG'), ('the', 'DT'), ('greediness', 'NN'), ('technique', 'NN'), ('.', '.'), ('the', 'DT'), ('reason', 'NN'), ('for', 'IN'), ('this', 'DT'), ('is', 'VBZ'), ('that', 'IN'), ('the', 'DT'), ('cost', 'NN'), ('in', 'IN'), ('performance', 'NN'), ('impact', 'NN'), ('of', 'IN'), ('an', 'DT'), ('increase', 'NN'), ('in', 'IN'), ('energy', 'NN'), ('savings', 'NNS'), ('is', 'VBZ'), ('greater', 'JJR'), ('for', 'IN'), ('the', 'DT'), ('sleep', 'JJ'), ('extension', 'NN'), ('technique', 'NN'), ('than', 'IN'), ('for', 'IN'), ('the', 'DT'), ('greediness', 'NN'), ('technique', 'NN'), ('.', '.'), ('in', 'IN'), ('other', 'JJ'), ('words', 'NNS'), (',', ','), ('adjusting', 'VBG'), ('the', 'DT'), ('parameters', 'NNS'), ('of', 'IN'), ('any', 'DT'), ('technique', 'NN'), ('to', 'TO'), ('improve', 'VB'), ('its', 'PRP$'), ('energy', 'NN'), ('savings', 'NNS'), ('will', 'MD'), ('necessarily', 'RB'), ('cause', 'VB'), ('it', 'PRP'), ('to', 'TO'), ('cycle', 'NN'), ('more', 'RBR'), ('often', 'RB'), ('when', 'WRB'), ('the', 'DT'), ('processor', 'NN'), ('is', 'VBZ'), ('doing', 'VBG'), ('useful', 'JJ'), ('work', 'NN'), ('and', 'CC'), ('thus', 'RB'), ('increase', 'VB'), ('performance', 'NN'), ('impact', 'NN'), ('.', '.'), ('it', 'PRP'), ('happens', 'VBZ'), ('that', 'IN'), ('this', 'DT'), ('effect', 'NN'), ('is', 'VBZ'), ('more', 'RBR'), ('pronounced', 'JJ'), ('for', 'IN'), ('the', 'DT'), ('sleep', 'JJ'), ('extension', 'NN'), ('technique', 'NN'), ('than', 'IN'), ('for', 'IN'), ('the', 'DT'), ('greediness', 'NN'), ('technique', 'NN'), (',', ','), ('at', 'IN'), ('least', 'JJS'), ('for', 'IN'), ('the', 'DT'), ('low', 'JJ'), ('performance', 'NN'), ('impact', 'NN'), ('regime', 'NN'), ('in', 'IN'), ('which', 'WDT'), ('we', 'PRP'), ('are', 'VBP'), ('interested', 'JJ'), ('.', '.'), ('besides', 'IN'), ('this', 'DT'), ('difference', 'NN'), ('between', 'IN'), ('the', 'DT'), ('two', 'CD'), ('techniques', 'NNS'), (',', ','), ('another', 'DT'), ('reason', 'NN'), ('to', 'TO'), ('not', 'RB'), ('use', 'VB'), ('the', 'DT'), ('sleep', 'JJ'), ('extension', 'NN'), ('technique', 'NN'), ('is', 'VBZ'), ('that', 'IN'), ('it', 'PRP'), ('is', 'VBZ'), ('quite', 'RB'), ('possible', 'JJ'), ('that', 'IN'), ('extending', 'VBG'), ('real-time', 'JJ'), ('sleep', 'JJ'), ('times', 'NNS'), ('will', 'MD'), ('produce', 'VB'), ('undesirable', 'JJ'), ('effects', 'NNS'), ('in', 'IN'), ('terms', 'NNS'), ('of', 'IN'), ('system', 'NN'), ('performance', 'NN'), ('or', 'CC'), ('functionality', 'NN'), ('.', '.'), ('analysis', 'NN'), ('of', 'IN'), ('the', 'DT'), ('sensitivity', 'NN'), ('of', 'IN'), ('the', 'DT'), ('techniques', 'NNS'), ('to', 'TO'), ('changes', 'NNS'), ('in', 'IN'), ('parameter', 'NN'), ('settings', 'NNS'), ('and', 'CC'), ('workloads', 'NNS'), ('suggests', 'VBZ'), ('that', 'IN'), ('ideal', 'JJ'), ('parameter', 'NN'), ('setting', 'NN'), ('is', 'VBZ'), ('not', 'RB'), ('necessary', 'JJ'), ('to', 'TO'), ('the', 'DT'), ('consistent', 'JJ'), ('functioning', 'NN'), ('of', 'IN'), ('the', 'DT'), ('techniques', 'NNS'), ('.', '.'), ('thus', 'RB'), (',', ','), ('we', 'PRP'), ('expect', 'VBP'), ('the', 'DT'), ('techniques', 'NNS'), ('to', 'TO'), ('be', 'VB'), ('successful', 'JJ'), ('with', 'IN'), ('even', 'RB'), ('naive', 'JJ'), ('parameter-setting', 'NN'), ('by', 'IN'), ('the', 'DT'), ('operating', 'NN'), ('system', 'NN'), ('or', 'CC'), ('user', 'NN'), ('.', '.'), ('however', 'RB'), (',', ','), ('one', 'CD'), ('anomalous', 'JJ'), ('case', 'NN'), (',', ','), ('user', 'RB'), ('2', 'CD'), (',', ','), ('points', 'NNS'), ('out', 'RP'), ('the', 'DT'), ('vulnerability', 'NN'), ('of', 'IN'), ('the', 'DT'), ('basic', 'JJ'), ('strategy', 'NN'), ('to', 'TO'), ('poor', 'JJ'), ('application', 'NN'), ('behavior', 'NN'), (',', ','), ('suggesting', 'VBG'), ('that', 'IN'), ('the', 'DT'), ('greediness', 'NN'), ('technique', 'NN'), ('or', 'CC'), ('something', 'NN'), ('like', 'IN'), ('it', 'PRP'), ('should', 'MD'), ('always', 'RB'), ('accompany', 'VB'), ('the', 'DT'), ('basic', 'JJ'), ('strategy', 'NN'), ('.', '.'), ('in', 'IN'), ('this', 'DT'), ('example', 'NN'), (',', ','), ('based', 'VBN'), ('on', 'IN'), ('the', 'DT'), ('duo', 'NN'), ('280c', 'CD'), (',', ','), ('turning', 'VBG'), ('off', 'RP'), ('the', 'DT'), ('processor', 'NN'), ('saves', 'VBZ'), ('3.74', 'CD'), ('w', 'NN'), (',', ','), ('while', 'IN'), ('the', 'DT'), ('components', 'NNS'), ('that', 'WDT'), ('remain', 'VBP'), ('on', 'IN'), ('consume', 'NN'), (',', ','), ('on', 'IN'), ('average', 'NN'), (',', ','), ('5.65', 'CD'), ('w', 'NN'), (',', ','), ('given', 'VBN'), ('current', 'JJ'), ('power', 'NN'), ('management', 'NN'), ('techniques', 'NNS'), ('.', '.'), ('note', 'NN'), ('that', 'IN'), ('we', 'PRP'), ('are', 'VBP'), ('assuming', 'VBG'), ('that', 'IN'), ('during', 'IN'), ('extra', 'JJ'), ('time', 'NN'), ('spent', 'VBN'), ('with', 'IN'), ('the', 'DT'), ('processor', 'NN'), ('on', 'IN'), (',', ','), ('other', 'JJ'), ('components', 'NNS'), ('are', 'VBP'), (',', ','), ('on', 'IN'), ('average', 'NN'), (',', ','), ('at', 'IN'), ('their', 'PRP$'), ('average', 'JJ'), ('power', 'NN'), ('levels', 'NNS'), ('given', 'VBN'), ('current', 'JJ'), ('power', 'NN'), ('management', 'NN'), ('techniques', 'NNS'), ('.', '.'), ('the', 'DT'), ('bis', 'NN'), ('strategy', 'NN'), (',', ','), ('with', 'IN'), ('its', 'PRP$'), ('processor', 'NN'), ('energy', 'NN'), ('savings', 'NNS'), ('of', 'IN'), ('51.72', 'CD'), ('%', 'NN'), ('and', 'CC'), ('same', 'JJ'), ('performance', 'NN'), ('impact', 'NN'), (',', ','), ('would', 'MD'), ('make', 'VB'), ('average', 'JJ'), ('total', 'JJ'), ('power', 'NN'), ('consumption', 'NN'), ('7.42', 'CD'), ('w', 'NN'), (',', ','), ('yielding', 'VBG'), ('a', 'DT'), ('power', 'NN'), ('savings', 'NN'), ('of', 'IN'), ('10.3', 'CD'), ('%', 'NN'), ('and', 'CC'), ('battery', 'NN'), ('lifetime', 'JJ'), ('increase', 'NN'), ('of', 'IN'), ('11.5', 'CD'), ('%', 'NN'), ('compared', 'VBN'), ('to', 'TO'), ('strategy', 'NN'), ('c.', 'VB'), ('note', 'NN'), ('that', 'IN'), ('all', 'PDT'), ('these', 'DT'), ('figures', 'NNS'), ('are', 'VBP'), ('only', 'RB'), ('applicable', 'JJ'), ('to', 'TO'), ('the', 'DT'), ('workload', 'NN'), ('studied', 'VBD'), ('here', 'RB'), (',', ','), ('i.e', 'NN'), ('.', '.'), ('it', 'PRP'), ('is', 'VBZ'), ('unclear', 'JJ'), ('how', 'WRB'), ('much', 'RB'), ('more', 'RBR'), ('or', 'CC'), ('less', 'RBR'), ('effective', 'JJ'), ('these', 'DT'), ('methods', 'NNS'), ('would', 'MD'), ('be', 'VB'), ('for', 'IN'), ('some', 'DT'), ('other', 'JJ'), ('workload', 'NN'), (';', ':'), ('for', 'IN'), ('instance', 'NN'), (',', ','), ('a', 'DT'), ('previous', 'JJ'), ('study', 'NN'), ('with', 'IN'), ('a', 'DT'), ('different', 'JJ'), ('workload', 'NN'), ('found', 'VBD'), ('that', 'IN'), ('48.1', 'CD'), ('%', 'NN'), ('of', 'IN'), ('processor', 'NN'), ('power', 'NN'), ('was', 'VBD'), ('saved', 'VBN'), ('by', 'IN'), ('the', 'DT'), ('current', 'JJ'), ('macos', 'NN'), ('strategy', 'NN'), ('.', '.'), ('even', 'RB'), ('within', 'IN'), ('the', 'DT'), ('workload', 'NN'), ('studied', 'VBD'), ('here', 'RB'), (',', ','), ('we', 'PRP'), ('have', 'VBP'), ('seen', 'VBN'), ('that', 'IN'), ('the', 'DT'), ('savings', 'NNS'), ('from', 'IN'), ('each', 'DT'), ('strategy', 'NN'), ('varies', 'VBZ'), ('greatly', 'RB'), ('from', 'IN'), ('one', 'CD'), ('user', 'NN'), ('to', 'TO'), ('another', 'DT'), ('.', '.'), ('we', 'PRP'), ('believe', 'VBP'), ('that', 'IN'), ('even', 'RB'), ('though', 'IN'), ('our', 'PRP$'), ('simulations', 'NNS'), ('were', 'VBD'), ('performed', 'VBN'), ('on', 'IN'), ('macos', 'NN'), ('traces', 'NNS'), (',', ','), ('our', 'PRP$'), ('techniques', 'NNS'), ('are', 'VBP'), ('generally', 'RB'), ('applicable', 'JJ'), ('to', 'TO'), ('other', 'JJ'), ('single-user', 'JJ'), ('operating', 'VBG'), ('systems', 'NNS'), ('.', '.'), ('for', 'IN'), ('example', 'NN'), (',', ','), ('microsoft', 'JJ'), ('windows', 'NNS'), ('essentially', 'RB'), ('uses', 'VBZ'), ('the', 'DT'), ('basic', 'JJ'), ('strategy', 'NN'), ('with', 'IN'), ('the', 'DT'), ('simple', 'JJ'), ('scheduling', 'NN'), ('technique', 'NN'), ('.', '.'), ('however', 'RB'), (',', ','), ('it', 'PRP'), ('makes', 'VBZ'), ('no', 'DT'), ('attempt', 'NN'), ('to', 'TO'), ('police', 'VB'), ('processes', 'NNS'), ('that', 'WDT'), ('make', 'VBP'), ('unfair', 'JJ'), ('processor', 'NN'), ('time', 'NN'), ('requests', 'NNS'), (';', ':'), ('in', 'IN'), ('fact', 'NN'), (',', ','), ('one', 'CD'), ('recognized', 'VBN'), ('problem', 'NN'), ('with', 'IN'), ('its', 'PRP$'), ('power', 'NN'), ('management', 'NN'), ('is', 'VBZ'), ('that', 'IN'), ('if', 'IN'), ('a', 'DT'), ('single', 'JJ'), ('process', 'NN'), ('requests', 'NNS'), ('events', 'NNS'), ('using', 'VBG'), ('peekmessage', 'NN'), ('rather', 'RB'), ('than', 'IN'), ('getmessage', 'NN'), ('or', 'CC'), ('waitmessage', 'NN'), (',', ','), ('then', 'RB'), ('processor', 'VBZ'), ('power', 'NN'), ('management', 'NN'), ('can', 'MD'), ('not', 'RB'), ('take', 'VB'), ('place', 'NN'), ('.', '.'), ('this', 'DT'), ('problem', 'NN'), ('is', 'VBZ'), ('exactly', 'RB'), ('the', 'DT'), ('sort', 'NN'), ('that', 'IN'), ('the', 'DT'), ('greediness', 'NN'), ('technique', 'NN'), ('was', 'VBD'), ('designed', 'VBN'), ('to', 'TO'), ('alleviate', 'VB'), (',', ','), ('so', 'IN'), ('we', 'PRP'), ('may', 'MD'), ('find', 'VB'), ('that', 'DT'), (',', ','), ('as', 'IN'), ('we', 'PRP'), ('demonstrated', 'VBD'), ('for', 'IN'), ('the', 'DT'), ('macos', 'NN'), (',', ','), ('the', 'DT'), ('effectiveness', 'NN'), ('of', 'IN'), ('the', 'DT'), ('basic', 'JJ'), ('strategy', 'NN'), ('is', 'VBZ'), ('greatly', 'RB'), ('improved', 'VBN'), ('by', 'IN'), ('the', 'DT'), ('use', 'NN'), ('of', 'IN'), ('such', 'JJ'), ('a', 'DT'), ('technique', 'NN'), ('.', '.'), ('we', 'PRP'), ('would', 'MD'), ('like', 'VB'), ('to', 'TO'), ('see', 'VB'), ('the', 'DT'), ('work', 'NN'), ('described', 'VBD'), ('here', 'RB'), ('continued', 'VBN'), ('in', 'IN'), ('several', 'JJ'), ('ways', 'NNS'), ('.', '.'), ('first', 'RB'), (',', ','), ('we', 'PRP'), ('would', 'MD'), ('like', 'VB'), ('to', 'TO'), ('actually', 'RB'), ('implement', 'VB'), ('our', 'PRP$'), ('proposed', 'VBN'), ('strategies', 'NNS'), ('.', '.'), ('second', 'JJ'), (',', ','), ('we', 'PRP'), ('would', 'MD'), ('like', 'VB'), ('to', 'TO'), ('collect', 'VB'), ('additional', 'JJ'), ('traces', 'NNS'), (',', ','), ('so', 'IN'), ('that', 'IN'), ('the', 'DT'), ('effectiveness', 'NN'), ('of', 'IN'), ('our', 'PRP$'), ('techniques', 'NNS'), ('over', 'IN'), ('a', 'DT'), ('larger', 'JJR'), ('variety', 'NN'), ('of', 'IN'), ('users', 'NNS'), ('and', 'CC'), ('workloads', 'NNS'), ('can', 'MD'), ('be', 'VB'), ('established', 'VBN'), (',', ','), ('so', 'IN'), ('that', 'IN'), ('we', 'PRP'), ('can', 'MD'), ('better', 'VB'), ('select', 'JJ'), ('parameter', 'NN'), ('values', 'NNS'), (',', ','), ('and', 'CC'), ('so', 'RB'), ('that', 'IN'), ('we', 'PRP'), ('can', 'MD'), ('determine', 'VB'), ('if', 'IN'), ('dynamic', 'JJ'), ('variation', 'NN'), ('of', 'IN'), ('parameter', 'NN'), ('values', 'NNS'), ('is', 'VBZ'), ('useful', 'JJ'), ('.', '.'), ('in', 'IN'), ('particular', 'JJ'), (',', ','), ('we', 'PRP'), ('want', 'VBP'), ('to', 'TO'), ('obtain', 'VB'), ('traces', 'NNS'), ('from', 'IN'), ('different', 'JJ'), ('types', 'NNS'), ('of', 'IN'), ('user', 'NN'), ('environments', 'NNS'), (';', ':'), ('our', 'PRP$'), ('current', 'JJ'), ('set', 'NN'), ('of', 'IN'), ('traces', 'NNS'), ('is', 'VBZ'), ('rather', 'RB'), ('limited', 'VBN'), ('in', 'IN'), ('this', 'DT'), ('respect', 'NN'), ('.', '.'), ('third', 'JJ'), (',', ','), ('we', 'PRP'), ('would', 'MD'), ('like', 'VB'), ('to', 'TO'), ('see', 'VB'), ('if', 'IN'), ('our', 'PRP$'), ('power-saving', 'NN'), ('techniques', 'NNS'), ('are', 'VBP'), ('applicable', 'JJ'), ('in', 'IN'), ('practice', 'NN'), ('to', 'TO'), ('other', 'JJ'), ('single-user', 'JJ'), ('operating', 'VBG'), ('systems', 'NNS'), ('.', '.'), ('finally', 'RB'), (',', ','), ('we', 'PRP'), ('do', 'VBP'), ('not', 'RB'), ('believe', 'VB'), ('that', 'IN'), ('we', 'PRP'), ('have', 'VBP'), ('exhausted', 'VBN'), ('the', 'DT'), ('possibilities', 'NNS'), ('for', 'IN'), ('software', 'NN'), ('strategies', 'NNS'), ('to', 'TO'), ('put', 'VB'), ('the', 'DT'), ('cpu', 'NN'), ('into', 'IN'), ('power', 'NN'), ('saving', 'VBG'), ('modes', 'NNS'), (';', ':'), ('our', 'PRP$'), ('work', 'NN'), ('to', 'TO'), ('date', 'NN'), ('has', 'VBZ'), ('not', 'RB'), (',', ','), ('for', 'IN'), ('example', 'NN'), (',', ','), ('considered', 'VBN'), ('systems', 'NNS'), ('in', 'IN'), ('which', 'WDT'), ('the', 'DT'), ('clock', 'NN'), ('rate', 'NN'), ('and', 'CC'), ('voltage', 'NN'), ('can', 'MD'), ('be', 'VB'), ('varied', 'VBN'), ('simultaneously', 'RB'), ('and', 'CC'), ('dynamically', 'RB'), ('.', '.'), ('we', 'PRP'), ('also', 'RB'), ('do', 'VBP'), ('not', 'RB'), ('believe', 'VB'), ('that', 'IN'), ('we', 'PRP'), ('have', 'VBP'), ('found', 'VBN'), ('or', 'CC'), ('used', 'VBN'), ('all', 'DT'), ('of', 'IN'), ('the', 'DT'), ('information', 'NN'), ('useful', 'JJ'), ('in', 'IN'), ('predicting', 'VBG'), ('``', '``'), ('useless', 'JJ'), (\"''\", \"''\"), ('quanta', 'NN'), ('.', '.'), ('at', 'IN'), ('best', 'JJS'), (',', ','), ('we', 'PRP'), ('save', 'VBP'), ('around', 'RB'), ('66', 'CD'), ('%', 'NN'), ('of', 'IN'), ('the', 'DT'), ('cpu', 'NN'), ('energy', 'NN'), (',', ','), ('compared', 'VBN'), ('to', 'TO'), ('a', 'DT'), ('theoretical', 'JJ'), ('optimum', 'NN'), ('of', 'IN'), ('82', 'CD'), ('%', 'NN'), ('.', '.'), ('reducing', 'VBG'), ('the', 'DT'), ('power', 'NN'), ('consumption', 'NN'), ('of', 'IN'), ('computer', 'NN'), ('systems', 'NNS'), ('is', 'VBZ'), ('becoming', 'VBG'), ('an', 'DT'), ('important', 'JJ'), ('factor', 'NN'), ('in', 'IN'), ('their', 'PRP$'), ('design', 'NN'), (',', ','), ('especially', 'RB'), ('in', 'IN'), ('the', 'DT'), ('case', 'NN'), ('of', 'IN'), ('portable', 'JJ'), ('computers', 'NNS'), ('.', '.'), ('an', 'DT'), ('important', 'JJ'), ('component', 'NN'), ('for', 'IN'), ('power', 'NN'), ('management', 'NN'), ('is', 'VBZ'), ('the', 'DT'), ('processor', 'NN'), (',', ','), ('as', 'IN'), ('it', 'PRP'), ('accounts', 'VBZ'), ('for', 'IN'), ('a', 'DT'), ('large', 'JJ'), ('percentage', 'NN'), ('of', 'IN'), ('total', 'JJ'), ('power', 'NN'), ('.', '.'), ('obviously', 'RB'), (',', ','), ('the', 'DT'), ('cpu', 'NN'), ('can', 'MD'), ('be', 'VB'), ('turned', 'VBN'), ('off', 'RP'), ('when', 'WRB'), ('it', 'PRP'), ('is', 'VBZ'), ('inactive', 'JJ'), (';', ':'), ('in', 'IN'), ('some', 'DT'), ('operating', 'NN'), ('systems', 'NNS'), (',', ','), ('however', 'RB'), (',', ','), ('such', 'JJ'), ('as', 'IN'), ('macos', 'NN'), (',', ','), ('the', 'DT'), ('cpu', 'NN'), ('is', 'VBZ'), ('frequently', 'RB'), ('running', 'VBG'), ('even', 'RB'), ('when', 'WRB'), ('there', 'EX'), ('is', 'VBZ'), (\"n't\", 'RB'), ('any', 'DT'), ('``', '``'), ('useful', 'JJ'), (\"''\", \"''\"), ('work', 'NN'), ('to', 'TO'), ('do', 'VB'), ('.', '.'), ('we', 'PRP'), ('have', 'VBP'), ('found', 'VBN'), ('several', 'JJ'), ('heuristic', 'JJ'), ('techniques', 'NNS'), ('to', 'TO'), ('decrease', 'VB'), ('power', 'NN'), ('use', 'NN'), (',', ','), ('such', 'JJ'), ('as', 'IN'), ('never', 'RB'), ('running', 'VBG'), ('a', 'DT'), ('process', 'NN'), ('that', 'WDT'), ('is', 'VBZ'), ('still', 'RB'), ('blocked', 'VBN'), ('and', 'CC'), ('waiting', 'VBG'), ('on', 'IN'), ('an', 'DT'), ('event', 'NN'), (',', ','), ('delaying', 'VBG'), ('processes', 'NNS'), ('that', 'WDT'), ('execute', 'VBP'), ('without', 'IN'), ('producing', 'VBG'), ('output', 'NN'), ('or', 'CC'), ('otherwise', 'RB'), ('signaling', 'JJ'), ('useful', 'JJ'), ('activity', 'NN'), (',', ','), ('and', 'CC'), ('delaying', 'VBG'), ('the', 'DT'), ('frequency', 'NN'), ('of', 'IN'), ('periodic', 'JJ'), ('processes', 'NNS'), (',', ','), ('most', 'JJS'), ('of', 'IN'), ('which', 'WDT'), ('seem', 'VBP'), ('to', 'TO'), ('wake', 'VB'), ('up', 'RP'), (',', ','), ('look', 'VB'), ('around', 'IN'), (',', ','), ('find', 'VBP'), ('nothing', 'NN'), ('interesting', 'NN'), ('to', 'TO'), ('do', 'VB'), (',', ','), ('and', 'CC'), ('go', 'VB'), ('back', 'RB'), ('to', 'TO'), ('sleep', 'VB'), ('.', '.'), ('to', 'TO'), ('the', 'DT'), ('extent', 'NN'), ('that', 'IN'), ('similar', 'JJ'), ('phenomena', 'NNS'), ('occur', 'VBP'), ('in', 'IN'), ('other', 'JJ'), ('operating', 'VBG'), ('systems', 'NNS'), (',', ','), ('these', 'DT'), ('techniques', 'NNS'), ('should', 'MD'), ('apply', 'VB'), ('to', 'TO'), ('them', 'PRP'), ('also', 'RB'), ('.', '.'), ('we', 'PRP'), ('have', 'VBP'), ('used', 'VBN'), ('trace-driven', 'JJ'), ('simulation', 'NN'), ('to', 'TO'), ('evaluate', 'VB'), ('these', 'DT'), ('techniques', 'NNS'), ('on', 'IN'), ('the', 'DT'), ('basis', 'NN'), ('of', 'IN'), ('processor', 'NN'), ('energy', 'NN'), ('saved', 'VBD'), ('and', 'CC'), ('increase', 'VB'), ('in', 'IN'), ('processing', 'JJ'), ('time', 'NN'), ('.', '.'), ('we', 'PRP'), ('found', 'VBD'), ('that', 'IN'), ('our', 'PRP$'), ('techniques', 'NNS'), ('save', 'VB'), ('47-66', 'CD'), ('%', 'NN'), ('of', 'IN'), ('processor', 'NN'), ('energy', 'NN'), (',', ','), ('thus', 'RB'), ('decreasing', 'VBG'), ('processor', 'NN'), ('energy', 'NN'), ('consumption', 'NN'), ('by', 'IN'), ('26-53', 'JJ'), ('%', 'NN'), ('compared', 'VBN'), ('to', 'TO'), ('the', 'DT'), ('simple', 'JJ'), ('strategy', 'NN'), ('currently', 'RB'), ('employed', 'VBN'), ('by', 'IN'), ('macos', 'NN'), ('.', '.'), ('taking', 'VBG'), ('into', 'IN'), ('consideration', 'NN'), ('the', 'DT'), ('fraction', 'NN'), ('of', 'IN'), ('system', 'NN'), ('power', 'NN'), ('used', 'VBN'), ('by', 'IN'), ('the', 'DT'), ('cpu', 'NN'), (',', ','), ('we', 'PRP'), ('estimate', 'VBP'), ('that', 'IN'), ('implementing', 'VBG'), ('the', 'DT'), ('best', 'JJS'), ('subset', 'NN'), ('of', 'IN'), ('our', 'PRP$'), ('techniques', 'NNS'), ('will', 'MD'), ('increase', 'VB'), ('battery', 'NN'), ('lifetime', 'NN'), ('for', 'IN'), ('macintosh', 'NN'), ('portables', 'NNS'), ('by', 'IN'), ('around', 'IN'), ('20', 'CD'), ('%', 'NN'), ('.', '.'), ('these', 'DT'), ('savings', 'NNS'), ('do', 'VBP'), ('imply', 'VB'), ('a', 'DT'), ('small', 'JJ'), ('loss', 'NN'), ('in', 'IN'), ('effective', 'JJ'), ('system', 'NN'), ('performance', 'NN'), (';', ':'), ('in', 'IN'), ('all', 'DT'), ('cases', 'NNS'), (',', ','), ('this', 'DT'), ('loss', 'NN'), ('is', 'VBZ'), ('less', 'JJR'), ('than', 'IN'), ('2', 'CD'), ('%', 'NN'), ('.', '.'), ('work', 'NN'), ('is', 'VBZ'), ('continuing', 'VBG'), ('on', 'IN'), ('this', 'DT'), ('topic', 'NN'), ('.', '.'), ('many', 'JJ'), ('people', 'NNS'), ('aided', 'VBD'), ('in', 'IN'), ('the', 'DT'), ('preparation', 'NN'), ('of', 'IN'), ('this', 'DT'), ('work', 'NN'), ('and', 'CC'), ('deserve', 'VB'), ('our', 'PRP$'), ('gratitude', 'NN'), ('here', 'RB'), ('.', '.'), ('marianne', 'NN'), ('hsiung', 'NN'), ('provided', 'VBD'), ('support', 'NN'), (',', ','), ('on', 'IN'), ('behalf', 'NN'), ('of', 'IN'), ('apple', 'NN'), ('computer', 'NN'), (',', ','), ('inc.', 'NN'), (',', ','), ('for', 'IN'), ('this', 'DT'), ('research', 'NN'), ('.', '.'), ('phil', 'NN'), ('sohn', 'JJ'), ('wrote', 'VBD'), ('the', 'DT'), ('setc', 'NN'), ('module', 'NN'), ('that', 'IN'), ('idletracer', 'NN'), ('uses', 'NNS'), (',', ','), ('and', 'CC'), ('also', 'RB'), ('provided', 'VBD'), ('general', 'JJ'), ('guidance', 'NN'), ('during', 'IN'), ('the', 'DT'), ('project', 'NN'), ('.', '.'), ('steve', 'VB'), ('sfarzo', 'NN'), ('arranged', 'VBD'), ('the', 'DT'), ('distribution', 'NN'), ('of', 'IN'), ('the', 'DT'), ('tracer', 'NN'), ('to', 'TO'), (',', ','), ('and', 'CC'), ('the', 'DT'), ('collection', 'NN'), ('of', 'IN'), ('data', 'NNS'), ('files', 'NNS'), ('from', 'IN'), (',', ','), ('many', 'JJ'), ('powerbook', 'NN'), ('users', 'NNS'), ('working', 'VBG'), ('with', 'IN'), ('him', 'PRP'), ('.', '.'), ('helder', 'NN'), ('ramalho', 'NN'), ('provided', 'VBD'), ('invaluable', 'JJ'), ('information', 'NN'), ('about', 'IN'), ('the', 'DT'), ('way', 'NN'), ('the', 'DT'), ('current', 'JJ'), ('processor', 'NN'), ('cycling', 'NN'), ('technique', 'NN'), ('works', 'VBZ'), ('.', '.'), ('dave', 'VB'), ('falkenburg', 'NN'), ('and', 'CC'), ('jim', 'NN'), ('goche', 'NN'), ('provided', 'VBN'), ('information', 'NN'), ('about', 'IN'), ('trap', 'NN'), ('handler', 'NN'), ('programming', 'VBG'), ('critical', 'JJ'), ('to', 'TO'), ('the', 'DT'), ('writing', 'NN'), ('of', 'IN'), ('idletracer', 'NN'), ('.', '.'), ('larry', 'NN'), ('heil', 'NN'), ('coordinated', 'VBD'), ('cooperation', 'NN'), ('with', 'IN'), ('the', 'DT'), ('apple', 'NN'), ('portables', 'NNS'), ('group', 'NN'), ('.', '.'), ('several', 'JJ'), ('users', 'NNS'), ('ran', 'VBD'), ('the', 'DT'), ('tracer', 'NN'), ('on', 'IN'), ('their', 'PRP$'), ('machines', 'NNS'), ('to', 'TO'), ('help', 'VB'), ('us', 'PRP'), ('collect', 'VB'), ('the', 'DT'), ('data', 'NN'), ('.', '.'), ('and', 'CC'), (',', ','), ('finally', 'RB'), (',', ','), ('we', 'PRP'), ('thank', 'VBD'), ('the', 'DT'), ('reviewers', 'NNS'), ('of', 'IN'), ('the', 'DT'), ('original', 'JJ'), ('version', 'NN'), ('of', 'IN'), ('this', 'DT'), ('paper', 'NN'), ('for', 'IN'), ('their', 'PRP$'), ('helpful', 'NN'), ('and', 'CC'), ('insightful', 'JJ'), ('comments', 'NNS'), ('.', '.'), ('inside', 'IN'), ('macintosh', 'NN'), (',', ','), ('volume', 'NN'), ('vi', 'NN'), (',', ','), ('addison', 'JJ'), ('wesley', 'NN'), ('publishing', 'NN'), ('company', 'NN'), (',', ','), ('reading', 'NN'), (',', ','), ('ma', 'NN'), (',', ','), ('1991.', 'CD'), ('windows', 'NNS'), ('api', 'RBR'), ('bible', 'JJ'), (',', ','), ('waite', 'JJ'), ('group', 'NN'), ('press', 'NN'), (',', ','), ('corte', 'NN'), ('madera', 'NN'), (',', ','), ('ca', 'MD'), (',', ','), ('1992.', 'CD'), ('proceedings', 'NNS'), ('of', 'IN'), ('the', 'DT'), ('ieee', 'JJ'), ('international', 'JJ'), ('computer', 'NN'), ('society', 'NN'), ('conference', 'NN'), (',', ','), ('san', 'JJ'), ('francisco', 'NN'), (',', ','), ('ca', 'MD'), (',', ','), ('307-315', 'JJ'), (',', ','), ('february', 'JJ'), ('1994.', 'CD'), ('modeling', 'VBG'), ('the', 'DT'), ('effect', 'NN'), ('of', 'IN'), ('different', 'JJ'), ('processor', 'NN'), ('cycling', 'VBG'), ('techniques', 'NNS'), ('on', 'IN'), ('power', 'NN'), ('consumption', 'NN'), ('.', '.'), ('performance', 'NN'), ('evaluation', 'NN'), ('group', 'NN'), ('technical', 'JJ'), ('note', 'NN'), ('#', '#'), ('179', 'CD'), (',', ','), ('atg', 'RB'), ('integrated', 'JJ'), ('systems', 'NNS'), (',', ','), ('november', 'RB'), ('1995.', 'CD'), ('a', 'DT'), ('complete', 'JJ'), ('picture', 'NN'), ('of', 'IN'), ('the', 'DT'), ('energy', 'NN'), ('consumption', 'NN'), ('of', 'IN'), ('a', 'DT'), ('portable', 'JJ'), ('computer', 'NN'), ('.', '.'), ('masters', 'NNS'), ('thesis', 'NN'), (',', ','), ('computer', 'NN'), ('science', 'NN'), (',', ','), ('university', 'NN'), ('of', 'IN'), ('california', 'NN'), ('at', 'IN'), ('berkeley', 'NN'), (',', ','), ('december', 'VB'), ('1995.', 'CD'), ('how', 'WRB'), ('energy', 'NN'), ('is', 'VBZ'), ('consumed', 'VBN'), ('and', 'CC'), ('saved', 'VBN'), ('in', 'IN'), ('portable', 'JJ'), ('computers', 'NNS'), ('.', '.')]\n"
     ]
    }
   ],
   "source": [
    "POS_tag = nltk.pos_tag(text)\n",
    "\n",
    "print \"Tokenized Text with POS tags: \\n\"\n",
    "print POS_tag"
   ]
  },
  {
   "cell_type": "code",
   "execution_count": 14,
   "metadata": {
    "collapsed": true
   },
   "outputs": [
    {
     "name": "stdout",
     "output_type": "stream",
     "text": [
      "Text tokens after lemmatization of adjectives and nouns: \n",
      "\n",
      "['the', 'cpu', 'is', 'one', 'of', 'the', 'major', 'power', 'consumer', 'in', 'a', 'portable', 'computer', ',', 'and', 'considerable', 'power', 'can', 'be', 'saved', 'by', 'turning', 'off', 'the', 'cpu', 'when', 'it', 'is', 'not', 'doing', 'useful', 'work', '.', 'in', 'apple', \"'s\", 'macos', ',', 'however', ',', 'idle', 'time', 'is', 'often', 'converted', 'to', 'busy', 'waiting', ',', 'and', 'generally', 'it', 'is', 'very', 'hard', 'to', 'tell', 'when', 'no', 'useful', 'computation', 'is', 'occurring', '.', 'in', 'this', 'paper', ',', 'we', 'suggest', 'several', 'heuristic', 'technique', 'for', 'identifying', 'this', 'condition', ',', 'and', 'for', 'temporarily', 'putting', 'the', 'cpu', 'in', 'a', 'low-power', 'state', '.', 'these', 'technique', 'include', 'turning', 'off', 'the', 'processor', 'when', 'all', 'process', 'are', 'blocked', ',', 'turning', 'off', 'the', 'processor', 'when', 'process', 'appear', 'to', 'be', 'busy', 'waiting', ',', 'and', 'extending', 'real', 'time', 'process', 'sleep', 'period', '.', 'we', 'use', 'trace-driven', 'simulation', ',', 'using', 'processor', 'run', 'interval', 'trace', ',', 'to', 'evaluate', 'the', 'potential', 'energy', 'saving', 'and', 'performance', 'impact', '.', 'we', 'find', 'that', 'these', 'technique', 'save', 'considerable', 'amount', 'of', 'processor', 'energy', ',', 'while', 'having', 'very', 'little', 'performance', 'impact', '.', 'implementing', 'the', 'proposed', 'strategy', 'should', 'increase', 'battery', 'lifetime', 'by', 'approximately', '20', '%', 'relative', 'to', 'apple', \"'s\", 'current', 'cpu', 'power', 'management', 'strategy', ',', 'since', 'the', 'cpu', 'and', 'associated', 'logic', 'are', 'responsible', 'for', 'about', '32', '%', 'of', 'power', 'use', ';', 'similar', 'technique', 'should', 'be', 'applicable', 'to', 'operating', 'system', 'with', 'similar', 'behavior', '.', 'for', 'these', 'reason', ',', 'much', 'work', 'ha', 'been', 'done', 'in', 'reducing', 'the', 'power', 'consumption', 'of', 'computer', '.', 'in', 'and', ',', 'we', 'analyzed', 'the', 'power', 'consumption', 'of', 'various', 'macintosh', 'powerbook', 'computer', ',', 'in', 'typical', 'use', 'by', 'a', 'number', 'of', 'engineering', 'user', '.', 'we', 'found', 'that', ',', 'depending', 'on', 'the', 'machine', 'and', 'user', ',', 'up', 'to', '18-34', '%', 'of', 'total', 'power', 'wa', 'attributable', 'to', 'component', 'whose', 'power', 'consumption', 'could', 'be', 'reduced', 'by', 'power', 'management', 'of', 'the', 'processor', ',', 'i.e', '.', 'this', 'high', 'percentage', ',', 'combined', 'with', 'our', 'intuition', 'that', 'software', 'power', 'management', 'could', 'be', 'significantly', 'improved', 'for', 'the', 'processor', ',', 'led', 'u', 'to', 'conclude', 'that', 'the', 'most', 'important', 'target', 'for', 'further', 'research', 'in', 'software', 'power', 'management', 'wa', 'the', 'processor', '.', 'many', 'modern', 'microprocessor', 'have', 'low-power', 'state', ',', 'in', 'which', 'they', 'consume', 'little', 'or', 'no', 'power', '.', 'to', 'take', 'advantage', 'of', 'such', 'low-power', 'state', ',', 'the', 'operating', 'system', 'need', 'to', 'direct', 'the', 'processor', 'to', 'turn', 'off', 'when', 'it', 'is', 'predicted', 'that', 'the', 'consequent', 'saving', 'in', 'power', 'will', 'be', 'worth', 'the', 'time', 'and', 'energy', 'overhead', 'of', 'turning', 'off', 'and', 'restarting', '.', 'in', 'this', 'way', ',', 'the', 'goal', 'of', 'processor', 'power', 'management', 'strategy', 'is', 'similar', 'to', 'that', 'of', 'hard', 'disk', '.', 'some', 'strategy', 'for', 'making', 'these', 'prediction', 'are', 'described', 'by', 'srivastava', 'et', 'al', '.', 'for', 'instance', ',', 'the', 'at', '&', 't', 'hobbit', 'and', 'certain', 'version', 'of', 'the', 'mc68030', 'and', 'mc68040', 'use', 'static', 'logic', 'so', 'that', 'most', 'of', 'their', 'state', 'can', 'be', 'retained', 'when', 'the', 'clock', 'is', 'shut', 'down', '.', 'also', ',', 'the', 'powerpc', '603', 'can', 'exit', 'the', 'low-power', 'doze', 'mode', 'in', 'about', 'ten', 'system', 'clock', '.', 'because', 'of', 'the', 'short', 'delay', 'and', 'low', 'energy', 'cost', 'for', 'entering', 'and', 'leaving', 'a', 'low-power', 'state', ',', 'the', 'optimal', 'cpu', 'power', 'management', 'strategy', 'is', 'trivial', ':', 'turn', 'off', 'the', 'cpu', 'whenever', 'there', 'is', 'no', 'useful', 'work', 'to', 'do', '.', 'an', 'opportunityfor', 'such', 'a', 'strategy', 'is', 'described', 'by', 'srivastava', 'et', 'al', '.', 'this', 'material', 'is', 'based', 'upon', 'work', 'supported', 'by', 'a', 'national', 'science', 'foundation', 'graduate', 'research', 'fellowship', ',', 'by', 'apple', 'computer', ',', 'and', 'also', 'in', 'part', 'by', 'the', 'national', 'science', 'foundation', 'under', 'grant', 'mip-9116578', 'and', 'ccr-9117028', ',', 'by', 'the', 'state', 'of', 'california', 'under', 'the', 'micro', 'program', ',', 'and', 'by', 'intel', 'corporation', 'and', 'sun', 'microsystems', '.', 'although', 'the', 'work', 'presented', 'here', 'ha', 'benefited', 'from', 'support', 'from', 'and', 'cooperation', 'by', 'apple', ',', 'the', 'relationship', 'between', 'this', 'work', 'and', 'apple', \"'s\", 'product', 'development', 'plan', 'ha', 'yet', 'to', 'be', 'determined', '.', 'to', 'appear', 'in', 'the', 'second', 'acm', 'international', 'conference', 'on', 'mobile', 'computing', 'and', 'networking', ',', 'november', '1996', ',', 'rye', ',', 'new', 'york', '.', 'copyright', 'c', '1996', 'by', 'the', 'association', 'for', 'computing', 'machinery', ',', 'inc.', 'copyright', 'for', 'component', 'of', 'this', 'work', 'owned', 'by', 'others', 'than', 'acm', 'must', 'be', 'honored', '.', 'abstracting', 'with', 'credit', 'is', 'permitted', '.', 'to', 'copy', 'otherwise', ',', 'to', 'republish', ',', 'to', 'post', 'on', 'server', ',', 'or', 'to', 'redistribute', 'to', 'list', ',', 'requires', 'prior', 'specific', 'permission', 'and/or', 'a', 'fee', '.', 'an', 'essentially', 'equivalent', 'version', 'of', 'this', 'strategy', ',', 'namely', 'to', 'establish', 'a', 'virtual', 'lowest-priority', 'process', 'whose', 'job', 'is', 'to', 'turn', 'off', 'the', 'processor', 'when', 'it', 'run', ',', 'is', 'recommended', 'by', 'suessmith', 'and', 'paap', 'for', 'the', 'powerpc', '603', ',', 'and', 'by', 'suzuki', 'and', 'uno', 'in', 'a', '1993', 'patent', '.', 'such', 'a', 'virtual', 'lowest-priority', 'process', 'ha', 'in', 'the', 'past', 'been', 'called', 'the', '``', 'idle', 'loop', ',', \"''\", 'and', 'in', 'mainframe', 'typically', 'lighted', 'a', 'bulb', 'on', 'the', 'console', '.', 'we', 'refer', 'to', 'the', 'strategy', 'of', 'turning', 'off', 'the', 'processor', 'when', 'no', 'process', 'is', 'available', 'to', 'run', 'the', 'basic', 'strategy', '.', 'unfortunately', ',', 'in', 'apple', \"'s\", 'macos', ',', 'process', 'can', 'run', 'or', 'be', 'scheduled', 'to', 'run', 'even', 'when', 'they', 'have', 'no', 'useful', 'work', 'to', 'do', '.', 'this', 'feature', 'is', 'partially', 'by', 'design', ',', 'since', 'in', 'a', 'single-user', 'system', 'there', 'is', 'less', 'need', 'for', 'the', 'operating', 'system', 'to', 'act', 'a', 'an', 'arbiter', 'of', 'resource', 'use', '.', 'partially', ',', 'it', 'is', 'because', 'the', 'o', 'wa', 'not', 'written', 'with', 'power', 'management', 'in', 'mind', '.', 'there', 'are', 'two', 'main', 'problem', 'with', 'the', 'current', 'management', 'of', 'processor', 'time', ',', 'one', 'having', 'to', 'do', 'with', 'the', 'system', 'and', 'one', 'having', 'to', 'do', 'with', 'application', '.', 'the', 'first', 'problem', 'is', 'that', 'the', 'operating', 'system', 'will', 'sometimes', 'schedule', 'a', 'process', 'even', 'though', 'it', 'ha', 'no', 'work', 'to', 'do', '.', 'we', 'were', 'first', 'made', 'aware', 'of', 'this', 'phenomenon', 'when', 'we', 'studied', 'trace', 'of', 'macos', 'process', 'scheduling', 'call', ',', 'and', 'found', 'that', 'often', 'a', 'process', 'would', 'be', 'scheduled', 'to', 'run', 'before', 'the', 'condition', 'the', 'process', 'had', 'established', 'a', 'necessary', 'for', 'it', 'to', 'be', 'ready', 'were', 'fulfilled', '.', 'it', 'seems', 'that', 'often', ',', 'when', 'there', 'are', 'no', 'ready', 'process', ',', 'the', 'o', 'pick', 'one', 'to', 'run', 'anyway', ',', 'usually', 'the', 'process', 'associated', 'with', 'the', 'active', 'window', '.', 'the', 'second', 'problem', 'is', 'that', 'programmer', 'writing', 'application', 'generally', 'assume', 'that', 'when', 'their', 'application', 'is', 'running', 'in', 'the', 'foreground', ',', 'it', 'is', 'justified', 'in', 'taking', 'a', 'much', 'processing', 'time', 'a', 'it', 'want', '.', 'first', ',', 'a', 'process', 'will', 'often', 'request', 'processor', 'time', 'even', 'when', 'it', 'ha', 'nothing', 'to', 'do', '.', 'we', 'discovered', 'this', 'problem', 'in', 'macos', 'when', 'we', 'discovered', 'period', 'of', 'a', 'long', 'a', 'ten', 'minute', 'during', 'which', 'a', 'process', 'never', 'did', 'anything', ',', 'yet', 'never', 'blocked', ';', 'we', 'describe', 'later', 'what', 'we', 'mean', 'by', '``', 'never', 'did', 'anything', '.', \"''\", 'second', ',', 'when', 'a', 'process', 'decides', 'to', 'block', ',', 'it', 'often', 'request', 'a', 'short', 'sleep', 'period', 'than', 'necessary', '.', 'solution', 'to', 'both', 'these', 'problem', 'seem', 'to', 'be', 'necessary', 'to', 'obtain', 'the', 'most', 'saving', 'from', 'the', 'basic', 'strategy', '.', 'for', 'this', 'reason', ',', 'we', 'have', 'developed', 'additional', 'technique', 'for', 'process', 'management', '.', 'our', 'technique', 'for', 'dealing', 'with', 'the', 'first', 'problem', 'is', 'to', 'simply', 'make', 'the', 'operating', 'system', 'never', 'schedule', 'a', 'process', 'when', 'it', 'ha', 'requested', 'to', 'be', 'blocked', ';', 'we', 'call', 'this', 'the', 'simple', 'scheduling', 'technique', '.', 'one', 'technique', 'we', 'suggest', 'is', 'to', 'use', 'a', 'heuristic', 'to', 'decide', 'when', 'a', 'process', 'is', 'making', 'unnecessary', 'request', 'for', 'processor', 'time', 'and', 'to', 'forcibly', 'block', 'any', 'such', 'process', '.', 'another', 'technique', 'we', 'suggest', 'is', 'that', 'all', 'sleep', 'time', 'requested', 'by', 'process', 'be', 'multiplied', 'by', 'a', 'constant', 'factor', ',', 'chosen', 'by', 'the', 'user', 'or', 'operating', 'system', ',', 'to', 'ensure', 'that', 'a', 'reasonable', 'trade-off', 'between', 'energy', 'saving', 'and', 'performance', 'is', 'obtained', '.', 'we', 'call', 'these', 'latter', 'two', 'technique', 'the', 'greediness', 'technique', 'and', 'sleep', 'extension', 'technique', ',', 'respectively', '.', 'we', 'will', 'show', 'how', 'using', 'these', 'technique', 'can', 'improve', 'the', 'effectiveness', 'of', 'the', 'basic', 'strategy', ',', 'allowing', 'it', 'to', 'far', 'surpass', 'the', 'effectiveness', 'of', 'the', 'current', 'macos', 'inactivity-timer', 'based', 'strategy', '.', 'each', 'of', 'these', 'is', 'described', 'in', 'more', 'detail', 'below', '.', 'in', 'this', 'paper', ',', 'we', 'evaluate', 'these', 'different', 'strategy', ',', 'over', 'a', 'variety', 'of', 'parameter', 'value', ',', 'using', 'trace-driven', 'simulation', '.', 'these', 'simulation', 'enable', 'u', 'to', 'compare', 'these', 'algorithm', 'to', 'the', 'current', 'macos', 'strategy', ',', 'and', 'to', 'optimize', 'their', 'parameter', '.', 'a', 'comparison', 'between', 'two', 'strategy', 'is', 'based', 'on', 'two', 'consequence', 'of', 'each', 'strategy', ':', 'how', 'much', 'processor', 'power', 'it', 'save', 'and', 'how', 'much', 'it', 'decrease', 'observed', 'performance', '.', 'the', 'paper', 'is', 'structured', 'a', 'follows', '.', 'in', 'section', '2', ',', 'we', 'describe', 'in', 'detail', 'the', 'strategy', 'we', 'will', 'be', 'comparing', ',', 'including', 'the', 'current', 'strategy', 'used', 'by', 'macos', ',', 'the', 'basic', 'strategy', ',', 'and', 'our', 'suggested', 'process', 'management', 'technique', 'for', 'improving', 'the', 'basic', 'strategy', '.', 'in', 'section', '3', ',', 'we', 'describe', 'the', 'methodology', 'we', 'used', 'to', 'evaluate', 'these', 'strategy', ':', 'the', 'evaluation', 'criterion', ',', 'the', 'tool', 'we', 'used', 'for', 'the', 'trace-driven', 'simulation', ',', 'and', 'the', 'nature', 'of', 'the', 'trace', 'we', 'collected', '.', 'in', 'section', '4', ',', 'we', 'present', 'the', 'result', 'of', 'our', 'simulation', '.', 'in', 'section', '5', ',', 'we', 'discus', 'the', 'meaning', 'and', 'consequence', 'of', 'these', 'result', ',', 'and', 'point', 'the', 'way', 'to', 'future', 'work', '.', 'the', 'currently', 'used', 'processor', 'power', 'management', 'strategy', 'in', 'macos', 'is', 'based', 'on', 'an', 'inactivity', 'timer', '.', 'the', 'operating', 'system', 'will', 'initiate', 'processor', 'power', 'reduction', 'whenever', 'no', 'activity', 'ha', 'occurred', 'in', 'the', 'last', 'two', 'second', 'and', 'no', 'i/o', 'activity', 'ha', 'occurred', 'in', 'the', 'last', '15', 'second', '.', 'power', 'reduction', 'is', 'halted', 'whenever', 'activity', 'is', 'once', 'again', 'detected', '.', 'activity', 'is', 'defined', 'here', 'and', 'in', 'later', 'context', 'a', 'any', 'user', 'input', ',', 'any', 'i/o', 'device', 'read', 'or', 'write', ',', 'any', 'change', 'in', 'the', 'appearance', 'of', 'the', 'cursor', ',', 'or', 'any', 'time', 'spent', 'with', 'the', 'cursor', 'a', 'a', 'watch', '.', 'the', 'reason', 'for', 'the', 'classification', 'of', 'these', 'latter', 'two', 'a', 'activity', 'is', 'that', 'macos', 'human', 'interface', 'guideline', 'specify', 'that', 'a', 'process', 'that', 'is', 'actively', 'computing', 'must', 'indicate', 'this', 'to', 'the', 'user', 'by', 'having', 'the', 'cursor', 'appear', 'a', 'a', 'watch', 'or', 'by', 'frequently', 'changing', 'the', 'appearance', 'of', 'the', 'cursor', ',', 'e.g', '.', 'the', 'basic', 'strategy', 'is', 'to', 'turn', 'off', 'the', 'processor', 'whenever', 'all', 'process', 'are', 'blocked', '.', 'unfortunately', ',', 'under', 'macos', ',', 'this', 'is', 'not', 'often', 'the', 'case', ',', 'since', 'macos', 'frequently', 'schedule', 'some', 'process', 'whether', 'or', 'not', 'the', 'event', 'for', 'which', 'the', 'process', 'wa', 'waiting', 'ha', 'actually', 'occurred', '.', 'one', 'might', 'wonder', 'why', 'macos', 'us', 'this', 'inactivity', 'timer', 'based', 'strategy', 'instead', 'of', 'the', 'basic', 'strategy', '.', 'one', 'reason', 'is', 'that', 'all', 'but', 'the', 'most', 'recent', 'macintosh', 'computer', 'have', 'high', 'overhead', 'associated', 'with', 'turning', 'off', 'and', 'on', 'the', 'processor', ',', 'making', 'the', 'basic', 'strategy', 'le', 'applicable', '.', 'in', 'old', 'processor', ',', 'for', 'example', ',', 'the', 'content', 'of', 'on-chip', 'cache', 'were', 'lost', 'when', 'the', 'processor', 'wa', 'powered', 'down', '.', 'another', 'reason', 'is', 'that', ',', 'a', 'we', 'have', 'described', 'before', 'and', 'will', 'see', 'later', ',', 'the', 'effectiveness', 'of', 'the', 'basic', 'strategy', 'is', 'not', 'very', 'different', 'from', 'that', 'of', 'the', 'inactivity', 'timer', 'based', 'strategy', ',', 'given', 'the', 'current', 'macos', 'method', 'of', 'process', 'time', 'management', '.', 'the', 'greediness', 'technique', 'is', ',', 'in', 'overview', ',', 'to', 'identify', 'and', 'block', 'process', 'that', 'are', 'not', 'doing', 'useful', 'work', '.', 'first', ',', 'we', 'will', 'describe', 'the', 'technique', 'in', 'general', 'term', ',', 'and', 'then', 'we', 'will', 'indicate', 'the', 'detail', 'of', 'it', 'implementation', 'for', 'the', 'macos', '.', 'the', 'technique', 'is', 'based', 'on', 'the', 'following', 'model', 'of', 'the', 'appropriate', 'way', 'a', 'process', 'should', 'operate', 'in', 'an', 'event-driven', 'environment', '.', 'a', 'process', ',', 'upon', 'receiving', 'an', 'event', ',', 'should', 'process', 'that', 'event', ',', 'blocking', 'when', 'and', 'only', 'when', 'it', 'ha', 'finished', 'that', 'processing', '.', 'once', 'blocked', ',', 'it', 'should', 'be', 'scheduled', 'again', 'when', 'and', 'only', 'when', 'another', 'event', 'is', 'ready', 'to', 'be', 'processed', ';', 'an', 'exception', 'is', 'that', 'the', 'process', 'may', 'want', 'to', 'be', 'scheduled', 'periodically', 'to', 'perform', 'periodic', 'task', ',', 'such', 'a', 'blinking', 'the', 'cursor', 'or', 'checking', 'whether', 'it', 'is', 'time', 'to', 'do', 'backup', '.', 'we', 'say', 'that', 'a', 'process', 'is', 'acting', 'greedily', 'when', 'it', 'fails', 'to', 'block', 'even', 'after', 'it', 'ha', 'finished', 'processing', 'an', 'event', '.', 'this', 'can', 'occur', 'when', 'a', 'process', 'busy', 'wait', 'in', 'some', 'manner', ',', 'e.g', '.', 'when', 'we', 'determine', 'a', 'process', 'is', 'acting', 'greedily', ',', 'we', 'will', 'forcibly', 'block', 'that', 'process', 'for', 'a', 'set', 'period', 'of', 'time', '.', 'macos', 'us', 'cooperative', 'multitasking', ',', 'meaning', 'that', 'once', 'a', 'process', 'get', 'control', 'of', 'the', 'processor', ',', 'it', 'retains', 'that', 'control', 'until', 'it', 'chooses', 'to', 'yield', 'control', '.', 'for', 'this', 'reason', ',', 'application', 'writer', 'are', 'strongly', 'encouraged', 'to', 'have', 'their', 'process', 'yield', 'control', 'periodically', ',', 'even', 'when', 'they', 'still', 'have', 'work', 'to', 'do', '.', 'process', 'indicate', 'that', 'they', 'still', 'have', 'work', 'to', 'do', 'by', 'specifying', 'a', 'sleep', 'period', 'of', 'zero', ',', 'thereby', 'failing', 'to', 'block', '.', 'we', 'call', 'the', 'period', 'of', 'time', 'between', 'when', 'a', 'process', 'gain', 'control', 'of', 'the', 'processor', 'and', 'when', 'it', 'yield', 'control', 'a', 'quantum', '.', 'part', 'of', 'our', 'technique', 'is', 'a', 'heuristic', 'to', 'determine', 'when', 'a', 'process', 'is', 'acting', 'greedily', '.', 'we', 'say', 'that', 'a', 'process', 'is', 'acting', 'greedily', 'when', 'it', 'specifies', 'a', 'sleep', 'period', 'of', 'zero', 'even', 'though', 'it', 'seems', 'not', 'to', 'be', 'actively', 'computing', '.', 'we', 'consider', 'a', 'process', 'to', 'start', 'actively', 'computing', 'when', 'it', 'receives', 'an', 'event', 'or', 'show', 'some', 'sign', 'of', '``', 'activity', ',', \"''\", 'a', 'defined', 'below', '.', 'we', 'estimate', 'that', 'a', 'process', 'is', 'no', 'longer', 'actively', 'computing', 'if', 'it', 'explicitly', 'block', ',', 'or', 'if', 'it', 'yield', 'control', 'several', 'time', 'in', 'a', 'row', 'without', 'receiving', 'an', 'event', 'or', 'showing', 'sign', 'of', 'activity', '.', 'the', 'exact', 'number', 'of', 'control-yieldtimes', ',', 'which', 'we', 'call', 'the', 'greediness', 'threshold', ',', 'is', 'a', 'parameter', 'of', 'the', 'technique', ';', 'we', 'expect', 'it', 'to', 'be', 'set', 'so', 'a', 'to', 'maximize', 'energy', 'saving', ',', 'given', 'a', 'desired', 'level', 'of', 'performance', '.', 'we', 'say', 'that', 'a', 'process', 'show', 'no', 'sign', 'of', 'activity', 'if', 'it', 'performs', 'no', 'i/o', 'device', 'read', 'or', 'write', ',', 'doe', 'not', 'have', 'the', 'sound', 'chip', 'on', ',', 'doe', 'not', 'change', 'the', 'appearance', 'of', 'the', 'cursor', ',', 'and', 'doe', 'not', 'have', 'the', 'cursor', 'appear', 'a', 'a', 'watch', '.', 'the', 'absence', 'of', 'activity', 'a', 'we', 'have', 'so', 'defined', 'it', 'implies', 'that', 'either', 'the', 'cpu', 'is', 'idle', ',', 'the', 'process', 'running', 'is', 'busy', 'waiting', 'in', 'some', 'manner', ',', 'or', 'the', 'process', 'running', 'is', 'violating', 'the', 'macos', 'human', 'interface', 'guideline', 'that', 'we', 'mentioned', 'earlier', '.', 'the', 'greediness', 'technique', 'work', 'a', 'follows', '.', 'when', 'the', 'o', 'determines', 'that', 'a', 'process', 'is', 'acting', 'greedily', 'a', 'defined', 'above', ',', 'the', 'simple', 'scheduling', 'technique', 'is', 'to', 'not', 'schedule', 'a', 'process', 'until', 'the', 'condition', 'under', 'which', 'it', 'ha', 'indicated', 'it', 'will', 'be', 'ready', 'to', 'run', 'ha', 'been', 'met', '.', 'in', 'macos', ',', 'this', 'condition', 'is', 'always', 'explicitly', 'indicated', 'by', 'the', 'process', ',', 'and', 'is', 'always', 'of', 'the', 'form', ',', '``', 'any', 'of', 'the', 'event', 'type', 'e1', ';', 'e2', ';', ':', ':', ':', 'ha', 'occurred', ',', 'or', 'a', 'period', 'of', 'time', 't', 'ha', 'passed', 'since', 'the', 'process', 'last', 'yielded', 'control', 'of', 'the', 'processor', '.', \"''\", 'the', 'period', 'of', 'time', 'for', 'which', 'the', 'process', 'is', 'willing', 'to', 'wait', 'in', 'the', 'absence', 'of', 'event', 'before', 'being', 'scheduled', 'is', 'referred', 'to', 'a', 'the', 'sleep', 'period', '.', 'note', 'that', ',', 'in', 'some', 'other', 'operating', 'system', ',', 'such', 'a', 'unix', 'or', 'microsoft', 'window', ',', 'the', 'simple', 'scheduling', 'technique', 'is', 'not', 'needed', ',', 'since', 'it', 'is', 'the', 'default', 'behavior', 'of', 'the', 'operating', 'system', '.', 'using', 'only', 'the', 'simple', 'scheduling', 'technique', 'described', 'above', 'mean', 'that', 'a', 'process', 'is', 'given', 'control', 'of', 'the', 'processor', 'whenever', 'it', 'want', 'it', '.', 'for', 'example', ',', 'if', 'it', 'asks', 'to', 'be', 'unblocked', 'every', '1', 'second', ',', 'it', 'is', 'unblocked', 'every', '1', 'second', ',', 'even', 'if', 'all', 'it', 'want', 'to', 'do', 'is', 'blink', 'the', 'cursor', ',', 'a', 'common', 'occurrence', '.', 'since', 'macos', 'is', 'not', 'a', 'real', 'time', 'system', ',', 'a', 'real', 'time', 'sleep', 'period', 'doe', 'not', 'actually', 'have', 'to', 'be', 'honored', '.', 'in', 'fact', ',', 'in', 'the', 'current', 'macos', 'power', 'management', 'strategy', ',', 'with', 'power', 'management', 'enabled', ',', 'the', 'cursor', 'may', 'blink', 'much', 'more', 'slowly', 'than', 'it', 'would', 'without', 'power', 'management', '.', 'if', 'this', 'kind', 'of', 'behavior', 'is', 'acceptable', ',', 'it', 'is', 'possible', 'to', 'increase', 'the', 'effectiveness', 'of', 'the', 'simple', 'scheduling', 'technique', 'by', 'using', 'what', 'we', 'call', 'the', 'sleep', 'extension', 'technique', '.', 'this', 'technique', 'specifies', 'a', 'sleep', 'multiplier', ',', 'a', 'number', 'great', 'than', 'one', 'by', 'which', 'all', 'sleep', 'period', 'are', 'multiplied', ',', 'thus', 'eliminating', 'some', 'fraction', 'of', 'the', 'process', 'run', 'interval', '.', 'we', 'envision', 'that', 'the', 'sleep', 'multiplier', 'can', 'be', 'set', ',', 'either', 'by', 'the', 'user', 'or', 'by', 'the', 'operating', 'system', ',', 'so', 'a', 'to', 'maximize', 'energy', 'saving', ',', 'given', 'a', 'certain', 'level', 'of', 'performance', 'desired', '.', 'the', 'forced', 'sleep', 'period', 'is', 'a', 'parameter', 'to', 'be', 'optimized', ',', 'with', 'the', 'following', 'tradeoff', ':', 'a', 'short', 'sleep', 'period', 'save', 'insufficient', 'power', ',', 'while', 'a', 'long', 'sleep', 'period', 'may', ',', 'in', 'the', 'case', 'that', 'our', 'heuristic', 'fails', ',', 'block', 'a', 'process', 'that', 'is', 'actually', 'doing', 'something', 'useful', '.', 'evaluation', 'of', 'a', 'strategy', 'requires', 'measuring', 'two', 'consequence', 'of', 'that', 'strategy', ':', 'processor', 'energy', 'saving', 'and', 'performance', 'impact', '.', 'processor', 'energy', 'saving', 'is', 'easy', 'to', 'deduce', 'from', 'a', 'simulation', ',', 'since', 'it', 'is', 'essentially', 'the', 'percent', 'decrease', 'in', 'the', 'time', 'the', 'processor', 'spends', 'in', 'the', 'high-power', 'state', '.', 'in', 'contrast', ',', 'performance', 'impact', ',', 'by', 'which', 'we', 'mean', 'the', 'percent', 'increase', 'in', 'workload', 'runtime', 'a', 'a', 'result', 'of', 'using', 'a', 'power-saving', 'strategy', ',', 'is', 'difficult', 'to', 'measure', '.', 'this', 'performance', 'penalty', 'stem', 'from', 'the', 'fact', 'that', 'a', 'power', 'saving', 'strategy', 'will', 'sometimes', 'cause', 'the', 'processor', 'not', 'to', 'run', 'when', 'it', 'would', 'otherwise', 'be', 'performing', 'useful', 'work', '.', 'such', 'work', 'will', 'wind', 'up', 'having', 'to', 'be', 'scheduled', 'later', ',', 'making', 'the', 'workload', 'take', 'long', 'to', 'complete', '.', 'without', 'detailed', 'knowledge', 'of', 'the', 'purpose', 'of', 'instruction', 'sequence', ',', 'it', 'is', 'difficult', 'for', 'a', 'tracer', 'to', 'accurately', 'determine', 'what', 'work', 'is', 'useful', 'and', 'what', 'is', 'not', ',', 'so', 'our', 'measure', 'will', 'necessarily', 'be', 'inexact', '.', 'we', 'have', 'decided', 'to', 'use', 'the', 'same', 'heuristic', 'used', 'in', 'the', 'greediness', 'technique', 'to', 'determine', 'when', 'the', 'processor', 'is', 'doing', 'useful', 'work', '.', 'in', 'other', 'word', ',', 'we', 'will', 'call', 'a', 'quantum', 'useful', 'if', ',', 'during', 'that', 'quantum', ',', 'there', 'is', 'any', 'i/o', 'device', 'read', 'or', 'write', ',', 'the', 'sound', 'chip', 'is', 'on', ',', 'there', 'is', 'any', 'change', 'to', 'the', 'cursor', ',', 'or', 'the', 'cursor', 'appears', 'a', 'a', 'watch', '.', 'it', 'might', 'be', 'objected', 'that', 'using', 'the', 'same', 'heuristic', 'in', 'the', 'evaluation', 'of', 'a', 'strategy', 'a', 'is', 'used', 'by', 'that', 'strategy', 'is', 'invalid', '.', 'however', ',', 'remember', 'that', 'a', 'strategy', 'doe', 'not', 'have', 'prior', 'knowledge', 'of', 'when', 'a', 'quantum', 'will', 'be', 'useful', ',', 'whereas', 'the', 'evaluation', 'system', 'doe', '.', 'thus', ',', 'we', 'are', 'evaluating', 'the', 'accuracy', 'of', 'our', 'guess', 'that', 'a', 'quantum', 'will', 'be', 'useful', 'or', 'useless', '.', 'we', 'must', 'also', 'account', 'for', 'the', 'time', 'not', 'spent', 'inside', 'application', 'code', 'in', 'the', 'original', 'trace', '.', 'we', 'divide', 'this', 'time', 'into', 'time', 'spent', 'switching', 'process', 'in', 'and', 'out', ',', 'time', 'spent', 'context', 'switching', ',', 'time', 'the', 'os', 'spent', 'doing', 'useful', 'work', ',', 'and', 'o', 'idle', 'time', '.', 'the', 'o', 'is', 'considered', 'to', 'be', 'doing', 'useful', 'work', 'whenever', 'it', 'show', 'sign', 'of', 'activity', 'that', 'would', 'cause', 'a', 'process', 'quantum', 'to', 'be', 'labeled', 'useful', '.', 'such', 'useful', 'work', 'is', 'scheduled', 'in', 'the', 'simulation', 'immediately', 'after', 'the', 'quantum', 'that', 'it', 'originally', 'followed', 'is', 'scheduled', ',', 'on', 'the', 'assumption', 'that', 'most', 'significant', 'os', 'work', 'is', 'necessitated', 'by', 'the', 'action', 'of', 'the', 'process', 'that', 'just', 'ran', '.', 'idle', 'time', 'is', 'identified', 'whenever', 'no', 'process', 'is', 'running', 'and', 'the', 'operating', 'system', 'is', 'not', 'doing', 'useful', 'work', 'for', 'a', 'continuous', 'period', 'over', '16', 'ms.', 'we', 'chose', 'this', 'threshold', 'for', 'two', 'reason', '.', 'first', ',', 'it', 'is', 'the', 'small', 'time', 'unit', 'used', 'for', 'process', 'scheduling', 'by', 'macos', ',', 'so', 'we', 'expect', 'any', 'decision', 'to', 'idle', 'to', 'result', 'in', 'at', 'least', 'this', 'much', 'idleness', '.', 'finally', ',', 'context', 'switch', 'time', 'is', 'assumed', 'to', 'occur', 'any', 'time', 'a', 'process', 'switch', 'in', 'that', 'is', 'different', 'from', 'the', 'one', 'that', 'last', 'switched', 'out', ';', 'context', 'switch', 'are', 'considered', 'to', 'take', '0.681', 'm', ',', 'the', 'observed', 'difference', 'between', 'the', 'average', 'interprocess', 'time', 'when', 'no', 'context', 'switch', 'occurs', 'and', 'the', 'average', 'interprocess', 'time', 'when', 'a', 'context', 'switch', 'occurs', '.', 'there', 'are', 'three', 'main', 'tool', 'we', 'used', 'to', 'perform', 'our', 'simulation', '.', 'the', 'first', 'tool', ',', 'idletracer', ',', 'collect', 'trace', 'of', 'event', 'needed', 'to', 'simulate', 'the', 'different', 'strategy', ',', 'and', 'is', 'discussed', 'in', 'more', 'detail', 'in', '.', 'specifically', ',', 'it', 'record', 'the', 'time', 'of', 'occurrence', 'and', 'other', 'detail', 'about', 'the', 'following', 'event', ':', 'tracing', 'begin', 'or', 'end', ',', 'the', 'machine', 'go', 'to', 'or', 'wake', 'from', 'sleep', ',', 'a', 'process', 'begin', 'or', 'end', ',', 'the', 'sound', 'chip', 'is', 'turned', 'on', 'or', 'off', ',', 'the', 'cursor', 'change', ',', 'the', 'mouse', 'start', 'or', 'stop', 'moving', ',', 'an', 'i/o', 'device', 'is', 'read', 'or', 'written', ',', 'a', 'process', 'obtains', 'or', 'yield', 'control', 'of', 'the', 'processor', ',', 'or', 'an', 'event', 'is', 'placed', 'on', 'the', 'event', 'queue', '.', 'idletracer', 'only', 'collect', 'data', 'while', 'the', 'machine', 'it', 'is', 'tracing', 'is', 'running', 'on', 'battery', 'power', ',', 'since', 'that', 'is', 'when', 'processor', 'energy', 'saving', 'is', 'most', 'important', ',', 'and', 'we', 'want', 'our', 'analysis', 'to', 'reflect', 'the', 'appropriate', 'workload', '.', 'also', ',', 'idletracer', 'shuts', 'off', 'processor', 'power', 'management', 'while', 'it', 'is', 'tracing', ',', 'so', 'that', 'the', 'trace', 'it', 'us', 'are', 'not', 'confounded', 'by', 'the', 'current', 'strategy', 'and', 'thus', 'can', 'be', 'used', 'to', 'simulate', 'any', 'strategy', '.', 'idletracer', 'make', 'use', 'of', 'the', 'setc', 'module', ',', 'a', 'set', 'of', 'routine', 'for', 'tracing', 'and', 'counting', 'system', 'event', '.', 'the', 'second', 'tool', ',', 'itmsim', ',', 'simulates', 'power', 'management', 'method', 'using', 'the', 'current', 'macos', 'inactivity-threshold', 'strategy', ',', 'and', 'provides', 'a', 'basis', 'for', 'comparison', '.', 'in', 'other', 'word', ',', 'it', 'simulates', 'the', 'strategy', 'that', 'turn', 'off', 'the', 'processor', 'when', 'there', 'ha', 'been', 'no', 'activity', 'in', 'the', 'last', 'two', 'second', 'and', 'no', 'i/o', 'activity', 'in', 'the', 'last', 'fifteen', 'second', '.', 'in', 'actuality', ',', 'during', 'period', 'that', 'the', 'processor', 'is', 'supposed', 'to', 'be', 'off', ',', 'macos', 'will', 'occasionally', 'turn', 'the', 'processor', 'on', 'for', 'long', 'enough', 'to', 'schedule', 'a', 'process', 'quantum', '.', 'this', 'is', 'done', 'to', 'give', 'process', 'a', 'chance', 'to', 'demonstrate', 'some', 'activity', 'and', 'put', 'an', 'end', 'to', 'processor', 'power', 'management', ',', 'in', 'case', 'the', 'processor', 'wa', 'shut', 'off', 'too', 'soon', '.', 'the', 'detail', 'of', 'how', 'process', 'quantum', 'are', 'scheduled', 'while', 'the', 'processor', 'is', 'supposed', 'to', 'be', 'off', 'is', 'proprietary', 'and', 'thus', 'is', 'not', 'described', 'here', ';', 'however', ',', 'itmsim', 'doe', 'attempt', 'to', 'simulate', 'this', 'aspect', 'of', 'the', 'strategy', '.', 'to', 'give', 'an', 'idea', 'of', 'the', 'consequence', 'of', 'this', 'proprietary', 'modification', ',', 'our', 'simulation', 'showed', 'that', 'for', 'the', 'aggregate', 'workload', 'we', 'studied', ',', 'it', 'decreased', 'the', 'performance', 'impact', 'measure', 'from', '1.93', '%', 'to', '1.84', '%', ',', 'at', 'the', 'expense', 'of', 'decreasing', 'processor', 'off', 'time', 'from', '29.77', '%', 'to', '28.79', '%', '.', 'this', 'particular', 'proprietary', 'modification', ',', 'therefore', ',', 'ha', 'only', 'a', 'trivial', 'effect', 'on', 'the', 'power', 'saving', '.', 'table', '1', ':', 'information', 'about', 'the', 'six', 'user', 'traced', '.', 'useful', 'quantum', 'are', 'immediately', 'scheduled', ',', 'delaying', 'the', 'rest', 'of', 'the', 'trace', 'execution', 'and', 'thus', 'contributing', 'to', 'the', 'performance', 'impact', 'measure', '.', 'non-useful', 'quantum', 'are', 'discarded', 'and', 'never', 'scheduled', '.', 'any', 'useful', 'os', 'time', 'associated', 'with', 'these', 'quantum', 'is', 'also', 'immediately', 'scheduled', ',', 'contributing', 'to', 'the', 'performance', 'impact', 'measure', '.', 'the', 'third', 'tool', ',', 'asmsim', ',', 'simulates', 'the', 'basic', 'strategy', 'with', 'the', 'simple', 'scheduling', 'technique', ',', 'along', 'with', 'zero', 'or', 'more', 'of', 'our', 'two', 'other', 'suggested', 'technique', ':', 'sleep', 'extension', 'and', 'greediness', '.', 'the', 'parameter', 'for', 'these', 'technique', 'may', 'be', 'varied', 'at', 'will', 'in', 'the', 'simulation', '.', 'when', ',', 'in', 'the', 'simulation', ',', 'an', 'event', 'becomes', 'ready', 'for', 'a', 'process', ',', 'all', 'quantum', 'of', 'that', 'process', 'preceding', 'the', 'receipt', 'of', 'the', 'ready', 'event', 'that', 'have', 'not', 'yet', 'been', 'scheduled', 'will', 'be', 'treated', 'a', 'described', 'above', ',', 'i.e', '.', 'even', 'for', 'periodic', 'process', ',', 'we', 'schedule', 'quantum', 'in', 'the', 'order', 'in', 'which', 'they', 'occurred', '.', 'for', 'example', ',', 'if', 'after', 'it', 'quantum', 'i', 'a', 'process', 'originally', 'slept', 'for', '1', 'second', 'but', 'is', 'actually', 'awoken', 'after', '4', 'second', ',', 'then', 'at', 'that', 'point', 'we', 'schedule', 'quantum', 'i', '+', '1', ',', 'not', 'some', 'late', 'quantum', '.', 'note', 'that', 'this', 'approach', 'may', 'cause', 'inaccuracy', 'in', 'the', 'simulation', ',', 'since', 'the', 'process', 'might', 'in', 'reality', 'check', 'how', 'long', 'it', 'ha', 'been', 'since', 'it', 'last', 'went', 'to', 'sleep', ',', 'and', 'act', 'differently', 'seeing', 'that', '4', 'second', 'have', 'passed', 'than', 'it', 'did', 'when', 'only', '1', 'second', 'had', 'passed', '.', 'we', 'expect', 'and', 'hope', 'that', 'such', 'dependence', 'of', 'process', 'action', 'on', 'time', 'is', 'rare', 'enough', 'that', 'this', 'doe', 'not', 'introduce', 'significant', 'error', 'into', 'the', 'result', 'of', 'our', 'simulation', '.', 'in', 'this', 'section', ',', 'we', 'refer', 'to', 'the', 'current', 'macos', 'strategy', 'a', 'strategy', 'c', 'and', 'the', 'basic', 'strategy', 'a', 'strategy', 'b.', 'we', 'append', 'the', 'letter', 'i', 'to', 'indicate', 'use', 'of', 'the', 'simple', 'schedule', 'technique', ',', 'append', 'the', 'letter', 'g', 'to', 'indicate', 'use', 'of', 'the', 'greediness', 'technique', ',', 'and', 'append', 'the', 'letter', 's', 'for', 'the', 'sleep', 'extension', 'technique', '.', 'note', 'that', 'we', 'never', 'simulate', 'the', 'greediness', 'technique', 'or', 'sleep', 'extension', 'technique', 'without', 'the', 'simple', 'scheduling', 'technique', ',', 'since', 'they', 'are', 'designed', 'a', 'supplement', 'to', 'the', 'simple', 'scheduling', 'technique', '.', 'the', 'first', 'thing', 'we', 'shall', 'do', 'is', 'determine', 'the', 'optimal', 'energy', 'saving', 'attainable', '.', 'an', 'optimum', 'strategy', 'would', 'schedule', 'only', 'time', 'that', 'wa', 'spent', 'doing', 'useful', 'work', ',', 'and', 'would', 'entirely', 'omit', 'non-useful', 'time', ';', 'it', 'performance', 'impact', 'would', 'be', 'zero', ',', 'since', 'it', 'would', 'have', 'foreknowledge', 'of', 'when', 'useful', 'work', 'would', 'occur', 'and', 'arrange', 'to', 'have', 'the', 'processor', 'on', 'when', 'it', 'happens', '.', 'simulation', 'indicates', 'that', 'such', 'a', 'strategy', 'would', 'yield', 'an', 'energy', 'saving', 'of', '82.33', '%', ';', 'thus', ',', 'this', 'is', 'an', 'absolute', 'ceiling', 'on', 'what', 'can', 'be', 'obtained', 'by', 'any', 'realizable', 'strategy', '.', 'this', 'is', 'a', 'remarkably', 'high', 'figure', '--', 'what', 'it', 'say', 'is', 'that', 'the', 'processor', 'is', 'doing', 'useful', 'computation', 'during', 'only', '17.67', '%', 'of', 'the', '29.56', 'hour', 'of', 'the', 'trace', ';', 'the', 'rest', 'of', 'the', 'time', 'is', 'busy', 'waiting', 'by', 'a', 'user', 'process', 'or', 'idling', '.', 'the', 'second', 'simulation', 'result', 'concern', 'strategy', 'c.', 'we', 'find', 'from', 'simulation', 'that', 'strategy', 'c', 'yield', 'an', 'energy', 'saving', 'of', '28.79', '%', 'along', 'with', 'a', 'performance', 'impact', 'measure', 'of', '1.84', '%', '.', 'in', 'other', 'word', ',', 'it', 'cause', 'the', 'processor', 'to', 'consume', 'only', '71.21', '%', 'of', 'the', 'energy', 'it', 'would', 'without', 'a', 'power-saving', 'strategy', ',', 'but', 'increase', 'overall', 'workload', 'completion', 'time', 'by', '1.84', '%', '.', 'the', 'strategy', 'increase', 'processor', 'energy', 'consumption', 'by', '303', '%', 'compared', 'with', 'the', 'optimal', 'strategy', ',', 'since', 'it', 'only', 'recovers', '35', '%', 'of', 'the', 'real', 'idle', 'time', '.', 'note', 'also', 'that', 'since', 'only', '17.67', '%', 'of', 'the', 'cpu', 'time', 'is', 'actually', 'useful', ',', 'the', 'performance', 'impact', 'of', '1.84', '%', 'mean', 'that', 'we', 'have', 'misclassified', '10', '%', 'of', 'the', 'useful', 'cpu', 'time', ',', 'and', 'have', 'had', 'to', 'run', 'that', 'work', 'in', 'a', 'delayed', 'manner', '.', 'thus', ',', 'the', 'actual', 'real', 'time', 'delay', 'perceived', 'by', 'the', 'user', 'may', 'not', 'be', '1.84', '%', ',', 'but', 'may', 'be', 'close', 'to', '10', '%', ',', 'since', 'the', 'user', 'wait', 'for', 'a', 'reply', 'only', 'during', 'period', 'of', 'real', ',', 'useful', ',', 'work', '.', 'the', 'next', 'simulation', 'result', 'concern', 'strategy', 'b', ',', 'which', 'turn', 'off', 'the', 'process', 'when', 'and', 'only', 'when', 'there', 'wa', 'idling', 'in', 'the', 'original', 'trace', '.', 'the', 'trace', 'were', 'collected', 'from', 'six', 'user', ',', 'each', 'an', 'engineer', 'at', 'apple', 'computer', ',', 'inc.', 'table', '1', 'indicates', 'data', 'about', 'the', 'trace', 'obtained', 'from', 'each', 'user', 'and', 'the', 'machine', 'on', 'which', 'those', 'trace', 'were', 'collected', '.', 'much', 'more', 'detailed', 'discussion', 'of', 'the', 'trace', 'and', 'their', 'collection', 'appears', 'in', '.', 'most', 'result', 'we', 'present', 'will', 'concern', 'the', 'aggregate', 'workload', ',', 'i.e', '.', 'figure', '1', ':', 'performance', 'impact', 'measure', 'versus', 'processor', 'energy', 'saving', 'for', 'strategy', 'bi', 'with', 'various', 'sleep', 'multiplier', '.', 'certain', 'point', 'are', 'labeled', 'with', 'the', 'sleep', 'multiplier', 'to', 'which', 'they', 'correspond', '.', 'thus', ',', 'we', 'see', 'that', 'the', 'basic', 'strategy', 'without', 'any', 'new', 'process', 'management', 'technique', 'save', 'slightly', 'more', 'energy', 'than', 'the', 'current', 'technique', ',', 'and', 'ha', 'no', 'impact', 'on', 'performance', '.', 'however', ',', 'it', 'cause', 'the', 'processor', 'to', 'consume', '285', '%', 'more', 'energy', 'than', 'under', 'the', 'optimal', 'strategy', ',', 'since', 'it', 'only', 'recovers', '39', '%', 'of', 'real', 'idle', 'time', '.', 'the', 'next', 'simulation', 'result', 'concern', 'strategy', 'bi', '.', 'strategy', 'bi', 'ha', 'an', 'energy', 'saving', 'of', '47.10', '%', 'and', 'a', 'performance', 'impact', 'of', '1.08', '%', '.', 'thus', ',', 'we', 'see', 'that', 'strategy', 'bi', 'decrease', 'processor', 'energy', 'consumption', 'by', '26', '%', 'and', 'decrease', 'workload', 'completion', 'time', 'by', '0.7', '%', 'compared', 'to', 'strategy', 'c.', 'compared', 'to', 'the', 'optimal', 'strategy', ',', 'it', 'cause', 'the', 'processor', 'to', 'consume', '199', '%', 'more', 'energy', ',', 'since', 'it', 'only', 'recovers', '57', '%', 'of', 'real', 'idle', 'time', '.', 'the', 'next', 'simulation', 'result', 'concern', 'strategy', 'bi', '.', 'figure', '1', 'show', 'the', 'performance', 'versus', 'energy', 'saving', 'graph', 'for', 'variation', 'of', 'this', 'strategy', 'using', 'sleep', 'multiplier', 'between', '1', 'and', '10.', 'we', 'see', 'that', 'the', 'point', 'at', 'which', 'this', 'strategy', 'ha', 'performance', 'impact', 'of', '1.84', '%', ',', 'equal', 'to', 'that', 'of', 'strategy', 'c', ',', 'corresponds', 'to', 'a', 'sleep', 'multiplier', 'of', '2.25', 'and', 'a', 'processor', 'energy', 'saving', 'of', '51.72', '%', '.', 'thus', ',', 'we', 'see', 'that', ',', 'comparing', 'strategy', 'bi', 'and', 'c', 'on', 'equal', 'performance', 'ground', ',', 'strategy', 'bi', 'decrease', 'processor', 'energy', 'consumption', 'by', '32', '%', '.', 'increasing', 'the', 'sleep', 'multiplier', 'to', '10', 'save', '55.93', '%', 'of', 'the', 'cpu', 'energy', ',', 'with', 'a', 'performance', 'impact', 'of', '2.84', '%', '.', 'note', ',', 'however', ',', 'that', 'the', 'performance', 'impact', 'measure', 'doe', 'not', 'tell', 'the', 'whole', 'story', 'in', 'this', 'case', '.', 'generally', ',', 'a', 'real', 'time', 'delay', 'is', 'used', 'by', 'some', 'process', 'that', 'wake', 'up', ',', 'check', 'something', ',', 'and', 'if', 'certain', 'condition', 'are', 'met', ',', 'doe', 'something', '.', 'a', 'very', 'large', 'real', 'time', 'delay', 'in', 'the', 'wakeup', 'period', 'may', 'mean', 'that', 'certain', 'check', 'are', 'not', 'made', 'in', 'a', 'timely', 'manner', ';', 'we', 'have', 'ignored', 'that', 'issue', 'here', '.', 'in', 'practice', ',', 'sleep', 'extension', 'factor', 'over', 'some', 'level', ',', 'perhaps', '3', 'to', '5', ',', 'may', 'not', 'be', 'desirable', '.', 'the', 'next', 'simulation', 'result', 'concern', 'strategy', 'big', '.', 'figure', '2', 'show', 'the', 'performance', 'versus', 'energy', 'saving', 'graph', 'for', 'variation', 'of', 'this', 'strategy', 'using', 'greediness', 'threshold', 'between', '20', 'and', '80', 'and', 'forced', 'sleep', 'period', 'between', '0.025', 'second', 'and', '10', 'second', '.', 'we', 'find', ',', 'through', 'extensive', 'exploration', 'of', 'the', 'parameter', 'space', ',', 'that', 'the', 'parameter', 'setting', 'giving', 'the', 'best', 'energy', 'saving', 'at', 'the', '1.84', '%', 'performance', 'impact', 'level', 'are', 'a', 'greediness', 'threshold', 'of', '61', 'and', 'a', 'forced', 'sleep', 'period', 'of', '0.52', 'second', '.', 'these', 'parameter', 'yield', 'an', 'energy', 'saving', 'of', '66.18', '%', '.', 'thus', ',', 'we', 'see', 'that', ',', 'comparing', 'strategy', 'big', 'and', 'c', 'on', 'equal', 'performance', 'ground', ',', 'strategy', 'big', 'reduces', 'processor', 'energy', 'consumption', 'by', '53', '%', '.', 'compared', 'to', 'the', 'optimal', 'strategy', ',', 'it', 'increase', 'processor', 'energy', 'consumption', 'by', '91', '%', ',', 'since', 'it', 'only', 'save', '80', '%', 'of', 'real', 'idle', 'time', '.', 'the', 'next', 'result', 'we', 'present', 'concern', 'strategy', 'bigs', '.', 'figure', '3', 'show', 'that', ',', 'in', 'the', 'realm', 'we', 'are', 'interested', 'in', ',', 'a', 'performance', 'impact', 'of', '1.84', '%', ',', 'increasing', 'the', 'sleep', 'multiplier', 'always', 'produce', 'bad', 'result', 'than', 'changing', 'the', 'greediness', 'threshold', 'and', 'forced', 'sleep', 'period', '.', 'the', 'energy', 'saving', 'attainable', 'by', 'increasing', 'the', 'sleep', 'multiplier', 'can', 'be', 'attained', 'at', 'a', 'low', 'performance', 'cost', 'by', 'instead', 'decreasing', 'the', 'greediness', 'threshold', 'or', 'by', 'increasing', 'the', 'forced', 'sleep', 'period', '.', 'thus', ',', 'the', 'best', 'bigs', 'strategy', 'is', 'the', 'big', 'strategy', ',', 'which', 'doe', 'not', 'make', 'any', 'use', 'of', 'the', 'sleep', 'extension', 'technique', '.', 'the', 'figure', 'suggests', 'that', 'if', 'we', 'could', 'tolerate', 'a', 'great', 'performance', 'impact', ',', 'such', 'a', '2.7', '%', ',', 'this', 'would', 'no', 'longer', 'be', 'the', 'case', ',', 'and', 'the', 'best', 'energy', 'saving', 'for', 'bigs', 'would', 'be', 'attained', 'at', 'a', 'sleep', 'multiplier', 'above', 'one', '.', 'we', 'conclude', 'that', 'for', 'some', 'value', 'of', 'performance', 'impact', ',', 'it', 'is', 'useful', 'to', 'combine', 'the', 'greediness', 'technique', 'and', 'sleep', 'extension', 'technique', ',', 'but', 'for', 'a', 'performance', 'impact', 'of', '1.84', '%', 'it', 'is', 'useless', 'to', 'use', 'the', 'sleep', 'extension', 'technique', 'if', 'the', 'greediness', 'technique', 'is', 'in', 'use', '.', 'a', 'summary', 'of', 'all', 'the', 'finding', 'about', 'the', 'above', 'strategy', 'can', 'be', 'seen', 'in', 'table', '2', ',', 'a', 'well', 'a', 'the', 'column', 'of', 'figure', '5', 'corresponding', 'to', 'user', '1-6.', 'figure', '2', ':', 'performance', 'impact', 'measure', 'versus', 'processor', 'energy', 'saving', 'for', 'strategy', 'big', 'with', 'various', 'greediness', 'threshold', 'and', 'forced', 'sleep', 'period', '.', 'point', 'on', 'the', 'greediness', 'threshold', '60', 'curve', 'are', 'labeled', 'with', 'the', 'forced', 'sleep', 'period', 'to', 'which', 'they', 'correspond', '.', 'the', 'reader', 'is', 'cautioned', 'that', 'nonzero', 'origin', 'are', 'used', 'in', 'this', 'figure', 'to', 'save', 'space', 'and', 'yet', 'have', 'sufficient', 'resolution', 'to', 'enable', 'it', 'key', 'feature', 'to', 'be', 'discerned', '.', 'figure', '3', ':', 'performance', 'impact', 'measure', 'versus', 'processor', 'energy', 'saving', 'for', 'strategy', 'bigs', 'with', 'various', 'sleep', 'multiplier', ',', 'various', 'greediness', 'threshold', ',', 'and', 'a', 'forced', 'sleep', 'period', 'of', '0.52', 'sec', '.', 'the', 'reader', 'is', 'cautioned', 'that', 'nonzero', 'origin', 'are', 'used', 'in', 'this', 'figure', 'to', 'save', 'space', 'and', 'yet', 'have', 'sufficient', 'resolution', 'to', 'enable', 'it', 'key', 'feature', 'to', 'be', 'discerned', '.', 'an', 'important', 'issue', 'is', 'the', 'extent', 'to', 'which', 'the', 'parameter', 'we', 'chose', 'are', 'specific', 'to', 'the', 'workload', 'studied', ',', 'and', 'whether', 'they', 'would', 'be', 'optimal', 'or', 'equally', 'effective', 'for', 'some', 'other', 'workload', '.', 'furthermore', ',', 'it', 'is', 'unclear', 'how', 'effective', 'the', 'user', 'or', 'operating', 'system', 'could', 'be', 'at', 'dynamically', 'tuning', 'these', 'parameter', 'in', 'the', 'best', 'way', 'to', 'achieve', 'optimal', 'energy', 'saving', 'at', 'a', 'given', 'level', 'of', 'performance', '.', 'thus', ',', 'it', 'is', 'important', 'to', 'observe', 'the', 'sensitivity', 'of', 'the', 'result', 'we', 'obtained', 'to', 'the', 'particular', 'value', 'of', 'the', 'parameter', 'we', 'chose', '.', 'the', 'graph', 'we', 'showed', 'that', 'demonstrate', 'the', 'relationship', 'between', 'performance', ',', 'energy', 'saving', ',', 'and', 'parameter', 'value', 'also', 'demonstrate', 'the', 'reasonably', 'low', 'sensitivity', 'of', 'the', 'result', 'to', 'the', 'parameter', 'value', '.', 'for', 'instance', ',', 'varying', 'the', 'forced', 'sleep', 'period', 'threshold', 'in', 'figure', '2', 'across', 'a', 'wide', 'range', 'of', 'value', 'only', 'cause', 'the', 'consequent', 'energy', 'saving', 'to', 'vary', 'between', '59-67', '%', '.', 'varying', 'the', 'greediness', 'threshold', 'in', 'figure', '4', 'across', 'another', 'wide', 'range', 'of', 'value', 'only', 'cause', 'the', 'consequent', 'energy', 'saving', 'to', 'vary', 'in', 'the', 'range', '63-71', '%', '.', 'finally', ',', 'varying', 'the', 'sleep', 'multiplier', 'across', 'a', 'wide', 'range', ',', 'a', 'in', 'figure', '1', ',', 'only', 'cause', 'the', 'consequent', 'energy', 'saving', 'to', 'vary', 'in', 'the', 'range', '47-56', '%', '.', 'another', 'way', 'to', 'gauge', 'the', 'sensitivity', 'of', 'the', 'result', 'to', 'the', 'parameter', 'is', 'to', 'evaluate', 'the', 'effectiveness', 'of', 'the', 'technique', 'on', 'each', 'of', 'the', 'six', 'workload', 'corresponding', 'to', 'the', 'user', 'studied', '.', 'to', 'show', 'the', 'effect', 'of', 'using', 'parameter', 'tuned', 'to', 'an', 'aggregate', 'workload', 'on', 'individual', 'user', ',', 'figure', '5', 'show', 'the', 'processor', 'energy', 'saving', 'that', 'would', 'have', 'been', 'attained', 'by', 'each', 'of', 'the', 'user', 'given', 'the', 'strategy', 'we', 'have', 'discussed', '.', 'we', 'see', 'from', 'this', 'figure', 'that', 'strategy', 'big', 'is', 'always', 'superior', 'to', 'strategy', 'c', ',', 'and', 'that', 'strategy', 'bi', 'is', 'superior', 'to', 'strategy', 'c', 'for', 'all', 'user', 'except', 'user', '2.', 'and', ',', 'even', 'in', 'this', 'case', ',', 'the', 'fault', 'seems', 'to', 'lie', 'with', 'the', 'basic', 'strategy', 'and', 'simple', 'scheduling', 'technique', 'rather', 'than', 'the', 'sleep', 'multiplier', 'parameter', ',', 'since', 'user', '2', 'is', 'also', 'the', 'only', 'user', 'for', 'which', 'the', 'saving', 'from', 'c', 'are', 'much', 'great', 'than', 'those', 'from', 'strategy', 'b', 'and', 'bi', '.', 'these', 'figure', 'suggest', 'that', 'even', 'parameter', 'not', 'tuned', 'for', 'a', 'specific', 'workload', 'still', 'yield', 'strategy', 'that', 'in', 'general', 'save', 'more', 'processor', 'energy', 'than', 'the', 'current', 'strategy', '.', 'it', 'is', 'also', 'interesting', 'to', 'note', 'that', 'there', 'is', 'a', 'clear', 'ordering', 'between', 'strategy', 'bi', ',', 'bi', ',', 'and', 'big', ':', 'for', 'each', 'user', ',', 'strategy', 'big', 'saved', 'more', 'energy', 'than', 'strategy', 'bi', ',', 'which', 'saved', 'more', 'energy', 'than', 'strategy', 'bi', '.', 'we', 'were', 'curious', 'why', 'strategy', 'c', 'is', 'so', 'much', 'superior', 'to', 'strategy', 'b', 'for', 'user', '2', ',', 'so', 'we', 'inspected', 'the', 'simulation', 'result', 'for', 'that', 'user', 'carefully', '.', 'we', 'found', 'that', 'the', 'reason', 'strategy', 'c', 'doe', 'so', 'much', 'good', 'than', 'strategy', 'b', 'is', 'that', 'in', 'that', 'trace', ',', 'the', 'application', 'finder', 'frequently', 'yield', 'control', 'requesting', 'a', 'sleep', 'time', 'of', 'zero', 'but', 'then', 'performs', 'no', 'activity', 'when', 'it', 'get', 'control', 'again', ';', 'indeed', ',', 'there', 'is', 'a', 'contiguous', 'section', 'of', 'the', 'trace', 'lasting', 'over', 'an', 'hour', 'during', 'which', 'finder', 'ha', 'this', 'behavior', '.', 'the', 'sleep', 'extension', 'technique', 'doe', 'not', 'alleviate', 'this', 'problem', ',', 'since', 'multiplying', 'the', 'sleep', 'request', 'of', 'zero', 'by', 'any', 'factor', 'still', 'make', 'it', 'zero', '.', 'however', ',', 'the', 'greediness', 'technique', 'is', 'able', 'to', 'overcome', 'this', 'problem', ',', 'since', 'this', 'is', 'exactly', 'the', 'problem', 'for', 'which', 'it', 'wa', 'designed', '.', 'consequently', ',', 'strategy', 'big', 'beat', 'strategy', 'c', 'for', 'user', '2', ',', 'even', 'though', 'strategy', 'b', ',', 'bi', ',', 'and', 'bi', 'do', 'not', '.', 'yet', 'another', 'way', 'to', 'see', 'that', 'the', 'basic', 'strategy', 'with', 'the', 'new', 'technique', 'is', 'effective', 'even', 'without', 'tuning', 'the', 'parameter', 'is', 'to', 'pick', 'somewhat', 'arbitrary', 'parameter', 'and', 'note', 'that', 'the', 'energy', 'saving', 'are', 'still', 'superior', 'to', 'that', 'of', 'strategy', 'c.', 'for', 'example', ',', 'the', 'parameter', 'setting', 'we', 'envisioned', 'before', 'running', 'any', 'of', 'these', 'simulation', ',', 'a', 'greediness', 'threshold', 'of', '5', ',', 'a', 'forced', 'sleep', 'period', 'of', '0.25', 'second', ',', 'and', 'a', 'sleep', 'multiplier', 'of', '1.5', ',', 'would', 'yield', 'a', 'respectable', 'energy', 'saving', 'of', '71.70', '%', 'and', 'a', 'performance', 'impact', 'of', '2.61', '%', ',', 'which', ',', 'compared', 'to', 'macos', ',', 'trade', 'off', 'a', '60', '%', 'decrease', 'in', 'processor', 'energy', 'consumption', 'for', 'a', '0.8', '%', 'increase', 'in', 'workload', 'completion', 'time', '.', 'even', 'a', 'conservative', 'set', 'of', 'parameter', ',', 'namely', 'a', 'greediness', 'threshold', 'of', '100', ',', 'a', 'forced', 'sleep', 'period', 'of', '0.10', 'second', ',', 'and', 'a', 'sleep', 'multiplier', 'of', '1', ',', 'yield', 'a', 'processor', 'energy', 'saving', 'of', '62.87', '%', 'with', 'a', 'performance', 'impact', 'of', 'only', '1.48', '%', ',', 'decreasing', 'processor', 'energy', 'consumption', 'by', '48', '%', 'and', 'reducing', 'workload', 'completion', 'time', 'by', '0.4', '%', 'compared', 'to', 'strategy', 'c.', 'we', 'have', 'seen', 'that', 'the', 'greediness', 'technique', 'by', 'itself', 'can', 'be', 'quite', 'effective', 'even', 'within', 'a', 'broad', 'range', 'of', 'parameter', 'value', '.', 'this', 'suggests', 'that', 'process', 'often', 'act', 'greedily', '.', 'in', 'fact', ',', 'using', 'the', 'ideal', 'parameter', 'of', 'strategy', 'big', ',', '49', 'of', '63', 'application', 'were', 'found', 'to', 'act', 'greedily', 'at', 'some', 'point', '.', 'the', 'percent', 'of', 'an', 'application', \"'s\", 'quantum', 'during', 'which', 'it', 'wa', 'determined', 'to', 'be', 'acting', 'greedily', 'varied', 'widely', 'from', 'one', 'application', 'to', 'another', ',', 'from', '0.0009', '%', 'for', 'express', 'modem', 'to', '93.7', '%', 'for', 'eworld', '.', 'it', 'is', 'especially', 'amusing', 'that', 'finder', ',', 'the', 'user', 'desktop', 'interface', 'application', 'written', 'at', 'apple', 'itself', ',', 'seems', 'to', 'lie', 'routinely', 'about', 'it', 'processing', 'time', 'need', ',', 'having', 'been', 'determined', 'to', 'be', 'acting', 'greedily', 'for', '64.7', '%', 'of', 'it', 'quantum', '.', 'this', 'support', 'our', 'suggestion', 'that', 'designer', 'of', 'operating', 'system', 'and', 'application', 'for', 'single-user', 'system', 'are', 'not', 'generally', 'concerned', 'with', 'rigorous', 'management', 'of', 'processor', 'time', '.', 'to', 'examine', 'where', 'the', 'saving', 'and', 'performance', 'impact', 'of', 'a', 'strategy', 'are', 'coming', 'from', ',', 'it', 'is', 'useful', 'to', 'observe', 'what', 'happens', 'to', 'different', 'class', 'of', 'time', 'in', 'the', 'original', 'trace', 'when', 'that', 'strategy', 'is', 'used', '.', 'some', 'time', 'in', 'the', 'original', 'trace', 'is', 'spent', 'running', 'process', ',', 'some', 'is', 'spent', 'running', 'the', 'scheduler', ',', 'and', 'the', 'rest', 'is', 'spent', 'running', 'other', 'os', 'code', '.', 'each', 'of', 'these', 'class', 'of', 'time', 'can', 'be', 'broken', 'down', 'into', 'useful', 'and', 'nonuseful', 'time', '.', 'useful', 'time', 'will', 'always', 'be', 'scheduled', 'in', 'the', 'simulation', ',', 'but', 'some', 'of', 'it', 'will', 'be', 'delayed', 'if', 'the', 'technique', 'simulated', 'decides', 'to', 'cycle', 'instead', 'of', 'running', 'it', '.', 'this', 'delayed', 'time', 'is', 'what', 'contributes', 'to', 'performance', 'impact', '.', 'some', 'nonuseful', 'time', 'will', 'be', 'scheduled', 'by', 'the', 'technique', ',', 'while', 'the', 'rest', 'get', 'skipped', 'over', 'and', 'contributes', 'to', 'cycling', 'time', '.', 'table', '3', ':', 'a', 'breakdown', ',', 'for', 'each', 'strategy', ',', 'of', 'what', 'happens', 'to', 'the', 'time', 'and', 'quantum', 'originally', 'spent', 'running', 'process', ',', 'the', 'scheduler', ',', 'and', 'the', 'operating', 'system', '.', 'time', 'and', 'quantum', 'that', 'are', 'delayed', 'and', 'thus', 'contribute', 'to', 'performance', 'impact', 'are', 'shown', 'in', 'bold', ',', 'time', 'and', 'quantum', 'that', 'are', 'run', 'on', 'time', 'are', 'shown', 'in', 'the', 'standard', 'font', ',', 'and', 'time', 'and', 'quantum', 'that', 'are', 'never', 'run', 'and', 'thus', 'are', 'subsumed', 'by', 'cycling', 'are', 'shown', 'in', 'italic', '.', 'table', '3', 'show', 'this', 'breakdown', 'in', 'time', 'and', 'number', 'of', 'quantum', 'for', 'each', 'strategy', '.', 'first', ',', 'let', 'u', 'compare', 'the', 'source', 'of', 'the', 'energy', 'saving', 'for', 'each', 'strategy', ';', 'this', 'involves', 'looking', 'at', 'the', 'italic', 'figure', 'in', 'table', '3.', 'strategy', 'c', 'spends', '4.31', 'hour', 'cycling', 'instead', 'of', 'idling', 'in', 'the', 'o', ',', '1.95', 'hour', 'cycling', 'instead', 'of', 'performing', 'nonuseful', 'process', 'quantum', ',', 'and', '2.61', 'hour', 'cycling', 'instead', 'of', 'switching', 'nonuseful', 'process', 'quantum', 'in', 'and', 'out', '.', 'it', 'is', 'interesting', 'to', 'note', 'that', 'more', 'time', 'is', 'saved', 'from', 'not', 'having', 'to', 'switch', 'process', 'in', 'and', 'out', 'than', 'from', 'actually', 'not', 'running', 'them', '.', 'this', 'is', 'probably', 'because', 'the', 'technique', 'attempt', 'to', 'cycle', 'the', 'processor', 'when', 'process', 'are', 'not', 'doing', 'anything', ',', 'and', 'when', 'a', 'process', 'is', 'not', 'doing', 'anything', 'it', 'should', 'be', 'doing', 'little', 'besides', 'getting', 'switched', 'in', 'and', 'out', '.', 'strategy', 'b', 'never', 'cycle', 'instead', 'of', 'running', 'or', 'scheduling', 'process', 'quantum', ',', 'but', 'it', 'make', 'up', 'for', 'this', 'by', 'always', 'cycling', 'when', 'the', 'o', 'would', 'otherwise', 'be', 'idle', ',', '9.45', 'hour', '.', 'strategy', 'bi', 'and', 'bi', 'cycle', 'even', 'more', 'because', 'they', 'can', 'cycle', 'instead', 'of', 'running', 'or', 'scheduling', 'process', 'quantum', '.', 'indeed', ',', 'even', 'if', 'we', 'did', 'not', 'consider', 'idle', 'time', 'spent', 'cycling', ',', 'strategy', 'bi', 'and', 'bi', 'still', 'save', 'more', 'nonuseful', 'process', 'and', 'scheduler', 'time', 'than', 'strategy', 'c.', 'interestingly', ',', 'the', 'increased', 'saving', 'stem', 'from', 'reducing', 'the', 'amount', 'of', 'time', 'spent', 'scheduling', 'nonuseful', 'process', 'quantum', ',', 'not', 'from', 'reducing', 'the', 'time', 'spent', 'running', 'nonuseful', 'process', 'quantum', '.', 'in', 'fact', ',', 'each', 'of', 'strategy', 'bi', 'and', 'bi', 'spends', 'longer', 'running', 'nonuseful', 'process', 'quantum', 'than', 'strategy', 'c.', 'the', 'reason', 'these', 'strategy', 'spend', 'less', 'time', 'scheduling', 'nonuseful', 'process', 'quantum', 'is', 'that', ',', 'a', 'shown', 'in', 'the', 'table', ',', 'the', 'strategy', 'schedule', 'few', 'nonuseful', 'process', 'quantum', ',', 'and', 'few', 'quantum', 'to', 'schedule', 'mean', 'less', 'time', 'spent', 'scheduling', 'quantum', '.', 'so', 'we', 'see', 'that', 'the', 'saving', 'from', 'strategy', 'bi', 'and', 'bi', 'stem', 'not', 'from', 'giving', 'process', 'le', 'time', 'when', 'they', 'are', 'not', 'doing', 'useful', 'work', ',', 'but', 'from', 'switching', 'them', 'in', 'and', 'out', 'less', 'often', 'when', 'they', 'are', 'not', 'doing', 'useful', 'work', ',', 'thus', 'saving', 'time', 'associated', 'with', 'process', 'switching', '.', 'on', 'the', 'other', 'hand', ',', 'strategy', 'big', 'is', 'superior', 'to', 'strategy', 'c', 'in', 'it', 'conversion', 'of', 'all', 'type', 'of', 'nonuseful', 'time', '.', 'so', ',', 'the', 'saving', 'from', 'strategy', 'big', 'stem', 'both', 'from', 'giving', 'process', 'control', 'le', 'often', 'when', 'they', 'are', 'not', 'busy', 'and', 'from', 'giving', 'them', 'less', 'time', 'to', 'run', 'useless', 'task', '.', 'table', '3', 'also', 'allows', 'u', 'to', 'compare', 'the', 'source', 'of', 'the', 'performance', 'impact', 'in', 'each', 'strategy', ';', 'this', 'involves', 'looking', 'at', 'the', 'bold', 'number', '.', 'we', 'see', 'that', 'for', 'strategy', 'c', ',', 'about', 'half', 'of', 'the', 'performance', 'impact', 'is', 'due', 'to', 'delaying', 'the', 'running', 'of', 'useful', 'process', 'quantum', 'and', 'half', 'is', 'due', 'to', 'delaying', 'the', 'switching', 'of', 'those', 'quantum', '.', 'on', 'the', 'other', 'hand', ',', 'strategy', 'bi', 'delay', 'about', 'the', 'same', 'amount', 'of', 'useful', 'process', 'run', 'time', ',', 'but', 'far', 'less', 'time', 'spent', 'switching', 'process', 'quantum', '.', 'this', 'is', 'explained', 'by', 'the', 'fact', 'that', 'it', 'delay', 'a', 'much', 'low', 'absolute', 'number', 'of', 'useful', 'process', 'quantum', '.', 'the', 'low', 'amount', 'of', 'delayed', 'scheduler', 'time', 'in', 'strategy', 'bi', 'extends', 'to', 'big', 'and', 'bi', ',', 'allowing', 'them', 'to', 'have', 'a', 'great', 'amount', 'of', 'delayed', 'process', 'quantum', 'and', 'os', 'time', 'while', 'still', 'maintaining', 'the', 'same', 'performance', 'impact', 'a', 'strategy', 'c.', 'our', 'main', 'observation', ',', 'then', ',', 'is', 'that', 'strategy', 'bi', ',', 'big', ',', 'and', 'bi', 'delay', 'far', 'few', 'useful', 'quantum', 'than', 'strategy', 'c', 'even', 'though', 'by', 'design', 'the', 'latter', 'two', 'delay', 'the', 'same', 'amount', 'of', 'to-', 'in', 'our', 'simulation', ',', 'we', 'found', 'the', 'following', '.', 'the', 'basic', 'strategy', 'by', 'itself', 'save', 'barely', 'more', 'energy', 'than', 'the', 'current', 'macos', 'strategy', ',', 'although', 'it', 'doe', 'have', 'less', 'performance', 'impact', '.', 'adding', 'the', 'simple', 'scheduling', 'technique', 'allows', 'the', 'basic', 'strategy', 'to', 'reduce', 'energy', 'consumption', 'by', '26', '%', 'and', 'to', 'reduce', 'workload', 'completion', 'time', 'by', '0.7', '%', 'compared', 'to', 'the', 'current', 'macos', 'strategy', '.', 'adding', 'further', 'technique', 'for', 'managing', 'processor', 'time', 'allows', 'the', 'basic', 'strategy', 'to', 'even', 'further', 'surpass', 'the', 'current', 'macos', 'strategy', 'in', 'energy', 'saving', 'for', 'the', 'same', 'level', 'of', 'performance', 'impact', '.', 'using', 'the', 'sleep', 'extension', 'technique', 'allows', '32', '%', 'less', 'processor', 'energy', 'consumption', ',', 'and', 'using', 'the', 'greediness', 'technique', 'allows', '53', '%', 'less', 'processor', 'energy', 'consumption', '.', 'in', 'all', 'case', ',', 'the', 'absolute', 'level', 'of', 'performance', 'impact', 'is', 'very', 'low', '.', 'note', ',', 'however', ',', 'that', 'at', 'best', 'we', 'get', 'about', '66', '%', 'absolute', 'energy', 'saving', ',', 'compared', 'to', 'the', 'approximately', '82', '%', 'that', 'would', 'be', 'available', 'with', 'optimal', 'power', 'reduction', '.', 'our', 'simulation', 'suggest', 'that', 'although', 'both', 'the', 'greediness', 'technique', 'and', 'the', 'sleep', 'extension', 'technique', 'are', 'helpful', 'in', 'increasing', 'the', 'saving', 'attainable', 'from', 'the', 'basic', 'strategy', 'with', 'the', 'simple', 'scheduling', 'technique', ',', 'the', 'greediness', 'technique', 'doe', 'this', 'job', 'better', 'than', 'the', 'simple', 'scheduling', 'technique', '.', 'furthermore', ',', 'when', 'attempting', 'to', 'achieve', 'the', 'same', 'performance', 'impact', 'the', 'current', 'macos', 'provides', ',', 'it', 'is', 'not', 'worthwhile', 'to', 'use', 'the', 'sleep', 'extension', 'technique', 'if', 'one', 'is', 'already', 'using', 'the', 'greediness', 'technique', '.', 'the', 'reason', 'for', 'this', 'is', 'that', 'the', 'cost', 'in', 'performance', 'impact', 'of', 'an', 'increase', 'in', 'energy', 'saving', 'is', 'great', 'for', 'the', 'sleep', 'extension', 'technique', 'than', 'for', 'the', 'greediness', 'technique', '.', 'in', 'other', 'word', ',', 'adjusting', 'the', 'parameter', 'of', 'any', 'technique', 'to', 'improve', 'it', 'energy', 'saving', 'will', 'necessarily', 'cause', 'it', 'to', 'cycle', 'more', 'often', 'when', 'the', 'processor', 'is', 'doing', 'useful', 'work', 'and', 'thus', 'increase', 'performance', 'impact', '.', 'it', 'happens', 'that', 'this', 'effect', 'is', 'more', 'pronounced', 'for', 'the', 'sleep', 'extension', 'technique', 'than', 'for', 'the', 'greediness', 'technique', ',', 'at', 'least', 'for', 'the', 'low', 'performance', 'impact', 'regime', 'in', 'which', 'we', 'are', 'interested', '.', 'besides', 'this', 'difference', 'between', 'the', 'two', 'technique', ',', 'another', 'reason', 'to', 'not', 'use', 'the', 'sleep', 'extension', 'technique', 'is', 'that', 'it', 'is', 'quite', 'possible', 'that', 'extending', 'real-time', 'sleep', 'time', 'will', 'produce', 'undesirable', 'effect', 'in', 'term', 'of', 'system', 'performance', 'or', 'functionality', '.', 'analysis', 'of', 'the', 'sensitivity', 'of', 'the', 'technique', 'to', 'change', 'in', 'parameter', 'setting', 'and', 'workload', 'suggests', 'that', 'ideal', 'parameter', 'setting', 'is', 'not', 'necessary', 'to', 'the', 'consistent', 'functioning', 'of', 'the', 'technique', '.', 'thus', ',', 'we', 'expect', 'the', 'technique', 'to', 'be', 'successful', 'with', 'even', 'naive', 'parameter-setting', 'by', 'the', 'operating', 'system', 'or', 'user', '.', 'however', ',', 'one', 'anomalous', 'case', ',', 'user', '2', ',', 'point', 'out', 'the', 'vulnerability', 'of', 'the', 'basic', 'strategy', 'to', 'poor', 'application', 'behavior', ',', 'suggesting', 'that', 'the', 'greediness', 'technique', 'or', 'something', 'like', 'it', 'should', 'always', 'accompany', 'the', 'basic', 'strategy', '.', 'in', 'this', 'example', ',', 'based', 'on', 'the', 'duo', '280c', ',', 'turning', 'off', 'the', 'processor', 'save', '3.74', 'w', ',', 'while', 'the', 'component', 'that', 'remain', 'on', 'consume', ',', 'on', 'average', ',', '5.65', 'w', ',', 'given', 'current', 'power', 'management', 'technique', '.', 'note', 'that', 'we', 'are', 'assuming', 'that', 'during', 'extra', 'time', 'spent', 'with', 'the', 'processor', 'on', ',', 'other', 'component', 'are', ',', 'on', 'average', ',', 'at', 'their', 'average', 'power', 'level', 'given', 'current', 'power', 'management', 'technique', '.', 'the', 'bi', 'strategy', ',', 'with', 'it', 'processor', 'energy', 'saving', 'of', '51.72', '%', 'and', 'same', 'performance', 'impact', ',', 'would', 'make', 'average', 'total', 'power', 'consumption', '7.42', 'w', ',', 'yielding', 'a', 'power', 'saving', 'of', '10.3', '%', 'and', 'battery', 'lifetime', 'increase', 'of', '11.5', '%', 'compared', 'to', 'strategy', 'c.', 'note', 'that', 'all', 'these', 'figure', 'are', 'only', 'applicable', 'to', 'the', 'workload', 'studied', 'here', ',', 'i.e', '.', 'it', 'is', 'unclear', 'how', 'much', 'more', 'or', 'le', 'effective', 'these', 'method', 'would', 'be', 'for', 'some', 'other', 'workload', ';', 'for', 'instance', ',', 'a', 'previous', 'study', 'with', 'a', 'different', 'workload', 'found', 'that', '48.1', '%', 'of', 'processor', 'power', 'wa', 'saved', 'by', 'the', 'current', 'macos', 'strategy', '.', 'even', 'within', 'the', 'workload', 'studied', 'here', ',', 'we', 'have', 'seen', 'that', 'the', 'saving', 'from', 'each', 'strategy', 'varies', 'greatly', 'from', 'one', 'user', 'to', 'another', '.', 'we', 'believe', 'that', 'even', 'though', 'our', 'simulation', 'were', 'performed', 'on', 'macos', 'trace', ',', 'our', 'technique', 'are', 'generally', 'applicable', 'to', 'other', 'single-user', 'operating', 'system', '.', 'for', 'example', ',', 'microsoft', 'window', 'essentially', 'us', 'the', 'basic', 'strategy', 'with', 'the', 'simple', 'scheduling', 'technique', '.', 'however', ',', 'it', 'make', 'no', 'attempt', 'to', 'police', 'process', 'that', 'make', 'unfair', 'processor', 'time', 'request', ';', 'in', 'fact', ',', 'one', 'recognized', 'problem', 'with', 'it', 'power', 'management', 'is', 'that', 'if', 'a', 'single', 'process', 'request', 'event', 'using', 'peekmessage', 'rather', 'than', 'getmessage', 'or', 'waitmessage', ',', 'then', 'processor', 'power', 'management', 'can', 'not', 'take', 'place', '.', 'this', 'problem', 'is', 'exactly', 'the', 'sort', 'that', 'the', 'greediness', 'technique', 'wa', 'designed', 'to', 'alleviate', ',', 'so', 'we', 'may', 'find', 'that', ',', 'a', 'we', 'demonstrated', 'for', 'the', 'macos', ',', 'the', 'effectiveness', 'of', 'the', 'basic', 'strategy', 'is', 'greatly', 'improved', 'by', 'the', 'use', 'of', 'such', 'a', 'technique', '.', 'we', 'would', 'like', 'to', 'see', 'the', 'work', 'described', 'here', 'continued', 'in', 'several', 'way', '.', 'first', ',', 'we', 'would', 'like', 'to', 'actually', 'implement', 'our', 'proposed', 'strategy', '.', 'second', ',', 'we', 'would', 'like', 'to', 'collect', 'additional', 'trace', ',', 'so', 'that', 'the', 'effectiveness', 'of', 'our', 'technique', 'over', 'a', 'large', 'variety', 'of', 'user', 'and', 'workload', 'can', 'be', 'established', ',', 'so', 'that', 'we', 'can', 'better', 'select', 'parameter', 'value', ',', 'and', 'so', 'that', 'we', 'can', 'determine', 'if', 'dynamic', 'variation', 'of', 'parameter', 'value', 'is', 'useful', '.', 'in', 'particular', ',', 'we', 'want', 'to', 'obtain', 'trace', 'from', 'different', 'type', 'of', 'user', 'environment', ';', 'our', 'current', 'set', 'of', 'trace', 'is', 'rather', 'limited', 'in', 'this', 'respect', '.', 'third', ',', 'we', 'would', 'like', 'to', 'see', 'if', 'our', 'power-saving', 'technique', 'are', 'applicable', 'in', 'practice', 'to', 'other', 'single-user', 'operating', 'system', '.', 'finally', ',', 'we', 'do', 'not', 'believe', 'that', 'we', 'have', 'exhausted', 'the', 'possibility', 'for', 'software', 'strategy', 'to', 'put', 'the', 'cpu', 'into', 'power', 'saving', 'mode', ';', 'our', 'work', 'to', 'date', 'ha', 'not', ',', 'for', 'example', ',', 'considered', 'system', 'in', 'which', 'the', 'clock', 'rate', 'and', 'voltage', 'can', 'be', 'varied', 'simultaneously', 'and', 'dynamically', '.', 'we', 'also', 'do', 'not', 'believe', 'that', 'we', 'have', 'found', 'or', 'used', 'all', 'of', 'the', 'information', 'useful', 'in', 'predicting', '``', 'useless', \"''\", 'quantum', '.', 'at', 'best', ',', 'we', 'save', 'around', '66', '%', 'of', 'the', 'cpu', 'energy', ',', 'compared', 'to', 'a', 'theoretical', 'optimum', 'of', '82', '%', '.', 'reducing', 'the', 'power', 'consumption', 'of', 'computer', 'system', 'is', 'becoming', 'an', 'important', 'factor', 'in', 'their', 'design', ',', 'especially', 'in', 'the', 'case', 'of', 'portable', 'computer', '.', 'an', 'important', 'component', 'for', 'power', 'management', 'is', 'the', 'processor', ',', 'a', 'it', 'account', 'for', 'a', 'large', 'percentage', 'of', 'total', 'power', '.', 'obviously', ',', 'the', 'cpu', 'can', 'be', 'turned', 'off', 'when', 'it', 'is', 'inactive', ';', 'in', 'some', 'operating', 'system', ',', 'however', ',', 'such', 'a', 'macos', ',', 'the', 'cpu', 'is', 'frequently', 'running', 'even', 'when', 'there', 'is', \"n't\", 'any', '``', 'useful', \"''\", 'work', 'to', 'do', '.', 'we', 'have', 'found', 'several', 'heuristic', 'technique', 'to', 'decrease', 'power', 'use', ',', 'such', 'a', 'never', 'running', 'a', 'process', 'that', 'is', 'still', 'blocked', 'and', 'waiting', 'on', 'an', 'event', ',', 'delaying', 'process', 'that', 'execute', 'without', 'producing', 'output', 'or', 'otherwise', 'signaling', 'useful', 'activity', ',', 'and', 'delaying', 'the', 'frequency', 'of', 'periodic', 'process', ',', 'most', 'of', 'which', 'seem', 'to', 'wake', 'up', ',', 'look', 'around', ',', 'find', 'nothing', 'interesting', 'to', 'do', ',', 'and', 'go', 'back', 'to', 'sleep', '.', 'to', 'the', 'extent', 'that', 'similar', 'phenomenon', 'occur', 'in', 'other', 'operating', 'system', ',', 'these', 'technique', 'should', 'apply', 'to', 'them', 'also', '.', 'we', 'have', 'used', 'trace-driven', 'simulation', 'to', 'evaluate', 'these', 'technique', 'on', 'the', 'basis', 'of', 'processor', 'energy', 'saved', 'and', 'increase', 'in', 'processing', 'time', '.', 'we', 'found', 'that', 'our', 'technique', 'save', '47-66', '%', 'of', 'processor', 'energy', ',', 'thus', 'decreasing', 'processor', 'energy', 'consumption', 'by', '26-53', '%', 'compared', 'to', 'the', 'simple', 'strategy', 'currently', 'employed', 'by', 'macos', '.', 'taking', 'into', 'consideration', 'the', 'fraction', 'of', 'system', 'power', 'used', 'by', 'the', 'cpu', ',', 'we', 'estimate', 'that', 'implementing', 'the', 'best', 'subset', 'of', 'our', 'technique', 'will', 'increase', 'battery', 'lifetime', 'for', 'macintosh', 'portable', 'by', 'around', '20', '%', '.', 'these', 'saving', 'do', 'imply', 'a', 'small', 'loss', 'in', 'effective', 'system', 'performance', ';', 'in', 'all', 'case', ',', 'this', 'loss', 'is', 'less', 'than', '2', '%', '.', 'work', 'is', 'continuing', 'on', 'this', 'topic', '.', 'many', 'people', 'aided', 'in', 'the', 'preparation', 'of', 'this', 'work', 'and', 'deserve', 'our', 'gratitude', 'here', '.', 'marianne', 'hsiung', 'provided', 'support', ',', 'on', 'behalf', 'of', 'apple', 'computer', ',', 'inc.', ',', 'for', 'this', 'research', '.', 'phil', 'sohn', 'wrote', 'the', 'setc', 'module', 'that', 'idletracer', 'us', ',', 'and', 'also', 'provided', 'general', 'guidance', 'during', 'the', 'project', '.', 'steve', 'sfarzo', 'arranged', 'the', 'distribution', 'of', 'the', 'tracer', 'to', ',', 'and', 'the', 'collection', 'of', 'data', 'file', 'from', ',', 'many', 'powerbook', 'user', 'working', 'with', 'him', '.', 'helder', 'ramalho', 'provided', 'invaluable', 'information', 'about', 'the', 'way', 'the', 'current', 'processor', 'cycling', 'technique', 'work', '.', 'dave', 'falkenburg', 'and', 'jim', 'goche', 'provided', 'information', 'about', 'trap', 'handler', 'programming', 'critical', 'to', 'the', 'writing', 'of', 'idletracer', '.', 'larry', 'heil', 'coordinated', 'cooperation', 'with', 'the', 'apple', 'portable', 'group', '.', 'several', 'user', 'ran', 'the', 'tracer', 'on', 'their', 'machine', 'to', 'help', 'u', 'collect', 'the', 'data', '.', 'and', ',', 'finally', ',', 'we', 'thank', 'the', 'reviewer', 'of', 'the', 'original', 'version', 'of', 'this', 'paper', 'for', 'their', 'helpful', 'and', 'insightful', 'comment', '.', 'inside', 'macintosh', ',', 'volume', 'vi', ',', 'addison', 'wesley', 'publishing', 'company', ',', 'reading', ',', 'ma', ',', '1991.', 'window', 'api', 'bible', ',', 'waite', 'group', 'press', ',', 'corte', 'madera', ',', 'ca', ',', '1992.', 'proceeding', 'of', 'the', 'ieee', 'international', 'computer', 'society', 'conference', ',', 'san', 'francisco', ',', 'ca', ',', '307-315', ',', 'february', '1994.', 'modeling', 'the', 'effect', 'of', 'different', 'processor', 'cycling', 'technique', 'on', 'power', 'consumption', '.', 'performance', 'evaluation', 'group', 'technical', 'note', '#', '179', ',', 'atg', 'integrated', 'system', ',', 'november', '1995.', 'a', 'complete', 'picture', 'of', 'the', 'energy', 'consumption', 'of', 'a', 'portable', 'computer', '.', 'master', 'thesis', ',', 'computer', 'science', ',', 'university', 'of', 'california', 'at', 'berkeley', ',', 'december', '1995.', 'how', 'energy', 'is', 'consumed', 'and', 'saved', 'in', 'portable', 'computer', '.']\n"
     ]
    }
   ],
   "source": [
    "from nltk.stem import WordNetLemmatizer\n",
    "\n",
    "wordnet_lemmatizer = WordNetLemmatizer()\n",
    "\n",
    "adjective_tags = ['JJ','JJR','JJS']\n",
    "\n",
    "lemmatized_text = []\n",
    "\n",
    "for word in POS_tag:\n",
    "    if word[1] in adjective_tags:\n",
    "        lemmatized_text.append(str(wordnet_lemmatizer.lemmatize(word[0],pos=\"a\")))\n",
    "    else:\n",
    "        lemmatized_text.append(str(wordnet_lemmatizer.lemmatize(word[0]))) #default POS = noun\n",
    "        \n",
    "print \"Text tokens after lemmatization of adjectives and nouns: \\n\"\n",
    "print lemmatized_text"
   ]
  },
  {
   "cell_type": "code",
   "execution_count": 15,
   "metadata": {
    "collapsed": true
   },
   "outputs": [
    {
     "name": "stdout",
     "output_type": "stream",
     "text": [
      "Lemmatized text with POS tags: \n",
      "\n",
      "[('the', 'DT'), ('cpu', 'NN'), ('is', 'VBZ'), ('one', 'CD'), ('of', 'IN'), ('the', 'DT'), ('major', 'JJ'), ('power', 'NN'), ('consumer', 'NN'), ('in', 'IN'), ('a', 'DT'), ('portable', 'JJ'), ('computer', 'NN'), (',', ','), ('and', 'CC'), ('considerable', 'JJ'), ('power', 'NN'), ('can', 'MD'), ('be', 'VB'), ('saved', 'VBN'), ('by', 'IN'), ('turning', 'VBG'), ('off', 'RP'), ('the', 'DT'), ('cpu', 'NN'), ('when', 'WRB'), ('it', 'PRP'), ('is', 'VBZ'), ('not', 'RB'), ('doing', 'VBG'), ('useful', 'JJ'), ('work', 'NN'), ('.', '.'), ('in', 'IN'), ('apple', 'NN'), (\"'s\", 'POS'), ('macos', 'NN'), (',', ','), ('however', 'RB'), (',', ','), ('idle', 'JJ'), ('time', 'NN'), ('is', 'VBZ'), ('often', 'RB'), ('converted', 'VBN'), ('to', 'TO'), ('busy', 'JJ'), ('waiting', 'VBG'), (',', ','), ('and', 'CC'), ('generally', 'RB'), ('it', 'PRP'), ('is', 'VBZ'), ('very', 'RB'), ('hard', 'JJ'), ('to', 'TO'), ('tell', 'VB'), ('when', 'WRB'), ('no', 'DT'), ('useful', 'JJ'), ('computation', 'NN'), ('is', 'VBZ'), ('occurring', 'VBG'), ('.', '.'), ('in', 'IN'), ('this', 'DT'), ('paper', 'NN'), (',', ','), ('we', 'PRP'), ('suggest', 'VBP'), ('several', 'JJ'), ('heuristic', 'JJ'), ('technique', 'NN'), ('for', 'IN'), ('identifying', 'VBG'), ('this', 'DT'), ('condition', 'NN'), (',', ','), ('and', 'CC'), ('for', 'IN'), ('temporarily', 'RB'), ('putting', 'VBG'), ('the', 'DT'), ('cpu', 'NN'), ('in', 'IN'), ('a', 'DT'), ('low-power', 'JJ'), ('state', 'NN'), ('.', '.'), ('these', 'DT'), ('technique', 'JJ'), ('include', 'VBP'), ('turning', 'VBG'), ('off', 'RP'), ('the', 'DT'), ('processor', 'NN'), ('when', 'WRB'), ('all', 'DT'), ('process', 'NN'), ('are', 'VBP'), ('blocked', 'VBN'), (',', ','), ('turning', 'VBG'), ('off', 'RP'), ('the', 'DT'), ('processor', 'NN'), ('when', 'WRB'), ('process', 'NN'), ('appear', 'VBP'), ('to', 'TO'), ('be', 'VB'), ('busy', 'JJ'), ('waiting', 'VBG'), (',', ','), ('and', 'CC'), ('extending', 'VBG'), ('real', 'JJ'), ('time', 'NN'), ('process', 'NN'), ('sleep', 'JJ'), ('period', 'NN'), ('.', '.'), ('we', 'PRP'), ('use', 'VBP'), ('trace-driven', 'JJ'), ('simulation', 'NN'), (',', ','), ('using', 'VBG'), ('processor', 'NN'), ('run', 'VB'), ('interval', 'JJ'), ('trace', 'NN'), (',', ','), ('to', 'TO'), ('evaluate', 'VB'), ('the', 'DT'), ('potential', 'JJ'), ('energy', 'NN'), ('saving', 'NN'), ('and', 'CC'), ('performance', 'NN'), ('impact', 'NN'), ('.', '.'), ('we', 'PRP'), ('find', 'VBP'), ('that', 'IN'), ('these', 'DT'), ('technique', 'NNS'), ('save', 'VBP'), ('considerable', 'JJ'), ('amount', 'NN'), ('of', 'IN'), ('processor', 'NN'), ('energy', 'NN'), (',', ','), ('while', 'IN'), ('having', 'VBG'), ('very', 'RB'), ('little', 'JJ'), ('performance', 'NN'), ('impact', 'NN'), ('.', '.'), ('implementing', 'VBG'), ('the', 'DT'), ('proposed', 'VBN'), ('strategy', 'NN'), ('should', 'MD'), ('increase', 'VB'), ('battery', 'NN'), ('lifetime', 'NN'), ('by', 'IN'), ('approximately', 'RB'), ('20', 'CD'), ('%', 'NN'), ('relative', 'JJ'), ('to', 'TO'), ('apple', 'NN'), (\"'s\", 'POS'), ('current', 'JJ'), ('cpu', 'NN'), ('power', 'NN'), ('management', 'NN'), ('strategy', 'NN'), (',', ','), ('since', 'IN'), ('the', 'DT'), ('cpu', 'NN'), ('and', 'CC'), ('associated', 'VBN'), ('logic', 'NNS'), ('are', 'VBP'), ('responsible', 'JJ'), ('for', 'IN'), ('about', 'RB'), ('32', 'CD'), ('%', 'NN'), ('of', 'IN'), ('power', 'NN'), ('use', 'NN'), (';', ':'), ('similar', 'JJ'), ('technique', 'NN'), ('should', 'MD'), ('be', 'VB'), ('applicable', 'JJ'), ('to', 'TO'), ('operating', 'VBG'), ('system', 'NN'), ('with', 'IN'), ('similar', 'JJ'), ('behavior', 'NN'), ('.', '.'), ('for', 'IN'), ('these', 'DT'), ('reason', 'NN'), (',', ','), ('much', 'JJ'), ('work', 'NN'), ('ha', 'RB'), ('been', 'VBN'), ('done', 'VBN'), ('in', 'IN'), ('reducing', 'VBG'), ('the', 'DT'), ('power', 'NN'), ('consumption', 'NN'), ('of', 'IN'), ('computer', 'NN'), ('.', '.'), ('in', 'IN'), ('and', 'CC'), (',', ','), ('we', 'PRP'), ('analyzed', 'VBD'), ('the', 'DT'), ('power', 'NN'), ('consumption', 'NN'), ('of', 'IN'), ('various', 'JJ'), ('macintosh', 'NNS'), ('powerbook', 'VBP'), ('computer', 'NN'), (',', ','), ('in', 'IN'), ('typical', 'JJ'), ('use', 'NN'), ('by', 'IN'), ('a', 'DT'), ('number', 'NN'), ('of', 'IN'), ('engineering', 'NN'), ('user', 'NN'), ('.', '.'), ('we', 'PRP'), ('found', 'VBD'), ('that', 'IN'), (',', ','), ('depending', 'VBG'), ('on', 'IN'), ('the', 'DT'), ('machine', 'NN'), ('and', 'CC'), ('user', 'NN'), (',', ','), ('up', 'RB'), ('to', 'TO'), ('18-34', 'CD'), ('%', 'NN'), ('of', 'IN'), ('total', 'JJ'), ('power', 'NN'), ('wa', 'NN'), ('attributable', 'JJ'), ('to', 'TO'), ('component', 'VB'), ('whose', 'WP$'), ('power', 'NN'), ('consumption', 'NN'), ('could', 'MD'), ('be', 'VB'), ('reduced', 'VBN'), ('by', 'IN'), ('power', 'NN'), ('management', 'NN'), ('of', 'IN'), ('the', 'DT'), ('processor', 'NN'), (',', ','), ('i.e', 'NN'), ('.', '.'), ('this', 'DT'), ('high', 'JJ'), ('percentage', 'NN'), (',', ','), ('combined', 'VBN'), ('with', 'IN'), ('our', 'PRP$'), ('intuition', 'NN'), ('that', 'DT'), ('software', 'NN'), ('power', 'NN'), ('management', 'NN'), ('could', 'MD'), ('be', 'VB'), ('significantly', 'RB'), ('improved', 'VBN'), ('for', 'IN'), ('the', 'DT'), ('processor', 'NN'), (',', ','), ('led', 'VBD'), ('u', 'JJ'), ('to', 'TO'), ('conclude', 'VB'), ('that', 'IN'), ('the', 'DT'), ('most', 'RBS'), ('important', 'JJ'), ('target', 'NN'), ('for', 'IN'), ('further', 'JJ'), ('research', 'NN'), ('in', 'IN'), ('software', 'NN'), ('power', 'NN'), ('management', 'NN'), ('wa', 'VBD'), ('the', 'DT'), ('processor', 'NN'), ('.', '.'), ('many', 'JJ'), ('modern', 'JJ'), ('microprocessor', 'NNS'), ('have', 'VBP'), ('low-power', 'JJR'), ('state', 'NN'), (',', ','), ('in', 'IN'), ('which', 'WDT'), ('they', 'PRP'), ('consume', 'VBP'), ('little', 'JJ'), ('or', 'CC'), ('no', 'DT'), ('power', 'NN'), ('.', '.'), ('to', 'TO'), ('take', 'VB'), ('advantage', 'NN'), ('of', 'IN'), ('such', 'JJ'), ('low-power', 'JJ'), ('state', 'NN'), (',', ','), ('the', 'DT'), ('operating', 'NN'), ('system', 'NN'), ('need', 'VBP'), ('to', 'TO'), ('direct', 'VB'), ('the', 'DT'), ('processor', 'NN'), ('to', 'TO'), ('turn', 'VB'), ('off', 'RP'), ('when', 'WRB'), ('it', 'PRP'), ('is', 'VBZ'), ('predicted', 'VBN'), ('that', 'IN'), ('the', 'DT'), ('consequent', 'NN'), ('saving', 'VBG'), ('in', 'IN'), ('power', 'NN'), ('will', 'MD'), ('be', 'VB'), ('worth', 'IN'), ('the', 'DT'), ('time', 'NN'), ('and', 'CC'), ('energy', 'NN'), ('overhead', 'NN'), ('of', 'IN'), ('turning', 'VBG'), ('off', 'RP'), ('and', 'CC'), ('restarting', 'VBG'), ('.', '.'), ('in', 'IN'), ('this', 'DT'), ('way', 'NN'), (',', ','), ('the', 'DT'), ('goal', 'NN'), ('of', 'IN'), ('processor', 'NN'), ('power', 'NN'), ('management', 'NN'), ('strategy', 'NN'), ('is', 'VBZ'), ('similar', 'JJ'), ('to', 'TO'), ('that', 'DT'), ('of', 'IN'), ('hard', 'JJ'), ('disk', 'NN'), ('.', '.'), ('some', 'DT'), ('strategy', 'NN'), ('for', 'IN'), ('making', 'VBG'), ('these', 'DT'), ('prediction', 'NN'), ('are', 'VBP'), ('described', 'VBN'), ('by', 'IN'), ('srivastava', 'JJ'), ('et', 'NN'), ('al', 'NN'), ('.', '.'), ('for', 'IN'), ('instance', 'NN'), (',', ','), ('the', 'DT'), ('at', 'IN'), ('&', 'CC'), ('t', 'JJ'), ('hobbit', 'NN'), ('and', 'CC'), ('certain', 'JJ'), ('version', 'NN'), ('of', 'IN'), ('the', 'DT'), ('mc68030', 'NN'), ('and', 'CC'), ('mc68040', 'NN'), ('use', 'NN'), ('static', 'JJ'), ('logic', 'NN'), ('so', 'RB'), ('that', 'IN'), ('most', 'JJS'), ('of', 'IN'), ('their', 'PRP$'), ('state', 'NN'), ('can', 'MD'), ('be', 'VB'), ('retained', 'VBN'), ('when', 'WRB'), ('the', 'DT'), ('clock', 'NN'), ('is', 'VBZ'), ('shut', 'VBN'), ('down', 'RP'), ('.', '.'), ('also', 'RB'), (',', ','), ('the', 'DT'), ('powerpc', 'NN'), ('603', 'CD'), ('can', 'MD'), ('exit', 'VB'), ('the', 'DT'), ('low-power', 'JJR'), ('doze', 'JJ'), ('mode', 'NN'), ('in', 'IN'), ('about', 'RB'), ('ten', 'JJ'), ('system', 'NN'), ('clock', 'NN'), ('.', '.'), ('because', 'IN'), ('of', 'IN'), ('the', 'DT'), ('short', 'JJ'), ('delay', 'NN'), ('and', 'CC'), ('low', 'JJ'), ('energy', 'NN'), ('cost', 'NN'), ('for', 'IN'), ('entering', 'VBG'), ('and', 'CC'), ('leaving', 'VBG'), ('a', 'DT'), ('low-power', 'JJ'), ('state', 'NN'), (',', ','), ('the', 'DT'), ('optimal', 'JJ'), ('cpu', 'NN'), ('power', 'NN'), ('management', 'NN'), ('strategy', 'NN'), ('is', 'VBZ'), ('trivial', 'JJ'), (':', ':'), ('turn', 'VB'), ('off', 'RP'), ('the', 'DT'), ('cpu', 'NN'), ('whenever', 'WRB'), ('there', 'EX'), ('is', 'VBZ'), ('no', 'DT'), ('useful', 'JJ'), ('work', 'NN'), ('to', 'TO'), ('do', 'VB'), ('.', '.'), ('an', 'DT'), ('opportunityfor', 'JJ'), ('such', 'JJ'), ('a', 'DT'), ('strategy', 'NN'), ('is', 'VBZ'), ('described', 'VBN'), ('by', 'IN'), ('srivastava', 'JJ'), ('et', 'NN'), ('al', 'NN'), ('.', '.'), ('this', 'DT'), ('material', 'NN'), ('is', 'VBZ'), ('based', 'VBN'), ('upon', 'IN'), ('work', 'NN'), ('supported', 'VBN'), ('by', 'IN'), ('a', 'DT'), ('national', 'JJ'), ('science', 'NN'), ('foundation', 'NN'), ('graduate', 'NN'), ('research', 'NN'), ('fellowship', 'NN'), (',', ','), ('by', 'IN'), ('apple', 'NN'), ('computer', 'NN'), (',', ','), ('and', 'CC'), ('also', 'RB'), ('in', 'IN'), ('part', 'NN'), ('by', 'IN'), ('the', 'DT'), ('national', 'JJ'), ('science', 'NN'), ('foundation', 'NN'), ('under', 'IN'), ('grant', 'JJ'), ('mip-9116578', 'JJ'), ('and', 'CC'), ('ccr-9117028', 'JJ'), (',', ','), ('by', 'IN'), ('the', 'DT'), ('state', 'NN'), ('of', 'IN'), ('california', 'NN'), ('under', 'IN'), ('the', 'DT'), ('micro', 'NN'), ('program', 'NN'), (',', ','), ('and', 'CC'), ('by', 'IN'), ('intel', 'JJ'), ('corporation', 'NN'), ('and', 'CC'), ('sun', 'NN'), ('microsystems', 'NNS'), ('.', '.'), ('although', 'IN'), ('the', 'DT'), ('work', 'NN'), ('presented', 'VBN'), ('here', 'RB'), ('ha', 'RB'), ('benefited', 'VBN'), ('from', 'IN'), ('support', 'NN'), ('from', 'IN'), ('and', 'CC'), ('cooperation', 'NN'), ('by', 'IN'), ('apple', 'NN'), (',', ','), ('the', 'DT'), ('relationship', 'NN'), ('between', 'IN'), ('this', 'DT'), ('work', 'NN'), ('and', 'CC'), ('apple', 'NN'), (\"'s\", 'POS'), ('product', 'NN'), ('development', 'NN'), ('plan', 'NN'), ('ha', 'VBP'), ('yet', 'RB'), ('to', 'TO'), ('be', 'VB'), ('determined', 'VBN'), ('.', '.'), ('to', 'TO'), ('appear', 'VB'), ('in', 'IN'), ('the', 'DT'), ('second', 'JJ'), ('acm', 'JJ'), ('international', 'JJ'), ('conference', 'NN'), ('on', 'IN'), ('mobile', 'JJ'), ('computing', 'NN'), ('and', 'CC'), ('networking', 'NN'), (',', ','), ('november', 'JJ'), ('1996', 'CD'), (',', ','), ('rye', 'NN'), (',', ','), ('new', 'JJ'), ('york', 'NN'), ('.', '.'), ('copyright', 'NN'), ('c', 'NN'), ('1996', 'CD'), ('by', 'IN'), ('the', 'DT'), ('association', 'NN'), ('for', 'IN'), ('computing', 'VBG'), ('machinery', 'NN'), (',', ','), ('inc.', 'VB'), ('copyright', 'NN'), ('for', 'IN'), ('component', 'NN'), ('of', 'IN'), ('this', 'DT'), ('work', 'NN'), ('owned', 'VBN'), ('by', 'IN'), ('others', 'NNS'), ('than', 'IN'), ('acm', 'VB'), ('must', 'MD'), ('be', 'VB'), ('honored', 'VBN'), ('.', '.'), ('abstracting', 'VBG'), ('with', 'IN'), ('credit', 'NN'), ('is', 'VBZ'), ('permitted', 'VBN'), ('.', '.'), ('to', 'TO'), ('copy', 'VB'), ('otherwise', 'RB'), (',', ','), ('to', 'TO'), ('republish', 'VB'), (',', ','), ('to', 'TO'), ('post', 'VB'), ('on', 'IN'), ('server', 'NN'), (',', ','), ('or', 'CC'), ('to', 'TO'), ('redistribute', 'VB'), ('to', 'TO'), ('list', 'VB'), (',', ','), ('requires', 'VBZ'), ('prior', 'JJ'), ('specific', 'JJ'), ('permission', 'NN'), ('and/or', 'IN'), ('a', 'DT'), ('fee', 'NN'), ('.', '.'), ('an', 'DT'), ('essentially', 'RB'), ('equivalent', 'JJ'), ('version', 'NN'), ('of', 'IN'), ('this', 'DT'), ('strategy', 'NN'), (',', ','), ('namely', 'RB'), ('to', 'TO'), ('establish', 'VB'), ('a', 'DT'), ('virtual', 'JJ'), ('lowest-priority', 'NN'), ('process', 'NN'), ('whose', 'WP$'), ('job', 'NN'), ('is', 'VBZ'), ('to', 'TO'), ('turn', 'VB'), ('off', 'RP'), ('the', 'DT'), ('processor', 'NN'), ('when', 'WRB'), ('it', 'PRP'), ('run', 'VB'), (',', ','), ('is', 'VBZ'), ('recommended', 'VBN'), ('by', 'IN'), ('suessmith', 'NN'), ('and', 'CC'), ('paap', 'NN'), ('for', 'IN'), ('the', 'DT'), ('powerpc', 'NN'), ('603', 'CD'), (',', ','), ('and', 'CC'), ('by', 'IN'), ('suzuki', 'NN'), ('and', 'CC'), ('uno', 'NN'), ('in', 'IN'), ('a', 'DT'), ('1993', 'CD'), ('patent', 'NN'), ('.', '.'), ('such', 'PDT'), ('a', 'DT'), ('virtual', 'JJ'), ('lowest-priority', 'NN'), ('process', 'NN'), ('ha', 'NN'), ('in', 'IN'), ('the', 'DT'), ('past', 'JJ'), ('been', 'VBN'), ('called', 'VBN'), ('the', 'DT'), ('``', '``'), ('idle', 'JJ'), ('loop', 'NN'), (',', ','), (\"''\", \"''\"), ('and', 'CC'), ('in', 'IN'), ('mainframe', 'NN'), ('typically', 'RB'), ('lighted', 'VBD'), ('a', 'DT'), ('bulb', 'NN'), ('on', 'IN'), ('the', 'DT'), ('console', 'NN'), ('.', '.'), ('we', 'PRP'), ('refer', 'VBP'), ('to', 'TO'), ('the', 'DT'), ('strategy', 'NN'), ('of', 'IN'), ('turning', 'VBG'), ('off', 'RP'), ('the', 'DT'), ('processor', 'NN'), ('when', 'WRB'), ('no', 'DT'), ('process', 'NN'), ('is', 'VBZ'), ('available', 'JJ'), ('to', 'TO'), ('run', 'VB'), ('the', 'DT'), ('basic', 'JJ'), ('strategy', 'NN'), ('.', '.'), ('unfortunately', 'RB'), (',', ','), ('in', 'IN'), ('apple', 'NN'), (\"'s\", 'POS'), ('macos', 'NN'), (',', ','), ('process', 'NN'), ('can', 'MD'), ('run', 'VB'), ('or', 'CC'), ('be', 'VB'), ('scheduled', 'VBN'), ('to', 'TO'), ('run', 'VB'), ('even', 'RB'), ('when', 'WRB'), ('they', 'PRP'), ('have', 'VBP'), ('no', 'DT'), ('useful', 'JJ'), ('work', 'NN'), ('to', 'TO'), ('do', 'VB'), ('.', '.'), ('this', 'DT'), ('feature', 'NN'), ('is', 'VBZ'), ('partially', 'RB'), ('by', 'IN'), ('design', 'NN'), (',', ','), ('since', 'IN'), ('in', 'IN'), ('a', 'DT'), ('single-user', 'JJ'), ('system', 'NN'), ('there', 'EX'), ('is', 'VBZ'), ('less', 'JJR'), ('need', 'NN'), ('for', 'IN'), ('the', 'DT'), ('operating', 'NN'), ('system', 'NN'), ('to', 'TO'), ('act', 'VB'), ('a', 'DT'), ('an', 'DT'), ('arbiter', 'NN'), ('of', 'IN'), ('resource', 'NN'), ('use', 'NN'), ('.', '.'), ('partially', 'RB'), (',', ','), ('it', 'PRP'), ('is', 'VBZ'), ('because', 'IN'), ('the', 'DT'), ('o', 'NN'), ('wa', 'VBZ'), ('not', 'RB'), ('written', 'VBN'), ('with', 'IN'), ('power', 'NN'), ('management', 'NN'), ('in', 'IN'), ('mind', 'NN'), ('.', '.'), ('there', 'EX'), ('are', 'VBP'), ('two', 'CD'), ('main', 'JJ'), ('problem', 'NN'), ('with', 'IN'), ('the', 'DT'), ('current', 'JJ'), ('management', 'NN'), ('of', 'IN'), ('processor', 'NN'), ('time', 'NN'), (',', ','), ('one', 'CD'), ('having', 'VBG'), ('to', 'TO'), ('do', 'VB'), ('with', 'IN'), ('the', 'DT'), ('system', 'NN'), ('and', 'CC'), ('one', 'CD'), ('having', 'VBG'), ('to', 'TO'), ('do', 'VB'), ('with', 'IN'), ('application', 'NN'), ('.', '.'), ('the', 'DT'), ('first', 'JJ'), ('problem', 'NN'), ('is', 'VBZ'), ('that', 'IN'), ('the', 'DT'), ('operating', 'NN'), ('system', 'NN'), ('will', 'MD'), ('sometimes', 'RB'), ('schedule', 'VB'), ('a', 'DT'), ('process', 'NN'), ('even', 'RB'), ('though', 'IN'), ('it', 'PRP'), ('ha', 'VBZ'), ('no', 'DT'), ('work', 'NN'), ('to', 'TO'), ('do', 'VB'), ('.', '.'), ('we', 'PRP'), ('were', 'VBD'), ('first', 'RB'), ('made', 'VBN'), ('aware', 'NN'), ('of', 'IN'), ('this', 'DT'), ('phenomenon', 'NN'), ('when', 'WRB'), ('we', 'PRP'), ('studied', 'VBD'), ('trace', 'NN'), ('of', 'IN'), ('macos', 'NN'), ('process', 'NN'), ('scheduling', 'VBG'), ('call', 'NN'), (',', ','), ('and', 'CC'), ('found', 'VBD'), ('that', 'IN'), ('often', 'RB'), ('a', 'DT'), ('process', 'NN'), ('would', 'MD'), ('be', 'VB'), ('scheduled', 'VBN'), ('to', 'TO'), ('run', 'VB'), ('before', 'IN'), ('the', 'DT'), ('condition', 'NN'), ('the', 'DT'), ('process', 'NN'), ('had', 'VBD'), ('established', 'VBN'), ('a', 'DT'), ('necessary', 'JJ'), ('for', 'IN'), ('it', 'PRP'), ('to', 'TO'), ('be', 'VB'), ('ready', 'JJ'), ('were', 'VBD'), ('fulfilled', 'VBN'), ('.', '.'), ('it', 'PRP'), ('seems', 'VBZ'), ('that', 'IN'), ('often', 'RB'), (',', ','), ('when', 'WRB'), ('there', 'EX'), ('are', 'VBP'), ('no', 'DT'), ('ready', 'JJ'), ('process', 'NN'), (',', ','), ('the', 'DT'), ('o', 'NN'), ('pick', 'NN'), ('one', 'CD'), ('to', 'TO'), ('run', 'VB'), ('anyway', 'RB'), (',', ','), ('usually', 'RB'), ('the', 'DT'), ('process', 'NN'), ('associated', 'VBN'), ('with', 'IN'), ('the', 'DT'), ('active', 'JJ'), ('window', 'NN'), ('.', '.'), ('the', 'DT'), ('second', 'JJ'), ('problem', 'NN'), ('is', 'VBZ'), ('that', 'IN'), ('programmer', 'NN'), ('writing', 'VBG'), ('application', 'NN'), ('generally', 'RB'), ('assume', 'VBP'), ('that', 'IN'), ('when', 'WRB'), ('their', 'PRP$'), ('application', 'NN'), ('is', 'VBZ'), ('running', 'VBG'), ('in', 'IN'), ('the', 'DT'), ('foreground', 'NN'), (',', ','), ('it', 'PRP'), ('is', 'VBZ'), ('justified', 'VBN'), ('in', 'IN'), ('taking', 'VBG'), ('a', 'DT'), ('much', 'RB'), ('processing', 'NN'), ('time', 'NN'), ('a', 'DT'), ('it', 'PRP'), ('want', 'NN'), ('.', '.'), ('first', 'RB'), (',', ','), ('a', 'DT'), ('process', 'NN'), ('will', 'MD'), ('often', 'RB'), ('request', 'VB'), ('processor', 'NN'), ('time', 'NN'), ('even', 'RB'), ('when', 'WRB'), ('it', 'PRP'), ('ha', 'VBD'), ('nothing', 'NN'), ('to', 'TO'), ('do', 'VB'), ('.', '.'), ('we', 'PRP'), ('discovered', 'VBD'), ('this', 'DT'), ('problem', 'NN'), ('in', 'IN'), ('macos', 'NN'), ('when', 'WRB'), ('we', 'PRP'), ('discovered', 'VBD'), ('period', 'NN'), ('of', 'IN'), ('a', 'DT'), ('long', 'JJ'), ('a', 'DT'), ('ten', 'JJ'), ('minute', 'NN'), ('during', 'IN'), ('which', 'WDT'), ('a', 'DT'), ('process', 'NN'), ('never', 'RB'), ('did', 'VBD'), ('anything', 'NN'), (',', ','), ('yet', 'RB'), ('never', 'RB'), ('blocked', 'VBN'), (';', ':'), ('we', 'PRP'), ('describe', 'VBP'), ('later', 'RB'), ('what', 'WP'), ('we', 'PRP'), ('mean', 'VBP'), ('by', 'IN'), ('``', '``'), ('never', 'RB'), ('did', 'VBD'), ('anything', 'NN'), ('.', '.'), (\"''\", \"''\"), ('second', 'JJ'), (',', ','), ('when', 'WRB'), ('a', 'DT'), ('process', 'NN'), ('decides', 'VBZ'), ('to', 'TO'), ('block', 'VB'), (',', ','), ('it', 'PRP'), ('often', 'RB'), ('request', 'VBZ'), ('a', 'DT'), ('short', 'JJ'), ('sleep', 'NN'), ('period', 'NN'), ('than', 'IN'), ('necessary', 'JJ'), ('.', '.'), ('solution', 'NN'), ('to', 'TO'), ('both', 'DT'), ('these', 'DT'), ('problem', 'NN'), ('seem', 'VBP'), ('to', 'TO'), ('be', 'VB'), ('necessary', 'JJ'), ('to', 'TO'), ('obtain', 'VB'), ('the', 'DT'), ('most', 'RBS'), ('saving', 'JJ'), ('from', 'IN'), ('the', 'DT'), ('basic', 'JJ'), ('strategy', 'NN'), ('.', '.'), ('for', 'IN'), ('this', 'DT'), ('reason', 'NN'), (',', ','), ('we', 'PRP'), ('have', 'VBP'), ('developed', 'VBN'), ('additional', 'JJ'), ('technique', 'NN'), ('for', 'IN'), ('process', 'NN'), ('management', 'NN'), ('.', '.'), ('our', 'PRP$'), ('technique', 'NN'), ('for', 'IN'), ('dealing', 'VBG'), ('with', 'IN'), ('the', 'DT'), ('first', 'JJ'), ('problem', 'NN'), ('is', 'VBZ'), ('to', 'TO'), ('simply', 'RB'), ('make', 'VB'), ('the', 'DT'), ('operating', 'NN'), ('system', 'NN'), ('never', 'RB'), ('schedule', 'VBZ'), ('a', 'DT'), ('process', 'NN'), ('when', 'WRB'), ('it', 'PRP'), ('ha', 'RB'), ('requested', 'VBD'), ('to', 'TO'), ('be', 'VB'), ('blocked', 'VBN'), (';', ':'), ('we', 'PRP'), ('call', 'VBP'), ('this', 'DT'), ('the', 'DT'), ('simple', 'JJ'), ('scheduling', 'NN'), ('technique', 'NN'), ('.', '.'), ('one', 'CD'), ('technique', 'NN'), ('we', 'PRP'), ('suggest', 'VBP'), ('is', 'VBZ'), ('to', 'TO'), ('use', 'VB'), ('a', 'DT'), ('heuristic', 'JJ'), ('to', 'TO'), ('decide', 'VB'), ('when', 'WRB'), ('a', 'DT'), ('process', 'NN'), ('is', 'VBZ'), ('making', 'VBG'), ('unnecessary', 'JJ'), ('request', 'NN'), ('for', 'IN'), ('processor', 'NN'), ('time', 'NN'), ('and', 'CC'), ('to', 'TO'), ('forcibly', 'RB'), ('block', 'VB'), ('any', 'DT'), ('such', 'JJ'), ('process', 'NN'), ('.', '.'), ('another', 'DT'), ('technique', 'NN'), ('we', 'PRP'), ('suggest', 'VBP'), ('is', 'VBZ'), ('that', 'IN'), ('all', 'DT'), ('sleep', 'JJ'), ('time', 'NN'), ('requested', 'VBN'), ('by', 'IN'), ('process', 'NN'), ('be', 'VB'), ('multiplied', 'VBN'), ('by', 'IN'), ('a', 'DT'), ('constant', 'JJ'), ('factor', 'NN'), (',', ','), ('chosen', 'VBN'), ('by', 'IN'), ('the', 'DT'), ('user', 'NN'), ('or', 'CC'), ('operating', 'NN'), ('system', 'NN'), (',', ','), ('to', 'TO'), ('ensure', 'VB'), ('that', 'IN'), ('a', 'DT'), ('reasonable', 'JJ'), ('trade-off', 'NN'), ('between', 'IN'), ('energy', 'NN'), ('saving', 'NN'), ('and', 'CC'), ('performance', 'NN'), ('is', 'VBZ'), ('obtained', 'VBN'), ('.', '.'), ('we', 'PRP'), ('call', 'VBP'), ('these', 'DT'), ('latter', 'JJ'), ('two', 'CD'), ('technique', 'NN'), ('the', 'DT'), ('greediness', 'NN'), ('technique', 'NN'), ('and', 'CC'), ('sleep', 'JJ'), ('extension', 'NN'), ('technique', 'NN'), (',', ','), ('respectively', 'RB'), ('.', '.'), ('we', 'PRP'), ('will', 'MD'), ('show', 'VB'), ('how', 'WRB'), ('using', 'VBG'), ('these', 'DT'), ('technique', 'NN'), ('can', 'MD'), ('improve', 'VB'), ('the', 'DT'), ('effectiveness', 'NN'), ('of', 'IN'), ('the', 'DT'), ('basic', 'JJ'), ('strategy', 'NN'), (',', ','), ('allowing', 'VBG'), ('it', 'PRP'), ('to', 'TO'), ('far', 'RB'), ('surpass', 'VB'), ('the', 'DT'), ('effectiveness', 'NN'), ('of', 'IN'), ('the', 'DT'), ('current', 'JJ'), ('macos', 'NN'), ('inactivity-timer', 'NN'), ('based', 'VBN'), ('strategy', 'NN'), ('.', '.'), ('each', 'DT'), ('of', 'IN'), ('these', 'DT'), ('is', 'VBZ'), ('described', 'VBN'), ('in', 'IN'), ('more', 'JJR'), ('detail', 'NN'), ('below', 'IN'), ('.', '.'), ('in', 'IN'), ('this', 'DT'), ('paper', 'NN'), (',', ','), ('we', 'PRP'), ('evaluate', 'VBP'), ('these', 'DT'), ('different', 'JJ'), ('strategy', 'NN'), (',', ','), ('over', 'IN'), ('a', 'DT'), ('variety', 'NN'), ('of', 'IN'), ('parameter', 'NN'), ('value', 'NN'), (',', ','), ('using', 'VBG'), ('trace-driven', 'JJ'), ('simulation', 'NN'), ('.', '.'), ('these', 'DT'), ('simulation', 'NN'), ('enable', 'RB'), ('u', 'JJ'), ('to', 'TO'), ('compare', 'VB'), ('these', 'DT'), ('algorithm', 'NNS'), ('to', 'TO'), ('the', 'DT'), ('current', 'JJ'), ('macos', 'NN'), ('strategy', 'NN'), (',', ','), ('and', 'CC'), ('to', 'TO'), ('optimize', 'VB'), ('their', 'PRP$'), ('parameter', 'NN'), ('.', '.'), ('a', 'DT'), ('comparison', 'NN'), ('between', 'IN'), ('two', 'CD'), ('strategy', 'NN'), ('is', 'VBZ'), ('based', 'VBN'), ('on', 'IN'), ('two', 'CD'), ('consequence', 'NN'), ('of', 'IN'), ('each', 'DT'), ('strategy', 'NN'), (':', ':'), ('how', 'WRB'), ('much', 'RB'), ('processor', 'NN'), ('power', 'NN'), ('it', 'PRP'), ('save', 'VB'), ('and', 'CC'), ('how', 'WRB'), ('much', 'JJ'), ('it', 'PRP'), ('decrease', 'VBZ'), ('observed', 'JJ'), ('performance', 'NN'), ('.', '.'), ('the', 'DT'), ('paper', 'NN'), ('is', 'VBZ'), ('structured', 'VBN'), ('a', 'DT'), ('follows', 'VBZ'), ('.', '.'), ('in', 'IN'), ('section', 'NN'), ('2', 'CD'), (',', ','), ('we', 'PRP'), ('describe', 'VBP'), ('in', 'IN'), ('detail', 'NN'), ('the', 'DT'), ('strategy', 'NN'), ('we', 'PRP'), ('will', 'MD'), ('be', 'VB'), ('comparing', 'VBG'), (',', ','), ('including', 'VBG'), ('the', 'DT'), ('current', 'JJ'), ('strategy', 'NN'), ('used', 'VBN'), ('by', 'IN'), ('macos', 'NN'), (',', ','), ('the', 'DT'), ('basic', 'JJ'), ('strategy', 'NN'), (',', ','), ('and', 'CC'), ('our', 'PRP$'), ('suggested', 'JJ'), ('process', 'NN'), ('management', 'NN'), ('technique', 'NN'), ('for', 'IN'), ('improving', 'VBG'), ('the', 'DT'), ('basic', 'JJ'), ('strategy', 'NN'), ('.', '.'), ('in', 'IN'), ('section', 'NN'), ('3', 'CD'), (',', ','), ('we', 'PRP'), ('describe', 'VBP'), ('the', 'DT'), ('methodology', 'NN'), ('we', 'PRP'), ('used', 'VBD'), ('to', 'TO'), ('evaluate', 'VB'), ('these', 'DT'), ('strategy', 'NN'), (':', ':'), ('the', 'DT'), ('evaluation', 'NN'), ('criterion', 'NN'), (',', ','), ('the', 'DT'), ('tool', 'NN'), ('we', 'PRP'), ('used', 'VBD'), ('for', 'IN'), ('the', 'DT'), ('trace-driven', 'JJ'), ('simulation', 'NN'), (',', ','), ('and', 'CC'), ('the', 'DT'), ('nature', 'NN'), ('of', 'IN'), ('the', 'DT'), ('trace', 'NN'), ('we', 'PRP'), ('collected', 'VBD'), ('.', '.'), ('in', 'IN'), ('section', 'NN'), ('4', 'CD'), (',', ','), ('we', 'PRP'), ('present', 'VBP'), ('the', 'DT'), ('result', 'NN'), ('of', 'IN'), ('our', 'PRP$'), ('simulation', 'NN'), ('.', '.'), ('in', 'IN'), ('section', 'NN'), ('5', 'CD'), (',', ','), ('we', 'PRP'), ('discus', 'VBP'), ('the', 'DT'), ('meaning', 'NN'), ('and', 'CC'), ('consequence', 'NN'), ('of', 'IN'), ('these', 'DT'), ('result', 'NN'), (',', ','), ('and', 'CC'), ('point', 'VB'), ('the', 'DT'), ('way', 'NN'), ('to', 'TO'), ('future', 'JJ'), ('work', 'NN'), ('.', '.'), ('the', 'DT'), ('currently', 'RB'), ('used', 'VBN'), ('processor', 'NN'), ('power', 'NN'), ('management', 'NN'), ('strategy', 'NN'), ('in', 'IN'), ('macos', 'NN'), ('is', 'VBZ'), ('based', 'VBN'), ('on', 'IN'), ('an', 'DT'), ('inactivity', 'NN'), ('timer', 'NN'), ('.', '.'), ('the', 'DT'), ('operating', 'NN'), ('system', 'NN'), ('will', 'MD'), ('initiate', 'VB'), ('processor', 'NN'), ('power', 'NN'), ('reduction', 'NN'), ('whenever', 'WRB'), ('no', 'DT'), ('activity', 'NN'), ('ha', 'RB'), ('occurred', 'VBD'), ('in', 'IN'), ('the', 'DT'), ('last', 'JJ'), ('two', 'CD'), ('second', 'JJ'), ('and', 'CC'), ('no', 'DT'), ('i/o', 'NN'), ('activity', 'NN'), ('ha', 'NN'), ('occurred', 'VBD'), ('in', 'IN'), ('the', 'DT'), ('last', 'JJ'), ('15', 'CD'), ('second', 'JJ'), ('.', '.'), ('power', 'NN'), ('reduction', 'NN'), ('is', 'VBZ'), ('halted', 'VBN'), ('whenever', 'JJ'), ('activity', 'NN'), ('is', 'VBZ'), ('once', 'RB'), ('again', 'RB'), ('detected', 'JJ'), ('.', '.'), ('activity', 'NN'), ('is', 'VBZ'), ('defined', 'VBN'), ('here', 'RB'), ('and', 'CC'), ('in', 'IN'), ('later', 'RB'), ('context', 'VB'), ('a', 'DT'), ('any', 'DT'), ('user', 'JJ'), ('input', 'NN'), (',', ','), ('any', 'DT'), ('i/o', 'JJ'), ('device', 'NN'), ('read', 'VBD'), ('or', 'CC'), ('write', 'VB'), (',', ','), ('any', 'DT'), ('change', 'NN'), ('in', 'IN'), ('the', 'DT'), ('appearance', 'NN'), ('of', 'IN'), ('the', 'DT'), ('cursor', 'NN'), (',', ','), ('or', 'CC'), ('any', 'DT'), ('time', 'NN'), ('spent', 'VBN'), ('with', 'IN'), ('the', 'DT'), ('cursor', 'NN'), ('a', 'DT'), ('a', 'DT'), ('watch', 'NN'), ('.', '.'), ('the', 'DT'), ('reason', 'NN'), ('for', 'IN'), ('the', 'DT'), ('classification', 'NN'), ('of', 'IN'), ('these', 'DT'), ('latter', 'JJ'), ('two', 'CD'), ('a', 'DT'), ('activity', 'NN'), ('is', 'VBZ'), ('that', 'IN'), ('macos', 'JJ'), ('human', 'JJ'), ('interface', 'NN'), ('guideline', 'NN'), ('specify', 'NN'), ('that', 'IN'), ('a', 'DT'), ('process', 'NN'), ('that', 'WDT'), ('is', 'VBZ'), ('actively', 'RB'), ('computing', 'VBG'), ('must', 'MD'), ('indicate', 'VB'), ('this', 'DT'), ('to', 'TO'), ('the', 'DT'), ('user', 'NN'), ('by', 'IN'), ('having', 'VBG'), ('the', 'DT'), ('cursor', 'NN'), ('appear', 'VBP'), ('a', 'DT'), ('a', 'DT'), ('watch', 'NN'), ('or', 'CC'), ('by', 'IN'), ('frequently', 'RB'), ('changing', 'VBG'), ('the', 'DT'), ('appearance', 'NN'), ('of', 'IN'), ('the', 'DT'), ('cursor', 'NN'), (',', ','), ('e.g', 'NN'), ('.', '.'), ('the', 'DT'), ('basic', 'JJ'), ('strategy', 'NN'), ('is', 'VBZ'), ('to', 'TO'), ('turn', 'VB'), ('off', 'RP'), ('the', 'DT'), ('processor', 'NN'), ('whenever', 'WRB'), ('all', 'DT'), ('process', 'NN'), ('are', 'VBP'), ('blocked', 'VBN'), ('.', '.'), ('unfortunately', 'RB'), (',', ','), ('under', 'IN'), ('macos', 'NN'), (',', ','), ('this', 'DT'), ('is', 'VBZ'), ('not', 'RB'), ('often', 'RB'), ('the', 'DT'), ('case', 'NN'), (',', ','), ('since', 'IN'), ('macos', 'NN'), ('frequently', 'RB'), ('schedule', 'VBZ'), ('some', 'DT'), ('process', 'NN'), ('whether', 'IN'), ('or', 'CC'), ('not', 'RB'), ('the', 'DT'), ('event', 'NN'), ('for', 'IN'), ('which', 'WDT'), ('the', 'DT'), ('process', 'NN'), ('wa', 'NN'), ('waiting', 'VBG'), ('ha', 'NNS'), ('actually', 'RB'), ('occurred', 'VBD'), ('.', '.'), ('one', 'CD'), ('might', 'MD'), ('wonder', 'VB'), ('why', 'WRB'), ('macos', 'VB'), ('us', 'PRP'), ('this', 'DT'), ('inactivity', 'NN'), ('timer', 'NN'), ('based', 'VBN'), ('strategy', 'NN'), ('instead', 'RB'), ('of', 'IN'), ('the', 'DT'), ('basic', 'JJ'), ('strategy', 'NN'), ('.', '.'), ('one', 'CD'), ('reason', 'NN'), ('is', 'VBZ'), ('that', 'IN'), ('all', 'DT'), ('but', 'CC'), ('the', 'DT'), ('most', 'RBS'), ('recent', 'JJ'), ('macintosh', 'NN'), ('computer', 'NN'), ('have', 'VBP'), ('high', 'JJ'), ('overhead', 'NN'), ('associated', 'VBN'), ('with', 'IN'), ('turning', 'VBG'), ('off', 'RP'), ('and', 'CC'), ('on', 'IN'), ('the', 'DT'), ('processor', 'NN'), (',', ','), ('making', 'VBG'), ('the', 'DT'), ('basic', 'JJ'), ('strategy', 'NN'), ('le', 'RBR'), ('applicable', 'JJ'), ('.', '.'), ('in', 'IN'), ('old', 'JJ'), ('processor', 'NN'), (',', ','), ('for', 'IN'), ('example', 'NN'), (',', ','), ('the', 'DT'), ('content', 'NN'), ('of', 'IN'), ('on-chip', 'JJ'), ('cache', 'NN'), ('were', 'VBD'), ('lost', 'VBN'), ('when', 'WRB'), ('the', 'DT'), ('processor', 'NN'), ('wa', 'NN'), ('powered', 'VBD'), ('down', 'RB'), ('.', '.'), ('another', 'DT'), ('reason', 'NN'), ('is', 'VBZ'), ('that', 'IN'), (',', ','), ('a', 'DT'), ('we', 'PRP'), ('have', 'VBP'), ('described', 'VBN'), ('before', 'IN'), ('and', 'CC'), ('will', 'MD'), ('see', 'VB'), ('later', 'RB'), (',', ','), ('the', 'DT'), ('effectiveness', 'NN'), ('of', 'IN'), ('the', 'DT'), ('basic', 'JJ'), ('strategy', 'NN'), ('is', 'VBZ'), ('not', 'RB'), ('very', 'RB'), ('different', 'JJ'), ('from', 'IN'), ('that', 'DT'), ('of', 'IN'), ('the', 'DT'), ('inactivity', 'NN'), ('timer', 'NN'), ('based', 'VBN'), ('strategy', 'NN'), (',', ','), ('given', 'VBN'), ('the', 'DT'), ('current', 'JJ'), ('macos', 'NN'), ('method', 'NN'), ('of', 'IN'), ('process', 'NN'), ('time', 'NN'), ('management', 'NN'), ('.', '.'), ('the', 'DT'), ('greediness', 'NN'), ('technique', 'NN'), ('is', 'VBZ'), (',', ','), ('in', 'IN'), ('overview', 'NN'), (',', ','), ('to', 'TO'), ('identify', 'VB'), ('and', 'CC'), ('block', 'VB'), ('process', 'NN'), ('that', 'WDT'), ('are', 'VBP'), ('not', 'RB'), ('doing', 'VBG'), ('useful', 'JJ'), ('work', 'NN'), ('.', '.'), ('first', 'RB'), (',', ','), ('we', 'PRP'), ('will', 'MD'), ('describe', 'VB'), ('the', 'DT'), ('technique', 'NN'), ('in', 'IN'), ('general', 'JJ'), ('term', 'NN'), (',', ','), ('and', 'CC'), ('then', 'RB'), ('we', 'PRP'), ('will', 'MD'), ('indicate', 'VB'), ('the', 'DT'), ('detail', 'NN'), ('of', 'IN'), ('it', 'PRP'), ('implementation', 'NN'), ('for', 'IN'), ('the', 'DT'), ('macos', 'NN'), ('.', '.'), ('the', 'DT'), ('technique', 'NN'), ('is', 'VBZ'), ('based', 'VBN'), ('on', 'IN'), ('the', 'DT'), ('following', 'JJ'), ('model', 'NN'), ('of', 'IN'), ('the', 'DT'), ('appropriate', 'JJ'), ('way', 'NN'), ('a', 'DT'), ('process', 'NN'), ('should', 'MD'), ('operate', 'VB'), ('in', 'IN'), ('an', 'DT'), ('event-driven', 'JJ'), ('environment', 'NN'), ('.', '.'), ('a', 'DT'), ('process', 'NN'), (',', ','), ('upon', 'IN'), ('receiving', 'VBG'), ('an', 'DT'), ('event', 'NN'), (',', ','), ('should', 'MD'), ('process', 'VB'), ('that', 'DT'), ('event', 'NN'), (',', ','), ('blocking', 'VBG'), ('when', 'WRB'), ('and', 'CC'), ('only', 'RB'), ('when', 'WRB'), ('it', 'PRP'), ('ha', 'VBD'), ('finished', 'VBN'), ('that', 'IN'), ('processing', 'VBG'), ('.', '.'), ('once', 'RB'), ('blocked', 'VBN'), (',', ','), ('it', 'PRP'), ('should', 'MD'), ('be', 'VB'), ('scheduled', 'VBN'), ('again', 'RB'), ('when', 'WRB'), ('and', 'CC'), ('only', 'RB'), ('when', 'WRB'), ('another', 'DT'), ('event', 'NN'), ('is', 'VBZ'), ('ready', 'JJ'), ('to', 'TO'), ('be', 'VB'), ('processed', 'VBN'), (';', ':'), ('an', 'DT'), ('exception', 'NN'), ('is', 'VBZ'), ('that', 'IN'), ('the', 'DT'), ('process', 'NN'), ('may', 'MD'), ('want', 'VB'), ('to', 'TO'), ('be', 'VB'), ('scheduled', 'VBN'), ('periodically', 'RB'), ('to', 'TO'), ('perform', 'VB'), ('periodic', 'JJ'), ('task', 'NN'), (',', ','), ('such', 'PDT'), ('a', 'DT'), ('blinking', 'VBG'), ('the', 'DT'), ('cursor', 'NN'), ('or', 'CC'), ('checking', 'VBG'), ('whether', 'IN'), ('it', 'PRP'), ('is', 'VBZ'), ('time', 'NN'), ('to', 'TO'), ('do', 'VB'), ('backup', 'RB'), ('.', '.'), ('we', 'PRP'), ('say', 'VBP'), ('that', 'IN'), ('a', 'DT'), ('process', 'NN'), ('is', 'VBZ'), ('acting', 'VBG'), ('greedily', 'RB'), ('when', 'WRB'), ('it', 'PRP'), ('fails', 'VBZ'), ('to', 'TO'), ('block', 'VB'), ('even', 'RB'), ('after', 'IN'), ('it', 'PRP'), ('ha', 'VBD'), ('finished', 'VBN'), ('processing', 'VBG'), ('an', 'DT'), ('event', 'NN'), ('.', '.'), ('this', 'DT'), ('can', 'MD'), ('occur', 'VB'), ('when', 'WRB'), ('a', 'DT'), ('process', 'NN'), ('busy', 'JJ'), ('wait', 'NN'), ('in', 'IN'), ('some', 'DT'), ('manner', 'NN'), (',', ','), ('e.g', 'NN'), ('.', '.'), ('when', 'WRB'), ('we', 'PRP'), ('determine', 'VBP'), ('a', 'DT'), ('process', 'NN'), ('is', 'VBZ'), ('acting', 'VBG'), ('greedily', 'RB'), (',', ','), ('we', 'PRP'), ('will', 'MD'), ('forcibly', 'RB'), ('block', 'VB'), ('that', 'DT'), ('process', 'NN'), ('for', 'IN'), ('a', 'DT'), ('set', 'JJ'), ('period', 'NN'), ('of', 'IN'), ('time', 'NN'), ('.', '.'), ('macos', 'VB'), ('us', 'PRP'), ('cooperative', 'JJ'), ('multitasking', 'NN'), (',', ','), ('meaning', 'VBG'), ('that', 'DT'), ('once', 'RB'), ('a', 'DT'), ('process', 'NN'), ('get', 'NN'), ('control', 'NN'), ('of', 'IN'), ('the', 'DT'), ('processor', 'NN'), (',', ','), ('it', 'PRP'), ('retains', 'VBZ'), ('that', 'IN'), ('control', 'NN'), ('until', 'IN'), ('it', 'PRP'), ('chooses', 'VBZ'), ('to', 'TO'), ('yield', 'VB'), ('control', 'NN'), ('.', '.'), ('for', 'IN'), ('this', 'DT'), ('reason', 'NN'), (',', ','), ('application', 'NN'), ('writer', 'NN'), ('are', 'VBP'), ('strongly', 'RB'), ('encouraged', 'VBN'), ('to', 'TO'), ('have', 'VB'), ('their', 'PRP$'), ('process', 'JJ'), ('yield', 'NN'), ('control', 'NN'), ('periodically', 'RB'), (',', ','), ('even', 'RB'), ('when', 'WRB'), ('they', 'PRP'), ('still', 'RB'), ('have', 'VBP'), ('work', 'NN'), ('to', 'TO'), ('do', 'VB'), ('.', '.'), ('process', 'VB'), ('indicate', 'VBP'), ('that', 'IN'), ('they', 'PRP'), ('still', 'RB'), ('have', 'VBP'), ('work', 'NN'), ('to', 'TO'), ('do', 'VB'), ('by', 'IN'), ('specifying', 'VBG'), ('a', 'DT'), ('sleep', 'JJ'), ('period', 'NN'), ('of', 'IN'), ('zero', 'NN'), (',', ','), ('thereby', 'RB'), ('failing', 'VBG'), ('to', 'TO'), ('block', 'VB'), ('.', '.'), ('we', 'PRP'), ('call', 'VBP'), ('the', 'DT'), ('period', 'NN'), ('of', 'IN'), ('time', 'NN'), ('between', 'IN'), ('when', 'WRB'), ('a', 'DT'), ('process', 'NN'), ('gain', 'NN'), ('control', 'NN'), ('of', 'IN'), ('the', 'DT'), ('processor', 'NN'), ('and', 'CC'), ('when', 'WRB'), ('it', 'PRP'), ('yield', 'VBD'), ('control', 'VB'), ('a', 'DT'), ('quantum', 'NN'), ('.', '.'), ('part', 'NN'), ('of', 'IN'), ('our', 'PRP$'), ('technique', 'NN'), ('is', 'VBZ'), ('a', 'DT'), ('heuristic', 'JJ'), ('to', 'TO'), ('determine', 'VB'), ('when', 'WRB'), ('a', 'DT'), ('process', 'NN'), ('is', 'VBZ'), ('acting', 'VBG'), ('greedily', 'RB'), ('.', '.'), ('we', 'PRP'), ('say', 'VBP'), ('that', 'IN'), ('a', 'DT'), ('process', 'NN'), ('is', 'VBZ'), ('acting', 'VBG'), ('greedily', 'RB'), ('when', 'WRB'), ('it', 'PRP'), ('specifies', 'VBZ'), ('a', 'DT'), ('sleep', 'JJ'), ('period', 'NN'), ('of', 'IN'), ('zero', 'CD'), ('even', 'RB'), ('though', 'IN'), ('it', 'PRP'), ('seems', 'VBZ'), ('not', 'RB'), ('to', 'TO'), ('be', 'VB'), ('actively', 'RB'), ('computing', 'VBG'), ('.', '.'), ('we', 'PRP'), ('consider', 'VBP'), ('a', 'DT'), ('process', 'NN'), ('to', 'TO'), ('start', 'VB'), ('actively', 'RB'), ('computing', 'VBG'), ('when', 'WRB'), ('it', 'PRP'), ('receives', 'VBZ'), ('an', 'DT'), ('event', 'NN'), ('or', 'CC'), ('show', 'VB'), ('some', 'DT'), ('sign', 'NN'), ('of', 'IN'), ('``', '``'), ('activity', 'NN'), (',', ','), (\"''\", \"''\"), ('a', 'DT'), ('defined', 'VBN'), ('below', 'IN'), ('.', '.'), ('we', 'PRP'), ('estimate', 'VBP'), ('that', 'IN'), ('a', 'DT'), ('process', 'NN'), ('is', 'VBZ'), ('no', 'RB'), ('longer', 'RBR'), ('actively', 'RB'), ('computing', 'VBG'), ('if', 'IN'), ('it', 'PRP'), ('explicitly', 'RB'), ('block', 'VBZ'), (',', ','), ('or', 'CC'), ('if', 'IN'), ('it', 'PRP'), ('yield', 'VBZ'), ('control', 'VB'), ('several', 'JJ'), ('time', 'NN'), ('in', 'IN'), ('a', 'DT'), ('row', 'NN'), ('without', 'IN'), ('receiving', 'VBG'), ('an', 'DT'), ('event', 'NN'), ('or', 'CC'), ('showing', 'VBG'), ('sign', 'NN'), ('of', 'IN'), ('activity', 'NN'), ('.', '.'), ('the', 'DT'), ('exact', 'JJ'), ('number', 'NN'), ('of', 'IN'), ('control-yieldtimes', 'NNS'), (',', ','), ('which', 'WDT'), ('we', 'PRP'), ('call', 'VBP'), ('the', 'DT'), ('greediness', 'NN'), ('threshold', 'NN'), (',', ','), ('is', 'VBZ'), ('a', 'DT'), ('parameter', 'NN'), ('of', 'IN'), ('the', 'DT'), ('technique', 'NN'), (';', ':'), ('we', 'PRP'), ('expect', 'VBP'), ('it', 'PRP'), ('to', 'TO'), ('be', 'VB'), ('set', 'VBN'), ('so', 'RB'), ('a', 'DT'), ('to', 'TO'), ('maximize', 'VB'), ('energy', 'NN'), ('saving', 'NN'), (',', ','), ('given', 'VBN'), ('a', 'DT'), ('desired', 'JJ'), ('level', 'NN'), ('of', 'IN'), ('performance', 'NN'), ('.', '.'), ('we', 'PRP'), ('say', 'VBP'), ('that', 'IN'), ('a', 'DT'), ('process', 'NN'), ('show', 'NN'), ('no', 'DT'), ('sign', 'NN'), ('of', 'IN'), ('activity', 'NN'), ('if', 'IN'), ('it', 'PRP'), ('performs', 'VBZ'), ('no', 'DT'), ('i/o', 'JJ'), ('device', 'NN'), ('read', 'VBD'), ('or', 'CC'), ('write', 'VB'), (',', ','), ('doe', 'FW'), ('not', 'RB'), ('have', 'VB'), ('the', 'DT'), ('sound', 'NN'), ('chip', 'NN'), ('on', 'IN'), (',', ','), ('doe', 'NN'), ('not', 'RB'), ('change', 'VB'), ('the', 'DT'), ('appearance', 'NN'), ('of', 'IN'), ('the', 'DT'), ('cursor', 'NN'), (',', ','), ('and', 'CC'), ('doe', 'NN'), ('not', 'RB'), ('have', 'VB'), ('the', 'DT'), ('cursor', 'NN'), ('appear', 'VBP'), ('a', 'DT'), ('a', 'DT'), ('watch', 'NN'), ('.', '.'), ('the', 'DT'), ('absence', 'NN'), ('of', 'IN'), ('activity', 'NN'), ('a', 'DT'), ('we', 'PRP'), ('have', 'VBP'), ('so', 'RB'), ('defined', 'VBN'), ('it', 'PRP'), ('implies', 'VBZ'), ('that', 'IN'), ('either', 'CC'), ('the', 'DT'), ('cpu', 'NN'), ('is', 'VBZ'), ('idle', 'JJ'), (',', ','), ('the', 'DT'), ('process', 'NN'), ('running', 'VBG'), ('is', 'VBZ'), ('busy', 'JJ'), ('waiting', 'VBG'), ('in', 'IN'), ('some', 'DT'), ('manner', 'NN'), (',', ','), ('or', 'CC'), ('the', 'DT'), ('process', 'NN'), ('running', 'NN'), ('is', 'VBZ'), ('violating', 'VBG'), ('the', 'DT'), ('macos', 'NN'), ('human', 'JJ'), ('interface', 'NN'), ('guideline', 'NN'), ('that', 'IN'), ('we', 'PRP'), ('mentioned', 'VBD'), ('earlier', 'RBR'), ('.', '.'), ('the', 'DT'), ('greediness', 'NN'), ('technique', 'NN'), ('work', 'NN'), ('a', 'DT'), ('follows', 'VBZ'), ('.', '.'), ('when', 'WRB'), ('the', 'DT'), ('o', 'NN'), ('determines', 'VBZ'), ('that', 'IN'), ('a', 'DT'), ('process', 'NN'), ('is', 'VBZ'), ('acting', 'VBG'), ('greedily', 'RB'), ('a', 'DT'), ('defined', 'VBN'), ('above', 'IN'), (',', ','), ('the', 'DT'), ('simple', 'JJ'), ('scheduling', 'NN'), ('technique', 'NN'), ('is', 'VBZ'), ('to', 'TO'), ('not', 'RB'), ('schedule', 'VB'), ('a', 'DT'), ('process', 'NN'), ('until', 'IN'), ('the', 'DT'), ('condition', 'NN'), ('under', 'IN'), ('which', 'WDT'), ('it', 'PRP'), ('ha', 'VBZ'), ('indicated', 'VBD'), ('it', 'PRP'), ('will', 'MD'), ('be', 'VB'), ('ready', 'JJ'), ('to', 'TO'), ('run', 'VB'), ('ha', 'RB'), ('been', 'VBN'), ('met', 'VBN'), ('.', '.'), ('in', 'IN'), ('macos', 'NN'), (',', ','), ('this', 'DT'), ('condition', 'NN'), ('is', 'VBZ'), ('always', 'RB'), ('explicitly', 'RB'), ('indicated', 'VBN'), ('by', 'IN'), ('the', 'DT'), ('process', 'NN'), (',', ','), ('and', 'CC'), ('is', 'VBZ'), ('always', 'RB'), ('of', 'IN'), ('the', 'DT'), ('form', 'NN'), (',', ','), ('``', '``'), ('any', 'DT'), ('of', 'IN'), ('the', 'DT'), ('event', 'NN'), ('type', 'NN'), ('e1', 'NN'), (';', ':'), ('e2', 'CC'), (';', ':'), (':', ':'), (':', ':'), (':', ':'), ('ha', 'NN'), ('occurred', 'VBD'), (',', ','), ('or', 'CC'), ('a', 'DT'), ('period', 'NN'), ('of', 'IN'), ('time', 'NN'), ('t', 'JJ'), ('ha', 'NN'), ('passed', 'VBD'), ('since', 'IN'), ('the', 'DT'), ('process', 'NN'), ('last', 'JJ'), ('yielded', 'VBD'), ('control', 'NN'), ('of', 'IN'), ('the', 'DT'), ('processor', 'NN'), ('.', '.'), (\"''\", \"''\"), ('the', 'DT'), ('period', 'NN'), ('of', 'IN'), ('time', 'NN'), ('for', 'IN'), ('which', 'WDT'), ('the', 'DT'), ('process', 'NN'), ('is', 'VBZ'), ('willing', 'JJ'), ('to', 'TO'), ('wait', 'VB'), ('in', 'IN'), ('the', 'DT'), ('absence', 'NN'), ('of', 'IN'), ('event', 'NN'), ('before', 'IN'), ('being', 'VBG'), ('scheduled', 'VBN'), ('is', 'VBZ'), ('referred', 'VBN'), ('to', 'TO'), ('a', 'DT'), ('the', 'DT'), ('sleep', 'JJ'), ('period', 'NN'), ('.', '.'), ('note', 'NN'), ('that', 'IN'), (',', ','), ('in', 'IN'), ('some', 'DT'), ('other', 'JJ'), ('operating', 'NN'), ('system', 'NN'), (',', ','), ('such', 'PDT'), ('a', 'DT'), ('unix', 'NN'), ('or', 'CC'), ('microsoft', 'NN'), ('window', 'NN'), (',', ','), ('the', 'DT'), ('simple', 'JJ'), ('scheduling', 'NN'), ('technique', 'NN'), ('is', 'VBZ'), ('not', 'RB'), ('needed', 'VBN'), (',', ','), ('since', 'IN'), ('it', 'PRP'), ('is', 'VBZ'), ('the', 'DT'), ('default', 'NN'), ('behavior', 'NN'), ('of', 'IN'), ('the', 'DT'), ('operating', 'NN'), ('system', 'NN'), ('.', '.'), ('using', 'VBG'), ('only', 'RB'), ('the', 'DT'), ('simple', 'JJ'), ('scheduling', 'NN'), ('technique', 'NN'), ('described', 'VBN'), ('above', 'IN'), ('mean', 'NN'), ('that', 'IN'), ('a', 'DT'), ('process', 'NN'), ('is', 'VBZ'), ('given', 'VBN'), ('control', 'NN'), ('of', 'IN'), ('the', 'DT'), ('processor', 'NN'), ('whenever', 'WRB'), ('it', 'PRP'), ('want', 'VB'), ('it', 'PRP'), ('.', '.'), ('for', 'IN'), ('example', 'NN'), (',', ','), ('if', 'IN'), ('it', 'PRP'), ('asks', 'VBZ'), ('to', 'TO'), ('be', 'VB'), ('unblocked', 'JJ'), ('every', 'DT'), ('1', 'CD'), ('second', 'NN'), (',', ','), ('it', 'PRP'), ('is', 'VBZ'), ('unblocked', 'JJ'), ('every', 'DT'), ('1', 'CD'), ('second', 'NN'), (',', ','), ('even', 'RB'), ('if', 'IN'), ('all', 'DT'), ('it', 'PRP'), ('want', 'VBP'), ('to', 'TO'), ('do', 'VB'), ('is', 'VBZ'), ('blink', 'VB'), ('the', 'DT'), ('cursor', 'NN'), (',', ','), ('a', 'DT'), ('common', 'JJ'), ('occurrence', 'NN'), ('.', '.'), ('since', 'IN'), ('macos', 'NN'), ('is', 'VBZ'), ('not', 'RB'), ('a', 'DT'), ('real', 'JJ'), ('time', 'NN'), ('system', 'NN'), (',', ','), ('a', 'DT'), ('real', 'JJ'), ('time', 'NN'), ('sleep', 'JJ'), ('period', 'NN'), ('doe', 'NN'), ('not', 'RB'), ('actually', 'RB'), ('have', 'VB'), ('to', 'TO'), ('be', 'VB'), ('honored', 'VBN'), ('.', '.'), ('in', 'IN'), ('fact', 'NN'), (',', ','), ('in', 'IN'), ('the', 'DT'), ('current', 'JJ'), ('macos', 'NN'), ('power', 'NN'), ('management', 'NN'), ('strategy', 'NN'), (',', ','), ('with', 'IN'), ('power', 'NN'), ('management', 'NN'), ('enabled', 'VBD'), (',', ','), ('the', 'DT'), ('cursor', 'NN'), ('may', 'MD'), ('blink', 'VB'), ('much', 'RB'), ('more', 'RBR'), ('slowly', 'RB'), ('than', 'IN'), ('it', 'PRP'), ('would', 'MD'), ('without', 'IN'), ('power', 'NN'), ('management', 'NN'), ('.', '.'), ('if', 'IN'), ('this', 'DT'), ('kind', 'NN'), ('of', 'IN'), ('behavior', 'NN'), ('is', 'VBZ'), ('acceptable', 'JJ'), (',', ','), ('it', 'PRP'), ('is', 'VBZ'), ('possible', 'JJ'), ('to', 'TO'), ('increase', 'VB'), ('the', 'DT'), ('effectiveness', 'NN'), ('of', 'IN'), ('the', 'DT'), ('simple', 'JJ'), ('scheduling', 'NN'), ('technique', 'NN'), ('by', 'IN'), ('using', 'VBG'), ('what', 'WP'), ('we', 'PRP'), ('call', 'VBP'), ('the', 'DT'), ('sleep', 'JJ'), ('extension', 'NN'), ('technique', 'NN'), ('.', '.'), ('this', 'DT'), ('technique', 'NN'), ('specifies', 'VBZ'), ('a', 'DT'), ('sleep', 'JJ'), ('multiplier', 'NN'), (',', ','), ('a', 'DT'), ('number', 'NN'), ('great', 'JJ'), ('than', 'IN'), ('one', 'CD'), ('by', 'IN'), ('which', 'WDT'), ('all', 'DT'), ('sleep', 'VBP'), ('period', 'NN'), ('are', 'VBP'), ('multiplied', 'VBN'), (',', ','), ('thus', 'RB'), ('eliminating', 'VBG'), ('some', 'DT'), ('fraction', 'NN'), ('of', 'IN'), ('the', 'DT'), ('process', 'NN'), ('run', 'NN'), ('interval', 'NN'), ('.', '.'), ('we', 'PRP'), ('envision', 'VBP'), ('that', 'IN'), ('the', 'DT'), ('sleep', 'JJ'), ('multiplier', 'NN'), ('can', 'MD'), ('be', 'VB'), ('set', 'VBN'), (',', ','), ('either', 'CC'), ('by', 'IN'), ('the', 'DT'), ('user', 'NN'), ('or', 'CC'), ('by', 'IN'), ('the', 'DT'), ('operating', 'NN'), ('system', 'NN'), (',', ','), ('so', 'RB'), ('a', 'DT'), ('to', 'TO'), ('maximize', 'VB'), ('energy', 'NN'), ('saving', 'NN'), (',', ','), ('given', 'VBN'), ('a', 'DT'), ('certain', 'JJ'), ('level', 'NN'), ('of', 'IN'), ('performance', 'NN'), ('desired', 'VBN'), ('.', '.'), ('the', 'DT'), ('forced', 'JJ'), ('sleep', 'JJ'), ('period', 'NN'), ('is', 'VBZ'), ('a', 'DT'), ('parameter', 'NN'), ('to', 'TO'), ('be', 'VB'), ('optimized', 'VBN'), (',', ','), ('with', 'IN'), ('the', 'DT'), ('following', 'VBG'), ('tradeoff', 'NN'), (':', ':'), ('a', 'DT'), ('short', 'JJ'), ('sleep', 'NN'), ('period', 'NN'), ('save', 'VBP'), ('insufficient', 'JJ'), ('power', 'NN'), (',', ','), ('while', 'IN'), ('a', 'DT'), ('long', 'JJ'), ('sleep', 'JJ'), ('period', 'NN'), ('may', 'MD'), (',', ','), ('in', 'IN'), ('the', 'DT'), ('case', 'NN'), ('that', 'IN'), ('our', 'PRP$'), ('heuristic', 'JJ'), ('fails', 'NNS'), (',', ','), ('block', 'VB'), ('a', 'DT'), ('process', 'NN'), ('that', 'WDT'), ('is', 'VBZ'), ('actually', 'RB'), ('doing', 'VBG'), ('something', 'NN'), ('useful', 'JJ'), ('.', '.'), ('evaluation', 'NN'), ('of', 'IN'), ('a', 'DT'), ('strategy', 'NN'), ('requires', 'VBZ'), ('measuring', 'VBG'), ('two', 'CD'), ('consequence', 'NN'), ('of', 'IN'), ('that', 'DT'), ('strategy', 'NN'), (':', ':'), ('processor', 'NN'), ('energy', 'NN'), ('saving', 'NN'), ('and', 'CC'), ('performance', 'NN'), ('impact', 'NN'), ('.', '.'), ('processor', 'NN'), ('energy', 'NN'), ('saving', 'NN'), ('is', 'VBZ'), ('easy', 'JJ'), ('to', 'TO'), ('deduce', 'VB'), ('from', 'IN'), ('a', 'DT'), ('simulation', 'NN'), (',', ','), ('since', 'IN'), ('it', 'PRP'), ('is', 'VBZ'), ('essentially', 'RB'), ('the', 'DT'), ('percent', 'NN'), ('decrease', 'NN'), ('in', 'IN'), ('the', 'DT'), ('time', 'NN'), ('the', 'DT'), ('processor', 'NN'), ('spends', 'VBZ'), ('in', 'IN'), ('the', 'DT'), ('high-power', 'NN'), ('state', 'NN'), ('.', '.'), ('in', 'IN'), ('contrast', 'NN'), (',', ','), ('performance', 'NN'), ('impact', 'NN'), (',', ','), ('by', 'IN'), ('which', 'WDT'), ('we', 'PRP'), ('mean', 'VBP'), ('the', 'DT'), ('percent', 'NN'), ('increase', 'NN'), ('in', 'IN'), ('workload', 'JJ'), ('runtime', 'NN'), ('a', 'DT'), ('a', 'DT'), ('result', 'NN'), ('of', 'IN'), ('using', 'VBG'), ('a', 'DT'), ('power-saving', 'JJ'), ('strategy', 'NN'), (',', ','), ('is', 'VBZ'), ('difficult', 'JJ'), ('to', 'TO'), ('measure', 'VB'), ('.', '.'), ('this', 'DT'), ('performance', 'NN'), ('penalty', 'NN'), ('stem', 'NN'), ('from', 'IN'), ('the', 'DT'), ('fact', 'NN'), ('that', 'IN'), ('a', 'DT'), ('power', 'NN'), ('saving', 'VBG'), ('strategy', 'NN'), ('will', 'MD'), ('sometimes', 'RB'), ('cause', 'VB'), ('the', 'DT'), ('processor', 'NN'), ('not', 'RB'), ('to', 'TO'), ('run', 'VB'), ('when', 'WRB'), ('it', 'PRP'), ('would', 'MD'), ('otherwise', 'RB'), ('be', 'VB'), ('performing', 'VBG'), ('useful', 'JJ'), ('work', 'NN'), ('.', '.'), ('such', 'JJ'), ('work', 'NN'), ('will', 'MD'), ('wind', 'VB'), ('up', 'RP'), ('having', 'VBG'), ('to', 'TO'), ('be', 'VB'), ('scheduled', 'VBN'), ('later', 'RB'), (',', ','), ('making', 'VBG'), ('the', 'DT'), ('workload', 'NNS'), ('take', 'VBP'), ('long', 'JJ'), ('to', 'TO'), ('complete', 'VB'), ('.', '.'), ('without', 'IN'), ('detailed', 'JJ'), ('knowledge', 'NN'), ('of', 'IN'), ('the', 'DT'), ('purpose', 'NN'), ('of', 'IN'), ('instruction', 'NN'), ('sequence', 'NN'), (',', ','), ('it', 'PRP'), ('is', 'VBZ'), ('difficult', 'JJ'), ('for', 'IN'), ('a', 'DT'), ('tracer', 'NN'), ('to', 'TO'), ('accurately', 'RB'), ('determine', 'VB'), ('what', 'WP'), ('work', 'NN'), ('is', 'VBZ'), ('useful', 'JJ'), ('and', 'CC'), ('what', 'WP'), ('is', 'VBZ'), ('not', 'RB'), (',', ','), ('so', 'IN'), ('our', 'PRP$'), ('measure', 'NN'), ('will', 'MD'), ('necessarily', 'RB'), ('be', 'VB'), ('inexact', 'JJ'), ('.', '.'), ('we', 'PRP'), ('have', 'VBP'), ('decided', 'VBN'), ('to', 'TO'), ('use', 'VB'), ('the', 'DT'), ('same', 'JJ'), ('heuristic', 'NN'), ('used', 'VBN'), ('in', 'IN'), ('the', 'DT'), ('greediness', 'NN'), ('technique', 'NN'), ('to', 'TO'), ('determine', 'VB'), ('when', 'WRB'), ('the', 'DT'), ('processor', 'NN'), ('is', 'VBZ'), ('doing', 'VBG'), ('useful', 'JJ'), ('work', 'NN'), ('.', '.'), ('in', 'IN'), ('other', 'JJ'), ('word', 'NN'), (',', ','), ('we', 'PRP'), ('will', 'MD'), ('call', 'VB'), ('a', 'DT'), ('quantum', 'NN'), ('useful', 'JJ'), ('if', 'IN'), (',', ','), ('during', 'IN'), ('that', 'DT'), ('quantum', 'NN'), (',', ','), ('there', 'EX'), ('is', 'VBZ'), ('any', 'DT'), ('i/o', 'JJ'), ('device', 'NN'), ('read', 'VBD'), ('or', 'CC'), ('write', 'VB'), (',', ','), ('the', 'DT'), ('sound', 'NN'), ('chip', 'NN'), ('is', 'VBZ'), ('on', 'IN'), (',', ','), ('there', 'EX'), ('is', 'VBZ'), ('any', 'DT'), ('change', 'NN'), ('to', 'TO'), ('the', 'DT'), ('cursor', 'NN'), (',', ','), ('or', 'CC'), ('the', 'DT'), ('cursor', 'NN'), ('appears', 'VBZ'), ('a', 'DT'), ('a', 'DT'), ('watch', 'NN'), ('.', '.'), ('it', 'PRP'), ('might', 'MD'), ('be', 'VB'), ('objected', 'VBN'), ('that', 'IN'), ('using', 'VBG'), ('the', 'DT'), ('same', 'JJ'), ('heuristic', 'NN'), ('in', 'IN'), ('the', 'DT'), ('evaluation', 'NN'), ('of', 'IN'), ('a', 'DT'), ('strategy', 'NN'), ('a', 'DT'), ('is', 'VBZ'), ('used', 'VBN'), ('by', 'IN'), ('that', 'DT'), ('strategy', 'NN'), ('is', 'VBZ'), ('invalid', 'JJ'), ('.', '.'), ('however', 'RB'), (',', ','), ('remember', 'VB'), ('that', 'IN'), ('a', 'DT'), ('strategy', 'NN'), ('doe', 'NN'), ('not', 'RB'), ('have', 'VB'), ('prior', 'JJ'), ('knowledge', 'NN'), ('of', 'IN'), ('when', 'WRB'), ('a', 'DT'), ('quantum', 'NN'), ('will', 'MD'), ('be', 'VB'), ('useful', 'JJ'), (',', ','), ('whereas', 'IN'), ('the', 'DT'), ('evaluation', 'NN'), ('system', 'NN'), ('doe', 'NN'), ('.', '.'), ('thus', 'RB'), (',', ','), ('we', 'PRP'), ('are', 'VBP'), ('evaluating', 'VBG'), ('the', 'DT'), ('accuracy', 'NN'), ('of', 'IN'), ('our', 'PRP$'), ('guess', 'NN'), ('that', 'IN'), ('a', 'DT'), ('quantum', 'NN'), ('will', 'MD'), ('be', 'VB'), ('useful', 'JJ'), ('or', 'CC'), ('useless', 'JJ'), ('.', '.'), ('we', 'PRP'), ('must', 'MD'), ('also', 'RB'), ('account', 'VB'), ('for', 'IN'), ('the', 'DT'), ('time', 'NN'), ('not', 'RB'), ('spent', 'JJ'), ('inside', 'IN'), ('application', 'NN'), ('code', 'NN'), ('in', 'IN'), ('the', 'DT'), ('original', 'JJ'), ('trace', 'NN'), ('.', '.'), ('we', 'PRP'), ('divide', 'VBP'), ('this', 'DT'), ('time', 'NN'), ('into', 'IN'), ('time', 'NN'), ('spent', 'VBN'), ('switching', 'VBG'), ('process', 'NN'), ('in', 'IN'), ('and', 'CC'), ('out', 'IN'), (',', ','), ('time', 'NN'), ('spent', 'VBN'), ('context', 'JJ'), ('switching', 'NN'), (',', ','), ('time', 'NN'), ('the', 'DT'), ('os', 'JJ'), ('spent', 'NN'), ('doing', 'VBG'), ('useful', 'JJ'), ('work', 'NN'), (',', ','), ('and', 'CC'), ('o', 'VB'), ('idle', 'JJ'), ('time', 'NN'), ('.', '.'), ('the', 'DT'), ('o', 'NN'), ('is', 'VBZ'), ('considered', 'VBN'), ('to', 'TO'), ('be', 'VB'), ('doing', 'VBG'), ('useful', 'JJ'), ('work', 'NN'), ('whenever', 'WRB'), ('it', 'PRP'), ('show', 'VBP'), ('sign', 'JJ'), ('of', 'IN'), ('activity', 'NN'), ('that', 'WDT'), ('would', 'MD'), ('cause', 'VB'), ('a', 'DT'), ('process', 'NN'), ('quantum', 'NN'), ('to', 'TO'), ('be', 'VB'), ('labeled', 'VBN'), ('useful', 'JJ'), ('.', '.'), ('such', 'JJ'), ('useful', 'JJ'), ('work', 'NN'), ('is', 'VBZ'), ('scheduled', 'VBN'), ('in', 'IN'), ('the', 'DT'), ('simulation', 'NN'), ('immediately', 'RB'), ('after', 'IN'), ('the', 'DT'), ('quantum', 'NN'), ('that', 'IN'), ('it', 'PRP'), ('originally', 'RB'), ('followed', 'VBD'), ('is', 'VBZ'), ('scheduled', 'VBN'), (',', ','), ('on', 'IN'), ('the', 'DT'), ('assumption', 'NN'), ('that', 'IN'), ('most', 'JJS'), ('significant', 'JJ'), ('os', 'JJ'), ('work', 'NN'), ('is', 'VBZ'), ('necessitated', 'VBN'), ('by', 'IN'), ('the', 'DT'), ('action', 'NN'), ('of', 'IN'), ('the', 'DT'), ('process', 'NN'), ('that', 'WDT'), ('just', 'RB'), ('ran', 'VBD'), ('.', '.'), ('idle', 'JJ'), ('time', 'NN'), ('is', 'VBZ'), ('identified', 'VBN'), ('whenever', 'WRB'), ('no', 'DT'), ('process', 'NN'), ('is', 'VBZ'), ('running', 'VBG'), ('and', 'CC'), ('the', 'DT'), ('operating', 'NN'), ('system', 'NN'), ('is', 'VBZ'), ('not', 'RB'), ('doing', 'VBG'), ('useful', 'JJ'), ('work', 'NN'), ('for', 'IN'), ('a', 'DT'), ('continuous', 'JJ'), ('period', 'NN'), ('over', 'IN'), ('16', 'CD'), ('ms.', 'NN'), ('we', 'PRP'), ('chose', 'VBD'), ('this', 'DT'), ('threshold', 'NN'), ('for', 'IN'), ('two', 'CD'), ('reason', 'NN'), ('.', '.'), ('first', 'RB'), (',', ','), ('it', 'PRP'), ('is', 'VBZ'), ('the', 'DT'), ('small', 'JJ'), ('time', 'NN'), ('unit', 'NN'), ('used', 'VBN'), ('for', 'IN'), ('process', 'NN'), ('scheduling', 'NN'), ('by', 'IN'), ('macos', 'NN'), (',', ','), ('so', 'IN'), ('we', 'PRP'), ('expect', 'VBP'), ('any', 'DT'), ('decision', 'NN'), ('to', 'TO'), ('idle', 'VB'), ('to', 'TO'), ('result', 'VB'), ('in', 'IN'), ('at', 'IN'), ('least', 'JJS'), ('this', 'DT'), ('much', 'JJ'), ('idleness', 'NN'), ('.', '.'), ('finally', 'RB'), (',', ','), ('context', 'JJ'), ('switch', 'NN'), ('time', 'NN'), ('is', 'VBZ'), ('assumed', 'VBN'), ('to', 'TO'), ('occur', 'VB'), ('any', 'DT'), ('time', 'NN'), ('a', 'DT'), ('process', 'NN'), ('switch', 'NN'), ('in', 'IN'), ('that', 'DT'), ('is', 'VBZ'), ('different', 'JJ'), ('from', 'IN'), ('the', 'DT'), ('one', 'NN'), ('that', 'WDT'), ('last', 'JJ'), ('switched', 'VBD'), ('out', 'RP'), (';', ':'), ('context', 'JJ'), ('switch', 'NN'), ('are', 'VBP'), ('considered', 'VBN'), ('to', 'TO'), ('take', 'VB'), ('0.681', 'CD'), ('m', 'NNS'), (',', ','), ('the', 'DT'), ('observed', 'JJ'), ('difference', 'NN'), ('between', 'IN'), ('the', 'DT'), ('average', 'JJ'), ('interprocess', 'JJ'), ('time', 'NN'), ('when', 'WRB'), ('no', 'DT'), ('context', 'NN'), ('switch', 'NN'), ('occurs', 'VBZ'), ('and', 'CC'), ('the', 'DT'), ('average', 'JJ'), ('interprocess', 'JJ'), ('time', 'NN'), ('when', 'WRB'), ('a', 'DT'), ('context', 'NN'), ('switch', 'NN'), ('occurs', 'VBZ'), ('.', '.'), ('there', 'EX'), ('are', 'VBP'), ('three', 'CD'), ('main', 'JJ'), ('tool', 'NN'), ('we', 'PRP'), ('used', 'VBD'), ('to', 'TO'), ('perform', 'VB'), ('our', 'PRP$'), ('simulation', 'NN'), ('.', '.'), ('the', 'DT'), ('first', 'JJ'), ('tool', 'NN'), (',', ','), ('idletracer', 'NN'), (',', ','), ('collect', 'JJ'), ('trace', 'NN'), ('of', 'IN'), ('event', 'NN'), ('needed', 'VBN'), ('to', 'TO'), ('simulate', 'VB'), ('the', 'DT'), ('different', 'JJ'), ('strategy', 'NN'), (',', ','), ('and', 'CC'), ('is', 'VBZ'), ('discussed', 'VBN'), ('in', 'IN'), ('more', 'JJR'), ('detail', 'NN'), ('in', 'IN'), ('.', '.'), ('specifically', 'RB'), (',', ','), ('it', 'PRP'), ('record', 'VBZ'), ('the', 'DT'), ('time', 'NN'), ('of', 'IN'), ('occurrence', 'NN'), ('and', 'CC'), ('other', 'JJ'), ('detail', 'NN'), ('about', 'IN'), ('the', 'DT'), ('following', 'JJ'), ('event', 'NN'), (':', ':'), ('tracing', 'NN'), ('begin', 'NN'), ('or', 'CC'), ('end', 'NN'), (',', ','), ('the', 'DT'), ('machine', 'NN'), ('go', 'VBP'), ('to', 'TO'), ('or', 'CC'), ('wake', 'VB'), ('from', 'IN'), ('sleep', 'NN'), (',', ','), ('a', 'DT'), ('process', 'NN'), ('begin', 'NN'), ('or', 'CC'), ('end', 'NN'), (',', ','), ('the', 'DT'), ('sound', 'NN'), ('chip', 'NN'), ('is', 'VBZ'), ('turned', 'VBN'), ('on', 'IN'), ('or', 'CC'), ('off', 'IN'), (',', ','), ('the', 'DT'), ('cursor', 'NN'), ('change', 'NN'), (',', ','), ('the', 'DT'), ('mouse', 'NN'), ('start', 'NN'), ('or', 'CC'), ('stop', 'VB'), ('moving', 'NN'), (',', ','), ('an', 'DT'), ('i/o', 'JJ'), ('device', 'NN'), ('is', 'VBZ'), ('read', 'JJ'), ('or', 'CC'), ('written', 'VBN'), (',', ','), ('a', 'DT'), ('process', 'NN'), ('obtains', 'VBZ'), ('or', 'CC'), ('yield', 'VB'), ('control', 'NN'), ('of', 'IN'), ('the', 'DT'), ('processor', 'NN'), (',', ','), ('or', 'CC'), ('an', 'DT'), ('event', 'NN'), ('is', 'VBZ'), ('placed', 'VBN'), ('on', 'IN'), ('the', 'DT'), ('event', 'NN'), ('queue', 'NN'), ('.', '.'), ('idletracer', 'NN'), ('only', 'RB'), ('collect', 'JJ'), ('data', 'NNS'), ('while', 'IN'), ('the', 'DT'), ('machine', 'NN'), ('it', 'PRP'), ('is', 'VBZ'), ('tracing', 'VBG'), ('is', 'VBZ'), ('running', 'VBG'), ('on', 'IN'), ('battery', 'NN'), ('power', 'NN'), (',', ','), ('since', 'IN'), ('that', 'DT'), ('is', 'VBZ'), ('when', 'WRB'), ('processor', 'NN'), ('energy', 'NN'), ('saving', 'NN'), ('is', 'VBZ'), ('most', 'RBS'), ('important', 'JJ'), (',', ','), ('and', 'CC'), ('we', 'PRP'), ('want', 'VBP'), ('our', 'PRP$'), ('analysis', 'NN'), ('to', 'TO'), ('reflect', 'VB'), ('the', 'DT'), ('appropriate', 'JJ'), ('workload', 'NN'), ('.', '.'), ('also', 'RB'), (',', ','), ('idletracer', 'NN'), ('shuts', 'NNS'), ('off', 'RP'), ('processor', 'NN'), ('power', 'NN'), ('management', 'NN'), ('while', 'IN'), ('it', 'PRP'), ('is', 'VBZ'), ('tracing', 'VBG'), (',', ','), ('so', 'IN'), ('that', 'IN'), ('the', 'DT'), ('trace', 'NN'), ('it', 'PRP'), ('us', 'PRP'), ('are', 'VBP'), ('not', 'RB'), ('confounded', 'VBN'), ('by', 'IN'), ('the', 'DT'), ('current', 'JJ'), ('strategy', 'NN'), ('and', 'CC'), ('thus', 'RB'), ('can', 'MD'), ('be', 'VB'), ('used', 'VBN'), ('to', 'TO'), ('simulate', 'VB'), ('any', 'DT'), ('strategy', 'NN'), ('.', '.'), ('idletracer', 'NNS'), ('make', 'VBP'), ('use', 'NN'), ('of', 'IN'), ('the', 'DT'), ('setc', 'NN'), ('module', 'NN'), (',', ','), ('a', 'DT'), ('set', 'NN'), ('of', 'IN'), ('routine', 'NN'), ('for', 'IN'), ('tracing', 'VBG'), ('and', 'CC'), ('counting', 'VBG'), ('system', 'NN'), ('event', 'NN'), ('.', '.'), ('the', 'DT'), ('second', 'JJ'), ('tool', 'NN'), (',', ','), ('itmsim', 'NN'), (',', ','), ('simulates', 'VBZ'), ('power', 'NN'), ('management', 'NN'), ('method', 'NN'), ('using', 'VBG'), ('the', 'DT'), ('current', 'JJ'), ('macos', 'NN'), ('inactivity-threshold', 'JJ'), ('strategy', 'NN'), (',', ','), ('and', 'CC'), ('provides', 'VBZ'), ('a', 'DT'), ('basis', 'NN'), ('for', 'IN'), ('comparison', 'NN'), ('.', '.'), ('in', 'IN'), ('other', 'JJ'), ('word', 'NN'), (',', ','), ('it', 'PRP'), ('simulates', 'VBZ'), ('the', 'DT'), ('strategy', 'NN'), ('that', 'WDT'), ('turn', 'VBP'), ('off', 'RP'), ('the', 'DT'), ('processor', 'NN'), ('when', 'WRB'), ('there', 'EX'), ('ha', 'RB'), ('been', 'VBN'), ('no', 'DT'), ('activity', 'NN'), ('in', 'IN'), ('the', 'DT'), ('last', 'JJ'), ('two', 'CD'), ('second', 'JJ'), ('and', 'CC'), ('no', 'DT'), ('i/o', 'NN'), ('activity', 'NN'), ('in', 'IN'), ('the', 'DT'), ('last', 'JJ'), ('fifteen', 'JJ'), ('second', 'NN'), ('.', '.'), ('in', 'IN'), ('actuality', 'NN'), (',', ','), ('during', 'IN'), ('period', 'NN'), ('that', 'IN'), ('the', 'DT'), ('processor', 'NN'), ('is', 'VBZ'), ('supposed', 'VBN'), ('to', 'TO'), ('be', 'VB'), ('off', 'RP'), (',', ','), ('macos', 'NNS'), ('will', 'MD'), ('occasionally', 'RB'), ('turn', 'VB'), ('the', 'DT'), ('processor', 'NN'), ('on', 'IN'), ('for', 'IN'), ('long', 'RB'), ('enough', 'RB'), ('to', 'TO'), ('schedule', 'VB'), ('a', 'DT'), ('process', 'NN'), ('quantum', 'NN'), ('.', '.'), ('this', 'DT'), ('is', 'VBZ'), ('done', 'VBN'), ('to', 'TO'), ('give', 'VB'), ('process', 'NN'), ('a', 'DT'), ('chance', 'NN'), ('to', 'TO'), ('demonstrate', 'VB'), ('some', 'DT'), ('activity', 'NN'), ('and', 'CC'), ('put', 'VBD'), ('an', 'DT'), ('end', 'NN'), ('to', 'TO'), ('processor', 'VB'), ('power', 'NN'), ('management', 'NN'), (',', ','), ('in', 'IN'), ('case', 'NN'), ('the', 'DT'), ('processor', 'NN'), ('wa', 'NN'), ('shut', 'VBD'), ('off', 'RP'), ('too', 'RB'), ('soon', 'RB'), ('.', '.'), ('the', 'DT'), ('detail', 'NN'), ('of', 'IN'), ('how', 'WRB'), ('process', 'JJ'), ('quantum', 'NN'), ('are', 'VBP'), ('scheduled', 'VBN'), ('while', 'IN'), ('the', 'DT'), ('processor', 'NN'), ('is', 'VBZ'), ('supposed', 'VBN'), ('to', 'TO'), ('be', 'VB'), ('off', 'RP'), ('is', 'VBZ'), ('proprietary', 'JJ'), ('and', 'CC'), ('thus', 'RB'), ('is', 'VBZ'), ('not', 'RB'), ('described', 'VBN'), ('here', 'RB'), (';', ':'), ('however', 'RB'), (',', ','), ('itmsim', 'JJ'), ('doe', 'NN'), ('attempt', 'NN'), ('to', 'TO'), ('simulate', 'VB'), ('this', 'DT'), ('aspect', 'NN'), ('of', 'IN'), ('the', 'DT'), ('strategy', 'NN'), ('.', '.'), ('to', 'TO'), ('give', 'VB'), ('an', 'DT'), ('idea', 'NN'), ('of', 'IN'), ('the', 'DT'), ('consequence', 'NN'), ('of', 'IN'), ('this', 'DT'), ('proprietary', 'JJ'), ('modification', 'NN'), (',', ','), ('our', 'PRP$'), ('simulation', 'NN'), ('showed', 'VBD'), ('that', 'IN'), ('for', 'IN'), ('the', 'DT'), ('aggregate', 'JJ'), ('workload', 'NN'), ('we', 'PRP'), ('studied', 'VBD'), (',', ','), ('it', 'PRP'), ('decreased', 'VBD'), ('the', 'DT'), ('performance', 'NN'), ('impact', 'NN'), ('measure', 'NN'), ('from', 'IN'), ('1.93', 'CD'), ('%', 'NN'), ('to', 'TO'), ('1.84', 'CD'), ('%', 'NN'), (',', ','), ('at', 'IN'), ('the', 'DT'), ('expense', 'NN'), ('of', 'IN'), ('decreasing', 'VBG'), ('processor', 'NN'), ('off', 'IN'), ('time', 'NN'), ('from', 'IN'), ('29.77', 'CD'), ('%', 'NN'), ('to', 'TO'), ('28.79', 'CD'), ('%', 'NN'), ('.', '.'), ('this', 'DT'), ('particular', 'JJ'), ('proprietary', 'JJ'), ('modification', 'NN'), (',', ','), ('therefore', 'RB'), (',', ','), ('ha', 'VBZ'), ('only', 'RB'), ('a', 'DT'), ('trivial', 'JJ'), ('effect', 'NN'), ('on', 'IN'), ('the', 'DT'), ('power', 'NN'), ('saving', 'NN'), ('.', '.'), ('table', 'JJ'), ('1', 'CD'), (':', ':'), ('information', 'NN'), ('about', 'IN'), ('the', 'DT'), ('six', 'CD'), ('user', 'NN'), ('traced', 'VBN'), ('.', '.'), ('useful', 'JJ'), ('quantum', 'NN'), ('are', 'VBP'), ('immediately', 'RB'), ('scheduled', 'VBN'), (',', ','), ('delaying', 'VBG'), ('the', 'DT'), ('rest', 'NN'), ('of', 'IN'), ('the', 'DT'), ('trace', 'NN'), ('execution', 'NN'), ('and', 'CC'), ('thus', 'RB'), ('contributing', 'VBG'), ('to', 'TO'), ('the', 'DT'), ('performance', 'NN'), ('impact', 'NN'), ('measure', 'NN'), ('.', '.'), ('non-useful', 'JJ'), ('quantum', 'NN'), ('are', 'VBP'), ('discarded', 'VBN'), ('and', 'CC'), ('never', 'RB'), ('scheduled', 'VBN'), ('.', '.'), ('any', 'DT'), ('useful', 'JJ'), ('os', 'JJ'), ('time', 'NN'), ('associated', 'VBN'), ('with', 'IN'), ('these', 'DT'), ('quantum', 'NN'), ('is', 'VBZ'), ('also', 'RB'), ('immediately', 'RB'), ('scheduled', 'VBN'), (',', ','), ('contributing', 'VBG'), ('to', 'TO'), ('the', 'DT'), ('performance', 'NN'), ('impact', 'NN'), ('measure', 'NN'), ('.', '.'), ('the', 'DT'), ('third', 'JJ'), ('tool', 'NN'), (',', ','), ('asmsim', 'NN'), (',', ','), ('simulates', 'VBZ'), ('the', 'DT'), ('basic', 'JJ'), ('strategy', 'NN'), ('with', 'IN'), ('the', 'DT'), ('simple', 'JJ'), ('scheduling', 'NN'), ('technique', 'NN'), (',', ','), ('along', 'IN'), ('with', 'IN'), ('zero', 'CD'), ('or', 'CC'), ('more', 'JJR'), ('of', 'IN'), ('our', 'PRP$'), ('two', 'CD'), ('other', 'JJ'), ('suggested', 'VBD'), ('technique', 'NN'), (':', ':'), ('sleep', 'JJ'), ('extension', 'NN'), ('and', 'CC'), ('greediness', 'NN'), ('.', '.'), ('the', 'DT'), ('parameter', 'NN'), ('for', 'IN'), ('these', 'DT'), ('technique', 'NN'), ('may', 'MD'), ('be', 'VB'), ('varied', 'VBN'), ('at', 'IN'), ('will', 'MD'), ('in', 'IN'), ('the', 'DT'), ('simulation', 'NN'), ('.', '.'), ('when', 'WRB'), (',', ','), ('in', 'IN'), ('the', 'DT'), ('simulation', 'NN'), (',', ','), ('an', 'DT'), ('event', 'NN'), ('becomes', 'VBZ'), ('ready', 'JJ'), ('for', 'IN'), ('a', 'DT'), ('process', 'NN'), (',', ','), ('all', 'DT'), ('quantum', 'NN'), ('of', 'IN'), ('that', 'DT'), ('process', 'NN'), ('preceding', 'VBG'), ('the', 'DT'), ('receipt', 'NN'), ('of', 'IN'), ('the', 'DT'), ('ready', 'JJ'), ('event', 'NN'), ('that', 'WDT'), ('have', 'VBP'), ('not', 'RB'), ('yet', 'RB'), ('been', 'VBN'), ('scheduled', 'VBN'), ('will', 'MD'), ('be', 'VB'), ('treated', 'VBN'), ('a', 'DT'), ('described', 'VBN'), ('above', 'IN'), (',', ','), ('i.e', 'NN'), ('.', '.'), ('even', 'RB'), ('for', 'IN'), ('periodic', 'JJ'), ('process', 'NN'), (',', ','), ('we', 'PRP'), ('schedule', 'VBP'), ('quantum', 'RB'), ('in', 'IN'), ('the', 'DT'), ('order', 'NN'), ('in', 'IN'), ('which', 'WDT'), ('they', 'PRP'), ('occurred', 'VBD'), ('.', '.'), ('for', 'IN'), ('example', 'NN'), (',', ','), ('if', 'IN'), ('after', 'IN'), ('it', 'PRP'), ('quantum', 'VBD'), ('i', 'VB'), ('a', 'DT'), ('process', 'NN'), ('originally', 'RB'), ('slept', 'VBD'), ('for', 'IN'), ('1', 'CD'), ('second', 'JJ'), ('but', 'CC'), ('is', 'VBZ'), ('actually', 'RB'), ('awoken', 'VBN'), ('after', 'IN'), ('4', 'CD'), ('second', 'JJ'), (',', ','), ('then', 'RB'), ('at', 'IN'), ('that', 'DT'), ('point', 'NN'), ('we', 'PRP'), ('schedule', 'VBP'), ('quantum', 'JJ'), ('i', 'NN'), ('+', 'VBP'), ('1', 'CD'), (',', ','), ('not', 'RB'), ('some', 'DT'), ('late', 'JJ'), ('quantum', 'NN'), ('.', '.'), ('note', 'NN'), ('that', 'IN'), ('this', 'DT'), ('approach', 'NN'), ('may', 'MD'), ('cause', 'VB'), ('inaccuracy', 'NN'), ('in', 'IN'), ('the', 'DT'), ('simulation', 'NN'), (',', ','), ('since', 'IN'), ('the', 'DT'), ('process', 'NN'), ('might', 'MD'), ('in', 'IN'), ('reality', 'NN'), ('check', 'VB'), ('how', 'WRB'), ('long', 'JJ'), ('it', 'PRP'), ('ha', 'VBZ'), ('been', 'VBN'), ('since', 'IN'), ('it', 'PRP'), ('last', 'JJ'), ('went', 'VBD'), ('to', 'TO'), ('sleep', 'VB'), (',', ','), ('and', 'CC'), ('act', 'NN'), ('differently', 'RB'), ('seeing', 'VBG'), ('that', 'IN'), ('4', 'CD'), ('second', 'NNS'), ('have', 'VBP'), ('passed', 'VBN'), ('than', 'IN'), ('it', 'PRP'), ('did', 'VBD'), ('when', 'WRB'), ('only', 'RB'), ('1', 'CD'), ('second', 'JJ'), ('had', 'VBD'), ('passed', 'VBN'), ('.', '.'), ('we', 'PRP'), ('expect', 'VBP'), ('and', 'CC'), ('hope', 'VBP'), ('that', 'IN'), ('such', 'JJ'), ('dependence', 'NN'), ('of', 'IN'), ('process', 'NN'), ('action', 'NN'), ('on', 'IN'), ('time', 'NN'), ('is', 'VBZ'), ('rare', 'JJ'), ('enough', 'RB'), ('that', 'IN'), ('this', 'DT'), ('doe', 'VBZ'), ('not', 'RB'), ('introduce', 'VB'), ('significant', 'JJ'), ('error', 'NN'), ('into', 'IN'), ('the', 'DT'), ('result', 'NN'), ('of', 'IN'), ('our', 'PRP$'), ('simulation', 'NN'), ('.', '.'), ('in', 'IN'), ('this', 'DT'), ('section', 'NN'), (',', ','), ('we', 'PRP'), ('refer', 'VBP'), ('to', 'TO'), ('the', 'DT'), ('current', 'JJ'), ('macos', 'NN'), ('strategy', 'NN'), ('a', 'DT'), ('strategy', 'NN'), ('c', 'NN'), ('and', 'CC'), ('the', 'DT'), ('basic', 'JJ'), ('strategy', 'NN'), ('a', 'DT'), ('strategy', 'NN'), ('b.', 'NN'), ('we', 'PRP'), ('append', 'VBP'), ('the', 'DT'), ('letter', 'NN'), ('i', 'NN'), ('to', 'TO'), ('indicate', 'VB'), ('use', 'NN'), ('of', 'IN'), ('the', 'DT'), ('simple', 'JJ'), ('schedule', 'NN'), ('technique', 'NN'), (',', ','), ('append', 'VBP'), ('the', 'DT'), ('letter', 'NN'), ('g', 'NN'), ('to', 'TO'), ('indicate', 'VB'), ('use', 'NN'), ('of', 'IN'), ('the', 'DT'), ('greediness', 'NN'), ('technique', 'NN'), (',', ','), ('and', 'CC'), ('append', 'VB'), ('the', 'DT'), ('letter', 'NN'), ('s', 'NN'), ('for', 'IN'), ('the', 'DT'), ('sleep', 'JJ'), ('extension', 'NN'), ('technique', 'NN'), ('.', '.'), ('note', 'NN'), ('that', 'IN'), ('we', 'PRP'), ('never', 'RB'), ('simulate', 'VBP'), ('the', 'DT'), ('greediness', 'NN'), ('technique', 'NN'), ('or', 'CC'), ('sleep', 'JJ'), ('extension', 'NN'), ('technique', 'NN'), ('without', 'IN'), ('the', 'DT'), ('simple', 'JJ'), ('scheduling', 'NN'), ('technique', 'NN'), (',', ','), ('since', 'IN'), ('they', 'PRP'), ('are', 'VBP'), ('designed', 'VBN'), ('a', 'DT'), ('supplement', 'NN'), ('to', 'TO'), ('the', 'DT'), ('simple', 'JJ'), ('scheduling', 'NN'), ('technique', 'NN'), ('.', '.'), ('the', 'DT'), ('first', 'JJ'), ('thing', 'NN'), ('we', 'PRP'), ('shall', 'MD'), ('do', 'VB'), ('is', 'VBZ'), ('determine', 'VB'), ('the', 'DT'), ('optimal', 'JJ'), ('energy', 'NN'), ('saving', 'VBG'), ('attainable', 'JJ'), ('.', '.'), ('an', 'DT'), ('optimum', 'JJ'), ('strategy', 'NN'), ('would', 'MD'), ('schedule', 'VB'), ('only', 'RB'), ('time', 'NN'), ('that', 'IN'), ('wa', 'JJ'), ('spent', 'VBD'), ('doing', 'VBG'), ('useful', 'JJ'), ('work', 'NN'), (',', ','), ('and', 'CC'), ('would', 'MD'), ('entirely', 'RB'), ('omit', 'VB'), ('non-useful', 'JJ'), ('time', 'NN'), (';', ':'), ('it', 'PRP'), ('performance', 'NN'), ('impact', 'NN'), ('would', 'MD'), ('be', 'VB'), ('zero', 'CD'), (',', ','), ('since', 'IN'), ('it', 'PRP'), ('would', 'MD'), ('have', 'VB'), ('foreknowledge', 'NN'), ('of', 'IN'), ('when', 'WRB'), ('useful', 'JJ'), ('work', 'NN'), ('would', 'MD'), ('occur', 'VB'), ('and', 'CC'), ('arrange', 'VB'), ('to', 'TO'), ('have', 'VB'), ('the', 'DT'), ('processor', 'NN'), ('on', 'IN'), ('when', 'WRB'), ('it', 'PRP'), ('happens', 'VBZ'), ('.', '.'), ('simulation', 'NN'), ('indicates', 'VBZ'), ('that', 'IN'), ('such', 'PDT'), ('a', 'DT'), ('strategy', 'NN'), ('would', 'MD'), ('yield', 'VB'), ('an', 'DT'), ('energy', 'NN'), ('saving', 'NN'), ('of', 'IN'), ('82.33', 'CD'), ('%', 'NN'), (';', ':'), ('thus', 'RB'), (',', ','), ('this', 'DT'), ('is', 'VBZ'), ('an', 'DT'), ('absolute', 'JJ'), ('ceiling', 'NN'), ('on', 'IN'), ('what', 'WP'), ('can', 'MD'), ('be', 'VB'), ('obtained', 'VBN'), ('by', 'IN'), ('any', 'DT'), ('realizable', 'JJ'), ('strategy', 'NN'), ('.', '.'), ('this', 'DT'), ('is', 'VBZ'), ('a', 'DT'), ('remarkably', 'RB'), ('high', 'JJ'), ('figure', 'NN'), ('--', ':'), ('what', 'WP'), ('it', 'PRP'), ('say', 'VBP'), ('is', 'VBZ'), ('that', 'IN'), ('the', 'DT'), ('processor', 'NN'), ('is', 'VBZ'), ('doing', 'VBG'), ('useful', 'JJ'), ('computation', 'NN'), ('during', 'IN'), ('only', 'RB'), ('17.67', 'CD'), ('%', 'NN'), ('of', 'IN'), ('the', 'DT'), ('29.56', 'CD'), ('hour', 'NN'), ('of', 'IN'), ('the', 'DT'), ('trace', 'NN'), (';', ':'), ('the', 'DT'), ('rest', 'NN'), ('of', 'IN'), ('the', 'DT'), ('time', 'NN'), ('is', 'VBZ'), ('busy', 'JJ'), ('waiting', 'VBG'), ('by', 'IN'), ('a', 'DT'), ('user', 'JJ'), ('process', 'NN'), ('or', 'CC'), ('idling', 'NN'), ('.', '.'), ('the', 'DT'), ('second', 'JJ'), ('simulation', 'NN'), ('result', 'NN'), ('concern', 'NN'), ('strategy', 'NN'), ('c.', 'NN'), ('we', 'PRP'), ('find', 'VBP'), ('from', 'IN'), ('simulation', 'NN'), ('that', 'WDT'), ('strategy', 'NN'), ('c', 'VBZ'), ('yield', 'VBP'), ('an', 'DT'), ('energy', 'NN'), ('saving', 'NN'), ('of', 'IN'), ('28.79', 'CD'), ('%', 'NN'), ('along', 'IN'), ('with', 'IN'), ('a', 'DT'), ('performance', 'NN'), ('impact', 'NN'), ('measure', 'NN'), ('of', 'IN'), ('1.84', 'CD'), ('%', 'NN'), ('.', '.'), ('in', 'IN'), ('other', 'JJ'), ('word', 'NN'), (',', ','), ('it', 'PRP'), ('cause', 'VBZ'), ('the', 'DT'), ('processor', 'NN'), ('to', 'TO'), ('consume', 'VB'), ('only', 'RB'), ('71.21', 'CD'), ('%', 'NN'), ('of', 'IN'), ('the', 'DT'), ('energy', 'NN'), ('it', 'PRP'), ('would', 'MD'), ('without', 'IN'), ('a', 'DT'), ('power-saving', 'JJ'), ('strategy', 'NN'), (',', ','), ('but', 'CC'), ('increase', 'VB'), ('overall', 'JJ'), ('workload', 'JJ'), ('completion', 'NN'), ('time', 'NN'), ('by', 'IN'), ('1.84', 'CD'), ('%', 'NN'), ('.', '.'), ('the', 'DT'), ('strategy', 'NN'), ('increase', 'NN'), ('processor', 'NN'), ('energy', 'NN'), ('consumption', 'NN'), ('by', 'IN'), ('303', 'CD'), ('%', 'NN'), ('compared', 'VBN'), ('with', 'IN'), ('the', 'DT'), ('optimal', 'JJ'), ('strategy', 'NN'), (',', ','), ('since', 'IN'), ('it', 'PRP'), ('only', 'RB'), ('recovers', 'VBZ'), ('35', 'CD'), ('%', 'NN'), ('of', 'IN'), ('the', 'DT'), ('real', 'JJ'), ('idle', 'JJ'), ('time', 'NN'), ('.', '.'), ('note', 'NN'), ('also', 'RB'), ('that', 'DT'), ('since', 'IN'), ('only', 'RB'), ('17.67', 'CD'), ('%', 'NN'), ('of', 'IN'), ('the', 'DT'), ('cpu', 'NN'), ('time', 'NN'), ('is', 'VBZ'), ('actually', 'RB'), ('useful', 'JJ'), (',', ','), ('the', 'DT'), ('performance', 'NN'), ('impact', 'NN'), ('of', 'IN'), ('1.84', 'CD'), ('%', 'NN'), ('mean', 'NN'), ('that', 'IN'), ('we', 'PRP'), ('have', 'VBP'), ('misclassified', 'VBN'), ('10', 'CD'), ('%', 'NN'), ('of', 'IN'), ('the', 'DT'), ('useful', 'JJ'), ('cpu', 'NN'), ('time', 'NN'), (',', ','), ('and', 'CC'), ('have', 'VBP'), ('had', 'VBN'), ('to', 'TO'), ('run', 'VB'), ('that', 'DT'), ('work', 'NN'), ('in', 'IN'), ('a', 'DT'), ('delayed', 'JJ'), ('manner', 'NN'), ('.', '.'), ('thus', 'RB'), (',', ','), ('the', 'DT'), ('actual', 'JJ'), ('real', 'JJ'), ('time', 'NN'), ('delay', 'NN'), ('perceived', 'VBN'), ('by', 'IN'), ('the', 'DT'), ('user', 'NN'), ('may', 'MD'), ('not', 'RB'), ('be', 'VB'), ('1.84', 'CD'), ('%', 'NN'), (',', ','), ('but', 'CC'), ('may', 'MD'), ('be', 'VB'), ('close', 'RB'), ('to', 'TO'), ('10', 'CD'), ('%', 'NN'), (',', ','), ('since', 'IN'), ('the', 'DT'), ('user', 'NN'), ('wait', 'NN'), ('for', 'IN'), ('a', 'DT'), ('reply', 'NN'), ('only', 'RB'), ('during', 'IN'), ('period', 'NN'), ('of', 'IN'), ('real', 'JJ'), (',', ','), ('useful', 'JJ'), (',', ','), ('work', 'NN'), ('.', '.'), ('the', 'DT'), ('next', 'JJ'), ('simulation', 'NN'), ('result', 'NN'), ('concern', 'NN'), ('strategy', 'NN'), ('b', 'NN'), (',', ','), ('which', 'WDT'), ('turn', 'VBP'), ('off', 'RP'), ('the', 'DT'), ('process', 'NN'), ('when', 'WRB'), ('and', 'CC'), ('only', 'RB'), ('when', 'WRB'), ('there', 'EX'), ('wa', 'VBP'), ('idling', 'VBG'), ('in', 'IN'), ('the', 'DT'), ('original', 'JJ'), ('trace', 'NN'), ('.', '.'), ('the', 'DT'), ('trace', 'NN'), ('were', 'VBD'), ('collected', 'VBN'), ('from', 'IN'), ('six', 'CD'), ('user', 'NN'), (',', ','), ('each', 'DT'), ('an', 'DT'), ('engineer', 'NN'), ('at', 'IN'), ('apple', 'NN'), ('computer', 'NN'), (',', ','), ('inc.', 'VBP'), ('table', 'JJ'), ('1', 'CD'), ('indicates', 'VBZ'), ('data', 'NNS'), ('about', 'IN'), ('the', 'DT'), ('trace', 'NN'), ('obtained', 'VBN'), ('from', 'IN'), ('each', 'DT'), ('user', 'NN'), ('and', 'CC'), ('the', 'DT'), ('machine', 'NN'), ('on', 'IN'), ('which', 'WDT'), ('those', 'DT'), ('trace', 'NN'), ('were', 'VBD'), ('collected', 'VBN'), ('.', '.'), ('much', 'RB'), ('more', 'RBR'), ('detailed', 'JJ'), ('discussion', 'NN'), ('of', 'IN'), ('the', 'DT'), ('trace', 'NN'), ('and', 'CC'), ('their', 'PRP$'), ('collection', 'NN'), ('appears', 'VBZ'), ('in', 'IN'), ('.', '.'), ('most', 'JJS'), ('result', 'NN'), ('we', 'PRP'), ('present', 'VBP'), ('will', 'MD'), ('concern', 'NN'), ('the', 'DT'), ('aggregate', 'NN'), ('workload', 'NN'), (',', ','), ('i.e', 'NN'), ('.', '.'), ('figure', 'NN'), ('1', 'CD'), (':', ':'), ('performance', 'NN'), ('impact', 'NN'), ('measure', 'NN'), ('versus', 'NN'), ('processor', 'NN'), ('energy', 'NN'), ('saving', 'VBG'), ('for', 'IN'), ('strategy', 'NN'), ('bi', 'NN'), ('with', 'IN'), ('various', 'JJ'), ('sleep', 'JJ'), ('multiplier', 'NN'), ('.', '.'), ('certain', 'JJ'), ('point', 'NN'), ('are', 'VBP'), ('labeled', 'VBN'), ('with', 'IN'), ('the', 'DT'), ('sleep', 'NN'), ('multiplier', 'NN'), ('to', 'TO'), ('which', 'WDT'), ('they', 'PRP'), ('correspond', 'VBP'), ('.', '.'), ('thus', 'RB'), (',', ','), ('we', 'PRP'), ('see', 'VBP'), ('that', 'IN'), ('the', 'DT'), ('basic', 'JJ'), ('strategy', 'NN'), ('without', 'IN'), ('any', 'DT'), ('new', 'JJ'), ('process', 'NN'), ('management', 'NN'), ('technique', 'NN'), ('save', 'VBP'), ('slightly', 'RB'), ('more', 'JJR'), ('energy', 'NN'), ('than', 'IN'), ('the', 'DT'), ('current', 'JJ'), ('technique', 'NN'), (',', ','), ('and', 'CC'), ('ha', 'VBZ'), ('no', 'DT'), ('impact', 'NN'), ('on', 'IN'), ('performance', 'NN'), ('.', '.'), ('however', 'RB'), (',', ','), ('it', 'PRP'), ('cause', 'VBZ'), ('the', 'DT'), ('processor', 'NN'), ('to', 'TO'), ('consume', 'VB'), ('285', 'CD'), ('%', 'NN'), ('more', 'JJR'), ('energy', 'NN'), ('than', 'IN'), ('under', 'IN'), ('the', 'DT'), ('optimal', 'JJ'), ('strategy', 'NN'), (',', ','), ('since', 'IN'), ('it', 'PRP'), ('only', 'RB'), ('recovers', 'VBZ'), ('39', 'CD'), ('%', 'NN'), ('of', 'IN'), ('real', 'JJ'), ('idle', 'JJ'), ('time', 'NN'), ('.', '.'), ('the', 'DT'), ('next', 'JJ'), ('simulation', 'NN'), ('result', 'NN'), ('concern', 'NN'), ('strategy', 'NN'), ('bi', 'NN'), ('.', '.'), ('strategy', 'NN'), ('bi', 'NN'), ('ha', 'VBD'), ('an', 'DT'), ('energy', 'NN'), ('saving', 'NN'), ('of', 'IN'), ('47.10', 'CD'), ('%', 'NN'), ('and', 'CC'), ('a', 'DT'), ('performance', 'NN'), ('impact', 'NN'), ('of', 'IN'), ('1.08', 'CD'), ('%', 'NN'), ('.', '.'), ('thus', 'RB'), (',', ','), ('we', 'PRP'), ('see', 'VBP'), ('that', 'DT'), ('strategy', 'NN'), ('bi', 'VBZ'), ('decrease', 'NN'), ('processor', 'NN'), ('energy', 'NN'), ('consumption', 'NN'), ('by', 'IN'), ('26', 'CD'), ('%', 'NN'), ('and', 'CC'), ('decrease', 'NN'), ('workload', 'NN'), ('completion', 'NN'), ('time', 'NN'), ('by', 'IN'), ('0.7', 'CD'), ('%', 'NN'), ('compared', 'VBN'), ('to', 'TO'), ('strategy', 'NN'), ('c.', 'NNS'), ('compared', 'VBN'), ('to', 'TO'), ('the', 'DT'), ('optimal', 'JJ'), ('strategy', 'NN'), (',', ','), ('it', 'PRP'), ('cause', 'VBZ'), ('the', 'DT'), ('processor', 'NN'), ('to', 'TO'), ('consume', 'VB'), ('199', 'CD'), ('%', 'NN'), ('more', 'JJR'), ('energy', 'NN'), (',', ','), ('since', 'IN'), ('it', 'PRP'), ('only', 'RB'), ('recovers', 'VBZ'), ('57', 'CD'), ('%', 'NN'), ('of', 'IN'), ('real', 'JJ'), ('idle', 'JJ'), ('time', 'NN'), ('.', '.'), ('the', 'DT'), ('next', 'JJ'), ('simulation', 'NN'), ('result', 'NN'), ('concern', 'NN'), ('strategy', 'NN'), ('bi', 'NN'), ('.', '.'), ('figure', 'NN'), ('1', 'CD'), ('show', 'NN'), ('the', 'DT'), ('performance', 'NN'), ('versus', 'NN'), ('energy', 'NN'), ('saving', 'VBG'), ('graph', 'NN'), ('for', 'IN'), ('variation', 'NN'), ('of', 'IN'), ('this', 'DT'), ('strategy', 'NN'), ('using', 'VBG'), ('sleep', 'JJ'), ('multiplier', 'NN'), ('between', 'IN'), ('1', 'CD'), ('and', 'CC'), ('10.', 'CD'), ('we', 'PRP'), ('see', 'VBP'), ('that', 'IN'), ('the', 'DT'), ('point', 'NN'), ('at', 'IN'), ('which', 'WDT'), ('this', 'DT'), ('strategy', 'NN'), ('ha', 'VBZ'), ('performance', 'NN'), ('impact', 'NN'), ('of', 'IN'), ('1.84', 'CD'), ('%', 'NN'), (',', ','), ('equal', 'JJ'), ('to', 'TO'), ('that', 'DT'), ('of', 'IN'), ('strategy', 'NN'), ('c', 'NNS'), (',', ','), ('corresponds', 'NNS'), ('to', 'TO'), ('a', 'DT'), ('sleep', 'JJ'), ('multiplier', 'NN'), ('of', 'IN'), ('2.25', 'CD'), ('and', 'CC'), ('a', 'DT'), ('processor', 'NN'), ('energy', 'NN'), ('saving', 'NN'), ('of', 'IN'), ('51.72', 'CD'), ('%', 'NN'), ('.', '.'), ('thus', 'RB'), (',', ','), ('we', 'PRP'), ('see', 'VBP'), ('that', 'IN'), (',', ','), ('comparing', 'VBG'), ('strategy', 'NN'), ('bi', 'NN'), ('and', 'CC'), ('c', 'VB'), ('on', 'IN'), ('equal', 'JJ'), ('performance', 'NN'), ('ground', 'NN'), (',', ','), ('strategy', 'NN'), ('bi', 'NN'), ('decrease', 'NN'), ('processor', 'NN'), ('energy', 'NN'), ('consumption', 'NN'), ('by', 'IN'), ('32', 'CD'), ('%', 'NN'), ('.', '.'), ('increasing', 'VBG'), ('the', 'DT'), ('sleep', 'NN'), ('multiplier', 'NN'), ('to', 'TO'), ('10', 'CD'), ('save', 'VB'), ('55.93', 'CD'), ('%', 'NN'), ('of', 'IN'), ('the', 'DT'), ('cpu', 'NN'), ('energy', 'NN'), (',', ','), ('with', 'IN'), ('a', 'DT'), ('performance', 'NN'), ('impact', 'NN'), ('of', 'IN'), ('2.84', 'CD'), ('%', 'NN'), ('.', '.'), ('note', 'NN'), (',', ','), ('however', 'RB'), (',', ','), ('that', 'IN'), ('the', 'DT'), ('performance', 'NN'), ('impact', 'NN'), ('measure', 'NN'), ('doe', 'VBZ'), ('not', 'RB'), ('tell', 'VB'), ('the', 'DT'), ('whole', 'JJ'), ('story', 'NN'), ('in', 'IN'), ('this', 'DT'), ('case', 'NN'), ('.', '.'), ('generally', 'RB'), (',', ','), ('a', 'DT'), ('real', 'JJ'), ('time', 'NN'), ('delay', 'NN'), ('is', 'VBZ'), ('used', 'VBN'), ('by', 'IN'), ('some', 'DT'), ('process', 'NN'), ('that', 'WDT'), ('wake', 'VBP'), ('up', 'RP'), (',', ','), ('check', 'VB'), ('something', 'NN'), (',', ','), ('and', 'CC'), ('if', 'IN'), ('certain', 'JJ'), ('condition', 'NN'), ('are', 'VBP'), ('met', 'VBN'), (',', ','), ('doe', 'VBZ'), ('something', 'NN'), ('.', '.'), ('a', 'DT'), ('very', 'RB'), ('large', 'JJ'), ('real', 'JJ'), ('time', 'NN'), ('delay', 'NN'), ('in', 'IN'), ('the', 'DT'), ('wakeup', 'JJ'), ('period', 'NN'), ('may', 'MD'), ('mean', 'VB'), ('that', 'DT'), ('certain', 'JJ'), ('check', 'NN'), ('are', 'VBP'), ('not', 'RB'), ('made', 'VBN'), ('in', 'IN'), ('a', 'DT'), ('timely', 'JJ'), ('manner', 'NN'), (';', ':'), ('we', 'PRP'), ('have', 'VBP'), ('ignored', 'VBN'), ('that', 'IN'), ('issue', 'NN'), ('here', 'RB'), ('.', '.'), ('in', 'IN'), ('practice', 'NN'), (',', ','), ('sleep', 'JJ'), ('extension', 'NN'), ('factor', 'NN'), ('over', 'IN'), ('some', 'DT'), ('level', 'NN'), (',', ','), ('perhaps', 'RB'), ('3', 'CD'), ('to', 'TO'), ('5', 'CD'), (',', ','), ('may', 'MD'), ('not', 'RB'), ('be', 'VB'), ('desirable', 'JJ'), ('.', '.'), ('the', 'DT'), ('next', 'JJ'), ('simulation', 'NN'), ('result', 'NN'), ('concern', 'NN'), ('strategy', 'NN'), ('big', 'JJ'), ('.', '.'), ('figure', 'NN'), ('2', 'CD'), ('show', 'NN'), ('the', 'DT'), ('performance', 'NN'), ('versus', 'NN'), ('energy', 'NN'), ('saving', 'VBG'), ('graph', 'NN'), ('for', 'IN'), ('variation', 'NN'), ('of', 'IN'), ('this', 'DT'), ('strategy', 'NN'), ('using', 'VBG'), ('greediness', 'JJ'), ('threshold', 'NN'), ('between', 'IN'), ('20', 'CD'), ('and', 'CC'), ('80', 'CD'), ('and', 'CC'), ('forced', 'VBD'), ('sleep', 'JJ'), ('period', 'NN'), ('between', 'IN'), ('0.025', 'CD'), ('second', 'JJ'), ('and', 'CC'), ('10', 'CD'), ('second', 'JJ'), ('.', '.'), ('we', 'PRP'), ('find', 'VBP'), (',', ','), ('through', 'IN'), ('extensive', 'JJ'), ('exploration', 'NN'), ('of', 'IN'), ('the', 'DT'), ('parameter', 'NN'), ('space', 'NN'), (',', ','), ('that', 'IN'), ('the', 'DT'), ('parameter', 'NN'), ('setting', 'VBG'), ('giving', 'VBG'), ('the', 'DT'), ('best', 'JJS'), ('energy', 'NN'), ('saving', 'VBG'), ('at', 'IN'), ('the', 'DT'), ('1.84', 'CD'), ('%', 'NN'), ('performance', 'NN'), ('impact', 'NN'), ('level', 'NN'), ('are', 'VBP'), ('a', 'DT'), ('greediness', 'JJ'), ('threshold', 'NN'), ('of', 'IN'), ('61', 'CD'), ('and', 'CC'), ('a', 'DT'), ('forced', 'JJ'), ('sleep', 'JJ'), ('period', 'NN'), ('of', 'IN'), ('0.52', 'CD'), ('second', 'JJ'), ('.', '.'), ('these', 'DT'), ('parameter', 'JJ'), ('yield', 'NN'), ('an', 'DT'), ('energy', 'NN'), ('saving', 'NN'), ('of', 'IN'), ('66.18', 'CD'), ('%', 'NN'), ('.', '.'), ('thus', 'RB'), (',', ','), ('we', 'PRP'), ('see', 'VBP'), ('that', 'IN'), (',', ','), ('comparing', 'VBG'), ('strategy', 'NN'), ('big', 'JJ'), ('and', 'CC'), ('c', 'NN'), ('on', 'IN'), ('equal', 'JJ'), ('performance', 'NN'), ('ground', 'NN'), (',', ','), ('strategy', 'NN'), ('big', 'JJ'), ('reduces', 'NNS'), ('processor', 'VBP'), ('energy', 'NN'), ('consumption', 'NN'), ('by', 'IN'), ('53', 'CD'), ('%', 'NN'), ('.', '.'), ('compared', 'VBN'), ('to', 'TO'), ('the', 'DT'), ('optimal', 'JJ'), ('strategy', 'NN'), (',', ','), ('it', 'PRP'), ('increase', 'VBZ'), ('processor', 'NN'), ('energy', 'NN'), ('consumption', 'NN'), ('by', 'IN'), ('91', 'CD'), ('%', 'NN'), (',', ','), ('since', 'IN'), ('it', 'PRP'), ('only', 'RB'), ('save', 'VB'), ('80', 'CD'), ('%', 'NN'), ('of', 'IN'), ('real', 'JJ'), ('idle', 'JJ'), ('time', 'NN'), ('.', '.'), ('the', 'DT'), ('next', 'JJ'), ('result', 'NN'), ('we', 'PRP'), ('present', 'JJ'), ('concern', 'NN'), ('strategy', 'NN'), ('bigs', 'NNS'), ('.', '.'), ('figure', 'NN'), ('3', 'CD'), ('show', 'NN'), ('that', 'IN'), (',', ','), ('in', 'IN'), ('the', 'DT'), ('realm', 'NN'), ('we', 'PRP'), ('are', 'VBP'), ('interested', 'JJ'), ('in', 'IN'), (',', ','), ('a', 'DT'), ('performance', 'NN'), ('impact', 'NN'), ('of', 'IN'), ('1.84', 'CD'), ('%', 'NN'), (',', ','), ('increasing', 'VBG'), ('the', 'DT'), ('sleep', 'NN'), ('multiplier', 'NN'), ('always', 'RB'), ('produce', 'VBP'), ('bad', 'JJ'), ('result', 'NN'), ('than', 'IN'), ('changing', 'VBG'), ('the', 'DT'), ('greediness', 'NN'), ('threshold', 'NN'), ('and', 'CC'), ('forced', 'JJ'), ('sleep', 'JJ'), ('period', 'NN'), ('.', '.'), ('the', 'DT'), ('energy', 'NN'), ('saving', 'VBG'), ('attainable', 'JJ'), ('by', 'IN'), ('increasing', 'VBG'), ('the', 'DT'), ('sleep', 'NN'), ('multiplier', 'NN'), ('can', 'MD'), ('be', 'VB'), ('attained', 'VBN'), ('at', 'IN'), ('a', 'DT'), ('low', 'JJ'), ('performance', 'NN'), ('cost', 'NN'), ('by', 'IN'), ('instead', 'RB'), ('decreasing', 'VBG'), ('the', 'DT'), ('greediness', 'NN'), ('threshold', 'NN'), ('or', 'CC'), ('by', 'IN'), ('increasing', 'VBG'), ('the', 'DT'), ('forced', 'JJ'), ('sleep', 'JJ'), ('period', 'NN'), ('.', '.'), ('thus', 'RB'), (',', ','), ('the', 'DT'), ('best', 'JJS'), ('bigs', 'NN'), ('strategy', 'NN'), ('is', 'VBZ'), ('the', 'DT'), ('big', 'JJ'), ('strategy', 'NN'), (',', ','), ('which', 'WDT'), ('doe', 'VBZ'), ('not', 'RB'), ('make', 'VB'), ('any', 'DT'), ('use', 'NN'), ('of', 'IN'), ('the', 'DT'), ('sleep', 'JJ'), ('extension', 'NN'), ('technique', 'NN'), ('.', '.'), ('the', 'DT'), ('figure', 'NN'), ('suggests', 'VBZ'), ('that', 'IN'), ('if', 'IN'), ('we', 'PRP'), ('could', 'MD'), ('tolerate', 'VB'), ('a', 'DT'), ('great', 'JJ'), ('performance', 'NN'), ('impact', 'NN'), (',', ','), ('such', 'PDT'), ('a', 'DT'), ('2.7', 'CD'), ('%', 'NN'), (',', ','), ('this', 'DT'), ('would', 'MD'), ('no', 'RB'), ('longer', 'RB'), ('be', 'VB'), ('the', 'DT'), ('case', 'NN'), (',', ','), ('and', 'CC'), ('the', 'DT'), ('best', 'JJS'), ('energy', 'NN'), ('saving', 'VBG'), ('for', 'IN'), ('bigs', 'NNS'), ('would', 'MD'), ('be', 'VB'), ('attained', 'VBN'), ('at', 'IN'), ('a', 'DT'), ('sleep', 'JJ'), ('multiplier', 'NN'), ('above', 'IN'), ('one', 'CD'), ('.', '.'), ('we', 'PRP'), ('conclude', 'VBP'), ('that', 'DT'), ('for', 'IN'), ('some', 'DT'), ('value', 'NN'), ('of', 'IN'), ('performance', 'NN'), ('impact', 'NN'), (',', ','), ('it', 'PRP'), ('is', 'VBZ'), ('useful', 'JJ'), ('to', 'TO'), ('combine', 'VB'), ('the', 'DT'), ('greediness', 'NN'), ('technique', 'NN'), ('and', 'CC'), ('sleep', 'JJ'), ('extension', 'NN'), ('technique', 'NN'), (',', ','), ('but', 'CC'), ('for', 'IN'), ('a', 'DT'), ('performance', 'NN'), ('impact', 'NN'), ('of', 'IN'), ('1.84', 'CD'), ('%', 'NN'), ('it', 'PRP'), ('is', 'VBZ'), ('useless', 'JJ'), ('to', 'TO'), ('use', 'VB'), ('the', 'DT'), ('sleep', 'JJ'), ('extension', 'NN'), ('technique', 'NN'), ('if', 'IN'), ('the', 'DT'), ('greediness', 'NN'), ('technique', 'NN'), ('is', 'VBZ'), ('in', 'IN'), ('use', 'NN'), ('.', '.'), ('a', 'DT'), ('summary', 'NN'), ('of', 'IN'), ('all', 'PDT'), ('the', 'DT'), ('finding', 'VBG'), ('about', 'IN'), ('the', 'DT'), ('above', 'JJ'), ('strategy', 'NN'), ('can', 'MD'), ('be', 'VB'), ('seen', 'VBN'), ('in', 'IN'), ('table', 'JJ'), ('2', 'CD'), (',', ','), ('a', 'DT'), ('well', 'RB'), ('a', 'DT'), ('the', 'DT'), ('column', 'NN'), ('of', 'IN'), ('figure', 'NN'), ('5', 'CD'), ('corresponding', 'NN'), ('to', 'TO'), ('user', 'VB'), ('1-6.', 'JJ'), ('figure', 'NN'), ('2', 'CD'), (':', ':'), ('performance', 'NN'), ('impact', 'NN'), ('measure', 'NN'), ('versus', 'NN'), ('processor', 'NN'), ('energy', 'NN'), ('saving', 'VBG'), ('for', 'IN'), ('strategy', 'NN'), ('big', 'JJ'), ('with', 'IN'), ('various', 'JJ'), ('greediness', 'NN'), ('threshold', 'NN'), ('and', 'CC'), ('forced', 'JJ'), ('sleep', 'JJ'), ('period', 'NN'), ('.', '.'), ('point', 'NN'), ('on', 'IN'), ('the', 'DT'), ('greediness', 'NN'), ('threshold', 'VBD'), ('60', 'CD'), ('curve', 'NNS'), ('are', 'VBP'), ('labeled', 'VBN'), ('with', 'IN'), ('the', 'DT'), ('forced', 'JJ'), ('sleep', 'JJ'), ('period', 'NN'), ('to', 'TO'), ('which', 'WDT'), ('they', 'PRP'), ('correspond', 'VBP'), ('.', '.'), ('the', 'DT'), ('reader', 'NN'), ('is', 'VBZ'), ('cautioned', 'VBN'), ('that', 'IN'), ('nonzero', 'JJ'), ('origin', 'NN'), ('are', 'VBP'), ('used', 'VBN'), ('in', 'IN'), ('this', 'DT'), ('figure', 'NN'), ('to', 'TO'), ('save', 'VB'), ('space', 'NN'), ('and', 'CC'), ('yet', 'RB'), ('have', 'VBP'), ('sufficient', 'JJ'), ('resolution', 'NN'), ('to', 'TO'), ('enable', 'VB'), ('it', 'PRP'), ('key', 'JJ'), ('feature', 'NN'), ('to', 'TO'), ('be', 'VB'), ('discerned', 'VBN'), ('.', '.'), ('figure', 'NN'), ('3', 'CD'), (':', ':'), ('performance', 'NN'), ('impact', 'NN'), ('measure', 'NN'), ('versus', 'NN'), ('processor', 'NN'), ('energy', 'NN'), ('saving', 'VBG'), ('for', 'IN'), ('strategy', 'NN'), ('bigs', 'NNS'), ('with', 'IN'), ('various', 'JJ'), ('sleep', 'JJ'), ('multiplier', 'NN'), (',', ','), ('various', 'JJ'), ('greediness', 'NN'), ('threshold', 'NN'), (',', ','), ('and', 'CC'), ('a', 'DT'), ('forced', 'JJ'), ('sleep', 'JJ'), ('period', 'NN'), ('of', 'IN'), ('0.52', 'CD'), ('sec', 'NN'), ('.', '.'), ('the', 'DT'), ('reader', 'NN'), ('is', 'VBZ'), ('cautioned', 'VBN'), ('that', 'IN'), ('nonzero', 'JJ'), ('origin', 'NN'), ('are', 'VBP'), ('used', 'VBN'), ('in', 'IN'), ('this', 'DT'), ('figure', 'NN'), ('to', 'TO'), ('save', 'VB'), ('space', 'NN'), ('and', 'CC'), ('yet', 'RB'), ('have', 'VBP'), ('sufficient', 'JJ'), ('resolution', 'NN'), ('to', 'TO'), ('enable', 'VB'), ('it', 'PRP'), ('key', 'JJ'), ('feature', 'NN'), ('to', 'TO'), ('be', 'VB'), ('discerned', 'VBN'), ('.', '.'), ('an', 'DT'), ('important', 'JJ'), ('issue', 'NN'), ('is', 'VBZ'), ('the', 'DT'), ('extent', 'NN'), ('to', 'TO'), ('which', 'WDT'), ('the', 'DT'), ('parameter', 'NN'), ('we', 'PRP'), ('chose', 'VBD'), ('are', 'VBP'), ('specific', 'JJ'), ('to', 'TO'), ('the', 'DT'), ('workload', 'NN'), ('studied', 'VBD'), (',', ','), ('and', 'CC'), ('whether', 'IN'), ('they', 'PRP'), ('would', 'MD'), ('be', 'VB'), ('optimal', 'JJ'), ('or', 'CC'), ('equally', 'RB'), ('effective', 'JJ'), ('for', 'IN'), ('some', 'DT'), ('other', 'JJ'), ('workload', 'NN'), ('.', '.'), ('furthermore', 'RB'), (',', ','), ('it', 'PRP'), ('is', 'VBZ'), ('unclear', 'JJ'), ('how', 'WRB'), ('effective', 'JJ'), ('the', 'DT'), ('user', 'NN'), ('or', 'CC'), ('operating', 'NN'), ('system', 'NN'), ('could', 'MD'), ('be', 'VB'), ('at', 'IN'), ('dynamically', 'RB'), ('tuning', 'VBG'), ('these', 'DT'), ('parameter', 'NN'), ('in', 'IN'), ('the', 'DT'), ('best', 'JJS'), ('way', 'NN'), ('to', 'TO'), ('achieve', 'VB'), ('optimal', 'JJ'), ('energy', 'NN'), ('saving', 'VBG'), ('at', 'IN'), ('a', 'DT'), ('given', 'VBN'), ('level', 'NN'), ('of', 'IN'), ('performance', 'NN'), ('.', '.'), ('thus', 'RB'), (',', ','), ('it', 'PRP'), ('is', 'VBZ'), ('important', 'JJ'), ('to', 'TO'), ('observe', 'VB'), ('the', 'DT'), ('sensitivity', 'NN'), ('of', 'IN'), ('the', 'DT'), ('result', 'NN'), ('we', 'PRP'), ('obtained', 'VBD'), ('to', 'TO'), ('the', 'DT'), ('particular', 'JJ'), ('value', 'NN'), ('of', 'IN'), ('the', 'DT'), ('parameter', 'NN'), ('we', 'PRP'), ('chose', 'VBD'), ('.', '.'), ('the', 'DT'), ('graph', 'NN'), ('we', 'PRP'), ('showed', 'VBD'), ('that', 'IN'), ('demonstrate', 'VBP'), ('the', 'DT'), ('relationship', 'NN'), ('between', 'IN'), ('performance', 'NN'), (',', ','), ('energy', 'NN'), ('saving', 'NN'), (',', ','), ('and', 'CC'), ('parameter', 'NN'), ('value', 'NN'), ('also', 'RB'), ('demonstrate', 'VBP'), ('the', 'DT'), ('reasonably', 'RB'), ('low', 'JJ'), ('sensitivity', 'NN'), ('of', 'IN'), ('the', 'DT'), ('result', 'NN'), ('to', 'TO'), ('the', 'DT'), ('parameter', 'NN'), ('value', 'NN'), ('.', '.'), ('for', 'IN'), ('instance', 'NN'), (',', ','), ('varying', 'VBG'), ('the', 'DT'), ('forced', 'JJ'), ('sleep', 'JJ'), ('period', 'NN'), ('threshold', 'NN'), ('in', 'IN'), ('figure', 'NN'), ('2', 'CD'), ('across', 'IN'), ('a', 'DT'), ('wide', 'JJ'), ('range', 'NN'), ('of', 'IN'), ('value', 'NN'), ('only', 'RB'), ('cause', 'VB'), ('the', 'DT'), ('consequent', 'NN'), ('energy', 'NN'), ('saving', 'VBG'), ('to', 'TO'), ('vary', 'VB'), ('between', 'IN'), ('59-67', 'JJ'), ('%', 'NN'), ('.', '.'), ('varying', 'VBG'), ('the', 'DT'), ('greediness', 'NN'), ('threshold', 'NN'), ('in', 'IN'), ('figure', 'NN'), ('4', 'CD'), ('across', 'IN'), ('another', 'DT'), ('wide', 'JJ'), ('range', 'NN'), ('of', 'IN'), ('value', 'NN'), ('only', 'RB'), ('cause', 'VB'), ('the', 'DT'), ('consequent', 'NN'), ('energy', 'NN'), ('saving', 'VBG'), ('to', 'TO'), ('vary', 'VB'), ('in', 'IN'), ('the', 'DT'), ('range', 'NN'), ('63-71', 'JJ'), ('%', 'NN'), ('.', '.'), ('finally', 'RB'), (',', ','), ('varying', 'VBG'), ('the', 'DT'), ('sleep', 'NN'), ('multiplier', 'NN'), ('across', 'IN'), ('a', 'DT'), ('wide', 'JJ'), ('range', 'NN'), (',', ','), ('a', 'DT'), ('in', 'IN'), ('figure', 'NN'), ('1', 'CD'), (',', ','), ('only', 'RB'), ('cause', 'VB'), ('the', 'DT'), ('consequent', 'NN'), ('energy', 'NN'), ('saving', 'VBG'), ('to', 'TO'), ('vary', 'VB'), ('in', 'IN'), ('the', 'DT'), ('range', 'NN'), ('47-56', 'JJ'), ('%', 'NN'), ('.', '.'), ('another', 'DT'), ('way', 'NN'), ('to', 'TO'), ('gauge', 'VB'), ('the', 'DT'), ('sensitivity', 'NN'), ('of', 'IN'), ('the', 'DT'), ('result', 'NN'), ('to', 'TO'), ('the', 'DT'), ('parameter', 'NN'), ('is', 'VBZ'), ('to', 'TO'), ('evaluate', 'VB'), ('the', 'DT'), ('effectiveness', 'NN'), ('of', 'IN'), ('the', 'DT'), ('technique', 'NN'), ('on', 'IN'), ('each', 'DT'), ('of', 'IN'), ('the', 'DT'), ('six', 'CD'), ('workload', 'NN'), ('corresponding', 'VBG'), ('to', 'TO'), ('the', 'DT'), ('user', 'NN'), ('studied', 'VBD'), ('.', '.'), ('to', 'TO'), ('show', 'VB'), ('the', 'DT'), ('effect', 'NN'), ('of', 'IN'), ('using', 'VBG'), ('parameter', 'NN'), ('tuned', 'VBD'), ('to', 'TO'), ('an', 'DT'), ('aggregate', 'JJ'), ('workload', 'NN'), ('on', 'IN'), ('individual', 'JJ'), ('user', 'NN'), (',', ','), ('figure', 'NN'), ('5', 'CD'), ('show', 'NN'), ('the', 'DT'), ('processor', 'NN'), ('energy', 'NN'), ('saving', 'VBG'), ('that', 'WDT'), ('would', 'MD'), ('have', 'VB'), ('been', 'VBN'), ('attained', 'VBN'), ('by', 'IN'), ('each', 'DT'), ('of', 'IN'), ('the', 'DT'), ('user', 'NN'), ('given', 'VBN'), ('the', 'DT'), ('strategy', 'NN'), ('we', 'PRP'), ('have', 'VBP'), ('discussed', 'VBN'), ('.', '.'), ('we', 'PRP'), ('see', 'VBP'), ('from', 'IN'), ('this', 'DT'), ('figure', 'NN'), ('that', 'WDT'), ('strategy', 'NN'), ('big', 'JJ'), ('is', 'VBZ'), ('always', 'RB'), ('superior', 'JJ'), ('to', 'TO'), ('strategy', 'NN'), ('c', 'NNS'), (',', ','), ('and', 'CC'), ('that', 'DT'), ('strategy', 'NN'), ('bi', 'NN'), ('is', 'VBZ'), ('superior', 'JJ'), ('to', 'TO'), ('strategy', 'NN'), ('c', 'NNS'), ('for', 'IN'), ('all', 'DT'), ('user', 'NN'), ('except', 'IN'), ('user', '$'), ('2.', 'CD'), ('and', 'CC'), (',', ','), ('even', 'RB'), ('in', 'IN'), ('this', 'DT'), ('case', 'NN'), (',', ','), ('the', 'DT'), ('fault', 'NN'), ('seems', 'VBZ'), ('to', 'TO'), ('lie', 'VB'), ('with', 'IN'), ('the', 'DT'), ('basic', 'JJ'), ('strategy', 'NN'), ('and', 'CC'), ('simple', 'JJ'), ('scheduling', 'NN'), ('technique', 'NN'), ('rather', 'RB'), ('than', 'IN'), ('the', 'DT'), ('sleep', 'JJ'), ('multiplier', 'NN'), ('parameter', 'NN'), (',', ','), ('since', 'IN'), ('user', 'NN'), ('2', 'CD'), ('is', 'VBZ'), ('also', 'RB'), ('the', 'DT'), ('only', 'JJ'), ('user', 'NN'), ('for', 'IN'), ('which', 'WDT'), ('the', 'DT'), ('saving', 'NN'), ('from', 'IN'), ('c', 'NN'), ('are', 'VBP'), ('much', 'RB'), ('great', 'JJ'), ('than', 'IN'), ('those', 'DT'), ('from', 'IN'), ('strategy', 'NN'), ('b', 'NN'), ('and', 'CC'), ('bi', 'NN'), ('.', '.'), ('these', 'DT'), ('figure', 'NN'), ('suggest', 'VBP'), ('that', 'IN'), ('even', 'RB'), ('parameter', 'JJR'), ('not', 'RB'), ('tuned', 'VBN'), ('for', 'IN'), ('a', 'DT'), ('specific', 'JJ'), ('workload', 'NN'), ('still', 'RB'), ('yield', 'VB'), ('strategy', 'NN'), ('that', 'IN'), ('in', 'IN'), ('general', 'JJ'), ('save', 'NN'), ('more', 'RBR'), ('processor', 'NN'), ('energy', 'NN'), ('than', 'IN'), ('the', 'DT'), ('current', 'JJ'), ('strategy', 'NN'), ('.', '.'), ('it', 'PRP'), ('is', 'VBZ'), ('also', 'RB'), ('interesting', 'VBG'), ('to', 'TO'), ('note', 'VB'), ('that', 'IN'), ('there', 'EX'), ('is', 'VBZ'), ('a', 'DT'), ('clear', 'JJ'), ('ordering', 'NN'), ('between', 'IN'), ('strategy', 'NN'), ('bi', 'NN'), (',', ','), ('bi', 'NN'), (',', ','), ('and', 'CC'), ('big', 'JJ'), (':', ':'), ('for', 'IN'), ('each', 'DT'), ('user', 'NN'), (',', ','), ('strategy', 'NN'), ('big', 'JJ'), ('saved', 'VBD'), ('more', 'RBR'), ('energy', 'NN'), ('than', 'IN'), ('strategy', 'NN'), ('bi', 'NN'), (',', ','), ('which', 'WDT'), ('saved', 'VBD'), ('more', 'RBR'), ('energy', 'NN'), ('than', 'IN'), ('strategy', 'NN'), ('bi', 'NN'), ('.', '.'), ('we', 'PRP'), ('were', 'VBD'), ('curious', 'JJ'), ('why', 'WRB'), ('strategy', 'NN'), ('c', 'NN'), ('is', 'VBZ'), ('so', 'RB'), ('much', 'JJ'), ('superior', 'NN'), ('to', 'TO'), ('strategy', 'NN'), ('b', 'NN'), ('for', 'IN'), ('user', 'NN'), ('2', 'CD'), (',', ','), ('so', 'IN'), ('we', 'PRP'), ('inspected', 'VBD'), ('the', 'DT'), ('simulation', 'NN'), ('result', 'NN'), ('for', 'IN'), ('that', 'DT'), ('user', 'NN'), ('carefully', 'RB'), ('.', '.'), ('we', 'PRP'), ('found', 'VBD'), ('that', 'IN'), ('the', 'DT'), ('reason', 'NN'), ('strategy', 'NN'), ('c', 'NN'), ('doe', 'VBZ'), ('so', 'RB'), ('much', 'RB'), ('good', 'JJ'), ('than', 'IN'), ('strategy', 'NN'), ('b', 'NN'), ('is', 'VBZ'), ('that', 'IN'), ('in', 'IN'), ('that', 'DT'), ('trace', 'NN'), (',', ','), ('the', 'DT'), ('application', 'NN'), ('finder', 'NN'), ('frequently', 'RB'), ('yield', 'VBN'), ('control', 'NN'), ('requesting', 'VBG'), ('a', 'DT'), ('sleep', 'JJ'), ('time', 'NN'), ('of', 'IN'), ('zero', 'NN'), ('but', 'CC'), ('then', 'RB'), ('performs', 'VBZ'), ('no', 'DT'), ('activity', 'NN'), ('when', 'WRB'), ('it', 'PRP'), ('get', 'VB'), ('control', 'NN'), ('again', 'RB'), (';', ':'), ('indeed', 'RB'), (',', ','), ('there', 'EX'), ('is', 'VBZ'), ('a', 'DT'), ('contiguous', 'JJ'), ('section', 'NN'), ('of', 'IN'), ('the', 'DT'), ('trace', 'NN'), ('lasting', 'NN'), ('over', 'IN'), ('an', 'DT'), ('hour', 'NN'), ('during', 'IN'), ('which', 'WDT'), ('finder', 'VBP'), ('ha', 'NN'), ('this', 'DT'), ('behavior', 'NN'), ('.', '.'), ('the', 'DT'), ('sleep', 'JJ'), ('extension', 'NN'), ('technique', 'NN'), ('doe', 'VBZ'), ('not', 'RB'), ('alleviate', 'VB'), ('this', 'DT'), ('problem', 'NN'), (',', ','), ('since', 'IN'), ('multiplying', 'VBG'), ('the', 'DT'), ('sleep', 'JJ'), ('request', 'NN'), ('of', 'IN'), ('zero', 'CD'), ('by', 'IN'), ('any', 'DT'), ('factor', 'NN'), ('still', 'RB'), ('make', 'VB'), ('it', 'PRP'), ('zero', 'NNP'), ('.', '.'), ('however', 'RB'), (',', ','), ('the', 'DT'), ('greediness', 'NN'), ('technique', 'NN'), ('is', 'VBZ'), ('able', 'JJ'), ('to', 'TO'), ('overcome', 'VB'), ('this', 'DT'), ('problem', 'NN'), (',', ','), ('since', 'IN'), ('this', 'DT'), ('is', 'VBZ'), ('exactly', 'RB'), ('the', 'DT'), ('problem', 'NN'), ('for', 'IN'), ('which', 'WDT'), ('it', 'PRP'), ('wa', 'VBD'), ('designed', 'VBN'), ('.', '.'), ('consequently', 'RB'), (',', ','), ('strategy', 'NN'), ('big', 'JJ'), ('beat', 'NN'), ('strategy', 'NN'), ('c', 'NN'), ('for', 'IN'), ('user', 'JJ'), ('2', 'CD'), (',', ','), ('even', 'RB'), ('though', 'IN'), ('strategy', 'NN'), ('b', 'NN'), (',', ','), ('bi', 'NN'), (',', ','), ('and', 'CC'), ('bi', 'NNS'), ('do', 'VBP'), ('not', 'RB'), ('.', '.'), ('yet', 'RB'), ('another', 'DT'), ('way', 'NN'), ('to', 'TO'), ('see', 'VB'), ('that', 'IN'), ('the', 'DT'), ('basic', 'JJ'), ('strategy', 'NN'), ('with', 'IN'), ('the', 'DT'), ('new', 'JJ'), ('technique', 'NN'), ('is', 'VBZ'), ('effective', 'JJ'), ('even', 'RB'), ('without', 'IN'), ('tuning', 'VBG'), ('the', 'DT'), ('parameter', 'NN'), ('is', 'VBZ'), ('to', 'TO'), ('pick', 'VB'), ('somewhat', 'RB'), ('arbitrary', 'JJ'), ('parameter', 'NN'), ('and', 'CC'), ('note', 'NN'), ('that', 'IN'), ('the', 'DT'), ('energy', 'NN'), ('saving', 'NN'), ('are', 'VBP'), ('still', 'RB'), ('superior', 'JJ'), ('to', 'TO'), ('that', 'DT'), ('of', 'IN'), ('strategy', 'NN'), ('c.', 'NN'), ('for', 'IN'), ('example', 'NN'), (',', ','), ('the', 'DT'), ('parameter', 'NN'), ('setting', 'VBG'), ('we', 'PRP'), ('envisioned', 'VBD'), ('before', 'IN'), ('running', 'VBG'), ('any', 'DT'), ('of', 'IN'), ('these', 'DT'), ('simulation', 'NN'), (',', ','), ('a', 'DT'), ('greediness', 'NN'), ('threshold', 'NN'), ('of', 'IN'), ('5', 'CD'), (',', ','), ('a', 'DT'), ('forced', 'JJ'), ('sleep', 'JJ'), ('period', 'NN'), ('of', 'IN'), ('0.25', 'CD'), ('second', 'JJ'), (',', ','), ('and', 'CC'), ('a', 'DT'), ('sleep', 'JJ'), ('multiplier', 'NN'), ('of', 'IN'), ('1.5', 'CD'), (',', ','), ('would', 'MD'), ('yield', 'VB'), ('a', 'DT'), ('respectable', 'JJ'), ('energy', 'NN'), ('saving', 'NN'), ('of', 'IN'), ('71.70', 'CD'), ('%', 'NN'), ('and', 'CC'), ('a', 'DT'), ('performance', 'NN'), ('impact', 'NN'), ('of', 'IN'), ('2.61', 'CD'), ('%', 'NN'), (',', ','), ('which', 'WDT'), (',', ','), ('compared', 'VBN'), ('to', 'TO'), ('macos', 'VB'), (',', ','), ('trade', 'VB'), ('off', 'RP'), ('a', 'DT'), ('60', 'CD'), ('%', 'NN'), ('decrease', 'NN'), ('in', 'IN'), ('processor', 'NN'), ('energy', 'NN'), ('consumption', 'NN'), ('for', 'IN'), ('a', 'DT'), ('0.8', 'CD'), ('%', 'NN'), ('increase', 'NN'), ('in', 'IN'), ('workload', 'JJ'), ('completion', 'NN'), ('time', 'NN'), ('.', '.'), ('even', 'RB'), ('a', 'DT'), ('conservative', 'JJ'), ('set', 'NN'), ('of', 'IN'), ('parameter', 'NN'), (',', ','), ('namely', 'RB'), ('a', 'DT'), ('greediness', 'NN'), ('threshold', 'NN'), ('of', 'IN'), ('100', 'CD'), (',', ','), ('a', 'DT'), ('forced', 'JJ'), ('sleep', 'JJ'), ('period', 'NN'), ('of', 'IN'), ('0.10', 'CD'), ('second', 'JJ'), (',', ','), ('and', 'CC'), ('a', 'DT'), ('sleep', 'JJ'), ('multiplier', 'NN'), ('of', 'IN'), ('1', 'CD'), (',', ','), ('yield', 'NN'), ('a', 'DT'), ('processor', 'NN'), ('energy', 'NN'), ('saving', 'NN'), ('of', 'IN'), ('62.87', 'CD'), ('%', 'NN'), ('with', 'IN'), ('a', 'DT'), ('performance', 'NN'), ('impact', 'NN'), ('of', 'IN'), ('only', 'RB'), ('1.48', 'CD'), ('%', 'NN'), (',', ','), ('decreasing', 'VBG'), ('processor', 'NN'), ('energy', 'NN'), ('consumption', 'NN'), ('by', 'IN'), ('48', 'CD'), ('%', 'NN'), ('and', 'CC'), ('reducing', 'VBG'), ('workload', 'JJ'), ('completion', 'NN'), ('time', 'NN'), ('by', 'IN'), ('0.4', 'CD'), ('%', 'NN'), ('compared', 'VBN'), ('to', 'TO'), ('strategy', 'NN'), ('c.', 'NN'), ('we', 'PRP'), ('have', 'VBP'), ('seen', 'VBN'), ('that', 'IN'), ('the', 'DT'), ('greediness', 'NN'), ('technique', 'NN'), ('by', 'IN'), ('itself', 'PRP'), ('can', 'MD'), ('be', 'VB'), ('quite', 'RB'), ('effective', 'JJ'), ('even', 'RB'), ('within', 'IN'), ('a', 'DT'), ('broad', 'JJ'), ('range', 'NN'), ('of', 'IN'), ('parameter', 'NN'), ('value', 'NN'), ('.', '.'), ('this', 'DT'), ('suggests', 'VBZ'), ('that', 'IN'), ('process', 'NN'), ('often', 'RB'), ('act', 'JJ'), ('greedily', 'RB'), ('.', '.'), ('in', 'IN'), ('fact', 'NN'), (',', ','), ('using', 'VBG'), ('the', 'DT'), ('ideal', 'JJ'), ('parameter', 'NN'), ('of', 'IN'), ('strategy', 'NN'), ('big', 'JJ'), (',', ','), ('49', 'CD'), ('of', 'IN'), ('63', 'CD'), ('application', 'NN'), ('were', 'VBD'), ('found', 'VBN'), ('to', 'TO'), ('act', 'VB'), ('greedily', 'RB'), ('at', 'IN'), ('some', 'DT'), ('point', 'NN'), ('.', '.'), ('the', 'DT'), ('percent', 'NN'), ('of', 'IN'), ('an', 'DT'), ('application', 'NN'), (\"'s\", 'POS'), ('quantum', 'NN'), ('during', 'IN'), ('which', 'WDT'), ('it', 'PRP'), ('wa', 'VBD'), ('determined', 'VBN'), ('to', 'TO'), ('be', 'VB'), ('acting', 'VBG'), ('greedily', 'RB'), ('varied', 'VBN'), ('widely', 'RB'), ('from', 'IN'), ('one', 'CD'), ('application', 'NN'), ('to', 'TO'), ('another', 'DT'), (',', ','), ('from', 'IN'), ('0.0009', 'CD'), ('%', 'NN'), ('for', 'IN'), ('express', 'NN'), ('modem', 'NN'), ('to', 'TO'), ('93.7', 'CD'), ('%', 'NN'), ('for', 'IN'), ('eworld', 'NN'), ('.', '.'), ('it', 'PRP'), ('is', 'VBZ'), ('especially', 'RB'), ('amusing', 'VBG'), ('that', 'IN'), ('finder', 'NN'), (',', ','), ('the', 'DT'), ('user', 'NN'), ('desktop', 'NN'), ('interface', 'NN'), ('application', 'NN'), ('written', 'VBN'), ('at', 'IN'), ('apple', 'NN'), ('itself', 'PRP'), (',', ','), ('seems', 'VBZ'), ('to', 'TO'), ('lie', 'VB'), ('routinely', 'RB'), ('about', 'IN'), ('it', 'PRP'), ('processing', 'VBG'), ('time', 'NN'), ('need', 'NN'), (',', ','), ('having', 'VBG'), ('been', 'VBN'), ('determined', 'VBN'), ('to', 'TO'), ('be', 'VB'), ('acting', 'VBG'), ('greedily', 'RB'), ('for', 'IN'), ('64.7', 'CD'), ('%', 'NN'), ('of', 'IN'), ('it', 'PRP'), ('quantum', 'VBZ'), ('.', '.'), ('this', 'DT'), ('support', 'NN'), ('our', 'PRP$'), ('suggestion', 'NN'), ('that', 'IN'), ('designer', 'NN'), ('of', 'IN'), ('operating', 'NN'), ('system', 'NN'), ('and', 'CC'), ('application', 'NN'), ('for', 'IN'), ('single-user', 'NN'), ('system', 'NN'), ('are', 'VBP'), ('not', 'RB'), ('generally', 'RB'), ('concerned', 'VBN'), ('with', 'IN'), ('rigorous', 'JJ'), ('management', 'NN'), ('of', 'IN'), ('processor', 'NN'), ('time', 'NN'), ('.', '.'), ('to', 'TO'), ('examine', 'VB'), ('where', 'WRB'), ('the', 'DT'), ('saving', 'NN'), ('and', 'CC'), ('performance', 'NN'), ('impact', 'NN'), ('of', 'IN'), ('a', 'DT'), ('strategy', 'NN'), ('are', 'VBP'), ('coming', 'VBG'), ('from', 'IN'), (',', ','), ('it', 'PRP'), ('is', 'VBZ'), ('useful', 'JJ'), ('to', 'TO'), ('observe', 'VB'), ('what', 'WP'), ('happens', 'VBZ'), ('to', 'TO'), ('different', 'JJ'), ('class', 'NN'), ('of', 'IN'), ('time', 'NN'), ('in', 'IN'), ('the', 'DT'), ('original', 'JJ'), ('trace', 'NN'), ('when', 'WRB'), ('that', 'DT'), ('strategy', 'NN'), ('is', 'VBZ'), ('used', 'VBN'), ('.', '.'), ('some', 'DT'), ('time', 'NN'), ('in', 'IN'), ('the', 'DT'), ('original', 'JJ'), ('trace', 'NN'), ('is', 'VBZ'), ('spent', 'JJ'), ('running', 'VBG'), ('process', 'NN'), (',', ','), ('some', 'DT'), ('is', 'VBZ'), ('spent', 'VBN'), ('running', 'VBG'), ('the', 'DT'), ('scheduler', 'NN'), (',', ','), ('and', 'CC'), ('the', 'DT'), ('rest', 'NN'), ('is', 'VBZ'), ('spent', 'VBN'), ('running', 'VBG'), ('other', 'JJ'), ('os', 'JJ'), ('code', 'NN'), ('.', '.'), ('each', 'DT'), ('of', 'IN'), ('these', 'DT'), ('class', 'NN'), ('of', 'IN'), ('time', 'NN'), ('can', 'MD'), ('be', 'VB'), ('broken', 'VBN'), ('down', 'RP'), ('into', 'IN'), ('useful', 'JJ'), ('and', 'CC'), ('nonuseful', 'JJ'), ('time', 'NN'), ('.', '.'), ('useful', 'JJ'), ('time', 'NN'), ('will', 'MD'), ('always', 'RB'), ('be', 'VB'), ('scheduled', 'VBN'), ('in', 'IN'), ('the', 'DT'), ('simulation', 'NN'), (',', ','), ('but', 'CC'), ('some', 'DT'), ('of', 'IN'), ('it', 'PRP'), ('will', 'MD'), ('be', 'VB'), ('delayed', 'VBN'), ('if', 'IN'), ('the', 'DT'), ('technique', 'NN'), ('simulated', 'VBD'), ('decides', 'NNS'), ('to', 'TO'), ('cycle', 'NN'), ('instead', 'RB'), ('of', 'IN'), ('running', 'VBG'), ('it', 'PRP'), ('.', '.'), ('this', 'DT'), ('delayed', 'JJ'), ('time', 'NN'), ('is', 'VBZ'), ('what', 'WP'), ('contributes', 'VBZ'), ('to', 'TO'), ('performance', 'NN'), ('impact', 'NN'), ('.', '.'), ('some', 'DT'), ('nonuseful', 'JJ'), ('time', 'NN'), ('will', 'MD'), ('be', 'VB'), ('scheduled', 'VBN'), ('by', 'IN'), ('the', 'DT'), ('technique', 'NN'), (',', ','), ('while', 'IN'), ('the', 'DT'), ('rest', 'NN'), ('get', 'NN'), ('skipped', 'VBN'), ('over', 'IN'), ('and', 'CC'), ('contributes', 'NNS'), ('to', 'TO'), ('cycling', 'VBG'), ('time', 'NN'), ('.', '.'), ('table', 'JJ'), ('3', 'CD'), (':', ':'), ('a', 'DT'), ('breakdown', 'NN'), (',', ','), ('for', 'IN'), ('each', 'DT'), ('strategy', 'NN'), (',', ','), ('of', 'IN'), ('what', 'WP'), ('happens', 'VBZ'), ('to', 'TO'), ('the', 'DT'), ('time', 'NN'), ('and', 'CC'), ('quantum', 'VB'), ('originally', 'RB'), ('spent', 'JJ'), ('running', 'VBG'), ('process', 'NN'), (',', ','), ('the', 'DT'), ('scheduler', 'NN'), (',', ','), ('and', 'CC'), ('the', 'DT'), ('operating', 'NN'), ('system', 'NN'), ('.', '.'), ('time', 'NN'), ('and', 'CC'), ('quantum', 'NN'), ('that', 'WDT'), ('are', 'VBP'), ('delayed', 'VBN'), ('and', 'CC'), ('thus', 'RB'), ('contribute', 'VB'), ('to', 'TO'), ('performance', 'NN'), ('impact', 'NN'), ('are', 'VBP'), ('shown', 'VBN'), ('in', 'IN'), ('bold', 'NN'), (',', ','), ('time', 'NN'), ('and', 'CC'), ('quantum', 'NN'), ('that', 'WDT'), ('are', 'VBP'), ('run', 'VBN'), ('on', 'IN'), ('time', 'NN'), ('are', 'VBP'), ('shown', 'VBN'), ('in', 'IN'), ('the', 'DT'), ('standard', 'JJ'), ('font', 'NN'), (',', ','), ('and', 'CC'), ('time', 'NN'), ('and', 'CC'), ('quantum', 'NN'), ('that', 'WDT'), ('are', 'VBP'), ('never', 'RB'), ('run', 'VBN'), ('and', 'CC'), ('thus', 'RB'), ('are', 'VBP'), ('subsumed', 'VBN'), ('by', 'IN'), ('cycling', 'VBG'), ('are', 'VBP'), ('shown', 'VBN'), ('in', 'IN'), ('italic', 'JJ'), ('.', '.'), ('table', 'JJ'), ('3', 'CD'), ('show', 'NN'), ('this', 'DT'), ('breakdown', 'VBN'), ('in', 'IN'), ('time', 'NN'), ('and', 'CC'), ('number', 'NN'), ('of', 'IN'), ('quantum', 'NN'), ('for', 'IN'), ('each', 'DT'), ('strategy', 'NN'), ('.', '.'), ('first', 'RB'), (',', ','), ('let', 'VB'), ('u', 'JJ'), ('compare', 'VB'), ('the', 'DT'), ('source', 'NN'), ('of', 'IN'), ('the', 'DT'), ('energy', 'NN'), ('saving', 'VBG'), ('for', 'IN'), ('each', 'DT'), ('strategy', 'NN'), (';', ':'), ('this', 'DT'), ('involves', 'VBZ'), ('looking', 'VBG'), ('at', 'IN'), ('the', 'DT'), ('italic', 'JJ'), ('figure', 'NN'), ('in', 'IN'), ('table', 'JJ'), ('3.', 'CD'), ('strategy', 'NN'), ('c', 'VB'), ('spends', 'VBZ'), ('4.31', 'CD'), ('hour', 'NN'), ('cycling', 'VBG'), ('instead', 'RB'), ('of', 'IN'), ('idling', 'VBG'), ('in', 'IN'), ('the', 'DT'), ('o', 'NN'), (',', ','), ('1.95', 'CD'), ('hour', 'NN'), ('cycling', 'VBG'), ('instead', 'RB'), ('of', 'IN'), ('performing', 'VBG'), ('nonuseful', 'JJ'), ('process', 'NN'), ('quantum', 'NN'), (',', ','), ('and', 'CC'), ('2.61', 'CD'), ('hour', 'NN'), ('cycling', 'VBG'), ('instead', 'RB'), ('of', 'IN'), ('switching', 'VBG'), ('nonuseful', 'JJ'), ('process', 'NN'), ('quantum', 'NN'), ('in', 'IN'), ('and', 'CC'), ('out', 'IN'), ('.', '.'), ('it', 'PRP'), ('is', 'VBZ'), ('interesting', 'VBG'), ('to', 'TO'), ('note', 'VB'), ('that', 'IN'), ('more', 'JJR'), ('time', 'NN'), ('is', 'VBZ'), ('saved', 'VBN'), ('from', 'IN'), ('not', 'RB'), ('having', 'VBG'), ('to', 'TO'), ('switch', 'VB'), ('process', 'NN'), ('in', 'IN'), ('and', 'CC'), ('out', 'IN'), ('than', 'IN'), ('from', 'IN'), ('actually', 'RB'), ('not', 'RB'), ('running', 'VBG'), ('them', 'PRP'), ('.', '.'), ('this', 'DT'), ('is', 'VBZ'), ('probably', 'RB'), ('because', 'IN'), ('the', 'DT'), ('technique', 'NN'), ('attempt', 'NN'), ('to', 'TO'), ('cycle', 'NN'), ('the', 'DT'), ('processor', 'NN'), ('when', 'WRB'), ('process', 'NN'), ('are', 'VBP'), ('not', 'RB'), ('doing', 'VBG'), ('anything', 'NN'), (',', ','), ('and', 'CC'), ('when', 'WRB'), ('a', 'DT'), ('process', 'NN'), ('is', 'VBZ'), ('not', 'RB'), ('doing', 'VBG'), ('anything', 'NN'), ('it', 'PRP'), ('should', 'MD'), ('be', 'VB'), ('doing', 'VBG'), ('little', 'JJ'), ('besides', 'IN'), ('getting', 'VBG'), ('switched', 'VBN'), ('in', 'IN'), ('and', 'CC'), ('out', 'IN'), ('.', '.'), ('strategy', 'NN'), ('b', 'NN'), ('never', 'RB'), ('cycle', 'NN'), ('instead', 'RB'), ('of', 'IN'), ('running', 'VBG'), ('or', 'CC'), ('scheduling', 'VBG'), ('process', 'NN'), ('quantum', 'NN'), (',', ','), ('but', 'CC'), ('it', 'PRP'), ('make', 'VBP'), ('up', 'RP'), ('for', 'IN'), ('this', 'DT'), ('by', 'IN'), ('always', 'RB'), ('cycling', 'VBG'), ('when', 'WRB'), ('the', 'DT'), ('o', 'NN'), ('would', 'MD'), ('otherwise', 'RB'), ('be', 'VB'), ('idle', 'JJ'), (',', ','), ('9.45', 'CD'), ('hour', 'NN'), ('.', '.'), ('strategy', 'NN'), ('bi', 'NN'), ('and', 'CC'), ('bi', 'NN'), ('cycle', 'NN'), ('even', 'RB'), ('more', 'RBR'), ('because', 'IN'), ('they', 'PRP'), ('can', 'MD'), ('cycle', 'NN'), ('instead', 'RB'), ('of', 'IN'), ('running', 'VBG'), ('or', 'CC'), ('scheduling', 'VBG'), ('process', 'NN'), ('quantum', 'NN'), ('.', '.'), ('indeed', 'RB'), (',', ','), ('even', 'RB'), ('if', 'IN'), ('we', 'PRP'), ('did', 'VBD'), ('not', 'RB'), ('consider', 'VB'), ('idle', 'JJ'), ('time', 'NN'), ('spent', 'VBN'), ('cycling', 'NN'), (',', ','), ('strategy', 'NN'), ('bi', 'NN'), ('and', 'CC'), ('bi', 'NN'), ('still', 'RB'), ('save', 'VB'), ('more', 'RBR'), ('nonuseful', 'JJ'), ('process', 'NN'), ('and', 'CC'), ('scheduler', 'NN'), ('time', 'NN'), ('than', 'IN'), ('strategy', 'NN'), ('c.', 'NN'), ('interestingly', 'RB'), (',', ','), ('the', 'DT'), ('increased', 'VBN'), ('saving', 'VBG'), ('stem', 'NN'), ('from', 'IN'), ('reducing', 'VBG'), ('the', 'DT'), ('amount', 'NN'), ('of', 'IN'), ('time', 'NN'), ('spent', 'VBN'), ('scheduling', 'VBG'), ('nonuseful', 'JJ'), ('process', 'NN'), ('quantum', 'NN'), (',', ','), ('not', 'RB'), ('from', 'IN'), ('reducing', 'VBG'), ('the', 'DT'), ('time', 'NN'), ('spent', 'VBN'), ('running', 'VBG'), ('nonuseful', 'JJ'), ('process', 'NN'), ('quantum', 'NN'), ('.', '.'), ('in', 'IN'), ('fact', 'NN'), (',', ','), ('each', 'DT'), ('of', 'IN'), ('strategy', 'NN'), ('bi', 'NN'), ('and', 'CC'), ('bi', 'NN'), ('spends', 'NNS'), ('longer', 'RBR'), ('running', 'VBG'), ('nonuseful', 'JJ'), ('process', 'NN'), ('quantum', 'NN'), ('than', 'IN'), ('strategy', 'NN'), ('c.', 'VBP'), ('the', 'DT'), ('reason', 'NN'), ('these', 'DT'), ('strategy', 'NN'), ('spend', 'VBP'), ('less', 'JJR'), ('time', 'NN'), ('scheduling', 'VBG'), ('nonuseful', 'JJ'), ('process', 'NN'), ('quantum', 'NN'), ('is', 'VBZ'), ('that', 'IN'), (',', ','), ('a', 'DT'), ('shown', 'VBN'), ('in', 'IN'), ('the', 'DT'), ('table', 'NN'), (',', ','), ('the', 'DT'), ('strategy', 'NN'), ('schedule', 'NN'), ('few', 'JJ'), ('nonuseful', 'JJ'), ('process', 'NN'), ('quantum', 'NN'), (',', ','), ('and', 'CC'), ('few', 'JJ'), ('quantum', 'NN'), ('to', 'TO'), ('schedule', 'VB'), ('mean', 'VB'), ('less', 'JJR'), ('time', 'NN'), ('spent', 'VBN'), ('scheduling', 'VBG'), ('quantum', 'NN'), ('.', '.'), ('so', 'IN'), ('we', 'PRP'), ('see', 'VBP'), ('that', 'IN'), ('the', 'DT'), ('saving', 'VBG'), ('from', 'IN'), ('strategy', 'NN'), ('bi', 'NN'), ('and', 'CC'), ('bi', 'NN'), ('stem', 'NN'), ('not', 'RB'), ('from', 'IN'), ('giving', 'VBG'), ('process', 'NN'), ('le', 'NN'), ('time', 'NN'), ('when', 'WRB'), ('they', 'PRP'), ('are', 'VBP'), ('not', 'RB'), ('doing', 'VBG'), ('useful', 'JJ'), ('work', 'NN'), (',', ','), ('but', 'CC'), ('from', 'IN'), ('switching', 'VBG'), ('them', 'PRP'), ('in', 'IN'), ('and', 'CC'), ('out', 'IN'), ('less', 'JJR'), ('often', 'RB'), ('when', 'WRB'), ('they', 'PRP'), ('are', 'VBP'), ('not', 'RB'), ('doing', 'VBG'), ('useful', 'JJ'), ('work', 'NN'), (',', ','), ('thus', 'RB'), ('saving', 'VBG'), ('time', 'NN'), ('associated', 'VBN'), ('with', 'IN'), ('process', 'NN'), ('switching', 'VBG'), ('.', '.'), ('on', 'IN'), ('the', 'DT'), ('other', 'JJ'), ('hand', 'NN'), (',', ','), ('strategy', 'NN'), ('big', 'JJ'), ('is', 'VBZ'), ('superior', 'JJ'), ('to', 'TO'), ('strategy', 'NN'), ('c', 'NNS'), ('in', 'IN'), ('it', 'PRP'), ('conversion', 'NN'), ('of', 'IN'), ('all', 'DT'), ('type', 'NN'), ('of', 'IN'), ('nonuseful', 'JJ'), ('time', 'NN'), ('.', '.'), ('so', 'RB'), (',', ','), ('the', 'DT'), ('saving', 'VBG'), ('from', 'IN'), ('strategy', 'NN'), ('big', 'JJ'), ('stem', 'NN'), ('both', 'DT'), ('from', 'IN'), ('giving', 'VBG'), ('process', 'NN'), ('control', 'NN'), ('le', 'NN'), ('often', 'RB'), ('when', 'WRB'), ('they', 'PRP'), ('are', 'VBP'), ('not', 'RB'), ('busy', 'JJ'), ('and', 'CC'), ('from', 'IN'), ('giving', 'VBG'), ('them', 'PRP'), ('less', 'JJR'), ('time', 'NN'), ('to', 'TO'), ('run', 'VB'), ('useless', 'JJ'), ('task', 'NN'), ('.', '.'), ('table', 'JJ'), ('3', 'CD'), ('also', 'RB'), ('allows', 'VBZ'), ('u', 'JJ'), ('to', 'TO'), ('compare', 'VB'), ('the', 'DT'), ('source', 'NN'), ('of', 'IN'), ('the', 'DT'), ('performance', 'NN'), ('impact', 'NN'), ('in', 'IN'), ('each', 'DT'), ('strategy', 'NN'), (';', ':'), ('this', 'DT'), ('involves', 'VBZ'), ('looking', 'VBG'), ('at', 'IN'), ('the', 'DT'), ('bold', 'JJ'), ('number', 'NN'), ('.', '.'), ('we', 'PRP'), ('see', 'VBP'), ('that', 'IN'), ('for', 'IN'), ('strategy', 'NN'), ('c', 'NN'), (',', ','), ('about', 'IN'), ('half', 'NN'), ('of', 'IN'), ('the', 'DT'), ('performance', 'NN'), ('impact', 'NN'), ('is', 'VBZ'), ('due', 'JJ'), ('to', 'TO'), ('delaying', 'VBG'), ('the', 'DT'), ('running', 'NN'), ('of', 'IN'), ('useful', 'JJ'), ('process', 'NN'), ('quantum', 'NN'), ('and', 'CC'), ('half', 'NN'), ('is', 'VBZ'), ('due', 'JJ'), ('to', 'TO'), ('delaying', 'VBG'), ('the', 'DT'), ('switching', 'NN'), ('of', 'IN'), ('those', 'DT'), ('quantum', 'NNS'), ('.', '.'), ('on', 'IN'), ('the', 'DT'), ('other', 'JJ'), ('hand', 'NN'), (',', ','), ('strategy', 'NN'), ('bi', 'NN'), ('delay', 'NN'), ('about', 'IN'), ('the', 'DT'), ('same', 'JJ'), ('amount', 'NN'), ('of', 'IN'), ('useful', 'JJ'), ('process', 'NN'), ('run', 'NN'), ('time', 'NN'), (',', ','), ('but', 'CC'), ('far', 'RB'), ('less', 'JJR'), ('time', 'NN'), ('spent', 'JJ'), ('switching', 'VBG'), ('process', 'NN'), ('quantum', 'NN'), ('.', '.'), ('this', 'DT'), ('is', 'VBZ'), ('explained', 'VBN'), ('by', 'IN'), ('the', 'DT'), ('fact', 'NN'), ('that', 'IN'), ('it', 'PRP'), ('delay', 'VB'), ('a', 'DT'), ('much', 'RB'), ('low', 'JJ'), ('absolute', 'JJ'), ('number', 'NN'), ('of', 'IN'), ('useful', 'JJ'), ('process', 'NN'), ('quantum', 'NN'), ('.', '.'), ('the', 'DT'), ('low', 'JJ'), ('amount', 'NN'), ('of', 'IN'), ('delayed', 'JJ'), ('scheduler', 'NN'), ('time', 'NN'), ('in', 'IN'), ('strategy', 'NN'), ('bi', 'NN'), ('extends', 'VBZ'), ('to', 'TO'), ('big', 'JJ'), ('and', 'CC'), ('bi', 'NN'), (',', ','), ('allowing', 'VBG'), ('them', 'PRP'), ('to', 'TO'), ('have', 'VB'), ('a', 'DT'), ('great', 'JJ'), ('amount', 'NN'), ('of', 'IN'), ('delayed', 'JJ'), ('process', 'NN'), ('quantum', 'NN'), ('and', 'CC'), ('os', 'JJ'), ('time', 'NN'), ('while', 'IN'), ('still', 'RB'), ('maintaining', 'VBG'), ('the', 'DT'), ('same', 'JJ'), ('performance', 'NN'), ('impact', 'NN'), ('a', 'DT'), ('strategy', 'NN'), ('c.', 'VBZ'), ('our', 'PRP$'), ('main', 'JJ'), ('observation', 'NN'), (',', ','), ('then', 'RB'), (',', ','), ('is', 'VBZ'), ('that', 'IN'), ('strategy', 'NN'), ('bi', 'NN'), (',', ','), ('big', 'JJ'), (',', ','), ('and', 'CC'), ('bi', 'VB'), ('delay', 'NN'), ('far', 'RB'), ('few', 'JJ'), ('useful', 'JJ'), ('quantum', 'NN'), ('than', 'IN'), ('strategy', 'NN'), ('c', 'VB'), ('even', 'RB'), ('though', 'IN'), ('by', 'IN'), ('design', 'NN'), ('the', 'DT'), ('latter', 'JJ'), ('two', 'CD'), ('delay', 'VBP'), ('the', 'DT'), ('same', 'JJ'), ('amount', 'NN'), ('of', 'IN'), ('to-', 'NN'), ('in', 'IN'), ('our', 'PRP$'), ('simulation', 'NN'), (',', ','), ('we', 'PRP'), ('found', 'VBD'), ('the', 'DT'), ('following', 'NN'), ('.', '.'), ('the', 'DT'), ('basic', 'JJ'), ('strategy', 'NN'), ('by', 'IN'), ('itself', 'PRP'), ('save', 'VBP'), ('barely', 'RB'), ('more', 'RBR'), ('energy', 'NN'), ('than', 'IN'), ('the', 'DT'), ('current', 'JJ'), ('macos', 'NN'), ('strategy', 'NN'), (',', ','), ('although', 'IN'), ('it', 'PRP'), ('doe', 'VBZ'), ('have', 'VBP'), ('less', 'JJR'), ('performance', 'NN'), ('impact', 'NN'), ('.', '.'), ('adding', 'VBG'), ('the', 'DT'), ('simple', 'JJ'), ('scheduling', 'NN'), ('technique', 'NN'), ('allows', 'VBZ'), ('the', 'DT'), ('basic', 'JJ'), ('strategy', 'NN'), ('to', 'TO'), ('reduce', 'VB'), ('energy', 'NN'), ('consumption', 'NN'), ('by', 'IN'), ('26', 'CD'), ('%', 'NN'), ('and', 'CC'), ('to', 'TO'), ('reduce', 'VB'), ('workload', 'NN'), ('completion', 'NN'), ('time', 'NN'), ('by', 'IN'), ('0.7', 'CD'), ('%', 'NN'), ('compared', 'VBN'), ('to', 'TO'), ('the', 'DT'), ('current', 'JJ'), ('macos', 'NN'), ('strategy', 'NN'), ('.', '.'), ('adding', 'VBG'), ('further', 'JJ'), ('technique', 'NN'), ('for', 'IN'), ('managing', 'VBG'), ('processor', 'NN'), ('time', 'NN'), ('allows', 'VBZ'), ('the', 'DT'), ('basic', 'JJ'), ('strategy', 'NN'), ('to', 'TO'), ('even', 'RB'), ('further', 'RBR'), ('surpass', 'VBP'), ('the', 'DT'), ('current', 'JJ'), ('macos', 'NN'), ('strategy', 'NN'), ('in', 'IN'), ('energy', 'NN'), ('saving', 'NN'), ('for', 'IN'), ('the', 'DT'), ('same', 'JJ'), ('level', 'NN'), ('of', 'IN'), ('performance', 'NN'), ('impact', 'NN'), ('.', '.'), ('using', 'VBG'), ('the', 'DT'), ('sleep', 'JJ'), ('extension', 'NN'), ('technique', 'NN'), ('allows', 'VBZ'), ('32', 'CD'), ('%', 'NN'), ('less', 'JJR'), ('processor', 'JJ'), ('energy', 'NN'), ('consumption', 'NN'), (',', ','), ('and', 'CC'), ('using', 'VBG'), ('the', 'DT'), ('greediness', 'NN'), ('technique', 'NN'), ('allows', 'VBZ'), ('53', 'CD'), ('%', 'NN'), ('less', 'JJR'), ('processor', 'JJ'), ('energy', 'NN'), ('consumption', 'NN'), ('.', '.'), ('in', 'IN'), ('all', 'DT'), ('case', 'NN'), (',', ','), ('the', 'DT'), ('absolute', 'JJ'), ('level', 'NN'), ('of', 'IN'), ('performance', 'NN'), ('impact', 'NN'), ('is', 'VBZ'), ('very', 'RB'), ('low', 'JJ'), ('.', '.'), ('note', 'NN'), (',', ','), ('however', 'RB'), (',', ','), ('that', 'IN'), ('at', 'IN'), ('best', 'JJS'), ('we', 'PRP'), ('get', 'VBP'), ('about', 'IN'), ('66', 'CD'), ('%', 'NN'), ('absolute', 'JJ'), ('energy', 'NN'), ('saving', 'NN'), (',', ','), ('compared', 'VBN'), ('to', 'TO'), ('the', 'DT'), ('approximately', 'RB'), ('82', 'CD'), ('%', 'NN'), ('that', 'WDT'), ('would', 'MD'), ('be', 'VB'), ('available', 'JJ'), ('with', 'IN'), ('optimal', 'JJ'), ('power', 'NN'), ('reduction', 'NN'), ('.', '.'), ('our', 'PRP$'), ('simulation', 'NN'), ('suggest', 'VBP'), ('that', 'IN'), ('although', 'IN'), ('both', 'DT'), ('the', 'DT'), ('greediness', 'NN'), ('technique', 'NN'), ('and', 'CC'), ('the', 'DT'), ('sleep', 'JJ'), ('extension', 'NN'), ('technique', 'NN'), ('are', 'VBP'), ('helpful', 'JJ'), ('in', 'IN'), ('increasing', 'VBG'), ('the', 'DT'), ('saving', 'VBG'), ('attainable', 'JJ'), ('from', 'IN'), ('the', 'DT'), ('basic', 'JJ'), ('strategy', 'NN'), ('with', 'IN'), ('the', 'DT'), ('simple', 'JJ'), ('scheduling', 'NN'), ('technique', 'NN'), (',', ','), ('the', 'DT'), ('greediness', 'NN'), ('technique', 'NN'), ('doe', 'NN'), ('this', 'DT'), ('job', 'NN'), ('better', 'RBR'), ('than', 'IN'), ('the', 'DT'), ('simple', 'JJ'), ('scheduling', 'NN'), ('technique', 'NN'), ('.', '.'), ('furthermore', 'RB'), (',', ','), ('when', 'WRB'), ('attempting', 'VBG'), ('to', 'TO'), ('achieve', 'VB'), ('the', 'DT'), ('same', 'JJ'), ('performance', 'NN'), ('impact', 'NN'), ('the', 'DT'), ('current', 'JJ'), ('macos', 'NN'), ('provides', 'VBZ'), (',', ','), ('it', 'PRP'), ('is', 'VBZ'), ('not', 'RB'), ('worthwhile', 'JJ'), ('to', 'TO'), ('use', 'VB'), ('the', 'DT'), ('sleep', 'JJ'), ('extension', 'NN'), ('technique', 'NN'), ('if', 'IN'), ('one', 'CD'), ('is', 'VBZ'), ('already', 'RB'), ('using', 'VBG'), ('the', 'DT'), ('greediness', 'NN'), ('technique', 'NN'), ('.', '.'), ('the', 'DT'), ('reason', 'NN'), ('for', 'IN'), ('this', 'DT'), ('is', 'VBZ'), ('that', 'IN'), ('the', 'DT'), ('cost', 'NN'), ('in', 'IN'), ('performance', 'NN'), ('impact', 'NN'), ('of', 'IN'), ('an', 'DT'), ('increase', 'NN'), ('in', 'IN'), ('energy', 'NN'), ('saving', 'NN'), ('is', 'VBZ'), ('great', 'JJ'), ('for', 'IN'), ('the', 'DT'), ('sleep', 'JJ'), ('extension', 'NN'), ('technique', 'NN'), ('than', 'IN'), ('for', 'IN'), ('the', 'DT'), ('greediness', 'NN'), ('technique', 'NN'), ('.', '.'), ('in', 'IN'), ('other', 'JJ'), ('word', 'NN'), (',', ','), ('adjusting', 'VBG'), ('the', 'DT'), ('parameter', 'NN'), ('of', 'IN'), ('any', 'DT'), ('technique', 'NN'), ('to', 'TO'), ('improve', 'VB'), ('it', 'PRP'), ('energy', 'NN'), ('saving', 'VBG'), ('will', 'MD'), ('necessarily', 'RB'), ('cause', 'VB'), ('it', 'PRP'), ('to', 'TO'), ('cycle', 'NN'), ('more', 'RBR'), ('often', 'RB'), ('when', 'WRB'), ('the', 'DT'), ('processor', 'NN'), ('is', 'VBZ'), ('doing', 'VBG'), ('useful', 'JJ'), ('work', 'NN'), ('and', 'CC'), ('thus', 'RB'), ('increase', 'VB'), ('performance', 'NN'), ('impact', 'NN'), ('.', '.'), ('it', 'PRP'), ('happens', 'VBZ'), ('that', 'IN'), ('this', 'DT'), ('effect', 'NN'), ('is', 'VBZ'), ('more', 'RBR'), ('pronounced', 'JJ'), ('for', 'IN'), ('the', 'DT'), ('sleep', 'JJ'), ('extension', 'NN'), ('technique', 'NN'), ('than', 'IN'), ('for', 'IN'), ('the', 'DT'), ('greediness', 'NN'), ('technique', 'NN'), (',', ','), ('at', 'IN'), ('least', 'JJS'), ('for', 'IN'), ('the', 'DT'), ('low', 'JJ'), ('performance', 'NN'), ('impact', 'NN'), ('regime', 'NN'), ('in', 'IN'), ('which', 'WDT'), ('we', 'PRP'), ('are', 'VBP'), ('interested', 'JJ'), ('.', '.'), ('besides', 'IN'), ('this', 'DT'), ('difference', 'NN'), ('between', 'IN'), ('the', 'DT'), ('two', 'CD'), ('technique', 'NN'), (',', ','), ('another', 'DT'), ('reason', 'NN'), ('to', 'TO'), ('not', 'RB'), ('use', 'VB'), ('the', 'DT'), ('sleep', 'JJ'), ('extension', 'NN'), ('technique', 'NN'), ('is', 'VBZ'), ('that', 'IN'), ('it', 'PRP'), ('is', 'VBZ'), ('quite', 'RB'), ('possible', 'JJ'), ('that', 'IN'), ('extending', 'VBG'), ('real-time', 'JJ'), ('sleep', 'JJ'), ('time', 'NN'), ('will', 'MD'), ('produce', 'VB'), ('undesirable', 'JJ'), ('effect', 'NN'), ('in', 'IN'), ('term', 'NN'), ('of', 'IN'), ('system', 'NN'), ('performance', 'NN'), ('or', 'CC'), ('functionality', 'NN'), ('.', '.'), ('analysis', 'NN'), ('of', 'IN'), ('the', 'DT'), ('sensitivity', 'NN'), ('of', 'IN'), ('the', 'DT'), ('technique', 'NN'), ('to', 'TO'), ('change', 'VB'), ('in', 'IN'), ('parameter', 'NN'), ('setting', 'NN'), ('and', 'CC'), ('workload', 'NN'), ('suggests', 'VBZ'), ('that', 'IN'), ('ideal', 'JJ'), ('parameter', 'NN'), ('setting', 'NN'), ('is', 'VBZ'), ('not', 'RB'), ('necessary', 'JJ'), ('to', 'TO'), ('the', 'DT'), ('consistent', 'JJ'), ('functioning', 'NN'), ('of', 'IN'), ('the', 'DT'), ('technique', 'NN'), ('.', '.'), ('thus', 'RB'), (',', ','), ('we', 'PRP'), ('expect', 'VBP'), ('the', 'DT'), ('technique', 'NN'), ('to', 'TO'), ('be', 'VB'), ('successful', 'JJ'), ('with', 'IN'), ('even', 'RB'), ('naive', 'JJ'), ('parameter-setting', 'NN'), ('by', 'IN'), ('the', 'DT'), ('operating', 'NN'), ('system', 'NN'), ('or', 'CC'), ('user', 'NN'), ('.', '.'), ('however', 'RB'), (',', ','), ('one', 'CD'), ('anomalous', 'JJ'), ('case', 'NN'), (',', ','), ('user', 'RB'), ('2', 'CD'), (',', ','), ('point', 'NN'), ('out', 'RP'), ('the', 'DT'), ('vulnerability', 'NN'), ('of', 'IN'), ('the', 'DT'), ('basic', 'JJ'), ('strategy', 'NN'), ('to', 'TO'), ('poor', 'JJ'), ('application', 'NN'), ('behavior', 'NN'), (',', ','), ('suggesting', 'VBG'), ('that', 'IN'), ('the', 'DT'), ('greediness', 'NN'), ('technique', 'NN'), ('or', 'CC'), ('something', 'NN'), ('like', 'IN'), ('it', 'PRP'), ('should', 'MD'), ('always', 'RB'), ('accompany', 'VB'), ('the', 'DT'), ('basic', 'JJ'), ('strategy', 'NN'), ('.', '.'), ('in', 'IN'), ('this', 'DT'), ('example', 'NN'), (',', ','), ('based', 'VBN'), ('on', 'IN'), ('the', 'DT'), ('duo', 'NN'), ('280c', 'CD'), (',', ','), ('turning', 'VBG'), ('off', 'RP'), ('the', 'DT'), ('processor', 'NN'), ('save', 'VBP'), ('3.74', 'CD'), ('w', 'NNS'), (',', ','), ('while', 'IN'), ('the', 'DT'), ('component', 'NN'), ('that', 'WDT'), ('remain', 'VBP'), ('on', 'IN'), ('consume', 'NN'), (',', ','), ('on', 'IN'), ('average', 'NN'), (',', ','), ('5.65', 'CD'), ('w', 'NN'), (',', ','), ('given', 'VBN'), ('current', 'JJ'), ('power', 'NN'), ('management', 'NN'), ('technique', 'NN'), ('.', '.'), ('note', 'NN'), ('that', 'IN'), ('we', 'PRP'), ('are', 'VBP'), ('assuming', 'VBG'), ('that', 'IN'), ('during', 'IN'), ('extra', 'JJ'), ('time', 'NN'), ('spent', 'VBN'), ('with', 'IN'), ('the', 'DT'), ('processor', 'NN'), ('on', 'IN'), (',', ','), ('other', 'JJ'), ('component', 'NN'), ('are', 'VBP'), (',', ','), ('on', 'IN'), ('average', 'NN'), (',', ','), ('at', 'IN'), ('their', 'PRP$'), ('average', 'JJ'), ('power', 'NN'), ('level', 'NN'), ('given', 'VBN'), ('current', 'JJ'), ('power', 'NN'), ('management', 'NN'), ('technique', 'NN'), ('.', '.'), ('the', 'DT'), ('bi', 'NN'), ('strategy', 'NN'), (',', ','), ('with', 'IN'), ('it', 'PRP'), ('processor', 'VBZ'), ('energy', 'NN'), ('saving', 'NN'), ('of', 'IN'), ('51.72', 'CD'), ('%', 'NN'), ('and', 'CC'), ('same', 'JJ'), ('performance', 'NN'), ('impact', 'NN'), (',', ','), ('would', 'MD'), ('make', 'VB'), ('average', 'JJ'), ('total', 'JJ'), ('power', 'NN'), ('consumption', 'NN'), ('7.42', 'CD'), ('w', 'NN'), (',', ','), ('yielding', 'VBG'), ('a', 'DT'), ('power', 'NN'), ('saving', 'NN'), ('of', 'IN'), ('10.3', 'CD'), ('%', 'NN'), ('and', 'CC'), ('battery', 'NN'), ('lifetime', 'JJ'), ('increase', 'NN'), ('of', 'IN'), ('11.5', 'CD'), ('%', 'NN'), ('compared', 'VBN'), ('to', 'TO'), ('strategy', 'NN'), ('c.', 'VB'), ('note', 'NN'), ('that', 'IN'), ('all', 'PDT'), ('these', 'DT'), ('figure', 'NN'), ('are', 'VBP'), ('only', 'RB'), ('applicable', 'JJ'), ('to', 'TO'), ('the', 'DT'), ('workload', 'NN'), ('studied', 'VBD'), ('here', 'RB'), (',', ','), ('i.e', 'NN'), ('.', '.'), ('it', 'PRP'), ('is', 'VBZ'), ('unclear', 'JJ'), ('how', 'WRB'), ('much', 'RB'), ('more', 'RBR'), ('or', 'CC'), ('le', 'JJ'), ('effective', 'JJ'), ('these', 'DT'), ('method', 'NNS'), ('would', 'MD'), ('be', 'VB'), ('for', 'IN'), ('some', 'DT'), ('other', 'JJ'), ('workload', 'NN'), (';', ':'), ('for', 'IN'), ('instance', 'NN'), (',', ','), ('a', 'DT'), ('previous', 'JJ'), ('study', 'NN'), ('with', 'IN'), ('a', 'DT'), ('different', 'JJ'), ('workload', 'NN'), ('found', 'VBD'), ('that', 'IN'), ('48.1', 'CD'), ('%', 'NN'), ('of', 'IN'), ('processor', 'NN'), ('power', 'NN'), ('wa', 'NN'), ('saved', 'VBN'), ('by', 'IN'), ('the', 'DT'), ('current', 'JJ'), ('macos', 'NN'), ('strategy', 'NN'), ('.', '.'), ('even', 'RB'), ('within', 'IN'), ('the', 'DT'), ('workload', 'NN'), ('studied', 'VBD'), ('here', 'RB'), (',', ','), ('we', 'PRP'), ('have', 'VBP'), ('seen', 'VBN'), ('that', 'IN'), ('the', 'DT'), ('saving', 'VBG'), ('from', 'IN'), ('each', 'DT'), ('strategy', 'NN'), ('varies', 'VBZ'), ('greatly', 'RB'), ('from', 'IN'), ('one', 'CD'), ('user', 'NN'), ('to', 'TO'), ('another', 'DT'), ('.', '.'), ('we', 'PRP'), ('believe', 'VBP'), ('that', 'IN'), ('even', 'RB'), ('though', 'IN'), ('our', 'PRP$'), ('simulation', 'NN'), ('were', 'VBD'), ('performed', 'VBN'), ('on', 'IN'), ('macos', 'NN'), ('trace', 'NN'), (',', ','), ('our', 'PRP$'), ('technique', 'NN'), ('are', 'VBP'), ('generally', 'RB'), ('applicable', 'JJ'), ('to', 'TO'), ('other', 'JJ'), ('single-user', 'JJ'), ('operating', 'NN'), ('system', 'NN'), ('.', '.'), ('for', 'IN'), ('example', 'NN'), (',', ','), ('microsoft', 'FW'), ('window', 'NN'), ('essentially', 'RB'), ('us', 'PRP'), ('the', 'DT'), ('basic', 'JJ'), ('strategy', 'NN'), ('with', 'IN'), ('the', 'DT'), ('simple', 'JJ'), ('scheduling', 'NN'), ('technique', 'NN'), ('.', '.'), ('however', 'RB'), (',', ','), ('it', 'PRP'), ('make', 'VBP'), ('no', 'DT'), ('attempt', 'NN'), ('to', 'TO'), ('police', 'VB'), ('process', 'NN'), ('that', 'WDT'), ('make', 'VBP'), ('unfair', 'JJ'), ('processor', 'NN'), ('time', 'NN'), ('request', 'NN'), (';', ':'), ('in', 'IN'), ('fact', 'NN'), (',', ','), ('one', 'CD'), ('recognized', 'VBN'), ('problem', 'NN'), ('with', 'IN'), ('it', 'PRP'), ('power', 'NN'), ('management', 'NN'), ('is', 'VBZ'), ('that', 'IN'), ('if', 'IN'), ('a', 'DT'), ('single', 'JJ'), ('process', 'NN'), ('request', 'NN'), ('event', 'NN'), ('using', 'VBG'), ('peekmessage', 'NN'), ('rather', 'RB'), ('than', 'IN'), ('getmessage', 'NN'), ('or', 'CC'), ('waitmessage', 'NN'), (',', ','), ('then', 'RB'), ('processor', 'VBZ'), ('power', 'NN'), ('management', 'NN'), ('can', 'MD'), ('not', 'RB'), ('take', 'VB'), ('place', 'NN'), ('.', '.'), ('this', 'DT'), ('problem', 'NN'), ('is', 'VBZ'), ('exactly', 'RB'), ('the', 'DT'), ('sort', 'NN'), ('that', 'IN'), ('the', 'DT'), ('greediness', 'NN'), ('technique', 'NN'), ('wa', 'NN'), ('designed', 'VBN'), ('to', 'TO'), ('alleviate', 'VB'), (',', ','), ('so', 'IN'), ('we', 'PRP'), ('may', 'MD'), ('find', 'VB'), ('that', 'IN'), (',', ','), ('a', 'DT'), ('we', 'PRP'), ('demonstrated', 'VBD'), ('for', 'IN'), ('the', 'DT'), ('macos', 'NN'), (',', ','), ('the', 'DT'), ('effectiveness', 'NN'), ('of', 'IN'), ('the', 'DT'), ('basic', 'JJ'), ('strategy', 'NN'), ('is', 'VBZ'), ('greatly', 'RB'), ('improved', 'VBN'), ('by', 'IN'), ('the', 'DT'), ('use', 'NN'), ('of', 'IN'), ('such', 'JJ'), ('a', 'DT'), ('technique', 'NN'), ('.', '.'), ('we', 'PRP'), ('would', 'MD'), ('like', 'VB'), ('to', 'TO'), ('see', 'VB'), ('the', 'DT'), ('work', 'NN'), ('described', 'VBD'), ('here', 'RB'), ('continued', 'VBN'), ('in', 'IN'), ('several', 'JJ'), ('way', 'NN'), ('.', '.'), ('first', 'RB'), (',', ','), ('we', 'PRP'), ('would', 'MD'), ('like', 'VB'), ('to', 'TO'), ('actually', 'RB'), ('implement', 'VB'), ('our', 'PRP$'), ('proposed', 'VBN'), ('strategy', 'NN'), ('.', '.'), ('second', 'JJ'), (',', ','), ('we', 'PRP'), ('would', 'MD'), ('like', 'VB'), ('to', 'TO'), ('collect', 'VB'), ('additional', 'JJ'), ('trace', 'NN'), (',', ','), ('so', 'IN'), ('that', 'IN'), ('the', 'DT'), ('effectiveness', 'NN'), ('of', 'IN'), ('our', 'PRP$'), ('technique', 'NN'), ('over', 'IN'), ('a', 'DT'), ('large', 'JJ'), ('variety', 'NN'), ('of', 'IN'), ('user', 'NN'), ('and', 'CC'), ('workload', 'NN'), ('can', 'MD'), ('be', 'VB'), ('established', 'VBN'), (',', ','), ('so', 'IN'), ('that', 'IN'), ('we', 'PRP'), ('can', 'MD'), ('better', 'VB'), ('select', 'JJ'), ('parameter', 'NN'), ('value', 'NN'), (',', ','), ('and', 'CC'), ('so', 'RB'), ('that', 'IN'), ('we', 'PRP'), ('can', 'MD'), ('determine', 'VB'), ('if', 'IN'), ('dynamic', 'JJ'), ('variation', 'NN'), ('of', 'IN'), ('parameter', 'NN'), ('value', 'NN'), ('is', 'VBZ'), ('useful', 'JJ'), ('.', '.'), ('in', 'IN'), ('particular', 'JJ'), (',', ','), ('we', 'PRP'), ('want', 'VBP'), ('to', 'TO'), ('obtain', 'VB'), ('trace', 'NN'), ('from', 'IN'), ('different', 'JJ'), ('type', 'NN'), ('of', 'IN'), ('user', 'JJ'), ('environment', 'NN'), (';', ':'), ('our', 'PRP$'), ('current', 'JJ'), ('set', 'NN'), ('of', 'IN'), ('trace', 'NN'), ('is', 'VBZ'), ('rather', 'RB'), ('limited', 'VBN'), ('in', 'IN'), ('this', 'DT'), ('respect', 'NN'), ('.', '.'), ('third', 'JJ'), (',', ','), ('we', 'PRP'), ('would', 'MD'), ('like', 'VB'), ('to', 'TO'), ('see', 'VB'), ('if', 'IN'), ('our', 'PRP$'), ('power-saving', 'NN'), ('technique', 'NN'), ('are', 'VBP'), ('applicable', 'JJ'), ('in', 'IN'), ('practice', 'NN'), ('to', 'TO'), ('other', 'JJ'), ('single-user', 'JJ'), ('operating', 'NN'), ('system', 'NN'), ('.', '.'), ('finally', 'RB'), (',', ','), ('we', 'PRP'), ('do', 'VBP'), ('not', 'RB'), ('believe', 'VB'), ('that', 'IN'), ('we', 'PRP'), ('have', 'VBP'), ('exhausted', 'VBN'), ('the', 'DT'), ('possibility', 'NN'), ('for', 'IN'), ('software', 'NN'), ('strategy', 'NN'), ('to', 'TO'), ('put', 'VB'), ('the', 'DT'), ('cpu', 'NN'), ('into', 'IN'), ('power', 'NN'), ('saving', 'VBG'), ('mode', 'NN'), (';', ':'), ('our', 'PRP$'), ('work', 'NN'), ('to', 'TO'), ('date', 'NN'), ('ha', 'NN'), ('not', 'RB'), (',', ','), ('for', 'IN'), ('example', 'NN'), (',', ','), ('considered', 'VBN'), ('system', 'NN'), ('in', 'IN'), ('which', 'WDT'), ('the', 'DT'), ('clock', 'NN'), ('rate', 'NN'), ('and', 'CC'), ('voltage', 'NN'), ('can', 'MD'), ('be', 'VB'), ('varied', 'VBN'), ('simultaneously', 'RB'), ('and', 'CC'), ('dynamically', 'RB'), ('.', '.'), ('we', 'PRP'), ('also', 'RB'), ('do', 'VBP'), ('not', 'RB'), ('believe', 'VB'), ('that', 'IN'), ('we', 'PRP'), ('have', 'VBP'), ('found', 'VBN'), ('or', 'CC'), ('used', 'VBN'), ('all', 'DT'), ('of', 'IN'), ('the', 'DT'), ('information', 'NN'), ('useful', 'JJ'), ('in', 'IN'), ('predicting', 'VBG'), ('``', '``'), ('useless', 'JJ'), (\"''\", \"''\"), ('quantum', 'NN'), ('.', '.'), ('at', 'IN'), ('best', 'JJS'), (',', ','), ('we', 'PRP'), ('save', 'VBP'), ('around', 'RB'), ('66', 'CD'), ('%', 'NN'), ('of', 'IN'), ('the', 'DT'), ('cpu', 'NN'), ('energy', 'NN'), (',', ','), ('compared', 'VBN'), ('to', 'TO'), ('a', 'DT'), ('theoretical', 'JJ'), ('optimum', 'NN'), ('of', 'IN'), ('82', 'CD'), ('%', 'NN'), ('.', '.'), ('reducing', 'VBG'), ('the', 'DT'), ('power', 'NN'), ('consumption', 'NN'), ('of', 'IN'), ('computer', 'NN'), ('system', 'NN'), ('is', 'VBZ'), ('becoming', 'VBG'), ('an', 'DT'), ('important', 'JJ'), ('factor', 'NN'), ('in', 'IN'), ('their', 'PRP$'), ('design', 'NN'), (',', ','), ('especially', 'RB'), ('in', 'IN'), ('the', 'DT'), ('case', 'NN'), ('of', 'IN'), ('portable', 'JJ'), ('computer', 'NN'), ('.', '.'), ('an', 'DT'), ('important', 'JJ'), ('component', 'NN'), ('for', 'IN'), ('power', 'NN'), ('management', 'NN'), ('is', 'VBZ'), ('the', 'DT'), ('processor', 'NN'), (',', ','), ('a', 'DT'), ('it', 'PRP'), ('account', 'NN'), ('for', 'IN'), ('a', 'DT'), ('large', 'JJ'), ('percentage', 'NN'), ('of', 'IN'), ('total', 'JJ'), ('power', 'NN'), ('.', '.'), ('obviously', 'RB'), (',', ','), ('the', 'DT'), ('cpu', 'NN'), ('can', 'MD'), ('be', 'VB'), ('turned', 'VBN'), ('off', 'RP'), ('when', 'WRB'), ('it', 'PRP'), ('is', 'VBZ'), ('inactive', 'JJ'), (';', ':'), ('in', 'IN'), ('some', 'DT'), ('operating', 'NN'), ('system', 'NN'), (',', ','), ('however', 'RB'), (',', ','), ('such', 'PDT'), ('a', 'DT'), ('macos', 'NN'), (',', ','), ('the', 'DT'), ('cpu', 'NN'), ('is', 'VBZ'), ('frequently', 'RB'), ('running', 'VBG'), ('even', 'RB'), ('when', 'WRB'), ('there', 'EX'), ('is', 'VBZ'), (\"n't\", 'RB'), ('any', 'DT'), ('``', '``'), ('useful', 'JJ'), (\"''\", \"''\"), ('work', 'NN'), ('to', 'TO'), ('do', 'VB'), ('.', '.'), ('we', 'PRP'), ('have', 'VBP'), ('found', 'VBN'), ('several', 'JJ'), ('heuristic', 'JJ'), ('technique', 'NN'), ('to', 'TO'), ('decrease', 'VB'), ('power', 'NN'), ('use', 'NN'), (',', ','), ('such', 'PDT'), ('a', 'DT'), ('never', 'RB'), ('running', 'VBG'), ('a', 'DT'), ('process', 'NN'), ('that', 'WDT'), ('is', 'VBZ'), ('still', 'RB'), ('blocked', 'VBN'), ('and', 'CC'), ('waiting', 'VBG'), ('on', 'IN'), ('an', 'DT'), ('event', 'NN'), (',', ','), ('delaying', 'VBG'), ('process', 'NN'), ('that', 'IN'), ('execute', 'NN'), ('without', 'IN'), ('producing', 'VBG'), ('output', 'NN'), ('or', 'CC'), ('otherwise', 'RB'), ('signaling', 'JJ'), ('useful', 'JJ'), ('activity', 'NN'), (',', ','), ('and', 'CC'), ('delaying', 'VBG'), ('the', 'DT'), ('frequency', 'NN'), ('of', 'IN'), ('periodic', 'JJ'), ('process', 'NN'), (',', ','), ('most', 'JJS'), ('of', 'IN'), ('which', 'WDT'), ('seem', 'VBP'), ('to', 'TO'), ('wake', 'VB'), ('up', 'RP'), (',', ','), ('look', 'VB'), ('around', 'IN'), (',', ','), ('find', 'VBP'), ('nothing', 'NN'), ('interesting', 'NN'), ('to', 'TO'), ('do', 'VB'), (',', ','), ('and', 'CC'), ('go', 'VB'), ('back', 'RB'), ('to', 'TO'), ('sleep', 'VB'), ('.', '.'), ('to', 'TO'), ('the', 'DT'), ('extent', 'NN'), ('that', 'IN'), ('similar', 'JJ'), ('phenomenon', 'NN'), ('occur', 'NN'), ('in', 'IN'), ('other', 'JJ'), ('operating', 'NN'), ('system', 'NN'), (',', ','), ('these', 'DT'), ('technique', 'NN'), ('should', 'MD'), ('apply', 'VB'), ('to', 'TO'), ('them', 'PRP'), ('also', 'RB'), ('.', '.'), ('we', 'PRP'), ('have', 'VBP'), ('used', 'VBN'), ('trace-driven', 'JJ'), ('simulation', 'NN'), ('to', 'TO'), ('evaluate', 'VB'), ('these', 'DT'), ('technique', 'NN'), ('on', 'IN'), ('the', 'DT'), ('basis', 'NN'), ('of', 'IN'), ('processor', 'NN'), ('energy', 'NN'), ('saved', 'VBD'), ('and', 'CC'), ('increase', 'VB'), ('in', 'IN'), ('processing', 'JJ'), ('time', 'NN'), ('.', '.'), ('we', 'PRP'), ('found', 'VBD'), ('that', 'IN'), ('our', 'PRP$'), ('technique', 'NN'), ('save', 'VB'), ('47-66', 'JJ'), ('%', 'NN'), ('of', 'IN'), ('processor', 'NN'), ('energy', 'NN'), (',', ','), ('thus', 'RB'), ('decreasing', 'VBG'), ('processor', 'NN'), ('energy', 'NN'), ('consumption', 'NN'), ('by', 'IN'), ('26-53', 'JJ'), ('%', 'NN'), ('compared', 'VBN'), ('to', 'TO'), ('the', 'DT'), ('simple', 'JJ'), ('strategy', 'NN'), ('currently', 'RB'), ('employed', 'VBN'), ('by', 'IN'), ('macos', 'NN'), ('.', '.'), ('taking', 'VBG'), ('into', 'IN'), ('consideration', 'NN'), ('the', 'DT'), ('fraction', 'NN'), ('of', 'IN'), ('system', 'NN'), ('power', 'NN'), ('used', 'VBN'), ('by', 'IN'), ('the', 'DT'), ('cpu', 'NN'), (',', ','), ('we', 'PRP'), ('estimate', 'VBP'), ('that', 'IN'), ('implementing', 'VBG'), ('the', 'DT'), ('best', 'JJS'), ('subset', 'NN'), ('of', 'IN'), ('our', 'PRP$'), ('technique', 'NN'), ('will', 'MD'), ('increase', 'VB'), ('battery', 'NN'), ('lifetime', 'NN'), ('for', 'IN'), ('macintosh', 'NN'), ('portable', 'JJ'), ('by', 'IN'), ('around', 'IN'), ('20', 'CD'), ('%', 'NN'), ('.', '.'), ('these', 'DT'), ('saving', 'VBG'), ('do', 'VBP'), ('imply', 'VB'), ('a', 'DT'), ('small', 'JJ'), ('loss', 'NN'), ('in', 'IN'), ('effective', 'JJ'), ('system', 'NN'), ('performance', 'NN'), (';', ':'), ('in', 'IN'), ('all', 'DT'), ('case', 'NN'), (',', ','), ('this', 'DT'), ('loss', 'NN'), ('is', 'VBZ'), ('less', 'JJR'), ('than', 'IN'), ('2', 'CD'), ('%', 'NN'), ('.', '.'), ('work', 'NN'), ('is', 'VBZ'), ('continuing', 'VBG'), ('on', 'IN'), ('this', 'DT'), ('topic', 'NN'), ('.', '.'), ('many', 'JJ'), ('people', 'NNS'), ('aided', 'VBD'), ('in', 'IN'), ('the', 'DT'), ('preparation', 'NN'), ('of', 'IN'), ('this', 'DT'), ('work', 'NN'), ('and', 'CC'), ('deserve', 'VB'), ('our', 'PRP$'), ('gratitude', 'NN'), ('here', 'RB'), ('.', '.'), ('marianne', 'NN'), ('hsiung', 'NN'), ('provided', 'VBD'), ('support', 'NN'), (',', ','), ('on', 'IN'), ('behalf', 'NN'), ('of', 'IN'), ('apple', 'NN'), ('computer', 'NN'), (',', ','), ('inc.', 'NN'), (',', ','), ('for', 'IN'), ('this', 'DT'), ('research', 'NN'), ('.', '.'), ('phil', 'NN'), ('sohn', 'JJ'), ('wrote', 'VBD'), ('the', 'DT'), ('setc', 'NN'), ('module', 'NN'), ('that', 'WDT'), ('idletracer', 'VBZ'), ('us', 'PRP'), (',', ','), ('and', 'CC'), ('also', 'RB'), ('provided', 'VBD'), ('general', 'JJ'), ('guidance', 'NN'), ('during', 'IN'), ('the', 'DT'), ('project', 'NN'), ('.', '.'), ('steve', 'VB'), ('sfarzo', 'NN'), ('arranged', 'VBD'), ('the', 'DT'), ('distribution', 'NN'), ('of', 'IN'), ('the', 'DT'), ('tracer', 'NN'), ('to', 'TO'), (',', ','), ('and', 'CC'), ('the', 'DT'), ('collection', 'NN'), ('of', 'IN'), ('data', 'NNS'), ('file', 'NN'), ('from', 'IN'), (',', ','), ('many', 'JJ'), ('powerbook', 'VBP'), ('user', 'RP'), ('working', 'VBG'), ('with', 'IN'), ('him', 'PRP'), ('.', '.'), ('helder', 'NN'), ('ramalho', 'NN'), ('provided', 'VBD'), ('invaluable', 'JJ'), ('information', 'NN'), ('about', 'IN'), ('the', 'DT'), ('way', 'NN'), ('the', 'DT'), ('current', 'JJ'), ('processor', 'NN'), ('cycling', 'NN'), ('technique', 'NN'), ('work', 'NN'), ('.', '.'), ('dave', 'VB'), ('falkenburg', 'NN'), ('and', 'CC'), ('jim', 'NN'), ('goche', 'NN'), ('provided', 'VBN'), ('information', 'NN'), ('about', 'IN'), ('trap', 'NN'), ('handler', 'NN'), ('programming', 'VBG'), ('critical', 'JJ'), ('to', 'TO'), ('the', 'DT'), ('writing', 'NN'), ('of', 'IN'), ('idletracer', 'NN'), ('.', '.'), ('larry', 'NN'), ('heil', 'NN'), ('coordinated', 'VBD'), ('cooperation', 'NN'), ('with', 'IN'), ('the', 'DT'), ('apple', 'NN'), ('portable', 'JJ'), ('group', 'NN'), ('.', '.'), ('several', 'JJ'), ('user', 'NN'), ('ran', 'VBD'), ('the', 'DT'), ('tracer', 'NN'), ('on', 'IN'), ('their', 'PRP$'), ('machine', 'NN'), ('to', 'TO'), ('help', 'VB'), ('u', 'VB'), ('collect', 'VB'), ('the', 'DT'), ('data', 'NN'), ('.', '.'), ('and', 'CC'), (',', ','), ('finally', 'RB'), (',', ','), ('we', 'PRP'), ('thank', 'VBD'), ('the', 'DT'), ('reviewer', 'NN'), ('of', 'IN'), ('the', 'DT'), ('original', 'JJ'), ('version', 'NN'), ('of', 'IN'), ('this', 'DT'), ('paper', 'NN'), ('for', 'IN'), ('their', 'PRP$'), ('helpful', 'NN'), ('and', 'CC'), ('insightful', 'JJ'), ('comment', 'NN'), ('.', '.'), ('inside', 'IN'), ('macintosh', 'NN'), (',', ','), ('volume', 'NN'), ('vi', 'NN'), (',', ','), ('addison', 'JJ'), ('wesley', 'NN'), ('publishing', 'NN'), ('company', 'NN'), (',', ','), ('reading', 'NN'), (',', ','), ('ma', 'NN'), (',', ','), ('1991.', 'CD'), ('window', 'NN'), ('api', 'NN'), ('bible', 'JJ'), (',', ','), ('waite', 'JJ'), ('group', 'NN'), ('press', 'NN'), (',', ','), ('corte', 'NN'), ('madera', 'NN'), (',', ','), ('ca', 'MD'), (',', ','), ('1992.', 'CD'), ('proceeding', 'NN'), ('of', 'IN'), ('the', 'DT'), ('ieee', 'JJ'), ('international', 'JJ'), ('computer', 'NN'), ('society', 'NN'), ('conference', 'NN'), (',', ','), ('san', 'JJ'), ('francisco', 'NN'), (',', ','), ('ca', 'MD'), (',', ','), ('307-315', 'JJ'), (',', ','), ('february', 'JJ'), ('1994.', 'CD'), ('modeling', 'VBG'), ('the', 'DT'), ('effect', 'NN'), ('of', 'IN'), ('different', 'JJ'), ('processor', 'NN'), ('cycling', 'NN'), ('technique', 'NN'), ('on', 'IN'), ('power', 'NN'), ('consumption', 'NN'), ('.', '.'), ('performance', 'NN'), ('evaluation', 'NN'), ('group', 'NN'), ('technical', 'JJ'), ('note', 'NN'), ('#', '#'), ('179', 'CD'), (',', ','), ('atg', 'RB'), ('integrated', 'JJ'), ('system', 'NN'), (',', ','), ('november', 'RB'), ('1995.', 'CD'), ('a', 'DT'), ('complete', 'JJ'), ('picture', 'NN'), ('of', 'IN'), ('the', 'DT'), ('energy', 'NN'), ('consumption', 'NN'), ('of', 'IN'), ('a', 'DT'), ('portable', 'JJ'), ('computer', 'NN'), ('.', '.'), ('master', 'NN'), ('thesis', 'NN'), (',', ','), ('computer', 'NN'), ('science', 'NN'), (',', ','), ('university', 'NN'), ('of', 'IN'), ('california', 'NN'), ('at', 'IN'), ('berkeley', 'NN'), (',', ','), ('december', 'VB'), ('1995.', 'CD'), ('how', 'WRB'), ('energy', 'NN'), ('is', 'VBZ'), ('consumed', 'VBN'), ('and', 'CC'), ('saved', 'VBN'), ('in', 'IN'), ('portable', 'JJ'), ('computer', 'NN'), ('.', '.')]\n"
     ]
    }
   ],
   "source": [
    "POS_tag = nltk.pos_tag(lemmatized_text)\n",
    "\n",
    "print \"Lemmatized text with POS tags: \\n\"\n",
    "print POS_tag"
   ]
  },
  {
   "cell_type": "code",
   "execution_count": 16,
   "metadata": {
    "collapsed": true
   },
   "outputs": [],
   "source": [
    "stopwords = []\n",
    "\n",
    "wanted_POS = ['NN','NNS','NNP','NNPS','JJ','JJR','JJS','VBG','FW'] \n",
    "\n",
    "for word in POS_tag:\n",
    "    if word[1] not in wanted_POS:\n",
    "        stopwords.append(word[0])\n",
    "\n",
    "punctuations = list(str(string.punctuation))\n",
    "\n",
    "stopwords = stopwords + punctuations"
   ]
  },
  {
   "cell_type": "code",
   "execution_count": 17,
   "metadata": {
    "collapsed": true
   },
   "outputs": [],
   "source": [
    "stopword_file = open(\"long_stopwords.txt\", \"r\")\n",
    "#Source = https://www.ranks.nl/stopwords\n",
    "\n",
    "lots_of_stopwords = []\n",
    "\n",
    "for line in stopword_file.readlines():\n",
    "    lots_of_stopwords.append(str(line.strip()))\n",
    "\n",
    "stopwords_plus = []\n",
    "stopwords_plus = stopwords + lots_of_stopwords\n",
    "stopwords_plus = set(stopwords_plus)\n",
    "\n",
    "#Stopwords_plus contain total set of all stopwords"
   ]
  },
  {
   "cell_type": "code",
   "execution_count": 18,
   "metadata": {
    "collapsed": false
   },
   "outputs": [
    {
     "name": "stdout",
     "output_type": "stream",
     "text": [
      "['cpu', 'major', 'power', 'consumer', 'portable', 'computer', 'considerable', 'power', 'turning', 'cpu', 'doing', 'useful', 'work', 'apple', 'time', 'busy', 'waiting', 'hard', 'useful', 'computation', 'occurring', 'paper', 'several', 'heuristic', 'technique', 'identifying', 'condition', 'putting', 'cpu', 'low-power', 'state', 'technique', 'turning', 'turning', 'busy', 'waiting', 'extending', 'real', 'time', 'period', 'trace-driven', 'simulation', 'using', 'interval', 'trace', 'potential', 'energy', 'saving', 'performance', 'impact', 'technique', 'considerable', 'amount', 'energy', 'having', 'little', 'performance', 'impact', 'implementing', 'strategy', 'battery', 'lifetime', 'relative', 'apple', 'current', 'cpu', 'power', 'management', 'strategy', 'cpu', 'logic', 'responsible', 'power', 'similar', 'technique', 'applicable', 'operating', 'system', 'similar', 'behavior', 'reason', 'work', 'reducing', 'power', 'consumption', 'computer', 'power', 'consumption', 'various', 'macintosh', 'computer', 'typical', 'number', 'engineering', 'depending', 'machine', 'total', 'power', 'attributable', 'power', 'consumption', 'power', 'management', 'i.e', 'high', 'percentage', 'intuition', 'software', 'power', 'management', 'important', 'target', 'research', 'software', 'power', 'management', 'many', 'modern', 'microprocessor', 'low-power', 'state', 'little', 'power', 'advantage', 'low-power', 'state', 'operating', 'system', 'consequent', 'saving', 'power', 'time', 'energy', 'overhead', 'turning', 'restarting', 'way', 'goal', 'power', 'management', 'strategy', 'similar', 'hard', 'disk', 'strategy', 'making', 'prediction', 'srivastava', 'et', 'al', 'instance', 't', 'hobbit', 'certain', 'version', 'mc68030', 'mc68040', 'static', 'logic', 'state', 'clock', 'powerpc', 'low-power', 'doze', 'mode', 'ten', 'system', 'clock', 'short', 'low', 'energy', 'cost', 'entering', 'leaving', 'low-power', 'state', 'optimal', 'cpu', 'power', 'management', 'strategy', 'trivial', 'cpu', 'useful', 'work', 'opportunityfor', 'strategy', 'srivastava', 'et', 'al', 'material', 'work', 'national', 'science', 'foundation', 'graduate', 'research', 'fellowship', 'apple', 'computer', 'part', 'national', 'science', 'foundation', 'grant', 'mip-9116578', 'ccr-9117028', 'state', 'california', 'micro', 'program', 'intel', 'corporation', 'sun', 'microsystems', 'work', 'support', 'cooperation', 'apple', 'relationship', 'work', 'apple', 'product', 'development', 'plan', 'second', 'international', 'conference', 'mobile', 'computing', 'networking', 'rye', 'new', 'york', 'copyright', 'association', 'computing', 'machinery', 'copyright', 'work', 'others', 'abstracting', 'credit', 'server', 'prior', 'specific', 'permission', 'fee', 'equivalent', 'version', 'strategy', 'virtual', 'lowest-priority', 'job', 'suessmith', 'paap', 'powerpc', 'suzuki', 'uno', 'patent', 'virtual', 'lowest-priority', 'past', 'loop', 'mainframe', 'bulb', 'console', 'strategy', 'turning', 'available', 'basic', 'strategy', 'apple', 'useful', 'work', 'feature', 'design', 'single-user', 'system', 'less', 'operating', 'system', 'arbiter', 'resource', 'power', 'management', 'mind', 'main', 'problem', 'current', 'management', 'time', 'having', 'system', 'having', 'application', 'problem', 'operating', 'system', 'work', 'aware', 'phenomenon', 'trace', 'scheduling', 'condition', 'necessary', 'ready', 'ready', 'active', 'window', 'second', 'problem', 'programmer', 'writing', 'application', 'application', 'running', 'foreground', 'taking', 'processing', 'time', 'time', 'nothing', 'problem', 'period', 'ten', 'minute', 'anything', 'anything', 'second', 'short', 'period', 'necessary', 'solution', 'problem', 'necessary', 'saving', 'basic', 'strategy', 'reason', 'additional', 'technique', 'management', 'technique', 'dealing', 'problem', 'operating', 'system', 'simple', 'scheduling', 'technique', 'technique', 'heuristic', 'making', 'unnecessary', 'time', 'technique', 'time', 'constant', 'factor', 'operating', 'system', 'reasonable', 'trade-off', 'energy', 'saving', 'performance', 'latter', 'technique', 'greediness', 'technique', 'extension', 'technique', 'using', 'technique', 'effectiveness', 'basic', 'strategy', 'allowing', 'effectiveness', 'current', 'inactivity-timer', 'strategy', 'detail', 'paper', 'different', 'strategy', 'variety', 'parameter', 'value', 'using', 'trace-driven', 'simulation', 'simulation', 'algorithm', 'current', 'strategy', 'parameter', 'comparison', 'strategy', 'consequence', 'strategy', 'power', 'observed', 'performance', 'paper', 'section', 'detail', 'strategy', 'comparing', 'including', 'current', 'strategy', 'basic', 'strategy', 'management', 'technique', 'improving', 'basic', 'strategy', 'section', 'methodology', 'strategy', 'evaluation', 'criterion', 'tool', 'trace-driven', 'simulation', 'nature', 'trace', 'section', 'simulation', 'section', 'meaning', 'consequence', 'way', 'future', 'work', 'power', 'management', 'strategy', 'inactivity', 'timer', 'operating', 'system', 'power', 'reduction', 'activity', 'last', 'second', 'i/o', 'activity', 'last', 'second', 'power', 'reduction', 'activity', 'detected', 'activity', 'input', 'i/o', 'device', 'appearance', 'cursor', 'time', 'cursor', 'watch', 'reason', 'classification', 'latter', 'activity', 'human', 'interface', 'guideline', 'specify', 'computing', 'having', 'cursor', 'watch', 'changing', 'appearance', 'cursor', 'e.g', 'basic', 'strategy', 'case', 'event', 'waiting', 'inactivity', 'timer', 'strategy', 'basic', 'strategy', 'reason', 'recent', 'macintosh', 'computer', 'high', 'overhead', 'turning', 'making', 'basic', 'strategy', 'applicable', 'old', 'example', 'content', 'on-chip', 'cache', 'reason', 'effectiveness', 'basic', 'strategy', 'different', 'inactivity', 'timer', 'strategy', 'current', 'method', 'time', 'management', 'greediness', 'technique', 'overview', 'doing', 'useful', 'work', 'technique', 'general', 'term', 'detail', 'implementation', 'technique', 'following', 'model', 'appropriate', 'way', 'event-driven', 'environment', 'receiving', 'event', 'event', 'blocking', 'processing', 'event', 'ready', 'exception', 'periodic', 'task', 'blinking', 'cursor', 'checking', 'time', 'acting', 'processing', 'event', 'busy', 'manner', 'e.g', 'acting', 'period', 'time', 'cooperative', 'multitasking', 'meaning', 'reason', 'application', 'writer', 'work', 'work', 'specifying', 'period', 'failing', 'period', 'time', 'gain', 'part', 'technique', 'heuristic', 'acting', 'acting', 'period', 'computing', 'computing', 'event', 'sign', 'activity', 'computing', 'several', 'time', 'row', 'receiving', 'event', 'showing', 'sign', 'activity', 'exact', 'number', 'control-yieldtimes', 'greediness', 'parameter', 'technique', 'energy', 'saving', 'level', 'performance', 'sign', 'activity', 'i/o', 'device', 'sound', 'chip', 'appearance', 'cursor', 'cursor', 'watch', 'absence', 'activity', 'cpu', 'running', 'busy', 'waiting', 'manner', 'running', 'violating', 'human', 'interface', 'guideline', 'greediness', 'technique', 'work', 'acting', 'simple', 'scheduling', 'technique', 'condition', 'ready', 'condition', 'form', 'event', 'type', 'e1', 'period', 'time', 't', 'last', 'period', 'time', 'willing', 'absence', 'event', 'being', 'period', 'other', 'operating', 'system', 'unix', 'microsoft', 'window', 'simple', 'scheduling', 'technique', 'default', 'behavior', 'operating', 'system', 'using', 'simple', 'scheduling', 'technique', 'example', 'unblocked', 'second', 'unblocked', 'second', 'cursor', 'common', 'occurrence', 'real', 'time', 'system', 'real', 'time', 'period', 'fact', 'current', 'power', 'management', 'strategy', 'power', 'management', 'cursor', 'power', 'management', 'kind', 'behavior', 'acceptable', 'possible', 'effectiveness', 'simple', 'scheduling', 'technique', 'using', 'extension', 'technique', 'technique', 'multiplier', 'number', 'great', 'period', 'eliminating', 'fraction', 'interval', 'multiplier', 'operating', 'system', 'energy', 'saving', 'certain', 'level', 'performance', 'period', 'parameter', 'following', 'tradeoff', 'short', 'period', 'insufficient', 'power', 'period', 'case', 'heuristic', 'doing', 'something', 'useful', 'evaluation', 'strategy', 'measuring', 'consequence', 'strategy', 'energy', 'saving', 'performance', 'impact', 'energy', 'saving', 'easy', 'simulation', 'percent', 'time', 'high-power', 'state', 'contrast', 'performance', 'impact', 'percent', 'workload', 'runtime', 'using', 'power-saving', 'strategy', 'difficult', 'performance', 'penalty', 'stem', 'fact', 'power', 'saving', 'strategy', 'performing', 'useful', 'work', 'work', 'having', 'making', 'workload', 'detailed', 'knowledge', 'purpose', 'instruction', 'sequence', 'difficult', 'tracer', 'work', 'useful', 'inexact', 'same', 'heuristic', 'greediness', 'technique', 'doing', 'useful', 'work', 'other', 'word', 'useful', 'i/o', 'device', 'sound', 'chip', 'cursor', 'cursor', 'watch', 'using', 'same', 'heuristic', 'evaluation', 'strategy', 'strategy', 'invalid', 'strategy', 'prior', 'knowledge', 'useful', 'evaluation', 'system', 'evaluating', 'accuracy', 'guess', 'useful', 'useless', 'time', 'application', 'code', 'original', 'trace', 'time', 'time', 'switching', 'time', 'switching', 'time', 'os', 'doing', 'useful', 'work', 'time', 'doing', 'useful', 'work', 'sign', 'activity', 'useful', 'useful', 'work', 'simulation', 'assumption', 'significant', 'os', 'work', 'action', 'time', 'running', 'operating', 'system', 'doing', 'useful', 'work', 'continuous', 'period', 'ms.', 'reason', 'small', 'time', 'unit', 'scheduling', 'decision', 'least', 'idleness', 'time', 'time', 'different', 'last', 'm', 'observed', 'difference', 'average', 'interprocess', 'time', 'average', 'interprocess', 'time', 'main', 'tool', 'simulation', 'tool', 'trace', 'event', 'different', 'strategy', 'detail', 'time', 'occurrence', 'other', 'detail', 'following', 'event', 'tracing', 'begin', 'end', 'machine', 'begin', 'end', 'sound', 'chip', 'cursor', 'mouse', 'moving', 'i/o', 'device', 'event', 'event', 'queue', 'data', 'machine', 'tracing', 'running', 'battery', 'power', 'energy', 'saving', 'important', 'analysis', 'appropriate', 'workload', 'shuts', 'power', 'management', 'tracing', 'trace', 'current', 'strategy', 'strategy', 'setc', 'module', 'routine', 'tracing', 'counting', 'system', 'event', 'second', 'tool', 'itmsim', 'power', 'management', 'method', 'using', 'current', 'inactivity-threshold', 'strategy', 'basis', 'comparison', 'other', 'word', 'strategy', 'activity', 'last', 'second', 'i/o', 'activity', 'last', 'fifteen', 'second', 'actuality', 'period', 'chance', 'activity', 'end', 'power', 'management', 'case', 'detail', 'proprietary', 'itmsim', 'attempt', 'aspect', 'strategy', 'idea', 'consequence', 'proprietary', 'modification', 'simulation', 'aggregate', 'workload', 'performance', 'impact', 'expense', 'decreasing', 'time', 'particular', 'proprietary', 'modification', 'trivial', 'effect', 'power', 'saving', 'table', 'information', 'useful', 'delaying', 'rest', 'trace', 'execution', 'contributing', 'performance', 'impact', 'non-useful', 'useful', 'os', 'time', 'contributing', 'performance', 'impact', 'third', 'tool', 'asmsim', 'basic', 'strategy', 'simple', 'scheduling', 'technique', 'other', 'technique', 'extension', 'greediness', 'parameter', 'technique', 'simulation', 'simulation', 'event', 'ready', 'preceding', 'receipt', 'ready', 'event', 'i.e', 'periodic', 'order', 'example', 'second', 'second', 'late', 'approach', 'inaccuracy', 'simulation', 'reality', 'last', 'seeing', 'second', 'second', 'dependence', 'action', 'time', 'rare', 'significant', 'error', 'simulation', 'section', 'current', 'strategy', 'strategy', 'basic', 'strategy', 'strategy', 'b.', 'letter', 'simple', 'technique', 'letter', 'g', 'greediness', 'technique', 'letter', 's', 'extension', 'technique', 'greediness', 'technique', 'extension', 'technique', 'simple', 'scheduling', 'technique', 'supplement', 'simple', 'scheduling', 'technique', 'thing', 'optimal', 'energy', 'saving', 'attainable', 'optimum', 'strategy', 'time', 'doing', 'useful', 'work', 'non-useful', 'time', 'performance', 'impact', 'foreknowledge', 'useful', 'work', 'simulation', 'strategy', 'energy', 'saving', 'absolute', 'ceiling', 'realizable', 'strategy', 'high', 'figure', 'doing', 'useful', 'computation', 'hour', 'trace', 'rest', 'time', 'busy', 'waiting', 'idling', 'second', 'simulation', 'concern', 'strategy', 'simulation', 'strategy', 'energy', 'saving', 'performance', 'impact', 'other', 'word', 'energy', 'power-saving', 'strategy', 'overall', 'workload', 'completion', 'time', 'strategy', 'energy', 'consumption', 'optimal', 'strategy', 'real', 'time', 'cpu', 'time', 'useful', 'performance', 'impact', 'useful', 'cpu', 'time', 'work', 'manner', 'actual', 'real', 'time', 'reply', 'period', 'real', 'useful', 'work', 'next', 'simulation', 'concern', 'strategy', 'b', 'idling', 'original', 'trace', 'trace', 'engineer', 'apple', 'computer', 'table', 'data', 'trace', 'machine', 'trace', 'detailed', 'discussion', 'trace', 'collection', 'concern', 'aggregate', 'workload', 'i.e', 'figure', 'performance', 'impact', 'versus', 'energy', 'saving', 'strategy', 'various', 'multiplier', 'certain', 'multiplier', 'basic', 'strategy', 'new', 'management', 'technique', 'energy', 'current', 'technique', 'impact', 'performance', 'energy', 'optimal', 'strategy', 'real', 'time', 'next', 'simulation', 'concern', 'strategy', 'strategy', 'energy', 'saving', 'performance', 'impact', 'strategy', 'energy', 'consumption', 'workload', 'completion', 'time', 'strategy', 'optimal', 'strategy', 'energy', 'real', 'time', 'next', 'simulation', 'concern', 'strategy', 'figure', 'performance', 'versus', 'energy', 'saving', 'graph', 'variation', 'strategy', 'using', 'multiplier', 'strategy', 'performance', 'impact', 'equal', 'strategy', 'corresponds', 'multiplier', 'energy', 'saving', 'comparing', 'strategy', 'equal', 'performance', 'ground', 'strategy', 'energy', 'consumption', 'increasing', 'multiplier', 'cpu', 'energy', 'performance', 'impact', 'performance', 'impact', 'whole', 'story', 'case', 'real', 'time', 'something', 'certain', 'condition', 'something', 'large', 'real', 'time', 'wakeup', 'period', 'certain', 'timely', 'manner', 'issue', 'practice', 'extension', 'factor', 'level', 'desirable', 'next', 'simulation', 'concern', 'strategy', 'big', 'figure', 'performance', 'versus', 'energy', 'saving', 'graph', 'variation', 'strategy', 'using', 'greediness', 'period', 'second', 'second', 'extensive', 'exploration', 'parameter', 'space', 'parameter', 'setting', 'giving', 'best', 'energy', 'saving', 'performance', 'impact', 'level', 'greediness', 'period', 'second', 'parameter', 'energy', 'saving', 'comparing', 'strategy', 'big', 'equal', 'performance', 'ground', 'strategy', 'big', 'reduces', 'energy', 'consumption', 'optimal', 'strategy', 'energy', 'consumption', 'real', 'time', 'next', 'concern', 'strategy', 'bigs', 'figure', 'realm', 'interested', 'performance', 'impact', 'increasing', 'multiplier', 'bad', 'changing', 'greediness', 'period', 'energy', 'saving', 'attainable', 'increasing', 'multiplier', 'low', 'performance', 'cost', 'decreasing', 'greediness', 'increasing', 'period', 'best', 'bigs', 'strategy', 'big', 'strategy', 'extension', 'technique', 'figure', 'great', 'performance', 'impact', 'case', 'best', 'energy', 'saving', 'bigs', 'multiplier', 'value', 'performance', 'impact', 'useful', 'greediness', 'technique', 'extension', 'technique', 'performance', 'impact', 'useless', 'extension', 'technique', 'greediness', 'technique', 'summary', 'finding', 'strategy', 'table', 'column', 'figure', 'corresponding', '1-6.', 'figure', 'performance', 'impact', 'versus', 'energy', 'saving', 'strategy', 'big', 'various', 'greediness', 'period', 'greediness', 'curve', 'period', 'reader', 'nonzero', 'origin', 'figure', 'space', 'sufficient', 'resolution', 'key', 'feature', 'figure', 'performance', 'impact', 'versus', 'energy', 'saving', 'strategy', 'bigs', 'various', 'multiplier', 'various', 'greediness', 'period', 'sec', 'reader', 'nonzero', 'origin', 'figure', 'space', 'sufficient', 'resolution', 'key', 'feature', 'important', 'issue', 'extent', 'parameter', 'specific', 'workload', 'optimal', 'effective', 'other', 'workload', 'unclear', 'effective', 'operating', 'system', 'tuning', 'parameter', 'best', 'way', 'optimal', 'energy', 'saving', 'level', 'performance', 'important', 'sensitivity', 'particular', 'value', 'parameter', 'graph', 'relationship', 'performance', 'energy', 'saving', 'parameter', 'value', 'low', 'sensitivity', 'parameter', 'value', 'instance', 'varying', 'period', 'figure', 'wide', 'range', 'value', 'consequent', 'energy', 'saving', '59-67', 'varying', 'greediness', 'figure', 'wide', 'range', 'value', 'consequent', 'energy', 'saving', 'range', '63-71', 'varying', 'multiplier', 'wide', 'range', 'figure', 'consequent', 'energy', 'saving', 'range', '47-56', 'way', 'sensitivity', 'parameter', 'effectiveness', 'technique', 'workload', 'corresponding', 'effect', 'using', 'parameter', 'aggregate', 'workload', 'individual', 'figure', 'energy', 'saving', 'strategy', 'figure', 'strategy', 'big', 'superior', 'strategy', 'strategy', 'superior', 'strategy', 'case', 'fault', 'basic', 'strategy', 'simple', 'scheduling', 'technique', 'multiplier', 'parameter', 'saving', 'great', 'strategy', 'b', 'figure', 'parameter', 'specific', 'workload', 'strategy', 'general', 'energy', 'current', 'strategy', 'interesting', 'clear', 'ordering', 'strategy', 'big', 'strategy', 'big', 'energy', 'strategy', 'energy', 'strategy', 'curious', 'strategy', 'superior', 'strategy', 'b', 'simulation', 'reason', 'strategy', 'good', 'strategy', 'b', 'trace', 'application', 'requesting', 'time', 'activity', 'contiguous', 'section', 'trace', 'lasting', 'hour', 'behavior', 'extension', 'technique', 'problem', 'multiplying', 'factor', 'greediness', 'technique', 'able', 'problem', 'problem', 'strategy', 'big', 'beat', 'strategy', 'strategy', 'b', 'way', 'basic', 'strategy', 'new', 'technique', 'effective', 'tuning', 'parameter', 'arbitrary', 'parameter', 'energy', 'saving', 'superior', 'strategy', 'example', 'parameter', 'setting', 'running', 'simulation', 'greediness', 'period', 'second', 'multiplier', 'respectable', 'energy', 'saving', 'performance', 'impact', 'energy', 'consumption', 'workload', 'completion', 'time', 'conservative', 'parameter', 'greediness', 'period', 'second', 'multiplier', 'energy', 'saving', 'performance', 'impact', 'decreasing', 'energy', 'consumption', 'reducing', 'workload', 'completion', 'time', 'strategy', 'greediness', 'technique', 'effective', 'broad', 'range', 'parameter', 'value', 'fact', 'using', 'ideal', 'parameter', 'strategy', 'big', 'application', 'percent', 'application', 'acting', 'application', 'express', 'modem', 'eworld', 'amusing', 'desktop', 'interface', 'application', 'apple', 'processing', 'time', 'having', 'acting', 'support', 'suggestion', 'designer', 'operating', 'system', 'application', 'single-user', 'system', 'rigorous', 'management', 'time', 'saving', 'performance', 'impact', 'strategy', 'coming', 'useful', 'different', 'class', 'time', 'original', 'trace', 'strategy', 'time', 'original', 'trace', 'running', 'running', 'scheduler', 'rest', 'running', 'other', 'os', 'code', 'class', 'time', 'useful', 'nonuseful', 'time', 'useful', 'time', 'simulation', 'technique', 'cycle', 'running', 'time', 'performance', 'impact', 'nonuseful', 'time', 'technique', 'rest', 'cycling', 'time', 'table', 'strategy', 'time', 'running', 'scheduler', 'operating', 'system', 'time', 'performance', 'impact', 'bold', 'time', 'time', 'standard', 'font', 'time', 'cycling', 'italic', 'table', 'time', 'number', 'strategy', 'source', 'energy', 'saving', 'strategy', 'looking', 'italic', 'figure', 'table', 'strategy', 'hour', 'cycling', 'idling', 'hour', 'cycling', 'performing', 'nonuseful', 'hour', 'cycling', 'switching', 'nonuseful', 'interesting', 'time', 'having', 'running', 'technique', 'attempt', 'cycle', 'doing', 'anything', 'doing', 'anything', 'doing', 'little', 'getting', 'strategy', 'b', 'cycle', 'running', 'scheduling', 'cycling', 'hour', 'strategy', 'cycle', 'cycle', 'running', 'scheduling', 'time', 'cycling', 'strategy', 'nonuseful', 'scheduler', 'time', 'strategy', 'saving', 'stem', 'reducing', 'amount', 'time', 'scheduling', 'nonuseful', 'reducing', 'time', 'running', 'nonuseful', 'fact', 'strategy', 'running', 'nonuseful', 'strategy', 'reason', 'strategy', 'less', 'time', 'scheduling', 'nonuseful', 'table', 'strategy', 'few', 'nonuseful', 'few', 'less', 'time', 'scheduling', 'saving', 'strategy', 'stem', 'giving', 'time', 'doing', 'useful', 'work', 'switching', 'less', 'doing', 'useful', 'work', 'saving', 'time', 'switching', 'other', 'hand', 'strategy', 'big', 'superior', 'strategy', 'conversion', 'type', 'nonuseful', 'time', 'saving', 'strategy', 'big', 'stem', 'giving', 'busy', 'giving', 'less', 'time', 'useless', 'task', 'table', 'source', 'performance', 'impact', 'strategy', 'looking', 'bold', 'number', 'strategy', 'half', 'performance', 'impact', 'due', 'delaying', 'running', 'useful', 'half', 'due', 'delaying', 'switching', 'other', 'hand', 'strategy', 'same', 'amount', 'useful', 'time', 'less', 'time', 'switching', 'fact', 'low', 'absolute', 'number', 'useful', 'low', 'amount', 'scheduler', 'time', 'strategy', 'big', 'allowing', 'great', 'amount', 'os', 'time', 'maintaining', 'same', 'performance', 'impact', 'strategy', 'main', 'observation', 'strategy', 'big', 'few', 'useful', 'strategy', 'design', 'latter', 'same', 'amount', 'to-', 'simulation', 'following', 'basic', 'strategy', 'energy', 'current', 'strategy', 'less', 'performance', 'impact', 'adding', 'simple', 'scheduling', 'technique', 'basic', 'strategy', 'energy', 'consumption', 'workload', 'completion', 'time', 'current', 'strategy', 'adding', 'technique', 'managing', 'time', 'basic', 'strategy', 'current', 'strategy', 'energy', 'saving', 'same', 'level', 'performance', 'impact', 'using', 'extension', 'technique', 'less', 'energy', 'consumption', 'using', 'greediness', 'technique', 'less', 'energy', 'consumption', 'case', 'absolute', 'level', 'performance', 'impact', 'low', 'best', 'absolute', 'energy', 'saving', 'available', 'optimal', 'power', 'reduction', 'simulation', 'greediness', 'technique', 'extension', 'technique', 'helpful', 'increasing', 'saving', 'attainable', 'basic', 'strategy', 'simple', 'scheduling', 'technique', 'greediness', 'technique', 'job', 'simple', 'scheduling', 'technique', 'attempting', 'same', 'performance', 'impact', 'current', 'worthwhile', 'extension', 'technique', 'using', 'greediness', 'technique', 'reason', 'cost', 'performance', 'impact', 'energy', 'saving', 'great', 'extension', 'technique', 'greediness', 'technique', 'other', 'word', 'adjusting', 'parameter', 'technique', 'energy', 'saving', 'cycle', 'doing', 'useful', 'work', 'performance', 'impact', 'effect', 'pronounced', 'extension', 'technique', 'greediness', 'technique', 'least', 'low', 'performance', 'impact', 'regime', 'interested', 'difference', 'technique', 'reason', 'extension', 'technique', 'possible', 'extending', 'real-time', 'time', 'undesirable', 'effect', 'term', 'system', 'performance', 'functionality', 'analysis', 'sensitivity', 'technique', 'parameter', 'setting', 'workload', 'ideal', 'parameter', 'setting', 'necessary', 'consistent', 'functioning', 'technique', 'technique', 'successful', 'naive', 'parameter-setting', 'operating', 'system', 'anomalous', 'case', 'vulnerability', 'basic', 'strategy', 'poor', 'application', 'behavior', 'suggesting', 'greediness', 'technique', 'something', 'basic', 'strategy', 'example', 'duo', 'turning', 'w', 'average', 'w', 'current', 'power', 'management', 'technique', 'assuming', 'extra', 'time', 'other', 'average', 'average', 'power', 'level', 'current', 'power', 'management', 'technique', 'strategy', 'energy', 'saving', 'same', 'performance', 'impact', 'average', 'total', 'power', 'consumption', 'w', 'yielding', 'power', 'saving', 'battery', 'lifetime', 'strategy', 'figure', 'applicable', 'workload', 'i.e', 'unclear', 'effective', 'method', 'other', 'workload', 'instance', 'previous', 'study', 'different', 'workload', 'power', 'current', 'strategy', 'workload', 'saving', 'strategy', 'simulation', 'trace', 'technique', 'applicable', 'other', 'single-user', 'operating', 'system', 'example', 'microsoft', 'window', 'basic', 'strategy', 'simple', 'scheduling', 'technique', 'attempt', 'unfair', 'time', 'fact', 'problem', 'power', 'management', 'single', 'event', 'using', 'peekmessage', 'getmessage', 'waitmessage', 'power', 'management', 'place', 'problem', 'sort', 'greediness', 'technique', 'effectiveness', 'basic', 'strategy', 'technique', 'work', 'several', 'way', 'strategy', 'second', 'additional', 'trace', 'effectiveness', 'technique', 'large', 'variety', 'workload', 'select', 'parameter', 'value', 'dynamic', 'variation', 'parameter', 'value', 'useful', 'particular', 'trace', 'different', 'type', 'environment', 'current', 'trace', 'respect', 'third', 'power-saving', 'technique', 'applicable', 'practice', 'other', 'single-user', 'operating', 'system', 'possibility', 'software', 'strategy', 'cpu', 'power', 'saving', 'mode', 'work', 'date', 'example', 'system', 'clock', 'rate', 'voltage', 'information', 'useful', 'predicting', 'useless', 'best', 'cpu', 'energy', 'theoretical', 'optimum', 'reducing', 'power', 'consumption', 'computer', 'system', 'becoming', 'important', 'factor', 'design', 'case', 'portable', 'computer', 'important', 'power', 'management', 'large', 'percentage', 'total', 'power', 'cpu', 'inactive', 'operating', 'system', 'cpu', 'running', 'useful', 'work', 'several', 'heuristic', 'technique', 'power', 'running', 'waiting', 'event', 'delaying', 'execute', 'producing', 'output', 'signaling', 'useful', 'activity', 'delaying', 'frequency', 'periodic', 'nothing', 'interesting', 'extent', 'similar', 'phenomenon', 'other', 'operating', 'system', 'technique', 'trace-driven', 'simulation', 'technique', 'basis', 'energy', 'processing', 'time', 'technique', '47-66', 'energy', 'decreasing', 'energy', 'consumption', '26-53', 'simple', 'strategy', 'taking', 'consideration', 'fraction', 'system', 'power', 'cpu', 'implementing', 'best', 'subset', 'technique', 'battery', 'lifetime', 'macintosh', 'portable', 'saving', 'small', 'loss', 'effective', 'system', 'performance', 'case', 'loss', 'less', 'work', 'continuing', 'topic', 'many', 'people', 'preparation', 'work', 'gratitude', 'marianne', 'hsiung', 'support', 'behalf', 'apple', 'computer', 'research', 'phil', 'sohn', 'setc', 'module', 'general', 'guidance', 'project', 'sfarzo', 'distribution', 'tracer', 'collection', 'data', 'file', 'many', 'working', 'helder', 'ramalho', 'invaluable', 'information', 'way', 'current', 'cycling', 'technique', 'work', 'falkenburg', 'jim', 'goche', 'information', 'trap', 'handler', 'programming', 'critical', 'writing', 'larry', 'heil', 'cooperation', 'apple', 'portable', 'group', 'several', 'tracer', 'machine', 'data', 'reviewer', 'original', 'version', 'paper', 'helpful', 'insightful', 'comment', 'macintosh', 'volume', 'vi', 'addison', 'wesley', 'publishing', 'company', 'reading', 'ma', 'window', 'api', 'bible', 'waite', 'group', 'press', 'corte', 'madera', 'proceeding', 'ieee', 'international', 'computer', 'society', 'conference', 'san', 'francisco', '307-315', 'february', 'modeling', 'effect', 'different', 'cycling', 'technique', 'power', 'consumption', 'performance', 'evaluation', 'group', 'technical', 'integrated', 'system', 'picture', 'energy', 'consumption', 'portable', 'computer', 'thesis', 'computer', 'science', 'university', 'california', 'berkeley', 'energy', 'portable', 'computer']\n"
     ]
    }
   ],
   "source": [
    "processed_text = []\n",
    "for word in lemmatized_text:\n",
    "    if word not in stopwords_plus:\n",
    "        processed_text.append(word)\n",
    "print processed_text"
   ]
  },
  {
   "cell_type": "code",
   "execution_count": 19,
   "metadata": {
    "collapsed": true
   },
   "outputs": [
    {
     "name": "stdout",
     "output_type": "stream",
     "text": [
      "['code', 'varying', 'desirable', 'supplement', 'computation', 'disk', 'row', 'looking', 'unblocked', 'graph', 'technique', 'opportunityfor', 'environment', 'madera', 'program', 'case', 'advantage', 'dynamic', 'srivastava', 'putting', 'ma', 'difference', 'exact', 'condition', '47-66', 'timely', 'level', 'issue', 'applicable', 'large', '63-71', 'small', '26-53', 'portable', 'ten', 'foundation', 'dealing', 'consistent', 'prediction', 'sign', 'past', 'second', 'cost', 'design', 'rigorous', 'attributable', 'ccr-9117028', 'clock', 'giving', 'sun', 'section', 'consequent', 'current', 'waiting', 'version', 'peekmessage', 'microprocessor', 'international', 'increasing', 'method', 'contrast', 'completion', 'predicting', 'behavior', 'contiguous', 'trade-off', 'operating', 'others', 'active', 'i.e', 'standard', 'fifteen', 'great', 'bible', 'technical', 'study', 'vulnerability', 'nonuseful', 'leaving', 'queue', 'prior', 'amount', 'periodic', 'suggestion', 'action', 'macintosh', 'engineer', 'writer', 'useful', 'apple', 'classification', 'extra', 'unix', 'api', 'cooperative', 'total', 'corte', 'unit', 'fee', 'consumption', 'bigs', 'story', 'guideline', 'comparing', 'handler', 'overhead', 'type', 'theoretical', 'sort', 'successful', 'acceptable', 'aware', 'heil', 'particular', 'actual', 'producing', 'blocking', 'behalf', 'topic', 'word', 'extension', 'hour', 'science', 'work', 'ms.', 'following', 'making', 'original', 'example', 'proprietary', 'figure', 'chip', 'dependence', 'high', 'something', 'scheduling', 'counting', 'absolute', 'information', 'end', 'goal', 'discussion', 'rye', 'feature', 'machine', 'methodology', 'criterion', 'optimal', 'helder', 'actuality', 'parameter', 'product', 'express', 'overall', 'collection', '1-6.', 'coming', 'improving', 'greediness', 'data', 'inactivity', 'paap', 'short', 'attempt', 'third', 'grant', 'yielding', 'specifying', 'hobbit', 'decreasing', 'order', 'typical', 'major', 'paper', 'including', 'thesis', 'ieee', 'superior', 'group', 'interesting', 'jim', 'writing', 'late', 'window', 'willing', 'minute', 'main', 'versus', 'violating', 'good', 'material', 'getmessage', 'february', 'half', 'association', 'term', 'workload', 'respectable', 'university', 'micro', 'mode', 'reasonable', 'tracer', 'lasting', 'subset', 'control-yieldtimes', 'doing', 'energy', 'hard', 'idea', 'solution', 'society', 'designer', 'static', 'entering', 'et', 'programmer', 'requesting', 'event', 'space', 'research', 'content', 'fellowship', 'acting', 'reader', 'suggesting', 'receiving', 'evaluation', 'integrated', 'foreground', 'turning', 'guess', 'possibility', 'powerpc', 'reason', 'california', 'york', 'trace-driven', 'e1', 'g', 'e.g', 'programming', 'timer', 'thing', 'place', 'undesirable', 'w', 'consequence', 'origin', 'intuition', 'saving', 'high-power', 'number', 'date', 'occurrence', 'little', 'management', 'ordering', 'system', 'least', 'assumption', 'percentage', 'cycle', 'sensitivity', 'insightful', 'ceiling', 'waitmessage', 'fraction', 'relationship', 'tool', 'continuous', 'inexact', 'part', 'signaling', 'hsiung', 'specify', 'ramalho', 'relative', 'kind', 'b', 'target', 'instruction', 'rate', 'preparation', 'future', 'to-', 'single-user', 'abstracting', 'event-driven', 'modern', 'mind', 'realm', 'manner', 'conversion', 'functioning', 'asmsim', 'depending', 'latter', 'responsible', 'able', 'instance', 'ideal', 'potential', 'useless', 'finding', 'performance', 'effectiveness', 'switching', 'accuracy', 'begin', 'trace', 'effective', 'extending', 'plan', 'significant', 'device', 'class', 'observation', 'mobile', 'average', 'phil', 'm', 'sohn', 'consumer', 'microsoft', 'fact', 'phenomenon', 'font', 'trivial', 'ground', 'impact', 'busy', 'knowledge', 'copyright', 'implementation', 'guidance', 'cache', 'penalty', 'foreknowledge', 'factor', 'interested', 'permission', 'beat', 'mip-9116578', 'watch', 'blinking', 'interprocess', 'new', 'non-useful', 'resource', 'summary', 'bad', 'common', 'activity', 'voltage', 'multiplying', 'aspect', 'national', 'module', 'observed', 'computer', 'sec', 'eliminating', 'optimum', 'best', 'concern', 'project', 'attempting', 'managing', 'becoming', 'sfarzo', 'state', 'various', 'cooperation', 'routine', 'reading', 'approach', 'wide', 'available', 'nature', 'implementing', 'job', 'italic', 'goche', 'key', 'multiplier', 'interface', 'modeling', 'distribution', 'realizable', 'last', 'many', 'taking', 'equal', 's', 'restarting', 'logic', 'reply', 'expense', 'whole', 'uno', 'comment', 'power-saving', 'unclear', 'extent', 'simple', 'overview', 'berkeley', 'period', 'inactivity-threshold', 'adding', 'consideration', 'table', 'san', 'conference', 'falkenburg', 'cycling', 'tuning', 'basis', '307-315', 'detected', 'strategy', 'reduction', 'basic', 'addison', 'corresponding', 'sufficient', 'bulb', 'sound', 'exception', 'appearance', 'single', 'value', 'cursor', 'mainframe', 'evaluating', 'error', 'loop', 'vi', 'delaying', 'ready', 'mouse', 'different', 'shuts', 'credit', 'patent', 'microsystems', 'same', 'lowest-priority', 'modification', 'wakeup', 'several', 'difficult', 'development', 'practice', 'effect', 'hand', 'running', 'moving', 'purpose', 'parameter-setting', 'aggregate', 'changing', 'recent', 'idling', 'task', 'setc', 'failing', 'analysis', 'machinery', 'model', 'modem', 'next', 'execute', 'less', 'being', 'unfair', 'rest', 'i/o', 'inactive', 'virtual', 'human', 'reviewer', 'reality', 'previous', 'heuristic', 'console', 'on-chip', 'marianne', 'desktop', 'battery', 'setting', 'maintaining', 'easy', 'mc68030', 'input', 'extensive', 'amusing', 'real', 'checking', 'big', 'showing', 'absence', 'possible', 'corresponds', 'scheduler', 'press', 'using', 'execution', 'occurring', 'loss', 'necessary', 'intel', 'identifying', 'reduces', 'performing', 'unnecessary', 'server', 'specific', 't', 'arbitrary', 'output', 'fault', 'old', 'sequence', 'b.', 'respect', 'curious', 'nonzero', 'pronounced', 'proceeding', 'broad', 'decision', 'conservative', 'contributing', 'critical', 'select', 'assuming', 'trap', 'measuring', 'gratitude', 'bold', 'power', 'equivalent', 'processing', 'continuing', 'stem', 'wesley', 'invaluable', 'publishing', 'comparison', 'rare', 'working', 'anything', 'getting', 'column', 'tracing', 'duo', 'anomalous', 'chance', 'simulation', 'range', 'doze', 'insufficient', 'runtime', 'os', 'software', 'seeing', 'letter', 'due', 'suessmith', 'nothing', 'appropriate', 'low-power', 'reducing', '47-56', 'networking', 'additional', 'few', 'support', 'people', 'waite', 'low', 'way', 'itmsim', 'company', 'suzuki', 'real-time', 'receipt', 'form', 'adjusting', 'volume', 'larry', 'gain', 'multitasking', 'attainable', 'considerable', 'default', 'mc68040', 'frequency', 'exploration', 'problem', 'similar', 'clear', 'detailed', 'constant', 'worthwhile', 'computing', 'certain', 'al', 'general', 'engineering', 'file', 'lifetime', 'regime', 'variety', 'corporation', 'idleness', 'percent', 'detail', 'invalid', 'graduate', 'application', 'inactivity-timer', 'other', 'functionality', 'naive', 'poor', 'picture', 'francisco', 'eworld', 'preceding', 'variation', 'helpful', 'meaning', 'important', 'arbiter', 'allowing', 'source', 'individual', 'algorithm', 'interval', 'curve', 'having', 'tradeoff', '59-67', 'time', 'inaccuracy', 'resolution', 'cpu']\n"
     ]
    }
   ],
   "source": [
    "vocabulary = list(set(processed_text))\n",
    "print vocabulary"
   ]
  },
  {
   "cell_type": "code",
   "execution_count": 32,
   "metadata": {
    "collapsed": true
   },
   "outputs": [],
   "source": [
    "import numpy as np\n",
    "import math\n",
    "vocab_len = len(vocabulary)\n",
    "\n",
    "weighted_edge = np.zeros((vocab_len,vocab_len),dtype=np.float32)\n",
    "\n",
    "score = np.zeros((vocab_len),dtype=np.float32)\n",
    "window_size = 3\n",
    "covered_coocurrences = []"
   ]
  },
  {
   "cell_type": "code",
   "execution_count": 33,
   "metadata": {
    "collapsed": false
   },
   "outputs": [
    {
     "ename": "KeyboardInterrupt",
     "evalue": "",
     "output_type": "error",
     "traceback": [
      "\u001b[0;31m---------------------------------------------------------------------------\u001b[0m",
      "\u001b[0;31mKeyboardInterrupt\u001b[0m                         Traceback (most recent call last)",
      "\u001b[0;32m<ipython-input-33-d4a3bb39f9bf>\u001b[0m in \u001b[0;36m<module>\u001b[0;34m()\u001b[0m\n\u001b[1;32m      7\u001b[0m             \u001b[0;32mfor\u001b[0m \u001b[0mwindow_start\u001b[0m \u001b[0;32min\u001b[0m \u001b[0mxrange\u001b[0m\u001b[0;34m(\u001b[0m\u001b[0;36m0\u001b[0m\u001b[0;34m,\u001b[0m\u001b[0;34m(\u001b[0m\u001b[0mlen\u001b[0m\u001b[0;34m(\u001b[0m\u001b[0mprocessed_text\u001b[0m\u001b[0;34m)\u001b[0m\u001b[0;34m-\u001b[0m\u001b[0mwindow_size\u001b[0m\u001b[0;34m)\u001b[0m\u001b[0;34m)\u001b[0m\u001b[0;34m:\u001b[0m\u001b[0;34m\u001b[0m\u001b[0m\n\u001b[1;32m      8\u001b[0m \u001b[0;34m\u001b[0m\u001b[0m\n\u001b[0;32m----> 9\u001b[0;31m                 \u001b[0mwindow_end\u001b[0m \u001b[0;34m=\u001b[0m \u001b[0mwindow_start\u001b[0m\u001b[0;34m+\u001b[0m\u001b[0mwindow_size\u001b[0m\u001b[0;34m\u001b[0m\u001b[0m\n\u001b[0m\u001b[1;32m     10\u001b[0m \u001b[0;34m\u001b[0m\u001b[0m\n\u001b[1;32m     11\u001b[0m                 \u001b[0mwindow\u001b[0m \u001b[0;34m=\u001b[0m \u001b[0mprocessed_text\u001b[0m\u001b[0;34m[\u001b[0m\u001b[0mwindow_start\u001b[0m\u001b[0;34m:\u001b[0m\u001b[0mwindow_end\u001b[0m\u001b[0;34m]\u001b[0m\u001b[0;34m\u001b[0m\u001b[0m\n",
      "\u001b[0;31mKeyboardInterrupt\u001b[0m: "
     ]
    }
   ],
   "source": [
    "for i in xrange(0,vocab_len):\n",
    "    score[i]=1\n",
    "    for j in xrange(0,vocab_len):\n",
    "        if j==i:\n",
    "            weighted_edge[i][j]=0\n",
    "        else:\n",
    "            for window_start in xrange(0,(len(processed_text)-window_size)):\n",
    "                \n",
    "                window_end = window_start+window_size\n",
    "                \n",
    "                window = processed_text[window_start:window_end]\n",
    "                \n",
    "                if (vocabulary[i] in window) and (vocabulary[j] in window):\n",
    "                    \n",
    "                    index_of_i = window_start + window.index(vocabulary[i])\n",
    "                    index_of_j = window_start + window.index(vocabulary[j])\n",
    "                    \n",
    "                    # index_of_x is the absolute position of the xth term in the window \n",
    "                    # (counting from 0) \n",
    "                    # in the processed_text\n",
    "                      \n",
    "                    if [index_of_i,index_of_j] not in covered_coocurrences:\n",
    "                        weighted_edge[i][j]+=1/math.fabs(index_of_i-index_of_j)\n",
    "                        covered_coocurrences.append([index_of_i,index_of_j])"
   ]
  },
  {
   "cell_type": "code",
   "execution_count": 23,
   "metadata": {
    "collapsed": true
   },
   "outputs": [],
   "source": [
    "inout = np.zeros((vocab_len),dtype=np.float32)\n",
    "\n",
    "for i in xrange(0,vocab_len):\n",
    "    for j in xrange(0,vocab_len):\n",
    "        inout[i]+=weighted_edge[i][j]"
   ]
  },
  {
   "cell_type": "code",
   "execution_count": 24,
   "metadata": {
    "collapsed": true
   },
   "outputs": [
    {
     "ename": "KeyboardInterrupt",
     "evalue": "",
     "output_type": "error",
     "traceback": [
      "\u001b[0;31m---------------------------------------------------------------------------\u001b[0m",
      "\u001b[0;31mKeyboardInterrupt\u001b[0m                         Traceback (most recent call last)",
      "\u001b[0;32m<ipython-input-24-15ba5362bd67>\u001b[0m in \u001b[0;36m<module>\u001b[0;34m()\u001b[0m\n\u001b[1;32m     10\u001b[0m         \u001b[0msummation\u001b[0m \u001b[0;34m=\u001b[0m \u001b[0;36m0\u001b[0m\u001b[0;34m\u001b[0m\u001b[0m\n\u001b[1;32m     11\u001b[0m         \u001b[0;32mfor\u001b[0m \u001b[0mj\u001b[0m \u001b[0;32min\u001b[0m \u001b[0mxrange\u001b[0m\u001b[0;34m(\u001b[0m\u001b[0;36m0\u001b[0m\u001b[0;34m,\u001b[0m\u001b[0mvocab_len\u001b[0m\u001b[0;34m)\u001b[0m\u001b[0;34m:\u001b[0m\u001b[0;34m\u001b[0m\u001b[0m\n\u001b[0;32m---> 12\u001b[0;31m             \u001b[0;32mif\u001b[0m \u001b[0mweighted_edge\u001b[0m\u001b[0;34m[\u001b[0m\u001b[0mi\u001b[0m\u001b[0;34m]\u001b[0m\u001b[0;34m[\u001b[0m\u001b[0mj\u001b[0m\u001b[0;34m]\u001b[0m \u001b[0;34m!=\u001b[0m \u001b[0;36m0\u001b[0m\u001b[0;34m:\u001b[0m\u001b[0;34m\u001b[0m\u001b[0m\n\u001b[0m\u001b[1;32m     13\u001b[0m                 \u001b[0msummation\u001b[0m \u001b[0;34m+=\u001b[0m \u001b[0;34m(\u001b[0m\u001b[0mweighted_edge\u001b[0m\u001b[0;34m[\u001b[0m\u001b[0mi\u001b[0m\u001b[0;34m]\u001b[0m\u001b[0;34m[\u001b[0m\u001b[0mj\u001b[0m\u001b[0;34m]\u001b[0m\u001b[0;34m/\u001b[0m\u001b[0minout\u001b[0m\u001b[0;34m[\u001b[0m\u001b[0mj\u001b[0m\u001b[0;34m]\u001b[0m\u001b[0;34m)\u001b[0m\u001b[0;34m*\u001b[0m\u001b[0mscore\u001b[0m\u001b[0;34m[\u001b[0m\u001b[0mj\u001b[0m\u001b[0;34m]\u001b[0m\u001b[0;34m\u001b[0m\u001b[0m\n\u001b[1;32m     14\u001b[0m \u001b[0;34m\u001b[0m\u001b[0m\n",
      "\u001b[0;31mKeyboardInterrupt\u001b[0m: "
     ]
    }
   ],
   "source": [
    "MAX_ITERATIONS = 50\n",
    "d=0.85\n",
    "threshold = 0.0001 #convergence threshold\n",
    "\n",
    "for iter in xrange(0,MAX_ITERATIONS):\n",
    "    prev_score = np.copy(score)\n",
    "    \n",
    "    for i in xrange(0,vocab_len):\n",
    "        \n",
    "        summation = 0\n",
    "        for j in xrange(0,vocab_len):\n",
    "            if weighted_edge[i][j] != 0:\n",
    "                summation += (weighted_edge[i][j]/inout[j])*score[j]\n",
    "                \n",
    "        score[i] = (1-d) + d*(summation)\n",
    "    \n",
    "    if np.sum(np.fabs(prev_score-score)) <= threshold: #convergence condition\n",
    "        print \"Converging at iteration \"+str(iter)+\"....\"\n",
    "        break"
   ]
  },
  {
   "cell_type": "code",
   "execution_count": null,
   "metadata": {
    "collapsed": true
   },
   "outputs": [],
   "source": [
    "for i in xrange(0,vocab_len):\n",
    "    print \"Score of \"+vocabulary[i]+\": \"+str(score[i])"
   ]
  },
  {
   "cell_type": "code",
   "execution_count": 27,
   "metadata": {
    "collapsed": false
   },
   "outputs": [
    {
     "name": "stdout",
     "output_type": "stream",
     "text": [
      "Partitioned Phrases (Candidate Keyphrases): \n",
      "\n",
      "[['cpu'], ['major', 'power', 'consumer'], ['portable', 'computer'], ['considerable', 'power'], ['turning'], ['cpu'], ['doing', 'useful', 'work'], ['apple'], ['time'], ['busy', 'waiting'], ['hard'], ['useful', 'computation'], ['occurring'], ['paper'], ['several', 'heuristic', 'technique'], ['identifying'], ['condition'], ['putting'], ['cpu'], ['low-power', 'state'], ['technique'], ['turning'], ['turning'], ['busy', 'waiting'], ['extending', 'real', 'time'], ['period'], ['trace-driven', 'simulation'], ['using'], ['interval', 'trace'], ['potential', 'energy', 'saving'], ['performance', 'impact'], ['technique'], ['considerable', 'amount'], ['energy'], ['having'], ['little', 'performance', 'impact'], ['implementing'], ['strategy'], ['battery', 'lifetime'], ['relative'], ['apple'], ['current', 'cpu', 'power', 'management', 'strategy'], ['cpu'], ['logic'], ['responsible'], ['power'], ['similar', 'technique'], ['applicable'], ['operating', 'system'], ['similar', 'behavior'], ['reason'], ['work'], ['reducing'], ['power', 'consumption'], ['computer'], ['power', 'consumption'], ['various', 'macintosh'], ['computer'], ['typical'], ['number'], ['engineering'], ['depending'], ['machine'], ['total', 'power'], ['attributable'], ['power', 'consumption'], ['power', 'management'], ['i.e'], ['high', 'percentage'], ['intuition'], ['software', 'power', 'management'], ['important', 'target'], ['research'], ['software', 'power', 'management'], ['many', 'modern', 'microprocessor'], ['low-power', 'state'], ['little'], ['power'], ['advantage'], ['low-power', 'state'], ['operating', 'system'], ['consequent', 'saving'], ['power'], ['time'], ['energy', 'overhead'], ['turning'], ['restarting'], ['way'], ['goal'], ['power', 'management', 'strategy'], ['similar'], ['hard', 'disk'], ['strategy'], ['making'], ['prediction'], ['srivastava', 'et', 'al'], ['instance'], ['t', 'hobbit'], ['certain', 'version'], ['mc68030'], ['mc68040'], ['static', 'logic'], ['state'], ['clock'], ['powerpc'], ['low-power', 'doze', 'mode'], ['ten', 'system', 'clock'], ['short'], ['low', 'energy', 'cost'], ['entering'], ['leaving'], ['low-power', 'state'], ['optimal', 'cpu', 'power', 'management', 'strategy'], ['trivial'], ['cpu'], ['useful', 'work'], ['opportunityfor'], ['strategy'], ['srivastava', 'et', 'al'], ['material'], ['work'], ['national', 'science', 'foundation', 'graduate', 'research', 'fellowship'], ['apple', 'computer'], ['part'], ['national', 'science', 'foundation'], ['grant', 'mip-9116578'], ['ccr-9117028'], ['state'], ['california'], ['micro', 'program'], ['intel', 'corporation'], ['sun', 'microsystems'], ['work'], ['support'], ['cooperation'], ['apple'], ['relationship'], ['work'], ['apple'], ['product', 'development', 'plan'], ['second'], ['international', 'conference'], ['mobile', 'computing'], ['networking'], ['rye'], ['new', 'york'], ['copyright'], ['association'], ['computing', 'machinery'], ['copyright'], ['work'], ['others'], ['abstracting'], ['credit'], ['server'], ['prior', 'specific', 'permission'], ['fee'], ['equivalent', 'version'], ['strategy'], ['virtual', 'lowest-priority'], ['job'], ['suessmith'], ['paap'], ['powerpc'], ['suzuki'], ['uno'], ['patent'], ['virtual', 'lowest-priority'], ['past'], ['loop'], ['mainframe'], ['bulb'], ['console'], ['strategy'], ['turning'], ['available'], ['basic', 'strategy'], ['apple'], ['useful', 'work'], ['feature'], ['design'], ['single-user', 'system'], ['less'], ['operating', 'system'], ['arbiter'], ['resource'], ['power', 'management'], ['mind'], ['main', 'problem'], ['current', 'management'], ['time'], ['having'], ['system'], ['having'], ['application'], ['problem'], ['operating', 'system'], ['work'], ['aware'], ['phenomenon'], ['trace'], ['scheduling'], ['condition'], ['necessary'], ['ready'], ['ready'], ['active', 'window'], ['second', 'problem'], ['programmer', 'writing', 'application'], ['application'], ['running'], ['foreground'], ['taking'], ['processing', 'time'], ['time'], ['nothing'], ['problem'], ['period'], ['ten', 'minute'], ['anything'], ['anything'], ['second'], ['short'], ['period'], ['necessary'], ['solution'], ['problem'], ['necessary'], ['saving'], ['basic', 'strategy'], ['reason'], ['additional', 'technique'], ['management'], ['technique'], ['dealing'], ['problem'], ['operating', 'system'], ['simple', 'scheduling', 'technique'], ['technique'], ['heuristic'], ['making', 'unnecessary'], ['time'], ['technique'], ['time'], ['constant', 'factor'], ['operating', 'system'], ['reasonable', 'trade-off'], ['energy', 'saving'], ['performance'], ['latter'], ['technique'], ['greediness', 'technique'], ['extension', 'technique'], ['using'], ['technique'], ['effectiveness'], ['basic', 'strategy'], ['allowing'], ['effectiveness'], ['current'], ['inactivity-timer'], ['strategy'], ['detail'], ['paper'], ['different', 'strategy'], ['variety'], ['parameter', 'value'], ['using', 'trace-driven', 'simulation'], ['simulation'], ['algorithm'], ['current'], ['strategy'], ['parameter'], ['comparison'], ['strategy'], ['consequence'], ['strategy'], ['power'], ['observed', 'performance'], ['paper'], ['section'], ['detail'], ['strategy'], ['comparing'], ['including'], ['current', 'strategy'], ['basic', 'strategy'], ['management', 'technique'], ['improving'], ['basic', 'strategy'], ['section'], ['methodology'], ['strategy'], ['evaluation', 'criterion'], ['tool'], ['trace-driven', 'simulation'], ['nature'], ['trace'], ['section'], ['simulation'], ['section'], ['meaning'], ['consequence'], ['way'], ['future', 'work'], ['power', 'management', 'strategy'], ['inactivity', 'timer'], ['operating', 'system'], ['power', 'reduction'], ['activity'], ['last'], ['second'], ['i/o', 'activity'], ['last'], ['second'], ['power', 'reduction'], ['activity'], ['detected'], ['activity'], ['input'], ['i/o', 'device'], ['appearance'], ['cursor'], ['time'], ['cursor'], ['watch'], ['reason'], ['classification'], ['latter'], ['activity'], ['human', 'interface', 'guideline', 'specify'], ['computing'], ['having'], ['cursor'], ['watch'], ['changing'], ['appearance'], ['cursor'], ['e.g'], ['basic', 'strategy'], ['case'], ['event'], ['waiting'], ['inactivity', 'timer'], ['strategy'], ['basic', 'strategy'], ['reason'], ['recent', 'macintosh', 'computer'], ['high', 'overhead'], ['turning'], ['making'], ['basic', 'strategy'], ['applicable'], ['old'], ['example'], ['content'], ['on-chip', 'cache'], ['reason'], ['effectiveness'], ['basic', 'strategy'], ['different'], ['inactivity', 'timer'], ['strategy'], ['current'], ['method'], ['time', 'management'], ['greediness', 'technique'], ['overview'], ['doing', 'useful', 'work'], ['technique'], ['general', 'term'], ['detail'], ['implementation'], ['technique'], ['following', 'model'], ['appropriate', 'way'], ['event-driven', 'environment'], ['receiving'], ['event'], ['event'], ['blocking'], ['processing'], ['event'], ['ready'], ['exception'], ['periodic', 'task'], ['blinking'], ['cursor'], ['checking'], ['time'], ['acting'], ['processing'], ['event'], ['busy'], ['manner'], ['e.g'], ['acting'], ['period'], ['time'], ['cooperative', 'multitasking'], ['meaning'], ['reason'], ['application', 'writer'], ['work'], ['work'], ['specifying'], ['period'], ['failing'], ['period'], ['time'], ['gain'], ['part'], ['technique'], ['heuristic'], ['acting'], ['acting'], ['period'], ['computing'], ['computing'], ['event'], ['sign'], ['activity'], ['computing'], ['several', 'time'], ['row'], ['receiving'], ['event'], ['showing', 'sign'], ['activity'], ['exact', 'number'], ['control-yieldtimes'], ['greediness'], ['parameter'], ['technique'], ['energy', 'saving'], ['level'], ['performance'], ['sign'], ['activity'], ['i/o', 'device'], ['sound', 'chip'], ['appearance'], ['cursor'], ['cursor'], ['watch'], ['absence'], ['activity'], ['cpu'], ['running'], ['busy', 'waiting'], ['manner'], ['running'], ['violating'], ['human', 'interface', 'guideline'], ['greediness', 'technique', 'work'], ['acting'], ['simple', 'scheduling', 'technique'], ['condition'], ['ready'], ['condition'], ['form'], ['event', 'type', 'e1'], ['period'], ['time', 't'], ['last'], ['period'], ['time'], ['willing'], ['absence'], ['event'], ['being'], ['period'], ['other', 'operating', 'system'], ['unix'], ['microsoft', 'window'], ['simple', 'scheduling', 'technique'], ['default', 'behavior'], ['operating', 'system'], ['using'], ['simple', 'scheduling', 'technique'], ['example'], ['unblocked'], ['second'], ['unblocked'], ['second'], ['cursor'], ['common', 'occurrence'], ['real', 'time', 'system'], ['real', 'time'], ['period'], ['fact'], ['current'], ['power', 'management', 'strategy'], ['power', 'management'], ['cursor'], ['power', 'management'], ['kind'], ['behavior'], ['acceptable'], ['possible'], ['effectiveness'], ['simple', 'scheduling', 'technique'], ['using'], ['extension', 'technique'], ['technique'], ['multiplier'], ['number', 'great'], ['period'], ['eliminating'], ['fraction'], ['interval'], ['multiplier'], ['operating', 'system'], ['energy', 'saving'], ['certain', 'level'], ['performance'], ['period'], ['parameter'], ['following', 'tradeoff'], ['short'], ['period'], ['insufficient', 'power'], ['period'], ['case'], ['heuristic'], ['doing', 'something', 'useful'], ['evaluation'], ['strategy'], ['measuring'], ['consequence'], ['strategy'], ['energy', 'saving'], ['performance', 'impact'], ['energy', 'saving'], ['easy'], ['simulation'], ['percent'], ['time'], ['high-power', 'state'], ['contrast'], ['performance', 'impact'], ['percent'], ['workload', 'runtime'], ['using'], ['power-saving', 'strategy'], ['difficult'], ['performance', 'penalty', 'stem'], ['fact'], ['power', 'saving', 'strategy'], ['performing', 'useful', 'work'], ['work'], ['having'], ['making'], ['workload'], ['detailed', 'knowledge'], ['purpose'], ['instruction', 'sequence'], ['difficult'], ['tracer'], ['work'], ['useful'], ['inexact'], ['same', 'heuristic'], ['greediness', 'technique'], ['doing', 'useful', 'work'], ['other', 'word'], ['useful'], ['i/o', 'device'], ['sound', 'chip'], ['cursor'], ['cursor'], ['watch'], ['using'], ['same', 'heuristic'], ['evaluation'], ['strategy'], ['strategy'], ['invalid'], ['strategy'], ['prior', 'knowledge'], ['useful'], ['evaluation', 'system'], ['evaluating'], ['accuracy'], ['guess'], ['useful'], ['useless'], ['time'], ['application', 'code'], ['original', 'trace'], ['time'], ['time'], ['switching'], ['time'], ['switching'], ['time'], ['os'], ['doing', 'useful', 'work'], ['time'], ['doing', 'useful', 'work'], ['sign'], ['activity'], ['useful'], ['useful', 'work'], ['simulation'], ['assumption'], ['significant', 'os', 'work'], ['action'], ['time'], ['running'], ['operating', 'system'], ['doing', 'useful', 'work'], ['continuous', 'period'], ['ms.'], ['reason'], ['small', 'time', 'unit'], ['scheduling'], ['decision'], ['least'], ['idleness'], ['time'], ['time'], ['different'], ['last'], ['m'], ['observed', 'difference'], ['average', 'interprocess', 'time'], ['average', 'interprocess', 'time'], ['main', 'tool'], ['simulation'], ['tool'], ['trace'], ['event'], ['different', 'strategy'], ['detail'], ['time'], ['occurrence'], ['other', 'detail'], ['following', 'event'], ['tracing', 'begin'], ['end'], ['machine'], ['begin'], ['end'], ['sound', 'chip'], ['cursor'], ['mouse'], ['moving'], ['i/o', 'device'], ['event'], ['event', 'queue'], ['data'], ['machine'], ['tracing'], ['running'], ['battery', 'power'], ['energy', 'saving'], ['important'], ['analysis'], ['appropriate', 'workload'], ['shuts'], ['power', 'management'], ['tracing'], ['trace'], ['current', 'strategy'], ['strategy'], ['setc', 'module'], ['routine'], ['tracing'], ['counting', 'system', 'event'], ['second', 'tool'], ['itmsim'], ['power', 'management', 'method', 'using'], ['current'], ['inactivity-threshold', 'strategy'], ['basis'], ['comparison'], ['other', 'word'], ['strategy'], ['activity'], ['last'], ['second'], ['i/o', 'activity'], ['last', 'fifteen', 'second'], ['actuality'], ['period'], ['chance'], ['activity'], ['end'], ['power', 'management'], ['case'], ['detail'], ['proprietary'], ['itmsim'], ['attempt'], ['aspect'], ['strategy'], ['idea'], ['consequence'], ['proprietary', 'modification'], ['simulation'], ['aggregate', 'workload'], ['performance', 'impact'], ['expense'], ['decreasing'], ['time'], ['particular', 'proprietary', 'modification'], ['trivial', 'effect'], ['power', 'saving'], ['table'], ['information'], ['useful'], ['delaying'], ['rest'], ['trace', 'execution'], ['contributing'], ['performance', 'impact'], ['non-useful'], ['useful', 'os', 'time'], ['contributing'], ['performance', 'impact'], ['third', 'tool'], ['asmsim'], ['basic', 'strategy'], ['simple', 'scheduling', 'technique'], ['other'], ['technique'], ['extension'], ['greediness'], ['parameter'], ['technique'], ['simulation'], ['simulation'], ['event'], ['ready'], ['preceding'], ['receipt'], ['ready', 'event'], ['i.e'], ['periodic'], ['order'], ['example'], ['second'], ['second'], ['late'], ['approach'], ['inaccuracy'], ['simulation'], ['reality'], ['last'], ['seeing'], ['second'], ['second'], ['dependence'], ['action'], ['time'], ['rare'], ['significant', 'error'], ['simulation'], ['section'], ['current'], ['strategy'], ['strategy'], ['basic', 'strategy'], ['strategy', 'b.'], ['letter'], ['simple'], ['technique'], ['letter', 'g'], ['greediness', 'technique'], ['letter', 's'], ['extension', 'technique'], ['greediness', 'technique'], ['extension', 'technique'], ['simple', 'scheduling', 'technique'], ['supplement'], ['simple', 'scheduling', 'technique'], ['thing'], ['optimal', 'energy', 'saving', 'attainable'], ['optimum', 'strategy'], ['time'], ['doing', 'useful', 'work'], ['non-useful', 'time'], ['performance', 'impact'], ['foreknowledge'], ['useful', 'work'], ['simulation'], ['strategy'], ['energy', 'saving'], ['absolute', 'ceiling'], ['realizable', 'strategy'], ['high', 'figure'], ['doing', 'useful', 'computation'], ['hour'], ['trace'], ['rest'], ['time'], ['busy', 'waiting'], ['idling'], ['second', 'simulation'], ['concern', 'strategy'], ['simulation'], ['strategy'], ['energy', 'saving'], ['performance', 'impact'], ['other', 'word'], ['energy'], ['power-saving', 'strategy'], ['overall', 'workload', 'completion', 'time'], ['strategy'], ['energy', 'consumption'], ['optimal', 'strategy'], ['real'], ['time'], ['cpu', 'time'], ['useful'], ['performance', 'impact'], ['useful', 'cpu', 'time'], ['work'], ['manner'], ['actual', 'real', 'time'], ['reply'], ['period'], ['real'], ['useful'], ['work'], ['next', 'simulation'], ['concern', 'strategy', 'b'], ['idling'], ['original', 'trace'], ['trace'], ['engineer'], ['apple', 'computer'], ['table'], ['data'], ['trace'], ['machine'], ['trace'], ['detailed', 'discussion'], ['trace'], ['collection'], ['concern'], ['aggregate', 'workload'], ['i.e'], ['figure'], ['performance', 'impact'], ['versus'], ['energy', 'saving'], ['strategy'], ['various'], ['multiplier'], ['certain'], ['multiplier'], ['basic', 'strategy'], ['new'], ['management', 'technique'], ['energy'], ['current', 'technique'], ['impact'], ['performance'], ['energy'], ['optimal', 'strategy'], ['real'], ['time'], ['next', 'simulation'], ['concern', 'strategy'], ['strategy'], ['energy', 'saving'], ['performance', 'impact'], ['strategy'], ['energy', 'consumption'], ['workload', 'completion', 'time'], ['strategy'], ['optimal', 'strategy'], ['energy'], ['real'], ['time'], ['next', 'simulation'], ['concern', 'strategy'], ['figure'], ['performance', 'versus', 'energy', 'saving', 'graph'], ['variation'], ['strategy', 'using'], ['multiplier'], ['strategy'], ['performance', 'impact'], ['equal'], ['strategy'], ['corresponds'], ['multiplier'], ['energy', 'saving'], ['comparing', 'strategy'], ['equal', 'performance', 'ground'], ['strategy'], ['energy', 'consumption'], ['increasing'], ['multiplier'], ['cpu', 'energy'], ['performance', 'impact'], ['performance', 'impact'], ['whole', 'story'], ['case'], ['real', 'time'], ['something'], ['certain', 'condition'], ['something'], ['large', 'real', 'time'], ['wakeup', 'period'], ['certain'], ['timely', 'manner'], ['issue'], ['practice'], ['extension', 'factor'], ['level'], ['desirable'], ['next', 'simulation'], ['concern', 'strategy', 'big'], ['figure'], ['performance', 'versus', 'energy', 'saving', 'graph'], ['variation'], ['strategy', 'using', 'greediness'], ['period'], ['second'], ['second'], ['extensive', 'exploration'], ['parameter', 'space'], ['parameter', 'setting', 'giving'], ['best', 'energy', 'saving'], ['performance', 'impact', 'level'], ['greediness'], ['period'], ['second'], ['parameter'], ['energy', 'saving'], ['comparing', 'strategy', 'big'], ['equal', 'performance', 'ground'], ['strategy', 'big', 'reduces'], ['energy', 'consumption'], ['optimal', 'strategy'], ['energy', 'consumption'], ['real'], ['time'], ['next'], ['concern', 'strategy', 'bigs'], ['figure'], ['realm'], ['interested'], ['performance', 'impact'], ['increasing'], ['multiplier'], ['bad'], ['changing'], ['greediness'], ['period'], ['energy', 'saving', 'attainable'], ['increasing'], ['multiplier'], ['low', 'performance', 'cost'], ['decreasing'], ['greediness'], ['increasing'], ['period'], ['best', 'bigs', 'strategy'], ['big', 'strategy'], ['extension', 'technique'], ['figure'], ['great', 'performance', 'impact'], ['case'], ['best', 'energy', 'saving'], ['bigs'], ['multiplier'], ['value'], ['performance', 'impact'], ['useful'], ['greediness', 'technique'], ['extension', 'technique'], ['performance', 'impact'], ['useless'], ['extension', 'technique'], ['greediness', 'technique'], ['summary'], ['finding'], ['strategy'], ['table'], ['column'], ['figure'], ['corresponding'], ['1-6.', 'figure'], ['performance', 'impact'], ['versus'], ['energy', 'saving'], ['strategy', 'big'], ['various', 'greediness'], ['period'], ['greediness'], ['curve'], ['period'], ['reader'], ['nonzero', 'origin'], ['figure'], ['space'], ['sufficient', 'resolution'], ['key', 'feature'], ['figure'], ['performance', 'impact'], ['versus'], ['energy', 'saving'], ['strategy', 'bigs'], ['various'], ['multiplier'], ['various', 'greediness'], ['period'], ['sec'], ['reader'], ['nonzero', 'origin'], ['figure'], ['space'], ['sufficient', 'resolution'], ['key', 'feature'], ['important', 'issue'], ['extent'], ['parameter'], ['specific'], ['workload'], ['optimal'], ['effective'], ['other', 'workload'], ['unclear'], ['effective'], ['operating', 'system'], ['tuning'], ['parameter'], ['best', 'way'], ['optimal', 'energy', 'saving'], ['level'], ['performance'], ['important'], ['sensitivity'], ['particular', 'value'], ['parameter'], ['graph'], ['relationship'], ['performance'], ['energy', 'saving'], ['parameter', 'value'], ['low', 'sensitivity'], ['parameter', 'value'], ['instance'], ['varying'], ['period'], ['figure'], ['wide', 'range'], ['value'], ['consequent', 'energy', 'saving'], ['59-67'], ['varying'], ['greediness'], ['figure'], ['wide', 'range'], ['value'], ['consequent', 'energy', 'saving'], ['range', '63-71'], ['varying'], ['multiplier'], ['wide', 'range'], ['figure'], ['consequent', 'energy', 'saving'], ['range', '47-56'], ['way'], ['sensitivity'], ['parameter'], ['effectiveness'], ['technique'], ['workload', 'corresponding'], ['effect'], ['using', 'parameter'], ['aggregate', 'workload'], ['individual'], ['figure'], ['energy', 'saving'], ['strategy'], ['figure'], ['strategy', 'big'], ['superior'], ['strategy'], ['strategy'], ['superior'], ['strategy'], ['case'], ['fault'], ['basic', 'strategy'], ['simple', 'scheduling', 'technique'], ['multiplier', 'parameter'], ['saving'], ['great'], ['strategy', 'b'], ['figure'], ['parameter'], ['specific', 'workload'], ['strategy'], ['general'], ['energy'], ['current', 'strategy'], ['interesting'], ['clear', 'ordering'], ['strategy'], ['big'], ['strategy', 'big'], ['energy'], ['strategy'], ['energy'], ['strategy'], ['curious'], ['strategy'], ['superior'], ['strategy', 'b'], ['simulation'], ['reason', 'strategy'], ['good'], ['strategy', 'b'], ['trace'], ['application'], ['requesting'], ['time'], ['activity'], ['contiguous', 'section'], ['trace', 'lasting'], ['hour'], ['behavior'], ['extension', 'technique'], ['problem'], ['multiplying'], ['factor'], ['greediness', 'technique'], ['able'], ['problem'], ['problem'], ['strategy', 'big', 'beat', 'strategy'], ['strategy', 'b'], ['way'], ['basic', 'strategy'], ['new', 'technique'], ['effective'], ['tuning'], ['parameter'], ['arbitrary', 'parameter'], ['energy', 'saving'], ['superior'], ['strategy'], ['example'], ['parameter', 'setting'], ['running'], ['simulation'], ['greediness'], ['period'], ['second'], ['multiplier'], ['respectable', 'energy', 'saving'], ['performance', 'impact'], ['energy', 'consumption'], ['workload', 'completion', 'time'], ['conservative'], ['parameter'], ['greediness'], ['period'], ['second'], ['multiplier'], ['energy', 'saving'], ['performance', 'impact'], ['decreasing'], ['energy', 'consumption'], ['reducing', 'workload', 'completion', 'time'], ['strategy'], ['greediness', 'technique'], ['effective'], ['broad', 'range'], ['parameter', 'value'], ['fact'], ['using'], ['ideal', 'parameter'], ['strategy', 'big'], ['application'], ['percent'], ['application'], ['acting'], ['application'], ['express', 'modem'], ['eworld'], ['amusing'], ['desktop', 'interface', 'application'], ['apple'], ['processing', 'time'], ['having'], ['acting'], ['support'], ['suggestion'], ['designer'], ['operating', 'system'], ['application'], ['single-user', 'system'], ['rigorous', 'management'], ['time'], ['saving'], ['performance', 'impact'], ['strategy'], ['coming'], ['useful'], ['different', 'class'], ['time'], ['original', 'trace'], ['strategy'], ['time'], ['original', 'trace'], ['running'], ['running'], ['scheduler'], ['rest'], ['running', 'other', 'os', 'code'], ['class'], ['time'], ['useful'], ['nonuseful', 'time'], ['useful', 'time'], ['simulation'], ['technique'], ['cycle'], ['running'], ['time'], ['performance', 'impact'], ['nonuseful', 'time'], ['technique'], ['rest'], ['cycling', 'time'], ['table'], ['strategy'], ['time'], ['running'], ['scheduler'], ['operating', 'system'], ['time'], ['performance', 'impact'], ['bold'], ['time'], ['time'], ['standard', 'font'], ['time'], ['cycling'], ['italic'], ['table'], ['time'], ['number'], ['strategy'], ['source'], ['energy', 'saving'], ['strategy'], ['looking'], ['italic', 'figure'], ['table'], ['strategy'], ['hour', 'cycling'], ['idling'], ['hour', 'cycling'], ['performing', 'nonuseful'], ['hour', 'cycling'], ['switching', 'nonuseful'], ['interesting'], ['time'], ['having'], ['running'], ['technique', 'attempt'], ['cycle'], ['doing', 'anything'], ['doing', 'anything'], ['doing', 'little'], ['getting'], ['strategy', 'b'], ['cycle'], ['running'], ['scheduling'], ['cycling'], ['hour'], ['strategy'], ['cycle'], ['cycle'], ['running'], ['scheduling'], ['time'], ['cycling'], ['strategy'], ['nonuseful'], ['scheduler', 'time'], ['strategy'], ['saving', 'stem'], ['reducing'], ['amount'], ['time'], ['scheduling', 'nonuseful'], ['reducing'], ['time'], ['running', 'nonuseful'], ['fact'], ['strategy'], ['running', 'nonuseful'], ['strategy'], ['reason'], ['strategy'], ['less', 'time', 'scheduling', 'nonuseful'], ['table'], ['strategy'], ['few', 'nonuseful'], ['few'], ['less', 'time'], ['scheduling'], ['saving'], ['strategy'], ['stem'], ['giving'], ['time'], ['doing', 'useful', 'work'], ['switching'], ['less'], ['doing', 'useful', 'work'], ['saving', 'time'], ['switching'], ['other', 'hand'], ['strategy', 'big'], ['superior'], ['strategy'], ['conversion'], ['type'], ['nonuseful', 'time'], ['saving'], ['strategy', 'big', 'stem'], ['giving'], ['busy'], ['giving'], ['less', 'time'], ['useless', 'task'], ['table'], ['source'], ['performance', 'impact'], ['strategy'], ['looking'], ['bold', 'number'], ['strategy'], ['half'], ['performance', 'impact'], ['due'], ['delaying'], ['running'], ['useful'], ['half'], ['due'], ['delaying'], ['switching'], ['other', 'hand'], ['strategy'], ['same', 'amount'], ['useful'], ['time'], ['less', 'time'], ['switching'], ['fact'], ['low', 'absolute', 'number'], ['useful'], ['low', 'amount'], ['scheduler', 'time'], ['strategy'], ['big'], ['allowing'], ['great', 'amount'], ['os', 'time'], ['maintaining'], ['same', 'performance', 'impact'], ['strategy'], ['main', 'observation'], ['strategy'], ['big'], ['few', 'useful'], ['strategy'], ['design'], ['latter'], ['same', 'amount'], ['to-'], ['simulation'], ['following'], ['basic', 'strategy'], ['energy'], ['current'], ['strategy'], ['less', 'performance', 'impact'], ['adding'], ['simple', 'scheduling', 'technique'], ['basic', 'strategy'], ['energy', 'consumption'], ['workload', 'completion', 'time'], ['current'], ['strategy'], ['adding'], ['technique'], ['managing'], ['time'], ['basic', 'strategy'], ['current'], ['strategy'], ['energy', 'saving'], ['same', 'level'], ['performance', 'impact'], ['using'], ['extension', 'technique'], ['less'], ['energy', 'consumption'], ['using'], ['greediness', 'technique'], ['less'], ['energy', 'consumption'], ['case'], ['absolute', 'level'], ['performance', 'impact'], ['low'], ['best'], ['absolute', 'energy', 'saving'], ['available'], ['optimal', 'power', 'reduction'], ['simulation'], ['greediness', 'technique'], ['extension', 'technique'], ['helpful'], ['increasing'], ['saving', 'attainable'], ['basic', 'strategy'], ['simple', 'scheduling', 'technique'], ['greediness', 'technique'], ['job'], ['simple', 'scheduling', 'technique'], ['attempting'], ['same', 'performance', 'impact'], ['current'], ['worthwhile'], ['extension', 'technique'], ['using'], ['greediness', 'technique'], ['reason'], ['cost'], ['performance', 'impact'], ['energy', 'saving'], ['great'], ['extension', 'technique'], ['greediness', 'technique'], ['other', 'word'], ['adjusting'], ['parameter'], ['technique'], ['energy', 'saving'], ['cycle'], ['doing', 'useful', 'work'], ['performance', 'impact'], ['effect'], ['pronounced'], ['extension', 'technique'], ['greediness', 'technique'], ['least'], ['low', 'performance', 'impact', 'regime'], ['interested'], ['difference'], ['technique'], ['reason'], ['extension', 'technique'], ['possible'], ['extending', 'real-time'], ['time'], ['undesirable', 'effect'], ['term'], ['system', 'performance'], ['functionality'], ['analysis'], ['sensitivity'], ['technique'], ['parameter', 'setting'], ['workload'], ['ideal', 'parameter', 'setting'], ['necessary'], ['consistent', 'functioning'], ['technique'], ['technique'], ['successful'], ['naive', 'parameter-setting'], ['operating', 'system'], ['anomalous', 'case'], ['vulnerability'], ['basic', 'strategy'], ['poor', 'application', 'behavior'], ['suggesting'], ['greediness', 'technique'], ['something'], ['basic', 'strategy'], ['example'], ['duo'], ['turning'], ['w'], ['average'], ['w'], ['current', 'power', 'management', 'technique'], ['assuming'], ['extra', 'time'], ['other'], ['average'], ['average', 'power', 'level'], ['current', 'power', 'management', 'technique'], ['strategy'], ['energy', 'saving'], ['same', 'performance', 'impact'], ['average', 'total', 'power', 'consumption'], ['w'], ['yielding'], ['power', 'saving'], ['battery', 'lifetime'], ['strategy'], ['figure'], ['applicable'], ['workload'], ['i.e'], ['unclear'], ['effective'], ['method'], ['other', 'workload'], ['instance'], ['previous', 'study'], ['different', 'workload'], ['power'], ['current'], ['strategy'], ['workload'], ['saving'], ['strategy'], ['simulation'], ['trace'], ['technique'], ['applicable'], ['other', 'single-user', 'operating', 'system'], ['example'], ['microsoft', 'window'], ['basic', 'strategy'], ['simple', 'scheduling', 'technique'], ['attempt'], ['unfair'], ['time'], ['fact'], ['problem'], ['power', 'management'], ['single'], ['event', 'using', 'peekmessage'], ['getmessage'], ['waitmessage'], ['power', 'management'], ['place'], ['problem'], ['sort'], ['greediness', 'technique'], ['effectiveness'], ['basic', 'strategy'], ['technique'], ['work'], ['several', 'way'], ['strategy'], ['second'], ['additional', 'trace'], ['effectiveness'], ['technique'], ['large', 'variety'], ['workload'], ['select', 'parameter', 'value'], ['dynamic', 'variation'], ['parameter', 'value'], ['useful'], ['particular'], ['trace'], ['different', 'type'], ['environment'], ['current'], ['trace'], ['respect'], ['third'], ['power-saving', 'technique'], ['applicable'], ['practice'], ['other', 'single-user', 'operating', 'system'], ['possibility'], ['software', 'strategy'], ['cpu'], ['power', 'saving', 'mode'], ['work'], ['date'], ['example'], ['system'], ['clock', 'rate'], ['voltage'], ['information', 'useful'], ['predicting'], ['useless'], ['best'], ['cpu', 'energy'], ['theoretical', 'optimum'], ['reducing'], ['power', 'consumption'], ['computer', 'system'], ['becoming'], ['important', 'factor'], ['design'], ['case'], ['portable', 'computer'], ['important'], ['power', 'management'], ['large', 'percentage'], ['total', 'power'], ['cpu'], ['inactive'], ['operating', 'system'], ['cpu'], ['running'], ['useful'], ['work'], ['several', 'heuristic', 'technique'], ['power'], ['running'], ['waiting'], ['event'], ['delaying'], ['execute'], ['producing', 'output'], ['signaling', 'useful', 'activity'], ['delaying'], ['frequency'], ['periodic'], ['nothing', 'interesting'], ['extent'], ['similar', 'phenomenon'], ['other', 'operating', 'system'], ['technique'], ['trace-driven', 'simulation'], ['technique'], ['basis'], ['energy'], ['processing', 'time'], ['technique'], ['47-66'], ['energy'], ['decreasing'], ['energy', 'consumption'], ['26-53'], ['simple', 'strategy'], ['taking'], ['consideration'], ['fraction'], ['system', 'power'], ['cpu'], ['implementing'], ['best', 'subset'], ['technique'], ['battery', 'lifetime'], ['macintosh', 'portable'], ['saving'], ['small', 'loss'], ['effective', 'system', 'performance'], ['case'], ['loss'], ['less'], ['work'], ['continuing'], ['topic'], ['many', 'people'], ['preparation'], ['work'], ['gratitude'], ['marianne', 'hsiung'], ['support'], ['behalf'], ['apple', 'computer'], ['research'], ['phil', 'sohn'], ['setc', 'module'], ['general', 'guidance'], ['project'], ['sfarzo'], ['distribution'], ['tracer'], ['collection'], ['data', 'file'], ['many'], ['working'], ['helder', 'ramalho'], ['invaluable', 'information'], ['way'], ['current'], ['cycling', 'technique', 'work'], ['falkenburg'], ['jim', 'goche'], ['information'], ['trap', 'handler', 'programming', 'critical'], ['writing'], ['larry', 'heil'], ['cooperation'], ['apple', 'portable', 'group'], ['several'], ['tracer'], ['machine'], ['data'], ['reviewer'], ['original', 'version'], ['paper'], ['helpful'], ['insightful', 'comment'], ['macintosh'], ['volume', 'vi'], ['addison', 'wesley', 'publishing', 'company'], ['reading'], ['ma'], ['window', 'api', 'bible'], ['waite', 'group', 'press'], ['corte', 'madera'], ['proceeding'], ['ieee', 'international', 'computer', 'society', 'conference'], ['san', 'francisco'], ['307-315'], ['february'], ['modeling'], ['effect'], ['different'], ['cycling', 'technique'], ['power', 'consumption'], ['performance', 'evaluation', 'group', 'technical'], ['integrated', 'system'], ['picture'], ['energy', 'consumption'], ['portable', 'computer'], ['thesis'], ['computer', 'science'], ['university'], ['california'], ['berkeley'], ['energy'], ['portable', 'computer']]\n"
     ]
    }
   ],
   "source": [
    "phrases = []\n",
    "\n",
    "phrase = \" \"\n",
    "for word in lemmatized_text:\n",
    "    \n",
    "    if word in stopwords_plus:\n",
    "        if phrase!= \" \":\n",
    "            phrases.append(str(phrase).strip().split())\n",
    "        phrase = \" \"\n",
    "    elif word not in stopwords_plus:\n",
    "        phrase+=str(word)\n",
    "        phrase+=\" \"\n",
    "\n",
    "print \"Partitioned Phrases (Candidate Keyphrases): \\n\"\n",
    "print phrases"
   ]
  },
  {
   "cell_type": "code",
   "execution_count": 28,
   "metadata": {
    "collapsed": true
   },
   "outputs": [
    {
     "name": "stdout",
     "output_type": "stream",
     "text": [
      "Unique Phrases (Candidate Keyphrases): \n",
      "\n",
      "[['cpu'], ['major', 'power', 'consumer'], ['portable', 'computer'], ['considerable', 'power'], ['turning'], ['doing', 'useful', 'work'], ['apple'], ['time'], ['busy', 'waiting'], ['hard'], ['useful', 'computation'], ['occurring'], ['paper'], ['several', 'heuristic', 'technique'], ['identifying'], ['condition'], ['putting'], ['low-power', 'state'], ['technique'], ['extending', 'real', 'time'], ['period'], ['trace-driven', 'simulation'], ['using'], ['interval', 'trace'], ['potential', 'energy', 'saving'], ['performance', 'impact'], ['considerable', 'amount'], ['energy'], ['having'], ['little', 'performance', 'impact'], ['implementing'], ['strategy'], ['battery', 'lifetime'], ['relative'], ['current', 'cpu', 'power', 'management', 'strategy'], ['logic'], ['responsible'], ['power'], ['similar', 'technique'], ['applicable'], ['operating', 'system'], ['similar', 'behavior'], ['reason'], ['work'], ['reducing'], ['power', 'consumption'], ['computer'], ['various', 'macintosh'], ['typical'], ['number'], ['engineering'], ['depending'], ['machine'], ['total', 'power'], ['attributable'], ['power', 'management'], ['i.e'], ['high', 'percentage'], ['intuition'], ['software', 'power', 'management'], ['important', 'target'], ['research'], ['many', 'modern', 'microprocessor'], ['little'], ['advantage'], ['consequent', 'saving'], ['energy', 'overhead'], ['restarting'], ['way'], ['goal'], ['power', 'management', 'strategy'], ['similar'], ['hard', 'disk'], ['making'], ['prediction'], ['srivastava', 'et', 'al'], ['instance'], ['t', 'hobbit'], ['certain', 'version'], ['mc68030'], ['mc68040'], ['static', 'logic'], ['state'], ['clock'], ['powerpc'], ['low-power', 'doze', 'mode'], ['ten', 'system', 'clock'], ['short'], ['low', 'energy', 'cost'], ['entering'], ['leaving'], ['optimal', 'cpu', 'power', 'management', 'strategy'], ['trivial'], ['useful', 'work'], ['opportunityfor'], ['material'], ['national', 'science', 'foundation', 'graduate', 'research', 'fellowship'], ['apple', 'computer'], ['part'], ['national', 'science', 'foundation'], ['grant', 'mip-9116578'], ['ccr-9117028'], ['california'], ['micro', 'program'], ['intel', 'corporation'], ['sun', 'microsystems'], ['support'], ['cooperation'], ['relationship'], ['product', 'development', 'plan'], ['second'], ['international', 'conference'], ['mobile', 'computing'], ['networking'], ['rye'], ['new', 'york'], ['copyright'], ['association'], ['computing', 'machinery'], ['others'], ['abstracting'], ['credit'], ['server'], ['prior', 'specific', 'permission'], ['fee'], ['equivalent', 'version'], ['virtual', 'lowest-priority'], ['job'], ['suessmith'], ['paap'], ['suzuki'], ['uno'], ['patent'], ['past'], ['loop'], ['mainframe'], ['bulb'], ['console'], ['available'], ['basic', 'strategy'], ['feature'], ['design'], ['single-user', 'system'], ['less'], ['arbiter'], ['resource'], ['mind'], ['main', 'problem'], ['current', 'management'], ['system'], ['application'], ['problem'], ['aware'], ['phenomenon'], ['trace'], ['scheduling'], ['necessary'], ['ready'], ['active', 'window'], ['second', 'problem'], ['programmer', 'writing', 'application'], ['running'], ['foreground'], ['taking'], ['processing', 'time'], ['nothing'], ['ten', 'minute'], ['anything'], ['solution'], ['saving'], ['additional', 'technique'], ['management'], ['dealing'], ['simple', 'scheduling', 'technique'], ['heuristic'], ['making', 'unnecessary'], ['constant', 'factor'], ['reasonable', 'trade-off'], ['energy', 'saving'], ['performance'], ['latter'], ['greediness', 'technique'], ['extension', 'technique'], ['effectiveness'], ['allowing'], ['current'], ['inactivity-timer'], ['detail'], ['different', 'strategy'], ['variety'], ['parameter', 'value'], ['using', 'trace-driven', 'simulation'], ['simulation'], ['algorithm'], ['parameter'], ['comparison'], ['consequence'], ['observed', 'performance'], ['section'], ['comparing'], ['including'], ['current', 'strategy'], ['management', 'technique'], ['improving'], ['methodology'], ['evaluation', 'criterion'], ['tool'], ['nature'], ['meaning'], ['future', 'work'], ['inactivity', 'timer'], ['power', 'reduction'], ['activity'], ['last'], ['i/o', 'activity'], ['detected'], ['input'], ['i/o', 'device'], ['appearance'], ['cursor'], ['watch'], ['classification'], ['human', 'interface', 'guideline', 'specify'], ['computing'], ['changing'], ['e.g'], ['case'], ['event'], ['waiting'], ['recent', 'macintosh', 'computer'], ['high', 'overhead'], ['old'], ['example'], ['content'], ['on-chip', 'cache'], ['different'], ['method'], ['time', 'management'], ['overview'], ['general', 'term'], ['implementation'], ['following', 'model'], ['appropriate', 'way'], ['event-driven', 'environment'], ['receiving'], ['blocking'], ['processing'], ['exception'], ['periodic', 'task'], ['blinking'], ['checking'], ['acting'], ['busy'], ['manner'], ['cooperative', 'multitasking'], ['application', 'writer'], ['specifying'], ['failing'], ['gain'], ['sign'], ['several', 'time'], ['row'], ['showing', 'sign'], ['exact', 'number'], ['control-yieldtimes'], ['greediness'], ['level'], ['sound', 'chip'], ['absence'], ['violating'], ['human', 'interface', 'guideline'], ['greediness', 'technique', 'work'], ['form'], ['event', 'type', 'e1'], ['time', 't'], ['willing'], ['being'], ['other', 'operating', 'system'], ['unix'], ['microsoft', 'window'], ['default', 'behavior'], ['unblocked'], ['common', 'occurrence'], ['real', 'time', 'system'], ['real', 'time'], ['fact'], ['kind'], ['behavior'], ['acceptable'], ['possible'], ['multiplier'], ['number', 'great'], ['eliminating'], ['fraction'], ['interval'], ['certain', 'level'], ['following', 'tradeoff'], ['insufficient', 'power'], ['doing', 'something', 'useful'], ['evaluation'], ['measuring'], ['easy'], ['percent'], ['high-power', 'state'], ['contrast'], ['workload', 'runtime'], ['power-saving', 'strategy'], ['difficult'], ['performance', 'penalty', 'stem'], ['power', 'saving', 'strategy'], ['performing', 'useful', 'work'], ['workload'], ['detailed', 'knowledge'], ['purpose'], ['instruction', 'sequence'], ['tracer'], ['useful'], ['inexact'], ['same', 'heuristic'], ['other', 'word'], ['invalid'], ['prior', 'knowledge'], ['evaluation', 'system'], ['evaluating'], ['accuracy'], ['guess'], ['useless'], ['application', 'code'], ['original', 'trace'], ['switching'], ['os'], ['assumption'], ['significant', 'os', 'work'], ['action'], ['continuous', 'period'], ['ms.'], ['small', 'time', 'unit'], ['decision'], ['least'], ['idleness'], ['m'], ['observed', 'difference'], ['average', 'interprocess', 'time'], ['main', 'tool'], ['occurrence'], ['other', 'detail'], ['following', 'event'], ['tracing', 'begin'], ['end'], ['begin'], ['mouse'], ['moving'], ['event', 'queue'], ['data'], ['tracing'], ['battery', 'power'], ['important'], ['analysis'], ['appropriate', 'workload'], ['shuts'], ['setc', 'module'], ['routine'], ['counting', 'system', 'event'], ['second', 'tool'], ['itmsim'], ['power', 'management', 'method', 'using'], ['inactivity-threshold', 'strategy'], ['basis'], ['last', 'fifteen', 'second'], ['actuality'], ['chance'], ['proprietary'], ['attempt'], ['aspect'], ['idea'], ['proprietary', 'modification'], ['aggregate', 'workload'], ['expense'], ['decreasing'], ['particular', 'proprietary', 'modification'], ['trivial', 'effect'], ['power', 'saving'], ['table'], ['information'], ['delaying'], ['rest'], ['trace', 'execution'], ['contributing'], ['non-useful'], ['useful', 'os', 'time'], ['third', 'tool'], ['asmsim'], ['other'], ['extension'], ['preceding'], ['receipt'], ['ready', 'event'], ['periodic'], ['order'], ['late'], ['approach'], ['inaccuracy'], ['reality'], ['seeing'], ['dependence'], ['rare'], ['significant', 'error'], ['strategy', 'b.'], ['letter'], ['simple'], ['letter', 'g'], ['letter', 's'], ['supplement'], ['thing'], ['optimal', 'energy', 'saving', 'attainable'], ['optimum', 'strategy'], ['non-useful', 'time'], ['foreknowledge'], ['absolute', 'ceiling'], ['realizable', 'strategy'], ['high', 'figure'], ['doing', 'useful', 'computation'], ['hour'], ['idling'], ['second', 'simulation'], ['concern', 'strategy'], ['overall', 'workload', 'completion', 'time'], ['energy', 'consumption'], ['optimal', 'strategy'], ['real'], ['cpu', 'time'], ['useful', 'cpu', 'time'], ['actual', 'real', 'time'], ['reply'], ['next', 'simulation'], ['concern', 'strategy', 'b'], ['engineer'], ['detailed', 'discussion'], ['collection'], ['concern'], ['figure'], ['versus'], ['various'], ['certain'], ['new'], ['current', 'technique'], ['impact'], ['workload', 'completion', 'time'], ['performance', 'versus', 'energy', 'saving', 'graph'], ['variation'], ['strategy', 'using'], ['equal'], ['corresponds'], ['comparing', 'strategy'], ['equal', 'performance', 'ground'], ['increasing'], ['cpu', 'energy'], ['whole', 'story'], ['something'], ['certain', 'condition'], ['large', 'real', 'time'], ['wakeup', 'period'], ['timely', 'manner'], ['issue'], ['practice'], ['extension', 'factor'], ['desirable'], ['concern', 'strategy', 'big'], ['strategy', 'using', 'greediness'], ['extensive', 'exploration'], ['parameter', 'space'], ['parameter', 'setting', 'giving'], ['best', 'energy', 'saving'], ['performance', 'impact', 'level'], ['comparing', 'strategy', 'big'], ['strategy', 'big', 'reduces'], ['next'], ['concern', 'strategy', 'bigs'], ['realm'], ['interested'], ['bad'], ['energy', 'saving', 'attainable'], ['low', 'performance', 'cost'], ['best', 'bigs', 'strategy'], ['big', 'strategy'], ['great', 'performance', 'impact'], ['bigs'], ['value'], ['summary'], ['finding'], ['column'], ['corresponding'], ['1-6.', 'figure'], ['strategy', 'big'], ['various', 'greediness'], ['curve'], ['reader'], ['nonzero', 'origin'], ['space'], ['sufficient', 'resolution'], ['key', 'feature'], ['strategy', 'bigs'], ['sec'], ['important', 'issue'], ['extent'], ['specific'], ['optimal'], ['effective'], ['other', 'workload'], ['unclear'], ['tuning'], ['best', 'way'], ['optimal', 'energy', 'saving'], ['sensitivity'], ['particular', 'value'], ['graph'], ['low', 'sensitivity'], ['varying'], ['wide', 'range'], ['consequent', 'energy', 'saving'], ['59-67'], ['range', '63-71'], ['range', '47-56'], ['workload', 'corresponding'], ['effect'], ['using', 'parameter'], ['individual'], ['superior'], ['fault'], ['multiplier', 'parameter'], ['great'], ['strategy', 'b'], ['specific', 'workload'], ['general'], ['interesting'], ['clear', 'ordering'], ['big'], ['curious'], ['reason', 'strategy'], ['good'], ['requesting'], ['contiguous', 'section'], ['trace', 'lasting'], ['multiplying'], ['factor'], ['able'], ['strategy', 'big', 'beat', 'strategy'], ['new', 'technique'], ['arbitrary', 'parameter'], ['parameter', 'setting'], ['respectable', 'energy', 'saving'], ['conservative'], ['reducing', 'workload', 'completion', 'time'], ['broad', 'range'], ['ideal', 'parameter'], ['express', 'modem'], ['eworld'], ['amusing'], ['desktop', 'interface', 'application'], ['suggestion'], ['designer'], ['rigorous', 'management'], ['coming'], ['different', 'class'], ['scheduler'], ['running', 'other', 'os', 'code'], ['class'], ['nonuseful', 'time'], ['useful', 'time'], ['cycle'], ['cycling', 'time'], ['bold'], ['standard', 'font'], ['cycling'], ['italic'], ['source'], ['looking'], ['italic', 'figure'], ['hour', 'cycling'], ['performing', 'nonuseful'], ['switching', 'nonuseful'], ['technique', 'attempt'], ['doing', 'anything'], ['doing', 'little'], ['getting'], ['nonuseful'], ['scheduler', 'time'], ['saving', 'stem'], ['amount'], ['scheduling', 'nonuseful'], ['running', 'nonuseful'], ['less', 'time', 'scheduling', 'nonuseful'], ['few', 'nonuseful'], ['few'], ['less', 'time'], ['stem'], ['giving'], ['saving', 'time'], ['other', 'hand'], ['conversion'], ['type'], ['strategy', 'big', 'stem'], ['useless', 'task'], ['bold', 'number'], ['half'], ['due'], ['same', 'amount'], ['low', 'absolute', 'number'], ['low', 'amount'], ['great', 'amount'], ['os', 'time'], ['maintaining'], ['same', 'performance', 'impact'], ['main', 'observation'], ['few', 'useful'], ['to-'], ['following'], ['less', 'performance', 'impact'], ['adding'], ['managing'], ['same', 'level'], ['absolute', 'level'], ['low'], ['best'], ['absolute', 'energy', 'saving'], ['optimal', 'power', 'reduction'], ['helpful'], ['saving', 'attainable'], ['attempting'], ['worthwhile'], ['cost'], ['adjusting'], ['pronounced'], ['low', 'performance', 'impact', 'regime'], ['difference'], ['extending', 'real-time'], ['undesirable', 'effect'], ['term'], ['system', 'performance'], ['functionality'], ['ideal', 'parameter', 'setting'], ['consistent', 'functioning'], ['successful'], ['naive', 'parameter-setting'], ['anomalous', 'case'], ['vulnerability'], ['poor', 'application', 'behavior'], ['suggesting'], ['duo'], ['w'], ['average'], ['current', 'power', 'management', 'technique'], ['assuming'], ['extra', 'time'], ['average', 'power', 'level'], ['average', 'total', 'power', 'consumption'], ['yielding'], ['previous', 'study'], ['different', 'workload'], ['other', 'single-user', 'operating', 'system'], ['unfair'], ['single'], ['event', 'using', 'peekmessage'], ['getmessage'], ['waitmessage'], ['place'], ['sort'], ['several', 'way'], ['additional', 'trace'], ['large', 'variety'], ['select', 'parameter', 'value'], ['dynamic', 'variation'], ['particular'], ['different', 'type'], ['environment'], ['respect'], ['third'], ['power-saving', 'technique'], ['possibility'], ['software', 'strategy'], ['power', 'saving', 'mode'], ['date'], ['clock', 'rate'], ['voltage'], ['information', 'useful'], ['predicting'], ['theoretical', 'optimum'], ['computer', 'system'], ['becoming'], ['important', 'factor'], ['large', 'percentage'], ['inactive'], ['execute'], ['producing', 'output'], ['signaling', 'useful', 'activity'], ['frequency'], ['nothing', 'interesting'], ['similar', 'phenomenon'], ['47-66'], ['26-53'], ['simple', 'strategy'], ['consideration'], ['system', 'power'], ['best', 'subset'], ['macintosh', 'portable'], ['small', 'loss'], ['effective', 'system', 'performance'], ['loss'], ['continuing'], ['topic'], ['many', 'people'], ['preparation'], ['gratitude'], ['marianne', 'hsiung'], ['behalf'], ['phil', 'sohn'], ['general', 'guidance'], ['project'], ['sfarzo'], ['distribution'], ['data', 'file'], ['many'], ['working'], ['helder', 'ramalho'], ['invaluable', 'information'], ['cycling', 'technique', 'work'], ['falkenburg'], ['jim', 'goche'], ['trap', 'handler', 'programming', 'critical'], ['writing'], ['larry', 'heil'], ['apple', 'portable', 'group'], ['several'], ['reviewer'], ['original', 'version'], ['insightful', 'comment'], ['macintosh'], ['volume', 'vi'], ['addison', 'wesley', 'publishing', 'company'], ['reading'], ['ma'], ['window', 'api', 'bible'], ['waite', 'group', 'press'], ['corte', 'madera'], ['proceeding'], ['ieee', 'international', 'computer', 'society', 'conference'], ['san', 'francisco'], ['307-315'], ['february'], ['modeling'], ['cycling', 'technique'], ['performance', 'evaluation', 'group', 'technical'], ['integrated', 'system'], ['picture'], ['thesis'], ['computer', 'science'], ['university'], ['berkeley']]\n"
     ]
    }
   ],
   "source": [
    "unique_phrases = []\n",
    "\n",
    "for phrase in phrases:\n",
    "    if phrase not in unique_phrases:\n",
    "        unique_phrases.append(phrase)\n",
    "\n",
    "print \"Unique Phrases (Candidate Keyphrases): \\n\"\n",
    "print unique_phrases"
   ]
  },
  {
   "cell_type": "code",
   "execution_count": 29,
   "metadata": {
    "collapsed": true
   },
   "outputs": [
    {
     "name": "stdout",
     "output_type": "stream",
     "text": [
      "Thinned Unique Phrases (Candidate Keyphrases): \n",
      "\n",
      "[['major', 'power', 'consumer'], ['portable', 'computer'], ['considerable', 'power'], ['turning'], ['doing', 'useful', 'work'], ['busy', 'waiting'], ['useful', 'computation'], ['occurring'], ['paper'], ['several', 'heuristic', 'technique'], ['identifying'], ['putting'], ['low-power', 'state'], ['extending', 'real', 'time'], ['trace-driven', 'simulation'], ['interval', 'trace'], ['potential', 'energy', 'saving'], ['performance', 'impact'], ['considerable', 'amount'], ['having'], ['little', 'performance', 'impact'], ['implementing'], ['battery', 'lifetime'], ['relative'], ['current', 'cpu', 'power', 'management', 'strategy'], ['responsible'], ['similar', 'technique'], ['applicable'], ['operating', 'system'], ['similar', 'behavior'], ['power', 'consumption'], ['various', 'macintosh'], ['typical'], ['engineering'], ['depending'], ['machine'], ['total', 'power'], ['attributable'], ['power', 'management'], ['i.e'], ['high', 'percentage'], ['intuition'], ['software', 'power', 'management'], ['important', 'target'], ['many', 'modern', 'microprocessor'], ['advantage'], ['consequent', 'saving'], ['energy', 'overhead'], ['restarting'], ['goal'], ['power', 'management', 'strategy'], ['hard', 'disk'], ['prediction'], ['srivastava', 'et', 'al'], ['instance'], ['t', 'hobbit'], ['certain', 'version'], ['mc68030'], ['mc68040'], ['static', 'logic'], ['powerpc'], ['low-power', 'doze', 'mode'], ['ten', 'system', 'clock'], ['short'], ['low', 'energy', 'cost'], ['entering'], ['leaving'], ['optimal', 'cpu', 'power', 'management', 'strategy'], ['useful', 'work'], ['opportunityfor'], ['material'], ['national', 'science', 'foundation', 'graduate', 'research', 'fellowship'], ['apple', 'computer'], ['part'], ['national', 'science', 'foundation'], ['grant', 'mip-9116578'], ['ccr-9117028'], ['california'], ['micro', 'program'], ['intel', 'corporation'], ['sun', 'microsystems'], ['support'], ['cooperation'], ['relationship'], ['product', 'development', 'plan'], ['international', 'conference'], ['mobile', 'computing'], ['networking'], ['rye'], ['new', 'york'], ['copyright'], ['association'], ['computing', 'machinery'], ['others'], ['abstracting'], ['credit'], ['server'], ['prior', 'specific', 'permission'], ['fee'], ['equivalent', 'version'], ['virtual', 'lowest-priority'], ['job'], ['suessmith'], ['paap'], ['suzuki'], ['uno'], ['patent'], ['past'], ['loop'], ['mainframe'], ['bulb'], ['console'], ['available'], ['basic', 'strategy'], ['design'], ['single-user', 'system'], ['arbiter'], ['resource'], ['mind'], ['main', 'problem'], ['current', 'management'], ['aware'], ['necessary'], ['active', 'window'], ['second', 'problem'], ['programmer', 'writing', 'application'], ['foreground'], ['taking'], ['processing', 'time'], ['ten', 'minute'], ['solution'], ['additional', 'technique'], ['dealing'], ['simple', 'scheduling', 'technique'], ['making', 'unnecessary'], ['constant', 'factor'], ['reasonable', 'trade-off'], ['energy', 'saving'], ['latter'], ['greediness', 'technique'], ['extension', 'technique'], ['effectiveness'], ['allowing'], ['inactivity-timer'], ['different', 'strategy'], ['parameter', 'value'], ['using', 'trace-driven', 'simulation'], ['algorithm'], ['comparison'], ['consequence'], ['observed', 'performance'], ['including'], ['current', 'strategy'], ['management', 'technique'], ['improving'], ['methodology'], ['evaluation', 'criterion'], ['nature'], ['meaning'], ['future', 'work'], ['inactivity', 'timer'], ['power', 'reduction'], ['i/o', 'activity'], ['detected'], ['input'], ['i/o', 'device'], ['appearance'], ['cursor'], ['watch'], ['classification'], ['human', 'interface', 'guideline', 'specify'], ['changing'], ['e.g'], ['recent', 'macintosh', 'computer'], ['high', 'overhead'], ['old'], ['example'], ['content'], ['on-chip', 'cache'], ['time', 'management'], ['overview'], ['general', 'term'], ['implementation'], ['following', 'model'], ['appropriate', 'way'], ['event-driven', 'environment'], ['receiving'], ['blocking'], ['exception'], ['periodic', 'task'], ['blinking'], ['checking'], ['acting'], ['cooperative', 'multitasking'], ['application', 'writer'], ['specifying'], ['failing'], ['gain'], ['several', 'time'], ['row'], ['showing', 'sign'], ['exact', 'number'], ['control-yieldtimes'], ['sound', 'chip'], ['absence'], ['violating'], ['human', 'interface', 'guideline'], ['greediness', 'technique', 'work'], ['form'], ['event', 'type', 'e1'], ['time', 't'], ['willing'], ['being'], ['other', 'operating', 'system'], ['unix'], ['microsoft', 'window'], ['default', 'behavior'], ['unblocked'], ['common', 'occurrence'], ['real', 'time', 'system'], ['real', 'time'], ['fact'], ['kind'], ['acceptable'], ['possible'], ['number', 'great'], ['eliminating'], ['fraction'], ['certain', 'level'], ['following', 'tradeoff'], ['insufficient', 'power'], ['doing', 'something', 'useful'], ['measuring'], ['easy'], ['percent'], ['high-power', 'state'], ['contrast'], ['workload', 'runtime'], ['power-saving', 'strategy'], ['difficult'], ['performance', 'penalty', 'stem'], ['power', 'saving', 'strategy'], ['performing', 'useful', 'work'], ['detailed', 'knowledge'], ['purpose'], ['instruction', 'sequence'], ['tracer'], ['inexact'], ['same', 'heuristic'], ['other', 'word'], ['invalid'], ['prior', 'knowledge'], ['evaluation', 'system'], ['evaluating'], ['accuracy'], ['guess'], ['application', 'code'], ['original', 'trace'], ['assumption'], ['significant', 'os', 'work'], ['action'], ['continuous', 'period'], ['ms.'], ['small', 'time', 'unit'], ['decision'], ['least'], ['idleness'], ['m'], ['observed', 'difference'], ['average', 'interprocess', 'time'], ['main', 'tool'], ['other', 'detail'], ['following', 'event'], ['tracing', 'begin'], ['end'], ['mouse'], ['moving'], ['event', 'queue'], ['battery', 'power'], ['analysis'], ['appropriate', 'workload'], ['shuts'], ['setc', 'module'], ['routine'], ['counting', 'system', 'event'], ['second', 'tool'], ['itmsim'], ['power', 'management', 'method', 'using'], ['inactivity-threshold', 'strategy'], ['basis'], ['last', 'fifteen', 'second'], ['actuality'], ['chance'], ['aspect'], ['idea'], ['proprietary', 'modification'], ['aggregate', 'workload'], ['expense'], ['decreasing'], ['particular', 'proprietary', 'modification'], ['trivial', 'effect'], ['power', 'saving'], ['table'], ['delaying'], ['rest'], ['trace', 'execution'], ['contributing'], ['useful', 'os', 'time'], ['third', 'tool'], ['asmsim'], ['preceding'], ['receipt'], ['ready', 'event'], ['order'], ['late'], ['approach'], ['inaccuracy'], ['reality'], ['seeing'], ['dependence'], ['rare'], ['significant', 'error'], ['strategy', 'b.'], ['letter', 'g'], ['letter', 's'], ['supplement'], ['thing'], ['optimal', 'energy', 'saving', 'attainable'], ['optimum', 'strategy'], ['non-useful', 'time'], ['foreknowledge'], ['absolute', 'ceiling'], ['realizable', 'strategy'], ['high', 'figure'], ['doing', 'useful', 'computation'], ['idling'], ['second', 'simulation'], ['concern', 'strategy'], ['overall', 'workload', 'completion', 'time'], ['energy', 'consumption'], ['optimal', 'strategy'], ['cpu', 'time'], ['useful', 'cpu', 'time'], ['actual', 'real', 'time'], ['reply'], ['next', 'simulation'], ['concern', 'strategy', 'b'], ['engineer'], ['detailed', 'discussion'], ['collection'], ['current', 'technique'], ['workload', 'completion', 'time'], ['performance', 'versus', 'energy', 'saving', 'graph'], ['strategy', 'using'], ['corresponds'], ['comparing', 'strategy'], ['equal', 'performance', 'ground'], ['increasing'], ['cpu', 'energy'], ['whole', 'story'], ['certain', 'condition'], ['large', 'real', 'time'], ['wakeup', 'period'], ['timely', 'manner'], ['practice'], ['extension', 'factor'], ['desirable'], ['concern', 'strategy', 'big'], ['strategy', 'using', 'greediness'], ['extensive', 'exploration'], ['parameter', 'space'], ['parameter', 'setting', 'giving'], ['best', 'energy', 'saving'], ['performance', 'impact', 'level'], ['comparing', 'strategy', 'big'], ['strategy', 'big', 'reduces'], ['concern', 'strategy', 'bigs'], ['realm'], ['interested'], ['bad'], ['energy', 'saving', 'attainable'], ['low', 'performance', 'cost'], ['best', 'bigs', 'strategy'], ['big', 'strategy'], ['great', 'performance', 'impact'], ['summary'], ['finding'], ['column'], ['1-6.', 'figure'], ['strategy', 'big'], ['various', 'greediness'], ['curve'], ['reader'], ['nonzero', 'origin'], ['sufficient', 'resolution'], ['key', 'feature'], ['strategy', 'bigs'], ['sec'], ['important', 'issue'], ['extent'], ['other', 'workload'], ['unclear'], ['tuning'], ['best', 'way'], ['optimal', 'energy', 'saving'], ['particular', 'value'], ['low', 'sensitivity'], ['varying'], ['wide', 'range'], ['consequent', 'energy', 'saving'], ['59-67'], ['range', '63-71'], ['range', '47-56'], ['workload', 'corresponding'], ['using', 'parameter'], ['individual'], ['superior'], ['fault'], ['multiplier', 'parameter'], ['strategy', 'b'], ['specific', 'workload'], ['clear', 'ordering'], ['curious'], ['reason', 'strategy'], ['good'], ['requesting'], ['contiguous', 'section'], ['trace', 'lasting'], ['multiplying'], ['able'], ['strategy', 'big', 'beat', 'strategy'], ['new', 'technique'], ['arbitrary', 'parameter'], ['parameter', 'setting'], ['respectable', 'energy', 'saving'], ['conservative'], ['reducing', 'workload', 'completion', 'time'], ['broad', 'range'], ['ideal', 'parameter'], ['express', 'modem'], ['eworld'], ['amusing'], ['desktop', 'interface', 'application'], ['suggestion'], ['designer'], ['rigorous', 'management'], ['coming'], ['different', 'class'], ['running', 'other', 'os', 'code'], ['nonuseful', 'time'], ['useful', 'time'], ['cycle'], ['cycling', 'time'], ['standard', 'font'], ['source'], ['looking'], ['italic', 'figure'], ['hour', 'cycling'], ['performing', 'nonuseful'], ['switching', 'nonuseful'], ['technique', 'attempt'], ['doing', 'anything'], ['doing', 'little'], ['getting'], ['scheduler', 'time'], ['saving', 'stem'], ['scheduling', 'nonuseful'], ['running', 'nonuseful'], ['less', 'time', 'scheduling', 'nonuseful'], ['few', 'nonuseful'], ['less', 'time'], ['saving', 'time'], ['other', 'hand'], ['conversion'], ['strategy', 'big', 'stem'], ['useless', 'task'], ['bold', 'number'], ['half'], ['due'], ['same', 'amount'], ['low', 'absolute', 'number'], ['low', 'amount'], ['great', 'amount'], ['os', 'time'], ['maintaining'], ['same', 'performance', 'impact'], ['main', 'observation'], ['few', 'useful'], ['to-'], ['less', 'performance', 'impact'], ['adding'], ['managing'], ['same', 'level'], ['absolute', 'level'], ['absolute', 'energy', 'saving'], ['optimal', 'power', 'reduction'], ['helpful'], ['saving', 'attainable'], ['attempting'], ['worthwhile'], ['adjusting'], ['pronounced'], ['low', 'performance', 'impact', 'regime'], ['extending', 'real-time'], ['undesirable', 'effect'], ['system', 'performance'], ['functionality'], ['ideal', 'parameter', 'setting'], ['consistent', 'functioning'], ['successful'], ['naive', 'parameter-setting'], ['anomalous', 'case'], ['vulnerability'], ['poor', 'application', 'behavior'], ['suggesting'], ['duo'], ['w'], ['current', 'power', 'management', 'technique'], ['assuming'], ['extra', 'time'], ['average', 'power', 'level'], ['average', 'total', 'power', 'consumption'], ['yielding'], ['previous', 'study'], ['different', 'workload'], ['other', 'single-user', 'operating', 'system'], ['unfair'], ['single'], ['event', 'using', 'peekmessage'], ['getmessage'], ['waitmessage'], ['place'], ['sort'], ['several', 'way'], ['additional', 'trace'], ['large', 'variety'], ['select', 'parameter', 'value'], ['dynamic', 'variation'], ['different', 'type'], ['respect'], ['power-saving', 'technique'], ['possibility'], ['software', 'strategy'], ['power', 'saving', 'mode'], ['date'], ['clock', 'rate'], ['voltage'], ['information', 'useful'], ['predicting'], ['theoretical', 'optimum'], ['computer', 'system'], ['becoming'], ['important', 'factor'], ['large', 'percentage'], ['inactive'], ['execute'], ['producing', 'output'], ['signaling', 'useful', 'activity'], ['frequency'], ['nothing', 'interesting'], ['similar', 'phenomenon'], ['47-66'], ['26-53'], ['simple', 'strategy'], ['consideration'], ['system', 'power'], ['best', 'subset'], ['macintosh', 'portable'], ['small', 'loss'], ['effective', 'system', 'performance'], ['continuing'], ['topic'], ['many', 'people'], ['preparation'], ['gratitude'], ['marianne', 'hsiung'], ['behalf'], ['phil', 'sohn'], ['general', 'guidance'], ['project'], ['sfarzo'], ['distribution'], ['data', 'file'], ['working'], ['helder', 'ramalho'], ['invaluable', 'information'], ['cycling', 'technique', 'work'], ['falkenburg'], ['jim', 'goche'], ['trap', 'handler', 'programming', 'critical'], ['larry', 'heil'], ['apple', 'portable', 'group'], ['reviewer'], ['original', 'version'], ['insightful', 'comment'], ['volume', 'vi'], ['addison', 'wesley', 'publishing', 'company'], ['reading'], ['ma'], ['window', 'api', 'bible'], ['waite', 'group', 'press'], ['corte', 'madera'], ['proceeding'], ['ieee', 'international', 'computer', 'society', 'conference'], ['san', 'francisco'], ['307-315'], ['february'], ['modeling'], ['cycling', 'technique'], ['performance', 'evaluation', 'group', 'technical'], ['integrated', 'system'], ['picture'], ['thesis'], ['computer', 'science'], ['university'], ['berkeley']]\n"
     ]
    }
   ],
   "source": [
    "for word in vocabulary:\n",
    "    #print word\n",
    "    for phrase in unique_phrases:\n",
    "        if (word in phrase) and ([word] in unique_phrases) and (len(phrase)>1):\n",
    "            #if len(phrase)>1 then the current phrase is multi-worded.\n",
    "            #if the word in vocabulary is present in unique_phrases as a single-word-phrase\n",
    "            # and at the same time present as a word within a multi-worded phrase,\n",
    "            # then I will remove the single-word-phrase from the list.\n",
    "            unique_phrases.remove([word])\n",
    "            \n",
    "print \"Thinned Unique Phrases (Candidate Keyphrases): \\n\"\n",
    "print unique_phrases "
   ]
  },
  {
   "cell_type": "code",
   "execution_count": 30,
   "metadata": {
    "collapsed": false
   },
   "outputs": [
    {
     "name": "stdout",
     "output_type": "stream",
     "text": [
      "Keyword: 'major power consumer', Score: nan\n",
      "Keyword: 'portable computer', Score: nan\n",
      "Keyword: 'considerable power', Score: 0.300000011921\n",
      "Keyword: 'turning', Score: nan\n",
      "Keyword: 'doing useful work', Score: nan\n",
      "Keyword: 'busy waiting', Score: nan\n",
      "Keyword: 'useful computation', Score: nan\n",
      "Keyword: 'occurring', Score: 0.15000000596\n",
      "Keyword: 'paper', Score: nan\n",
      "Keyword: 'several heuristic technique', Score: nan\n",
      "Keyword: 'identifying', Score: 0.15000000596\n",
      "Keyword: 'putting', Score: nan\n",
      "Keyword: 'low-power state', Score: nan\n",
      "Keyword: 'extending real time', Score: nan\n",
      "Keyword: 'trace-driven simulation', Score: nan\n",
      "Keyword: 'interval trace', Score: nan\n",
      "Keyword: 'potential energy saving', Score: nan\n",
      "Keyword: 'performance impact', Score: nan\n",
      "Keyword: 'considerable amount', Score: nan\n",
      "Keyword: 'having', Score: 0.15000000596\n",
      "Keyword: 'little performance impact', Score: nan\n",
      "Keyword: 'implementing', Score: nan\n",
      "Keyword: 'battery lifetime', Score: nan\n",
      "Keyword: 'relative', Score: nan\n",
      "Keyword: 'current cpu power management strategy', Score: nan\n",
      "Keyword: 'responsible', Score: nan\n",
      "Keyword: 'similar technique', Score: nan\n",
      "Keyword: 'applicable', Score: nan\n",
      "Keyword: 'operating system', Score: nan\n",
      "Keyword: 'similar behavior', Score: nan\n",
      "Keyword: 'power consumption', Score: nan\n",
      "Keyword: 'various macintosh', Score: nan\n",
      "Keyword: 'typical', Score: nan\n",
      "Keyword: 'engineering', Score: 0.15000000596\n",
      "Keyword: 'depending', Score: nan\n",
      "Keyword: 'machine', Score: nan\n",
      "Keyword: 'total power', Score: nan\n",
      "Keyword: 'attributable', Score: nan\n",
      "Keyword: 'power management', Score: nan\n",
      "Keyword: 'i.e', Score: nan\n",
      "Keyword: 'high percentage', Score: nan\n",
      "Keyword: 'intuition', Score: nan\n",
      "Keyword: 'software power management', Score: nan\n",
      "Keyword: 'important target', Score: nan\n",
      "Keyword: 'many modern microprocessor', Score: nan\n",
      "Keyword: 'advantage', Score: nan\n",
      "Keyword: 'consequent saving', Score: nan\n",
      "Keyword: 'energy overhead', Score: nan\n",
      "Keyword: 'restarting', Score: nan\n",
      "Keyword: 'goal', Score: nan\n",
      "Keyword: 'power management strategy', Score: nan\n",
      "Keyword: 'hard disk', Score: nan\n",
      "Keyword: 'prediction', Score: nan\n",
      "Keyword: 'srivastava et al', Score: nan\n",
      "Keyword: 'instance', Score: nan\n",
      "Keyword: 't hobbit', Score: nan\n",
      "Keyword: 'certain version', Score: nan\n",
      "Keyword: 'mc68030', Score: nan\n",
      "Keyword: 'mc68040', Score: 0.15000000596\n",
      "Keyword: 'static logic', Score: nan\n",
      "Keyword: 'powerpc', Score: nan\n",
      "Keyword: 'low-power doze mode', Score: nan\n",
      "Keyword: 'ten system clock', Score: nan\n",
      "Keyword: 'short', Score: nan\n",
      "Keyword: 'low energy cost', Score: nan\n",
      "Keyword: 'entering', Score: nan\n",
      "Keyword: 'leaving', Score: nan\n",
      "Keyword: 'optimal cpu power management strategy', Score: nan\n",
      "Keyword: 'useful work', Score: nan\n",
      "Keyword: 'opportunityfor', Score: nan\n",
      "Keyword: 'material', Score: nan\n",
      "Keyword: 'national science foundation graduate research fellowship', Score: nan\n",
      "Keyword: 'apple computer', Score: nan\n",
      "Keyword: 'part', Score: nan\n",
      "Keyword: 'national science foundation', Score: nan\n",
      "Keyword: 'grant mip-9116578', Score: nan\n",
      "Keyword: 'ccr-9117028', Score: nan\n",
      "Keyword: 'california', Score: nan\n",
      "Keyword: 'micro program', Score: nan\n",
      "Keyword: 'intel corporation', Score: 0.300000011921\n",
      "Keyword: 'sun microsystems', Score: nan\n",
      "Keyword: 'support', Score: 0.15000000596\n",
      "Keyword: 'cooperation', Score: nan\n",
      "Keyword: 'relationship', Score: nan\n",
      "Keyword: 'product development plan', Score: nan\n",
      "Keyword: 'international conference', Score: nan\n",
      "Keyword: 'mobile computing', Score: nan\n",
      "Keyword: 'networking', Score: 0.15000000596\n",
      "Keyword: 'rye', Score: nan\n",
      "Keyword: 'new york', Score: nan\n",
      "Keyword: 'copyright', Score: nan\n",
      "Keyword: 'association', Score: nan\n",
      "Keyword: 'computing machinery', Score: nan\n",
      "Keyword: 'others', Score: nan\n",
      "Keyword: 'abstracting', Score: nan\n",
      "Keyword: 'credit', Score: nan\n",
      "Keyword: 'server', Score: 0.15000000596\n",
      "Keyword: 'prior specific permission', Score: nan\n",
      "Keyword: 'fee', Score: nan\n",
      "Keyword: 'equivalent version', Score: nan\n",
      "Keyword: 'virtual lowest-priority', Score: nan\n",
      "Keyword: 'job', Score: nan\n",
      "Keyword: 'suessmith', Score: 0.15000000596\n",
      "Keyword: 'paap', Score: nan\n",
      "Keyword: 'suzuki', Score: 0.15000000596\n",
      "Keyword: 'uno', Score: nan\n",
      "Keyword: 'patent', Score: nan\n",
      "Keyword: 'past', Score: nan\n",
      "Keyword: 'loop', Score: nan\n",
      "Keyword: 'mainframe', Score: nan\n",
      "Keyword: 'bulb', Score: nan\n",
      "Keyword: 'console', Score: nan\n",
      "Keyword: 'available', Score: nan\n",
      "Keyword: 'basic strategy', Score: nan\n",
      "Keyword: 'design', Score: nan\n",
      "Keyword: 'single-user system', Score: nan\n",
      "Keyword: 'arbiter', Score: 0.15000000596\n",
      "Keyword: 'resource', Score: nan\n",
      "Keyword: 'mind', Score: nan\n",
      "Keyword: 'main problem', Score: nan\n",
      "Keyword: 'current management', Score: nan\n",
      "Keyword: 'aware', Score: nan\n",
      "Keyword: 'necessary', Score: 0.15000000596\n",
      "Keyword: 'active window', Score: nan\n",
      "Keyword: 'second problem', Score: nan\n",
      "Keyword: 'programmer writing application', Score: nan\n",
      "Keyword: 'foreground', Score: nan\n",
      "Keyword: 'taking', Score: nan\n",
      "Keyword: 'processing time', Score: 0.300000011921\n",
      "Keyword: 'ten minute', Score: nan\n",
      "Keyword: 'solution', Score: nan\n",
      "Keyword: 'additional technique', Score: nan\n",
      "Keyword: 'dealing', Score: nan\n",
      "Keyword: 'simple scheduling technique', Score: nan\n",
      "Keyword: 'making unnecessary', Score: nan\n",
      "Keyword: 'constant factor', Score: nan\n",
      "Keyword: 'reasonable trade-off', Score: nan\n",
      "Keyword: 'energy saving', Score: nan\n",
      "Keyword: 'latter', Score: nan\n",
      "Keyword: 'greediness technique', Score: nan\n",
      "Keyword: 'extension technique', Score: nan\n",
      "Keyword: 'effectiveness', Score: nan\n",
      "Keyword: 'allowing', Score: 0.15000000596\n",
      "Keyword: 'inactivity-timer', Score: 0.15000000596\n",
      "Keyword: 'different strategy', Score: nan\n",
      "Keyword: 'parameter value', Score: nan\n",
      "Keyword: 'using trace-driven simulation', Score: nan\n",
      "Keyword: 'algorithm', Score: 0.15000000596\n",
      "Keyword: 'comparison', Score: 0.15000000596\n",
      "Keyword: 'consequence', Score: nan\n",
      "Keyword: 'observed performance', Score: nan\n",
      "Keyword: 'including', Score: nan\n",
      "Keyword: 'current strategy', Score: nan\n",
      "Keyword: 'management technique', Score: nan\n",
      "Keyword: 'improving', Score: nan\n",
      "Keyword: 'methodology', Score: nan\n",
      "Keyword: 'evaluation criterion', Score: nan\n",
      "Keyword: 'nature', Score: nan\n",
      "Keyword: 'meaning', Score: 0.15000000596\n",
      "Keyword: 'future work', Score: nan\n",
      "Keyword: 'inactivity timer', Score: nan\n",
      "Keyword: 'power reduction', Score: nan\n",
      "Keyword: 'i/o activity', Score: nan\n",
      "Keyword: 'detected', Score: nan\n",
      "Keyword: 'input', Score: nan\n",
      "Keyword: 'i/o device', Score: nan\n",
      "Keyword: 'appearance', Score: nan\n",
      "Keyword: 'cursor', Score: nan\n",
      "Keyword: 'watch', Score: nan\n",
      "Keyword: 'classification', Score: nan\n",
      "Keyword: 'human interface guideline specify', Score: nan\n",
      "Keyword: 'changing', Score: nan\n",
      "Keyword: 'e.g', Score: nan\n",
      "Keyword: 'recent macintosh computer', Score: nan\n",
      "Keyword: 'high overhead', Score: nan\n",
      "Keyword: 'old', Score: 0.15000000596\n",
      "Keyword: 'example', Score: nan\n",
      "Keyword: 'content', Score: nan\n",
      "Keyword: 'on-chip cache', Score: nan\n",
      "Keyword: 'time management', Score: nan\n",
      "Keyword: 'overview', Score: nan\n",
      "Keyword: 'general term', Score: nan\n",
      "Keyword: 'implementation', Score: nan\n",
      "Keyword: 'following model', Score: nan\n",
      "Keyword: 'appropriate way', Score: 0.300000011921\n",
      "Keyword: 'event-driven environment', Score: nan\n",
      "Keyword: 'receiving', Score: nan\n",
      "Keyword: 'blocking', Score: nan\n",
      "Keyword: 'exception', Score: nan\n",
      "Keyword: 'periodic task', Score: nan\n",
      "Keyword: 'blinking', Score: nan\n",
      "Keyword: 'checking', Score: nan\n",
      "Keyword: 'acting', Score: nan\n",
      "Keyword: 'cooperative multitasking', Score: nan\n",
      "Keyword: 'application writer', Score: nan\n",
      "Keyword: 'specifying', Score: nan\n",
      "Keyword: 'failing', Score: nan\n",
      "Keyword: 'gain', Score: 0.15000000596\n",
      "Keyword: 'several time', Score: nan\n",
      "Keyword: 'row', Score: nan\n",
      "Keyword: 'showing sign', Score: nan\n",
      "Keyword: 'exact number', Score: nan\n",
      "Keyword: 'control-yieldtimes', Score: nan\n",
      "Keyword: 'sound chip', Score: nan\n",
      "Keyword: 'absence', Score: nan\n",
      "Keyword: 'violating', Score: nan\n",
      "Keyword: 'human interface guideline', Score: nan\n",
      "Keyword: 'greediness technique work', Score: nan\n",
      "Keyword: 'form', Score: 0.15000000596\n",
      "Keyword: 'event type e1', Score: nan\n",
      "Keyword: 'time t', Score: 0.300000011921\n",
      "Keyword: 'willing', Score: nan\n",
      "Keyword: 'being', Score: nan\n",
      "Keyword: 'other operating system', Score: nan\n",
      "Keyword: 'unix', Score: nan\n",
      "Keyword: 'microsoft window', Score: nan\n",
      "Keyword: 'default behavior', Score: nan\n",
      "Keyword: 'unblocked', Score: nan\n",
      "Keyword: 'common occurrence', Score: nan\n",
      "Keyword: 'real time system', Score: nan\n",
      "Keyword: 'real time', Score: nan\n",
      "Keyword: 'fact', Score: nan\n",
      "Keyword: 'kind', Score: nan\n",
      "Keyword: 'acceptable', Score: nan\n",
      "Keyword: 'possible', Score: nan\n",
      "Keyword: 'number great', Score: nan\n",
      "Keyword: 'eliminating', Score: nan\n",
      "Keyword: 'fraction', Score: nan\n",
      "Keyword: 'certain level', Score: nan\n",
      "Keyword: 'following tradeoff', Score: nan\n",
      "Keyword: 'insufficient power', Score: 0.300000011921\n",
      "Keyword: 'doing something useful', Score: nan\n",
      "Keyword: 'measuring', Score: 0.15000000596\n",
      "Keyword: 'easy', Score: nan\n",
      "Keyword: 'percent', Score: 0.15000000596\n",
      "Keyword: 'high-power state', Score: nan\n",
      "Keyword: 'contrast', Score: nan\n",
      "Keyword: 'workload runtime', Score: nan\n",
      "Keyword: 'power-saving strategy', Score: nan\n",
      "Keyword: 'difficult', Score: nan\n",
      "Keyword: 'performance penalty stem', Score: nan\n",
      "Keyword: 'power saving strategy', Score: nan\n",
      "Keyword: 'performing useful work', Score: nan\n",
      "Keyword: 'detailed knowledge', Score: nan\n",
      "Keyword: 'purpose', Score: nan\n",
      "Keyword: 'instruction sequence', Score: nan\n",
      "Keyword: 'tracer', Score: nan\n",
      "Keyword: 'inexact', Score: nan\n",
      "Keyword: 'same heuristic', Score: nan\n",
      "Keyword: 'other word', Score: nan\n",
      "Keyword: 'invalid', Score: 0.15000000596\n",
      "Keyword: 'prior knowledge', Score: nan\n",
      "Keyword: 'evaluation system', Score: nan\n",
      "Keyword: 'evaluating', Score: nan\n",
      "Keyword: 'accuracy', Score: nan\n",
      "Keyword: 'guess', Score: nan\n",
      "Keyword: 'application code', Score: nan\n",
      "Keyword: 'original trace', Score: nan\n",
      "Keyword: 'assumption', Score: nan\n",
      "Keyword: 'significant os work', Score: nan\n",
      "Keyword: 'action', Score: nan\n",
      "Keyword: 'continuous period', Score: nan\n",
      "Keyword: 'ms.', Score: nan\n",
      "Keyword: 'small time unit', Score: nan\n",
      "Keyword: 'decision', Score: 0.15000000596\n",
      "Keyword: 'least', Score: nan\n",
      "Keyword: 'idleness', Score: 0.15000000596\n",
      "Keyword: 'm', Score: nan\n",
      "Keyword: 'observed difference', Score: nan\n",
      "Keyword: 'average interprocess time', Score: nan\n",
      "Keyword: 'main tool', Score: nan\n",
      "Keyword: 'other detail', Score: 0.300000011921\n",
      "Keyword: 'following event', Score: nan\n",
      "Keyword: 'tracing begin', Score: nan\n",
      "Keyword: 'end', Score: nan\n",
      "Keyword: 'mouse', Score: nan\n",
      "Keyword: 'moving', Score: nan\n",
      "Keyword: 'event queue', Score: nan\n",
      "Keyword: 'battery power', Score: nan\n",
      "Keyword: 'analysis', Score: nan\n",
      "Keyword: 'appropriate workload', Score: nan\n",
      "Keyword: 'shuts', Score: nan\n",
      "Keyword: 'setc module', Score: nan\n",
      "Keyword: 'routine', Score: nan\n",
      "Keyword: 'counting system event', Score: nan\n",
      "Keyword: 'second tool', Score: nan\n",
      "Keyword: 'itmsim', Score: 0.15000000596\n",
      "Keyword: 'power management method using', Score: nan\n",
      "Keyword: 'inactivity-threshold strategy', Score: nan\n",
      "Keyword: 'basis', Score: nan\n",
      "Keyword: 'last fifteen second', Score: nan\n",
      "Keyword: 'actuality', Score: nan\n",
      "Keyword: 'chance', Score: 0.15000000596\n",
      "Keyword: 'aspect', Score: nan\n",
      "Keyword: 'idea', Score: nan\n",
      "Keyword: 'proprietary modification', Score: nan\n",
      "Keyword: 'aggregate workload', Score: nan\n",
      "Keyword: 'expense', Score: nan\n",
      "Keyword: 'decreasing', Score: nan\n",
      "Keyword: 'particular proprietary modification', Score: nan\n",
      "Keyword: 'trivial effect', Score: nan\n",
      "Keyword: 'power saving', Score: nan\n",
      "Keyword: 'table', Score: nan\n",
      "Keyword: 'delaying', Score: nan\n",
      "Keyword: 'rest', Score: nan\n",
      "Keyword: 'trace execution', Score: nan\n",
      "Keyword: 'contributing', Score: 0.15000000596\n",
      "Keyword: 'useful os time', Score: nan\n",
      "Keyword: 'third tool', Score: nan\n",
      "Keyword: 'asmsim', Score: nan\n",
      "Keyword: 'preceding', Score: 0.15000000596\n",
      "Keyword: 'receipt', Score: 0.15000000596\n",
      "Keyword: 'ready event', Score: nan\n",
      "Keyword: 'order', Score: nan\n",
      "Keyword: 'late', Score: nan\n",
      "Keyword: 'approach', Score: nan\n",
      "Keyword: 'inaccuracy', Score: 0.15000000596\n",
      "Keyword: 'reality', Score: nan\n",
      "Keyword: 'seeing', Score: 0.15000000596\n",
      "Keyword: 'dependence', Score: nan\n",
      "Keyword: 'rare', Score: 0.15000000596\n",
      "Keyword: 'significant error', Score: nan\n",
      "Keyword: 'strategy b.', Score: nan\n",
      "Keyword: 'letter g', Score: nan\n",
      "Keyword: 'letter s', Score: nan\n",
      "Keyword: 'supplement', Score: nan\n",
      "Keyword: 'thing', Score: nan\n",
      "Keyword: 'optimal energy saving attainable', Score: nan\n",
      "Keyword: 'optimum strategy', Score: nan\n",
      "Keyword: 'non-useful time', Score: nan\n",
      "Keyword: 'foreknowledge', Score: nan\n",
      "Keyword: 'absolute ceiling', Score: nan\n",
      "Keyword: 'realizable strategy', Score: nan\n",
      "Keyword: 'high figure', Score: nan\n",
      "Keyword: 'doing useful computation', Score: nan\n",
      "Keyword: 'idling', Score: nan\n",
      "Keyword: 'second simulation', Score: nan\n",
      "Keyword: 'concern strategy', Score: nan\n",
      "Keyword: 'overall workload completion time', Score: nan\n",
      "Keyword: 'energy consumption', Score: nan\n",
      "Keyword: 'optimal strategy', Score: nan\n",
      "Keyword: 'cpu time', Score: 0.300000011921\n",
      "Keyword: 'useful cpu time', Score: nan\n",
      "Keyword: 'actual real time', Score: nan\n",
      "Keyword: 'reply', Score: nan\n",
      "Keyword: 'next simulation', Score: nan\n",
      "Keyword: 'concern strategy b', Score: nan\n",
      "Keyword: 'engineer', Score: nan\n",
      "Keyword: 'detailed discussion', Score: nan\n",
      "Keyword: 'collection', Score: nan\n",
      "Keyword: 'current technique', Score: nan\n",
      "Keyword: 'workload completion time', Score: nan\n",
      "Keyword: 'performance versus energy saving graph', Score: nan\n",
      "Keyword: 'strategy using', Score: nan\n",
      "Keyword: 'corresponds', Score: nan\n",
      "Keyword: 'comparing strategy', Score: nan\n",
      "Keyword: 'equal performance ground', Score: nan\n",
      "Keyword: 'increasing', Score: nan\n",
      "Keyword: 'cpu energy', Score: nan\n",
      "Keyword: 'whole story', Score: nan\n",
      "Keyword: 'certain condition', Score: nan\n",
      "Keyword: 'large real time', Score: nan\n",
      "Keyword: 'wakeup period', Score: nan\n",
      "Keyword: 'timely manner', Score: nan\n",
      "Keyword: 'practice', Score: nan\n",
      "Keyword: 'extension factor', Score: nan\n",
      "Keyword: 'desirable', Score: nan\n",
      "Keyword: 'concern strategy big', Score: nan\n",
      "Keyword: 'strategy using greediness', Score: nan\n",
      "Keyword: 'extensive exploration', Score: nan\n",
      "Keyword: 'parameter space', Score: nan\n",
      "Keyword: 'parameter setting giving', Score: nan\n",
      "Keyword: 'best energy saving', Score: nan\n",
      "Keyword: 'performance impact level', Score: nan\n",
      "Keyword: 'comparing strategy big', Score: nan\n",
      "Keyword: 'strategy big reduces', Score: nan\n",
      "Keyword: 'concern strategy bigs', Score: nan\n",
      "Keyword: 'realm', Score: nan\n",
      "Keyword: 'interested', Score: nan\n",
      "Keyword: 'bad', Score: nan\n",
      "Keyword: 'energy saving attainable', Score: nan\n",
      "Keyword: 'low performance cost', Score: nan\n",
      "Keyword: 'best bigs strategy', Score: nan\n",
      "Keyword: 'big strategy', Score: nan\n",
      "Keyword: 'great performance impact', Score: nan\n",
      "Keyword: 'summary', Score: nan\n",
      "Keyword: 'finding', Score: nan\n",
      "Keyword: 'column', Score: 0.15000000596\n",
      "Keyword: '1-6. figure', Score: nan\n",
      "Keyword: 'strategy big', Score: nan\n",
      "Keyword: 'various greediness', Score: nan\n",
      "Keyword: 'curve', Score: 0.15000000596\n",
      "Keyword: 'reader', Score: nan\n",
      "Keyword: 'nonzero origin', Score: nan\n",
      "Keyword: 'sufficient resolution', Score: nan\n",
      "Keyword: 'key feature', Score: nan\n",
      "Keyword: 'strategy bigs', Score: nan\n",
      "Keyword: 'sec', Score: nan\n",
      "Keyword: 'important issue', Score: nan\n",
      "Keyword: 'extent', Score: nan\n",
      "Keyword: 'other workload', Score: nan\n",
      "Keyword: 'unclear', Score: nan\n",
      "Keyword: 'tuning', Score: nan\n",
      "Keyword: 'best way', Score: nan\n",
      "Keyword: 'optimal energy saving', Score: nan\n",
      "Keyword: 'particular value', Score: nan\n",
      "Keyword: 'low sensitivity', Score: nan\n",
      "Keyword: 'varying', Score: nan\n",
      "Keyword: 'wide range', Score: nan\n",
      "Keyword: 'consequent energy saving', Score: nan\n",
      "Keyword: '59-67', Score: 0.15000000596\n",
      "Keyword: 'range 63-71', Score: nan\n",
      "Keyword: 'range 47-56', Score: 0.300000011921\n",
      "Keyword: 'workload corresponding', Score: nan\n",
      "Keyword: 'using parameter', Score: nan\n",
      "Keyword: 'individual', Score: 0.15000000596\n",
      "Keyword: 'superior', Score: nan\n",
      "Keyword: 'fault', Score: 0.15000000596\n",
      "Keyword: 'multiplier parameter', Score: nan\n",
      "Keyword: 'strategy b', Score: nan\n",
      "Keyword: 'specific workload', Score: nan\n",
      "Keyword: 'clear ordering', Score: nan\n",
      "Keyword: 'curious', Score: 0.15000000596\n",
      "Keyword: 'reason strategy', Score: nan\n",
      "Keyword: 'good', Score: nan\n",
      "Keyword: 'requesting', Score: nan\n",
      "Keyword: 'contiguous section', Score: nan\n",
      "Keyword: 'trace lasting', Score: nan\n",
      "Keyword: 'multiplying', Score: nan\n",
      "Keyword: 'able', Score: nan\n",
      "Keyword: 'strategy big beat strategy', Score: nan\n",
      "Keyword: 'new technique', Score: nan\n",
      "Keyword: 'arbitrary parameter', Score: nan\n",
      "Keyword: 'parameter setting', Score: nan\n",
      "Keyword: 'respectable energy saving', Score: nan\n",
      "Keyword: 'conservative', Score: 0.15000000596\n",
      "Keyword: 'reducing workload completion time', Score: nan\n",
      "Keyword: 'broad range', Score: 0.300000011921\n",
      "Keyword: 'ideal parameter', Score: nan\n",
      "Keyword: 'express modem', Score: nan\n",
      "Keyword: 'eworld', Score: 0.15000000596\n",
      "Keyword: 'amusing', Score: nan\n",
      "Keyword: 'desktop interface application', Score: nan\n",
      "Keyword: 'suggestion', Score: nan\n",
      "Keyword: 'designer', Score: nan\n",
      "Keyword: 'rigorous management', Score: nan\n",
      "Keyword: 'coming', Score: nan\n",
      "Keyword: 'different class', Score: nan\n",
      "Keyword: 'running other os code', Score: nan\n",
      "Keyword: 'nonuseful time', Score: nan\n",
      "Keyword: 'useful time', Score: nan\n",
      "Keyword: 'cycle', Score: nan\n",
      "Keyword: 'cycling time', Score: nan\n",
      "Keyword: 'standard font', Score: nan\n",
      "Keyword: 'source', Score: 0.15000000596\n",
      "Keyword: 'looking', Score: nan\n",
      "Keyword: 'italic figure', Score: nan\n",
      "Keyword: 'hour cycling', Score: nan\n",
      "Keyword: 'performing nonuseful', Score: nan\n",
      "Keyword: 'switching nonuseful', Score: nan\n",
      "Keyword: 'technique attempt', Score: nan\n",
      "Keyword: 'doing anything', Score: nan\n",
      "Keyword: 'doing little', Score: nan\n",
      "Keyword: 'getting', Score: 0.15000000596\n",
      "Keyword: 'scheduler time', Score: nan\n",
      "Keyword: 'saving stem', Score: nan\n",
      "Keyword: 'scheduling nonuseful', Score: nan\n",
      "Keyword: 'running nonuseful', Score: nan\n",
      "Keyword: 'less time scheduling nonuseful', Score: nan\n",
      "Keyword: 'few nonuseful', Score: nan\n",
      "Keyword: 'less time', Score: nan\n",
      "Keyword: 'saving time', Score: nan\n",
      "Keyword: 'other hand', Score: nan\n",
      "Keyword: 'conversion', Score: nan\n",
      "Keyword: 'strategy big stem', Score: nan\n",
      "Keyword: 'useless task', Score: nan\n",
      "Keyword: 'bold number', Score: nan\n",
      "Keyword: 'half', Score: nan\n",
      "Keyword: 'due', Score: 0.15000000596\n",
      "Keyword: 'same amount', Score: nan\n",
      "Keyword: 'low absolute number', Score: nan\n",
      "Keyword: 'low amount', Score: nan\n",
      "Keyword: 'great amount', Score: nan\n",
      "Keyword: 'os time', Score: 0.300000011921\n",
      "Keyword: 'maintaining', Score: nan\n",
      "Keyword: 'same performance impact', Score: nan\n",
      "Keyword: 'main observation', Score: nan\n",
      "Keyword: 'few useful', Score: nan\n",
      "Keyword: 'to-', Score: nan\n",
      "Keyword: 'less performance impact', Score: nan\n",
      "Keyword: 'adding', Score: nan\n",
      "Keyword: 'managing', Score: nan\n",
      "Keyword: 'same level', Score: nan\n",
      "Keyword: 'absolute level', Score: nan\n",
      "Keyword: 'absolute energy saving', Score: nan\n",
      "Keyword: 'optimal power reduction', Score: nan\n",
      "Keyword: 'helpful', Score: 0.15000000596\n",
      "Keyword: 'saving attainable', Score: nan\n",
      "Keyword: 'attempting', Score: nan\n",
      "Keyword: 'worthwhile', Score: 0.15000000596\n",
      "Keyword: 'adjusting', Score: 0.15000000596\n",
      "Keyword: 'pronounced', Score: 0.15000000596\n",
      "Keyword: 'low performance impact regime', Score: nan\n",
      "Keyword: 'extending real-time', Score: nan\n",
      "Keyword: 'undesirable effect', Score: nan\n",
      "Keyword: 'system performance', Score: nan\n",
      "Keyword: 'functionality', Score: 0.15000000596\n",
      "Keyword: 'ideal parameter setting', Score: nan\n",
      "Keyword: 'consistent functioning', Score: nan\n",
      "Keyword: 'successful', Score: nan\n",
      "Keyword: 'naive parameter-setting', Score: nan\n",
      "Keyword: 'anomalous case', Score: nan\n",
      "Keyword: 'vulnerability', Score: nan\n",
      "Keyword: 'poor application behavior', Score: nan\n",
      "Keyword: 'suggesting', Score: nan\n",
      "Keyword: 'duo', Score: 0.15000000596\n",
      "Keyword: 'w', Score: nan\n",
      "Keyword: 'current power management technique', Score: nan\n",
      "Keyword: 'assuming', Score: 0.15000000596\n",
      "Keyword: 'extra time', Score: nan\n",
      "Keyword: 'average power level', Score: nan\n",
      "Keyword: 'average total power consumption', Score: nan\n",
      "Keyword: 'yielding', Score: nan\n",
      "Keyword: 'previous study', Score: nan\n",
      "Keyword: 'different workload', Score: nan\n",
      "Keyword: 'other single-user operating system', Score: nan\n",
      "Keyword: 'unfair', Score: nan\n",
      "Keyword: 'single', Score: nan\n",
      "Keyword: 'event using peekmessage', Score: nan\n",
      "Keyword: 'getmessage', Score: nan\n",
      "Keyword: 'waitmessage', Score: nan\n",
      "Keyword: 'place', Score: nan\n",
      "Keyword: 'sort', Score: nan\n",
      "Keyword: 'several way', Score: nan\n",
      "Keyword: 'additional trace', Score: nan\n",
      "Keyword: 'large variety', Score: nan\n",
      "Keyword: 'select parameter value', Score: nan\n",
      "Keyword: 'dynamic variation', Score: nan\n",
      "Keyword: 'different type', Score: nan\n",
      "Keyword: 'respect', Score: 0.15000000596\n",
      "Keyword: 'power-saving technique', Score: nan\n",
      "Keyword: 'possibility', Score: nan\n",
      "Keyword: 'software strategy', Score: nan\n",
      "Keyword: 'power saving mode', Score: nan\n",
      "Keyword: 'date', Score: nan\n",
      "Keyword: 'clock rate', Score: nan\n",
      "Keyword: 'voltage', Score: nan\n",
      "Keyword: 'information useful', Score: nan\n",
      "Keyword: 'predicting', Score: nan\n",
      "Keyword: 'theoretical optimum', Score: nan\n",
      "Keyword: 'computer system', Score: nan\n",
      "Keyword: 'becoming', Score: nan\n",
      "Keyword: 'important factor', Score: nan\n",
      "Keyword: 'large percentage', Score: nan\n",
      "Keyword: 'inactive', Score: nan\n",
      "Keyword: 'execute', Score: nan\n",
      "Keyword: 'producing output', Score: nan\n",
      "Keyword: 'signaling useful activity', Score: nan\n",
      "Keyword: 'frequency', Score: 0.15000000596\n",
      "Keyword: 'nothing interesting', Score: nan\n",
      "Keyword: 'similar phenomenon', Score: nan\n",
      "Keyword: '47-66', Score: nan\n",
      "Keyword: '26-53', Score: nan\n",
      "Keyword: 'simple strategy', Score: nan\n",
      "Keyword: 'consideration', Score: nan\n",
      "Keyword: 'system power', Score: nan\n",
      "Keyword: 'best subset', Score: nan\n",
      "Keyword: 'macintosh portable', Score: nan\n",
      "Keyword: 'small loss', Score: nan\n",
      "Keyword: 'effective system performance', Score: nan\n",
      "Keyword: 'continuing', Score: 0.15000000596\n",
      "Keyword: 'topic', Score: nan\n",
      "Keyword: 'many people', Score: nan\n",
      "Keyword: 'preparation', Score: nan\n",
      "Keyword: 'gratitude', Score: 0.15000000596\n",
      "Keyword: 'marianne hsiung', Score: nan\n",
      "Keyword: 'behalf', Score: nan\n",
      "Keyword: 'phil sohn', Score: nan\n",
      "Keyword: 'general guidance', Score: nan\n",
      "Keyword: 'project', Score: nan\n",
      "Keyword: 'sfarzo', Score: nan\n",
      "Keyword: 'distribution', Score: nan\n",
      "Keyword: 'data file', Score: nan\n",
      "Keyword: 'working', Score: 0.15000000596\n",
      "Keyword: 'helder ramalho', Score: nan\n",
      "Keyword: 'invaluable information', Score: nan\n",
      "Keyword: 'cycling technique work', Score: nan\n",
      "Keyword: 'falkenburg', Score: nan\n",
      "Keyword: 'jim goche', Score: nan\n",
      "Keyword: 'trap handler programming critical', Score: nan\n",
      "Keyword: 'larry heil', Score: nan\n",
      "Keyword: 'apple portable group', Score: nan\n",
      "Keyword: 'reviewer', Score: nan\n",
      "Keyword: 'original version', Score: nan\n",
      "Keyword: 'insightful comment', Score: nan\n",
      "Keyword: 'volume vi', Score: nan\n",
      "Keyword: 'addison wesley publishing company', Score: nan\n",
      "Keyword: 'reading', Score: nan\n",
      "Keyword: 'ma', Score: nan\n",
      "Keyword: 'window api bible', Score: nan\n",
      "Keyword: 'waite group press', Score: nan\n",
      "Keyword: 'corte madera', Score: nan\n",
      "Keyword: 'proceeding', Score: 0.15000000596\n",
      "Keyword: 'ieee international computer society conference', Score: nan\n",
      "Keyword: 'san francisco', Score: nan\n",
      "Keyword: '307-315', Score: nan\n",
      "Keyword: 'february', Score: nan\n",
      "Keyword: 'modeling', Score: nan\n",
      "Keyword: 'cycling technique', Score: nan\n",
      "Keyword: 'performance evaluation group technical', Score: nan\n",
      "Keyword: 'integrated system', Score: nan\n",
      "Keyword: 'picture', Score: 0.15000000596\n",
      "Keyword: 'thesis', Score: nan\n",
      "Keyword: 'computer science', Score: nan\n",
      "Keyword: 'university', Score: nan\n",
      "Keyword: 'berkeley', Score: nan\n"
     ]
    }
   ],
   "source": [
    "phrase_scores = []\n",
    "keywords = []\n",
    "for phrase in unique_phrases:\n",
    "    phrase_score=0\n",
    "    keyword = ''\n",
    "    for word in phrase:\n",
    "        keyword += str(word)\n",
    "        keyword += \" \"\n",
    "        phrase_score+=score[vocabulary.index(word)]\n",
    "    phrase_scores.append(phrase_score)\n",
    "    keywords.append(keyword.strip())\n",
    "\n",
    "i=0\n",
    "for keyword in keywords:\n",
    "    print \"Keyword: '\"+str(keyword)+\"', Score: \"+str(phrase_scores[i])\n",
    "    i+=1"
   ]
  },
  {
   "cell_type": "code",
   "execution_count": 31,
   "metadata": {
    "collapsed": false
   },
   "outputs": [
    {
     "name": "stdout",
     "output_type": "stream",
     "text": [
      "Keywords:\n",
      "\n",
      "berkeley,  optimal energy saving attainable,  real time,  real time system,  common occurrence,  unblocked,  default behavior,  microsoft window,  unix,  other operating system, \n"
     ]
    }
   ],
   "source": [
    "sorted_index = np.flip(np.argsort(phrase_scores),0)\n",
    "\n",
    "keywords_num = 10\n",
    "\n",
    "print \"Keywords:\\n\"\n",
    "\n",
    "for i in xrange(0,keywords_num):\n",
    "    print str(keywords[sorted_index[i]])+\", \","
   ]
  },
  {
   "cell_type": "code",
   "execution_count": null,
   "metadata": {
    "collapsed": true
   },
   "outputs": [],
   "source": []
  }
 ],
 "metadata": {
  "anaconda-cloud": {},
  "kernelspec": {
   "display_name": "Python [Root]",
   "language": "python",
   "name": "Python [Root]"
  },
  "language_info": {
   "codemirror_mode": {
    "name": "ipython",
    "version": 2
   },
   "file_extension": ".py",
   "mimetype": "text/x-python",
   "name": "python",
   "nbconvert_exporter": "python",
   "pygments_lexer": "ipython2",
   "version": "2.7.12"
  }
 },
 "nbformat": 4,
 "nbformat_minor": 2
}
