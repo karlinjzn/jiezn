{
 "cells": [
  {
   "cell_type": "code",
   "execution_count": 1,
   "metadata": {
    "collapsed": true
   },
   "outputs": [],
   "source": [
    "%matplotlib inline\n",
    "\n",
    "import io\n",
    "import matplotlib.pyplot as plt\n",
    "import numpy as np\n",
    "import glob"
   ]
  },
  {
   "cell_type": "code",
   "execution_count": 41,
   "metadata": {
    "collapsed": false
   },
   "outputs": [],
   "source": [
    "f_s_b_time = []\n",
    "f_s_d_time = []\n",
    "f_s_n_time = []\n",
    "f_w_b_time = []\n",
    "f_w_d_time = []\n",
    "f_w_n_time = []\n",
    "\n",
    "m_s_b_time = []\n",
    "m_s_d_time = []\n",
    "m_s_n_time = []\n",
    "m_w_b_time = []\n",
    "m_w_d_time = []\n",
    "m_w_n_time = []"
   ]
  },
  {
   "cell_type": "code",
   "execution_count": 42,
   "metadata": {
    "collapsed": false
   },
   "outputs": [],
   "source": [
    "files = glob.glob('doe_data_female/*_s_b.txt')\n",
    "for f in files:\n",
    "    temp = []\n",
    "    f1 = io.open(f, 'r', encoding='utf-8')\n",
    "    text = f1.read()\n",
    "    data = text.split(',')\n",
    "    for i in range(29):\n",
    "        temp.append(data[17+i*10])\n",
    "    tempf = [float(i) for i in temp]\n",
    "    f_s_b_time.append(tempf)\n",
    "    f1.close()"
   ]
  },
  {
   "cell_type": "code",
   "execution_count": 44,
   "metadata": {
    "collapsed": true
   },
   "outputs": [],
   "source": [
    "files = glob.glob('doe_data_female/*_s_d.txt')\n",
    "for f in files:\n",
    "    temp = []\n",
    "    f1 = io.open(f, 'r', encoding='utf-8')\n",
    "    text = f1.read()\n",
    "    data = text.split(',')\n",
    "    for i in range(29):\n",
    "        temp.append(data[17+i*10])\n",
    "    tempf = [float(i) for i in temp]\n",
    "    f_s_d_time.append(tempf)\n",
    "    f1.close()"
   ]
  },
  {
   "cell_type": "code",
   "execution_count": 46,
   "metadata": {
    "collapsed": true
   },
   "outputs": [],
   "source": [
    "files = glob.glob('doe_data_female/*_s_n.txt')\n",
    "for f in files:\n",
    "    temp = []\n",
    "    f1 = io.open(f, 'r', encoding='utf-8')\n",
    "    text = f1.read()\n",
    "    data = text.split(',')\n",
    "    for i in range(29):\n",
    "        temp.append(data[17+i*10])\n",
    "    tempf = [float(i) for i in temp]\n",
    "    f_s_n_time.append(tempf)\n",
    "    f1.close()"
   ]
  },
  {
   "cell_type": "code",
   "execution_count": 47,
   "metadata": {
    "collapsed": true
   },
   "outputs": [],
   "source": [
    "files = glob.glob('doe_data_female/*_w_b.txt')\n",
    "for f in files:\n",
    "    temp = []\n",
    "    f1 = io.open(f, 'r', encoding='utf-8')\n",
    "    text = f1.read()\n",
    "    data = text.split(',')\n",
    "    for i in range(29):\n",
    "        temp.append(data[17+i*10])\n",
    "    tempf = [float(i) for i in temp]\n",
    "    f_w_b_time.append(tempf)\n",
    "    f1.close()"
   ]
  },
  {
   "cell_type": "code",
   "execution_count": 48,
   "metadata": {
    "collapsed": true
   },
   "outputs": [],
   "source": [
    "files = glob.glob('doe_data_female/*_w_d.txt')\n",
    "for f in files:\n",
    "    temp = []\n",
    "    f1 = io.open(f, 'r', encoding='utf-8')\n",
    "    text = f1.read()\n",
    "    data = text.split(',')\n",
    "    for i in range(29):\n",
    "        temp.append(data[17+i*10])\n",
    "    tempf = [float(i) for i in temp]\n",
    "    f_w_d_time.append(tempf)\n",
    "    f1.close()"
   ]
  },
  {
   "cell_type": "code",
   "execution_count": 49,
   "metadata": {
    "collapsed": true
   },
   "outputs": [],
   "source": [
    "files = glob.glob('doe_data_female/*_w_n.txt')\n",
    "for f in files:\n",
    "    temp = []\n",
    "    f1 = io.open(f, 'r', encoding='utf-8')\n",
    "    text = f1.read()\n",
    "    data = text.split(',')\n",
    "    for i in range(29):\n",
    "        temp.append(data[17+i*10])\n",
    "    tempf = [float(i) for i in temp]\n",
    "    f_w_n_time.append(tempf)\n",
    "    f1.close()"
   ]
  },
  {
   "cell_type": "code",
   "execution_count": 50,
   "metadata": {
    "collapsed": true
   },
   "outputs": [],
   "source": [
    "files = glob.glob('doe_data_male/*_s_b.txt')\n",
    "for f in files:\n",
    "    temp = []\n",
    "    f1 = io.open(f, 'r', encoding='utf-8')\n",
    "    text = f1.read()\n",
    "    data = text.split(',')\n",
    "    for i in range(29):\n",
    "        temp.append(data[17+i*10])\n",
    "    tempf = [float(i) for i in temp]\n",
    "    m_s_b_time.append(tempf)\n",
    "    f1.close()"
   ]
  },
  {
   "cell_type": "code",
   "execution_count": 51,
   "metadata": {
    "collapsed": true
   },
   "outputs": [],
   "source": [
    "files = glob.glob('doe_data_male/*_s_d.txt')\n",
    "for f in files:\n",
    "    temp = []\n",
    "    f1 = io.open(f, 'r', encoding='utf-8')\n",
    "    text = f1.read()\n",
    "    data = text.split(',')\n",
    "    for i in range(29):\n",
    "        temp.append(data[17+i*10])\n",
    "    tempf = [float(i) for i in temp]\n",
    "    m_s_d_time.append(tempf)\n",
    "    f1.close()"
   ]
  },
  {
   "cell_type": "code",
   "execution_count": 52,
   "metadata": {
    "collapsed": true
   },
   "outputs": [],
   "source": [
    "files = glob.glob('doe_data_male/*_s_n.txt')\n",
    "for f in files:\n",
    "    temp = []\n",
    "    f1 = io.open(f, 'r', encoding='utf-8')\n",
    "    text = f1.read()\n",
    "    data = text.split(',')\n",
    "    for i in range(29):\n",
    "        temp.append(data[17+i*10])\n",
    "    tempf = [float(i) for i in temp]\n",
    "    m_s_n_time.append(tempf)\n",
    "    f1.close()"
   ]
  },
  {
   "cell_type": "code",
   "execution_count": 53,
   "metadata": {
    "collapsed": true
   },
   "outputs": [],
   "source": [
    "files = glob.glob('doe_data_male/*_w_b.txt')\n",
    "for f in files:\n",
    "    temp = []\n",
    "    f1 = io.open(f, 'r', encoding='utf-8')\n",
    "    text = f1.read()\n",
    "    data = text.split(',')\n",
    "    for i in range(29):\n",
    "        temp.append(data[17+i*10])\n",
    "    tempf = [float(i) for i in temp]\n",
    "    m_w_b_time.append(tempf)\n",
    "    f1.close()"
   ]
  },
  {
   "cell_type": "code",
   "execution_count": 54,
   "metadata": {
    "collapsed": true
   },
   "outputs": [],
   "source": [
    "files = glob.glob('doe_data_male/*_w_d.txt')\n",
    "for f in files:\n",
    "    temp = []\n",
    "    f1 = io.open(f, 'r', encoding='utf-8')\n",
    "    text = f1.read()\n",
    "    data = text.split(',')\n",
    "    for i in range(29):\n",
    "        temp.append(data[17+i*10])\n",
    "    tempf = [float(i) for i in temp]\n",
    "    m_w_d_time.append(tempf)\n",
    "    f1.close()"
   ]
  },
  {
   "cell_type": "code",
   "execution_count": 55,
   "metadata": {
    "collapsed": true
   },
   "outputs": [],
   "source": [
    "files = glob.glob('doe_data_male/*_w_n.txt')\n",
    "for f in files:\n",
    "    temp = []\n",
    "    f1 = io.open(f, 'r', encoding='utf-8')\n",
    "    text = f1.read()\n",
    "    data = text.split(',')\n",
    "    for i in range(29):\n",
    "        temp.append(data[17+i*10])\n",
    "    tempf = [float(i) for i in temp]\n",
    "    m_w_n_time.append(tempf)\n",
    "    f1.close()"
   ]
  },
  {
   "cell_type": "code",
   "execution_count": 163,
   "metadata": {
    "collapsed": false
   },
   "outputs": [
    {
     "name": "stdout",
     "output_type": "stream",
     "text": [
      "2409.93816885\n",
      "7077.51991677\n",
      "16437.6633637\n",
      "16401.3581302\n",
      "17005.8887039\n",
      "15512.9503237\n"
     ]
    }
   ],
   "source": [
    "for i in range(6):\n",
    "    print np.mean(m_w_n_time[i])"
   ]
  },
  {
   "cell_type": "code",
   "execution_count": 126,
   "metadata": {
    "collapsed": false
   },
   "outputs": [
    {
     "data": {
      "text/plain": [
       "29"
      ]
     },
     "execution_count": 126,
     "metadata": {},
     "output_type": "execute_result"
    }
   ],
   "source": [
    "len(f_s_b_time[0])"
   ]
  },
  {
   "cell_type": "code",
   "execution_count": 83,
   "metadata": {
    "collapsed": true
   },
   "outputs": [],
   "source": [
    "f_s_b_x = []\n",
    "f_s_d_x = []\n",
    "f_s_n_x = []\n",
    "f_w_b_x = []\n",
    "f_w_d_x = []\n",
    "f_w_n_x = []\n",
    "\n",
    "m_s_b_x = []\n",
    "m_s_d_x = []\n",
    "m_s_n_x = []\n",
    "m_w_b_x = []\n",
    "m_w_d_x = []\n",
    "m_w_n_x = []"
   ]
  },
  {
   "cell_type": "code",
   "execution_count": 84,
   "metadata": {
    "collapsed": false
   },
   "outputs": [],
   "source": [
    "files = glob.glob('doe_data_female/*_s_b.txt')\n",
    "for f in files:\n",
    "    temp = []\n",
    "    f1 = io.open(f, 'r', encoding='utf-8')\n",
    "    text = f1.read()\n",
    "    data = text.split(',')\n",
    "    for i in range(29):\n",
    "        temp.append(float(data[14+i*10])-float(data[12+i*10]))\n",
    "    tempf = [float(i) for i in temp]\n",
    "    f_s_b_x.append(tempf)\n",
    "    f1.close()\n",
    "\n",
    "files = glob.glob('doe_data_female/*_s_d.txt')\n",
    "for f in files:\n",
    "    temp = []\n",
    "    f1 = io.open(f, 'r', encoding='utf-8')\n",
    "    text = f1.read()\n",
    "    data = text.split(',')\n",
    "    for i in range(29):\n",
    "        temp.append(float(data[14+i*10])-float(data[12+i*10]))\n",
    "    tempf = [float(i) for i in temp]\n",
    "    f_s_d_x.append(tempf)\n",
    "    f1.close()\n",
    "\n",
    "files = glob.glob('doe_data_female/*_s_n.txt')\n",
    "for f in files:\n",
    "    temp = []\n",
    "    f1 = io.open(f, 'r', encoding='utf-8')\n",
    "    text = f1.read()\n",
    "    data = text.split(',')\n",
    "    for i in range(29):\n",
    "        temp.append(float(data[14+i*10])-float(data[12+i*10]))\n",
    "    tempf = [float(i) for i in temp]\n",
    "    f_s_n_x.append(tempf)\n",
    "    f1.close()\n",
    "\n",
    "files = glob.glob('doe_data_female/*_w_b.txt')\n",
    "for f in files:\n",
    "    temp = []\n",
    "    f1 = io.open(f, 'r', encoding='utf-8')\n",
    "    text = f1.read()\n",
    "    data = text.split(',')\n",
    "    for i in range(29):\n",
    "        temp.append(float(data[14+i*10])-float(data[12+i*10]))\n",
    "    tempf = [float(i) for i in temp]\n",
    "    f_w_b_x.append(tempf)\n",
    "    f1.close()\n",
    "\n",
    "files = glob.glob('doe_data_female/*_w_d.txt')\n",
    "for f in files:\n",
    "    temp = []\n",
    "    f1 = io.open(f, 'r', encoding='utf-8')\n",
    "    text = f1.read()\n",
    "    data = text.split(',')\n",
    "    for i in range(29):\n",
    "        temp.append(float(data[14+i*10])-float(data[12+i*10]))\n",
    "    tempf = [float(i) for i in temp]\n",
    "    f_w_d_x.append(tempf)\n",
    "    f1.close()\n",
    "\n",
    "files = glob.glob('doe_data_female/*_w_n.txt')\n",
    "for f in files:\n",
    "    temp = []\n",
    "    f1 = io.open(f, 'r', encoding='utf-8')\n",
    "    text = f1.read()\n",
    "    data = text.split(',')\n",
    "    for i in range(29):\n",
    "        temp.append(float(data[14+i*10])-float(data[12+i*10]))\n",
    "    tempf = [float(i) for i in temp]\n",
    "    f_w_n_x.append(tempf)\n",
    "    f1.close()\n",
    "\n",
    "files = glob.glob('doe_data_male/*_s_b.txt')\n",
    "for f in files:\n",
    "    temp = []\n",
    "    f1 = io.open(f, 'r', encoding='utf-8')\n",
    "    text = f1.read()\n",
    "    data = text.split(',')\n",
    "    for i in range(29):\n",
    "        temp.append(float(data[14+i*10])-float(data[12+i*10]))\n",
    "    tempf = [float(i) for i in temp]\n",
    "    m_s_b_x.append(tempf)\n",
    "    f1.close()\n",
    "\n",
    "files = glob.glob('doe_data_male/*_s_d.txt')\n",
    "for f in files:\n",
    "    temp = []\n",
    "    f1 = io.open(f, 'r', encoding='utf-8')\n",
    "    text = f1.read()\n",
    "    data = text.split(',')\n",
    "    for i in range(29):\n",
    "        temp.append(float(data[14+i*10])-float(data[12+i*10]))\n",
    "    tempf = [float(i) for i in temp]\n",
    "    m_s_d_x.append(tempf)\n",
    "    f1.close()\n",
    "\n",
    "files = glob.glob('doe_data_male/*_s_n.txt')\n",
    "for f in files:\n",
    "    temp = []\n",
    "    f1 = io.open(f, 'r', encoding='utf-8')\n",
    "    text = f1.read()\n",
    "    data = text.split(',')\n",
    "    for i in range(29):\n",
    "        temp.append(float(data[14+i*10])-float(data[12+i*10]))\n",
    "    tempf = [float(i) for i in temp]\n",
    "    m_s_n_x.append(tempf)\n",
    "    f1.close()\n",
    "\n",
    "files = glob.glob('doe_data_male/*_w_b.txt')\n",
    "for f in files:\n",
    "    temp = []\n",
    "    f1 = io.open(f, 'r', encoding='utf-8')\n",
    "    text = f1.read()\n",
    "    data = text.split(',')\n",
    "    for i in range(29):\n",
    "        temp.append(float(data[14+i*10])-float(data[12+i*10]))\n",
    "    tempf = [float(i) for i in temp]\n",
    "    m_w_b_x.append(tempf)\n",
    "    f1.close()\n",
    "\n",
    "files = glob.glob('doe_data_male/*_w_d.txt')\n",
    "for f in files:\n",
    "    temp = []\n",
    "    f1 = io.open(f, 'r', encoding='utf-8')\n",
    "    text = f1.read()\n",
    "    data = text.split(',')\n",
    "    for i in range(29):\n",
    "        temp.append(float(data[14+i*10])-float(data[12+i*10]))\n",
    "    tempf = [float(i) for i in temp]\n",
    "    m_w_d_x.append(tempf)\n",
    "    f1.close()\n",
    "\n",
    "files = glob.glob('doe_data_male/*_w_n.txt')\n",
    "for f in files:\n",
    "    temp = []\n",
    "    f1 = io.open(f, 'r', encoding='utf-8')\n",
    "    text = f1.read()\n",
    "    data = text.split(',')\n",
    "    for i in range(29):\n",
    "        temp.append(float(data[14+i*10])-float(data[12+i*10]))\n",
    "    tempf = [float(i) for i in temp]\n",
    "    m_w_n_x.append(tempf)\n",
    "    f1.close()"
   ]
  },
  {
   "cell_type": "code",
   "execution_count": 138,
   "metadata": {
    "collapsed": true
   },
   "outputs": [],
   "source": [
    "f_s_b_y = []\n",
    "f_s_d_y = []\n",
    "f_s_n_y = []\n",
    "f_w_b_y = []\n",
    "f_w_d_y = []\n",
    "f_w_n_y = []\n",
    "\n",
    "m_s_b_y = []\n",
    "m_s_d_y = []\n",
    "m_s_n_y = []\n",
    "m_w_b_y = []\n",
    "m_w_d_y = []\n",
    "m_w_n_y = []"
   ]
  },
  {
   "cell_type": "code",
   "execution_count": 139,
   "metadata": {
    "collapsed": true
   },
   "outputs": [],
   "source": [
    "files = glob.glob('doe_data_female/*_s_b.txt')\n",
    "for f in files:\n",
    "    temp = []\n",
    "    f1 = io.open(f, 'r', encoding='utf-8')\n",
    "    text = f1.read()\n",
    "    data = text.split(',')\n",
    "    for i in range(29):\n",
    "        temp.append(float(data[15+i*10])-float(data[13+i*10]))\n",
    "    tempf = [float(i) for i in temp]\n",
    "    f_s_b_y.append(tempf)\n",
    "    f1.close()\n",
    "\n",
    "files = glob.glob('doe_data_female/*_s_d.txt')\n",
    "for f in files:\n",
    "    temp = []\n",
    "    f1 = io.open(f, 'r', encoding='utf-8')\n",
    "    text = f1.read()\n",
    "    data = text.split(',')\n",
    "    for i in range(29):\n",
    "        temp.append(float(data[15+i*10])-float(data[13+i*10]))\n",
    "    tempf = [float(i) for i in temp]\n",
    "    f_s_d_y.append(tempf)\n",
    "    f1.close()\n",
    "\n",
    "files = glob.glob('doe_data_female/*_s_n.txt')\n",
    "for f in files:\n",
    "    temp = []\n",
    "    f1 = io.open(f, 'r', encoding='utf-8')\n",
    "    text = f1.read()\n",
    "    data = text.split(',')\n",
    "    for i in range(29):\n",
    "        temp.append(float(data[15+i*10])-float(data[13+i*10]))\n",
    "    tempf = [float(i) for i in temp]\n",
    "    f_s_n_y.append(tempf)\n",
    "    f1.close()\n",
    "\n",
    "files = glob.glob('doe_data_female/*_w_b.txt')\n",
    "for f in files:\n",
    "    temp = []\n",
    "    f1 = io.open(f, 'r', encoding='utf-8')\n",
    "    text = f1.read()\n",
    "    data = text.split(',')\n",
    "    for i in range(29):\n",
    "        temp.append(float(data[15+i*10])-float(data[13+i*10]))\n",
    "    tempf = [float(i) for i in temp]\n",
    "    f_w_b_y.append(tempf)\n",
    "    f1.close()\n",
    "\n",
    "files = glob.glob('doe_data_female/*_w_d.txt')\n",
    "for f in files:\n",
    "    temp = []\n",
    "    f1 = io.open(f, 'r', encoding='utf-8')\n",
    "    text = f1.read()\n",
    "    data = text.split(',')\n",
    "    for i in range(29):\n",
    "        temp.append(float(data[15+i*10])-float(data[13+i*10]))\n",
    "    tempf = [float(i) for i in temp]\n",
    "    f_w_d_y.append(tempf)\n",
    "    f1.close()\n",
    "\n",
    "files = glob.glob('doe_data_female/*_w_n.txt')\n",
    "for f in files:\n",
    "    temp = []\n",
    "    f1 = io.open(f, 'r', encoding='utf-8')\n",
    "    text = f1.read()\n",
    "    data = text.split(',')\n",
    "    for i in range(29):\n",
    "        temp.append(float(data[15+i*10])-float(data[13+i*10]))\n",
    "    tempf = [float(i) for i in temp]\n",
    "    f_w_n_y.append(tempf)\n",
    "    f1.close()\n",
    "\n",
    "files = glob.glob('doe_data_male/*_s_b.txt')\n",
    "for f in files:\n",
    "    temp = []\n",
    "    f1 = io.open(f, 'r', encoding='utf-8')\n",
    "    text = f1.read()\n",
    "    data = text.split(',')\n",
    "    for i in range(29):\n",
    "        temp.append(float(data[15+i*10])-float(data[13+i*10]))\n",
    "    tempf = [float(i) for i in temp]\n",
    "    m_s_b_y.append(tempf)\n",
    "    f1.close()\n",
    "\n",
    "files = glob.glob('doe_data_male/*_s_d.txt')\n",
    "for f in files:\n",
    "    temp = []\n",
    "    f1 = io.open(f, 'r', encoding='utf-8')\n",
    "    text = f1.read()\n",
    "    data = text.split(',')\n",
    "    for i in range(29):\n",
    "        temp.append(float(data[15+i*10])-float(data[13+i*10]))\n",
    "    tempf = [float(i) for i in temp]\n",
    "    m_s_d_y.append(tempf)\n",
    "    f1.close()\n",
    "\n",
    "files = glob.glob('doe_data_male/*_s_n.txt')\n",
    "for f in files:\n",
    "    temp = []\n",
    "    f1 = io.open(f, 'r', encoding='utf-8')\n",
    "    text = f1.read()\n",
    "    data = text.split(',')\n",
    "    for i in range(29):\n",
    "        temp.append(float(data[15+i*10])-float(data[13+i*10]))\n",
    "    tempf = [float(i) for i in temp]\n",
    "    m_s_n_y.append(tempf)\n",
    "    f1.close()\n",
    "\n",
    "files = glob.glob('doe_data_male/*_w_b.txt')\n",
    "for f in files:\n",
    "    temp = []\n",
    "    f1 = io.open(f, 'r', encoding='utf-8')\n",
    "    text = f1.read()\n",
    "    data = text.split(',')\n",
    "    for i in range(29):\n",
    "        temp.append(float(data[15+i*10])-float(data[13+i*10]))\n",
    "    tempf = [float(i) for i in temp]\n",
    "    m_w_b_y.append(tempf)\n",
    "    f1.close()\n",
    "\n",
    "files = glob.glob('doe_data_male/*_w_d.txt')\n",
    "for f in files:\n",
    "    temp = []\n",
    "    f1 = io.open(f, 'r', encoding='utf-8')\n",
    "    text = f1.read()\n",
    "    data = text.split(',')\n",
    "    for i in range(29):\n",
    "        temp.append(float(data[15+i*10])-float(data[13+i*10]))\n",
    "    tempf = [float(i) for i in temp]\n",
    "    m_w_d_y.append(tempf)\n",
    "    f1.close()\n",
    "\n",
    "files = glob.glob('doe_data_male/*_w_n.txt')\n",
    "for f in files:\n",
    "    temp = []\n",
    "    f1 = io.open(f, 'r', encoding='utf-8')\n",
    "    text = f1.read()\n",
    "    data = text.split(',')\n",
    "    for i in range(29):\n",
    "        temp.append(float(data[15+i*10])-float(data[13+i*10]))\n",
    "    tempf = [float(i) for i in temp]\n",
    "    m_w_n_y.append(tempf)\n",
    "    f1.close()"
   ]
  },
  {
   "cell_type": "code",
   "execution_count": 163,
   "metadata": {
    "collapsed": false
   },
   "outputs": [
    {
     "name": "stdout",
     "output_type": "stream",
     "text": [
      "67.774078478\n",
      "172.394768133\n",
      "58.6848989298\n",
      "62.0951248514\n",
      "49.3531510107\n",
      "122.739595719\n"
     ]
    }
   ],
   "source": [
    "for i in range(6):\n",
    "    print np.var(f_s_b_y[i])"
   ]
  },
  {
   "cell_type": "code",
   "execution_count": 32,
   "metadata": {
    "collapsed": true
   },
   "outputs": [],
   "source": [
    "files = glob.glob('doe_data_female/*_s_b.txt')\n",
    "for f in files:\n",
    "    temp = []\n",
    "    f1 = io.open(f, 'r', encoding='utf-8')\n",
    "    text = f1.read()\n",
    "    data = text.split(',')\n",
    "    for i in range(29):\n",
    "        temp.append(float(data[15+i*10])-float(data[13+i*10]))\n",
    "    tempf = [float(i) for i in temp]\n",
    "    f_s_b_y.append(tempf)\n",
    "    f1.close()"
   ]
  },
  {
   "cell_type": "code",
   "execution_count": 86,
   "metadata": {
    "collapsed": false
   },
   "outputs": [
    {
     "data": {
      "text/plain": [
       "29"
      ]
     },
     "execution_count": 86,
     "metadata": {},
     "output_type": "execute_result"
    }
   ],
   "source": [
    "len(m_w_n_x[4])"
   ]
  },
  {
   "cell_type": "code",
   "execution_count": 136,
   "metadata": {
    "collapsed": false
   },
   "outputs": [
    {
     "name": "stdout",
     "output_type": "stream",
     "text": [
      "68.0451843044\n",
      "374.696789536\n",
      "125.793103448\n",
      "95.8549346017\n",
      "91.9048751486\n",
      "7952.37098692\n"
     ]
    }
   ],
   "source": [
    "for i in range(6):\n",
    "    print np.var(f_s_b_y[i])"
   ]
  },
  {
   "cell_type": "code",
   "execution_count": 34,
   "metadata": {
    "collapsed": true
   },
   "outputs": [],
   "source": [
    "f_s_b_p = []\n",
    "f_s_d_p = []\n",
    "f_s_n_p = []\n",
    "f_w_b_p = []\n",
    "f_w_d_p = []\n",
    "f_w_n_p = []\n",
    "\n",
    "m_s_b_p = []\n",
    "m_s_d_p = []\n",
    "m_s_n_p = []\n",
    "m_w_b_p = []\n",
    "m_w_d_p = []\n",
    "m_w_n_p = []"
   ]
  },
  {
   "cell_type": "code",
   "execution_count": 38,
   "metadata": {
    "collapsed": false
   },
   "outputs": [],
   "source": [
    "files = glob.glob('doe_data_female/*_s_b.txt')\n",
    "for f in files:\n",
    "    temp = []\n",
    "    f1 = io.open(f, 'r', encoding='utf-8')\n",
    "    text = f1.read()\n",
    "    data = text.split(',')\n",
    "    for i in range(29):\n",
    "        a=float(data[15+i*10])\n",
    "        b=float(data[13+i*10])\n",
    "        c=float(data[14+i*10])\n",
    "        d=float(data[12+i*10])\n",
    "        dev=(a-b)*(a-b)+(c-d)*(c-d)\n",
    "        temp.append(dev)\n",
    "    tempf = [float(i) for i in temp]\n",
    "    f_s_b_p.append(tempf)\n",
    "    f1.close()"
   ]
  },
  {
   "cell_type": "code",
   "execution_count": 40,
   "metadata": {
    "collapsed": false
   },
   "outputs": [
    {
     "data": {
      "text/plain": [
       "29"
      ]
     },
     "execution_count": 40,
     "metadata": {},
     "output_type": "execute_result"
    }
   ],
   "source": [
    "len(f_s_b_p[1])"
   ]
  },
  {
   "cell_type": "code",
   "execution_count": null,
   "metadata": {
    "collapsed": true
   },
   "outputs": [],
   "source": []
  }
 ],
 "metadata": {
  "anaconda-cloud": {},
  "kernelspec": {
   "display_name": "Python [Root]",
   "language": "python",
   "name": "Python [Root]"
  },
  "language_info": {
   "codemirror_mode": {
    "name": "ipython",
    "version": 2
   },
   "file_extension": ".py",
   "mimetype": "text/x-python",
   "name": "python",
   "nbconvert_exporter": "python",
   "pygments_lexer": "ipython2",
   "version": "2.7.12"
  }
 },
 "nbformat": 4,
 "nbformat_minor": 0
}
